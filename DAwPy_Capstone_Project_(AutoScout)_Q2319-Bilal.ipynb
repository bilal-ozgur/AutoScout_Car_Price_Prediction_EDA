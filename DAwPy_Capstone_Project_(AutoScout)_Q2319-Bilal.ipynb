{
 "cells": [
  {
   "cell_type": "markdown",
   "metadata": {
    "id": "Bkw3_pB0s1L-"
   },
   "source": [
    "___\n",
    "\n",
    "<p style=\"text-align: center;\"><img src=\"https://docs.google.com/uc?id=1lY0Uj5R04yMY3-ZppPWxqCr5pvBLYPnV\" class=\"img-fluid\" \n",
    "alt=\"CLRSWY\"></p>\n",
    "\n",
    "## <p style=\"background-color:#FDFEFE; font-family:newtimeroman; color:#9d4f8c; font-size:100%; text-align:center; border-radius:10px 10px;\">WAY TO REINVENT YOURSELF</p>\n",
    "\n",
    "## <p style=\"background-color:#FDFEFE; font-family:newtimeroman; color:#060108; font-size:200%; text-align:center; border-radius:10px 10px;\">DA & DVwPY</p>\n",
    "\n",
    "## <p style=\"background-color:#FDFEFE; font-family:newtimeroman; color:#060108; font-size:200%; text-align:center; border-radius:10px 10px;\">The Exploratory Data Analysis (EDA) Project</p>\n",
    "\n",
    "<img src=https://i.ibb.co/wJW61Y2/Used-cars.jpg width=\"700\" height=\"200\">\n",
    "\n",
    "## <p style=\"background-color:#FDFEFE; font-family:newtimeroman; color:#060108; font-size:200%; text-align:center; border-radius:10px 10px;\">AutoScout Car Price Prediction EDA</p>\n",
    "\n"
   ]
  },
  {
   "cell_type": "markdown",
   "metadata": {
    "id": "Z_oWczxZs1MA"
   },
   "source": [
    "## Introduction\n",
    "Welcome to \"***AutoScout Exploratory Data Analysis (EDA) Project***\". This is the project of completing ***Data Analysis & Data Visualization*** Courses and a successful hand-over is mandatory for getting certification for both courses. **Auto Scout** data used in this project scraped from the Website of an online car trading company in 2022, and contains many features of 13 different car makes including 594 models. In this project, you will have the opportunity to apply many commonly used algorithms for Data Cleaning and Exploratory Data Analysis by using a variety of Python libraries, such as Numpy, Pandas, Matplotlib, Seaborn, Scipy, and then you will get a clean dataset for your analysis and pretictive modelling in Machine Learning Path. So you will have the chance to use all the skills you have already learned in the Data Analysis and Visualization courses.\n",
    "\n",
    "**``In this context, the project consists of 3 parts in general:``**\n",
    "* **The first part** is related to ``'Data Cleaning'``. It deals with Incorrect Headers, Incorrect Format, Anomalies, and Dropping useless columns.\n",
    "* **The second part** is related to ``'Filling Data'``, in other words 'Imputation'. It deals with Missing Values. Categorical to numeric transformation, Encoding, is done as well.\n",
    "* **The third part** is related to ``'Handling Outliers of Data'`` via Visualization libraries. So, some insights will be extracted.\n",
    "\n",
    "**``SPECIAL NOTE:``**  However, you are ``free to create your own style``. You do ``NOT`` have to stick to the steps above. Nevertheless, we, the DA & DV instructors, recommend you study each part separately to create a source notebook for your further studies. \n",
    "\n",
    "In order to build your Portfolio in terms of the GitHub account, you need to push your solution file up to your own repository.\n",
    "\n",
    "Please after solving the task, commit your notebook to GitHub and submit its link to LMS page where the project is settled down.\n",
    "\n",
    "**BE NOTED:** Please ``DO NOT FORGET`` to click the submit button.\n",
    "\n",
    "### Some Reminders on Exploratory data analysis (EDA)\n",
    "\n",
    "Exploratory data analysis (EDA) is an especially important activity in the routine of a data analyst or scientist. It enables an in depth understanding of the dataset, define or discard hypotheses and create predictive models on a solid basis. It uses data manipulation techniques and several statistical tools to describe and understand the relationship between variables and how these can impact business. By means of EDA, we can obtain meaningful insights that can impact analysis under the following questions (If a checklist is good enough for pilots to use every flight, it’s good enough for data scientists to use with every dataset).\n",
    "1. What question are you trying to solve (or prove wrong)?\n",
    "2. What kind of data do you have?\n",
    "3. What’s missing from the data?\n",
    "4. Where are the outliers?\n",
    "5. How can you add, change or remove features to get more out of your data?\n",
    "\n",
    "**``Exploratory data analysis (EDA)``** is often an **iterative brainstorming process** where you pose a question, review the data, and develop further questions to investigate before beginning model development work. The image below shows how the brainstorming phase is connected with that of understanding the variables and how this in turn is connected again with the brainstorming phase.<br>\n",
    "\n",
    "<img src=https://i.ibb.co/k0MC950/EDA-Process.png width=\"300\" height=\"100\">\n",
    "\n",
    "[Image Credit: Andrew D.](https://towardsdatascience.com/exploratory-data-analysis-in-python-a-step-by-step-process-d0dfa6bf94ee)\n",
    "\n"
   ]
  },
  {
   "cell_type": "markdown",
   "metadata": {},
   "source": [
    "<a id=\"1\"></a>\n",
    "<div style=\"border-radius: 10px;\n",
    "            border: black solid;\n",
    "            background-color: #6b5b95;\n",
    "            font-size: 100%;\n",
    "            text-align: left;\n",
    "            box-shadow: 2px 2px 4px rgba(0, 0, 0, 0.5);\">\n",
    "\n",
    "<h2 style=\"border: 0; border-radius: 15px; font-weight: bold; font-size: 220%; color: white\"><center>  Explanations of the features </center></h2>\n",
    "    \n",
    "- **make_model**: Vehicle brand and model.\n",
    "- **short_description**: Brief description.\n",
    "- **make**: Vehicle brand.\n",
    "- **model**: Vehicle model.\n",
    "- **location**: Location of the vehicle.\n",
    "- **price**: Price.\n",
    "- **body_type**: Vehicle body type.\n",
    "- **type**: Vehicle type.\n",
    "- **doors**: Number of doors in the vehicle.\n",
    "- **country_version**: Country version of the vehicle.\n",
    "- **offer_number**: Offer number.\n",
    "- **warranty**: Warranty.\n",
    "- **mileage**: Vehicle mileage information.\n",
    "- **first_registration**: First registration date.\n",
    "- **gearbox**: Gearbox type.\n",
    "- **fuel_type**: Fuel type.\n",
    "- **colour**: Vehicle color.\n",
    "- **paint**: Paint type.\n",
    "- **desc**: Description.\n",
    "- **seller**: Seller.\n",
    "- **seats**: Number of seats in the vehicle.\n",
    "- **power**: Engine power.\n",
    "- **engine_size**: Engine size.\n",
    "- **gears**: Number of gears.\n",
    "- **co_emissions**:  CO₂ emissions.\n",
    "- **manufacturer_colour**: Manufacturer color.\n",
    "- **drivetrain**: Drivetrain type.\n",
    "- **cylinders**: Number of cylinders.\n",
    "- **fuel_consumption**: Fuel consumption.\n",
    "- **comfort_&_convenience**: Comfort and convenience features.\n",
    "- **entertainment_&_media**: Entertainment and media features.\n",
    "- **safety_&_security**: Safety and security features.\n",
    "- **extras**: Extra features.\n",
    "- **empty_weight**: Empty weight.\n",
    "- **model_code**: Model code.\n",
    "- **general_inspection**: General inspection.\n",
    "- **last_service**: Last service.\n",
    "- **full_service_history**: Full service history.\n",
    "- **non_smoker_vehicle**: Non-smoker vehicle.\n",
    "- **emission_class**: Emission class.\n",
    "- **emissions_sticker**: Emissions sticker.\n",
    "- **upholstery_colour**: Upholstery color.\n",
    "- **upholstery**: Upholstery.\n",
    "- **production_date**: Production date.\n",
    "- **previous_owner**: Previous owner.\n",
    "- **other_fuel_types**: Other fuel types.\n",
    "- **power_consumption**: Power consumption.\n",
    "- **energy_efficiency_class**: Energy efficiency class.\n",
    "- **co_efficiency**:  CO₂ efficiency.\n",
    "- **fuel_consumption_wltp**: WLTP fuel consumption.\n",
    "- **co_emissions_wltp**: WLTP  CO₂ emissions.\n",
    "- **available_from**: Available from.\n",
    "- **taxi_or_rental_car**: Taxi or rental car.\n",
    "- **availability**: Availability status.\n",
    "- **last_timing_belt_change**: Last timing belt change.\n",
    "- **electric_range_wltp**: WLTP electric range.\n",
    "- **power_consumption_wltp**: WLTP power consumption.\n",
    "- **battery_ownership**: Battery ownership.\n"
   ]
  },
  {
   "cell_type": "markdown",
   "metadata": {},
   "source": [
    "<a id = \"1\"></a>\n",
    "# <p style=\"background-color:#6b5b95; font-family:newtimeroman;color:#FFF9ED; font-size:150%; text-align:center; border-radius: 15px 50px;\"> Import Libraries </p>"
   ]
  },
  {
   "cell_type": "code",
   "execution_count": 1,
   "metadata": {},
   "outputs": [],
   "source": [
    "import numpy as np \n",
    "import pandas as pd\n",
    "\n",
    "import seaborn as sns\n",
    "import matplotlib.pyplot as plt\n",
    "%matplotlib inline\n",
    "\n",
    "from collections import Counter\n",
    "\n",
    "# !pip install skimpy\n",
    "from skimpy import clean_columns\n",
    "from skimpy import skim\n",
    "\n",
    "import warnings\n",
    "warnings.filterwarnings('ignore')"
   ]
  },
  {
   "cell_type": "code",
   "execution_count": null,
   "metadata": {},
   "outputs": [],
   "source": []
  },
  {
   "cell_type": "markdown",
   "metadata": {},
   "source": [
    "<a id = \"1\"></a>\n",
    "# <p style=\"background-color:#6b5b95; font-family:newtimeroman;color:#FFF9ED; font-size:150%; text-align:center; border-radius: 15px 50px;\"> Reading and understanding data </p>"
   ]
  },
  {
   "cell_type": "code",
   "execution_count": 2,
   "metadata": {
    "scrolled": false
   },
   "outputs": [
    {
     "data": {
      "text/html": [
       "<div>\n",
       "<style scoped>\n",
       "    .dataframe tbody tr th:only-of-type {\n",
       "        vertical-align: middle;\n",
       "    }\n",
       "\n",
       "    .dataframe tbody tr th {\n",
       "        vertical-align: top;\n",
       "    }\n",
       "\n",
       "    .dataframe thead th {\n",
       "        text-align: right;\n",
       "    }\n",
       "</style>\n",
       "<table border=\"1\" class=\"dataframe\">\n",
       "  <thead>\n",
       "    <tr style=\"text-align: right;\">\n",
       "      <th></th>\n",
       "      <th>0</th>\n",
       "      <th>1</th>\n",
       "      <th>2</th>\n",
       "      <th>3</th>\n",
       "      <th>4</th>\n",
       "    </tr>\n",
       "  </thead>\n",
       "  <tbody>\n",
       "    <tr>\n",
       "      <th>make_model</th>\n",
       "      <td>Mercedes-Benz A 160</td>\n",
       "      <td>Mercedes-Benz EQE 350</td>\n",
       "      <td>Mercedes-Benz A 45 AMG</td>\n",
       "      <td>Mercedes-Benz A 35 AMG</td>\n",
       "      <td>Mercedes-Benz A 45 AMG</td>\n",
       "    </tr>\n",
       "    <tr>\n",
       "      <th>short_description</th>\n",
       "      <td>CDi</td>\n",
       "      <td>350+</td>\n",
       "      <td>S 4Matic+ 8G-DCT</td>\n",
       "      <td>4Matic+ 7G-DCT</td>\n",
       "      <td>200CDI BE Line 4M 7G-DCT</td>\n",
       "    </tr>\n",
       "    <tr>\n",
       "      <th>make</th>\n",
       "      <td>\\nMercedes-Benz\\n</td>\n",
       "      <td>\\nMercedes-Benz\\n</td>\n",
       "      <td>\\nMercedes-Benz\\n</td>\n",
       "      <td>\\nMercedes-Benz\\n</td>\n",
       "      <td>\\nMercedes-Benz\\n</td>\n",
       "    </tr>\n",
       "    <tr>\n",
       "      <th>model</th>\n",
       "      <td>[\\n, A 160 ,\\n]</td>\n",
       "      <td>[\\n, EQE 350 ,\\n]</td>\n",
       "      <td>[\\n, A 45 AMG ,\\n]</td>\n",
       "      <td>[\\n, A 35 AMG ,\\n]</td>\n",
       "      <td>[\\n, A 45 AMG ,\\n]</td>\n",
       "    </tr>\n",
       "    <tr>\n",
       "      <th>location</th>\n",
       "      <td>P.I. EL PALMAR C/FORJA 6,  11500 PUERTO DE SAN...</td>\n",
       "      <td>APARTADO DE CORREOS 1032,  26140 LOGROÑO, ES</td>\n",
       "      <td>PORT. TARRACO, MOLL DE LLEVANT, Nº 5, LOC. 6-8...</td>\n",
       "      <td>Carrer de Provença, 31 Local,  8029 BARCELONA, ES</td>\n",
       "      <td>CARRIL ARAGONES 4,  30007 CASILLAS, ES</td>\n",
       "    </tr>\n",
       "    <tr>\n",
       "      <th>price</th>\n",
       "      <td>€ 16,950.-</td>\n",
       "      <td>€ 80,900.-</td>\n",
       "      <td>€ 69,900.-</td>\n",
       "      <td>€ 46,990.-</td>\n",
       "      <td>€ 16,800.-</td>\n",
       "    </tr>\n",
       "    <tr>\n",
       "      <th>Body type</th>\n",
       "      <td>[\\n, Compact, \\n]</td>\n",
       "      <td>[\\n, Compact, \\n]</td>\n",
       "      <td>[\\n, Compact, \\n]</td>\n",
       "      <td>[\\n, Compact, \\n]</td>\n",
       "      <td>[\\n, Compact, \\n]</td>\n",
       "    </tr>\n",
       "    <tr>\n",
       "      <th>Type</th>\n",
       "      <td>[\\n, Used, \\n]</td>\n",
       "      <td>[\\n, Pre-registered, \\n]</td>\n",
       "      <td>[\\n, Used, \\n]</td>\n",
       "      <td>[\\n, Used, \\n]</td>\n",
       "      <td>[\\n, Used, \\n]</td>\n",
       "    </tr>\n",
       "    <tr>\n",
       "      <th>Doors</th>\n",
       "      <td>[\\n, 5, \\n]</td>\n",
       "      <td>[\\n, 4, \\n]</td>\n",
       "      <td>[\\n, 5, \\n]</td>\n",
       "      <td>[\\n, 5, \\n]</td>\n",
       "      <td>[\\n, 5, \\n]</td>\n",
       "    </tr>\n",
       "    <tr>\n",
       "      <th>Country version</th>\n",
       "      <td>[\\n, Spain, \\n]</td>\n",
       "      <td>[\\n, Spain, \\n]</td>\n",
       "      <td>[\\n, Spain, \\n]</td>\n",
       "      <td>[\\n, Spain, \\n]</td>\n",
       "      <td>[\\n, Spain, \\n]</td>\n",
       "    </tr>\n",
       "    <tr>\n",
       "      <th>Offer number</th>\n",
       "      <td>[\\n, 7468157, \\n]</td>\n",
       "      <td>[\\n, 7054863, \\n]</td>\n",
       "      <td>[\\n, 7410454, \\n]</td>\n",
       "      <td>[\\n, 7464503, \\n]</td>\n",
       "      <td>[\\n, 7127931, \\n]</td>\n",
       "    </tr>\n",
       "    <tr>\n",
       "      <th>Warranty</th>\n",
       "      <td>[\\n, 24 months, \\n]</td>\n",
       "      <td>[\\n, 24 months, \\n]</td>\n",
       "      <td>[\\n, 12 months, \\n]</td>\n",
       "      <td>[\\n, 12 months, \\n]</td>\n",
       "      <td>[\\n, 12 months, \\n]</td>\n",
       "    </tr>\n",
       "    <tr>\n",
       "      <th>Mileage</th>\n",
       "      <td>120,200 km</td>\n",
       "      <td>5,000 km</td>\n",
       "      <td>18,900 km</td>\n",
       "      <td>18,995 km</td>\n",
       "      <td>197,000 km</td>\n",
       "    </tr>\n",
       "    <tr>\n",
       "      <th>First registration</th>\n",
       "      <td>06/2016</td>\n",
       "      <td>06/2022</td>\n",
       "      <td>07/2020</td>\n",
       "      <td>01/2020</td>\n",
       "      <td>09/2015</td>\n",
       "    </tr>\n",
       "    <tr>\n",
       "      <th>Gearbox</th>\n",
       "      <td>[\\nManual\\n]</td>\n",
       "      <td>[\\nAutomatic\\n]</td>\n",
       "      <td>[\\nAutomatic\\n]</td>\n",
       "      <td>[\\nAutomatic\\n]</td>\n",
       "      <td>[\\nAutomatic\\n]</td>\n",
       "    </tr>\n",
       "    <tr>\n",
       "      <th>Fuel type</th>\n",
       "      <td>Diesel</td>\n",
       "      <td>Electric</td>\n",
       "      <td>Gasoline</td>\n",
       "      <td>Gasoline</td>\n",
       "      <td>Diesel</td>\n",
       "    </tr>\n",
       "    <tr>\n",
       "      <th>Colour</th>\n",
       "      <td>Black</td>\n",
       "      <td>NaN</td>\n",
       "      <td>Grey</td>\n",
       "      <td>Yellow</td>\n",
       "      <td>White</td>\n",
       "    </tr>\n",
       "    <tr>\n",
       "      <th>Paint</th>\n",
       "      <td>Metallic</td>\n",
       "      <td>NaN</td>\n",
       "      <td>NaN</td>\n",
       "      <td>NaN</td>\n",
       "      <td>Metallic</td>\n",
       "    </tr>\n",
       "    <tr>\n",
       "      <th>desc</th>\n",
       "      <td>[ , Precio al contado: 16950 euros,  ,  , Vehí...</td>\n",
       "      <td>[ , Precio al contado: 88900 euros,  , AUTO OJ...</td>\n",
       "      <td>[Gris MANUFAKTUR mountaingrau magno,  , Linea/...</td>\n",
       "      <td>[ , Precio al contado: 48990 euros,  ,  , BONI...</td>\n",
       "      <td>[ , Precio al contado: 17400 euros,  , Vehícul...</td>\n",
       "    </tr>\n",
       "    <tr>\n",
       "      <th>seller</th>\n",
       "      <td>Dealer</td>\n",
       "      <td>Dealer</td>\n",
       "      <td>Dealer</td>\n",
       "      <td>Dealer</td>\n",
       "      <td>Dealer</td>\n",
       "    </tr>\n",
       "    <tr>\n",
       "      <th>Seats</th>\n",
       "      <td>NaN</td>\n",
       "      <td>[\\n, 5, \\n]</td>\n",
       "      <td>[\\n, 5, \\n]</td>\n",
       "      <td>[\\n, 5, \\n]</td>\n",
       "      <td>[\\n, 5, \\n]</td>\n",
       "    </tr>\n",
       "    <tr>\n",
       "      <th>Power</th>\n",
       "      <td>NaN</td>\n",
       "      <td>[\\n215 kW (292 hp)\\n]</td>\n",
       "      <td>[\\n310 kW (421 hp)\\n]</td>\n",
       "      <td>[\\n225 kW (306 hp)\\n]</td>\n",
       "      <td>[\\n100 kW (136 hp)\\n]</td>\n",
       "    </tr>\n",
       "    <tr>\n",
       "      <th>Engine size</th>\n",
       "      <td>NaN</td>\n",
       "      <td>[\\n1 cc\\n]</td>\n",
       "      <td>[\\n1,991 cc\\n]</td>\n",
       "      <td>[\\n1,991 cc\\n]</td>\n",
       "      <td>[\\n2,143 cc\\n]</td>\n",
       "    </tr>\n",
       "    <tr>\n",
       "      <th>Gears</th>\n",
       "      <td>NaN</td>\n",
       "      <td>[\\n9\\n]</td>\n",
       "      <td>[\\n8\\n]</td>\n",
       "      <td>[\\n7\\n]</td>\n",
       "      <td>[\\n7\\n]</td>\n",
       "    </tr>\n",
       "    <tr>\n",
       "      <th>CO₂-emissions</th>\n",
       "      <td>NaN</td>\n",
       "      <td>0 g/km (comb.)</td>\n",
       "      <td>NaN</td>\n",
       "      <td>NaN</td>\n",
       "      <td>NaN</td>\n",
       "    </tr>\n",
       "    <tr>\n",
       "      <th>Manufacturer colour</th>\n",
       "      <td>NaN</td>\n",
       "      <td>Negro Obsidiana</td>\n",
       "      <td>Mountaingrau magno</td>\n",
       "      <td>Amarillo Sol</td>\n",
       "      <td>NaN</td>\n",
       "    </tr>\n",
       "    <tr>\n",
       "      <th>Drivetrain</th>\n",
       "      <td>NaN</td>\n",
       "      <td>NaN</td>\n",
       "      <td>[\\n, 4WD, \\n]</td>\n",
       "      <td>[\\n, 4WD, \\n]</td>\n",
       "      <td>[\\n, 4WD, \\n]</td>\n",
       "    </tr>\n",
       "    <tr>\n",
       "      <th>Cylinders</th>\n",
       "      <td>NaN</td>\n",
       "      <td>NaN</td>\n",
       "      <td>[\\n4\\n]</td>\n",
       "      <td>[\\n4\\n]</td>\n",
       "      <td>[\\n4\\n]</td>\n",
       "    </tr>\n",
       "    <tr>\n",
       "      <th>Fuel consumption</th>\n",
       "      <td>NaN</td>\n",
       "      <td>NaN</td>\n",
       "      <td>[[8.4 l/100 km (comb.)], [10.9 l/100 km (city)...</td>\n",
       "      <td>[[7.3 l/100 km (comb.)], [9.3 l/100 km (city)]...</td>\n",
       "      <td>[[4.9 l/100 km (comb.)], [5.7 l/100 km (city)]...</td>\n",
       "    </tr>\n",
       "    <tr>\n",
       "      <th>\\nComfort &amp; Convenience\\n</th>\n",
       "      <td>NaN</td>\n",
       "      <td>NaN</td>\n",
       "      <td>NaN</td>\n",
       "      <td>[Air conditioning, Automatic climate control, ...</td>\n",
       "      <td>[Air conditioning, Electrical side mirrors, Mu...</td>\n",
       "    </tr>\n",
       "    <tr>\n",
       "      <th>\\nEntertainment &amp; Media\\n</th>\n",
       "      <td>NaN</td>\n",
       "      <td>NaN</td>\n",
       "      <td>NaN</td>\n",
       "      <td>[USB]</td>\n",
       "      <td>[Bluetooth, CD player, MP3, USB]</td>\n",
       "    </tr>\n",
       "    <tr>\n",
       "      <th>\\nSafety &amp; Security\\n</th>\n",
       "      <td>NaN</td>\n",
       "      <td>NaN</td>\n",
       "      <td>NaN</td>\n",
       "      <td>[ABS, Central door lock, Driver-side airbag, E...</td>\n",
       "      <td>[ABS, Central door lock, Driver-side airbag, E...</td>\n",
       "    </tr>\n",
       "    <tr>\n",
       "      <th>\\nExtras\\n</th>\n",
       "      <td>NaN</td>\n",
       "      <td>NaN</td>\n",
       "      <td>NaN</td>\n",
       "      <td>[Sport seats]</td>\n",
       "      <td>NaN</td>\n",
       "    </tr>\n",
       "    <tr>\n",
       "      <th>Empty weight</th>\n",
       "      <td>NaN</td>\n",
       "      <td>NaN</td>\n",
       "      <td>NaN</td>\n",
       "      <td>NaN</td>\n",
       "      <td>[\\n1,545 kg\\n]</td>\n",
       "    </tr>\n",
       "    <tr>\n",
       "      <th>Model code</th>\n",
       "      <td>NaN</td>\n",
       "      <td>NaN</td>\n",
       "      <td>NaN</td>\n",
       "      <td>NaN</td>\n",
       "      <td>NaN</td>\n",
       "    </tr>\n",
       "    <tr>\n",
       "      <th>General inspection</th>\n",
       "      <td>NaN</td>\n",
       "      <td>NaN</td>\n",
       "      <td>NaN</td>\n",
       "      <td>NaN</td>\n",
       "      <td>NaN</td>\n",
       "    </tr>\n",
       "    <tr>\n",
       "      <th>Last service</th>\n",
       "      <td>NaN</td>\n",
       "      <td>NaN</td>\n",
       "      <td>NaN</td>\n",
       "      <td>NaN</td>\n",
       "      <td>NaN</td>\n",
       "    </tr>\n",
       "    <tr>\n",
       "      <th>Full service history</th>\n",
       "      <td>NaN</td>\n",
       "      <td>NaN</td>\n",
       "      <td>NaN</td>\n",
       "      <td>NaN</td>\n",
       "      <td>NaN</td>\n",
       "    </tr>\n",
       "    <tr>\n",
       "      <th>Non-smoker vehicle</th>\n",
       "      <td>NaN</td>\n",
       "      <td>NaN</td>\n",
       "      <td>NaN</td>\n",
       "      <td>NaN</td>\n",
       "      <td>NaN</td>\n",
       "    </tr>\n",
       "    <tr>\n",
       "      <th>Emission class</th>\n",
       "      <td>NaN</td>\n",
       "      <td>NaN</td>\n",
       "      <td>NaN</td>\n",
       "      <td>NaN</td>\n",
       "      <td>NaN</td>\n",
       "    </tr>\n",
       "    <tr>\n",
       "      <th>Emissions sticker</th>\n",
       "      <td>NaN</td>\n",
       "      <td>NaN</td>\n",
       "      <td>NaN</td>\n",
       "      <td>NaN</td>\n",
       "      <td>NaN</td>\n",
       "    </tr>\n",
       "    <tr>\n",
       "      <th>Upholstery colour</th>\n",
       "      <td>NaN</td>\n",
       "      <td>NaN</td>\n",
       "      <td>NaN</td>\n",
       "      <td>NaN</td>\n",
       "      <td>NaN</td>\n",
       "    </tr>\n",
       "    <tr>\n",
       "      <th>Upholstery</th>\n",
       "      <td>NaN</td>\n",
       "      <td>NaN</td>\n",
       "      <td>NaN</td>\n",
       "      <td>NaN</td>\n",
       "      <td>NaN</td>\n",
       "    </tr>\n",
       "    <tr>\n",
       "      <th>Production date</th>\n",
       "      <td>NaN</td>\n",
       "      <td>NaN</td>\n",
       "      <td>NaN</td>\n",
       "      <td>NaN</td>\n",
       "      <td>NaN</td>\n",
       "    </tr>\n",
       "    <tr>\n",
       "      <th>Previous owner</th>\n",
       "      <td>NaN</td>\n",
       "      <td>NaN</td>\n",
       "      <td>NaN</td>\n",
       "      <td>NaN</td>\n",
       "      <td>NaN</td>\n",
       "    </tr>\n",
       "    <tr>\n",
       "      <th>Other fuel types</th>\n",
       "      <td>NaN</td>\n",
       "      <td>NaN</td>\n",
       "      <td>NaN</td>\n",
       "      <td>NaN</td>\n",
       "      <td>NaN</td>\n",
       "    </tr>\n",
       "    <tr>\n",
       "      <th>Power consumption</th>\n",
       "      <td>NaN</td>\n",
       "      <td>NaN</td>\n",
       "      <td>NaN</td>\n",
       "      <td>NaN</td>\n",
       "      <td>NaN</td>\n",
       "    </tr>\n",
       "    <tr>\n",
       "      <th>Energy efficiency class</th>\n",
       "      <td>NaN</td>\n",
       "      <td>NaN</td>\n",
       "      <td>NaN</td>\n",
       "      <td>NaN</td>\n",
       "      <td>NaN</td>\n",
       "    </tr>\n",
       "    <tr>\n",
       "      <th>CO₂-efficiency</th>\n",
       "      <td>NaN</td>\n",
       "      <td>NaN</td>\n",
       "      <td>NaN</td>\n",
       "      <td>NaN</td>\n",
       "      <td>NaN</td>\n",
       "    </tr>\n",
       "    <tr>\n",
       "      <th>Fuel consumption (WLTP)</th>\n",
       "      <td>NaN</td>\n",
       "      <td>NaN</td>\n",
       "      <td>NaN</td>\n",
       "      <td>NaN</td>\n",
       "      <td>NaN</td>\n",
       "    </tr>\n",
       "    <tr>\n",
       "      <th>CO₂-emissions (WLTP)</th>\n",
       "      <td>NaN</td>\n",
       "      <td>NaN</td>\n",
       "      <td>NaN</td>\n",
       "      <td>NaN</td>\n",
       "      <td>NaN</td>\n",
       "    </tr>\n",
       "    <tr>\n",
       "      <th>Available from</th>\n",
       "      <td>NaN</td>\n",
       "      <td>NaN</td>\n",
       "      <td>NaN</td>\n",
       "      <td>NaN</td>\n",
       "      <td>NaN</td>\n",
       "    </tr>\n",
       "    <tr>\n",
       "      <th>Taxi or rental car</th>\n",
       "      <td>NaN</td>\n",
       "      <td>NaN</td>\n",
       "      <td>NaN</td>\n",
       "      <td>NaN</td>\n",
       "      <td>NaN</td>\n",
       "    </tr>\n",
       "    <tr>\n",
       "      <th>Availability</th>\n",
       "      <td>NaN</td>\n",
       "      <td>NaN</td>\n",
       "      <td>NaN</td>\n",
       "      <td>NaN</td>\n",
       "      <td>NaN</td>\n",
       "    </tr>\n",
       "    <tr>\n",
       "      <th>Last timing belt change</th>\n",
       "      <td>NaN</td>\n",
       "      <td>NaN</td>\n",
       "      <td>NaN</td>\n",
       "      <td>NaN</td>\n",
       "      <td>NaN</td>\n",
       "    </tr>\n",
       "    <tr>\n",
       "      <th>Electric Range (WLTP)</th>\n",
       "      <td>NaN</td>\n",
       "      <td>NaN</td>\n",
       "      <td>NaN</td>\n",
       "      <td>NaN</td>\n",
       "      <td>NaN</td>\n",
       "    </tr>\n",
       "    <tr>\n",
       "      <th>Power consumption (WLTP)</th>\n",
       "      <td>NaN</td>\n",
       "      <td>NaN</td>\n",
       "      <td>NaN</td>\n",
       "      <td>NaN</td>\n",
       "      <td>NaN</td>\n",
       "    </tr>\n",
       "    <tr>\n",
       "      <th>Battery Ownership</th>\n",
       "      <td>NaN</td>\n",
       "      <td>NaN</td>\n",
       "      <td>NaN</td>\n",
       "      <td>NaN</td>\n",
       "      <td>NaN</td>\n",
       "    </tr>\n",
       "  </tbody>\n",
       "</table>\n",
       "</div>"
      ],
      "text/plain": [
       "                                                                           0  \\\n",
       "make_model                                               Mercedes-Benz A 160   \n",
       "short_description                                                        CDi   \n",
       "make                                                       \\nMercedes-Benz\\n   \n",
       "model                                                        [\\n, A 160 ,\\n]   \n",
       "location                   P.I. EL PALMAR C/FORJA 6,  11500 PUERTO DE SAN...   \n",
       "price                                                             € 16,950.-   \n",
       "Body type                                                  [\\n, Compact, \\n]   \n",
       "Type                                                          [\\n, Used, \\n]   \n",
       "Doors                                                            [\\n, 5, \\n]   \n",
       "Country version                                              [\\n, Spain, \\n]   \n",
       "Offer number                                               [\\n, 7468157, \\n]   \n",
       "Warranty                                                 [\\n, 24 months, \\n]   \n",
       "Mileage                                                           120,200 km   \n",
       "First registration                                                   06/2016   \n",
       "Gearbox                                                         [\\nManual\\n]   \n",
       "Fuel type                                                             Diesel   \n",
       "Colour                                                                 Black   \n",
       "Paint                                                               Metallic   \n",
       "desc                       [ , Precio al contado: 16950 euros,  ,  , Vehí...   \n",
       "seller                                                                Dealer   \n",
       "Seats                                                                    NaN   \n",
       "Power                                                                    NaN   \n",
       "Engine size                                                              NaN   \n",
       "Gears                                                                    NaN   \n",
       "CO₂-emissions                                                            NaN   \n",
       "Manufacturer colour                                                      NaN   \n",
       "Drivetrain                                                               NaN   \n",
       "Cylinders                                                                NaN   \n",
       "Fuel consumption                                                         NaN   \n",
       "\\nComfort & Convenience\\n                                                NaN   \n",
       "\\nEntertainment & Media\\n                                                NaN   \n",
       "\\nSafety & Security\\n                                                    NaN   \n",
       "\\nExtras\\n                                                               NaN   \n",
       "Empty weight                                                             NaN   \n",
       "Model code                                                               NaN   \n",
       "General inspection                                                       NaN   \n",
       "Last service                                                             NaN   \n",
       "Full service history                                                     NaN   \n",
       "Non-smoker vehicle                                                       NaN   \n",
       "Emission class                                                           NaN   \n",
       "Emissions sticker                                                        NaN   \n",
       "Upholstery colour                                                        NaN   \n",
       "Upholstery                                                               NaN   \n",
       "Production date                                                          NaN   \n",
       "Previous owner                                                           NaN   \n",
       "Other fuel types                                                         NaN   \n",
       "Power consumption                                                        NaN   \n",
       "Energy efficiency class                                                  NaN   \n",
       "CO₂-efficiency                                                           NaN   \n",
       "Fuel consumption (WLTP)                                                  NaN   \n",
       "CO₂-emissions (WLTP)                                                     NaN   \n",
       "Available from                                                           NaN   \n",
       "Taxi or rental car                                                       NaN   \n",
       "Availability                                                             NaN   \n",
       "Last timing belt change                                                  NaN   \n",
       "Electric Range (WLTP)                                                    NaN   \n",
       "Power consumption (WLTP)                                                 NaN   \n",
       "Battery Ownership                                                        NaN   \n",
       "\n",
       "                                                                           1  \\\n",
       "make_model                                             Mercedes-Benz EQE 350   \n",
       "short_description                                                       350+   \n",
       "make                                                       \\nMercedes-Benz\\n   \n",
       "model                                                      [\\n, EQE 350 ,\\n]   \n",
       "location                        APARTADO DE CORREOS 1032,  26140 LOGROÑO, ES   \n",
       "price                                                             € 80,900.-   \n",
       "Body type                                                  [\\n, Compact, \\n]   \n",
       "Type                                                [\\n, Pre-registered, \\n]   \n",
       "Doors                                                            [\\n, 4, \\n]   \n",
       "Country version                                              [\\n, Spain, \\n]   \n",
       "Offer number                                               [\\n, 7054863, \\n]   \n",
       "Warranty                                                 [\\n, 24 months, \\n]   \n",
       "Mileage                                                             5,000 km   \n",
       "First registration                                                   06/2022   \n",
       "Gearbox                                                      [\\nAutomatic\\n]   \n",
       "Fuel type                                                           Electric   \n",
       "Colour                                                                   NaN   \n",
       "Paint                                                                    NaN   \n",
       "desc                       [ , Precio al contado: 88900 euros,  , AUTO OJ...   \n",
       "seller                                                                Dealer   \n",
       "Seats                                                            [\\n, 5, \\n]   \n",
       "Power                                                  [\\n215 kW (292 hp)\\n]   \n",
       "Engine size                                                       [\\n1 cc\\n]   \n",
       "Gears                                                                [\\n9\\n]   \n",
       "CO₂-emissions                                                 0 g/km (comb.)   \n",
       "Manufacturer colour                                          Negro Obsidiana   \n",
       "Drivetrain                                                               NaN   \n",
       "Cylinders                                                                NaN   \n",
       "Fuel consumption                                                         NaN   \n",
       "\\nComfort & Convenience\\n                                                NaN   \n",
       "\\nEntertainment & Media\\n                                                NaN   \n",
       "\\nSafety & Security\\n                                                    NaN   \n",
       "\\nExtras\\n                                                               NaN   \n",
       "Empty weight                                                             NaN   \n",
       "Model code                                                               NaN   \n",
       "General inspection                                                       NaN   \n",
       "Last service                                                             NaN   \n",
       "Full service history                                                     NaN   \n",
       "Non-smoker vehicle                                                       NaN   \n",
       "Emission class                                                           NaN   \n",
       "Emissions sticker                                                        NaN   \n",
       "Upholstery colour                                                        NaN   \n",
       "Upholstery                                                               NaN   \n",
       "Production date                                                          NaN   \n",
       "Previous owner                                                           NaN   \n",
       "Other fuel types                                                         NaN   \n",
       "Power consumption                                                        NaN   \n",
       "Energy efficiency class                                                  NaN   \n",
       "CO₂-efficiency                                                           NaN   \n",
       "Fuel consumption (WLTP)                                                  NaN   \n",
       "CO₂-emissions (WLTP)                                                     NaN   \n",
       "Available from                                                           NaN   \n",
       "Taxi or rental car                                                       NaN   \n",
       "Availability                                                             NaN   \n",
       "Last timing belt change                                                  NaN   \n",
       "Electric Range (WLTP)                                                    NaN   \n",
       "Power consumption (WLTP)                                                 NaN   \n",
       "Battery Ownership                                                        NaN   \n",
       "\n",
       "                                                                           2  \\\n",
       "make_model                                            Mercedes-Benz A 45 AMG   \n",
       "short_description                                           S 4Matic+ 8G-DCT   \n",
       "make                                                       \\nMercedes-Benz\\n   \n",
       "model                                                     [\\n, A 45 AMG ,\\n]   \n",
       "location                   PORT. TARRACO, MOLL DE LLEVANT, Nº 5, LOC. 6-8...   \n",
       "price                                                             € 69,900.-   \n",
       "Body type                                                  [\\n, Compact, \\n]   \n",
       "Type                                                          [\\n, Used, \\n]   \n",
       "Doors                                                            [\\n, 5, \\n]   \n",
       "Country version                                              [\\n, Spain, \\n]   \n",
       "Offer number                                               [\\n, 7410454, \\n]   \n",
       "Warranty                                                 [\\n, 12 months, \\n]   \n",
       "Mileage                                                            18,900 km   \n",
       "First registration                                                   07/2020   \n",
       "Gearbox                                                      [\\nAutomatic\\n]   \n",
       "Fuel type                                                           Gasoline   \n",
       "Colour                                                                  Grey   \n",
       "Paint                                                                    NaN   \n",
       "desc                       [Gris MANUFAKTUR mountaingrau magno,  , Linea/...   \n",
       "seller                                                                Dealer   \n",
       "Seats                                                            [\\n, 5, \\n]   \n",
       "Power                                                  [\\n310 kW (421 hp)\\n]   \n",
       "Engine size                                                   [\\n1,991 cc\\n]   \n",
       "Gears                                                                [\\n8\\n]   \n",
       "CO₂-emissions                                                            NaN   \n",
       "Manufacturer colour                                       Mountaingrau magno   \n",
       "Drivetrain                                                     [\\n, 4WD, \\n]   \n",
       "Cylinders                                                            [\\n4\\n]   \n",
       "Fuel consumption           [[8.4 l/100 km (comb.)], [10.9 l/100 km (city)...   \n",
       "\\nComfort & Convenience\\n                                                NaN   \n",
       "\\nEntertainment & Media\\n                                                NaN   \n",
       "\\nSafety & Security\\n                                                    NaN   \n",
       "\\nExtras\\n                                                               NaN   \n",
       "Empty weight                                                             NaN   \n",
       "Model code                                                               NaN   \n",
       "General inspection                                                       NaN   \n",
       "Last service                                                             NaN   \n",
       "Full service history                                                     NaN   \n",
       "Non-smoker vehicle                                                       NaN   \n",
       "Emission class                                                           NaN   \n",
       "Emissions sticker                                                        NaN   \n",
       "Upholstery colour                                                        NaN   \n",
       "Upholstery                                                               NaN   \n",
       "Production date                                                          NaN   \n",
       "Previous owner                                                           NaN   \n",
       "Other fuel types                                                         NaN   \n",
       "Power consumption                                                        NaN   \n",
       "Energy efficiency class                                                  NaN   \n",
       "CO₂-efficiency                                                           NaN   \n",
       "Fuel consumption (WLTP)                                                  NaN   \n",
       "CO₂-emissions (WLTP)                                                     NaN   \n",
       "Available from                                                           NaN   \n",
       "Taxi or rental car                                                       NaN   \n",
       "Availability                                                             NaN   \n",
       "Last timing belt change                                                  NaN   \n",
       "Electric Range (WLTP)                                                    NaN   \n",
       "Power consumption (WLTP)                                                 NaN   \n",
       "Battery Ownership                                                        NaN   \n",
       "\n",
       "                                                                           3  \\\n",
       "make_model                                            Mercedes-Benz A 35 AMG   \n",
       "short_description                                             4Matic+ 7G-DCT   \n",
       "make                                                       \\nMercedes-Benz\\n   \n",
       "model                                                     [\\n, A 35 AMG ,\\n]   \n",
       "location                   Carrer de Provença, 31 Local,  8029 BARCELONA, ES   \n",
       "price                                                             € 46,990.-   \n",
       "Body type                                                  [\\n, Compact, \\n]   \n",
       "Type                                                          [\\n, Used, \\n]   \n",
       "Doors                                                            [\\n, 5, \\n]   \n",
       "Country version                                              [\\n, Spain, \\n]   \n",
       "Offer number                                               [\\n, 7464503, \\n]   \n",
       "Warranty                                                 [\\n, 12 months, \\n]   \n",
       "Mileage                                                            18,995 km   \n",
       "First registration                                                   01/2020   \n",
       "Gearbox                                                      [\\nAutomatic\\n]   \n",
       "Fuel type                                                           Gasoline   \n",
       "Colour                                                                Yellow   \n",
       "Paint                                                                    NaN   \n",
       "desc                       [ , Precio al contado: 48990 euros,  ,  , BONI...   \n",
       "seller                                                                Dealer   \n",
       "Seats                                                            [\\n, 5, \\n]   \n",
       "Power                                                  [\\n225 kW (306 hp)\\n]   \n",
       "Engine size                                                   [\\n1,991 cc\\n]   \n",
       "Gears                                                                [\\n7\\n]   \n",
       "CO₂-emissions                                                            NaN   \n",
       "Manufacturer colour                                             Amarillo Sol   \n",
       "Drivetrain                                                     [\\n, 4WD, \\n]   \n",
       "Cylinders                                                            [\\n4\\n]   \n",
       "Fuel consumption           [[7.3 l/100 km (comb.)], [9.3 l/100 km (city)]...   \n",
       "\\nComfort & Convenience\\n  [Air conditioning, Automatic climate control, ...   \n",
       "\\nEntertainment & Media\\n                                              [USB]   \n",
       "\\nSafety & Security\\n      [ABS, Central door lock, Driver-side airbag, E...   \n",
       "\\nExtras\\n                                                     [Sport seats]   \n",
       "Empty weight                                                             NaN   \n",
       "Model code                                                               NaN   \n",
       "General inspection                                                       NaN   \n",
       "Last service                                                             NaN   \n",
       "Full service history                                                     NaN   \n",
       "Non-smoker vehicle                                                       NaN   \n",
       "Emission class                                                           NaN   \n",
       "Emissions sticker                                                        NaN   \n",
       "Upholstery colour                                                        NaN   \n",
       "Upholstery                                                               NaN   \n",
       "Production date                                                          NaN   \n",
       "Previous owner                                                           NaN   \n",
       "Other fuel types                                                         NaN   \n",
       "Power consumption                                                        NaN   \n",
       "Energy efficiency class                                                  NaN   \n",
       "CO₂-efficiency                                                           NaN   \n",
       "Fuel consumption (WLTP)                                                  NaN   \n",
       "CO₂-emissions (WLTP)                                                     NaN   \n",
       "Available from                                                           NaN   \n",
       "Taxi or rental car                                                       NaN   \n",
       "Availability                                                             NaN   \n",
       "Last timing belt change                                                  NaN   \n",
       "Electric Range (WLTP)                                                    NaN   \n",
       "Power consumption (WLTP)                                                 NaN   \n",
       "Battery Ownership                                                        NaN   \n",
       "\n",
       "                                                                           4  \n",
       "make_model                                            Mercedes-Benz A 45 AMG  \n",
       "short_description                                   200CDI BE Line 4M 7G-DCT  \n",
       "make                                                       \\nMercedes-Benz\\n  \n",
       "model                                                     [\\n, A 45 AMG ,\\n]  \n",
       "location                              CARRIL ARAGONES 4,  30007 CASILLAS, ES  \n",
       "price                                                             € 16,800.-  \n",
       "Body type                                                  [\\n, Compact, \\n]  \n",
       "Type                                                          [\\n, Used, \\n]  \n",
       "Doors                                                            [\\n, 5, \\n]  \n",
       "Country version                                              [\\n, Spain, \\n]  \n",
       "Offer number                                               [\\n, 7127931, \\n]  \n",
       "Warranty                                                 [\\n, 12 months, \\n]  \n",
       "Mileage                                                           197,000 km  \n",
       "First registration                                                   09/2015  \n",
       "Gearbox                                                      [\\nAutomatic\\n]  \n",
       "Fuel type                                                             Diesel  \n",
       "Colour                                                                 White  \n",
       "Paint                                                               Metallic  \n",
       "desc                       [ , Precio al contado: 17400 euros,  , Vehícul...  \n",
       "seller                                                                Dealer  \n",
       "Seats                                                            [\\n, 5, \\n]  \n",
       "Power                                                  [\\n100 kW (136 hp)\\n]  \n",
       "Engine size                                                   [\\n2,143 cc\\n]  \n",
       "Gears                                                                [\\n7\\n]  \n",
       "CO₂-emissions                                                            NaN  \n",
       "Manufacturer colour                                                      NaN  \n",
       "Drivetrain                                                     [\\n, 4WD, \\n]  \n",
       "Cylinders                                                            [\\n4\\n]  \n",
       "Fuel consumption           [[4.9 l/100 km (comb.)], [5.7 l/100 km (city)]...  \n",
       "\\nComfort & Convenience\\n  [Air conditioning, Electrical side mirrors, Mu...  \n",
       "\\nEntertainment & Media\\n                   [Bluetooth, CD player, MP3, USB]  \n",
       "\\nSafety & Security\\n      [ABS, Central door lock, Driver-side airbag, E...  \n",
       "\\nExtras\\n                                                               NaN  \n",
       "Empty weight                                                  [\\n1,545 kg\\n]  \n",
       "Model code                                                               NaN  \n",
       "General inspection                                                       NaN  \n",
       "Last service                                                             NaN  \n",
       "Full service history                                                     NaN  \n",
       "Non-smoker vehicle                                                       NaN  \n",
       "Emission class                                                           NaN  \n",
       "Emissions sticker                                                        NaN  \n",
       "Upholstery colour                                                        NaN  \n",
       "Upholstery                                                               NaN  \n",
       "Production date                                                          NaN  \n",
       "Previous owner                                                           NaN  \n",
       "Other fuel types                                                         NaN  \n",
       "Power consumption                                                        NaN  \n",
       "Energy efficiency class                                                  NaN  \n",
       "CO₂-efficiency                                                           NaN  \n",
       "Fuel consumption (WLTP)                                                  NaN  \n",
       "CO₂-emissions (WLTP)                                                     NaN  \n",
       "Available from                                                           NaN  \n",
       "Taxi or rental car                                                       NaN  \n",
       "Availability                                                             NaN  \n",
       "Last timing belt change                                                  NaN  \n",
       "Electric Range (WLTP)                                                    NaN  \n",
       "Power consumption (WLTP)                                                 NaN  \n",
       "Battery Ownership                                                        NaN  "
      ]
     },
     "execution_count": 2,
     "metadata": {},
     "output_type": "execute_result"
    }
   ],
   "source": [
    "df0 = pd.read_json('as24_cars.json')\n",
    "df = df0.copy()"
   ]
  },
  {
   "cell_type": "code",
   "execution_count": 3,
   "metadata": {},
   "outputs": [
    {
     "data": {
      "text/html": [
       "<pre style=\"white-space:pre;overflow-x:auto;line-height:normal;font-family:Menlo,'DejaVu Sans Mono',consolas,'Courier New',monospace\"><span style=\"color: #008080; text-decoration-color: #008080; font-weight: bold\">50</span> column names have been cleaned\n",
       "</pre>\n"
      ],
      "text/plain": [
       "\u001b[1;36m50\u001b[0m column names have been cleaned\n"
      ]
     },
     "metadata": {},
     "output_type": "display_data"
    },
    {
     "data": {
      "text/plain": [
       "Index(['make_model', 'short_description', 'make', 'model', 'location', 'price',\n",
       "       'body_type', 'type', 'doors', 'country_version', 'offer_number',\n",
       "       'warranty', 'mileage', 'first_registration', 'gearbox', 'fuel_type',\n",
       "       'colour', 'paint', 'desc', 'seller', 'seats', 'power', 'engine_size',\n",
       "       'gears', 'co_emissions', 'manufacturer_colour', 'drivetrain',\n",
       "       'cylinders', 'fuel_consumption', 'comfort_&_convenience',\n",
       "       'entertainment_&_media', 'safety_&_security', 'extras', 'empty_weight',\n",
       "       'model_code', 'general_inspection', 'last_service',\n",
       "       'full_service_history', 'non_smoker_vehicle', 'emission_class',\n",
       "       'emissions_sticker', 'upholstery_colour', 'upholstery',\n",
       "       'production_date', 'previous_owner', 'other_fuel_types',\n",
       "       'power_consumption', 'energy_efficiency_class', 'co_efficiency',\n",
       "       'fuel_consumption_wltp', 'co_emissions_wltp', 'available_from',\n",
       "       'taxi_or_rental_car', 'availability', 'last_timing_belt_change',\n",
       "       'electric_range_wltp', 'power_consumption_wltp', 'battery_ownership'],\n",
       "      dtype='object')"
      ]
     },
     "execution_count": 3,
     "metadata": {},
     "output_type": "execute_result"
    }
   ],
   "source": [
    "df = clean_columns(df, case='snake')\n",
    "df.columns"
   ]
  },
  {
   "cell_type": "code",
   "execution_count": 4,
   "metadata": {},
   "outputs": [
    {
     "data": {
      "text/html": [
       "<div>\n",
       "<style scoped>\n",
       "    .dataframe tbody tr th:only-of-type {\n",
       "        vertical-align: middle;\n",
       "    }\n",
       "\n",
       "    .dataframe tbody tr th {\n",
       "        vertical-align: top;\n",
       "    }\n",
       "\n",
       "    .dataframe thead th {\n",
       "        text-align: right;\n",
       "    }\n",
       "</style>\n",
       "<table border=\"1\" class=\"dataframe\">\n",
       "  <thead>\n",
       "    <tr style=\"text-align: right;\">\n",
       "      <th></th>\n",
       "      <th>0</th>\n",
       "      <th>1</th>\n",
       "      <th>2</th>\n",
       "      <th>3</th>\n",
       "      <th>4</th>\n",
       "    </tr>\n",
       "  </thead>\n",
       "  <tbody>\n",
       "    <tr>\n",
       "      <th>make_model</th>\n",
       "      <td>Mercedes-Benz A 160</td>\n",
       "      <td>Mercedes-Benz EQE 350</td>\n",
       "      <td>Mercedes-Benz A 45 AMG</td>\n",
       "      <td>Mercedes-Benz A 35 AMG</td>\n",
       "      <td>Mercedes-Benz A 45 AMG</td>\n",
       "    </tr>\n",
       "    <tr>\n",
       "      <th>short_description</th>\n",
       "      <td>CDi</td>\n",
       "      <td>350+</td>\n",
       "      <td>S 4Matic+ 8G-DCT</td>\n",
       "      <td>4Matic+ 7G-DCT</td>\n",
       "      <td>200CDI BE Line 4M 7G-DCT</td>\n",
       "    </tr>\n",
       "    <tr>\n",
       "      <th>make</th>\n",
       "      <td>\\nMercedes-Benz\\n</td>\n",
       "      <td>\\nMercedes-Benz\\n</td>\n",
       "      <td>\\nMercedes-Benz\\n</td>\n",
       "      <td>\\nMercedes-Benz\\n</td>\n",
       "      <td>\\nMercedes-Benz\\n</td>\n",
       "    </tr>\n",
       "    <tr>\n",
       "      <th>model</th>\n",
       "      <td>[\\n, A 160 ,\\n]</td>\n",
       "      <td>[\\n, EQE 350 ,\\n]</td>\n",
       "      <td>[\\n, A 45 AMG ,\\n]</td>\n",
       "      <td>[\\n, A 35 AMG ,\\n]</td>\n",
       "      <td>[\\n, A 45 AMG ,\\n]</td>\n",
       "    </tr>\n",
       "    <tr>\n",
       "      <th>location</th>\n",
       "      <td>P.I. EL PALMAR C/FORJA 6,  11500 PUERTO DE SAN...</td>\n",
       "      <td>APARTADO DE CORREOS 1032,  26140 LOGROÑO, ES</td>\n",
       "      <td>PORT. TARRACO, MOLL DE LLEVANT, Nº 5, LOC. 6-8...</td>\n",
       "      <td>Carrer de Provença, 31 Local,  8029 BARCELONA, ES</td>\n",
       "      <td>CARRIL ARAGONES 4,  30007 CASILLAS, ES</td>\n",
       "    </tr>\n",
       "    <tr>\n",
       "      <th>price</th>\n",
       "      <td>€ 16,950.-</td>\n",
       "      <td>€ 80,900.-</td>\n",
       "      <td>€ 69,900.-</td>\n",
       "      <td>€ 46,990.-</td>\n",
       "      <td>€ 16,800.-</td>\n",
       "    </tr>\n",
       "    <tr>\n",
       "      <th>body_type</th>\n",
       "      <td>[\\n, Compact, \\n]</td>\n",
       "      <td>[\\n, Compact, \\n]</td>\n",
       "      <td>[\\n, Compact, \\n]</td>\n",
       "      <td>[\\n, Compact, \\n]</td>\n",
       "      <td>[\\n, Compact, \\n]</td>\n",
       "    </tr>\n",
       "    <tr>\n",
       "      <th>type</th>\n",
       "      <td>[\\n, Used, \\n]</td>\n",
       "      <td>[\\n, Pre-registered, \\n]</td>\n",
       "      <td>[\\n, Used, \\n]</td>\n",
       "      <td>[\\n, Used, \\n]</td>\n",
       "      <td>[\\n, Used, \\n]</td>\n",
       "    </tr>\n",
       "    <tr>\n",
       "      <th>doors</th>\n",
       "      <td>[\\n, 5, \\n]</td>\n",
       "      <td>[\\n, 4, \\n]</td>\n",
       "      <td>[\\n, 5, \\n]</td>\n",
       "      <td>[\\n, 5, \\n]</td>\n",
       "      <td>[\\n, 5, \\n]</td>\n",
       "    </tr>\n",
       "    <tr>\n",
       "      <th>country_version</th>\n",
       "      <td>[\\n, Spain, \\n]</td>\n",
       "      <td>[\\n, Spain, \\n]</td>\n",
       "      <td>[\\n, Spain, \\n]</td>\n",
       "      <td>[\\n, Spain, \\n]</td>\n",
       "      <td>[\\n, Spain, \\n]</td>\n",
       "    </tr>\n",
       "    <tr>\n",
       "      <th>offer_number</th>\n",
       "      <td>[\\n, 7468157, \\n]</td>\n",
       "      <td>[\\n, 7054863, \\n]</td>\n",
       "      <td>[\\n, 7410454, \\n]</td>\n",
       "      <td>[\\n, 7464503, \\n]</td>\n",
       "      <td>[\\n, 7127931, \\n]</td>\n",
       "    </tr>\n",
       "    <tr>\n",
       "      <th>warranty</th>\n",
       "      <td>[\\n, 24 months, \\n]</td>\n",
       "      <td>[\\n, 24 months, \\n]</td>\n",
       "      <td>[\\n, 12 months, \\n]</td>\n",
       "      <td>[\\n, 12 months, \\n]</td>\n",
       "      <td>[\\n, 12 months, \\n]</td>\n",
       "    </tr>\n",
       "    <tr>\n",
       "      <th>mileage</th>\n",
       "      <td>120,200 km</td>\n",
       "      <td>5,000 km</td>\n",
       "      <td>18,900 km</td>\n",
       "      <td>18,995 km</td>\n",
       "      <td>197,000 km</td>\n",
       "    </tr>\n",
       "    <tr>\n",
       "      <th>first_registration</th>\n",
       "      <td>06/2016</td>\n",
       "      <td>06/2022</td>\n",
       "      <td>07/2020</td>\n",
       "      <td>01/2020</td>\n",
       "      <td>09/2015</td>\n",
       "    </tr>\n",
       "    <tr>\n",
       "      <th>gearbox</th>\n",
       "      <td>[\\nManual\\n]</td>\n",
       "      <td>[\\nAutomatic\\n]</td>\n",
       "      <td>[\\nAutomatic\\n]</td>\n",
       "      <td>[\\nAutomatic\\n]</td>\n",
       "      <td>[\\nAutomatic\\n]</td>\n",
       "    </tr>\n",
       "    <tr>\n",
       "      <th>fuel_type</th>\n",
       "      <td>Diesel</td>\n",
       "      <td>Electric</td>\n",
       "      <td>Gasoline</td>\n",
       "      <td>Gasoline</td>\n",
       "      <td>Diesel</td>\n",
       "    </tr>\n",
       "    <tr>\n",
       "      <th>colour</th>\n",
       "      <td>Black</td>\n",
       "      <td>NaN</td>\n",
       "      <td>Grey</td>\n",
       "      <td>Yellow</td>\n",
       "      <td>White</td>\n",
       "    </tr>\n",
       "    <tr>\n",
       "      <th>paint</th>\n",
       "      <td>Metallic</td>\n",
       "      <td>NaN</td>\n",
       "      <td>NaN</td>\n",
       "      <td>NaN</td>\n",
       "      <td>Metallic</td>\n",
       "    </tr>\n",
       "    <tr>\n",
       "      <th>desc</th>\n",
       "      <td>[ , Precio al contado: 16950 euros,  ,  , Vehí...</td>\n",
       "      <td>[ , Precio al contado: 88900 euros,  , AUTO OJ...</td>\n",
       "      <td>[Gris MANUFAKTUR mountaingrau magno,  , Linea/...</td>\n",
       "      <td>[ , Precio al contado: 48990 euros,  ,  , BONI...</td>\n",
       "      <td>[ , Precio al contado: 17400 euros,  , Vehícul...</td>\n",
       "    </tr>\n",
       "    <tr>\n",
       "      <th>seller</th>\n",
       "      <td>Dealer</td>\n",
       "      <td>Dealer</td>\n",
       "      <td>Dealer</td>\n",
       "      <td>Dealer</td>\n",
       "      <td>Dealer</td>\n",
       "    </tr>\n",
       "    <tr>\n",
       "      <th>seats</th>\n",
       "      <td>NaN</td>\n",
       "      <td>[\\n, 5, \\n]</td>\n",
       "      <td>[\\n, 5, \\n]</td>\n",
       "      <td>[\\n, 5, \\n]</td>\n",
       "      <td>[\\n, 5, \\n]</td>\n",
       "    </tr>\n",
       "    <tr>\n",
       "      <th>power</th>\n",
       "      <td>NaN</td>\n",
       "      <td>[\\n215 kW (292 hp)\\n]</td>\n",
       "      <td>[\\n310 kW (421 hp)\\n]</td>\n",
       "      <td>[\\n225 kW (306 hp)\\n]</td>\n",
       "      <td>[\\n100 kW (136 hp)\\n]</td>\n",
       "    </tr>\n",
       "    <tr>\n",
       "      <th>engine_size</th>\n",
       "      <td>NaN</td>\n",
       "      <td>[\\n1 cc\\n]</td>\n",
       "      <td>[\\n1,991 cc\\n]</td>\n",
       "      <td>[\\n1,991 cc\\n]</td>\n",
       "      <td>[\\n2,143 cc\\n]</td>\n",
       "    </tr>\n",
       "    <tr>\n",
       "      <th>gears</th>\n",
       "      <td>NaN</td>\n",
       "      <td>[\\n9\\n]</td>\n",
       "      <td>[\\n8\\n]</td>\n",
       "      <td>[\\n7\\n]</td>\n",
       "      <td>[\\n7\\n]</td>\n",
       "    </tr>\n",
       "    <tr>\n",
       "      <th>co_emissions</th>\n",
       "      <td>NaN</td>\n",
       "      <td>0 g/km (comb.)</td>\n",
       "      <td>NaN</td>\n",
       "      <td>NaN</td>\n",
       "      <td>NaN</td>\n",
       "    </tr>\n",
       "    <tr>\n",
       "      <th>manufacturer_colour</th>\n",
       "      <td>NaN</td>\n",
       "      <td>Negro Obsidiana</td>\n",
       "      <td>Mountaingrau magno</td>\n",
       "      <td>Amarillo Sol</td>\n",
       "      <td>NaN</td>\n",
       "    </tr>\n",
       "    <tr>\n",
       "      <th>drivetrain</th>\n",
       "      <td>NaN</td>\n",
       "      <td>NaN</td>\n",
       "      <td>[\\n, 4WD, \\n]</td>\n",
       "      <td>[\\n, 4WD, \\n]</td>\n",
       "      <td>[\\n, 4WD, \\n]</td>\n",
       "    </tr>\n",
       "    <tr>\n",
       "      <th>cylinders</th>\n",
       "      <td>NaN</td>\n",
       "      <td>NaN</td>\n",
       "      <td>[\\n4\\n]</td>\n",
       "      <td>[\\n4\\n]</td>\n",
       "      <td>[\\n4\\n]</td>\n",
       "    </tr>\n",
       "    <tr>\n",
       "      <th>fuel_consumption</th>\n",
       "      <td>NaN</td>\n",
       "      <td>NaN</td>\n",
       "      <td>[[8.4 l/100 km (comb.)], [10.9 l/100 km (city)...</td>\n",
       "      <td>[[7.3 l/100 km (comb.)], [9.3 l/100 km (city)]...</td>\n",
       "      <td>[[4.9 l/100 km (comb.)], [5.7 l/100 km (city)]...</td>\n",
       "    </tr>\n",
       "    <tr>\n",
       "      <th>comfort_&amp;_convenience</th>\n",
       "      <td>NaN</td>\n",
       "      <td>NaN</td>\n",
       "      <td>NaN</td>\n",
       "      <td>[Air conditioning, Automatic climate control, ...</td>\n",
       "      <td>[Air conditioning, Electrical side mirrors, Mu...</td>\n",
       "    </tr>\n",
       "    <tr>\n",
       "      <th>entertainment_&amp;_media</th>\n",
       "      <td>NaN</td>\n",
       "      <td>NaN</td>\n",
       "      <td>NaN</td>\n",
       "      <td>[USB]</td>\n",
       "      <td>[Bluetooth, CD player, MP3, USB]</td>\n",
       "    </tr>\n",
       "    <tr>\n",
       "      <th>safety_&amp;_security</th>\n",
       "      <td>NaN</td>\n",
       "      <td>NaN</td>\n",
       "      <td>NaN</td>\n",
       "      <td>[ABS, Central door lock, Driver-side airbag, E...</td>\n",
       "      <td>[ABS, Central door lock, Driver-side airbag, E...</td>\n",
       "    </tr>\n",
       "    <tr>\n",
       "      <th>extras</th>\n",
       "      <td>NaN</td>\n",
       "      <td>NaN</td>\n",
       "      <td>NaN</td>\n",
       "      <td>[Sport seats]</td>\n",
       "      <td>NaN</td>\n",
       "    </tr>\n",
       "    <tr>\n",
       "      <th>empty_weight</th>\n",
       "      <td>NaN</td>\n",
       "      <td>NaN</td>\n",
       "      <td>NaN</td>\n",
       "      <td>NaN</td>\n",
       "      <td>[\\n1,545 kg\\n]</td>\n",
       "    </tr>\n",
       "    <tr>\n",
       "      <th>model_code</th>\n",
       "      <td>NaN</td>\n",
       "      <td>NaN</td>\n",
       "      <td>NaN</td>\n",
       "      <td>NaN</td>\n",
       "      <td>NaN</td>\n",
       "    </tr>\n",
       "    <tr>\n",
       "      <th>general_inspection</th>\n",
       "      <td>NaN</td>\n",
       "      <td>NaN</td>\n",
       "      <td>NaN</td>\n",
       "      <td>NaN</td>\n",
       "      <td>NaN</td>\n",
       "    </tr>\n",
       "    <tr>\n",
       "      <th>last_service</th>\n",
       "      <td>NaN</td>\n",
       "      <td>NaN</td>\n",
       "      <td>NaN</td>\n",
       "      <td>NaN</td>\n",
       "      <td>NaN</td>\n",
       "    </tr>\n",
       "    <tr>\n",
       "      <th>full_service_history</th>\n",
       "      <td>NaN</td>\n",
       "      <td>NaN</td>\n",
       "      <td>NaN</td>\n",
       "      <td>NaN</td>\n",
       "      <td>NaN</td>\n",
       "    </tr>\n",
       "    <tr>\n",
       "      <th>non_smoker_vehicle</th>\n",
       "      <td>NaN</td>\n",
       "      <td>NaN</td>\n",
       "      <td>NaN</td>\n",
       "      <td>NaN</td>\n",
       "      <td>NaN</td>\n",
       "    </tr>\n",
       "    <tr>\n",
       "      <th>emission_class</th>\n",
       "      <td>NaN</td>\n",
       "      <td>NaN</td>\n",
       "      <td>NaN</td>\n",
       "      <td>NaN</td>\n",
       "      <td>NaN</td>\n",
       "    </tr>\n",
       "    <tr>\n",
       "      <th>emissions_sticker</th>\n",
       "      <td>NaN</td>\n",
       "      <td>NaN</td>\n",
       "      <td>NaN</td>\n",
       "      <td>NaN</td>\n",
       "      <td>NaN</td>\n",
       "    </tr>\n",
       "    <tr>\n",
       "      <th>upholstery_colour</th>\n",
       "      <td>NaN</td>\n",
       "      <td>NaN</td>\n",
       "      <td>NaN</td>\n",
       "      <td>NaN</td>\n",
       "      <td>NaN</td>\n",
       "    </tr>\n",
       "    <tr>\n",
       "      <th>upholstery</th>\n",
       "      <td>NaN</td>\n",
       "      <td>NaN</td>\n",
       "      <td>NaN</td>\n",
       "      <td>NaN</td>\n",
       "      <td>NaN</td>\n",
       "    </tr>\n",
       "    <tr>\n",
       "      <th>production_date</th>\n",
       "      <td>NaN</td>\n",
       "      <td>NaN</td>\n",
       "      <td>NaN</td>\n",
       "      <td>NaN</td>\n",
       "      <td>NaN</td>\n",
       "    </tr>\n",
       "    <tr>\n",
       "      <th>previous_owner</th>\n",
       "      <td>NaN</td>\n",
       "      <td>NaN</td>\n",
       "      <td>NaN</td>\n",
       "      <td>NaN</td>\n",
       "      <td>NaN</td>\n",
       "    </tr>\n",
       "    <tr>\n",
       "      <th>other_fuel_types</th>\n",
       "      <td>NaN</td>\n",
       "      <td>NaN</td>\n",
       "      <td>NaN</td>\n",
       "      <td>NaN</td>\n",
       "      <td>NaN</td>\n",
       "    </tr>\n",
       "    <tr>\n",
       "      <th>power_consumption</th>\n",
       "      <td>NaN</td>\n",
       "      <td>NaN</td>\n",
       "      <td>NaN</td>\n",
       "      <td>NaN</td>\n",
       "      <td>NaN</td>\n",
       "    </tr>\n",
       "    <tr>\n",
       "      <th>energy_efficiency_class</th>\n",
       "      <td>NaN</td>\n",
       "      <td>NaN</td>\n",
       "      <td>NaN</td>\n",
       "      <td>NaN</td>\n",
       "      <td>NaN</td>\n",
       "    </tr>\n",
       "    <tr>\n",
       "      <th>co_efficiency</th>\n",
       "      <td>NaN</td>\n",
       "      <td>NaN</td>\n",
       "      <td>NaN</td>\n",
       "      <td>NaN</td>\n",
       "      <td>NaN</td>\n",
       "    </tr>\n",
       "    <tr>\n",
       "      <th>fuel_consumption_wltp</th>\n",
       "      <td>NaN</td>\n",
       "      <td>NaN</td>\n",
       "      <td>NaN</td>\n",
       "      <td>NaN</td>\n",
       "      <td>NaN</td>\n",
       "    </tr>\n",
       "    <tr>\n",
       "      <th>co_emissions_wltp</th>\n",
       "      <td>NaN</td>\n",
       "      <td>NaN</td>\n",
       "      <td>NaN</td>\n",
       "      <td>NaN</td>\n",
       "      <td>NaN</td>\n",
       "    </tr>\n",
       "    <tr>\n",
       "      <th>available_from</th>\n",
       "      <td>NaN</td>\n",
       "      <td>NaN</td>\n",
       "      <td>NaN</td>\n",
       "      <td>NaN</td>\n",
       "      <td>NaN</td>\n",
       "    </tr>\n",
       "    <tr>\n",
       "      <th>taxi_or_rental_car</th>\n",
       "      <td>NaN</td>\n",
       "      <td>NaN</td>\n",
       "      <td>NaN</td>\n",
       "      <td>NaN</td>\n",
       "      <td>NaN</td>\n",
       "    </tr>\n",
       "    <tr>\n",
       "      <th>availability</th>\n",
       "      <td>NaN</td>\n",
       "      <td>NaN</td>\n",
       "      <td>NaN</td>\n",
       "      <td>NaN</td>\n",
       "      <td>NaN</td>\n",
       "    </tr>\n",
       "    <tr>\n",
       "      <th>last_timing_belt_change</th>\n",
       "      <td>NaN</td>\n",
       "      <td>NaN</td>\n",
       "      <td>NaN</td>\n",
       "      <td>NaN</td>\n",
       "      <td>NaN</td>\n",
       "    </tr>\n",
       "    <tr>\n",
       "      <th>electric_range_wltp</th>\n",
       "      <td>NaN</td>\n",
       "      <td>NaN</td>\n",
       "      <td>NaN</td>\n",
       "      <td>NaN</td>\n",
       "      <td>NaN</td>\n",
       "    </tr>\n",
       "    <tr>\n",
       "      <th>power_consumption_wltp</th>\n",
       "      <td>NaN</td>\n",
       "      <td>NaN</td>\n",
       "      <td>NaN</td>\n",
       "      <td>NaN</td>\n",
       "      <td>NaN</td>\n",
       "    </tr>\n",
       "    <tr>\n",
       "      <th>battery_ownership</th>\n",
       "      <td>NaN</td>\n",
       "      <td>NaN</td>\n",
       "      <td>NaN</td>\n",
       "      <td>NaN</td>\n",
       "      <td>NaN</td>\n",
       "    </tr>\n",
       "  </tbody>\n",
       "</table>\n",
       "</div>"
      ],
      "text/plain": [
       "                                                                         0  \\\n",
       "make_model                                             Mercedes-Benz A 160   \n",
       "short_description                                                      CDi   \n",
       "make                                                     \\nMercedes-Benz\\n   \n",
       "model                                                      [\\n, A 160 ,\\n]   \n",
       "location                 P.I. EL PALMAR C/FORJA 6,  11500 PUERTO DE SAN...   \n",
       "price                                                           € 16,950.-   \n",
       "body_type                                                [\\n, Compact, \\n]   \n",
       "type                                                        [\\n, Used, \\n]   \n",
       "doors                                                          [\\n, 5, \\n]   \n",
       "country_version                                            [\\n, Spain, \\n]   \n",
       "offer_number                                             [\\n, 7468157, \\n]   \n",
       "warranty                                               [\\n, 24 months, \\n]   \n",
       "mileage                                                         120,200 km   \n",
       "first_registration                                                 06/2016   \n",
       "gearbox                                                       [\\nManual\\n]   \n",
       "fuel_type                                                           Diesel   \n",
       "colour                                                               Black   \n",
       "paint                                                             Metallic   \n",
       "desc                     [ , Precio al contado: 16950 euros,  ,  , Vehí...   \n",
       "seller                                                              Dealer   \n",
       "seats                                                                  NaN   \n",
       "power                                                                  NaN   \n",
       "engine_size                                                            NaN   \n",
       "gears                                                                  NaN   \n",
       "co_emissions                                                           NaN   \n",
       "manufacturer_colour                                                    NaN   \n",
       "drivetrain                                                             NaN   \n",
       "cylinders                                                              NaN   \n",
       "fuel_consumption                                                       NaN   \n",
       "comfort_&_convenience                                                  NaN   \n",
       "entertainment_&_media                                                  NaN   \n",
       "safety_&_security                                                      NaN   \n",
       "extras                                                                 NaN   \n",
       "empty_weight                                                           NaN   \n",
       "model_code                                                             NaN   \n",
       "general_inspection                                                     NaN   \n",
       "last_service                                                           NaN   \n",
       "full_service_history                                                   NaN   \n",
       "non_smoker_vehicle                                                     NaN   \n",
       "emission_class                                                         NaN   \n",
       "emissions_sticker                                                      NaN   \n",
       "upholstery_colour                                                      NaN   \n",
       "upholstery                                                             NaN   \n",
       "production_date                                                        NaN   \n",
       "previous_owner                                                         NaN   \n",
       "other_fuel_types                                                       NaN   \n",
       "power_consumption                                                      NaN   \n",
       "energy_efficiency_class                                                NaN   \n",
       "co_efficiency                                                          NaN   \n",
       "fuel_consumption_wltp                                                  NaN   \n",
       "co_emissions_wltp                                                      NaN   \n",
       "available_from                                                         NaN   \n",
       "taxi_or_rental_car                                                     NaN   \n",
       "availability                                                           NaN   \n",
       "last_timing_belt_change                                                NaN   \n",
       "electric_range_wltp                                                    NaN   \n",
       "power_consumption_wltp                                                 NaN   \n",
       "battery_ownership                                                      NaN   \n",
       "\n",
       "                                                                         1  \\\n",
       "make_model                                           Mercedes-Benz EQE 350   \n",
       "short_description                                                     350+   \n",
       "make                                                     \\nMercedes-Benz\\n   \n",
       "model                                                    [\\n, EQE 350 ,\\n]   \n",
       "location                      APARTADO DE CORREOS 1032,  26140 LOGROÑO, ES   \n",
       "price                                                           € 80,900.-   \n",
       "body_type                                                [\\n, Compact, \\n]   \n",
       "type                                              [\\n, Pre-registered, \\n]   \n",
       "doors                                                          [\\n, 4, \\n]   \n",
       "country_version                                            [\\n, Spain, \\n]   \n",
       "offer_number                                             [\\n, 7054863, \\n]   \n",
       "warranty                                               [\\n, 24 months, \\n]   \n",
       "mileage                                                           5,000 km   \n",
       "first_registration                                                 06/2022   \n",
       "gearbox                                                    [\\nAutomatic\\n]   \n",
       "fuel_type                                                         Electric   \n",
       "colour                                                                 NaN   \n",
       "paint                                                                  NaN   \n",
       "desc                     [ , Precio al contado: 88900 euros,  , AUTO OJ...   \n",
       "seller                                                              Dealer   \n",
       "seats                                                          [\\n, 5, \\n]   \n",
       "power                                                [\\n215 kW (292 hp)\\n]   \n",
       "engine_size                                                     [\\n1 cc\\n]   \n",
       "gears                                                              [\\n9\\n]   \n",
       "co_emissions                                                0 g/km (comb.)   \n",
       "manufacturer_colour                                        Negro Obsidiana   \n",
       "drivetrain                                                             NaN   \n",
       "cylinders                                                              NaN   \n",
       "fuel_consumption                                                       NaN   \n",
       "comfort_&_convenience                                                  NaN   \n",
       "entertainment_&_media                                                  NaN   \n",
       "safety_&_security                                                      NaN   \n",
       "extras                                                                 NaN   \n",
       "empty_weight                                                           NaN   \n",
       "model_code                                                             NaN   \n",
       "general_inspection                                                     NaN   \n",
       "last_service                                                           NaN   \n",
       "full_service_history                                                   NaN   \n",
       "non_smoker_vehicle                                                     NaN   \n",
       "emission_class                                                         NaN   \n",
       "emissions_sticker                                                      NaN   \n",
       "upholstery_colour                                                      NaN   \n",
       "upholstery                                                             NaN   \n",
       "production_date                                                        NaN   \n",
       "previous_owner                                                         NaN   \n",
       "other_fuel_types                                                       NaN   \n",
       "power_consumption                                                      NaN   \n",
       "energy_efficiency_class                                                NaN   \n",
       "co_efficiency                                                          NaN   \n",
       "fuel_consumption_wltp                                                  NaN   \n",
       "co_emissions_wltp                                                      NaN   \n",
       "available_from                                                         NaN   \n",
       "taxi_or_rental_car                                                     NaN   \n",
       "availability                                                           NaN   \n",
       "last_timing_belt_change                                                NaN   \n",
       "electric_range_wltp                                                    NaN   \n",
       "power_consumption_wltp                                                 NaN   \n",
       "battery_ownership                                                      NaN   \n",
       "\n",
       "                                                                         2  \\\n",
       "make_model                                          Mercedes-Benz A 45 AMG   \n",
       "short_description                                         S 4Matic+ 8G-DCT   \n",
       "make                                                     \\nMercedes-Benz\\n   \n",
       "model                                                   [\\n, A 45 AMG ,\\n]   \n",
       "location                 PORT. TARRACO, MOLL DE LLEVANT, Nº 5, LOC. 6-8...   \n",
       "price                                                           € 69,900.-   \n",
       "body_type                                                [\\n, Compact, \\n]   \n",
       "type                                                        [\\n, Used, \\n]   \n",
       "doors                                                          [\\n, 5, \\n]   \n",
       "country_version                                            [\\n, Spain, \\n]   \n",
       "offer_number                                             [\\n, 7410454, \\n]   \n",
       "warranty                                               [\\n, 12 months, \\n]   \n",
       "mileage                                                          18,900 km   \n",
       "first_registration                                                 07/2020   \n",
       "gearbox                                                    [\\nAutomatic\\n]   \n",
       "fuel_type                                                         Gasoline   \n",
       "colour                                                                Grey   \n",
       "paint                                                                  NaN   \n",
       "desc                     [Gris MANUFAKTUR mountaingrau magno,  , Linea/...   \n",
       "seller                                                              Dealer   \n",
       "seats                                                          [\\n, 5, \\n]   \n",
       "power                                                [\\n310 kW (421 hp)\\n]   \n",
       "engine_size                                                 [\\n1,991 cc\\n]   \n",
       "gears                                                              [\\n8\\n]   \n",
       "co_emissions                                                           NaN   \n",
       "manufacturer_colour                                     Mountaingrau magno   \n",
       "drivetrain                                                   [\\n, 4WD, \\n]   \n",
       "cylinders                                                          [\\n4\\n]   \n",
       "fuel_consumption         [[8.4 l/100 km (comb.)], [10.9 l/100 km (city)...   \n",
       "comfort_&_convenience                                                  NaN   \n",
       "entertainment_&_media                                                  NaN   \n",
       "safety_&_security                                                      NaN   \n",
       "extras                                                                 NaN   \n",
       "empty_weight                                                           NaN   \n",
       "model_code                                                             NaN   \n",
       "general_inspection                                                     NaN   \n",
       "last_service                                                           NaN   \n",
       "full_service_history                                                   NaN   \n",
       "non_smoker_vehicle                                                     NaN   \n",
       "emission_class                                                         NaN   \n",
       "emissions_sticker                                                      NaN   \n",
       "upholstery_colour                                                      NaN   \n",
       "upholstery                                                             NaN   \n",
       "production_date                                                        NaN   \n",
       "previous_owner                                                         NaN   \n",
       "other_fuel_types                                                       NaN   \n",
       "power_consumption                                                      NaN   \n",
       "energy_efficiency_class                                                NaN   \n",
       "co_efficiency                                                          NaN   \n",
       "fuel_consumption_wltp                                                  NaN   \n",
       "co_emissions_wltp                                                      NaN   \n",
       "available_from                                                         NaN   \n",
       "taxi_or_rental_car                                                     NaN   \n",
       "availability                                                           NaN   \n",
       "last_timing_belt_change                                                NaN   \n",
       "electric_range_wltp                                                    NaN   \n",
       "power_consumption_wltp                                                 NaN   \n",
       "battery_ownership                                                      NaN   \n",
       "\n",
       "                                                                         3  \\\n",
       "make_model                                          Mercedes-Benz A 35 AMG   \n",
       "short_description                                           4Matic+ 7G-DCT   \n",
       "make                                                     \\nMercedes-Benz\\n   \n",
       "model                                                   [\\n, A 35 AMG ,\\n]   \n",
       "location                 Carrer de Provença, 31 Local,  8029 BARCELONA, ES   \n",
       "price                                                           € 46,990.-   \n",
       "body_type                                                [\\n, Compact, \\n]   \n",
       "type                                                        [\\n, Used, \\n]   \n",
       "doors                                                          [\\n, 5, \\n]   \n",
       "country_version                                            [\\n, Spain, \\n]   \n",
       "offer_number                                             [\\n, 7464503, \\n]   \n",
       "warranty                                               [\\n, 12 months, \\n]   \n",
       "mileage                                                          18,995 km   \n",
       "first_registration                                                 01/2020   \n",
       "gearbox                                                    [\\nAutomatic\\n]   \n",
       "fuel_type                                                         Gasoline   \n",
       "colour                                                              Yellow   \n",
       "paint                                                                  NaN   \n",
       "desc                     [ , Precio al contado: 48990 euros,  ,  , BONI...   \n",
       "seller                                                              Dealer   \n",
       "seats                                                          [\\n, 5, \\n]   \n",
       "power                                                [\\n225 kW (306 hp)\\n]   \n",
       "engine_size                                                 [\\n1,991 cc\\n]   \n",
       "gears                                                              [\\n7\\n]   \n",
       "co_emissions                                                           NaN   \n",
       "manufacturer_colour                                           Amarillo Sol   \n",
       "drivetrain                                                   [\\n, 4WD, \\n]   \n",
       "cylinders                                                          [\\n4\\n]   \n",
       "fuel_consumption         [[7.3 l/100 km (comb.)], [9.3 l/100 km (city)]...   \n",
       "comfort_&_convenience    [Air conditioning, Automatic climate control, ...   \n",
       "entertainment_&_media                                                [USB]   \n",
       "safety_&_security        [ABS, Central door lock, Driver-side airbag, E...   \n",
       "extras                                                       [Sport seats]   \n",
       "empty_weight                                                           NaN   \n",
       "model_code                                                             NaN   \n",
       "general_inspection                                                     NaN   \n",
       "last_service                                                           NaN   \n",
       "full_service_history                                                   NaN   \n",
       "non_smoker_vehicle                                                     NaN   \n",
       "emission_class                                                         NaN   \n",
       "emissions_sticker                                                      NaN   \n",
       "upholstery_colour                                                      NaN   \n",
       "upholstery                                                             NaN   \n",
       "production_date                                                        NaN   \n",
       "previous_owner                                                         NaN   \n",
       "other_fuel_types                                                       NaN   \n",
       "power_consumption                                                      NaN   \n",
       "energy_efficiency_class                                                NaN   \n",
       "co_efficiency                                                          NaN   \n",
       "fuel_consumption_wltp                                                  NaN   \n",
       "co_emissions_wltp                                                      NaN   \n",
       "available_from                                                         NaN   \n",
       "taxi_or_rental_car                                                     NaN   \n",
       "availability                                                           NaN   \n",
       "last_timing_belt_change                                                NaN   \n",
       "electric_range_wltp                                                    NaN   \n",
       "power_consumption_wltp                                                 NaN   \n",
       "battery_ownership                                                      NaN   \n",
       "\n",
       "                                                                         4  \n",
       "make_model                                          Mercedes-Benz A 45 AMG  \n",
       "short_description                                 200CDI BE Line 4M 7G-DCT  \n",
       "make                                                     \\nMercedes-Benz\\n  \n",
       "model                                                   [\\n, A 45 AMG ,\\n]  \n",
       "location                            CARRIL ARAGONES 4,  30007 CASILLAS, ES  \n",
       "price                                                           € 16,800.-  \n",
       "body_type                                                [\\n, Compact, \\n]  \n",
       "type                                                        [\\n, Used, \\n]  \n",
       "doors                                                          [\\n, 5, \\n]  \n",
       "country_version                                            [\\n, Spain, \\n]  \n",
       "offer_number                                             [\\n, 7127931, \\n]  \n",
       "warranty                                               [\\n, 12 months, \\n]  \n",
       "mileage                                                         197,000 km  \n",
       "first_registration                                                 09/2015  \n",
       "gearbox                                                    [\\nAutomatic\\n]  \n",
       "fuel_type                                                           Diesel  \n",
       "colour                                                               White  \n",
       "paint                                                             Metallic  \n",
       "desc                     [ , Precio al contado: 17400 euros,  , Vehícul...  \n",
       "seller                                                              Dealer  \n",
       "seats                                                          [\\n, 5, \\n]  \n",
       "power                                                [\\n100 kW (136 hp)\\n]  \n",
       "engine_size                                                 [\\n2,143 cc\\n]  \n",
       "gears                                                              [\\n7\\n]  \n",
       "co_emissions                                                           NaN  \n",
       "manufacturer_colour                                                    NaN  \n",
       "drivetrain                                                   [\\n, 4WD, \\n]  \n",
       "cylinders                                                          [\\n4\\n]  \n",
       "fuel_consumption         [[4.9 l/100 km (comb.)], [5.7 l/100 km (city)]...  \n",
       "comfort_&_convenience    [Air conditioning, Electrical side mirrors, Mu...  \n",
       "entertainment_&_media                     [Bluetooth, CD player, MP3, USB]  \n",
       "safety_&_security        [ABS, Central door lock, Driver-side airbag, E...  \n",
       "extras                                                                 NaN  \n",
       "empty_weight                                                [\\n1,545 kg\\n]  \n",
       "model_code                                                             NaN  \n",
       "general_inspection                                                     NaN  \n",
       "last_service                                                           NaN  \n",
       "full_service_history                                                   NaN  \n",
       "non_smoker_vehicle                                                     NaN  \n",
       "emission_class                                                         NaN  \n",
       "emissions_sticker                                                      NaN  \n",
       "upholstery_colour                                                      NaN  \n",
       "upholstery                                                             NaN  \n",
       "production_date                                                        NaN  \n",
       "previous_owner                                                         NaN  \n",
       "other_fuel_types                                                       NaN  \n",
       "power_consumption                                                      NaN  \n",
       "energy_efficiency_class                                                NaN  \n",
       "co_efficiency                                                          NaN  \n",
       "fuel_consumption_wltp                                                  NaN  \n",
       "co_emissions_wltp                                                      NaN  \n",
       "available_from                                                         NaN  \n",
       "taxi_or_rental_car                                                     NaN  \n",
       "availability                                                           NaN  \n",
       "last_timing_belt_change                                                NaN  \n",
       "electric_range_wltp                                                    NaN  \n",
       "power_consumption_wltp                                                 NaN  \n",
       "battery_ownership                                                      NaN  "
      ]
     },
     "execution_count": 4,
     "metadata": {},
     "output_type": "execute_result"
    }
   ],
   "source": [
    "df.head().T"
   ]
  },
  {
   "cell_type": "code",
   "execution_count": 5,
   "metadata": {},
   "outputs": [],
   "source": [
    "# skim(df)      Data frame hakkinda guzel gorsellestirilmis genel istatistiki bilgiler verir. "
   ]
  },
  {
   "cell_type": "code",
   "execution_count": 6,
   "metadata": {},
   "outputs": [
    {
     "data": {
      "text/plain": [
       "(29480, 58)"
      ]
     },
     "execution_count": 6,
     "metadata": {},
     "output_type": "execute_result"
    }
   ],
   "source": [
    "df.shape"
   ]
  },
  {
   "cell_type": "code",
   "execution_count": 7,
   "metadata": {},
   "outputs": [
    {
     "name": "stdout",
     "output_type": "stream",
     "text": [
      "<class 'pandas.core.frame.DataFrame'>\n",
      "RangeIndex: 29480 entries, 0 to 29479\n",
      "Data columns (total 58 columns):\n",
      " #   Column                   Non-Null Count  Dtype  \n",
      "---  ------                   --------------  -----  \n",
      " 0   make_model               28630 non-null  object \n",
      " 1   short_description        28630 non-null  object \n",
      " 2   make                     28630 non-null  object \n",
      " 3   model                    28630 non-null  object \n",
      " 4   location                 28630 non-null  object \n",
      " 5   price                    28630 non-null  object \n",
      " 6   body_type                28630 non-null  object \n",
      " 7   type                     28630 non-null  object \n",
      " 8   doors                    28271 non-null  object \n",
      " 9   country_version          16889 non-null  object \n",
      " 10  offer_number             23100 non-null  object \n",
      " 11  warranty                 15784 non-null  object \n",
      " 12  mileage                  28629 non-null  object \n",
      " 13  first_registration       28628 non-null  object \n",
      " 14  gearbox                  28382 non-null  object \n",
      " 15  fuel_type                26843 non-null  object \n",
      " 16  colour                   26906 non-null  object \n",
      " 17  paint                    14495 non-null  object \n",
      " 18  desc                     28047 non-null  object \n",
      " 19  seller                   28630 non-null  object \n",
      " 20  seats                    25505 non-null  object \n",
      " 21  power                    28058 non-null  object \n",
      " 22  engine_size              27227 non-null  object \n",
      " 23  gears                    18954 non-null  object \n",
      " 24  co_emissions             18594 non-null  object \n",
      " 25  manufacturer_colour      21787 non-null  object \n",
      " 26  drivetrain               16893 non-null  object \n",
      " 27  cylinders                18852 non-null  object \n",
      " 28  fuel_consumption         23385 non-null  object \n",
      " 29  comfort_&_convenience    25433 non-null  object \n",
      " 30  entertainment_&_media    23644 non-null  object \n",
      " 31  safety_&_security        25415 non-null  object \n",
      " 32  extras                   23480 non-null  object \n",
      " 33  empty_weight             17758 non-null  object \n",
      " 34  model_code               8367 non-null   object \n",
      " 35  general_inspection       12254 non-null  object \n",
      " 36  last_service             2003 non-null   object \n",
      " 37  full_service_history     12565 non-null  object \n",
      " 38  non_smoker_vehicle       11594 non-null  object \n",
      " 39  emission_class           17859 non-null  object \n",
      " 40  emissions_sticker        9414 non-null   object \n",
      " 41  upholstery_colour        14569 non-null  object \n",
      " 42  upholstery               18610 non-null  object \n",
      " 43  production_date          5908 non-null   float64\n",
      " 44  previous_owner           14015 non-null  object \n",
      " 45  other_fuel_types         2313 non-null   object \n",
      " 46  power_consumption        515 non-null    object \n",
      " 47  energy_efficiency_class  7804 non-null   object \n",
      " 48  co_efficiency            7804 non-null   object \n",
      " 49  fuel_consumption_wltp    100 non-null    object \n",
      " 50  co_emissions_wltp        116 non-null    object \n",
      " 51  available_from           393 non-null    object \n",
      " 52  taxi_or_rental_car       422 non-null    object \n",
      " 53  availability             301 non-null    object \n",
      " 54  last_timing_belt_change  572 non-null    object \n",
      " 55  electric_range_wltp      16 non-null     object \n",
      " 56  power_consumption_wltp   16 non-null     object \n",
      " 57  battery_ownership        7 non-null      object \n",
      "dtypes: float64(1), object(57)\n",
      "memory usage: 13.0+ MB\n"
     ]
    }
   ],
   "source": [
    "df.info()"
   ]
  },
  {
   "cell_type": "markdown",
   "metadata": {
    "id": "vvgJ5KWTs1MB"
   },
   "source": [
    "# PART- 1 `( Data Cleaning )`"
   ]
  },
  {
   "cell_type": "markdown",
   "metadata": {},
   "source": [
    "<a id = \"1\"></a>\n",
    "## <p style=\"background-color:#6b5b95; font-family:newtimeroman;color:#FFF9ED; font-size:150%; text-align:center; border-radius: 15px 50px;\"> Reading and understanding data </p>\n"
   ]
  },
  {
   "cell_type": "markdown",
   "metadata": {},
   "source": [
    "<a id = \"1\"></a>\n",
    "### <p style=\"background-color:#6b5b95; font-family:newtimeroman;color:#FFF9ED; font-size:150%; text-align:left; border-radius: 15px 50px;\">    Let's examine our data column by column </p>"
   ]
  },
  {
   "cell_type": "markdown",
   "metadata": {},
   "source": [
    "### #3 make  &#9989;"
   ]
  },
  {
   "cell_type": "code",
   "execution_count": 8,
   "metadata": {},
   "outputs": [
    {
     "data": {
      "text/plain": [
       "\\nVolvo\\n            3659\n",
       "\\nMercedes-Benz\\n    2398\n",
       "\\nOpel\\n             2385\n",
       "\\nPeugeot\\n          2360\n",
       "\\nRenault\\n          2351\n",
       "\\nFiat\\n             2338\n",
       "\\nFord\\n             2324\n",
       "\\nNissan\\n           2064\n",
       "\\nToyota\\n           2038\n",
       "\\nHyundai\\n          1867\n",
       "\\nSEAT\\n             1743\n",
       "\\nSkoda\\n            1566\n",
       "\\nDacia\\n            1537\n",
       "NaN                   850\n",
       "Name: make, dtype: int64"
      ]
     },
     "execution_count": 8,
     "metadata": {},
     "output_type": "execute_result"
    }
   ],
   "source": [
    "df['make'].value_counts(dropna=False)"
   ]
  },
  {
   "cell_type": "code",
   "execution_count": 9,
   "metadata": {},
   "outputs": [
    {
     "data": {
      "text/plain": [
       "0        Mercedes-Benz\n",
       "1        Mercedes-Benz\n",
       "2        Mercedes-Benz\n",
       "3        Mercedes-Benz\n",
       "4        Mercedes-Benz\n",
       "             ...      \n",
       "29475            Volvo\n",
       "29476            Volvo\n",
       "29477            Volvo\n",
       "29478            Volvo\n",
       "29479              NaN\n",
       "Name: make, Length: 29480, dtype: category\n",
       "Categories (13, object): ['Dacia', 'Fiat', 'Ford', 'Hyundai', ..., 'SEAT', 'Skoda', 'Toyota', 'Volvo']"
      ]
     },
     "execution_count": 9,
     "metadata": {},
     "output_type": "execute_result"
    }
   ],
   "source": [
    "df['make'] = df.make.str.strip().astype('category')\n",
    "df['make']"
   ]
  },
  {
   "cell_type": "markdown",
   "metadata": {},
   "source": [
    "### #4 model  &#9989;"
   ]
  },
  {
   "cell_type": "code",
   "execution_count": 10,
   "metadata": {},
   "outputs": [
    {
     "data": {
      "text/plain": [
       "[\\n, Megane ,\\n]        863\n",
       "[\\n, Leon ,\\n]          787\n",
       "[\\n, V40 ,\\n]           740\n",
       "[\\n, Sandero ,\\n]       730\n",
       "[\\n, i30 ,\\n]           706\n",
       "                       ... \n",
       "[\\n, GLA 35 AMG ,\\n]      1\n",
       "[\\n, G 55 AMG ,\\n]        1\n",
       "[\\n, Ariya ,\\n]           1\n",
       "[\\n, 105 ,\\n]             1\n",
       "[\\n, 244 ,\\n]             1\n",
       "Name: model, Length: 594, dtype: int64"
      ]
     },
     "execution_count": 10,
     "metadata": {},
     "output_type": "execute_result"
    }
   ],
   "source": [
    "df['model'].value_counts()"
   ]
  },
  {
   "cell_type": "code",
   "execution_count": 122,
   "metadata": {},
   "outputs": [
    {
     "data": {
      "text/plain": [
       "0          A160\n",
       "1        EQE350\n",
       "2        A45AMG\n",
       "3        A35AMG\n",
       "4        A45AMG\n",
       "          ...  \n",
       "29475       S40\n",
       "29476       C30\n",
       "29477       S90\n",
       "29478       S80\n",
       "29479       NaN\n",
       "Name: model, Length: 29480, dtype: object"
      ]
     },
     "execution_count": 122,
     "metadata": {},
     "output_type": "execute_result"
    }
   ],
   "source": [
    "df['model'] = df['model'].explode().str.strip('\\n, ').str.replace(' ','')\n",
    "df['model']"
   ]
  },
  {
   "cell_type": "markdown",
   "metadata": {},
   "source": [
    "### #5 price &#9989;"
   ]
  },
  {
   "cell_type": "code",
   "execution_count": 12,
   "metadata": {},
   "outputs": [
    {
     "data": {
      "text/plain": [
       "688      € 164,900.-\n",
       "25735      € 5,950.-\n",
       "20036    € 104,950.-\n",
       "23467     € 15,650.-\n",
       "17497     € 19,990.-\n",
       "15812     € 17,980.-\n",
       "23938      € 2,949.-\n",
       "27730     € 32,900.-\n",
       "21566            NaN\n",
       "10552     € 50,000.-\n",
       "Name: price, dtype: object"
      ]
     },
     "execution_count": 12,
     "metadata": {},
     "output_type": "execute_result"
    }
   ],
   "source": [
    "df['price'].sample(10)"
   ]
  },
  {
   "cell_type": "code",
   "execution_count": 13,
   "metadata": {},
   "outputs": [
    {
     "data": {
      "text/plain": [
       "7529     11850.0\n",
       "17607    29000.0\n",
       "2719     13990.0\n",
       "21743    44980.0\n",
       "8061     15200.0\n",
       "21064    19480.0\n",
       "1178     27990.0\n",
       "13805    14775.0\n",
       "1731     51849.0\n",
       "17337    26220.0\n",
       "Name: price, dtype: float64"
      ]
     },
     "execution_count": 13,
     "metadata": {},
     "output_type": "execute_result"
    }
   ],
   "source": [
    "df[\"price\"] = df.price.str.strip(\"€-\").str.replace(\",\", \"\").str.replace(\" \", \"\").str.replace(\".\", \"\").astype(float)\n",
    "df.price.sample(10)"
   ]
  },
  {
   "cell_type": "markdown",
   "metadata": {},
   "source": [
    "### #6 body_type  &#9989;"
   ]
  },
  {
   "cell_type": "code",
   "execution_count": 14,
   "metadata": {
    "scrolled": true
   },
   "outputs": [
    {
     "data": {
      "text/plain": [
       "[\\n, Station wagon, \\n]       5448\n",
       "[\\n, Off-Road/Pick-up, \\n]    5415\n",
       "[\\n, Compact, \\n]             5387\n",
       "[\\n, Sedan, \\n]               5043\n",
       "[\\n, Coupe, \\n]               4009\n",
       "[\\n, Convertible, \\n]         3328\n",
       "NaN                            850\n",
       "Name: body_type, dtype: int64"
      ]
     },
     "execution_count": 14,
     "metadata": {},
     "output_type": "execute_result"
    }
   ],
   "source": [
    "df.body_type.value_counts(dropna=False)"
   ]
  },
  {
   "cell_type": "code",
   "execution_count": 15,
   "metadata": {},
   "outputs": [
    {
     "data": {
      "text/plain": [
       "0        Compact\n",
       "1        Compact\n",
       "2        Compact\n",
       "3        Compact\n",
       "4        Compact\n",
       "          ...   \n",
       "29475      Sedan\n",
       "29476      Sedan\n",
       "29477      Sedan\n",
       "29478      Sedan\n",
       "29479        NaN\n",
       "Name: body_type, Length: 29480, dtype: object"
      ]
     },
     "execution_count": 15,
     "metadata": {},
     "output_type": "execute_result"
    }
   ],
   "source": [
    "df['body_type'] = df['body_type'].explode().str.strip().str.replace(',','').str.replace(' ','')\n",
    "df['body_type']"
   ]
  },
  {
   "cell_type": "markdown",
   "metadata": {},
   "source": [
    "### #7 type &#9989;"
   ]
  },
  {
   "cell_type": "code",
   "execution_count": 16,
   "metadata": {},
   "outputs": [
    {
     "data": {
      "text/plain": [
       "[\\n, Used, \\n]              25251\n",
       "[\\n, Demonstration, \\n]      1433\n",
       "[\\n, Pre-registered, \\n]     1377\n",
       "NaN                           850\n",
       "[\\n, Employee's car, \\n]      569\n",
       "Name: type, dtype: int64"
      ]
     },
     "execution_count": 16,
     "metadata": {},
     "output_type": "execute_result"
    }
   ],
   "source": [
    "df['type'].value_counts(dropna=False)"
   ]
  },
  {
   "cell_type": "code",
   "execution_count": 17,
   "metadata": {},
   "outputs": [],
   "source": [
    "df['type'] = df.type.map(lambda x : x[0].split(\",\")[1].strip() if type(x) == list else x)\n"
   ]
  },
  {
   "cell_type": "code",
   "execution_count": 18,
   "metadata": {},
   "outputs": [
    {
     "data": {
      "text/plain": [
       "5683     Used\n",
       "29410    Used\n",
       "23967    Used\n",
       "28612    Used\n",
       "12588    Used\n",
       "13612    Used\n",
       "29222    Used\n",
       "5531     Used\n",
       "3134     Used\n",
       "21918    Used\n",
       "Name: type, dtype: object"
      ]
     },
     "execution_count": 18,
     "metadata": {},
     "output_type": "execute_result"
    }
   ],
   "source": [
    "df['type'].sample(10)"
   ]
  },
  {
   "cell_type": "markdown",
   "metadata": {},
   "source": [
    "### #8 doors &#9989;"
   ]
  },
  {
   "cell_type": "code",
   "execution_count": 19,
   "metadata": {},
   "outputs": [
    {
     "data": {
      "text/plain": [
       "[\\n, 5, \\n]    17481\n",
       "[\\n, 2, \\n]     5523\n",
       "[\\n, 4, \\n]     3001\n",
       "[\\n, 3, \\n]     2259\n",
       "[\\n, 6, \\n]        5\n",
       "[\\n, 1, \\n]        2\n",
       "Name: doors, dtype: int64"
      ]
     },
     "execution_count": 19,
     "metadata": {},
     "output_type": "execute_result"
    }
   ],
   "source": [
    "df['doors'].value_counts()"
   ]
  },
  {
   "cell_type": "code",
   "execution_count": 20,
   "metadata": {},
   "outputs": [],
   "source": [
    "df['doors'] = df['doors'].apply(lambda x : x[0].split(',')[1] if type(x) == list else x).astype(float)"
   ]
  },
  {
   "cell_type": "code",
   "execution_count": 21,
   "metadata": {},
   "outputs": [
    {
     "data": {
      "text/plain": [
       "0        5.0\n",
       "1        4.0\n",
       "2        5.0\n",
       "3        5.0\n",
       "4        5.0\n",
       "        ... \n",
       "29475    4.0\n",
       "29476    3.0\n",
       "29477    4.0\n",
       "29478    4.0\n",
       "29479    NaN\n",
       "Name: doors, Length: 29480, dtype: float64"
      ]
     },
     "execution_count": 21,
     "metadata": {},
     "output_type": "execute_result"
    }
   ],
   "source": [
    "df['doors']"
   ]
  },
  {
   "cell_type": "markdown",
   "metadata": {},
   "source": [
    "### #9 country_version  &#9989;"
   ]
  },
  {
   "cell_type": "code",
   "execution_count": 22,
   "metadata": {},
   "outputs": [
    {
     "data": {
      "text/plain": [
       "[\\n, Germany, \\n]           7939\n",
       "[\\n, Spain, \\n]             6376\n",
       "[\\n, Italy, \\n]              679\n",
       "[\\n, Belgium, \\n]            641\n",
       "[\\n, European Union, \\n]     340\n",
       "[\\n, Netherlands, \\n]        306\n",
       "[\\n, Austria, \\n]            266\n",
       "[\\n, France, \\n]             101\n",
       "[\\n, United States, \\n]       57\n",
       "[\\n, Czechia, \\n]             47\n",
       "[\\n, Poland, \\n]              31\n",
       "[\\n, Hungary, \\n]             21\n",
       "[\\n, Denmark, \\n]             21\n",
       "[\\n, Romania, \\n]             12\n",
       "[\\n, Japan, \\n]               12\n",
       "[\\n, Switzerland, \\n]          9\n",
       "[\\n, Luxembourg, \\n]           9\n",
       "[\\n, Sweden, \\n]               6\n",
       "[\\n, Slovenia, \\n]             5\n",
       "[\\n, Slovakia, \\n]             4\n",
       "[\\n, Croatia, \\n]              3\n",
       "[\\n, Bulgaria, \\n]             1\n",
       "[\\n, Malta, \\n]                1\n",
       "[\\n, Canada, \\n]               1\n",
       "[\\n, Mexico, \\n]               1\n",
       "Name: country_version, dtype: int64"
      ]
     },
     "execution_count": 22,
     "metadata": {},
     "output_type": "execute_result"
    }
   ],
   "source": [
    "df['country_version'].value_counts()"
   ]
  },
  {
   "cell_type": "code",
   "execution_count": 23,
   "metadata": {
    "scrolled": false
   },
   "outputs": [
    {
     "data": {
      "text/plain": [
       "Germany           7939\n",
       "Spain             6376\n",
       "Italy              679\n",
       "Belgium            641\n",
       "European Union     340\n",
       "Netherlands        306\n",
       "Austria            266\n",
       "France             101\n",
       "United States       57\n",
       "Czechia             47\n",
       "Poland              31\n",
       "Hungary             21\n",
       "Denmark             21\n",
       "Romania             12\n",
       "Japan               12\n",
       "Switzerland          9\n",
       "Luxembourg           9\n",
       "Sweden               6\n",
       "Slovenia             5\n",
       "Slovakia             4\n",
       "Croatia              3\n",
       "Bulgaria             1\n",
       "Malta                1\n",
       "Canada               1\n",
       "Mexico               1\n",
       "Name: country_version, dtype: int64"
      ]
     },
     "execution_count": 23,
     "metadata": {},
     "output_type": "execute_result"
    }
   ],
   "source": [
    "df['country_version'] = df.country_version.str.join(\",\").str.strip('\\n, ')\n",
    "df['country_version'].value_counts()"
   ]
  },
  {
   "cell_type": "markdown",
   "metadata": {},
   "source": [
    "### #10 offer_number  &#9989;"
   ]
  },
  {
   "cell_type": "code",
   "execution_count": 24,
   "metadata": {},
   "outputs": [
    {
     "data": {
      "text/plain": [
       "0         [\\n, 7468157, \\n]\n",
       "1         [\\n, 7054863, \\n]\n",
       "2         [\\n, 7410454, \\n]\n",
       "3         [\\n, 7464503, \\n]\n",
       "4         [\\n, 7127931, \\n]\n",
       "                ...        \n",
       "29475    [\\n, 09-PF-XS, \\n]\n",
       "29476                   NaN\n",
       "29477        [\\n, 2791, \\n]\n",
       "29478    [\\n, 43-JR-LR, \\n]\n",
       "29479                   NaN\n",
       "Name: offer_number, Length: 29480, dtype: object"
      ]
     },
     "execution_count": 24,
     "metadata": {},
     "output_type": "execute_result"
    }
   ],
   "source": [
    "df['offer_number']"
   ]
  },
  {
   "cell_type": "code",
   "execution_count": 25,
   "metadata": {},
   "outputs": [
    {
     "data": {
      "text/plain": [
       "0         7468157\n",
       "1         7054863\n",
       "2         7410454\n",
       "3         7464503\n",
       "4         7127931\n",
       "           ...   \n",
       "29475    09-PF-XS\n",
       "29476         NaN\n",
       "29477        2791\n",
       "29478    43-JR-LR\n",
       "29479         NaN\n",
       "Name: offer_number, Length: 29480, dtype: object"
      ]
     },
     "execution_count": 25,
     "metadata": {},
     "output_type": "execute_result"
    }
   ],
   "source": [
    "df['offer_number'] = df['offer_number'].str.join(\",\").str.strip('\\n, ')\n",
    "df['offer_number']"
   ]
  },
  {
   "cell_type": "markdown",
   "metadata": {},
   "source": [
    "### #11 warranty"
   ]
  },
  {
   "cell_type": "code",
   "execution_count": 26,
   "metadata": {},
   "outputs": [
    {
     "data": {
      "text/plain": [
       "NaN                     13696\n",
       "[\\n, 12 months, \\n]      9545\n",
       "[\\n, Yes, \\n]            2319\n",
       "[\\n, 24 months, \\n]      1515\n",
       "[\\n, 60 months, \\n]       968\n",
       "                        ...  \n",
       "[\\n, 55 months, \\n]         1\n",
       "[\\n, 99 months, \\n]         1\n",
       "[\\n, 122 months, \\n]        1\n",
       "[\\n, 44 months, \\n]         1\n",
       "[\\n, 4 months, \\n]          1\n",
       "Name: warranty, Length: 66, dtype: int64"
      ]
     },
     "execution_count": 26,
     "metadata": {},
     "output_type": "execute_result"
    }
   ],
   "source": [
    "df['warranty'].value_counts(dropna=False)"
   ]
  },
  {
   "cell_type": "code",
   "execution_count": 27,
   "metadata": {},
   "outputs": [
    {
     "data": {
      "text/plain": [
       "0        24 months\n",
       "1        24 months\n",
       "2        12 months\n",
       "3        12 months\n",
       "4        12 months\n",
       "           ...    \n",
       "29475          NaN\n",
       "29476    13 months\n",
       "29477    12 months\n",
       "29478          NaN\n",
       "29479          NaN\n",
       "Name: warranty, Length: 29480, dtype: object"
      ]
     },
     "execution_count": 27,
     "metadata": {},
     "output_type": "execute_result"
    }
   ],
   "source": [
    "df['warranty'] = df['warranty'].str.join(\",\").str.strip('\\n, ')\n",
    "df['warranty']"
   ]
  },
  {
   "cell_type": "code",
   "execution_count": 28,
   "metadata": {},
   "outputs": [],
   "source": [
    "###  SORU 01 ;  months'lari birakacak miyiz ? yoksa silmemiz gerekmez mi? "
   ]
  },
  {
   "cell_type": "markdown",
   "metadata": {},
   "source": [
    "### #12 mileage  &#9989;"
   ]
  },
  {
   "cell_type": "code",
   "execution_count": 29,
   "metadata": {},
   "outputs": [
    {
     "data": {
      "text/plain": [
       "0        120,200 km\n",
       "1          5,000 km\n",
       "2         18,900 km\n",
       "3         18,995 km\n",
       "4        197,000 km\n",
       "            ...    \n",
       "29475    145,000 km\n",
       "29476     96,000 km\n",
       "29477     94,343 km\n",
       "29478    230,047 km\n",
       "29479           NaN\n",
       "Name: mileage, Length: 29480, dtype: object"
      ]
     },
     "execution_count": 29,
     "metadata": {},
     "output_type": "execute_result"
    }
   ],
   "source": [
    "df['mileage']"
   ]
  },
  {
   "cell_type": "code",
   "execution_count": 30,
   "metadata": {},
   "outputs": [
    {
     "data": {
      "text/plain": [
       "0        120200.0\n",
       "1          5000.0\n",
       "2         18900.0\n",
       "3         18995.0\n",
       "4        197000.0\n",
       "           ...   \n",
       "29475    145000.0\n",
       "29476     96000.0\n",
       "29477     94343.0\n",
       "29478    230047.0\n",
       "29479         NaN\n",
       "Name: mileage, Length: 29480, dtype: float64"
      ]
     },
     "execution_count": 30,
     "metadata": {},
     "output_type": "execute_result"
    }
   ],
   "source": [
    "df[\"mileage\"] = df.mileage.str.strip(\"\\\"dolar$km\").str.replace(\",\", \"\").astype(float)\n",
    "df.mileage"
   ]
  },
  {
   "cell_type": "markdown",
   "metadata": {},
   "source": [
    "### #13 first_registration"
   ]
  },
  {
   "cell_type": "code",
   "execution_count": 31,
   "metadata": {},
   "outputs": [
    {
     "data": {
      "text/plain": [
       "0        06/2016\n",
       "1        06/2022\n",
       "2        07/2020\n",
       "3        01/2020\n",
       "4        09/2015\n",
       "          ...   \n",
       "29475    06/2004\n",
       "29476    04/2011\n",
       "29477    11/2017\n",
       "29478    07/2002\n",
       "29479        NaN\n",
       "Name: first_registration, Length: 29480, dtype: object"
      ]
     },
     "execution_count": 31,
     "metadata": {},
     "output_type": "execute_result"
    }
   ],
   "source": [
    "df['first_registration']"
   ]
  },
  {
   "cell_type": "code",
   "execution_count": 32,
   "metadata": {},
   "outputs": [],
   "source": [
    "# everything is up to date\n",
    "\n"
   ]
  },
  {
   "cell_type": "markdown",
   "metadata": {},
   "source": [
    "### #14 gearbox  &#9989;"
   ]
  },
  {
   "cell_type": "code",
   "execution_count": 33,
   "metadata": {},
   "outputs": [
    {
     "data": {
      "text/plain": [
       "[\\nManual\\n]            17023\n",
       "[\\nAutomatic\\n]         11287\n",
       "[\\nSemi-automatic\\n]       72\n",
       "Name: gearbox, dtype: int64"
      ]
     },
     "execution_count": 33,
     "metadata": {},
     "output_type": "execute_result"
    }
   ],
   "source": [
    "df['gearbox'].value_counts()"
   ]
  },
  {
   "cell_type": "code",
   "execution_count": 34,
   "metadata": {},
   "outputs": [
    {
     "data": {
      "text/plain": [
       "0           Manual\n",
       "1        Automatic\n",
       "2        Automatic\n",
       "3        Automatic\n",
       "4        Automatic\n",
       "           ...    \n",
       "29475    Automatic\n",
       "29476       Manual\n",
       "29477    Automatic\n",
       "29478    Automatic\n",
       "29479          NaN\n",
       "Name: gearbox, Length: 29480, dtype: object"
      ]
     },
     "execution_count": 34,
     "metadata": {},
     "output_type": "execute_result"
    }
   ],
   "source": [
    "df['gearbox'] = df['gearbox'].str.join(\",\").str.strip()\n",
    "df['gearbox']"
   ]
  },
  {
   "cell_type": "markdown",
   "metadata": {},
   "source": [
    "### #15 fuel_type"
   ]
  },
  {
   "cell_type": "code",
   "execution_count": 35,
   "metadata": {},
   "outputs": [
    {
     "data": {
      "text/plain": [
       "Gasoline                                                                                              8532\n",
       "Diesel                                                                                                5911\n",
       "Super 95                                                                                              3557\n",
       "Diesel (Particle filter)                                                                              2816\n",
       "Regular/Benzine 91                                                                                    2065\n",
       "Super E10 95                                                                                          1016\n",
       "Regular/Benzine 91 (Particle filter)                                                                   555\n",
       "Super 95 (Particle filter)                                                                             537\n",
       "Super E10 95 (Particle filter)                                                                         324\n",
       "Regular/Benzine E10 91                                                                                 278\n",
       "Others                                                                                                 197\n",
       "Gasoline (Particle filter)                                                                             196\n",
       "Electric                                                                                               185\n",
       "Super Plus 98                                                                                          170\n",
       "Liquid petroleum gas (LPG)                                                                             148\n",
       "CNG                                                                                                     87\n",
       "LPG                                                                                                     73\n",
       "Super Plus E10 98                                                                                       42\n",
       "Super Plus E10 98 (Particle filter)                                                                     35\n",
       "Domestic gas H                                                                                          24\n",
       "Others (Particle filter)                                                                                16\n",
       "Super Plus 98 (Particle filter)                                                                         15\n",
       "Domestic gas L                                                                                          10\n",
       "Regular/Benzine E10 91 (Particle filter)                                                                 8\n",
       "CNG (Particle filter)                                                                                    8\n",
       "LPG (Particle filter)                                                                                    4\n",
       "Hydrogen                                                                                                 3\n",
       "Liquid petroleum gas (LPG) (Particle filter) / Super 95 / Super E10 95                                   3\n",
       "Electric (Particle filter)                                                                               3\n",
       "Ethanol                                                                                                  3\n",
       "Liquid petroleum gas (LPG) / Super 95 / Super Plus 98 / Super Plus E10 98 / Super E10 95                 2\n",
       "Liquid petroleum gas (LPG) / Super 95 / Super E10 95 / Super Plus 98                                     2\n",
       "Liquid petroleum gas (LPG) / Super 95                                                                    2\n",
       "Liquid petroleum gas (LPG) (Particle filter)                                                             2\n",
       "Domestic gas L (Particle filter)                                                                         2\n",
       "Liquid petroleum gas (LPG) / Super 95 / Super E10 95                                                     2\n",
       "Domestic gas H / Super E10 95 / Super Plus E10 98 / Super 95 / Super Plus 98 / Domestic gas L            1\n",
       "Domestic gas L / Super 95 / Domestic gas H                                                               1\n",
       "Super 95 / Super Plus 98 / Liquid petroleum gas (LPG)                                                    1\n",
       "Biogas                                                                                                   1\n",
       "Liquid petroleum gas (LPG) / Super 95 / Super Plus 98                                                    1\n",
       "Liquid petroleum gas (LPG) / Super E10 95                                                                1\n",
       "Liquid petroleum gas (LPG) / Super E10 95 / Super Plus E10 98 / Super Plus 98 / Super 95                 1\n",
       "Liquid petroleum gas (LPG) / Super E10 95 / Regular/Benzine 91 / Super 95 / Super Plus 98 / Biogas       1\n",
       "Super 95 (Particle filter) / Super E10 95 / Ethanol                                                      1\n",
       "Super 95 / Liquid petroleum gas (LPG)                                                                    1\n",
       "Name: fuel_type, dtype: int64"
      ]
     },
     "execution_count": 35,
     "metadata": {},
     "output_type": "execute_result"
    }
   ],
   "source": [
    "df['fuel_type'].value_counts()"
   ]
  },
  {
   "cell_type": "code",
   "execution_count": 36,
   "metadata": {},
   "outputs": [],
   "source": [
    "# SORU;  Nasil categorize edecegiz?"
   ]
  },
  {
   "cell_type": "markdown",
   "metadata": {},
   "source": [
    "### #16 colour  &#9989;"
   ]
  },
  {
   "cell_type": "code",
   "execution_count": 37,
   "metadata": {},
   "outputs": [
    {
     "data": {
      "text/plain": [
       "Black     6473\n",
       "Grey      5998\n",
       "White     5185\n",
       "Blue      3478\n",
       "NaN       2574\n",
       "Red       2242\n",
       "Silver    1622\n",
       "Green      450\n",
       "Brown      437\n",
       "Orange     288\n",
       "Beige      278\n",
       "Yellow     230\n",
       "Violet      98\n",
       "Bronze      65\n",
       "Gold        62\n",
       "Name: colour, dtype: int64"
      ]
     },
     "execution_count": 37,
     "metadata": {},
     "output_type": "execute_result"
    }
   ],
   "source": [
    "df['colour'].value_counts(dropna=False)"
   ]
  },
  {
   "cell_type": "code",
   "execution_count": 38,
   "metadata": {},
   "outputs": [],
   "source": [
    "# everything up to date "
   ]
  },
  {
   "cell_type": "markdown",
   "metadata": {},
   "source": [
    "### #17 paint"
   ]
  },
  {
   "cell_type": "code",
   "execution_count": 39,
   "metadata": {},
   "outputs": [
    {
     "data": {
      "text/plain": [
       "Metallic     14494\n",
       "Uni/basic        1\n",
       "Name: paint, dtype: int64"
      ]
     },
     "execution_count": 39,
     "metadata": {},
     "output_type": "execute_result"
    }
   ],
   "source": [
    "df['paint'].value_counts()"
   ]
  },
  {
   "cell_type": "code",
   "execution_count": 40,
   "metadata": {},
   "outputs": [],
   "source": [
    "# SORU;  uni/basic droplanacak mi?"
   ]
  },
  {
   "cell_type": "markdown",
   "metadata": {},
   "source": [
    "### #18 desc"
   ]
  },
  {
   "cell_type": "code",
   "execution_count": 41,
   "metadata": {},
   "outputs": [
    {
     "data": {
      "text/plain": [
       "0        [ , Precio al contado: 16950 euros,  ,  , Vehí...\n",
       "1        [ , Precio al contado: 88900 euros,  , AUTO OJ...\n",
       "2        [Gris MANUFAKTUR mountaingrau magno,  , Linea/...\n",
       "3        [ , Precio al contado: 48990 euros,  ,  , BONI...\n",
       "4        [ , Precio al contado: 17400 euros,  , Vehícul...\n",
       "                               ...                        \n",
       "29475    [Een goed rijdende auto met APK + NAP + Elektr...\n",
       "29476    [*** VOLVO C30 2011 TRES PROPRE EN PARFAIT ETA...\n",
       "29477    [Bekijk deze auto in unieke 360 graden present...\n",
       "29478    [YOUNGTIMER !, Bedrijfsinformatie, NEEM VOOR U...\n",
       "29479                                                  NaN\n",
       "Name: desc, Length: 29480, dtype: object"
      ]
     },
     "execution_count": 41,
     "metadata": {},
     "output_type": "execute_result"
    }
   ],
   "source": [
    "df['desc']"
   ]
  },
  {
   "cell_type": "code",
   "execution_count": 42,
   "metadata": {},
   "outputs": [],
   "source": [
    "### SORU: SAnirim droplanacak bir sutun. Bu kadar description nasil isimize yarayabilir ?"
   ]
  },
  {
   "cell_type": "markdown",
   "metadata": {},
   "source": [
    "### #19 seller   &#9989;"
   ]
  },
  {
   "cell_type": "code",
   "execution_count": 43,
   "metadata": {},
   "outputs": [
    {
     "data": {
      "text/plain": [
       "Dealer            26318\n",
       "Private seller     2312\n",
       "Name: seller, dtype: int64"
      ]
     },
     "execution_count": 43,
     "metadata": {},
     "output_type": "execute_result"
    }
   ],
   "source": [
    "df['seller'].value_counts()"
   ]
  },
  {
   "cell_type": "code",
   "execution_count": 44,
   "metadata": {},
   "outputs": [],
   "source": [
    "### Everything up to date"
   ]
  },
  {
   "cell_type": "markdown",
   "metadata": {},
   "source": [
    "### #20 seats  &#9989;"
   ]
  },
  {
   "cell_type": "code",
   "execution_count": 45,
   "metadata": {},
   "outputs": [
    {
     "data": {
      "text/plain": [
       "[\\n, 5, \\n]     18308\n",
       "[\\n, 4, \\n]      5390\n",
       "[\\n, 2, \\n]      1186\n",
       "[\\n, 7, \\n]       488\n",
       "[\\n, 8, \\n]        43\n",
       "[\\n, 9, \\n]        35\n",
       "[\\n, 3, \\n]        25\n",
       "[\\n, 6, \\n]        12\n",
       "[\\n, 0, \\n]         9\n",
       "[\\n, 1, \\n]         7\n",
       "[\\n, 17, \\n]        2\n",
       "Name: seats, dtype: int64"
      ]
     },
     "execution_count": 45,
     "metadata": {},
     "output_type": "execute_result"
    }
   ],
   "source": [
    "df['seats'].value_counts()"
   ]
  },
  {
   "cell_type": "code",
   "execution_count": 46,
   "metadata": {},
   "outputs": [
    {
     "data": {
      "text/plain": [
       "0        NaN\n",
       "1        5.0\n",
       "2        5.0\n",
       "3        5.0\n",
       "4        5.0\n",
       "        ... \n",
       "29475    5.0\n",
       "29476    4.0\n",
       "29477    5.0\n",
       "29478    5.0\n",
       "29479    NaN\n",
       "Name: seats, Length: 29480, dtype: float64"
      ]
     },
     "execution_count": 46,
     "metadata": {},
     "output_type": "execute_result"
    }
   ],
   "source": [
    "df['seats'] = df['seats'].str.join(\",\").str.strip('\\n, ').astype('float')\n",
    "df['seats']"
   ]
  },
  {
   "cell_type": "markdown",
   "metadata": {},
   "source": [
    "### #21 power &#9989;"
   ]
  },
  {
   "cell_type": "code",
   "execution_count": 47,
   "metadata": {},
   "outputs": [
    {
     "data": {
      "text/plain": [
       "0                          NaN\n",
       "1        [\\n215 kW (292 hp)\\n]\n",
       "2        [\\n310 kW (421 hp)\\n]\n",
       "3        [\\n225 kW (306 hp)\\n]\n",
       "4        [\\n100 kW (136 hp)\\n]\n",
       "                 ...          \n",
       "29475    [\\n125 kW (170 hp)\\n]\n",
       "29476     [\\n84 kW (114 hp)\\n]\n",
       "29477    [\\n187 kW (254 hp)\\n]\n",
       "29478    [\\n147 kW (200 hp)\\n]\n",
       "29479                      NaN\n",
       "Name: power, Length: 29480, dtype: object"
      ]
     },
     "execution_count": 47,
     "metadata": {},
     "output_type": "execute_result"
    }
   ],
   "source": [
    "df['power']"
   ]
  },
  {
   "cell_type": "code",
   "execution_count": 48,
   "metadata": {
    "scrolled": false
   },
   "outputs": [
    {
     "data": {
      "text/plain": [
       "0          NaN\n",
       "1        292.0\n",
       "2        421.0\n",
       "3        306.0\n",
       "4        136.0\n",
       "         ...  \n",
       "29475    170.0\n",
       "29476    114.0\n",
       "29477    254.0\n",
       "29478    200.0\n",
       "29479      NaN\n",
       "Name: power, Length: 29480, dtype: float64"
      ]
     },
     "execution_count": 48,
     "metadata": {},
     "output_type": "execute_result"
    }
   ],
   "source": [
    "df['power'] = df['power'].str.join(\",\").str.replace(',','').str.extract(\"\\((\\d+,*\\d*)\").astype('float')\n",
    "df['power']"
   ]
  },
  {
   "cell_type": "markdown",
   "metadata": {},
   "source": [
    "### #22 engine_size  &#9989;"
   ]
  },
  {
   "cell_type": "code",
   "execution_count": 49,
   "metadata": {},
   "outputs": [
    {
     "data": {
      "text/plain": [
       "0                   NaN\n",
       "1            [\\n1 cc\\n]\n",
       "2        [\\n1,991 cc\\n]\n",
       "3        [\\n1,991 cc\\n]\n",
       "4        [\\n2,143 cc\\n]\n",
       "              ...      \n",
       "29475    [\\n2,435 cc\\n]\n",
       "29476    [\\n1,560 cc\\n]\n",
       "29477    [\\n1,969 cc\\n]\n",
       "29478    [\\n2,922 cc\\n]\n",
       "29479               NaN\n",
       "Name: engine_size, Length: 29480, dtype: object"
      ]
     },
     "execution_count": 49,
     "metadata": {},
     "output_type": "execute_result"
    }
   ],
   "source": [
    "df['engine_size']"
   ]
  },
  {
   "cell_type": "code",
   "execution_count": 50,
   "metadata": {},
   "outputs": [
    {
     "data": {
      "text/plain": [
       "0        NaN\n",
       "1        0.0\n",
       "2        1.9\n",
       "3        1.9\n",
       "4        2.1\n",
       "        ... \n",
       "29475    2.4\n",
       "29476    1.5\n",
       "29477    1.9\n",
       "29478    2.9\n",
       "29479    NaN\n",
       "Name: engine_size, Length: 29480, dtype: float64"
      ]
     },
     "execution_count": 50,
     "metadata": {},
     "output_type": "execute_result"
    }
   ],
   "source": [
    "df['engine_size'] = (df.engine_size.map(lambda x: x[0].strip(\"\\n c\").replace(\",\", \"\") if type(x) == list else x).astype(float) / 1000).astype(str).str.extract(\"(\\d+\\.*\\d)\")\n",
    "df['engine_size'].astype(float)"
   ]
  },
  {
   "cell_type": "markdown",
   "metadata": {},
   "source": [
    "### #23 gears &#9989;"
   ]
  },
  {
   "cell_type": "code",
   "execution_count": 51,
   "metadata": {},
   "outputs": [
    {
     "data": {
      "text/plain": [
       "0            NaN\n",
       "1        [\\n9\\n]\n",
       "2        [\\n8\\n]\n",
       "3        [\\n7\\n]\n",
       "4        [\\n7\\n]\n",
       "          ...   \n",
       "29475    [\\n5\\n]\n",
       "29476    [\\n6\\n]\n",
       "29477    [\\n8\\n]\n",
       "29478        NaN\n",
       "29479        NaN\n",
       "Name: gears, Length: 29480, dtype: object"
      ]
     },
     "execution_count": 51,
     "metadata": {},
     "output_type": "execute_result"
    }
   ],
   "source": [
    "df['gears']"
   ]
  },
  {
   "cell_type": "code",
   "execution_count": 52,
   "metadata": {},
   "outputs": [
    {
     "data": {
      "text/plain": [
       "0        NaN\n",
       "1        9.0\n",
       "2        8.0\n",
       "3        7.0\n",
       "4        7.0\n",
       "        ... \n",
       "29475    5.0\n",
       "29476    6.0\n",
       "29477    8.0\n",
       "29478    NaN\n",
       "29479    NaN\n",
       "Name: gears, Length: 29480, dtype: float64"
      ]
     },
     "execution_count": 52,
     "metadata": {},
     "output_type": "execute_result"
    }
   ],
   "source": [
    "df['gears'] = df['gears'].str.join(\",\").str.strip().astype('float')\n",
    "df['gears']"
   ]
  },
  {
   "cell_type": "markdown",
   "metadata": {},
   "source": [
    "### #24 co_emissions &#9989;"
   ]
  },
  {
   "cell_type": "code",
   "execution_count": 53,
   "metadata": {},
   "outputs": [
    {
     "data": {
      "text/plain": [
       "0                     NaN\n",
       "1          0 g/km (comb.)\n",
       "2                     NaN\n",
       "3                     NaN\n",
       "4                     NaN\n",
       "               ...       \n",
       "29475    217 g/km (comb.)\n",
       "29476     99 g/km (comb.)\n",
       "29477    149 g/km (comb.)\n",
       "29478    251 g/km (comb.)\n",
       "29479                 NaN\n",
       "Name: co_emissions, Length: 29480, dtype: object"
      ]
     },
     "execution_count": 53,
     "metadata": {},
     "output_type": "execute_result"
    }
   ],
   "source": [
    "df['co_emissions']"
   ]
  },
  {
   "cell_type": "code",
   "execution_count": 54,
   "metadata": {},
   "outputs": [
    {
     "data": {
      "text/plain": [
       "0          NaN\n",
       "1          0.0\n",
       "2          NaN\n",
       "3          NaN\n",
       "4          NaN\n",
       "         ...  \n",
       "29475    217.0\n",
       "29476     99.0\n",
       "29477    149.0\n",
       "29478    251.0\n",
       "29479      NaN\n",
       "Name: co_emissions, Length: 29480, dtype: float64"
      ]
     },
     "execution_count": 54,
     "metadata": {},
     "output_type": "execute_result"
    }
   ],
   "source": [
    "df['co_emissions'] = df['co_emissions'].str.findall(\"\\d+\").str.join(\",\").str.replace(',','').astype('float')\n",
    "df['co_emissions']"
   ]
  },
  {
   "cell_type": "markdown",
   "metadata": {},
   "source": [
    "### #25 manufacturer_colour &#9989;"
   ]
  },
  {
   "cell_type": "code",
   "execution_count": 55,
   "metadata": {},
   "outputs": [
    {
     "data": {
      "text/plain": [
       "0                                   NaN\n",
       "1                       Negro Obsidiana\n",
       "2                    Mountaingrau magno\n",
       "3                          Amarillo Sol\n",
       "4                                   NaN\n",
       "                      ...              \n",
       "29475                             Grijs\n",
       "29476                               NaN\n",
       "29477    Denim Blue metallic (blauw met\n",
       "29478                             Grijs\n",
       "29479                               NaN\n",
       "Name: manufacturer_colour, Length: 29480, dtype: object"
      ]
     },
     "execution_count": 55,
     "metadata": {},
     "output_type": "execute_result"
    }
   ],
   "source": [
    "df['manufacturer_colour']"
   ]
  },
  {
   "cell_type": "code",
   "execution_count": 56,
   "metadata": {},
   "outputs": [
    {
     "data": {
      "text/plain": [
       "0                                   NaN\n",
       "1                       Negro Obsidiana\n",
       "2                    Mountaingrau Magno\n",
       "3                          Amarillo Sol\n",
       "4                                   NaN\n",
       "                      ...              \n",
       "29475                             Grijs\n",
       "29476                               NaN\n",
       "29477    Denim Blue Metallic (Blauw Met\n",
       "29478                             Grijs\n",
       "29479                               NaN\n",
       "Name: manufacturer_colour, Length: 29480, dtype: object"
      ]
     },
     "execution_count": 56,
     "metadata": {},
     "output_type": "execute_result"
    }
   ],
   "source": [
    "df['manufacturer_colour'] = df['manufacturer_colour'].str.title()\n",
    "df['manufacturer_colour']"
   ]
  },
  {
   "cell_type": "markdown",
   "metadata": {},
   "source": [
    " Note: Çok kirli bir data. Sonradan tekrar bakılacak"
   ]
  },
  {
   "cell_type": "markdown",
   "metadata": {},
   "source": [
    "### #26 drivetrain &#9989;"
   ]
  },
  {
   "cell_type": "code",
   "execution_count": 57,
   "metadata": {},
   "outputs": [
    {
     "data": {
      "text/plain": [
       "0                    NaN\n",
       "1                    NaN\n",
       "2          [\\n, 4WD, \\n]\n",
       "3          [\\n, 4WD, \\n]\n",
       "4          [\\n, 4WD, \\n]\n",
       "              ...       \n",
       "29475    [\\n, Front, \\n]\n",
       "29476    [\\n, Front, \\n]\n",
       "29477                NaN\n",
       "29478    [\\n, Front, \\n]\n",
       "29479                NaN\n",
       "Name: drivetrain, Length: 29480, dtype: object"
      ]
     },
     "execution_count": 57,
     "metadata": {},
     "output_type": "execute_result"
    }
   ],
   "source": [
    "df['drivetrain']"
   ]
  },
  {
   "cell_type": "code",
   "execution_count": 58,
   "metadata": {},
   "outputs": [
    {
     "data": {
      "text/plain": [
       "0          NaN\n",
       "1          NaN\n",
       "2          4WD\n",
       "3          4WD\n",
       "4          4WD\n",
       "         ...  \n",
       "29475    Front\n",
       "29476    Front\n",
       "29477      NaN\n",
       "29478    Front\n",
       "29479      NaN\n",
       "Name: drivetrain, Length: 29480, dtype: object"
      ]
     },
     "execution_count": 58,
     "metadata": {},
     "output_type": "execute_result"
    }
   ],
   "source": [
    "df['drivetrain'] = df['drivetrain'].str.join(',').str.strip('\\n ,')\n",
    "df['drivetrain']"
   ]
  },
  {
   "cell_type": "markdown",
   "metadata": {},
   "source": [
    "### #27 cylinders &#9989;"
   ]
  },
  {
   "cell_type": "code",
   "execution_count": 59,
   "metadata": {},
   "outputs": [
    {
     "data": {
      "text/plain": [
       "0            NaN\n",
       "1            NaN\n",
       "2        [\\n4\\n]\n",
       "3        [\\n4\\n]\n",
       "4        [\\n4\\n]\n",
       "          ...   \n",
       "29475    [\\n5\\n]\n",
       "29476    [\\n4\\n]\n",
       "29477    [\\n4\\n]\n",
       "29478    [\\n6\\n]\n",
       "29479        NaN\n",
       "Name: cylinders, Length: 29480, dtype: object"
      ]
     },
     "execution_count": 59,
     "metadata": {},
     "output_type": "execute_result"
    }
   ],
   "source": [
    "df['cylinders']"
   ]
  },
  {
   "cell_type": "code",
   "execution_count": 60,
   "metadata": {},
   "outputs": [
    {
     "data": {
      "text/plain": [
       "0        NaN\n",
       "1        NaN\n",
       "2        4.0\n",
       "3        4.0\n",
       "4        4.0\n",
       "        ... \n",
       "29475    5.0\n",
       "29476    4.0\n",
       "29477    4.0\n",
       "29478    6.0\n",
       "29479    NaN\n",
       "Name: cylinders, Length: 29480, dtype: float64"
      ]
     },
     "execution_count": 60,
     "metadata": {},
     "output_type": "execute_result"
    }
   ],
   "source": [
    "df['cylinders'] = df['cylinders'].str.join(',').str.strip().str.replace(',','.').astype('float')\n",
    "df['cylinders']"
   ]
  },
  {
   "cell_type": "markdown",
   "metadata": {},
   "source": [
    "### #28 fuel_consumption &#9989;"
   ]
  },
  {
   "cell_type": "code",
   "execution_count": 61,
   "metadata": {},
   "outputs": [
    {
     "data": {
      "text/plain": [
       "0                                                      NaN\n",
       "1                                                      NaN\n",
       "2        [[8.4 l/100 km (comb.)], [10.9 l/100 km (city)...\n",
       "3        [[7.3 l/100 km (comb.)], [9.3 l/100 km (city)]...\n",
       "4        [[4.9 l/100 km (comb.)], [5.7 l/100 km (city)]...\n",
       "                               ...                        \n",
       "29475    [[9.1 l/100 km (comb.)], [13.2 l/100 km (city)...\n",
       "29476    [[3.8 l/100 km (comb.)], [4.3 l/100 km (city)]...\n",
       "29477    [[6.5 l/100 km (comb.)], [8.6 l/100 km (city)]...\n",
       "29478    [[10.4 l/100 km (comb.)], [15.3 l/100 km (city...\n",
       "29479                                                  NaN\n",
       "Name: fuel_consumption, Length: 29480, dtype: object"
      ]
     },
     "execution_count": 61,
     "metadata": {},
     "output_type": "execute_result"
    }
   ],
   "source": [
    "df['fuel_consumption']  \n",
    "# bu sutun dusurulecek cunku 'consumption_comb','consumption_city' ve 'consumption_country' olarak 3 ayri sutun olusturuldu"
   ]
  },
  {
   "cell_type": "code",
   "execution_count": 62,
   "metadata": {},
   "outputs": [
    {
     "data": {
      "text/plain": [
       "0         NaN\n",
       "1         NaN\n",
       "2         8.4\n",
       "3         7.3\n",
       "4         4.9\n",
       "         ... \n",
       "29475     9.1\n",
       "29476     3.8\n",
       "29477     6.5\n",
       "29478    10.4\n",
       "29479     NaN\n",
       "Name: consumption_comb, Length: 29480, dtype: float64"
      ]
     },
     "execution_count": 62,
     "metadata": {},
     "output_type": "execute_result"
    }
   ],
   "source": [
    "df['consumption_comb'] = df['fuel_consumption'].map(lambda x : x[0][0] if type(x)==list and (len(x) == 3 or len(x) == 1) and x[0] != [] else None)\n",
    "df['consumption_comb'] = df['consumption_comb'].str.extract('(\\d+\\.*\\d*).*').astype('float')\n",
    "df['consumption_comb']"
   ]
  },
  {
   "cell_type": "code",
   "execution_count": 63,
   "metadata": {},
   "outputs": [
    {
     "data": {
      "text/plain": [
       "0         NaN\n",
       "1         NaN\n",
       "2        10.9\n",
       "3         9.3\n",
       "4         5.7\n",
       "         ... \n",
       "29475    13.2\n",
       "29476     4.3\n",
       "29477     8.6\n",
       "29478    15.3\n",
       "29479     NaN\n",
       "Name: consumption_city, Length: 29480, dtype: float64"
      ]
     },
     "execution_count": 63,
     "metadata": {},
     "output_type": "execute_result"
    }
   ],
   "source": [
    "df['consumption_city'] = df['fuel_consumption'].map(lambda x : x[1][0] if type(x)==list and len(x) == 3 and x[0] != [] else None)\n",
    "df['consumption_city'] = df['consumption_city'].str.extract('(\\d+\\.*\\d*).*').astype('float')\n",
    "df['consumption_city']"
   ]
  },
  {
   "cell_type": "code",
   "execution_count": 64,
   "metadata": {},
   "outputs": [
    {
     "data": {
      "text/plain": [
       "0        NaN\n",
       "1        NaN\n",
       "2        5.8\n",
       "3        6.1\n",
       "4        4.4\n",
       "        ... \n",
       "29475    6.7\n",
       "29476    3.5\n",
       "29477    5.3\n",
       "29478    7.6\n",
       "29479    NaN\n",
       "Name: consumption_country, Length: 29480, dtype: float64"
      ]
     },
     "execution_count": 64,
     "metadata": {},
     "output_type": "execute_result"
    }
   ],
   "source": [
    "df['consumption_country'] = df['fuel_consumption'].map(lambda x : x[2][0] if type(x)==list and len(x) == 3 and x[0] != [] else None)\n",
    "df['consumption_country'] = df['consumption_country'].str.extract('(\\d+\\.*\\d*).*').astype('float')\n",
    "df['consumption_country']"
   ]
  },
  {
   "cell_type": "code",
   "execution_count": 65,
   "metadata": {},
   "outputs": [],
   "source": [
    "#df.fuel_consumption.apply(lambda x: \",\".join([item for sublist in x for item in sublist]) if type(x) == list else x).str.extract('(\\d*\\.\\d*).*(\\d+\\.\\d*).*(\\d*\\.\\d*)')"
   ]
  },
  {
   "cell_type": "markdown",
   "metadata": {},
   "source": [
    "### #29 comfort_&_convenience"
   ]
  },
  {
   "cell_type": "code",
   "execution_count": 66,
   "metadata": {},
   "outputs": [
    {
     "data": {
      "text/plain": [
       "0                                                      NaN\n",
       "1                                                      NaN\n",
       "2                                                      NaN\n",
       "3        [Air conditioning, Automatic climate control, ...\n",
       "4        [Air conditioning, Electrical side mirrors, Mu...\n",
       "                               ...                        \n",
       "29475    [Air conditioning, Armrest, Automatic climate ...\n",
       "29476    [Air conditioning, Armrest, Automatic climate ...\n",
       "29477    [Air conditioning, Armrest, Automatic climate ...\n",
       "29478    [Air conditioning, Armrest, Cruise control, El...\n",
       "29479                                                  NaN\n",
       "Name: comfort_&_convenience, Length: 29480, dtype: object"
      ]
     },
     "execution_count": 66,
     "metadata": {},
     "output_type": "execute_result"
    }
   ],
   "source": [
    "df['comfort_&_convenience']  #categorize yapilacak"
   ]
  },
  {
   "cell_type": "code",
   "execution_count": 67,
   "metadata": {},
   "outputs": [
    {
     "data": {
      "text/plain": [
       "0                                                      NaN\n",
       "1                                                      NaN\n",
       "2                                                      NaN\n",
       "3        Air Conditioning, Automatic Climate Control, P...\n",
       "4        Air Conditioning, Electrical Side Mirrors, Mul...\n",
       "                               ...                        \n",
       "29475    Air Conditioning, Armrest, Automatic Climate C...\n",
       "29476    Air Conditioning, Armrest, Automatic Climate C...\n",
       "29477    Air Conditioning, Armrest, Automatic Climate C...\n",
       "29478    Air Conditioning, Armrest, Cruise Control, Ele...\n",
       "29479                                                  NaN\n",
       "Name: comfort_&_convenience, Length: 29480, dtype: object"
      ]
     },
     "execution_count": 67,
     "metadata": {},
     "output_type": "execute_result"
    }
   ],
   "source": [
    "df['comfort_&_convenience'] = df['comfort_&_convenience'].str.join(',').str.title()\n",
    "df['comfort_&_convenience']"
   ]
  },
  {
   "cell_type": "code",
   "execution_count": 68,
   "metadata": {},
   "outputs": [
    {
     "data": {
      "text/plain": [
       "14438"
      ]
     },
     "execution_count": 68,
     "metadata": {},
     "output_type": "execute_result"
    }
   ],
   "source": [
    "len(df['comfort_&_convenience'].value_counts())"
   ]
  },
  {
   "cell_type": "markdown",
   "metadata": {},
   "source": [
    "### #30 entertainment_&_media"
   ]
  },
  {
   "cell_type": "code",
   "execution_count": 69,
   "metadata": {},
   "outputs": [
    {
     "data": {
      "text/plain": [
       "0                                                      NaN\n",
       "1                                                      NaN\n",
       "2                                                      NaN\n",
       "3                                                    [USB]\n",
       "4                         [Bluetooth, CD player, MP3, USB]\n",
       "                               ...                        \n",
       "29475                           [On-board computer, Radio]\n",
       "29476    [Bluetooth, CD player, Hands-free equipment, M...\n",
       "29477    [Android Auto, Apple CarPlay, Bluetooth, Hands...\n",
       "29478                                  [On-board computer]\n",
       "29479                                                  NaN\n",
       "Name: entertainment_&_media, Length: 29480, dtype: object"
      ]
     },
     "execution_count": 69,
     "metadata": {},
     "output_type": "execute_result"
    }
   ],
   "source": [
    "df['entertainment_&_media']  #categorize yapilacak"
   ]
  },
  {
   "cell_type": "code",
   "execution_count": 70,
   "metadata": {},
   "outputs": [
    {
     "data": {
      "text/plain": [
       "0                                                      NaN\n",
       "1                                                      NaN\n",
       "2                                                      NaN\n",
       "3                                                      USB\n",
       "4                           Bluetooth, CD player, MP3, USB\n",
       "                               ...                        \n",
       "29475                             On-board computer, Radio\n",
       "29476    Bluetooth, CD player, Hands-free equipment, MP...\n",
       "29477    Android Auto, Apple CarPlay, Bluetooth, Hands-...\n",
       "29478                                    On-board computer\n",
       "29479                                                  NaN\n",
       "Name: entertainment_&_media, Length: 29480, dtype: object"
      ]
     },
     "execution_count": 70,
     "metadata": {},
     "output_type": "execute_result"
    }
   ],
   "source": [
    "df['entertainment_&_media'].explode()"
   ]
  },
  {
   "cell_type": "code",
   "execution_count": 71,
   "metadata": {},
   "outputs": [
    {
     "data": {
      "text/plain": [
       "0                                                      NaN\n",
       "1                                                      NaN\n",
       "2                                                      NaN\n",
       "3                                                      USB\n",
       "4                           Bluetooth, CD player, MP3, USB\n",
       "                               ...                        \n",
       "29475                             On-board computer, Radio\n",
       "29476    Bluetooth, CD player, Hands-free equipment, MP...\n",
       "29477    Android Auto, Apple CarPlay, Bluetooth, Hands-...\n",
       "29478                                    On-board computer\n",
       "29479                                                  NaN\n",
       "Name: entertainment_&_media, Length: 29480, dtype: object"
      ]
     },
     "execution_count": 71,
     "metadata": {},
     "output_type": "execute_result"
    }
   ],
   "source": [
    "df['entertainment_&_media'].str.join(\",\").str.strip('\\n, ')"
   ]
  },
  {
   "cell_type": "code",
   "execution_count": null,
   "metadata": {},
   "outputs": [],
   "source": []
  },
  {
   "cell_type": "markdown",
   "metadata": {},
   "source": [
    "### #31 safety_&_security"
   ]
  },
  {
   "cell_type": "code",
   "execution_count": 72,
   "metadata": {},
   "outputs": [
    {
     "data": {
      "text/plain": [
       "0                                                      NaN\n",
       "1                                                      NaN\n",
       "2                                                      NaN\n",
       "3        [ABS, Central door lock, Driver-side airbag, E...\n",
       "4        [ABS, Central door lock, Driver-side airbag, E...\n",
       "                               ...                        \n",
       "29475    [ABS, Central door lock, Central door lock wit...\n",
       "29476    [ABS, Alarm system, Central door lock with rem...\n",
       "29477    [Adaptive Cruise Control, Adaptive headlights,...\n",
       "29478    [ABS, Alarm system, Central door lock, Central...\n",
       "29479                                                  NaN\n",
       "Name: safety_&_security, Length: 29480, dtype: object"
      ]
     },
     "execution_count": 72,
     "metadata": {},
     "output_type": "execute_result"
    }
   ],
   "source": [
    "df['safety_&_security']  #categorize yapilacak"
   ]
  },
  {
   "cell_type": "code",
   "execution_count": 73,
   "metadata": {},
   "outputs": [
    {
     "data": {
      "text/plain": [
       "0                                                      NaN\n",
       "1                                                      NaN\n",
       "2                                                      NaN\n",
       "3        ABS, Central door lock, Driver-side airbag, El...\n",
       "4        ABS, Central door lock, Driver-side airbag, El...\n",
       "                               ...                        \n",
       "29475    ABS, Central door lock, Central door lock with...\n",
       "29476    ABS, Alarm system, Central door lock with remo...\n",
       "29477    Adaptive Cruise Control, Adaptive headlights, ...\n",
       "29478    ABS, Alarm system, Central door lock, Central ...\n",
       "29479                                                  NaN\n",
       "Name: safety_&_security, Length: 29480, dtype: object"
      ]
     },
     "execution_count": 73,
     "metadata": {},
     "output_type": "execute_result"
    }
   ],
   "source": [
    "df['safety_&_security'].explode()"
   ]
  },
  {
   "cell_type": "markdown",
   "metadata": {},
   "source": [
    "### #32 extras"
   ]
  },
  {
   "cell_type": "code",
   "execution_count": 74,
   "metadata": {},
   "outputs": [
    {
     "data": {
      "text/plain": [
       "0                                                      NaN\n",
       "1                                                      NaN\n",
       "2                                                      NaN\n",
       "3                                            [Sport seats]\n",
       "4                                                      NaN\n",
       "                               ...                        \n",
       "29475                  [Alloy wheels (16\"), Trailer hitch]\n",
       "29476    [Alloy wheels, Automatically dimming interior ...\n",
       "29477    [Alloy wheels (18\"), Automatically dimming int...\n",
       "29478    [Alloy wheels, Automatically dimming interior ...\n",
       "29479                                                  NaN\n",
       "Name: extras, Length: 29480, dtype: object"
      ]
     },
     "execution_count": 74,
     "metadata": {},
     "output_type": "execute_result"
    }
   ],
   "source": [
    "df['extras']  #categorize yapilacak veri"
   ]
  },
  {
   "cell_type": "code",
   "execution_count": 75,
   "metadata": {},
   "outputs": [
    {
     "data": {
      "text/plain": [
       "0                                                      NaN\n",
       "1                                                      NaN\n",
       "2                                                      NaN\n",
       "3                                              Sport seats\n",
       "4                                                      NaN\n",
       "                               ...                        \n",
       "29475                    Alloy wheels (16\"), Trailer hitch\n",
       "29476    Alloy wheels, Automatically dimming interior m...\n",
       "29477    Alloy wheels (18\"), Automatically dimming inte...\n",
       "29478    Alloy wheels, Automatically dimming interior m...\n",
       "29479                                                  NaN\n",
       "Name: extras, Length: 29480, dtype: object"
      ]
     },
     "execution_count": 75,
     "metadata": {},
     "output_type": "execute_result"
    }
   ],
   "source": [
    "df['extras'].explode()"
   ]
  },
  {
   "cell_type": "code",
   "execution_count": 76,
   "metadata": {},
   "outputs": [
    {
     "data": {
      "text/plain": [
       "0                                                      NaN\n",
       "1                                                      NaN\n",
       "2                                                      NaN\n",
       "3                                              Sport seats\n",
       "4                                                      NaN\n",
       "                               ...                        \n",
       "29475                    Alloy wheels (16\"), Trailer hitch\n",
       "29476    Alloy wheels, Automatically dimming interior m...\n",
       "29477    Alloy wheels (18\"), Automatically dimming inte...\n",
       "29478    Alloy wheels, Automatically dimming interior m...\n",
       "29479                                                  NaN\n",
       "Name: extras, Length: 29480, dtype: object"
      ]
     },
     "execution_count": 76,
     "metadata": {},
     "output_type": "execute_result"
    }
   ],
   "source": [
    "df['extras'].str.join(',')"
   ]
  },
  {
   "cell_type": "markdown",
   "metadata": {},
   "source": [
    "### #33 empty_weight &#9989;"
   ]
  },
  {
   "cell_type": "code",
   "execution_count": 77,
   "metadata": {},
   "outputs": [
    {
     "data": {
      "text/plain": [
       "0                   NaN\n",
       "1                   NaN\n",
       "2                   NaN\n",
       "3                   NaN\n",
       "4        [\\n1,545 kg\\n]\n",
       "              ...      \n",
       "29475    [\\n1,357 kg\\n]\n",
       "29476    [\\n1,356 kg\\n]\n",
       "29477    [\\n1,617 kg\\n]\n",
       "29478    [\\n1,573 kg\\n]\n",
       "29479               NaN\n",
       "Name: empty_weight, Length: 29480, dtype: object"
      ]
     },
     "execution_count": 77,
     "metadata": {},
     "output_type": "execute_result"
    }
   ],
   "source": [
    "df['empty_weight']"
   ]
  },
  {
   "cell_type": "code",
   "execution_count": 78,
   "metadata": {
    "scrolled": false
   },
   "outputs": [
    {
     "data": {
      "text/plain": [
       "0           NaN\n",
       "1           NaN\n",
       "2           NaN\n",
       "3           NaN\n",
       "4        1545.0\n",
       "          ...  \n",
       "29475    1357.0\n",
       "29476    1356.0\n",
       "29477    1617.0\n",
       "29478    1573.0\n",
       "29479       NaN\n",
       "Name: empty_weight, Length: 29480, dtype: float64"
      ]
     },
     "execution_count": 78,
     "metadata": {},
     "output_type": "execute_result"
    }
   ],
   "source": [
    "df['empty_weight'] = df['empty_weight'].explode().str.strip().str.replace(',','').str.replace(' kg','').astype('float')\n",
    "df['empty_weight']"
   ]
  },
  {
   "cell_type": "markdown",
   "metadata": {},
   "source": [
    "### #34 model_code &#9989;"
   ]
  },
  {
   "cell_type": "code",
   "execution_count": 79,
   "metadata": {},
   "outputs": [
    {
     "data": {
      "text/plain": [
       "18253                   NaN\n",
       "18305                   NaN\n",
       "11798                   NaN\n",
       "4565     [\\n, 1844/AAF, \\n]\n",
       "79                      NaN\n",
       "27038                   NaN\n",
       "9951                    NaN\n",
       "17873                   NaN\n",
       "10025                   NaN\n",
       "27337    [\\n, 9101/778, \\n]\n",
       "27626                   NaN\n",
       "21488                   NaN\n",
       "25374                   NaN\n",
       "9933                    NaN\n",
       "12842    [\\n, 7593/AOB, \\n]\n",
       "453                     NaN\n",
       "4682     [\\n, 0035/BFM, \\n]\n",
       "13147                   NaN\n",
       "769                     NaN\n",
       "21883                   NaN\n",
       "8094                    NaN\n",
       "20057    [\\n, 1329/AKD, \\n]\n",
       "27454                   NaN\n",
       "12065    [\\n, 7593/ANI, \\n]\n",
       "22728                   NaN\n",
       "10352                   NaN\n",
       "6273                    NaN\n",
       "10385                   NaN\n",
       "16964                   NaN\n",
       "4187                    NaN\n",
       "Name: model_code, dtype: object"
      ]
     },
     "execution_count": 79,
     "metadata": {},
     "output_type": "execute_result"
    }
   ],
   "source": [
    "df['model_code'].sample(30)"
   ]
  },
  {
   "cell_type": "code",
   "execution_count": 80,
   "metadata": {},
   "outputs": [
    {
     "data": {
      "text/plain": [
       "9024          NaN\n",
       "12808    7593/AMM\n",
       "16543    8212/ACX\n",
       "1479          NaN\n",
       "19056         NaN\n",
       "18477         NaN\n",
       "4158          NaN\n",
       "6186          NaN\n",
       "26897         NaN\n",
       "19679         NaN\n",
       "8510          NaN\n",
       "22625         NaN\n",
       "24590         NaN\n",
       "10422         NaN\n",
       "13819         NaN\n",
       "20389         NaN\n",
       "15046         NaN\n",
       "6844          NaN\n",
       "20430         NaN\n",
       "14744         NaN\n",
       "Name: model_code, dtype: object"
      ]
     },
     "execution_count": 80,
     "metadata": {},
     "output_type": "execute_result"
    }
   ],
   "source": [
    "df['model_code'] = df['model_code'].explode().str.strip().str.replace(',','').str.replace(' ','')\n",
    "df['model_code'].sample(20)"
   ]
  },
  {
   "cell_type": "markdown",
   "metadata": {},
   "source": [
    "### #35 general_inspection "
   ]
  },
  {
   "cell_type": "code",
   "execution_count": 81,
   "metadata": {},
   "outputs": [
    {
     "data": {
      "text/plain": [
       "0            NaN\n",
       "1            NaN\n",
       "2            NaN\n",
       "3            NaN\n",
       "4            NaN\n",
       "          ...   \n",
       "29475    08/2023\n",
       "29476        NaN\n",
       "29477        New\n",
       "29478    05/2023\n",
       "29479        NaN\n",
       "Name: general_inspection, Length: 29480, dtype: object"
      ]
     },
     "execution_count": 81,
     "metadata": {},
     "output_type": "execute_result"
    }
   ],
   "source": [
    "df['general_inspection']   #Date verisine mi cevirilecek yoksa categorize mi edilecek yada sadece yillari biraksak olur mu sor"
   ]
  },
  {
   "cell_type": "code",
   "execution_count": 82,
   "metadata": {},
   "outputs": [
    {
     "data": {
      "text/plain": [
       "9585         NaN\n",
       "27623    11/2023\n",
       "21288        New\n",
       "7269         New\n",
       "20291        New\n",
       "26796        New\n",
       "15023        NaN\n",
       "306          NaN\n",
       "5887         NaN\n",
       "4853         NaN\n",
       "12986        NaN\n",
       "25357    01/2025\n",
       "11668        NaN\n",
       "21945    07/2023\n",
       "27532        NaN\n",
       "24735    02/2024\n",
       "2168         NaN\n",
       "4356         New\n",
       "4416         New\n",
       "21642    04/2024\n",
       "7299     01/2023\n",
       "11146        NaN\n",
       "21554        NaN\n",
       "20459        NaN\n",
       "630          New\n",
       "6258     09/2023\n",
       "22226    04/2025\n",
       "4493         NaN\n",
       "8888     10/2023\n",
       "25367        New\n",
       "Name: general_inspection, dtype: object"
      ]
     },
     "execution_count": 82,
     "metadata": {},
     "output_type": "execute_result"
    }
   ],
   "source": [
    "df['general_inspection'].sample(30)"
   ]
  },
  {
   "cell_type": "markdown",
   "metadata": {},
   "source": [
    "### #36 last_service"
   ]
  },
  {
   "cell_type": "code",
   "execution_count": 83,
   "metadata": {},
   "outputs": [
    {
     "data": {
      "text/plain": [
       "2515         NaN\n",
       "7694         NaN\n",
       "19139        NaN\n",
       "4511         NaN\n",
       "22713        NaN\n",
       "7373         NaN\n",
       "1901         NaN\n",
       "11500        NaN\n",
       "20964        NaN\n",
       "21530        NaN\n",
       "26866    07/2022\n",
       "20326        NaN\n",
       "7379         NaN\n",
       "29059        NaN\n",
       "19182        NaN\n",
       "20828        NaN\n",
       "27049        NaN\n",
       "28937        NaN\n",
       "10959        NaN\n",
       "21979    01/2022\n",
       "Name: last_service, dtype: object"
      ]
     },
     "execution_count": 83,
     "metadata": {},
     "output_type": "execute_result"
    }
   ],
   "source": [
    "df['last_service'].sample(20)  \n",
    "# %93'u NaN data. Icinden cekebilecek bir sey yoksa en son sutunu dusur\n",
    "#Date verisine mi cevirilecek yoksa categorize mi edilecek yada sadece yillari biraksak olur mu sor"
   ]
  },
  {
   "cell_type": "markdown",
   "metadata": {},
   "source": [
    "### #37 full_service_history"
   ]
  },
  {
   "cell_type": "code",
   "execution_count": 84,
   "metadata": {
    "scrolled": true
   },
   "outputs": [
    {
     "data": {
      "text/plain": [
       "Yes    12565\n",
       "Name: full_service_history, dtype: int64"
      ]
     },
     "execution_count": 84,
     "metadata": {},
     "output_type": "execute_result"
    }
   ],
   "source": [
    "df['full_service_history'].value_counts()   # %57'si NaN"
   ]
  },
  {
   "cell_type": "markdown",
   "metadata": {},
   "source": [
    "### #38 non_smoker_vehicle"
   ]
  },
  {
   "cell_type": "code",
   "execution_count": 85,
   "metadata": {},
   "outputs": [
    {
     "data": {
      "text/plain": [
       "Yes    11594\n",
       "Name: non_smoker_vehicle, dtype: int64"
      ]
     },
     "execution_count": 85,
     "metadata": {},
     "output_type": "execute_result"
    }
   ],
   "source": [
    "df['non_smoker_vehicle'].value_counts()"
   ]
  },
  {
   "cell_type": "markdown",
   "metadata": {},
   "source": [
    "### #39 emission_class"
   ]
  },
  {
   "cell_type": "code",
   "execution_count": 86,
   "metadata": {},
   "outputs": [
    {
     "data": {
      "text/plain": [
       "Euro 6          6418\n",
       "Euro 6d-TEMP    3399\n",
       "Euro 6d         2858\n",
       "Euro 5          2389\n",
       "Euro 4          1743\n",
       "Euro 3           523\n",
       "Euro 2           217\n",
       "Euro 1           172\n",
       "Euro 6c          140\n",
       "Name: emission_class, dtype: int64"
      ]
     },
     "execution_count": 86,
     "metadata": {},
     "output_type": "execute_result"
    }
   ],
   "source": [
    "df['emission_class'].value_counts()   #Euro 6'lari ne yapabiliriz?"
   ]
  },
  {
   "cell_type": "markdown",
   "metadata": {},
   "source": [
    "### #40 emissions_sticker"
   ]
  },
  {
   "cell_type": "code",
   "execution_count": 87,
   "metadata": {},
   "outputs": [
    {
     "data": {
      "text/plain": [
       "4 (Green)         9230\n",
       "1 (No sticker)     176\n",
       "3 (Yellow)           6\n",
       "2 (Red)              2\n",
       "Name: emissions_sticker, dtype: int64"
      ]
     },
     "execution_count": 87,
     "metadata": {},
     "output_type": "execute_result"
    }
   ],
   "source": [
    "df['emissions_sticker'].value_counts()"
   ]
  },
  {
   "cell_type": "markdown",
   "metadata": {},
   "source": [
    "### #41 upholstery_colour &#9989;"
   ]
  },
  {
   "cell_type": "code",
   "execution_count": 88,
   "metadata": {},
   "outputs": [
    {
     "data": {
      "text/plain": [
       "Black     10416\n",
       "Grey       2038\n",
       "Other      1003\n",
       "Beige       466\n",
       "Brown       275\n",
       "Red         159\n",
       "White        93\n",
       "Blue         82\n",
       "Orange       23\n",
       "Green         8\n",
       "Yellow        6\n",
       "Name: upholstery_colour, dtype: int64"
      ]
     },
     "execution_count": 88,
     "metadata": {},
     "output_type": "execute_result"
    }
   ],
   "source": [
    "df['upholstery_colour'].value_counts()"
   ]
  },
  {
   "cell_type": "markdown",
   "metadata": {},
   "source": [
    "### #42 upholstery &#9989;"
   ]
  },
  {
   "cell_type": "code",
   "execution_count": 89,
   "metadata": {},
   "outputs": [
    {
     "data": {
      "text/plain": [
       "Cloth           8736\n",
       "Full leather    5439\n",
       "Part leather    2835\n",
       "alcantara        764\n",
       "Other            628\n",
       "Velour           208\n",
       "Name: upholstery, dtype: int64"
      ]
     },
     "execution_count": 89,
     "metadata": {},
     "output_type": "execute_result"
    }
   ],
   "source": [
    "df['upholstery'].value_counts()"
   ]
  },
  {
   "cell_type": "code",
   "execution_count": 90,
   "metadata": {},
   "outputs": [
    {
     "data": {
      "text/plain": [
       "0                 NaN\n",
       "1                 NaN\n",
       "2                 NaN\n",
       "3                 NaN\n",
       "4                 NaN\n",
       "             ...     \n",
       "29475             NaN\n",
       "29476             NaN\n",
       "29477    Full Leather\n",
       "29478    Full Leather\n",
       "29479             NaN\n",
       "Name: upholstery, Length: 29480, dtype: object"
      ]
     },
     "execution_count": 90,
     "metadata": {},
     "output_type": "execute_result"
    }
   ],
   "source": [
    "df['upholstery'] = df['upholstery'].str.title()\n",
    "df['upholstery']"
   ]
  },
  {
   "cell_type": "markdown",
   "metadata": {},
   "source": [
    "### #43 production_date &#9989;"
   ]
  },
  {
   "cell_type": "code",
   "execution_count": 91,
   "metadata": {},
   "outputs": [
    {
     "data": {
      "text/plain": [
       "0       NaN\n",
       "1       NaN\n",
       "2       NaN\n",
       "3       NaN\n",
       "4       NaN\n",
       "         ..\n",
       "29475   NaN\n",
       "29476   NaN\n",
       "29477   NaN\n",
       "29478   NaN\n",
       "29479   NaN\n",
       "Name: production_date, Length: 29480, dtype: float64"
      ]
     },
     "execution_count": 91,
     "metadata": {},
     "output_type": "execute_result"
    }
   ],
   "source": [
    "df['production_date'] = df['production_date'].astype('float')\n",
    "df['production_date']"
   ]
  },
  {
   "cell_type": "markdown",
   "metadata": {},
   "source": [
    "### #44 previous_owner"
   ]
  },
  {
   "cell_type": "code",
   "execution_count": 92,
   "metadata": {},
   "outputs": [
    {
     "data": {
      "text/plain": [
       "0                               NaN\n",
       "1                               NaN\n",
       "2                               NaN\n",
       "3                               NaN\n",
       "4                               NaN\n",
       "                    ...            \n",
       "29475                           NaN\n",
       "29476     [[96,000 km, 04/2011], 1]\n",
       "29477                           NaN\n",
       "29478    [[230,047 km, 07/2002], 5]\n",
       "29479                           NaN\n",
       "Name: previous_owner, Length: 29480, dtype: object"
      ]
     },
     "execution_count": 92,
     "metadata": {},
     "output_type": "execute_result"
    }
   ],
   "source": [
    "df['previous_owner']  # Bu data kullanilacak mi karar ver. Kullanilacaksa teimzle, kullanilmacaksa dropla"
   ]
  },
  {
   "cell_type": "code",
   "execution_count": 93,
   "metadata": {},
   "outputs": [
    {
     "data": {
      "text/plain": [
       "9243                            NaN\n",
       "806                             NaN\n",
       "4634      [[23,000 km, 06/2020], 1]\n",
       "21962                           NaN\n",
       "21770                           NaN\n",
       "27609     [[66,882 km, 09/2018], 1]\n",
       "526       [[63,019 km, 03/2018], 2]\n",
       "12309                           NaN\n",
       "28058                           NaN\n",
       "25710                           NaN\n",
       "11871                           NaN\n",
       "29138     [[23,219 km, 04/2021], 1]\n",
       "23418      [[7,727 km, 04/2021], 1]\n",
       "18685                           NaN\n",
       "26499                           NaN\n",
       "14710      [[7,000 km, 03/2022], 1]\n",
       "22132                           NaN\n",
       "14048                           NaN\n",
       "11204                           NaN\n",
       "4630                            NaN\n",
       "15754                           NaN\n",
       "7019      [[79,000 km, 06/2017], 3]\n",
       "26865    [[105,600 km, 09/2010], 1]\n",
       "22681    [[107,000 km, 08/2015], 2]\n",
       "8652      [[83,037 km, 04/2018], 1]\n",
       "3951          [[10 km, 07/2022], 1]\n",
       "6327                            NaN\n",
       "16621         [[10 km, 05/2022], 1]\n",
       "16723     [[73,261 km, 08/2015], 1]\n",
       "22032     [[13,893 km, 06/2019], 2]\n",
       "Name: previous_owner, dtype: object"
      ]
     },
     "execution_count": 93,
     "metadata": {},
     "output_type": "execute_result"
    }
   ],
   "source": [
    "df['previous_owner'].sample(30)"
   ]
  },
  {
   "cell_type": "markdown",
   "metadata": {},
   "source": [
    "### #45 other_fuel_types"
   ]
  },
  {
   "cell_type": "code",
   "execution_count": 94,
   "metadata": {},
   "outputs": [
    {
     "data": {
      "text/plain": [
       "Electricity     2301\n",
       "Hydogen           11\n",
       "Super E10 95       1\n",
       "Name: other_fuel_types, dtype: int64"
      ]
     },
     "execution_count": 94,
     "metadata": {},
     "output_type": "execute_result"
    }
   ],
   "source": [
    "df['other_fuel_types'].value_counts()   # %93'u missing value. fuel_type sutunuyla birlestirebilirsen birlestir yoksa dropla"
   ]
  },
  {
   "cell_type": "markdown",
   "metadata": {},
   "source": [
    "### #46 power_consumption"
   ]
  },
  {
   "cell_type": "code",
   "execution_count": 95,
   "metadata": {},
   "outputs": [
    {
     "data": {
      "text/plain": [
       "0 kWh/100 km (comb.)       101\n",
       "15.2 kWh/100 km (comb.)     30\n",
       "15.7 kWh/100 km (comb.)     19\n",
       "17.7 kWh/100 km (comb.)     17\n",
       "15.9 kWh/100 km (comb.)     14\n",
       "                          ... \n",
       "12.9 kWh/100 km (comb.)      1\n",
       "0.1 kWh/100 km (comb.)       1\n",
       "23 kWh/100 km (comb.)        1\n",
       "3.9 kWh/100 km (comb.)       1\n",
       "18.3 kWh/100 km (comb.)      1\n",
       "Name: power_consumption, Length: 104, dtype: int64"
      ]
     },
     "execution_count": 95,
     "metadata": {},
     "output_type": "execute_result"
    }
   ],
   "source": [
    "df['power_consumption'].value_counts() # %98'i missing value olan bir feature. diger verileri doldurmada ise yaramayacaksa dropla"
   ]
  },
  {
   "cell_type": "markdown",
   "metadata": {},
   "source": [
    "### #47 energy_efficiency_class"
   ]
  },
  {
   "cell_type": "code",
   "execution_count": 96,
   "metadata": {},
   "outputs": [
    {
     "data": {
      "text/plain": [
       "B       2090\n",
       "A       1687\n",
       "C       1133\n",
       "A+      1089\n",
       "D        636\n",
       "A+++     375\n",
       "G        309\n",
       "E        271\n",
       "F        147\n",
       "A++       67\n",
       "Name: energy_efficiency_class, dtype: int64"
      ]
     },
     "execution_count": 96,
     "metadata": {},
     "output_type": "execute_result"
    }
   ],
   "source": [
    "df['energy_efficiency_class'].value_counts()"
   ]
  },
  {
   "cell_type": "markdown",
   "metadata": {},
   "source": [
    "### #48 co_efficiency"
   ]
  },
  {
   "cell_type": "code",
   "execution_count": 97,
   "metadata": {},
   "outputs": [
    {
     "data": {
      "text/plain": [
       "Calculated on basis of measured CO₂-emissions taking into account the mass of the vehicle.    7804\n",
       "Name: co_efficiency, dtype: int64"
      ]
     },
     "execution_count": 97,
     "metadata": {},
     "output_type": "execute_result"
    }
   ],
   "source": [
    "df['co_efficiency'].value_counts()   "
   ]
  },
  {
   "cell_type": "markdown",
   "metadata": {},
   "source": [
    "### #49 fuel_consumption_wltp"
   ]
  },
  {
   "cell_type": "code",
   "execution_count": 98,
   "metadata": {},
   "outputs": [
    {
     "data": {
      "text/plain": [
       "5.5 l/100 km     9\n",
       "5 l/100 km       8\n",
       "5.4 l/100 km     5\n",
       "6.8 l/100 km     5\n",
       "5.7 l/100 km     4\n",
       "6.5 l/100 km     4\n",
       "7.3 l/100 km     4\n",
       "6.7 l/100 km     3\n",
       "4.9 l/100 km     3\n",
       "6.6 l/100 km     3\n",
       "5.2 l/100 km     3\n",
       "6.1 l/100 km     2\n",
       "6.2 l/100 km     2\n",
       "5.8 l/100 km     2\n",
       "5.6 l/100 km     2\n",
       "4.4 l/100 km     2\n",
       "9.3 l/100 km     2\n",
       "4.7 l/100 km     2\n",
       "5.9 l/100 km     2\n",
       "6.3 l/100 km     2\n",
       "8.4 l/100 km     2\n",
       "16 l/100 km      2\n",
       "7.6 l/100 km     2\n",
       "12.6 l/100 km    2\n",
       "4.8 l/100 km     1\n",
       "12 l/100 km      1\n",
       "5.3 l/100 km     1\n",
       "8 l/100 km       1\n",
       "8.2 l/100 km     1\n",
       "3.9 l/100 km     1\n",
       "4.1 l/100 km     1\n",
       "1.5 l/100 km     1\n",
       "4.2 l/100 km     1\n",
       "4.3 l/100 km     1\n",
       "1.1 l/100 km     1\n",
       "6.4 l/100 km     1\n",
       "8.6 l/100 km     1\n",
       "10.3 l/100 km    1\n",
       "12.2 l/100 km    1\n",
       "12.3 l/100 km    1\n",
       "8.3 l/100 km     1\n",
       "7.2 l/100 km     1\n",
       "9.6 l/100 km     1\n",
       "9.1 l/100 km     1\n",
       "12.9 l/100 km    1\n",
       "10.4 l/100 km    1\n",
       "7.8 l/100 km     1\n",
       "Name: fuel_consumption_wltp, dtype: int64"
      ]
     },
     "execution_count": 98,
     "metadata": {},
     "output_type": "execute_result"
    }
   ],
   "source": [
    "df['fuel_consumption_wltp'].value_counts()"
   ]
  },
  {
   "cell_type": "markdown",
   "metadata": {},
   "source": [
    "### #50 co_emissions_wltp"
   ]
  },
  {
   "cell_type": "code",
   "execution_count": 99,
   "metadata": {},
   "outputs": [
    {
     "data": {
      "text/plain": [
       "0 g/km (comb.)      14\n",
       "125 g/km (comb.)     8\n",
       "130 g/km (comb.)     4\n",
       "129 g/km (comb.)     4\n",
       "153 g/km (comb.)     3\n",
       "                    ..\n",
       "285 g/km (comb.)     1\n",
       "211 g/km (comb.)     1\n",
       "159 g/km (comb.)     1\n",
       "115 g/km (comb.)     1\n",
       "123 g/km (comb.)     1\n",
       "Name: co_emissions_wltp, Length: 68, dtype: int64"
      ]
     },
     "execution_count": 99,
     "metadata": {},
     "output_type": "execute_result"
    }
   ],
   "source": [
    "df['co_emissions_wltp'].value_counts()   #dropla"
   ]
  },
  {
   "cell_type": "markdown",
   "metadata": {},
   "source": [
    "### #51 available_from"
   ]
  },
  {
   "cell_type": "code",
   "execution_count": 100,
   "metadata": {},
   "outputs": [
    {
     "data": {
      "text/plain": [
       "[\\n, 01/03/2023, \\n]    34\n",
       "[\\n, 01/10/2026, \\n]    23\n",
       "[\\n, 31/03/2023, \\n]    17\n",
       "[\\n, 08/10/2022, \\n]    15\n",
       "[\\n, 15/10/2022, \\n]    13\n",
       "                        ..\n",
       "[\\n, 24/10/2022, \\n]     1\n",
       "[\\n, 27/03/2023, \\n]     1\n",
       "[\\n, 03/02/2023, \\n]     1\n",
       "[\\n, 27/10/2022, \\n]     1\n",
       "[\\n, 12/10/2022, \\n]     1\n",
       "Name: available_from, Length: 125, dtype: int64"
      ]
     },
     "execution_count": 100,
     "metadata": {},
     "output_type": "execute_result"
    }
   ],
   "source": [
    "df['available_from'].value_counts()  #droplanacak"
   ]
  },
  {
   "cell_type": "markdown",
   "metadata": {},
   "source": [
    "### #52 taxi_or_rental_car"
   ]
  },
  {
   "cell_type": "code",
   "execution_count": 101,
   "metadata": {},
   "outputs": [
    {
     "data": {
      "text/plain": [
       "Yes    422\n",
       "Name: taxi_or_rental_car, dtype: int64"
      ]
     },
     "execution_count": 101,
     "metadata": {},
     "output_type": "execute_result"
    }
   ],
   "source": [
    "df['taxi_or_rental_car'].value_counts()"
   ]
  },
  {
   "cell_type": "markdown",
   "metadata": {},
   "source": [
    "### #53 availability"
   ]
  },
  {
   "cell_type": "code",
   "execution_count": 102,
   "metadata": {},
   "outputs": [
    {
     "data": {
      "text/plain": [
       "[\\n, in 1 day after order, \\n]       64\n",
       "[\\n, in 5 days after order, \\n]      56\n",
       "[\\n, in 7 days after order, \\n]      31\n",
       "[\\n, in 3 days after order, \\n]      25\n",
       "[\\n, in 14 days after order, \\n]     22\n",
       "[\\n, in 60 days after order, \\n]     21\n",
       "[\\n, in 42 days after order, \\n]     15\n",
       "[\\n, in 180 days after order, \\n]    12\n",
       "[\\n, in 90 days after order, \\n]     10\n",
       "[\\n, in 120 days after order, \\n]    10\n",
       "[\\n, in 6 days after order, \\n]       9\n",
       "[\\n, in 270 days after order, \\n]     8\n",
       "[\\n, in 28 days after order, \\n]      5\n",
       "[\\n, in 2 days after order, \\n]       5\n",
       "[\\n, in 4 days after order, \\n]       4\n",
       "[\\n, in 21 days after order, \\n]      2\n",
       "[\\n, in 360 days after order, \\n]     1\n",
       "[\\n, in 150 days after order, \\n]     1\n",
       "Name: availability, dtype: int64"
      ]
     },
     "execution_count": 102,
     "metadata": {},
     "output_type": "execute_result"
    }
   ],
   "source": [
    "df['availability'].value_counts()"
   ]
  },
  {
   "cell_type": "code",
   "execution_count": 103,
   "metadata": {},
   "outputs": [
    {
     "data": {
      "text/plain": [
       "1.0      64\n",
       "5.0      56\n",
       "7.0      31\n",
       "3.0      25\n",
       "14.0     22\n",
       "60.0     21\n",
       "42.0     15\n",
       "180.0    12\n",
       "90.0     10\n",
       "120.0    10\n",
       "6.0       9\n",
       "270.0     8\n",
       "28.0      5\n",
       "2.0       5\n",
       "4.0       4\n",
       "21.0      2\n",
       "360.0     1\n",
       "150.0     1\n",
       "Name: availability_days, dtype: int64"
      ]
     },
     "execution_count": 103,
     "metadata": {},
     "output_type": "execute_result"
    }
   ],
   "source": [
    "df['availability_days'] = df['availability'].map(lambda x : x[0].strip(\",\\n \") if type(x) == list else x).str.extract('(\\d+\\.*\\d*)').astype(\"float\")\n",
    "df = df.drop('availability',axis=1)\n",
    "df['availability_days'].value_counts()"
   ]
  },
  {
   "cell_type": "markdown",
   "metadata": {},
   "source": [
    "### #54 last_timing_belt_change"
   ]
  },
  {
   "cell_type": "code",
   "execution_count": 104,
   "metadata": {},
   "outputs": [
    {
     "data": {
      "text/plain": [
       "04/2022    27\n",
       "05/2021    26\n",
       "08/2022    25\n",
       "07/2022    24\n",
       "07/2021    22\n",
       "           ..\n",
       "08/2015     1\n",
       "02/2015     1\n",
       "08/2016     1\n",
       "02/2018     1\n",
       "07/2016     1\n",
       "Name: last_timing_belt_change, Length: 86, dtype: int64"
      ]
     },
     "execution_count": 104,
     "metadata": {},
     "output_type": "execute_result"
    }
   ],
   "source": [
    "df['last_timing_belt_change'].value_counts()"
   ]
  },
  {
   "cell_type": "markdown",
   "metadata": {},
   "source": [
    "### #55 electric_range_wltp"
   ]
  },
  {
   "cell_type": "code",
   "execution_count": 105,
   "metadata": {},
   "outputs": [],
   "source": [
    "df = df.drop('electric_range_wltp',axis=1) # Dropped feature due to lack of data"
   ]
  },
  {
   "cell_type": "markdown",
   "metadata": {},
   "source": [
    "### #56 power_consumption_wltp"
   ]
  },
  {
   "cell_type": "code",
   "execution_count": 106,
   "metadata": {},
   "outputs": [],
   "source": [
    "df = df.drop('power_consumption_wltp',axis=1) # Dropped feature due to lack of data"
   ]
  },
  {
   "cell_type": "markdown",
   "metadata": {},
   "source": [
    "### #57 battery_ownership"
   ]
  },
  {
   "cell_type": "code",
   "execution_count": 107,
   "metadata": {},
   "outputs": [],
   "source": [
    "df = df.drop('battery_ownership',axis=1)  # Dropped feature due to lack of data"
   ]
  },
  {
   "cell_type": "markdown",
   "metadata": {},
   "source": []
  },
  {
   "cell_type": "code",
   "execution_count": null,
   "metadata": {},
   "outputs": [],
   "source": []
  },
  {
   "cell_type": "code",
   "execution_count": 108,
   "metadata": {},
   "outputs": [
    {
     "name": "stdout",
     "output_type": "stream",
     "text": [
      "<class 'pandas.core.frame.DataFrame'>\n",
      "RangeIndex: 29480 entries, 0 to 29479\n",
      "Data columns (total 58 columns):\n",
      " #   Column                   Non-Null Count  Dtype   \n",
      "---  ------                   --------------  -----   \n",
      " 0   make_model               28630 non-null  object  \n",
      " 1   short_description        28630 non-null  object  \n",
      " 2   make                     28630 non-null  category\n",
      " 3   model                    28630 non-null  object  \n",
      " 4   location                 28630 non-null  object  \n",
      " 5   price                    28630 non-null  float64 \n",
      " 6   body_type                28630 non-null  object  \n",
      " 7   type                     28630 non-null  object  \n",
      " 8   doors                    28271 non-null  float64 \n",
      " 9   country_version          16889 non-null  object  \n",
      " 10  offer_number             23100 non-null  object  \n",
      " 11  warranty                 15784 non-null  object  \n",
      " 12  mileage                  28629 non-null  float64 \n",
      " 13  first_registration       28628 non-null  object  \n",
      " 14  gearbox                  28382 non-null  object  \n",
      " 15  fuel_type                26843 non-null  object  \n",
      " 16  colour                   26906 non-null  object  \n",
      " 17  paint                    14495 non-null  object  \n",
      " 18  desc                     28047 non-null  object  \n",
      " 19  seller                   28630 non-null  object  \n",
      " 20  seats                    25505 non-null  float64 \n",
      " 21  power                    28058 non-null  float64 \n",
      " 22  engine_size              27227 non-null  object  \n",
      " 23  gears                    18954 non-null  float64 \n",
      " 24  co_emissions             18594 non-null  float64 \n",
      " 25  manufacturer_colour      21787 non-null  object  \n",
      " 26  drivetrain               16893 non-null  object  \n",
      " 27  cylinders                18852 non-null  float64 \n",
      " 28  fuel_consumption         23385 non-null  object  \n",
      " 29  comfort_&_convenience    25433 non-null  object  \n",
      " 30  entertainment_&_media    23644 non-null  object  \n",
      " 31  safety_&_security        25415 non-null  object  \n",
      " 32  extras                   23480 non-null  object  \n",
      " 33  empty_weight             17758 non-null  float64 \n",
      " 34  model_code               8367 non-null   object  \n",
      " 35  general_inspection       12254 non-null  object  \n",
      " 36  last_service             2003 non-null   object  \n",
      " 37  full_service_history     12565 non-null  object  \n",
      " 38  non_smoker_vehicle       11594 non-null  object  \n",
      " 39  emission_class           17859 non-null  object  \n",
      " 40  emissions_sticker        9414 non-null   object  \n",
      " 41  upholstery_colour        14569 non-null  object  \n",
      " 42  upholstery               18610 non-null  object  \n",
      " 43  production_date          5908 non-null   float64 \n",
      " 44  previous_owner           14015 non-null  object  \n",
      " 45  other_fuel_types         2313 non-null   object  \n",
      " 46  power_consumption        515 non-null    object  \n",
      " 47  energy_efficiency_class  7804 non-null   object  \n",
      " 48  co_efficiency            7804 non-null   object  \n",
      " 49  fuel_consumption_wltp    100 non-null    object  \n",
      " 50  co_emissions_wltp        116 non-null    object  \n",
      " 51  available_from           393 non-null    object  \n",
      " 52  taxi_or_rental_car       422 non-null    object  \n",
      " 53  last_timing_belt_change  572 non-null    object  \n",
      " 54  consumption_comb         23328 non-null  float64 \n",
      " 55  consumption_city         20100 non-null  float64 \n",
      " 56  consumption_country      20100 non-null  float64 \n",
      " 57  availability_days        301 non-null    float64 \n",
      "dtypes: category(1), float64(14), object(43)\n",
      "memory usage: 12.8+ MB\n"
     ]
    }
   ],
   "source": [
    "df.info()"
   ]
  },
  {
   "cell_type": "code",
   "execution_count": 109,
   "metadata": {},
   "outputs": [
    {
     "data": {
      "text/html": [
       "<div>\n",
       "<style scoped>\n",
       "    .dataframe tbody tr th:only-of-type {\n",
       "        vertical-align: middle;\n",
       "    }\n",
       "\n",
       "    .dataframe tbody tr th {\n",
       "        vertical-align: top;\n",
       "    }\n",
       "\n",
       "    .dataframe thead th {\n",
       "        text-align: right;\n",
       "    }\n",
       "</style>\n",
       "<table border=\"1\" class=\"dataframe\">\n",
       "  <thead>\n",
       "    <tr style=\"text-align: right;\">\n",
       "      <th></th>\n",
       "      <th>0</th>\n",
       "      <th>1</th>\n",
       "      <th>2</th>\n",
       "      <th>3</th>\n",
       "      <th>4</th>\n",
       "    </tr>\n",
       "  </thead>\n",
       "  <tbody>\n",
       "    <tr>\n",
       "      <th>make_model</th>\n",
       "      <td>Mercedes-Benz A 160</td>\n",
       "      <td>Mercedes-Benz EQE 350</td>\n",
       "      <td>Mercedes-Benz A 45 AMG</td>\n",
       "      <td>Mercedes-Benz A 35 AMG</td>\n",
       "      <td>Mercedes-Benz A 45 AMG</td>\n",
       "    </tr>\n",
       "    <tr>\n",
       "      <th>short_description</th>\n",
       "      <td>CDi</td>\n",
       "      <td>350+</td>\n",
       "      <td>S 4Matic+ 8G-DCT</td>\n",
       "      <td>4Matic+ 7G-DCT</td>\n",
       "      <td>200CDI BE Line 4M 7G-DCT</td>\n",
       "    </tr>\n",
       "    <tr>\n",
       "      <th>make</th>\n",
       "      <td>Mercedes-Benz</td>\n",
       "      <td>Mercedes-Benz</td>\n",
       "      <td>Mercedes-Benz</td>\n",
       "      <td>Mercedes-Benz</td>\n",
       "      <td>Mercedes-Benz</td>\n",
       "    </tr>\n",
       "    <tr>\n",
       "      <th>model</th>\n",
       "      <td>[\\n, A 160 ,\\n]</td>\n",
       "      <td>[\\n, EQE 350 ,\\n]</td>\n",
       "      <td>[\\n, A 45 AMG ,\\n]</td>\n",
       "      <td>[\\n, A 35 AMG ,\\n]</td>\n",
       "      <td>[\\n, A 45 AMG ,\\n]</td>\n",
       "    </tr>\n",
       "    <tr>\n",
       "      <th>location</th>\n",
       "      <td>P.I. EL PALMAR C/FORJA 6,  11500 PUERTO DE SAN...</td>\n",
       "      <td>APARTADO DE CORREOS 1032,  26140 LOGROÑO, ES</td>\n",
       "      <td>PORT. TARRACO, MOLL DE LLEVANT, Nº 5, LOC. 6-8...</td>\n",
       "      <td>Carrer de Provença, 31 Local,  8029 BARCELONA, ES</td>\n",
       "      <td>CARRIL ARAGONES 4,  30007 CASILLAS, ES</td>\n",
       "    </tr>\n",
       "    <tr>\n",
       "      <th>price</th>\n",
       "      <td>16950.0</td>\n",
       "      <td>80900.0</td>\n",
       "      <td>69900.0</td>\n",
       "      <td>46990.0</td>\n",
       "      <td>16800.0</td>\n",
       "    </tr>\n",
       "    <tr>\n",
       "      <th>body_type</th>\n",
       "      <td>Compact</td>\n",
       "      <td>Compact</td>\n",
       "      <td>Compact</td>\n",
       "      <td>Compact</td>\n",
       "      <td>Compact</td>\n",
       "    </tr>\n",
       "    <tr>\n",
       "      <th>type</th>\n",
       "      <td>Used</td>\n",
       "      <td>Pre-registered</td>\n",
       "      <td>Used</td>\n",
       "      <td>Used</td>\n",
       "      <td>Used</td>\n",
       "    </tr>\n",
       "    <tr>\n",
       "      <th>doors</th>\n",
       "      <td>5.0</td>\n",
       "      <td>4.0</td>\n",
       "      <td>5.0</td>\n",
       "      <td>5.0</td>\n",
       "      <td>5.0</td>\n",
       "    </tr>\n",
       "    <tr>\n",
       "      <th>country_version</th>\n",
       "      <td>Spain</td>\n",
       "      <td>Spain</td>\n",
       "      <td>Spain</td>\n",
       "      <td>Spain</td>\n",
       "      <td>Spain</td>\n",
       "    </tr>\n",
       "    <tr>\n",
       "      <th>offer_number</th>\n",
       "      <td>7468157</td>\n",
       "      <td>7054863</td>\n",
       "      <td>7410454</td>\n",
       "      <td>7464503</td>\n",
       "      <td>7127931</td>\n",
       "    </tr>\n",
       "    <tr>\n",
       "      <th>warranty</th>\n",
       "      <td>24 months</td>\n",
       "      <td>24 months</td>\n",
       "      <td>12 months</td>\n",
       "      <td>12 months</td>\n",
       "      <td>12 months</td>\n",
       "    </tr>\n",
       "    <tr>\n",
       "      <th>mileage</th>\n",
       "      <td>120200.0</td>\n",
       "      <td>5000.0</td>\n",
       "      <td>18900.0</td>\n",
       "      <td>18995.0</td>\n",
       "      <td>197000.0</td>\n",
       "    </tr>\n",
       "    <tr>\n",
       "      <th>first_registration</th>\n",
       "      <td>06/2016</td>\n",
       "      <td>06/2022</td>\n",
       "      <td>07/2020</td>\n",
       "      <td>01/2020</td>\n",
       "      <td>09/2015</td>\n",
       "    </tr>\n",
       "    <tr>\n",
       "      <th>gearbox</th>\n",
       "      <td>Manual</td>\n",
       "      <td>Automatic</td>\n",
       "      <td>Automatic</td>\n",
       "      <td>Automatic</td>\n",
       "      <td>Automatic</td>\n",
       "    </tr>\n",
       "    <tr>\n",
       "      <th>fuel_type</th>\n",
       "      <td>Diesel</td>\n",
       "      <td>Electric</td>\n",
       "      <td>Gasoline</td>\n",
       "      <td>Gasoline</td>\n",
       "      <td>Diesel</td>\n",
       "    </tr>\n",
       "    <tr>\n",
       "      <th>colour</th>\n",
       "      <td>Black</td>\n",
       "      <td>NaN</td>\n",
       "      <td>Grey</td>\n",
       "      <td>Yellow</td>\n",
       "      <td>White</td>\n",
       "    </tr>\n",
       "    <tr>\n",
       "      <th>paint</th>\n",
       "      <td>Metallic</td>\n",
       "      <td>NaN</td>\n",
       "      <td>NaN</td>\n",
       "      <td>NaN</td>\n",
       "      <td>Metallic</td>\n",
       "    </tr>\n",
       "    <tr>\n",
       "      <th>desc</th>\n",
       "      <td>[ , Precio al contado: 16950 euros,  ,  , Vehí...</td>\n",
       "      <td>[ , Precio al contado: 88900 euros,  , AUTO OJ...</td>\n",
       "      <td>[Gris MANUFAKTUR mountaingrau magno,  , Linea/...</td>\n",
       "      <td>[ , Precio al contado: 48990 euros,  ,  , BONI...</td>\n",
       "      <td>[ , Precio al contado: 17400 euros,  , Vehícul...</td>\n",
       "    </tr>\n",
       "    <tr>\n",
       "      <th>seller</th>\n",
       "      <td>Dealer</td>\n",
       "      <td>Dealer</td>\n",
       "      <td>Dealer</td>\n",
       "      <td>Dealer</td>\n",
       "      <td>Dealer</td>\n",
       "    </tr>\n",
       "    <tr>\n",
       "      <th>seats</th>\n",
       "      <td>NaN</td>\n",
       "      <td>5.0</td>\n",
       "      <td>5.0</td>\n",
       "      <td>5.0</td>\n",
       "      <td>5.0</td>\n",
       "    </tr>\n",
       "    <tr>\n",
       "      <th>power</th>\n",
       "      <td>NaN</td>\n",
       "      <td>292.0</td>\n",
       "      <td>421.0</td>\n",
       "      <td>306.0</td>\n",
       "      <td>136.0</td>\n",
       "    </tr>\n",
       "    <tr>\n",
       "      <th>engine_size</th>\n",
       "      <td>NaN</td>\n",
       "      <td>0.0</td>\n",
       "      <td>1.9</td>\n",
       "      <td>1.9</td>\n",
       "      <td>2.1</td>\n",
       "    </tr>\n",
       "    <tr>\n",
       "      <th>gears</th>\n",
       "      <td>NaN</td>\n",
       "      <td>9.0</td>\n",
       "      <td>8.0</td>\n",
       "      <td>7.0</td>\n",
       "      <td>7.0</td>\n",
       "    </tr>\n",
       "    <tr>\n",
       "      <th>co_emissions</th>\n",
       "      <td>NaN</td>\n",
       "      <td>0.0</td>\n",
       "      <td>NaN</td>\n",
       "      <td>NaN</td>\n",
       "      <td>NaN</td>\n",
       "    </tr>\n",
       "    <tr>\n",
       "      <th>manufacturer_colour</th>\n",
       "      <td>NaN</td>\n",
       "      <td>Negro Obsidiana</td>\n",
       "      <td>Mountaingrau Magno</td>\n",
       "      <td>Amarillo Sol</td>\n",
       "      <td>NaN</td>\n",
       "    </tr>\n",
       "    <tr>\n",
       "      <th>drivetrain</th>\n",
       "      <td>NaN</td>\n",
       "      <td>NaN</td>\n",
       "      <td>4WD</td>\n",
       "      <td>4WD</td>\n",
       "      <td>4WD</td>\n",
       "    </tr>\n",
       "    <tr>\n",
       "      <th>cylinders</th>\n",
       "      <td>NaN</td>\n",
       "      <td>NaN</td>\n",
       "      <td>4.0</td>\n",
       "      <td>4.0</td>\n",
       "      <td>4.0</td>\n",
       "    </tr>\n",
       "    <tr>\n",
       "      <th>fuel_consumption</th>\n",
       "      <td>NaN</td>\n",
       "      <td>NaN</td>\n",
       "      <td>[[8.4 l/100 km (comb.)], [10.9 l/100 km (city)...</td>\n",
       "      <td>[[7.3 l/100 km (comb.)], [9.3 l/100 km (city)]...</td>\n",
       "      <td>[[4.9 l/100 km (comb.)], [5.7 l/100 km (city)]...</td>\n",
       "    </tr>\n",
       "    <tr>\n",
       "      <th>comfort_&amp;_convenience</th>\n",
       "      <td>NaN</td>\n",
       "      <td>NaN</td>\n",
       "      <td>NaN</td>\n",
       "      <td>Air Conditioning, Automatic Climate Control, P...</td>\n",
       "      <td>Air Conditioning, Electrical Side Mirrors, Mul...</td>\n",
       "    </tr>\n",
       "    <tr>\n",
       "      <th>entertainment_&amp;_media</th>\n",
       "      <td>NaN</td>\n",
       "      <td>NaN</td>\n",
       "      <td>NaN</td>\n",
       "      <td>[USB]</td>\n",
       "      <td>[Bluetooth, CD player, MP3, USB]</td>\n",
       "    </tr>\n",
       "    <tr>\n",
       "      <th>safety_&amp;_security</th>\n",
       "      <td>NaN</td>\n",
       "      <td>NaN</td>\n",
       "      <td>NaN</td>\n",
       "      <td>[ABS, Central door lock, Driver-side airbag, E...</td>\n",
       "      <td>[ABS, Central door lock, Driver-side airbag, E...</td>\n",
       "    </tr>\n",
       "    <tr>\n",
       "      <th>extras</th>\n",
       "      <td>NaN</td>\n",
       "      <td>NaN</td>\n",
       "      <td>NaN</td>\n",
       "      <td>[Sport seats]</td>\n",
       "      <td>NaN</td>\n",
       "    </tr>\n",
       "    <tr>\n",
       "      <th>empty_weight</th>\n",
       "      <td>NaN</td>\n",
       "      <td>NaN</td>\n",
       "      <td>NaN</td>\n",
       "      <td>NaN</td>\n",
       "      <td>1545.0</td>\n",
       "    </tr>\n",
       "    <tr>\n",
       "      <th>model_code</th>\n",
       "      <td>NaN</td>\n",
       "      <td>NaN</td>\n",
       "      <td>NaN</td>\n",
       "      <td>NaN</td>\n",
       "      <td>NaN</td>\n",
       "    </tr>\n",
       "    <tr>\n",
       "      <th>general_inspection</th>\n",
       "      <td>NaN</td>\n",
       "      <td>NaN</td>\n",
       "      <td>NaN</td>\n",
       "      <td>NaN</td>\n",
       "      <td>NaN</td>\n",
       "    </tr>\n",
       "    <tr>\n",
       "      <th>last_service</th>\n",
       "      <td>NaN</td>\n",
       "      <td>NaN</td>\n",
       "      <td>NaN</td>\n",
       "      <td>NaN</td>\n",
       "      <td>NaN</td>\n",
       "    </tr>\n",
       "    <tr>\n",
       "      <th>full_service_history</th>\n",
       "      <td>NaN</td>\n",
       "      <td>NaN</td>\n",
       "      <td>NaN</td>\n",
       "      <td>NaN</td>\n",
       "      <td>NaN</td>\n",
       "    </tr>\n",
       "    <tr>\n",
       "      <th>non_smoker_vehicle</th>\n",
       "      <td>NaN</td>\n",
       "      <td>NaN</td>\n",
       "      <td>NaN</td>\n",
       "      <td>NaN</td>\n",
       "      <td>NaN</td>\n",
       "    </tr>\n",
       "    <tr>\n",
       "      <th>emission_class</th>\n",
       "      <td>NaN</td>\n",
       "      <td>NaN</td>\n",
       "      <td>NaN</td>\n",
       "      <td>NaN</td>\n",
       "      <td>NaN</td>\n",
       "    </tr>\n",
       "    <tr>\n",
       "      <th>emissions_sticker</th>\n",
       "      <td>NaN</td>\n",
       "      <td>NaN</td>\n",
       "      <td>NaN</td>\n",
       "      <td>NaN</td>\n",
       "      <td>NaN</td>\n",
       "    </tr>\n",
       "    <tr>\n",
       "      <th>upholstery_colour</th>\n",
       "      <td>NaN</td>\n",
       "      <td>NaN</td>\n",
       "      <td>NaN</td>\n",
       "      <td>NaN</td>\n",
       "      <td>NaN</td>\n",
       "    </tr>\n",
       "    <tr>\n",
       "      <th>upholstery</th>\n",
       "      <td>NaN</td>\n",
       "      <td>NaN</td>\n",
       "      <td>NaN</td>\n",
       "      <td>NaN</td>\n",
       "      <td>NaN</td>\n",
       "    </tr>\n",
       "    <tr>\n",
       "      <th>production_date</th>\n",
       "      <td>NaN</td>\n",
       "      <td>NaN</td>\n",
       "      <td>NaN</td>\n",
       "      <td>NaN</td>\n",
       "      <td>NaN</td>\n",
       "    </tr>\n",
       "    <tr>\n",
       "      <th>previous_owner</th>\n",
       "      <td>NaN</td>\n",
       "      <td>NaN</td>\n",
       "      <td>NaN</td>\n",
       "      <td>NaN</td>\n",
       "      <td>NaN</td>\n",
       "    </tr>\n",
       "    <tr>\n",
       "      <th>other_fuel_types</th>\n",
       "      <td>NaN</td>\n",
       "      <td>NaN</td>\n",
       "      <td>NaN</td>\n",
       "      <td>NaN</td>\n",
       "      <td>NaN</td>\n",
       "    </tr>\n",
       "    <tr>\n",
       "      <th>power_consumption</th>\n",
       "      <td>NaN</td>\n",
       "      <td>NaN</td>\n",
       "      <td>NaN</td>\n",
       "      <td>NaN</td>\n",
       "      <td>NaN</td>\n",
       "    </tr>\n",
       "    <tr>\n",
       "      <th>energy_efficiency_class</th>\n",
       "      <td>NaN</td>\n",
       "      <td>NaN</td>\n",
       "      <td>NaN</td>\n",
       "      <td>NaN</td>\n",
       "      <td>NaN</td>\n",
       "    </tr>\n",
       "    <tr>\n",
       "      <th>co_efficiency</th>\n",
       "      <td>NaN</td>\n",
       "      <td>NaN</td>\n",
       "      <td>NaN</td>\n",
       "      <td>NaN</td>\n",
       "      <td>NaN</td>\n",
       "    </tr>\n",
       "    <tr>\n",
       "      <th>fuel_consumption_wltp</th>\n",
       "      <td>NaN</td>\n",
       "      <td>NaN</td>\n",
       "      <td>NaN</td>\n",
       "      <td>NaN</td>\n",
       "      <td>NaN</td>\n",
       "    </tr>\n",
       "    <tr>\n",
       "      <th>co_emissions_wltp</th>\n",
       "      <td>NaN</td>\n",
       "      <td>NaN</td>\n",
       "      <td>NaN</td>\n",
       "      <td>NaN</td>\n",
       "      <td>NaN</td>\n",
       "    </tr>\n",
       "    <tr>\n",
       "      <th>available_from</th>\n",
       "      <td>NaN</td>\n",
       "      <td>NaN</td>\n",
       "      <td>NaN</td>\n",
       "      <td>NaN</td>\n",
       "      <td>NaN</td>\n",
       "    </tr>\n",
       "    <tr>\n",
       "      <th>taxi_or_rental_car</th>\n",
       "      <td>NaN</td>\n",
       "      <td>NaN</td>\n",
       "      <td>NaN</td>\n",
       "      <td>NaN</td>\n",
       "      <td>NaN</td>\n",
       "    </tr>\n",
       "    <tr>\n",
       "      <th>last_timing_belt_change</th>\n",
       "      <td>NaN</td>\n",
       "      <td>NaN</td>\n",
       "      <td>NaN</td>\n",
       "      <td>NaN</td>\n",
       "      <td>NaN</td>\n",
       "    </tr>\n",
       "    <tr>\n",
       "      <th>consumption_comb</th>\n",
       "      <td>NaN</td>\n",
       "      <td>NaN</td>\n",
       "      <td>8.4</td>\n",
       "      <td>7.3</td>\n",
       "      <td>4.9</td>\n",
       "    </tr>\n",
       "    <tr>\n",
       "      <th>consumption_city</th>\n",
       "      <td>NaN</td>\n",
       "      <td>NaN</td>\n",
       "      <td>10.9</td>\n",
       "      <td>9.3</td>\n",
       "      <td>5.7</td>\n",
       "    </tr>\n",
       "    <tr>\n",
       "      <th>consumption_country</th>\n",
       "      <td>NaN</td>\n",
       "      <td>NaN</td>\n",
       "      <td>5.8</td>\n",
       "      <td>6.1</td>\n",
       "      <td>4.4</td>\n",
       "    </tr>\n",
       "    <tr>\n",
       "      <th>availability_days</th>\n",
       "      <td>NaN</td>\n",
       "      <td>NaN</td>\n",
       "      <td>NaN</td>\n",
       "      <td>NaN</td>\n",
       "      <td>NaN</td>\n",
       "    </tr>\n",
       "  </tbody>\n",
       "</table>\n",
       "</div>"
      ],
      "text/plain": [
       "                                                                         0  \\\n",
       "make_model                                             Mercedes-Benz A 160   \n",
       "short_description                                                      CDi   \n",
       "make                                                         Mercedes-Benz   \n",
       "model                                                      [\\n, A 160 ,\\n]   \n",
       "location                 P.I. EL PALMAR C/FORJA 6,  11500 PUERTO DE SAN...   \n",
       "price                                                              16950.0   \n",
       "body_type                                                          Compact   \n",
       "type                                                                  Used   \n",
       "doors                                                                  5.0   \n",
       "country_version                                                      Spain   \n",
       "offer_number                                                       7468157   \n",
       "warranty                                                         24 months   \n",
       "mileage                                                           120200.0   \n",
       "first_registration                                                 06/2016   \n",
       "gearbox                                                             Manual   \n",
       "fuel_type                                                           Diesel   \n",
       "colour                                                               Black   \n",
       "paint                                                             Metallic   \n",
       "desc                     [ , Precio al contado: 16950 euros,  ,  , Vehí...   \n",
       "seller                                                              Dealer   \n",
       "seats                                                                  NaN   \n",
       "power                                                                  NaN   \n",
       "engine_size                                                            NaN   \n",
       "gears                                                                  NaN   \n",
       "co_emissions                                                           NaN   \n",
       "manufacturer_colour                                                    NaN   \n",
       "drivetrain                                                             NaN   \n",
       "cylinders                                                              NaN   \n",
       "fuel_consumption                                                       NaN   \n",
       "comfort_&_convenience                                                  NaN   \n",
       "entertainment_&_media                                                  NaN   \n",
       "safety_&_security                                                      NaN   \n",
       "extras                                                                 NaN   \n",
       "empty_weight                                                           NaN   \n",
       "model_code                                                             NaN   \n",
       "general_inspection                                                     NaN   \n",
       "last_service                                                           NaN   \n",
       "full_service_history                                                   NaN   \n",
       "non_smoker_vehicle                                                     NaN   \n",
       "emission_class                                                         NaN   \n",
       "emissions_sticker                                                      NaN   \n",
       "upholstery_colour                                                      NaN   \n",
       "upholstery                                                             NaN   \n",
       "production_date                                                        NaN   \n",
       "previous_owner                                                         NaN   \n",
       "other_fuel_types                                                       NaN   \n",
       "power_consumption                                                      NaN   \n",
       "energy_efficiency_class                                                NaN   \n",
       "co_efficiency                                                          NaN   \n",
       "fuel_consumption_wltp                                                  NaN   \n",
       "co_emissions_wltp                                                      NaN   \n",
       "available_from                                                         NaN   \n",
       "taxi_or_rental_car                                                     NaN   \n",
       "last_timing_belt_change                                                NaN   \n",
       "consumption_comb                                                       NaN   \n",
       "consumption_city                                                       NaN   \n",
       "consumption_country                                                    NaN   \n",
       "availability_days                                                      NaN   \n",
       "\n",
       "                                                                         1  \\\n",
       "make_model                                           Mercedes-Benz EQE 350   \n",
       "short_description                                                     350+   \n",
       "make                                                         Mercedes-Benz   \n",
       "model                                                    [\\n, EQE 350 ,\\n]   \n",
       "location                      APARTADO DE CORREOS 1032,  26140 LOGROÑO, ES   \n",
       "price                                                              80900.0   \n",
       "body_type                                                          Compact   \n",
       "type                                                        Pre-registered   \n",
       "doors                                                                  4.0   \n",
       "country_version                                                      Spain   \n",
       "offer_number                                                       7054863   \n",
       "warranty                                                         24 months   \n",
       "mileage                                                             5000.0   \n",
       "first_registration                                                 06/2022   \n",
       "gearbox                                                          Automatic   \n",
       "fuel_type                                                         Electric   \n",
       "colour                                                                 NaN   \n",
       "paint                                                                  NaN   \n",
       "desc                     [ , Precio al contado: 88900 euros,  , AUTO OJ...   \n",
       "seller                                                              Dealer   \n",
       "seats                                                                  5.0   \n",
       "power                                                                292.0   \n",
       "engine_size                                                            0.0   \n",
       "gears                                                                  9.0   \n",
       "co_emissions                                                           0.0   \n",
       "manufacturer_colour                                        Negro Obsidiana   \n",
       "drivetrain                                                             NaN   \n",
       "cylinders                                                              NaN   \n",
       "fuel_consumption                                                       NaN   \n",
       "comfort_&_convenience                                                  NaN   \n",
       "entertainment_&_media                                                  NaN   \n",
       "safety_&_security                                                      NaN   \n",
       "extras                                                                 NaN   \n",
       "empty_weight                                                           NaN   \n",
       "model_code                                                             NaN   \n",
       "general_inspection                                                     NaN   \n",
       "last_service                                                           NaN   \n",
       "full_service_history                                                   NaN   \n",
       "non_smoker_vehicle                                                     NaN   \n",
       "emission_class                                                         NaN   \n",
       "emissions_sticker                                                      NaN   \n",
       "upholstery_colour                                                      NaN   \n",
       "upholstery                                                             NaN   \n",
       "production_date                                                        NaN   \n",
       "previous_owner                                                         NaN   \n",
       "other_fuel_types                                                       NaN   \n",
       "power_consumption                                                      NaN   \n",
       "energy_efficiency_class                                                NaN   \n",
       "co_efficiency                                                          NaN   \n",
       "fuel_consumption_wltp                                                  NaN   \n",
       "co_emissions_wltp                                                      NaN   \n",
       "available_from                                                         NaN   \n",
       "taxi_or_rental_car                                                     NaN   \n",
       "last_timing_belt_change                                                NaN   \n",
       "consumption_comb                                                       NaN   \n",
       "consumption_city                                                       NaN   \n",
       "consumption_country                                                    NaN   \n",
       "availability_days                                                      NaN   \n",
       "\n",
       "                                                                         2  \\\n",
       "make_model                                          Mercedes-Benz A 45 AMG   \n",
       "short_description                                         S 4Matic+ 8G-DCT   \n",
       "make                                                         Mercedes-Benz   \n",
       "model                                                   [\\n, A 45 AMG ,\\n]   \n",
       "location                 PORT. TARRACO, MOLL DE LLEVANT, Nº 5, LOC. 6-8...   \n",
       "price                                                              69900.0   \n",
       "body_type                                                          Compact   \n",
       "type                                                                  Used   \n",
       "doors                                                                  5.0   \n",
       "country_version                                                      Spain   \n",
       "offer_number                                                       7410454   \n",
       "warranty                                                         12 months   \n",
       "mileage                                                            18900.0   \n",
       "first_registration                                                 07/2020   \n",
       "gearbox                                                          Automatic   \n",
       "fuel_type                                                         Gasoline   \n",
       "colour                                                                Grey   \n",
       "paint                                                                  NaN   \n",
       "desc                     [Gris MANUFAKTUR mountaingrau magno,  , Linea/...   \n",
       "seller                                                              Dealer   \n",
       "seats                                                                  5.0   \n",
       "power                                                                421.0   \n",
       "engine_size                                                            1.9   \n",
       "gears                                                                  8.0   \n",
       "co_emissions                                                           NaN   \n",
       "manufacturer_colour                                     Mountaingrau Magno   \n",
       "drivetrain                                                             4WD   \n",
       "cylinders                                                              4.0   \n",
       "fuel_consumption         [[8.4 l/100 km (comb.)], [10.9 l/100 km (city)...   \n",
       "comfort_&_convenience                                                  NaN   \n",
       "entertainment_&_media                                                  NaN   \n",
       "safety_&_security                                                      NaN   \n",
       "extras                                                                 NaN   \n",
       "empty_weight                                                           NaN   \n",
       "model_code                                                             NaN   \n",
       "general_inspection                                                     NaN   \n",
       "last_service                                                           NaN   \n",
       "full_service_history                                                   NaN   \n",
       "non_smoker_vehicle                                                     NaN   \n",
       "emission_class                                                         NaN   \n",
       "emissions_sticker                                                      NaN   \n",
       "upholstery_colour                                                      NaN   \n",
       "upholstery                                                             NaN   \n",
       "production_date                                                        NaN   \n",
       "previous_owner                                                         NaN   \n",
       "other_fuel_types                                                       NaN   \n",
       "power_consumption                                                      NaN   \n",
       "energy_efficiency_class                                                NaN   \n",
       "co_efficiency                                                          NaN   \n",
       "fuel_consumption_wltp                                                  NaN   \n",
       "co_emissions_wltp                                                      NaN   \n",
       "available_from                                                         NaN   \n",
       "taxi_or_rental_car                                                     NaN   \n",
       "last_timing_belt_change                                                NaN   \n",
       "consumption_comb                                                       8.4   \n",
       "consumption_city                                                      10.9   \n",
       "consumption_country                                                    5.8   \n",
       "availability_days                                                      NaN   \n",
       "\n",
       "                                                                         3  \\\n",
       "make_model                                          Mercedes-Benz A 35 AMG   \n",
       "short_description                                           4Matic+ 7G-DCT   \n",
       "make                                                         Mercedes-Benz   \n",
       "model                                                   [\\n, A 35 AMG ,\\n]   \n",
       "location                 Carrer de Provença, 31 Local,  8029 BARCELONA, ES   \n",
       "price                                                              46990.0   \n",
       "body_type                                                          Compact   \n",
       "type                                                                  Used   \n",
       "doors                                                                  5.0   \n",
       "country_version                                                      Spain   \n",
       "offer_number                                                       7464503   \n",
       "warranty                                                         12 months   \n",
       "mileage                                                            18995.0   \n",
       "first_registration                                                 01/2020   \n",
       "gearbox                                                          Automatic   \n",
       "fuel_type                                                         Gasoline   \n",
       "colour                                                              Yellow   \n",
       "paint                                                                  NaN   \n",
       "desc                     [ , Precio al contado: 48990 euros,  ,  , BONI...   \n",
       "seller                                                              Dealer   \n",
       "seats                                                                  5.0   \n",
       "power                                                                306.0   \n",
       "engine_size                                                            1.9   \n",
       "gears                                                                  7.0   \n",
       "co_emissions                                                           NaN   \n",
       "manufacturer_colour                                           Amarillo Sol   \n",
       "drivetrain                                                             4WD   \n",
       "cylinders                                                              4.0   \n",
       "fuel_consumption         [[7.3 l/100 km (comb.)], [9.3 l/100 km (city)]...   \n",
       "comfort_&_convenience    Air Conditioning, Automatic Climate Control, P...   \n",
       "entertainment_&_media                                                [USB]   \n",
       "safety_&_security        [ABS, Central door lock, Driver-side airbag, E...   \n",
       "extras                                                       [Sport seats]   \n",
       "empty_weight                                                           NaN   \n",
       "model_code                                                             NaN   \n",
       "general_inspection                                                     NaN   \n",
       "last_service                                                           NaN   \n",
       "full_service_history                                                   NaN   \n",
       "non_smoker_vehicle                                                     NaN   \n",
       "emission_class                                                         NaN   \n",
       "emissions_sticker                                                      NaN   \n",
       "upholstery_colour                                                      NaN   \n",
       "upholstery                                                             NaN   \n",
       "production_date                                                        NaN   \n",
       "previous_owner                                                         NaN   \n",
       "other_fuel_types                                                       NaN   \n",
       "power_consumption                                                      NaN   \n",
       "energy_efficiency_class                                                NaN   \n",
       "co_efficiency                                                          NaN   \n",
       "fuel_consumption_wltp                                                  NaN   \n",
       "co_emissions_wltp                                                      NaN   \n",
       "available_from                                                         NaN   \n",
       "taxi_or_rental_car                                                     NaN   \n",
       "last_timing_belt_change                                                NaN   \n",
       "consumption_comb                                                       7.3   \n",
       "consumption_city                                                       9.3   \n",
       "consumption_country                                                    6.1   \n",
       "availability_days                                                      NaN   \n",
       "\n",
       "                                                                         4  \n",
       "make_model                                          Mercedes-Benz A 45 AMG  \n",
       "short_description                                 200CDI BE Line 4M 7G-DCT  \n",
       "make                                                         Mercedes-Benz  \n",
       "model                                                   [\\n, A 45 AMG ,\\n]  \n",
       "location                            CARRIL ARAGONES 4,  30007 CASILLAS, ES  \n",
       "price                                                              16800.0  \n",
       "body_type                                                          Compact  \n",
       "type                                                                  Used  \n",
       "doors                                                                  5.0  \n",
       "country_version                                                      Spain  \n",
       "offer_number                                                       7127931  \n",
       "warranty                                                         12 months  \n",
       "mileage                                                           197000.0  \n",
       "first_registration                                                 09/2015  \n",
       "gearbox                                                          Automatic  \n",
       "fuel_type                                                           Diesel  \n",
       "colour                                                               White  \n",
       "paint                                                             Metallic  \n",
       "desc                     [ , Precio al contado: 17400 euros,  , Vehícul...  \n",
       "seller                                                              Dealer  \n",
       "seats                                                                  5.0  \n",
       "power                                                                136.0  \n",
       "engine_size                                                            2.1  \n",
       "gears                                                                  7.0  \n",
       "co_emissions                                                           NaN  \n",
       "manufacturer_colour                                                    NaN  \n",
       "drivetrain                                                             4WD  \n",
       "cylinders                                                              4.0  \n",
       "fuel_consumption         [[4.9 l/100 km (comb.)], [5.7 l/100 km (city)]...  \n",
       "comfort_&_convenience    Air Conditioning, Electrical Side Mirrors, Mul...  \n",
       "entertainment_&_media                     [Bluetooth, CD player, MP3, USB]  \n",
       "safety_&_security        [ABS, Central door lock, Driver-side airbag, E...  \n",
       "extras                                                                 NaN  \n",
       "empty_weight                                                        1545.0  \n",
       "model_code                                                             NaN  \n",
       "general_inspection                                                     NaN  \n",
       "last_service                                                           NaN  \n",
       "full_service_history                                                   NaN  \n",
       "non_smoker_vehicle                                                     NaN  \n",
       "emission_class                                                         NaN  \n",
       "emissions_sticker                                                      NaN  \n",
       "upholstery_colour                                                      NaN  \n",
       "upholstery                                                             NaN  \n",
       "production_date                                                        NaN  \n",
       "previous_owner                                                         NaN  \n",
       "other_fuel_types                                                       NaN  \n",
       "power_consumption                                                      NaN  \n",
       "energy_efficiency_class                                                NaN  \n",
       "co_efficiency                                                          NaN  \n",
       "fuel_consumption_wltp                                                  NaN  \n",
       "co_emissions_wltp                                                      NaN  \n",
       "available_from                                                         NaN  \n",
       "taxi_or_rental_car                                                     NaN  \n",
       "last_timing_belt_change                                                NaN  \n",
       "consumption_comb                                                       4.9  \n",
       "consumption_city                                                       5.7  \n",
       "consumption_country                                                    4.4  \n",
       "availability_days                                                      NaN  "
      ]
     },
     "execution_count": 109,
     "metadata": {},
     "output_type": "execute_result"
    }
   ],
   "source": [
    "df.head().T"
   ]
  },
  {
   "cell_type": "code",
   "execution_count": null,
   "metadata": {},
   "outputs": [],
   "source": []
  },
  {
   "cell_type": "code",
   "execution_count": 110,
   "metadata": {},
   "outputs": [],
   "source": [
    "# df['col'] = df.col.str.extract('(regex gruplanacak)')   ile istedigin veriyi cekip featurea atabilirsin"
   ]
  },
  {
   "cell_type": "code",
   "execution_count": null,
   "metadata": {},
   "outputs": [],
   "source": []
  },
  {
   "cell_type": "code",
   "execution_count": 111,
   "metadata": {
    "id": "Y13_gId7s1MC"
   },
   "outputs": [],
   "source": [
    "# data temizlendikten sonra datamizin cor iliskisine heatmaple bak S20-part2 20:00\n",
    "\n",
    "#plt.figure(figsize=(12,10))\n",
    "# sns.heatmap(df.cor(),annot=True)\n",
    "\n"
   ]
  },
  {
   "cell_type": "markdown",
   "metadata": {
    "id": "uGeKSdYds1MD"
   },
   "source": [
    "# PART- 2 `( Handling With Missing Vales )`"
   ]
  },
  {
   "cell_type": "markdown",
   "metadata": {},
   "source": [
    "## Let s recognize our missing values"
   ]
  },
  {
   "cell_type": "code",
   "execution_count": 112,
   "metadata": {},
   "outputs": [],
   "source": [
    "## Some Useful User-Defined-Functions\n",
    "\n",
    "###############################################################################\n",
    "\n",
    "def missing_values(df):\n",
    "    missing_number = df.isnull().sum().sort_values(ascending=False)\n",
    "    missing_percent = (df.isnull().sum()/df.isnull().count()*100).sort_values(ascending=False)\n",
    "    missing_values = pd.concat([missing_number, missing_percent], axis=1, keys=['Missing_Number', 'Missing_Percent'])\n",
    "    return missing_values[missing_values['Missing_Number']>0]\n",
    "                    \n",
    "############################################################################### "
   ]
  },
  {
   "cell_type": "code",
   "execution_count": 113,
   "metadata": {},
   "outputs": [
    {
     "data": {
      "text/html": [
       "<div>\n",
       "<style scoped>\n",
       "    .dataframe tbody tr th:only-of-type {\n",
       "        vertical-align: middle;\n",
       "    }\n",
       "\n",
       "    .dataframe tbody tr th {\n",
       "        vertical-align: top;\n",
       "    }\n",
       "\n",
       "    .dataframe thead th {\n",
       "        text-align: right;\n",
       "    }\n",
       "</style>\n",
       "<table border=\"1\" class=\"dataframe\">\n",
       "  <thead>\n",
       "    <tr style=\"text-align: right;\">\n",
       "      <th></th>\n",
       "      <th>Missing_Number</th>\n",
       "      <th>Missing_Percent</th>\n",
       "    </tr>\n",
       "  </thead>\n",
       "  <tbody>\n",
       "    <tr>\n",
       "      <th>fuel_consumption_wltp</th>\n",
       "      <td>29380</td>\n",
       "      <td>99.660787</td>\n",
       "    </tr>\n",
       "    <tr>\n",
       "      <th>co_emissions_wltp</th>\n",
       "      <td>29364</td>\n",
       "      <td>99.606513</td>\n",
       "    </tr>\n",
       "    <tr>\n",
       "      <th>availability_days</th>\n",
       "      <td>29179</td>\n",
       "      <td>98.978969</td>\n",
       "    </tr>\n",
       "    <tr>\n",
       "      <th>available_from</th>\n",
       "      <td>29087</td>\n",
       "      <td>98.666893</td>\n",
       "    </tr>\n",
       "    <tr>\n",
       "      <th>taxi_or_rental_car</th>\n",
       "      <td>29058</td>\n",
       "      <td>98.568521</td>\n",
       "    </tr>\n",
       "    <tr>\n",
       "      <th>power_consumption</th>\n",
       "      <td>28965</td>\n",
       "      <td>98.253053</td>\n",
       "    </tr>\n",
       "    <tr>\n",
       "      <th>last_timing_belt_change</th>\n",
       "      <td>28908</td>\n",
       "      <td>98.059701</td>\n",
       "    </tr>\n",
       "    <tr>\n",
       "      <th>last_service</th>\n",
       "      <td>27477</td>\n",
       "      <td>93.205563</td>\n",
       "    </tr>\n",
       "    <tr>\n",
       "      <th>other_fuel_types</th>\n",
       "      <td>27167</td>\n",
       "      <td>92.154003</td>\n",
       "    </tr>\n",
       "    <tr>\n",
       "      <th>production_date</th>\n",
       "      <td>23572</td>\n",
       "      <td>79.959294</td>\n",
       "    </tr>\n",
       "    <tr>\n",
       "      <th>co_efficiency</th>\n",
       "      <td>21676</td>\n",
       "      <td>73.527815</td>\n",
       "    </tr>\n",
       "    <tr>\n",
       "      <th>energy_efficiency_class</th>\n",
       "      <td>21676</td>\n",
       "      <td>73.527815</td>\n",
       "    </tr>\n",
       "    <tr>\n",
       "      <th>model_code</th>\n",
       "      <td>21113</td>\n",
       "      <td>71.618046</td>\n",
       "    </tr>\n",
       "    <tr>\n",
       "      <th>emissions_sticker</th>\n",
       "      <td>20066</td>\n",
       "      <td>68.066486</td>\n",
       "    </tr>\n",
       "    <tr>\n",
       "      <th>non_smoker_vehicle</th>\n",
       "      <td>17886</td>\n",
       "      <td>60.671642</td>\n",
       "    </tr>\n",
       "    <tr>\n",
       "      <th>general_inspection</th>\n",
       "      <td>17226</td>\n",
       "      <td>58.432836</td>\n",
       "    </tr>\n",
       "    <tr>\n",
       "      <th>full_service_history</th>\n",
       "      <td>16915</td>\n",
       "      <td>57.377883</td>\n",
       "    </tr>\n",
       "    <tr>\n",
       "      <th>previous_owner</th>\n",
       "      <td>15465</td>\n",
       "      <td>52.459294</td>\n",
       "    </tr>\n",
       "    <tr>\n",
       "      <th>paint</th>\n",
       "      <td>14985</td>\n",
       "      <td>50.831072</td>\n",
       "    </tr>\n",
       "    <tr>\n",
       "      <th>upholstery_colour</th>\n",
       "      <td>14911</td>\n",
       "      <td>50.580054</td>\n",
       "    </tr>\n",
       "    <tr>\n",
       "      <th>warranty</th>\n",
       "      <td>13696</td>\n",
       "      <td>46.458616</td>\n",
       "    </tr>\n",
       "    <tr>\n",
       "      <th>country_version</th>\n",
       "      <td>12591</td>\n",
       "      <td>42.710312</td>\n",
       "    </tr>\n",
       "    <tr>\n",
       "      <th>drivetrain</th>\n",
       "      <td>12587</td>\n",
       "      <td>42.696744</td>\n",
       "    </tr>\n",
       "    <tr>\n",
       "      <th>empty_weight</th>\n",
       "      <td>11722</td>\n",
       "      <td>39.762551</td>\n",
       "    </tr>\n",
       "    <tr>\n",
       "      <th>emission_class</th>\n",
       "      <td>11621</td>\n",
       "      <td>39.419946</td>\n",
       "    </tr>\n",
       "    <tr>\n",
       "      <th>co_emissions</th>\n",
       "      <td>10886</td>\n",
       "      <td>36.926730</td>\n",
       "    </tr>\n",
       "    <tr>\n",
       "      <th>upholstery</th>\n",
       "      <td>10870</td>\n",
       "      <td>36.872456</td>\n",
       "    </tr>\n",
       "    <tr>\n",
       "      <th>cylinders</th>\n",
       "      <td>10628</td>\n",
       "      <td>36.051560</td>\n",
       "    </tr>\n",
       "    <tr>\n",
       "      <th>gears</th>\n",
       "      <td>10526</td>\n",
       "      <td>35.705563</td>\n",
       "    </tr>\n",
       "    <tr>\n",
       "      <th>consumption_city</th>\n",
       "      <td>9380</td>\n",
       "      <td>31.818182</td>\n",
       "    </tr>\n",
       "    <tr>\n",
       "      <th>consumption_country</th>\n",
       "      <td>9380</td>\n",
       "      <td>31.818182</td>\n",
       "    </tr>\n",
       "    <tr>\n",
       "      <th>manufacturer_colour</th>\n",
       "      <td>7693</td>\n",
       "      <td>26.095658</td>\n",
       "    </tr>\n",
       "    <tr>\n",
       "      <th>offer_number</th>\n",
       "      <td>6380</td>\n",
       "      <td>21.641791</td>\n",
       "    </tr>\n",
       "    <tr>\n",
       "      <th>consumption_comb</th>\n",
       "      <td>6152</td>\n",
       "      <td>20.868385</td>\n",
       "    </tr>\n",
       "    <tr>\n",
       "      <th>fuel_consumption</th>\n",
       "      <td>6095</td>\n",
       "      <td>20.675034</td>\n",
       "    </tr>\n",
       "    <tr>\n",
       "      <th>extras</th>\n",
       "      <td>6000</td>\n",
       "      <td>20.352782</td>\n",
       "    </tr>\n",
       "    <tr>\n",
       "      <th>entertainment_&amp;_media</th>\n",
       "      <td>5836</td>\n",
       "      <td>19.796472</td>\n",
       "    </tr>\n",
       "    <tr>\n",
       "      <th>safety_&amp;_security</th>\n",
       "      <td>4065</td>\n",
       "      <td>13.789009</td>\n",
       "    </tr>\n",
       "    <tr>\n",
       "      <th>comfort_&amp;_convenience</th>\n",
       "      <td>4047</td>\n",
       "      <td>13.727951</td>\n",
       "    </tr>\n",
       "    <tr>\n",
       "      <th>seats</th>\n",
       "      <td>3975</td>\n",
       "      <td>13.483718</td>\n",
       "    </tr>\n",
       "    <tr>\n",
       "      <th>fuel_type</th>\n",
       "      <td>2637</td>\n",
       "      <td>8.945047</td>\n",
       "    </tr>\n",
       "    <tr>\n",
       "      <th>colour</th>\n",
       "      <td>2574</td>\n",
       "      <td>8.731343</td>\n",
       "    </tr>\n",
       "    <tr>\n",
       "      <th>engine_size</th>\n",
       "      <td>2253</td>\n",
       "      <td>7.642469</td>\n",
       "    </tr>\n",
       "    <tr>\n",
       "      <th>desc</th>\n",
       "      <td>1433</td>\n",
       "      <td>4.860923</td>\n",
       "    </tr>\n",
       "    <tr>\n",
       "      <th>power</th>\n",
       "      <td>1422</td>\n",
       "      <td>4.823609</td>\n",
       "    </tr>\n",
       "    <tr>\n",
       "      <th>doors</th>\n",
       "      <td>1209</td>\n",
       "      <td>4.101085</td>\n",
       "    </tr>\n",
       "    <tr>\n",
       "      <th>gearbox</th>\n",
       "      <td>1098</td>\n",
       "      <td>3.724559</td>\n",
       "    </tr>\n",
       "    <tr>\n",
       "      <th>first_registration</th>\n",
       "      <td>852</td>\n",
       "      <td>2.890095</td>\n",
       "    </tr>\n",
       "    <tr>\n",
       "      <th>mileage</th>\n",
       "      <td>851</td>\n",
       "      <td>2.886703</td>\n",
       "    </tr>\n",
       "    <tr>\n",
       "      <th>price</th>\n",
       "      <td>850</td>\n",
       "      <td>2.883311</td>\n",
       "    </tr>\n",
       "    <tr>\n",
       "      <th>make</th>\n",
       "      <td>850</td>\n",
       "      <td>2.883311</td>\n",
       "    </tr>\n",
       "    <tr>\n",
       "      <th>model</th>\n",
       "      <td>850</td>\n",
       "      <td>2.883311</td>\n",
       "    </tr>\n",
       "    <tr>\n",
       "      <th>location</th>\n",
       "      <td>850</td>\n",
       "      <td>2.883311</td>\n",
       "    </tr>\n",
       "    <tr>\n",
       "      <th>short_description</th>\n",
       "      <td>850</td>\n",
       "      <td>2.883311</td>\n",
       "    </tr>\n",
       "    <tr>\n",
       "      <th>body_type</th>\n",
       "      <td>850</td>\n",
       "      <td>2.883311</td>\n",
       "    </tr>\n",
       "    <tr>\n",
       "      <th>type</th>\n",
       "      <td>850</td>\n",
       "      <td>2.883311</td>\n",
       "    </tr>\n",
       "    <tr>\n",
       "      <th>seller</th>\n",
       "      <td>850</td>\n",
       "      <td>2.883311</td>\n",
       "    </tr>\n",
       "    <tr>\n",
       "      <th>make_model</th>\n",
       "      <td>850</td>\n",
       "      <td>2.883311</td>\n",
       "    </tr>\n",
       "  </tbody>\n",
       "</table>\n",
       "</div>"
      ],
      "text/plain": [
       "                         Missing_Number  Missing_Percent\n",
       "fuel_consumption_wltp             29380        99.660787\n",
       "co_emissions_wltp                 29364        99.606513\n",
       "availability_days                 29179        98.978969\n",
       "available_from                    29087        98.666893\n",
       "taxi_or_rental_car                29058        98.568521\n",
       "power_consumption                 28965        98.253053\n",
       "last_timing_belt_change           28908        98.059701\n",
       "last_service                      27477        93.205563\n",
       "other_fuel_types                  27167        92.154003\n",
       "production_date                   23572        79.959294\n",
       "co_efficiency                     21676        73.527815\n",
       "energy_efficiency_class           21676        73.527815\n",
       "model_code                        21113        71.618046\n",
       "emissions_sticker                 20066        68.066486\n",
       "non_smoker_vehicle                17886        60.671642\n",
       "general_inspection                17226        58.432836\n",
       "full_service_history              16915        57.377883\n",
       "previous_owner                    15465        52.459294\n",
       "paint                             14985        50.831072\n",
       "upholstery_colour                 14911        50.580054\n",
       "warranty                          13696        46.458616\n",
       "country_version                   12591        42.710312\n",
       "drivetrain                        12587        42.696744\n",
       "empty_weight                      11722        39.762551\n",
       "emission_class                    11621        39.419946\n",
       "co_emissions                      10886        36.926730\n",
       "upholstery                        10870        36.872456\n",
       "cylinders                         10628        36.051560\n",
       "gears                             10526        35.705563\n",
       "consumption_city                   9380        31.818182\n",
       "consumption_country                9380        31.818182\n",
       "manufacturer_colour                7693        26.095658\n",
       "offer_number                       6380        21.641791\n",
       "consumption_comb                   6152        20.868385\n",
       "fuel_consumption                   6095        20.675034\n",
       "extras                             6000        20.352782\n",
       "entertainment_&_media              5836        19.796472\n",
       "safety_&_security                  4065        13.789009\n",
       "comfort_&_convenience              4047        13.727951\n",
       "seats                              3975        13.483718\n",
       "fuel_type                          2637         8.945047\n",
       "colour                             2574         8.731343\n",
       "engine_size                        2253         7.642469\n",
       "desc                               1433         4.860923\n",
       "power                              1422         4.823609\n",
       "doors                              1209         4.101085\n",
       "gearbox                            1098         3.724559\n",
       "first_registration                  852         2.890095\n",
       "mileage                             851         2.886703\n",
       "price                               850         2.883311\n",
       "make                                850         2.883311\n",
       "model                               850         2.883311\n",
       "location                            850         2.883311\n",
       "short_description                   850         2.883311\n",
       "body_type                           850         2.883311\n",
       "type                                850         2.883311\n",
       "seller                              850         2.883311\n",
       "make_model                          850         2.883311"
      ]
     },
     "execution_count": 113,
     "metadata": {},
     "output_type": "execute_result"
    }
   ],
   "source": [
    "missing_values(df).head(60)"
   ]
  },
  {
   "cell_type": "code",
   "execution_count": 114,
   "metadata": {},
   "outputs": [],
   "source": [
    "# kardinalitesi yuksek sutunlari datamizdan dusmemiz gerekiyor. her bir arac ozelinde analiz yapmiyorsak unique degerleri olan\n",
    "# sutunlari dusmemiz gerekir. s20-part01 sonu\n",
    "\n",
    "# df = df.drop(['col1','col2'],axis=1)"
   ]
  },
  {
   "cell_type": "code",
   "execution_count": null,
   "metadata": {
    "id": "WDZnqBhbs1ME"
   },
   "outputs": [],
   "source": []
  },
  {
   "cell_type": "markdown",
   "metadata": {
    "id": "gPPdPAu5s1ME"
   },
   "source": [
    "# PART- 3 `( Handling With Outliers )`"
   ]
  },
  {
   "cell_type": "code",
   "execution_count": null,
   "metadata": {
    "id": "Is4HLjHWs1MF"
   },
   "outputs": [],
   "source": []
  },
  {
   "cell_type": "markdown",
   "metadata": {
    "id": "EKxmsgfts1MG"
   },
   "source": [
    "# Final Step (Checking final situation of data via graphs)"
   ]
  },
  {
   "cell_type": "code",
   "execution_count": null,
   "metadata": {
    "id": "8mgL_Bd0s1MG"
   },
   "outputs": [],
   "source": []
  },
  {
   "cell_type": "markdown",
   "metadata": {
    "id": "2PgUVPoes1MH"
   },
   "source": [
    "## Export dataframe to csv file (without dummy)"
   ]
  },
  {
   "cell_type": "code",
   "execution_count": 115,
   "metadata": {
    "id": "Byg_o2ZMs1MI"
   },
   "outputs": [],
   "source": [
    "# df.to_csv(\"final_scout_not_dummy.csv\", index=False)"
   ]
  },
  {
   "cell_type": "markdown",
   "metadata": {
    "id": "hrw9hr-3s1MJ"
   },
   "source": [
    "# Dummy Operation"
   ]
  },
  {
   "cell_type": "code",
   "execution_count": 116,
   "metadata": {},
   "outputs": [],
   "source": [
    "#  df_dummy = pd.get_dummies(data=df_final, drop_first=True)    \n",
    "#  df_dummy                              get dummy yaparak dataseti icerisinde ki categorical verileri numeric hale getiricez"
   ]
  },
  {
   "cell_type": "code",
   "execution_count": null,
   "metadata": {},
   "outputs": [],
   "source": []
  },
  {
   "cell_type": "code",
   "execution_count": null,
   "metadata": {
    "id": "faDyWTC9s1MJ"
   },
   "outputs": [],
   "source": []
  },
  {
   "cell_type": "markdown",
   "metadata": {
    "id": "DUOdihlqs1MJ"
   },
   "source": [
    "## Export dataframe to csv file (dummy)"
   ]
  },
  {
   "cell_type": "code",
   "execution_count": 117,
   "metadata": {
    "id": "IJT7Yl1Us1MK"
   },
   "outputs": [],
   "source": [
    "# df_dummied.to_csv(\"final_scout_dummy.csv\", index=False)"
   ]
  }
 ],
 "metadata": {
  "colab": {
   "name": "DAwPy-Capstone_Project_(AutoScout)_Student.ipynb",
   "provenance": []
  },
  "kernelspec": {
   "display_name": "Python 3 (ipykernel)",
   "language": "python",
   "name": "python3"
  },
  "language_info": {
   "codemirror_mode": {
    "name": "ipython",
    "version": 3
   },
   "file_extension": ".py",
   "mimetype": "text/x-python",
   "name": "python",
   "nbconvert_exporter": "python",
   "pygments_lexer": "ipython3",
   "version": "3.10.9"
  },
  "toc": {
   "base_numbering": 1,
   "nav_menu": {},
   "number_sections": false,
   "sideBar": true,
   "skip_h1_title": false,
   "title_cell": "Table of Contents",
   "title_sidebar": "Contents",
   "toc_cell": false,
   "toc_position": {},
   "toc_section_display": true,
   "toc_window_display": false
  }
 },
 "nbformat": 4,
 "nbformat_minor": 1
}
