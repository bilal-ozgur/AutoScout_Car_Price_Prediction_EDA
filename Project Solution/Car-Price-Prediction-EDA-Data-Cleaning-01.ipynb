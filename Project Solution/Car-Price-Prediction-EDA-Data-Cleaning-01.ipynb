{
 "cells": [
  {
   "cell_type": "code",
   "execution_count": 1,
   "metadata": {
    "deletable": false,
    "editable": false
   },
   "outputs": [
    {
     "data": {
      "application/javascript": [
       "/** Below because this notebook is pretty large */\n",
       "var rto = 180;\n",
       "console.log('NB: Increase require timeout to ' + rto + ' seconds');\n",
       "window.requirejs.config({waitSeconds: rto}); \n"
      ],
      "text/plain": [
       "<IPython.core.display.Javascript object>"
      ]
     },
     "metadata": {},
     "output_type": "display_data"
    }
   ],
   "source": [
    "%%javascript\n",
    "/** Below because this notebook is pretty large */\n",
    "var rto = 180;\n",
    "console.log('NB: Increase require timeout to ' + rto + ' seconds');\n",
    "window.requirejs.config({waitSeconds: rto}); "
   ]
  },
  {
   "cell_type": "markdown",
   "metadata": {
    "deletable": false,
    "editable": false
   },
   "source": [
    "<a href=\"https://clarusway.com/contact-us/\"><img align=\"center\" src=\"https://i.ibb.co/B43qn24/officially-licensed-logo.png\" alt=\"Open in Clarusway LMS\" width=\"110\" height=\"200\" title=\"This notebook is licensed by Clarusway IT training school. Please contact the authorized persons about the conditions under which you can use or share.\"></a>"
   ]
  },
  {
   "cell_type": "markdown",
   "metadata": {},
   "source": [
    "\n",
    "## <p style=\"background-color:#FDFEFE; font-family:newtimeroman; color:#060108; font-size:200%; text-align:center; border-radius:10px 10px;\">Car Price Prediction EDA Project</p>\n",
    "\n",
    "<img src=https://i.ibb.co/b5xXg11/used-cars1.jpg width=\"1100\" height=\"100\">\n",
    "\n",
    "[Image Credit](https://myscriptneedshelp.com/2022/auto/buying-used-cars-in-tempe-is-easier-now/)\n",
    "\n",
    "\n"
   ]
  },
  {
   "cell_type": "markdown",
   "metadata": {},
   "source": [
    "<a id=\"toc\"></a>\n",
    "\n",
    "## <p style=\"background-color:#9d4f8c; font-family:newtimeroman; color:#FFF9ED; font-size:175%; text-align:center; border-radius:10px 10px;\">Content</p>\n",
    "\n",
    "* [INTRODUCTION](#0)\n",
    "* [IMPORTING LIBRARIES NEEDED IN THIS NOTEBOOK](#1)\n",
    "* [PART-01 (DATA CLEANING)](#2)\n",
    "* [THE EXAMINATION OF COLUMNS](#3)    \n",
    "* [THE END OF DATA CLEANING (PART - 01)](#4)"
   ]
  },
  {
   "cell_type": "markdown",
   "metadata": {},
   "source": [
    "## <p style=\"background-color:#9d4f8c; font-family:newtimeroman; color:#FFF9ED; font-size:175%; text-align:center; border-radius:10px 10px;\">Introduction</p>\n",
    "\n",
    "<a id=\"0\"></a>\n",
    "<a href=\"#toc\" class=\"btn btn-primary btn-sm\" role=\"button\" aria-pressed=\"true\" \n",
    "style=\"color:blue; background-color:#dfa8e4\" data-toggle=\"popover\">Content</a>\n",
    "\n",
    "\n",
    "## What is Exploratory Data Analysis?\n",
    "\n",
    "Exploratory Data Analysis (EDA), also known as Data Exploration, is a step in the Data Analysis Process, where a number of techniques are used to better understand the dataset being used.\n",
    "\n",
    "‘Understanding the dataset’ can refer to a number of things including but not limited to…\n",
    "\n",
    "- Extracting important variables and leaving behind useless variables\n",
    "- Identifying outliers, missing values, or human error\n",
    "- Understanding the relationship(s), or lack of, between variables\n",
    "- Ultimately, maximizing your insights of a dataset and minimizing potential error that may occur later in the process\n",
    "\n",
    "By conducting EDA, you can turn an almost useable dataset into a completely useable dataset.\n",
    "\n",
    "Exploratory Data Analysis does two main things:\n",
    "\n",
    "- It helps clean up a dataset.\n",
    "- It gives you a better understanding of the variables and the relationships between them.\n",
    "\n",
    "There are main components of exploring data:\n",
    "\n",
    "- Understanding your variables\n",
    "- Cleaning your dataset\n",
    "- Analyzing relationships between variables with Data Visualization\n",
    "\n",
    "For further reading;\n",
    "\n",
    "- **🧐 [Mastering Exploratory Data Analysis(EDA) For Data Science Enthusiasts](https://www.analyticsvidhya.com/blog/2021/04/mastering-exploratory-data-analysiseda-for-data-science-enthusiasts/)**\n",
    "\n",
    "- **🧐 [Exploratory Data Analysis — Visualising, summarising, and interpreting data](https://medium.com/mlearning-ai/exploratory-data-analysis-visualising-summarising-and-interpreting-data-bbe2c9518afb)**\n",
    "- **🧐 [Exploratory Data Analysis (EDA) techniques for Kaggle competition beginners](https://towardsdatascience.com/exploratory-data-analysis-eda-techniques-for-kaggle-competition-beginners-be4237c3c3a9)**\n",
    "\n",
    "Let's back to our project.\n",
    "\n",
    "Welcome to \"***Car Price Prediction EDA Project***\". **Auto Scout** data used for this project, were scraped from the on-line car trading company, Auto Scout, in 2022, contains many features of 13 different car models. In this project, you will have the opportunity to apply many commonly used algorithms for Data Cleaning and Exploratory Data Analysis by using many Python libraries such as Numpy, Pandas, Matplotlib, Seaborn, Scipy.\n",
    "\n",
    "<div style=\"background-color: #ffeeba; padding: 10px; font-size: 14px; font-weight: bold;\">\n",
    "The project consists of <code>3 parts:</code>\n",
    "    \n",
    "  - <code>First part</code> is related to <code>data cleaning</code>. It deals with Incorrect Headers (Column names), Incorrect Format, Anomalies, Dropping useless columns.\n",
    "  - <code>Second part</code> is related to <code>filling data</code>. It deals with Missing Values. Categorical to numeric transformation is done.\n",
    "  - <code>Third part</code> is related to <code>handling outliers of data</code> via Visualisation libraries. Some insights are extracted.\n",
    "</div>"
   ]
  },
  {
   "cell_type": "markdown",
   "metadata": {},
   "source": [
    "<a id=\"1\"></a>\n",
    "<div style=\"border-radius: 10px;\n",
    "            border: black solid;\n",
    "            background-color: #9d4f8c;\n",
    "            font-size: 100%;\n",
    "            text-align: left;\n",
    "            box-shadow: 2px 2px 4px rgba(0, 0, 0, 0.5);\">\n",
    "\n",
    "<h2 style=\"border: 0; border-radius: 15px; font-weight: bold; font-size: 220%; color: white\"><center>  Explanations of the features </center></h2>\n",
    "    \n",
    "- **make_model**: Vehicle brand and model.\n",
    "- **short_description**: Brief description.\n",
    "- **make**: Vehicle brand.\n",
    "- **model**: Vehicle model.\n",
    "- **location**: Location of the vehicle.\n",
    "- **price**: Price.\n",
    "- **body_type**: Vehicle body type.\n",
    "- **type**: Vehicle type.\n",
    "- **doors**: Number of doors in the vehicle.\n",
    "- **country_version**: Country version of the vehicle.\n",
    "- **offer_number**: Offer number.\n",
    "- **warranty**: Warranty.\n",
    "- **mileage**: Vehicle mileage information.\n",
    "- **first_registration**: First registration date.\n",
    "- **gearbox**: Gearbox type.\n",
    "- **fuel_type**: Fuel type.\n",
    "- **colour**: Vehicle color.\n",
    "- **paint**: Paint type.\n",
    "- **desc**: Description.\n",
    "- **seller**: Seller.\n",
    "- **seats**: Number of seats in the vehicle.\n",
    "- **power**: Engine power.\n",
    "- **engine_size**: Engine size.\n",
    "- **gears**: Number of gears.\n",
    "- **co_emissions**:  CO₂ emissions.\n",
    "- **manufacturer_colour**: Manufacturer color.\n",
    "- **drivetrain**: Drivetrain type.\n",
    "- **cylinders**: Number of cylinders.\n",
    "- **fuel_consumption**: Fuel consumption.\n",
    "- **comfort_&_convenience**: Comfort and convenience features.\n",
    "- **entertainment_&_media**: Entertainment and media features.\n",
    "- **safety_&_security**: Safety and security features.\n",
    "- **extras**: Extra features.\n",
    "- **empty_weight**: Empty weight.\n",
    "- **model_code**: Model code.\n",
    "- **general_inspection**: General inspection.\n",
    "- **last_service**: Last service.\n",
    "- **full_service_history**: Full service history.\n",
    "- **non_smoker_vehicle**: Non-smoker vehicle.\n",
    "- **emission_class**: Emission class.\n",
    "- **emissions_sticker**: Emissions sticker.\n",
    "- **upholstery_colour**: Upholstery color.\n",
    "- **upholstery**: Upholstery.\n",
    "- **production_date**: Production date.\n",
    "- **previous_owner**: Previous owner.\n",
    "- **other_fuel_types**: Other fuel types.\n",
    "- **power_consumption**: Power consumption.\n",
    "- **energy_efficiency_class**: Energy efficiency class.\n",
    "- **co_efficiency**:  CO₂ efficiency.\n",
    "- **fuel_consumption_wltp**: WLTP fuel consumption.\n",
    "- **co_emissions_wltp**: WLTP  CO₂ emissions.\n",
    "- **available_from**: Available from.\n",
    "- **taxi_or_rental_car**: Taxi or rental car.\n",
    "- **availability**: Availability status.\n",
    "- **last_timing_belt_change**: Last timing belt change.\n",
    "- **electric_range_wltp**: WLTP electric range.\n",
    "- **power_consumption_wltp**: WLTP power consumption.\n",
    "- **battery_ownership**: Battery ownership.\n"
   ]
  },
  {
   "cell_type": "markdown",
   "metadata": {},
   "source": [
    "## <p style=\"background-color:#9d4f8c; font-family:newtimeroman; color:#FFF9ED; font-size:175%; text-align:center; border-radius:10px 10px;\">Importing Libraries Needed in This Notebook</p>\n",
    "\n",
    "<a id=\"1\"></a>\n",
    "<a href=\"#toc\" class=\"btn btn-primary btn-sm\" role=\"button\" aria-pressed=\"true\" \n",
    "style=\"color:blue; background-color:#9d4f8c\" data-toggle=\"popover\">Content</a>\n",
    "\n",
    "If you have NOT installed NumPy & Pandas so far, once you've installed them you can import them as a library and other libraries need in this analysis:"
   ]
  },
  {
   "cell_type": "code",
   "execution_count": 2,
   "metadata": {},
   "outputs": [],
   "source": [
    "# !pip install skimpy --user\n",
    "# !pip install skimpy -f https://arg.usask.ca/wheels/\n",
    "# conda install geopandas  # you have to install it at Anaconda Prompt\n",
    "# conda install -c conda-forge geopy  # you have to install it at Anaconda Prompt\n",
    "# !pip install shapely\n",
    "# conda install descartes  \n",
    "# !pip install descarteslabs[complete]\n",
    "# !pip install -U scikit-learn"
   ]
  },
  {
   "cell_type": "code",
   "execution_count": 3,
   "metadata": {},
   "outputs": [],
   "source": [
    "# !jupyter --version"
   ]
  },
  {
   "cell_type": "code",
   "execution_count": 4,
   "metadata": {},
   "outputs": [],
   "source": [
    "import numpy as np\n",
    "import pandas as pd\n",
    "import seaborn as sns \n",
    "import matplotlib.pyplot as plt\n",
    "\n",
    "import warnings\n",
    "warnings.filterwarnings(\"ignore\")\n",
    "warnings.warn(\"this will not show\")"
   ]
  },
  {
   "cell_type": "markdown",
   "metadata": {},
   "source": [
    "#### User Defined Functions:"
   ]
  },
  {
   "cell_type": "code",
   "execution_count": 5,
   "metadata": {},
   "outputs": [],
   "source": [
    "def show_distribution(col):\n",
    "    \"\"\"\n",
    "    Plots a histogram and boxplot of a numeric column in a Pandas DataFrame,\n",
    "    and prints statistical calculations about the column.\n",
    "\n",
    "    Parameters:\n",
    "    -----------\n",
    "    col : Pandas Series\n",
    "        A numeric column in a Pandas DataFrame.\n",
    "\n",
    "    Returns:\n",
    "    --------\n",
    "    None.\n",
    "\n",
    "    Prints:\n",
    "    -------\n",
    "    Statistical calculations about the column, including minimum value, mean,\n",
    "    median, mode, and maximum value.\n",
    "\n",
    "    Plots:\n",
    "    ------\n",
    "    A histogram of the column's values, with lines indicating the minimum,\n",
    "    mean, median, mode, and maximum values.\n",
    "\n",
    "    A boxplot of the column's values, with a line indicating the median and\n",
    "    markers indicating the mean and outliers.\n",
    "    \"\"\"\n",
    "    \n",
    "    # Get statistics\n",
    "    from termcolor import colored\n",
    "\n",
    "    print(colored('Statistical Calculations :', 'red', attrs=['bold']))\n",
    "    print(colored('-'*26, 'red', attrs=['bold']))    \n",
    "    min_val = col.min()\n",
    "    max_val = col.max()\n",
    "    mean_val = col.mean()\n",
    "    med_val = col.median()\n",
    "    mod_val = col.mode()[0]\n",
    "\n",
    "    print(colored('Minimum:{:>7.2f}\\nMean:{:>10.2f}\\nMedian:{:>8.2f}\\nMode:{:>10.2f}\\nMaximum:{:>7.2f}\\n'.format(min_val,\n",
    "                                                                                             mean_val,\n",
    "                                                                                             med_val,\n",
    "                                                                                             mod_val,\n",
    "                                                                                             max_val), 'blue', attrs=['bold']))\n",
    "    \n",
    "    # Create a figure for 2 subplots (2 rows, 1 column)\n",
    "    fig, ax = plt.subplots(2, 1, figsize=(15, 15))\n",
    "\n",
    "    # Plot the histogram   \n",
    "    ax[0].hist(col, bins=30)\n",
    "    ax[0].set_ylabel('Frequency', fontsize=10)\n",
    "\n",
    "    # Add lines for the mean, median, and mode\n",
    "    ax[0].axvline(x=min_val,  color='orange',     linestyle='dashed', linewidth=2, label='Minimum')\n",
    "    ax[0].axvline(x=mean_val, color='lightgreen', linestyle='dashed', linewidth=2, label='Mean')\n",
    "    ax[0].axvline(x=med_val,  color='cyan',       linestyle='dashed', linewidth=2, label='Median')\n",
    "    ax[0].axvline(x=mod_val,  color='purple',     linestyle='dashed', linewidth=2, label='Mode')\n",
    "    ax[0].axvline(x=max_val,  color='red',        linestyle='dashed', linewidth=2, label='Maximum')\n",
    "    ax[0].legend(loc='upper right')\n",
    "\n",
    "    # Plot the boxplot   \n",
    "    medianprops = dict(linestyle='-', linewidth=3, color='m')\n",
    "    boxprops=dict(linestyle='-', linewidth=1.5)\n",
    "    meanprops={\"marker\":\"d\", \"markerfacecolor\":\"blue\", \"markeredgecolor\":\"black\", \"markersize\":\"10\"}\n",
    "    flierprops={'marker': 'o', 'markersize': 8, 'markerfacecolor': 'fuchsia'}\n",
    "    \n",
    "    ax[1].boxplot(col, \n",
    "                  vert=False,\n",
    "                  notch=True, \n",
    "                  patch_artist=False,\n",
    "                  medianprops=medianprops,\n",
    "                  flierprops=flierprops,\n",
    "                  showmeans=True,\n",
    "                  meanprops=meanprops)\n",
    "    \n",
    "    ax[1].set_xlabel('value', fontsize=10)\n",
    "    \n",
    "    # Add a title to the Figure\n",
    "    fig.suptitle('Data Distribution', fontsize=20)"
   ]
  },
  {
   "cell_type": "code",
   "execution_count": 6,
   "metadata": {},
   "outputs": [],
   "source": [
    "def first_looking(df, col):\n",
    "    \"\"\"\n",
    "    Prints basic information about a column in a Pandas DataFrame.\n",
    "\n",
    "    Parameters:\n",
    "    -----------\n",
    "    df : pandas.DataFrame\n",
    "        The DataFrame to analyze.\n",
    "    col : str\n",
    "        The name of the column to analyze.\n",
    "\n",
    "    Returns:\n",
    "    --------\n",
    "    None.\n",
    "\n",
    "    Prints:\n",
    "    -------\n",
    "    column name    : str\n",
    "        The name of the column being analyzed.\n",
    "    per_of_nulls   : float\n",
    "        The percentage of null values in the column.\n",
    "    num_of_nulls   : int\n",
    "        The number of null values in the column.\n",
    "    num_of_uniques : int\n",
    "        The number of unique values in the column.\n",
    "    shape_of_df    : tuple\n",
    "        The shape of the DataFrame.\n",
    "    The unique values in the column and their frequency of occurrence.\n",
    "    \"\"\"\n",
    "    print(\"column name    : \", col)\n",
    "    print(\"--------------------------------\")\n",
    "    print(\"per_of_nulls   : \", \"%\", round(df[col].isnull().sum() * 100 / df.shape[0], 2))\n",
    "    print(\"num_of_nulls   : \", df[col].isnull().sum())\n",
    "    print(\"num_of_uniques : \", df[col].astype(str).nunique())\n",
    "    print(\"shape_of_df    : \", df.shape)\n",
    "    print(\"--------------------------------\")\n",
    "    print(df[col].value_counts(dropna=False))"
   ]
  },
  {
   "cell_type": "markdown",
   "metadata": {},
   "source": [
    "## <p style=\"background-color:#9d4f8c; font-family:newtimeroman; color:#FFF9ED; font-size:175%; text-align:center; border-radius:10px 10px;\">PART- 01 (Data Cleaning)</p>\n",
    "\n",
    "<a id=\"2\"></a>\n",
    "<a href=\"#toc\" class=\"btn btn-primary btn-sm\" role=\"button\" aria-pressed=\"true\" \n",
    "style=\"color:blue; background-color:#dfa8e4\" data-toggle=\"popover\">Content</a>\n",
    "\n",
    "Data cleaning is the process of ensuring that your data is correct and useable by identifying any errors in the data, or missing data by correcting or deleting them.\n",
    "\n",
    "Cleaning up data is the first and most important step, as it ensures the quality of the data is met to prepare data for visualization.\n",
    "\n",
    "The steps in cleaning the data as;\n",
    "\n",
    "- Checking Null entries\n",
    "- Removing Null Entries\n",
    "- Filling values in place of Null Entries (If Numerical feature)\n",
    "- Checking Duplicates\n",
    "- Removing Duplicates\n",
    "\n",
    "**Now let us begin our analysis by reading & assigning our dataset to a Pandas object as df (📝 Besides, in case the original one might be needed in any phase of the analysis, the dataset will be copied at the beginning and before going further because any change made throughout the analysis will change the data as well):**"
   ]
  },
  {
   "cell_type": "code",
   "execution_count": 7,
   "metadata": {
    "scrolled": true
   },
   "outputs": [],
   "source": [
    "df0 = pd.read_json(\"as24_cars.zip\")\n",
    "df = df0.copy()"
   ]
  },
  {
   "cell_type": "code",
   "execution_count": 8,
   "metadata": {},
   "outputs": [
    {
     "data": {
      "text/html": [
       "<div>\n",
       "<style scoped>\n",
       "    .dataframe tbody tr th:only-of-type {\n",
       "        vertical-align: middle;\n",
       "    }\n",
       "\n",
       "    .dataframe tbody tr th {\n",
       "        vertical-align: top;\n",
       "    }\n",
       "\n",
       "    .dataframe thead th {\n",
       "        text-align: right;\n",
       "    }\n",
       "</style>\n",
       "<table border=\"1\" class=\"dataframe\">\n",
       "  <thead>\n",
       "    <tr style=\"text-align: right;\">\n",
       "      <th></th>\n",
       "      <th>make_model</th>\n",
       "      <th>short_description</th>\n",
       "      <th>make</th>\n",
       "      <th>model</th>\n",
       "      <th>location</th>\n",
       "      <th>price</th>\n",
       "      <th>Body type</th>\n",
       "      <th>Type</th>\n",
       "      <th>Doors</th>\n",
       "      <th>Country version</th>\n",
       "      <th>...</th>\n",
       "      <th>CO₂-efficiency</th>\n",
       "      <th>Fuel consumption (WLTP)</th>\n",
       "      <th>CO₂-emissions (WLTP)</th>\n",
       "      <th>Available from</th>\n",
       "      <th>Taxi or rental car</th>\n",
       "      <th>Availability</th>\n",
       "      <th>Last timing belt change</th>\n",
       "      <th>Electric Range (WLTP)</th>\n",
       "      <th>Power consumption (WLTP)</th>\n",
       "      <th>Battery Ownership</th>\n",
       "    </tr>\n",
       "  </thead>\n",
       "  <tbody>\n",
       "    <tr>\n",
       "      <th>0</th>\n",
       "      <td>Mercedes-Benz A 160</td>\n",
       "      <td>CDi</td>\n",
       "      <td>\\nMercedes-Benz\\n</td>\n",
       "      <td>[\\n, A 160 ,\\n]</td>\n",
       "      <td>P.I. EL PALMAR C/FORJA 6,  11500 PUERTO DE SAN...</td>\n",
       "      <td>€ 16,950.-</td>\n",
       "      <td>[\\n, Compact, \\n]</td>\n",
       "      <td>[\\n, Used, \\n]</td>\n",
       "      <td>[\\n, 5, \\n]</td>\n",
       "      <td>[\\n, Spain, \\n]</td>\n",
       "      <td>...</td>\n",
       "      <td>NaN</td>\n",
       "      <td>NaN</td>\n",
       "      <td>NaN</td>\n",
       "      <td>NaN</td>\n",
       "      <td>NaN</td>\n",
       "      <td>NaN</td>\n",
       "      <td>NaN</td>\n",
       "      <td>NaN</td>\n",
       "      <td>NaN</td>\n",
       "      <td>NaN</td>\n",
       "    </tr>\n",
       "    <tr>\n",
       "      <th>1</th>\n",
       "      <td>Mercedes-Benz EQE 350</td>\n",
       "      <td>350+</td>\n",
       "      <td>\\nMercedes-Benz\\n</td>\n",
       "      <td>[\\n, EQE 350 ,\\n]</td>\n",
       "      <td>APARTADO DE CORREOS 1032,  26140 LOGROÑO, ES</td>\n",
       "      <td>€ 80,900.-</td>\n",
       "      <td>[\\n, Compact, \\n]</td>\n",
       "      <td>[\\n, Pre-registered, \\n]</td>\n",
       "      <td>[\\n, 4, \\n]</td>\n",
       "      <td>[\\n, Spain, \\n]</td>\n",
       "      <td>...</td>\n",
       "      <td>NaN</td>\n",
       "      <td>NaN</td>\n",
       "      <td>NaN</td>\n",
       "      <td>NaN</td>\n",
       "      <td>NaN</td>\n",
       "      <td>NaN</td>\n",
       "      <td>NaN</td>\n",
       "      <td>NaN</td>\n",
       "      <td>NaN</td>\n",
       "      <td>NaN</td>\n",
       "    </tr>\n",
       "    <tr>\n",
       "      <th>2</th>\n",
       "      <td>Mercedes-Benz A 45 AMG</td>\n",
       "      <td>S 4Matic+ 8G-DCT</td>\n",
       "      <td>\\nMercedes-Benz\\n</td>\n",
       "      <td>[\\n, A 45 AMG ,\\n]</td>\n",
       "      <td>PORT. TARRACO, MOLL DE LLEVANT, Nº 5, LOC. 6-8...</td>\n",
       "      <td>€ 69,900.-</td>\n",
       "      <td>[\\n, Compact, \\n]</td>\n",
       "      <td>[\\n, Used, \\n]</td>\n",
       "      <td>[\\n, 5, \\n]</td>\n",
       "      <td>[\\n, Spain, \\n]</td>\n",
       "      <td>...</td>\n",
       "      <td>NaN</td>\n",
       "      <td>NaN</td>\n",
       "      <td>NaN</td>\n",
       "      <td>NaN</td>\n",
       "      <td>NaN</td>\n",
       "      <td>NaN</td>\n",
       "      <td>NaN</td>\n",
       "      <td>NaN</td>\n",
       "      <td>NaN</td>\n",
       "      <td>NaN</td>\n",
       "    </tr>\n",
       "    <tr>\n",
       "      <th>3</th>\n",
       "      <td>Mercedes-Benz A 35 AMG</td>\n",
       "      <td>4Matic+ 7G-DCT</td>\n",
       "      <td>\\nMercedes-Benz\\n</td>\n",
       "      <td>[\\n, A 35 AMG ,\\n]</td>\n",
       "      <td>Carrer de Provença, 31 Local,  8029 BARCELONA, ES</td>\n",
       "      <td>€ 46,990.-</td>\n",
       "      <td>[\\n, Compact, \\n]</td>\n",
       "      <td>[\\n, Used, \\n]</td>\n",
       "      <td>[\\n, 5, \\n]</td>\n",
       "      <td>[\\n, Spain, \\n]</td>\n",
       "      <td>...</td>\n",
       "      <td>NaN</td>\n",
       "      <td>NaN</td>\n",
       "      <td>NaN</td>\n",
       "      <td>NaN</td>\n",
       "      <td>NaN</td>\n",
       "      <td>NaN</td>\n",
       "      <td>NaN</td>\n",
       "      <td>NaN</td>\n",
       "      <td>NaN</td>\n",
       "      <td>NaN</td>\n",
       "    </tr>\n",
       "    <tr>\n",
       "      <th>4</th>\n",
       "      <td>Mercedes-Benz A 45 AMG</td>\n",
       "      <td>200CDI BE Line 4M 7G-DCT</td>\n",
       "      <td>\\nMercedes-Benz\\n</td>\n",
       "      <td>[\\n, A 45 AMG ,\\n]</td>\n",
       "      <td>CARRIL ARAGONES 4,  30007 CASILLAS, ES</td>\n",
       "      <td>€ 16,800.-</td>\n",
       "      <td>[\\n, Compact, \\n]</td>\n",
       "      <td>[\\n, Used, \\n]</td>\n",
       "      <td>[\\n, 5, \\n]</td>\n",
       "      <td>[\\n, Spain, \\n]</td>\n",
       "      <td>...</td>\n",
       "      <td>NaN</td>\n",
       "      <td>NaN</td>\n",
       "      <td>NaN</td>\n",
       "      <td>NaN</td>\n",
       "      <td>NaN</td>\n",
       "      <td>NaN</td>\n",
       "      <td>NaN</td>\n",
       "      <td>NaN</td>\n",
       "      <td>NaN</td>\n",
       "      <td>NaN</td>\n",
       "    </tr>\n",
       "    <tr>\n",
       "      <th>...</th>\n",
       "      <td>...</td>\n",
       "      <td>...</td>\n",
       "      <td>...</td>\n",
       "      <td>...</td>\n",
       "      <td>...</td>\n",
       "      <td>...</td>\n",
       "      <td>...</td>\n",
       "      <td>...</td>\n",
       "      <td>...</td>\n",
       "      <td>...</td>\n",
       "      <td>...</td>\n",
       "      <td>...</td>\n",
       "      <td>...</td>\n",
       "      <td>...</td>\n",
       "      <td>...</td>\n",
       "      <td>...</td>\n",
       "      <td>...</td>\n",
       "      <td>...</td>\n",
       "      <td>...</td>\n",
       "      <td>...</td>\n",
       "      <td>...</td>\n",
       "    </tr>\n",
       "    <tr>\n",
       "      <th>29475</th>\n",
       "      <td>Volvo S40</td>\n",
       "      <td>2.4i Momentum/ Airco/ NAP/ APK/ Elek. Ramen</td>\n",
       "      <td>\\nVolvo\\n</td>\n",
       "      <td>[\\n, S40 ,\\n]</td>\n",
       "      <td>Stobbeweg 6,  2461 EX TER AAR, NL</td>\n",
       "      <td>€ 5,499.-</td>\n",
       "      <td>[\\n, Sedan, \\n]</td>\n",
       "      <td>[\\n, Used, \\n]</td>\n",
       "      <td>[\\n, 4, \\n]</td>\n",
       "      <td>NaN</td>\n",
       "      <td>...</td>\n",
       "      <td>NaN</td>\n",
       "      <td>NaN</td>\n",
       "      <td>NaN</td>\n",
       "      <td>NaN</td>\n",
       "      <td>NaN</td>\n",
       "      <td>NaN</td>\n",
       "      <td>NaN</td>\n",
       "      <td>NaN</td>\n",
       "      <td>NaN</td>\n",
       "      <td>NaN</td>\n",
       "    </tr>\n",
       "    <tr>\n",
       "      <th>29476</th>\n",
       "      <td>Volvo C30</td>\n",
       "      <td>1.6 D DRIVe Start/Stop R-design</td>\n",
       "      <td>\\nVolvo\\n</td>\n",
       "      <td>[\\n, C30 ,\\n]</td>\n",
       "      <td>Sur rendez-vous,  5060 Sambreville, BE</td>\n",
       "      <td>€ 7,300.-</td>\n",
       "      <td>[\\n, Sedan, \\n]</td>\n",
       "      <td>[\\n, Used, \\n]</td>\n",
       "      <td>[\\n, 3, \\n]</td>\n",
       "      <td>[\\n, Belgium, \\n]</td>\n",
       "      <td>...</td>\n",
       "      <td>NaN</td>\n",
       "      <td>NaN</td>\n",
       "      <td>NaN</td>\n",
       "      <td>NaN</td>\n",
       "      <td>NaN</td>\n",
       "      <td>NaN</td>\n",
       "      <td>NaN</td>\n",
       "      <td>NaN</td>\n",
       "      <td>NaN</td>\n",
       "      <td>NaN</td>\n",
       "    </tr>\n",
       "    <tr>\n",
       "      <th>29477</th>\n",
       "      <td>Volvo S90</td>\n",
       "      <td>T5 AUT(8) MOMENTUM BUSINESS SCHUIFDAK 360GR CA...</td>\n",
       "      <td>\\nVolvo\\n</td>\n",
       "      <td>[\\n, S90 ,\\n]</td>\n",
       "      <td>Bergambachterstraat 5,  2871 JB SCHOONHOVEN, NL</td>\n",
       "      <td>€ 29,900.-</td>\n",
       "      <td>[\\n, Sedan, \\n]</td>\n",
       "      <td>[\\n, Used, \\n]</td>\n",
       "      <td>[\\n, 4, \\n]</td>\n",
       "      <td>NaN</td>\n",
       "      <td>...</td>\n",
       "      <td>NaN</td>\n",
       "      <td>NaN</td>\n",
       "      <td>NaN</td>\n",
       "      <td>NaN</td>\n",
       "      <td>NaN</td>\n",
       "      <td>NaN</td>\n",
       "      <td>NaN</td>\n",
       "      <td>NaN</td>\n",
       "      <td>NaN</td>\n",
       "      <td>NaN</td>\n",
       "    </tr>\n",
       "    <tr>\n",
       "      <th>29478</th>\n",
       "      <td>Volvo S80</td>\n",
       "      <td>2.9 Executive G. NETTE AUTO! LEER! NAVI! CRUIS...</td>\n",
       "      <td>\\nVolvo\\n</td>\n",
       "      <td>[\\n, S80 ,\\n]</td>\n",
       "      <td>Lage Ham 106,  5102 AE DONGEN, NL</td>\n",
       "      <td>€ 4,440.-</td>\n",
       "      <td>[\\n, Sedan, \\n]</td>\n",
       "      <td>[\\n, Used, \\n]</td>\n",
       "      <td>[\\n, 4, \\n]</td>\n",
       "      <td>NaN</td>\n",
       "      <td>...</td>\n",
       "      <td>NaN</td>\n",
       "      <td>NaN</td>\n",
       "      <td>NaN</td>\n",
       "      <td>NaN</td>\n",
       "      <td>NaN</td>\n",
       "      <td>NaN</td>\n",
       "      <td>NaN</td>\n",
       "      <td>NaN</td>\n",
       "      <td>NaN</td>\n",
       "      <td>NaN</td>\n",
       "    </tr>\n",
       "    <tr>\n",
       "      <th>29479</th>\n",
       "      <td>NaN</td>\n",
       "      <td>NaN</td>\n",
       "      <td>NaN</td>\n",
       "      <td>NaN</td>\n",
       "      <td>NaN</td>\n",
       "      <td>NaN</td>\n",
       "      <td>NaN</td>\n",
       "      <td>NaN</td>\n",
       "      <td>NaN</td>\n",
       "      <td>NaN</td>\n",
       "      <td>...</td>\n",
       "      <td>NaN</td>\n",
       "      <td>NaN</td>\n",
       "      <td>NaN</td>\n",
       "      <td>NaN</td>\n",
       "      <td>NaN</td>\n",
       "      <td>NaN</td>\n",
       "      <td>NaN</td>\n",
       "      <td>NaN</td>\n",
       "      <td>NaN</td>\n",
       "      <td>NaN</td>\n",
       "    </tr>\n",
       "  </tbody>\n",
       "</table>\n",
       "<p>29480 rows × 58 columns</p>\n",
       "</div>"
      ],
      "text/plain": [
       "                   make_model  \\\n",
       "0         Mercedes-Benz A 160   \n",
       "1       Mercedes-Benz EQE 350   \n",
       "2      Mercedes-Benz A 45 AMG   \n",
       "3      Mercedes-Benz A 35 AMG   \n",
       "4      Mercedes-Benz A 45 AMG   \n",
       "...                       ...   \n",
       "29475               Volvo S40   \n",
       "29476               Volvo C30   \n",
       "29477               Volvo S90   \n",
       "29478               Volvo S80   \n",
       "29479                     NaN   \n",
       "\n",
       "                                       short_description               make  \\\n",
       "0                                                    CDi  \\nMercedes-Benz\\n   \n",
       "1                                                   350+  \\nMercedes-Benz\\n   \n",
       "2                                       S 4Matic+ 8G-DCT  \\nMercedes-Benz\\n   \n",
       "3                                         4Matic+ 7G-DCT  \\nMercedes-Benz\\n   \n",
       "4                               200CDI BE Line 4M 7G-DCT  \\nMercedes-Benz\\n   \n",
       "...                                                  ...                ...   \n",
       "29475        2.4i Momentum/ Airco/ NAP/ APK/ Elek. Ramen          \\nVolvo\\n   \n",
       "29476                    1.6 D DRIVe Start/Stop R-design          \\nVolvo\\n   \n",
       "29477  T5 AUT(8) MOMENTUM BUSINESS SCHUIFDAK 360GR CA...          \\nVolvo\\n   \n",
       "29478  2.9 Executive G. NETTE AUTO! LEER! NAVI! CRUIS...          \\nVolvo\\n   \n",
       "29479                                                NaN                NaN   \n",
       "\n",
       "                    model                                           location  \\\n",
       "0         [\\n, A 160 ,\\n]  P.I. EL PALMAR C/FORJA 6,  11500 PUERTO DE SAN...   \n",
       "1       [\\n, EQE 350 ,\\n]       APARTADO DE CORREOS 1032,  26140 LOGROÑO, ES   \n",
       "2      [\\n, A 45 AMG ,\\n]  PORT. TARRACO, MOLL DE LLEVANT, Nº 5, LOC. 6-8...   \n",
       "3      [\\n, A 35 AMG ,\\n]  Carrer de Provença, 31 Local,  8029 BARCELONA, ES   \n",
       "4      [\\n, A 45 AMG ,\\n]             CARRIL ARAGONES 4,  30007 CASILLAS, ES   \n",
       "...                   ...                                                ...   \n",
       "29475       [\\n, S40 ,\\n]                  Stobbeweg 6,  2461 EX TER AAR, NL   \n",
       "29476       [\\n, C30 ,\\n]             Sur rendez-vous,  5060 Sambreville, BE   \n",
       "29477       [\\n, S90 ,\\n]    Bergambachterstraat 5,  2871 JB SCHOONHOVEN, NL   \n",
       "29478       [\\n, S80 ,\\n]                  Lage Ham 106,  5102 AE DONGEN, NL   \n",
       "29479                 NaN                                                NaN   \n",
       "\n",
       "            price          Body type                      Type        Doors  \\\n",
       "0      € 16,950.-  [\\n, Compact, \\n]            [\\n, Used, \\n]  [\\n, 5, \\n]   \n",
       "1      € 80,900.-  [\\n, Compact, \\n]  [\\n, Pre-registered, \\n]  [\\n, 4, \\n]   \n",
       "2      € 69,900.-  [\\n, Compact, \\n]            [\\n, Used, \\n]  [\\n, 5, \\n]   \n",
       "3      € 46,990.-  [\\n, Compact, \\n]            [\\n, Used, \\n]  [\\n, 5, \\n]   \n",
       "4      € 16,800.-  [\\n, Compact, \\n]            [\\n, Used, \\n]  [\\n, 5, \\n]   \n",
       "...           ...                ...                       ...          ...   \n",
       "29475   € 5,499.-    [\\n, Sedan, \\n]            [\\n, Used, \\n]  [\\n, 4, \\n]   \n",
       "29476   € 7,300.-    [\\n, Sedan, \\n]            [\\n, Used, \\n]  [\\n, 3, \\n]   \n",
       "29477  € 29,900.-    [\\n, Sedan, \\n]            [\\n, Used, \\n]  [\\n, 4, \\n]   \n",
       "29478   € 4,440.-    [\\n, Sedan, \\n]            [\\n, Used, \\n]  [\\n, 4, \\n]   \n",
       "29479         NaN                NaN                       NaN          NaN   \n",
       "\n",
       "         Country version  ... CO₂-efficiency Fuel consumption (WLTP)  \\\n",
       "0        [\\n, Spain, \\n]  ...            NaN                     NaN   \n",
       "1        [\\n, Spain, \\n]  ...            NaN                     NaN   \n",
       "2        [\\n, Spain, \\n]  ...            NaN                     NaN   \n",
       "3        [\\n, Spain, \\n]  ...            NaN                     NaN   \n",
       "4        [\\n, Spain, \\n]  ...            NaN                     NaN   \n",
       "...                  ...  ...            ...                     ...   \n",
       "29475                NaN  ...            NaN                     NaN   \n",
       "29476  [\\n, Belgium, \\n]  ...            NaN                     NaN   \n",
       "29477                NaN  ...            NaN                     NaN   \n",
       "29478                NaN  ...            NaN                     NaN   \n",
       "29479                NaN  ...            NaN                     NaN   \n",
       "\n",
       "      CO₂-emissions (WLTP) Available from Taxi or rental car Availability  \\\n",
       "0                      NaN            NaN                NaN          NaN   \n",
       "1                      NaN            NaN                NaN          NaN   \n",
       "2                      NaN            NaN                NaN          NaN   \n",
       "3                      NaN            NaN                NaN          NaN   \n",
       "4                      NaN            NaN                NaN          NaN   \n",
       "...                    ...            ...                ...          ...   \n",
       "29475                  NaN            NaN                NaN          NaN   \n",
       "29476                  NaN            NaN                NaN          NaN   \n",
       "29477                  NaN            NaN                NaN          NaN   \n",
       "29478                  NaN            NaN                NaN          NaN   \n",
       "29479                  NaN            NaN                NaN          NaN   \n",
       "\n",
       "      Last timing belt change Electric Range (WLTP) Power consumption (WLTP)  \\\n",
       "0                         NaN                   NaN                      NaN   \n",
       "1                         NaN                   NaN                      NaN   \n",
       "2                         NaN                   NaN                      NaN   \n",
       "3                         NaN                   NaN                      NaN   \n",
       "4                         NaN                   NaN                      NaN   \n",
       "...                       ...                   ...                      ...   \n",
       "29475                     NaN                   NaN                      NaN   \n",
       "29476                     NaN                   NaN                      NaN   \n",
       "29477                     NaN                   NaN                      NaN   \n",
       "29478                     NaN                   NaN                      NaN   \n",
       "29479                     NaN                   NaN                      NaN   \n",
       "\n",
       "      Battery Ownership  \n",
       "0                   NaN  \n",
       "1                   NaN  \n",
       "2                   NaN  \n",
       "3                   NaN  \n",
       "4                   NaN  \n",
       "...                 ...  \n",
       "29475               NaN  \n",
       "29476               NaN  \n",
       "29477               NaN  \n",
       "29478               NaN  \n",
       "29479               NaN  \n",
       "\n",
       "[29480 rows x 58 columns]"
      ]
     },
     "execution_count": 8,
     "metadata": {},
     "output_type": "execute_result"
    }
   ],
   "source": [
    "df"
   ]
  },
  {
   "cell_type": "markdown",
   "metadata": {},
   "source": [
    "**⚠️ It is noteworthy that ALL values in some of the rows, such as at the index number of 29479, are NaN, as can be seen in the above output.**\n",
    "\n",
    "Now let's take a look at how the values in the columns look, how they are preserved, and decide which parts of these values are needed in the analysis. The features/columns that will be used/kept in the analysis are supposed to be cleaned because they look like messy/distorted:"
   ]
  },
  {
   "cell_type": "code",
   "execution_count": 9,
   "metadata": {},
   "outputs": [
    {
     "data": {
      "text/html": [
       "<div>\n",
       "<style scoped>\n",
       "    .dataframe tbody tr th:only-of-type {\n",
       "        vertical-align: middle;\n",
       "    }\n",
       "\n",
       "    .dataframe tbody tr th {\n",
       "        vertical-align: top;\n",
       "    }\n",
       "\n",
       "    .dataframe thead th {\n",
       "        text-align: right;\n",
       "    }\n",
       "</style>\n",
       "<table border=\"1\" class=\"dataframe\">\n",
       "  <thead>\n",
       "    <tr style=\"text-align: right;\">\n",
       "      <th></th>\n",
       "      <th>0</th>\n",
       "      <th>1</th>\n",
       "      <th>2</th>\n",
       "    </tr>\n",
       "  </thead>\n",
       "  <tbody>\n",
       "    <tr>\n",
       "      <th>make_model</th>\n",
       "      <td>Mercedes-Benz A 160</td>\n",
       "      <td>Mercedes-Benz EQE 350</td>\n",
       "      <td>Mercedes-Benz A 45 AMG</td>\n",
       "    </tr>\n",
       "    <tr>\n",
       "      <th>short_description</th>\n",
       "      <td>CDi</td>\n",
       "      <td>350+</td>\n",
       "      <td>S 4Matic+ 8G-DCT</td>\n",
       "    </tr>\n",
       "    <tr>\n",
       "      <th>make</th>\n",
       "      <td>\\nMercedes-Benz\\n</td>\n",
       "      <td>\\nMercedes-Benz\\n</td>\n",
       "      <td>\\nMercedes-Benz\\n</td>\n",
       "    </tr>\n",
       "    <tr>\n",
       "      <th>model</th>\n",
       "      <td>[\\n, A 160 ,\\n]</td>\n",
       "      <td>[\\n, EQE 350 ,\\n]</td>\n",
       "      <td>[\\n, A 45 AMG ,\\n]</td>\n",
       "    </tr>\n",
       "    <tr>\n",
       "      <th>location</th>\n",
       "      <td>P.I. EL PALMAR C/FORJA 6,  11500 PUERTO DE SAN...</td>\n",
       "      <td>APARTADO DE CORREOS 1032,  26140 LOGROÑO, ES</td>\n",
       "      <td>PORT. TARRACO, MOLL DE LLEVANT, Nº 5, LOC. 6-8...</td>\n",
       "    </tr>\n",
       "    <tr>\n",
       "      <th>price</th>\n",
       "      <td>€ 16,950.-</td>\n",
       "      <td>€ 80,900.-</td>\n",
       "      <td>€ 69,900.-</td>\n",
       "    </tr>\n",
       "    <tr>\n",
       "      <th>Body type</th>\n",
       "      <td>[\\n, Compact, \\n]</td>\n",
       "      <td>[\\n, Compact, \\n]</td>\n",
       "      <td>[\\n, Compact, \\n]</td>\n",
       "    </tr>\n",
       "    <tr>\n",
       "      <th>Type</th>\n",
       "      <td>[\\n, Used, \\n]</td>\n",
       "      <td>[\\n, Pre-registered, \\n]</td>\n",
       "      <td>[\\n, Used, \\n]</td>\n",
       "    </tr>\n",
       "    <tr>\n",
       "      <th>Doors</th>\n",
       "      <td>[\\n, 5, \\n]</td>\n",
       "      <td>[\\n, 4, \\n]</td>\n",
       "      <td>[\\n, 5, \\n]</td>\n",
       "    </tr>\n",
       "    <tr>\n",
       "      <th>Country version</th>\n",
       "      <td>[\\n, Spain, \\n]</td>\n",
       "      <td>[\\n, Spain, \\n]</td>\n",
       "      <td>[\\n, Spain, \\n]</td>\n",
       "    </tr>\n",
       "    <tr>\n",
       "      <th>Offer number</th>\n",
       "      <td>[\\n, 7468157, \\n]</td>\n",
       "      <td>[\\n, 7054863, \\n]</td>\n",
       "      <td>[\\n, 7410454, \\n]</td>\n",
       "    </tr>\n",
       "    <tr>\n",
       "      <th>Warranty</th>\n",
       "      <td>[\\n, 24 months, \\n]</td>\n",
       "      <td>[\\n, 24 months, \\n]</td>\n",
       "      <td>[\\n, 12 months, \\n]</td>\n",
       "    </tr>\n",
       "    <tr>\n",
       "      <th>Mileage</th>\n",
       "      <td>120,200 km</td>\n",
       "      <td>5,000 km</td>\n",
       "      <td>18,900 km</td>\n",
       "    </tr>\n",
       "    <tr>\n",
       "      <th>First registration</th>\n",
       "      <td>06/2016</td>\n",
       "      <td>06/2022</td>\n",
       "      <td>07/2020</td>\n",
       "    </tr>\n",
       "    <tr>\n",
       "      <th>Gearbox</th>\n",
       "      <td>[\\nManual\\n]</td>\n",
       "      <td>[\\nAutomatic\\n]</td>\n",
       "      <td>[\\nAutomatic\\n]</td>\n",
       "    </tr>\n",
       "    <tr>\n",
       "      <th>Fuel type</th>\n",
       "      <td>Diesel</td>\n",
       "      <td>Electric</td>\n",
       "      <td>Gasoline</td>\n",
       "    </tr>\n",
       "    <tr>\n",
       "      <th>Colour</th>\n",
       "      <td>Black</td>\n",
       "      <td>NaN</td>\n",
       "      <td>Grey</td>\n",
       "    </tr>\n",
       "    <tr>\n",
       "      <th>Paint</th>\n",
       "      <td>Metallic</td>\n",
       "      <td>NaN</td>\n",
       "      <td>NaN</td>\n",
       "    </tr>\n",
       "    <tr>\n",
       "      <th>desc</th>\n",
       "      <td>[ , Precio al contado: 16950 euros,  ,  , Vehí...</td>\n",
       "      <td>[ , Precio al contado: 88900 euros,  , AUTO OJ...</td>\n",
       "      <td>[Gris MANUFAKTUR mountaingrau magno,  , Linea/...</td>\n",
       "    </tr>\n",
       "    <tr>\n",
       "      <th>seller</th>\n",
       "      <td>Dealer</td>\n",
       "      <td>Dealer</td>\n",
       "      <td>Dealer</td>\n",
       "    </tr>\n",
       "    <tr>\n",
       "      <th>Seats</th>\n",
       "      <td>NaN</td>\n",
       "      <td>[\\n, 5, \\n]</td>\n",
       "      <td>[\\n, 5, \\n]</td>\n",
       "    </tr>\n",
       "    <tr>\n",
       "      <th>Power</th>\n",
       "      <td>NaN</td>\n",
       "      <td>[\\n215 kW (292 hp)\\n]</td>\n",
       "      <td>[\\n310 kW (421 hp)\\n]</td>\n",
       "    </tr>\n",
       "    <tr>\n",
       "      <th>Engine size</th>\n",
       "      <td>NaN</td>\n",
       "      <td>[\\n1 cc\\n]</td>\n",
       "      <td>[\\n1,991 cc\\n]</td>\n",
       "    </tr>\n",
       "    <tr>\n",
       "      <th>Gears</th>\n",
       "      <td>NaN</td>\n",
       "      <td>[\\n9\\n]</td>\n",
       "      <td>[\\n8\\n]</td>\n",
       "    </tr>\n",
       "    <tr>\n",
       "      <th>CO₂-emissions</th>\n",
       "      <td>NaN</td>\n",
       "      <td>0 g/km (comb.)</td>\n",
       "      <td>NaN</td>\n",
       "    </tr>\n",
       "    <tr>\n",
       "      <th>Manufacturer colour</th>\n",
       "      <td>NaN</td>\n",
       "      <td>Negro Obsidiana</td>\n",
       "      <td>Mountaingrau magno</td>\n",
       "    </tr>\n",
       "    <tr>\n",
       "      <th>Drivetrain</th>\n",
       "      <td>NaN</td>\n",
       "      <td>NaN</td>\n",
       "      <td>[\\n, 4WD, \\n]</td>\n",
       "    </tr>\n",
       "    <tr>\n",
       "      <th>Cylinders</th>\n",
       "      <td>NaN</td>\n",
       "      <td>NaN</td>\n",
       "      <td>[\\n4\\n]</td>\n",
       "    </tr>\n",
       "    <tr>\n",
       "      <th>Fuel consumption</th>\n",
       "      <td>NaN</td>\n",
       "      <td>NaN</td>\n",
       "      <td>[[8.4 l/100 km (comb.)], [10.9 l/100 km (city)...</td>\n",
       "    </tr>\n",
       "    <tr>\n",
       "      <th>\\nComfort &amp; Convenience\\n</th>\n",
       "      <td>NaN</td>\n",
       "      <td>NaN</td>\n",
       "      <td>NaN</td>\n",
       "    </tr>\n",
       "    <tr>\n",
       "      <th>\\nEntertainment &amp; Media\\n</th>\n",
       "      <td>NaN</td>\n",
       "      <td>NaN</td>\n",
       "      <td>NaN</td>\n",
       "    </tr>\n",
       "    <tr>\n",
       "      <th>\\nSafety &amp; Security\\n</th>\n",
       "      <td>NaN</td>\n",
       "      <td>NaN</td>\n",
       "      <td>NaN</td>\n",
       "    </tr>\n",
       "    <tr>\n",
       "      <th>\\nExtras\\n</th>\n",
       "      <td>NaN</td>\n",
       "      <td>NaN</td>\n",
       "      <td>NaN</td>\n",
       "    </tr>\n",
       "    <tr>\n",
       "      <th>Empty weight</th>\n",
       "      <td>NaN</td>\n",
       "      <td>NaN</td>\n",
       "      <td>NaN</td>\n",
       "    </tr>\n",
       "    <tr>\n",
       "      <th>Model code</th>\n",
       "      <td>NaN</td>\n",
       "      <td>NaN</td>\n",
       "      <td>NaN</td>\n",
       "    </tr>\n",
       "    <tr>\n",
       "      <th>General inspection</th>\n",
       "      <td>NaN</td>\n",
       "      <td>NaN</td>\n",
       "      <td>NaN</td>\n",
       "    </tr>\n",
       "    <tr>\n",
       "      <th>Last service</th>\n",
       "      <td>NaN</td>\n",
       "      <td>NaN</td>\n",
       "      <td>NaN</td>\n",
       "    </tr>\n",
       "    <tr>\n",
       "      <th>Full service history</th>\n",
       "      <td>NaN</td>\n",
       "      <td>NaN</td>\n",
       "      <td>NaN</td>\n",
       "    </tr>\n",
       "    <tr>\n",
       "      <th>Non-smoker vehicle</th>\n",
       "      <td>NaN</td>\n",
       "      <td>NaN</td>\n",
       "      <td>NaN</td>\n",
       "    </tr>\n",
       "    <tr>\n",
       "      <th>Emission class</th>\n",
       "      <td>NaN</td>\n",
       "      <td>NaN</td>\n",
       "      <td>NaN</td>\n",
       "    </tr>\n",
       "    <tr>\n",
       "      <th>Emissions sticker</th>\n",
       "      <td>NaN</td>\n",
       "      <td>NaN</td>\n",
       "      <td>NaN</td>\n",
       "    </tr>\n",
       "    <tr>\n",
       "      <th>Upholstery colour</th>\n",
       "      <td>NaN</td>\n",
       "      <td>NaN</td>\n",
       "      <td>NaN</td>\n",
       "    </tr>\n",
       "    <tr>\n",
       "      <th>Upholstery</th>\n",
       "      <td>NaN</td>\n",
       "      <td>NaN</td>\n",
       "      <td>NaN</td>\n",
       "    </tr>\n",
       "    <tr>\n",
       "      <th>Production date</th>\n",
       "      <td>NaN</td>\n",
       "      <td>NaN</td>\n",
       "      <td>NaN</td>\n",
       "    </tr>\n",
       "    <tr>\n",
       "      <th>Previous owner</th>\n",
       "      <td>NaN</td>\n",
       "      <td>NaN</td>\n",
       "      <td>NaN</td>\n",
       "    </tr>\n",
       "    <tr>\n",
       "      <th>Other fuel types</th>\n",
       "      <td>NaN</td>\n",
       "      <td>NaN</td>\n",
       "      <td>NaN</td>\n",
       "    </tr>\n",
       "    <tr>\n",
       "      <th>Power consumption</th>\n",
       "      <td>NaN</td>\n",
       "      <td>NaN</td>\n",
       "      <td>NaN</td>\n",
       "    </tr>\n",
       "    <tr>\n",
       "      <th>Energy efficiency class</th>\n",
       "      <td>NaN</td>\n",
       "      <td>NaN</td>\n",
       "      <td>NaN</td>\n",
       "    </tr>\n",
       "    <tr>\n",
       "      <th>CO₂-efficiency</th>\n",
       "      <td>NaN</td>\n",
       "      <td>NaN</td>\n",
       "      <td>NaN</td>\n",
       "    </tr>\n",
       "    <tr>\n",
       "      <th>Fuel consumption (WLTP)</th>\n",
       "      <td>NaN</td>\n",
       "      <td>NaN</td>\n",
       "      <td>NaN</td>\n",
       "    </tr>\n",
       "    <tr>\n",
       "      <th>CO₂-emissions (WLTP)</th>\n",
       "      <td>NaN</td>\n",
       "      <td>NaN</td>\n",
       "      <td>NaN</td>\n",
       "    </tr>\n",
       "    <tr>\n",
       "      <th>Available from</th>\n",
       "      <td>NaN</td>\n",
       "      <td>NaN</td>\n",
       "      <td>NaN</td>\n",
       "    </tr>\n",
       "    <tr>\n",
       "      <th>Taxi or rental car</th>\n",
       "      <td>NaN</td>\n",
       "      <td>NaN</td>\n",
       "      <td>NaN</td>\n",
       "    </tr>\n",
       "    <tr>\n",
       "      <th>Availability</th>\n",
       "      <td>NaN</td>\n",
       "      <td>NaN</td>\n",
       "      <td>NaN</td>\n",
       "    </tr>\n",
       "    <tr>\n",
       "      <th>Last timing belt change</th>\n",
       "      <td>NaN</td>\n",
       "      <td>NaN</td>\n",
       "      <td>NaN</td>\n",
       "    </tr>\n",
       "    <tr>\n",
       "      <th>Electric Range (WLTP)</th>\n",
       "      <td>NaN</td>\n",
       "      <td>NaN</td>\n",
       "      <td>NaN</td>\n",
       "    </tr>\n",
       "    <tr>\n",
       "      <th>Power consumption (WLTP)</th>\n",
       "      <td>NaN</td>\n",
       "      <td>NaN</td>\n",
       "      <td>NaN</td>\n",
       "    </tr>\n",
       "    <tr>\n",
       "      <th>Battery Ownership</th>\n",
       "      <td>NaN</td>\n",
       "      <td>NaN</td>\n",
       "      <td>NaN</td>\n",
       "    </tr>\n",
       "  </tbody>\n",
       "</table>\n",
       "</div>"
      ],
      "text/plain": [
       "                                                                           0  \\\n",
       "make_model                                               Mercedes-Benz A 160   \n",
       "short_description                                                        CDi   \n",
       "make                                                       \\nMercedes-Benz\\n   \n",
       "model                                                        [\\n, A 160 ,\\n]   \n",
       "location                   P.I. EL PALMAR C/FORJA 6,  11500 PUERTO DE SAN...   \n",
       "price                                                             € 16,950.-   \n",
       "Body type                                                  [\\n, Compact, \\n]   \n",
       "Type                                                          [\\n, Used, \\n]   \n",
       "Doors                                                            [\\n, 5, \\n]   \n",
       "Country version                                              [\\n, Spain, \\n]   \n",
       "Offer number                                               [\\n, 7468157, \\n]   \n",
       "Warranty                                                 [\\n, 24 months, \\n]   \n",
       "Mileage                                                           120,200 km   \n",
       "First registration                                                   06/2016   \n",
       "Gearbox                                                         [\\nManual\\n]   \n",
       "Fuel type                                                             Diesel   \n",
       "Colour                                                                 Black   \n",
       "Paint                                                               Metallic   \n",
       "desc                       [ , Precio al contado: 16950 euros,  ,  , Vehí...   \n",
       "seller                                                                Dealer   \n",
       "Seats                                                                    NaN   \n",
       "Power                                                                    NaN   \n",
       "Engine size                                                              NaN   \n",
       "Gears                                                                    NaN   \n",
       "CO₂-emissions                                                            NaN   \n",
       "Manufacturer colour                                                      NaN   \n",
       "Drivetrain                                                               NaN   \n",
       "Cylinders                                                                NaN   \n",
       "Fuel consumption                                                         NaN   \n",
       "\\nComfort & Convenience\\n                                                NaN   \n",
       "\\nEntertainment & Media\\n                                                NaN   \n",
       "\\nSafety & Security\\n                                                    NaN   \n",
       "\\nExtras\\n                                                               NaN   \n",
       "Empty weight                                                             NaN   \n",
       "Model code                                                               NaN   \n",
       "General inspection                                                       NaN   \n",
       "Last service                                                             NaN   \n",
       "Full service history                                                     NaN   \n",
       "Non-smoker vehicle                                                       NaN   \n",
       "Emission class                                                           NaN   \n",
       "Emissions sticker                                                        NaN   \n",
       "Upholstery colour                                                        NaN   \n",
       "Upholstery                                                               NaN   \n",
       "Production date                                                          NaN   \n",
       "Previous owner                                                           NaN   \n",
       "Other fuel types                                                         NaN   \n",
       "Power consumption                                                        NaN   \n",
       "Energy efficiency class                                                  NaN   \n",
       "CO₂-efficiency                                                           NaN   \n",
       "Fuel consumption (WLTP)                                                  NaN   \n",
       "CO₂-emissions (WLTP)                                                     NaN   \n",
       "Available from                                                           NaN   \n",
       "Taxi or rental car                                                       NaN   \n",
       "Availability                                                             NaN   \n",
       "Last timing belt change                                                  NaN   \n",
       "Electric Range (WLTP)                                                    NaN   \n",
       "Power consumption (WLTP)                                                 NaN   \n",
       "Battery Ownership                                                        NaN   \n",
       "\n",
       "                                                                           1  \\\n",
       "make_model                                             Mercedes-Benz EQE 350   \n",
       "short_description                                                       350+   \n",
       "make                                                       \\nMercedes-Benz\\n   \n",
       "model                                                      [\\n, EQE 350 ,\\n]   \n",
       "location                        APARTADO DE CORREOS 1032,  26140 LOGROÑO, ES   \n",
       "price                                                             € 80,900.-   \n",
       "Body type                                                  [\\n, Compact, \\n]   \n",
       "Type                                                [\\n, Pre-registered, \\n]   \n",
       "Doors                                                            [\\n, 4, \\n]   \n",
       "Country version                                              [\\n, Spain, \\n]   \n",
       "Offer number                                               [\\n, 7054863, \\n]   \n",
       "Warranty                                                 [\\n, 24 months, \\n]   \n",
       "Mileage                                                             5,000 km   \n",
       "First registration                                                   06/2022   \n",
       "Gearbox                                                      [\\nAutomatic\\n]   \n",
       "Fuel type                                                           Electric   \n",
       "Colour                                                                   NaN   \n",
       "Paint                                                                    NaN   \n",
       "desc                       [ , Precio al contado: 88900 euros,  , AUTO OJ...   \n",
       "seller                                                                Dealer   \n",
       "Seats                                                            [\\n, 5, \\n]   \n",
       "Power                                                  [\\n215 kW (292 hp)\\n]   \n",
       "Engine size                                                       [\\n1 cc\\n]   \n",
       "Gears                                                                [\\n9\\n]   \n",
       "CO₂-emissions                                                 0 g/km (comb.)   \n",
       "Manufacturer colour                                          Negro Obsidiana   \n",
       "Drivetrain                                                               NaN   \n",
       "Cylinders                                                                NaN   \n",
       "Fuel consumption                                                         NaN   \n",
       "\\nComfort & Convenience\\n                                                NaN   \n",
       "\\nEntertainment & Media\\n                                                NaN   \n",
       "\\nSafety & Security\\n                                                    NaN   \n",
       "\\nExtras\\n                                                               NaN   \n",
       "Empty weight                                                             NaN   \n",
       "Model code                                                               NaN   \n",
       "General inspection                                                       NaN   \n",
       "Last service                                                             NaN   \n",
       "Full service history                                                     NaN   \n",
       "Non-smoker vehicle                                                       NaN   \n",
       "Emission class                                                           NaN   \n",
       "Emissions sticker                                                        NaN   \n",
       "Upholstery colour                                                        NaN   \n",
       "Upholstery                                                               NaN   \n",
       "Production date                                                          NaN   \n",
       "Previous owner                                                           NaN   \n",
       "Other fuel types                                                         NaN   \n",
       "Power consumption                                                        NaN   \n",
       "Energy efficiency class                                                  NaN   \n",
       "CO₂-efficiency                                                           NaN   \n",
       "Fuel consumption (WLTP)                                                  NaN   \n",
       "CO₂-emissions (WLTP)                                                     NaN   \n",
       "Available from                                                           NaN   \n",
       "Taxi or rental car                                                       NaN   \n",
       "Availability                                                             NaN   \n",
       "Last timing belt change                                                  NaN   \n",
       "Electric Range (WLTP)                                                    NaN   \n",
       "Power consumption (WLTP)                                                 NaN   \n",
       "Battery Ownership                                                        NaN   \n",
       "\n",
       "                                                                           2  \n",
       "make_model                                            Mercedes-Benz A 45 AMG  \n",
       "short_description                                           S 4Matic+ 8G-DCT  \n",
       "make                                                       \\nMercedes-Benz\\n  \n",
       "model                                                     [\\n, A 45 AMG ,\\n]  \n",
       "location                   PORT. TARRACO, MOLL DE LLEVANT, Nº 5, LOC. 6-8...  \n",
       "price                                                             € 69,900.-  \n",
       "Body type                                                  [\\n, Compact, \\n]  \n",
       "Type                                                          [\\n, Used, \\n]  \n",
       "Doors                                                            [\\n, 5, \\n]  \n",
       "Country version                                              [\\n, Spain, \\n]  \n",
       "Offer number                                               [\\n, 7410454, \\n]  \n",
       "Warranty                                                 [\\n, 12 months, \\n]  \n",
       "Mileage                                                            18,900 km  \n",
       "First registration                                                   07/2020  \n",
       "Gearbox                                                      [\\nAutomatic\\n]  \n",
       "Fuel type                                                           Gasoline  \n",
       "Colour                                                                  Grey  \n",
       "Paint                                                                    NaN  \n",
       "desc                       [Gris MANUFAKTUR mountaingrau magno,  , Linea/...  \n",
       "seller                                                                Dealer  \n",
       "Seats                                                            [\\n, 5, \\n]  \n",
       "Power                                                  [\\n310 kW (421 hp)\\n]  \n",
       "Engine size                                                   [\\n1,991 cc\\n]  \n",
       "Gears                                                                [\\n8\\n]  \n",
       "CO₂-emissions                                                            NaN  \n",
       "Manufacturer colour                                       Mountaingrau magno  \n",
       "Drivetrain                                                     [\\n, 4WD, \\n]  \n",
       "Cylinders                                                            [\\n4\\n]  \n",
       "Fuel consumption           [[8.4 l/100 km (comb.)], [10.9 l/100 km (city)...  \n",
       "\\nComfort & Convenience\\n                                                NaN  \n",
       "\\nEntertainment & Media\\n                                                NaN  \n",
       "\\nSafety & Security\\n                                                    NaN  \n",
       "\\nExtras\\n                                                               NaN  \n",
       "Empty weight                                                             NaN  \n",
       "Model code                                                               NaN  \n",
       "General inspection                                                       NaN  \n",
       "Last service                                                             NaN  \n",
       "Full service history                                                     NaN  \n",
       "Non-smoker vehicle                                                       NaN  \n",
       "Emission class                                                           NaN  \n",
       "Emissions sticker                                                        NaN  \n",
       "Upholstery colour                                                        NaN  \n",
       "Upholstery                                                               NaN  \n",
       "Production date                                                          NaN  \n",
       "Previous owner                                                           NaN  \n",
       "Other fuel types                                                         NaN  \n",
       "Power consumption                                                        NaN  \n",
       "Energy efficiency class                                                  NaN  \n",
       "CO₂-efficiency                                                           NaN  \n",
       "Fuel consumption (WLTP)                                                  NaN  \n",
       "CO₂-emissions (WLTP)                                                     NaN  \n",
       "Available from                                                           NaN  \n",
       "Taxi or rental car                                                       NaN  \n",
       "Availability                                                             NaN  \n",
       "Last timing belt change                                                  NaN  \n",
       "Electric Range (WLTP)                                                    NaN  \n",
       "Power consumption (WLTP)                                                 NaN  \n",
       "Battery Ownership                                                        NaN  "
      ]
     },
     "execution_count": 9,
     "metadata": {},
     "output_type": "execute_result"
    }
   ],
   "source": [
    "df.head(3).T"
   ]
  },
  {
   "cell_type": "code",
   "execution_count": 10,
   "metadata": {},
   "outputs": [
    {
     "data": {
      "text/plain": [
       "(29480, 58)"
      ]
     },
     "execution_count": 10,
     "metadata": {},
     "output_type": "execute_result"
    }
   ],
   "source": [
    "df.shape"
   ]
  },
  {
   "cell_type": "code",
   "execution_count": 11,
   "metadata": {},
   "outputs": [
    {
     "name": "stdout",
     "output_type": "stream",
     "text": [
      "<class 'pandas.core.frame.DataFrame'>\n",
      "RangeIndex: 29480 entries, 0 to 29479\n",
      "Data columns (total 58 columns):\n",
      " #   Column                    Non-Null Count  Dtype  \n",
      "---  ------                    --------------  -----  \n",
      " 0   make_model                28630 non-null  object \n",
      " 1   short_description         28630 non-null  object \n",
      " 2   make                      28630 non-null  object \n",
      " 3   model                     28630 non-null  object \n",
      " 4   location                  28630 non-null  object \n",
      " 5   price                     28630 non-null  object \n",
      " 6   Body type                 28630 non-null  object \n",
      " 7   Type                      28630 non-null  object \n",
      " 8   Doors                     28271 non-null  object \n",
      " 9   Country version           16889 non-null  object \n",
      " 10  Offer number              23100 non-null  object \n",
      " 11  Warranty                  15784 non-null  object \n",
      " 12  Mileage                   28629 non-null  object \n",
      " 13  First registration        28628 non-null  object \n",
      " 14  Gearbox                   28382 non-null  object \n",
      " 15  Fuel type                 26843 non-null  object \n",
      " 16  Colour                    26906 non-null  object \n",
      " 17  Paint                     14495 non-null  object \n",
      " 18  desc                      28047 non-null  object \n",
      " 19  seller                    28630 non-null  object \n",
      " 20  Seats                     25505 non-null  object \n",
      " 21  Power                     28058 non-null  object \n",
      " 22  Engine size               27227 non-null  object \n",
      " 23  Gears                     18954 non-null  object \n",
      " 24  CO₂-emissions             18594 non-null  object \n",
      " 25  Manufacturer colour       21787 non-null  object \n",
      " 26  Drivetrain                16893 non-null  object \n",
      " 27  Cylinders                 18852 non-null  object \n",
      " 28  Fuel consumption          23385 non-null  object \n",
      " 29  \n",
      "Comfort & Convenience\n",
      "   25433 non-null  object \n",
      " 30  \n",
      "Entertainment & Media\n",
      "   23644 non-null  object \n",
      " 31  \n",
      "Safety & Security\n",
      "       25415 non-null  object \n",
      " 32  \n",
      "Extras\n",
      "                  23480 non-null  object \n",
      " 33  Empty weight              17758 non-null  object \n",
      " 34  Model code                8367 non-null   object \n",
      " 35  General inspection        12254 non-null  object \n",
      " 36  Last service              2003 non-null   object \n",
      " 37  Full service history      12565 non-null  object \n",
      " 38  Non-smoker vehicle        11594 non-null  object \n",
      " 39  Emission class            17859 non-null  object \n",
      " 40  Emissions sticker         9414 non-null   object \n",
      " 41  Upholstery colour         14569 non-null  object \n",
      " 42  Upholstery                18610 non-null  object \n",
      " 43  Production date           5908 non-null   float64\n",
      " 44  Previous owner            14015 non-null  object \n",
      " 45  Other fuel types          2313 non-null   object \n",
      " 46  Power consumption         515 non-null    object \n",
      " 47  Energy efficiency class   7804 non-null   object \n",
      " 48  CO₂-efficiency            7804 non-null   object \n",
      " 49  Fuel consumption (WLTP)   100 non-null    object \n",
      " 50  CO₂-emissions (WLTP)      116 non-null    object \n",
      " 51  Available from            393 non-null    object \n",
      " 52  Taxi or rental car        422 non-null    object \n",
      " 53  Availability              301 non-null    object \n",
      " 54  Last timing belt change   572 non-null    object \n",
      " 55  Electric Range (WLTP)     16 non-null     object \n",
      " 56  Power consumption (WLTP)  16 non-null     object \n",
      " 57  Battery Ownership         7 non-null      object \n",
      "dtypes: float64(1), object(57)\n",
      "memory usage: 13.0+ MB\n"
     ]
    }
   ],
   "source": [
    "df.info()"
   ]
  },
  {
   "cell_type": "markdown",
   "metadata": {},
   "source": [
    "### The Examination of Column Names & Data Types"
   ]
  },
  {
   "cell_type": "code",
   "execution_count": 12,
   "metadata": {},
   "outputs": [
    {
     "data": {
      "text/plain": [
       "Index(['make_model', 'short_description', 'make', 'model', 'location', 'price',\n",
       "       'Body type', 'Type', 'Doors', 'Country version', 'Offer number',\n",
       "       'Warranty', 'Mileage', 'First registration', 'Gearbox', 'Fuel type',\n",
       "       'Colour', 'Paint', 'desc', 'seller', 'Seats', 'Power', 'Engine size',\n",
       "       'Gears', 'CO₂-emissions', 'Manufacturer colour', 'Drivetrain',\n",
       "       'Cylinders', 'Fuel consumption', '\\nComfort & Convenience\\n',\n",
       "       '\\nEntertainment & Media\\n', '\\nSafety & Security\\n', '\\nExtras\\n',\n",
       "       'Empty weight', 'Model code', 'General inspection', 'Last service',\n",
       "       'Full service history', 'Non-smoker vehicle', 'Emission class',\n",
       "       'Emissions sticker', 'Upholstery colour', 'Upholstery',\n",
       "       'Production date', 'Previous owner', 'Other fuel types',\n",
       "       'Power consumption', 'Energy efficiency class', 'CO₂-efficiency',\n",
       "       'Fuel consumption (WLTP)', 'CO₂-emissions (WLTP)', 'Available from',\n",
       "       'Taxi or rental car', 'Availability', 'Last timing belt change',\n",
       "       'Electric Range (WLTP)', 'Power consumption (WLTP)',\n",
       "       'Battery Ownership'],\n",
       "      dtype='object')"
      ]
     },
     "execution_count": 12,
     "metadata": {},
     "output_type": "execute_result"
    }
   ],
   "source": [
    "df.columns"
   ]
  },
  {
   "cell_type": "code",
   "execution_count": 13,
   "metadata": {},
   "outputs": [
    {
     "data": {
      "text/plain": [
       "['\\nComfort & Convenience\\n',\n",
       " '\\nEntertainment & Media\\n',\n",
       " '\\nExtras\\n',\n",
       " '\\nSafety & Security\\n',\n",
       " 'Availability',\n",
       " 'Available from',\n",
       " 'Battery Ownership',\n",
       " 'Body type',\n",
       " 'CO₂-efficiency',\n",
       " 'CO₂-emissions',\n",
       " 'CO₂-emissions (WLTP)',\n",
       " 'Colour',\n",
       " 'Country version',\n",
       " 'Cylinders',\n",
       " 'Doors',\n",
       " 'Drivetrain',\n",
       " 'Electric Range (WLTP)',\n",
       " 'Emission class',\n",
       " 'Emissions sticker',\n",
       " 'Empty weight',\n",
       " 'Energy efficiency class',\n",
       " 'Engine size',\n",
       " 'First registration',\n",
       " 'Fuel consumption',\n",
       " 'Fuel consumption (WLTP)',\n",
       " 'Fuel type',\n",
       " 'Full service history',\n",
       " 'Gearbox',\n",
       " 'Gears',\n",
       " 'General inspection',\n",
       " 'Last service',\n",
       " 'Last timing belt change',\n",
       " 'Manufacturer colour',\n",
       " 'Mileage',\n",
       " 'Model code',\n",
       " 'Non-smoker vehicle',\n",
       " 'Offer number',\n",
       " 'Other fuel types',\n",
       " 'Paint',\n",
       " 'Power',\n",
       " 'Power consumption',\n",
       " 'Power consumption (WLTP)',\n",
       " 'Previous owner',\n",
       " 'Production date',\n",
       " 'Seats',\n",
       " 'Taxi or rental car',\n",
       " 'Type',\n",
       " 'Upholstery',\n",
       " 'Upholstery colour',\n",
       " 'Warranty',\n",
       " 'desc',\n",
       " 'location',\n",
       " 'make',\n",
       " 'make_model',\n",
       " 'model',\n",
       " 'price',\n",
       " 'seller',\n",
       " 'short_description']"
      ]
     },
     "execution_count": 13,
     "metadata": {},
     "output_type": "execute_result"
    }
   ],
   "source": [
    "sorted(df.columns)"
   ]
  },
  {
   "cell_type": "markdown",
   "metadata": {},
   "source": [
    "#### Checking Mixed Type of Data:"
   ]
  },
  {
   "cell_type": "code",
   "execution_count": 14,
   "metadata": {},
   "outputs": [
    {
     "name": "stdout",
     "output_type": "stream",
     "text": [
      "Column \u001b[1m\u001b[91mmake_model\u001b[0m has mixed object types.\n",
      "Column \u001b[1m\u001b[91mshort_description\u001b[0m has mixed object types.\n",
      "Column \u001b[1m\u001b[91mmake\u001b[0m has mixed object types.\n",
      "Column \u001b[1m\u001b[91mmodel\u001b[0m has mixed object types.\n",
      "Column \u001b[1m\u001b[91mlocation\u001b[0m has mixed object types.\n",
      "Column \u001b[1m\u001b[91mprice\u001b[0m has mixed object types.\n",
      "Column \u001b[1m\u001b[91mBody type\u001b[0m has mixed object types.\n",
      "Column \u001b[1m\u001b[91mType\u001b[0m has mixed object types.\n",
      "Column \u001b[1m\u001b[91mDoors\u001b[0m has mixed object types.\n",
      "Column \u001b[1m\u001b[91mCountry version\u001b[0m has mixed object types.\n",
      "Column \u001b[1m\u001b[91mOffer number\u001b[0m has mixed object types.\n",
      "Column \u001b[1m\u001b[91mWarranty\u001b[0m has mixed object types.\n",
      "Column \u001b[1m\u001b[91mMileage\u001b[0m has mixed object types.\n",
      "Column \u001b[1m\u001b[91mFirst registration\u001b[0m has mixed object types.\n",
      "Column \u001b[1m\u001b[91mGearbox\u001b[0m has mixed object types.\n",
      "Column \u001b[1m\u001b[91mFuel type\u001b[0m has mixed object types.\n",
      "Column \u001b[1m\u001b[91mColour\u001b[0m has mixed object types.\n",
      "Column \u001b[1m\u001b[91mPaint\u001b[0m has mixed object types.\n",
      "Column \u001b[1m\u001b[91mdesc\u001b[0m has mixed object types.\n",
      "Column \u001b[1m\u001b[91mseller\u001b[0m has mixed object types.\n",
      "Column \u001b[1m\u001b[91mSeats\u001b[0m has mixed object types.\n",
      "Column \u001b[1m\u001b[91mPower\u001b[0m has mixed object types.\n",
      "Column \u001b[1m\u001b[91mEngine size\u001b[0m has mixed object types.\n",
      "Column \u001b[1m\u001b[91mGears\u001b[0m has mixed object types.\n",
      "Column \u001b[1m\u001b[91mCO₂-emissions\u001b[0m has mixed object types.\n",
      "Column \u001b[1m\u001b[91mManufacturer colour\u001b[0m has mixed object types.\n",
      "Column \u001b[1m\u001b[91mDrivetrain\u001b[0m has mixed object types.\n",
      "Column \u001b[1m\u001b[91mCylinders\u001b[0m has mixed object types.\n",
      "Column \u001b[1m\u001b[91mFuel consumption\u001b[0m has mixed object types.\n",
      "Column \u001b[1m\u001b[91m\n",
      "Comfort & Convenience\n",
      "\u001b[0m has mixed object types.\n",
      "Column \u001b[1m\u001b[91m\n",
      "Entertainment & Media\n",
      "\u001b[0m has mixed object types.\n",
      "Column \u001b[1m\u001b[91m\n",
      "Safety & Security\n",
      "\u001b[0m has mixed object types.\n",
      "Column \u001b[1m\u001b[91m\n",
      "Extras\n",
      "\u001b[0m has mixed object types.\n",
      "Column \u001b[1m\u001b[91mEmpty weight\u001b[0m has mixed object types.\n",
      "Column \u001b[1m\u001b[91mModel code\u001b[0m has mixed object types.\n",
      "Column \u001b[1m\u001b[91mGeneral inspection\u001b[0m has mixed object types.\n",
      "Column \u001b[1m\u001b[91mLast service\u001b[0m has mixed object types.\n",
      "Column \u001b[1m\u001b[91mFull service history\u001b[0m has mixed object types.\n",
      "Column \u001b[1m\u001b[91mNon-smoker vehicle\u001b[0m has mixed object types.\n",
      "Column \u001b[1m\u001b[91mEmission class\u001b[0m has mixed object types.\n",
      "Column \u001b[1m\u001b[91mEmissions sticker\u001b[0m has mixed object types.\n",
      "Column \u001b[1m\u001b[91mUpholstery colour\u001b[0m has mixed object types.\n",
      "Column \u001b[1m\u001b[91mUpholstery\u001b[0m has mixed object types.\n",
      "Column \u001b[1m\u001b[91mPrevious owner\u001b[0m has mixed object types.\n",
      "Column \u001b[1m\u001b[91mOther fuel types\u001b[0m has mixed object types.\n",
      "Column \u001b[1m\u001b[91mPower consumption\u001b[0m has mixed object types.\n",
      "Column \u001b[1m\u001b[91mEnergy efficiency class\u001b[0m has mixed object types.\n",
      "Column \u001b[1m\u001b[91mCO₂-efficiency\u001b[0m has mixed object types.\n",
      "Column \u001b[1m\u001b[91mFuel consumption (WLTP)\u001b[0m has mixed object types.\n",
      "Column \u001b[1m\u001b[91mCO₂-emissions (WLTP)\u001b[0m has mixed object types.\n",
      "Column \u001b[1m\u001b[91mAvailable from\u001b[0m has mixed object types.\n",
      "Column \u001b[1m\u001b[91mTaxi or rental car\u001b[0m has mixed object types.\n",
      "Column \u001b[1m\u001b[91mAvailability\u001b[0m has mixed object types.\n",
      "Column \u001b[1m\u001b[91mLast timing belt change\u001b[0m has mixed object types.\n",
      "Column \u001b[1m\u001b[91mElectric Range (WLTP)\u001b[0m has mixed object types.\n",
      "Column \u001b[1m\u001b[91mPower consumption (WLTP)\u001b[0m has mixed object types.\n",
      "Column \u001b[1m\u001b[91mBattery Ownership\u001b[0m has mixed object types.\n"
     ]
    }
   ],
   "source": [
    "class color:\n",
    "    PURPLE = '\\033[95m'\n",
    "    CYAN = '\\033[96m'\n",
    "    DARKCYAN = '\\033[36m'\n",
    "    BLUE = '\\033[94m'\n",
    "    GREEN = '\\033[92m'\n",
    "    YELLOW = '\\033[93m'\n",
    "    RED = '\\033[91m'\n",
    "    BOLD = '\\033[1m'\n",
    "    UNDERLINE = '\\033[4m'\n",
    "    END = '\\033[0m'\n",
    "\n",
    "def check_obj_columns(df):\n",
    "    '''\n",
    "    Returns NO PROBLEM or column/s which has/have mixed object types.\n",
    "    '''    \n",
    "    \n",
    "    tdf = df.select_dtypes(include=['object']).applymap(type)\n",
    "    for col in tdf:\n",
    "        if len(set(tdf[col].values)) > 1:\n",
    "            print(\"Column\" + \" \" + color.BOLD + color.RED + col + color.END + \" \" + \"has mixed object types.\" )\n",
    "    else:\n",
    "        if len(set(tdf[col].values)) == 1:\n",
    "            print(color.BOLD + color.GREEN + \"NO PROBLEM\" + \" \" + color.END + \" \" + \"with the data types of Columns in the DataFrame.\")\n",
    "\n",
    "check_obj_columns(df)"
   ]
  },
  {
   "cell_type": "markdown",
   "metadata": {},
   "source": [
    "**What does the code above do?**\n",
    "\n",
    "This code defines a Python class called color that contains string constants with ANSI escape codes for text color formatting. It also defines a function called check_obj_columns() that takes a Pandas DataFrame df as input and prints out whether or not the columns of the DataFrame have mixed object types.\n",
    "\n",
    "The color class defines constants for different text colors and styles using ANSI escape codes. For example, color.BOLD and color.RED are used to print the column name in bold red letters. These escape codes are used to format the text output when the check_obj_columns() function is called.\n",
    "\n",
    "The check_obj_columns() function selects all columns in the input DataFrame df that have object data types (i.e., strings or mixed data types) using the select_dtypes() method. It then applies the type() function to each element in these columns using the applymap() method to get the type of each element.\n",
    "\n",
    "For each column in the DataFrame, the function checks if there is more than one unique type of object in the column. If there is more than one unique type, the function prints out a warning message that the column has mixed object types using the red and bold text formatting defined in the color class.\n",
    "\n",
    "If all columns have the same type of object, the function prints out a \"NO PROBLEM\" message using the green and bold text formatting defined in the color class.\n",
    "\n",
    "Overall, this code is a simple utility function that helps to identify columns in a DataFrame that have mixed object types, which can be useful in data cleaning and preprocessing tasks."
   ]
  },
  {
   "cell_type": "markdown",
   "metadata": {},
   "source": [
    "**Let us rectify the** **``Incorrect Headers (Column names)``**"
   ]
  },
  {
   "cell_type": "markdown",
   "metadata": {},
   "source": [
    "One way of renaming the columns in a Pandas dataframe is by using the **``rename()``** function. This method is quite useful when we need to rename some selected columns because we need to specify information only for the columns which are to be renamed **🧐 [Source](https://www.geeksforgeeks.org/how-to-rename-columns-in-pandas-dataframe/)**.\n",
    "\n",
    "For skimpy library, please have look at this article named **🧐 [How to Clean Messy Pandas Column Names](https://towardsdatascience.com/how-to-clean-messy-pandas-column-names-20dc7400cea7)**"
   ]
  },
  {
   "cell_type": "code",
   "execution_count": 15,
   "metadata": {},
   "outputs": [
    {
     "data": {
      "text/html": [
       "<pre style=\"white-space:pre;overflow-x:auto;line-height:normal;font-family:Menlo,'DejaVu Sans Mono',consolas,'Courier New',monospace\"><span style=\"color: #008080; text-decoration-color: #008080; font-weight: bold\">50</span> column names have been cleaned\n",
       "</pre>\n"
      ],
      "text/plain": [
       "\u001b[1;36m50\u001b[0m column names have been cleaned\n"
      ]
     },
     "metadata": {},
     "output_type": "display_data"
    },
    {
     "data": {
      "text/html": [
       "<div>\n",
       "<style scoped>\n",
       "    .dataframe tbody tr th:only-of-type {\n",
       "        vertical-align: middle;\n",
       "    }\n",
       "\n",
       "    .dataframe tbody tr th {\n",
       "        vertical-align: top;\n",
       "    }\n",
       "\n",
       "    .dataframe thead th {\n",
       "        text-align: right;\n",
       "    }\n",
       "</style>\n",
       "<table border=\"1\" class=\"dataframe\">\n",
       "  <thead>\n",
       "    <tr style=\"text-align: right;\">\n",
       "      <th></th>\n",
       "      <th>make_model</th>\n",
       "      <th>short_description</th>\n",
       "      <th>make</th>\n",
       "      <th>model</th>\n",
       "      <th>location</th>\n",
       "      <th>price</th>\n",
       "      <th>body_type</th>\n",
       "      <th>type</th>\n",
       "      <th>doors</th>\n",
       "      <th>country_version</th>\n",
       "      <th>...</th>\n",
       "      <th>co_efficiency</th>\n",
       "      <th>fuel_consumption_wltp</th>\n",
       "      <th>co_emissions_wltp</th>\n",
       "      <th>available_from</th>\n",
       "      <th>taxi_or_rental_car</th>\n",
       "      <th>availability</th>\n",
       "      <th>last_timing_belt_change</th>\n",
       "      <th>electric_range_wltp</th>\n",
       "      <th>power_consumption_wltp</th>\n",
       "      <th>battery_ownership</th>\n",
       "    </tr>\n",
       "  </thead>\n",
       "  <tbody>\n",
       "    <tr>\n",
       "      <th>0</th>\n",
       "      <td>Mercedes-Benz A 160</td>\n",
       "      <td>CDi</td>\n",
       "      <td>\\nMercedes-Benz\\n</td>\n",
       "      <td>[\\n, A 160 ,\\n]</td>\n",
       "      <td>P.I. EL PALMAR C/FORJA 6,  11500 PUERTO DE SAN...</td>\n",
       "      <td>€ 16,950.-</td>\n",
       "      <td>[\\n, Compact, \\n]</td>\n",
       "      <td>[\\n, Used, \\n]</td>\n",
       "      <td>[\\n, 5, \\n]</td>\n",
       "      <td>[\\n, Spain, \\n]</td>\n",
       "      <td>...</td>\n",
       "      <td>NaN</td>\n",
       "      <td>NaN</td>\n",
       "      <td>NaN</td>\n",
       "      <td>NaN</td>\n",
       "      <td>NaN</td>\n",
       "      <td>NaN</td>\n",
       "      <td>NaN</td>\n",
       "      <td>NaN</td>\n",
       "      <td>NaN</td>\n",
       "      <td>NaN</td>\n",
       "    </tr>\n",
       "    <tr>\n",
       "      <th>1</th>\n",
       "      <td>Mercedes-Benz EQE 350</td>\n",
       "      <td>350+</td>\n",
       "      <td>\\nMercedes-Benz\\n</td>\n",
       "      <td>[\\n, EQE 350 ,\\n]</td>\n",
       "      <td>APARTADO DE CORREOS 1032,  26140 LOGROÑO, ES</td>\n",
       "      <td>€ 80,900.-</td>\n",
       "      <td>[\\n, Compact, \\n]</td>\n",
       "      <td>[\\n, Pre-registered, \\n]</td>\n",
       "      <td>[\\n, 4, \\n]</td>\n",
       "      <td>[\\n, Spain, \\n]</td>\n",
       "      <td>...</td>\n",
       "      <td>NaN</td>\n",
       "      <td>NaN</td>\n",
       "      <td>NaN</td>\n",
       "      <td>NaN</td>\n",
       "      <td>NaN</td>\n",
       "      <td>NaN</td>\n",
       "      <td>NaN</td>\n",
       "      <td>NaN</td>\n",
       "      <td>NaN</td>\n",
       "      <td>NaN</td>\n",
       "    </tr>\n",
       "    <tr>\n",
       "      <th>2</th>\n",
       "      <td>Mercedes-Benz A 45 AMG</td>\n",
       "      <td>S 4Matic+ 8G-DCT</td>\n",
       "      <td>\\nMercedes-Benz\\n</td>\n",
       "      <td>[\\n, A 45 AMG ,\\n]</td>\n",
       "      <td>PORT. TARRACO, MOLL DE LLEVANT, Nº 5, LOC. 6-8...</td>\n",
       "      <td>€ 69,900.-</td>\n",
       "      <td>[\\n, Compact, \\n]</td>\n",
       "      <td>[\\n, Used, \\n]</td>\n",
       "      <td>[\\n, 5, \\n]</td>\n",
       "      <td>[\\n, Spain, \\n]</td>\n",
       "      <td>...</td>\n",
       "      <td>NaN</td>\n",
       "      <td>NaN</td>\n",
       "      <td>NaN</td>\n",
       "      <td>NaN</td>\n",
       "      <td>NaN</td>\n",
       "      <td>NaN</td>\n",
       "      <td>NaN</td>\n",
       "      <td>NaN</td>\n",
       "      <td>NaN</td>\n",
       "      <td>NaN</td>\n",
       "    </tr>\n",
       "  </tbody>\n",
       "</table>\n",
       "<p>3 rows × 58 columns</p>\n",
       "</div>"
      ],
      "text/plain": [
       "               make_model short_description               make  \\\n",
       "0     Mercedes-Benz A 160               CDi  \\nMercedes-Benz\\n   \n",
       "1   Mercedes-Benz EQE 350              350+  \\nMercedes-Benz\\n   \n",
       "2  Mercedes-Benz A 45 AMG  S 4Matic+ 8G-DCT  \\nMercedes-Benz\\n   \n",
       "\n",
       "                model                                           location  \\\n",
       "0     [\\n, A 160 ,\\n]  P.I. EL PALMAR C/FORJA 6,  11500 PUERTO DE SAN...   \n",
       "1   [\\n, EQE 350 ,\\n]       APARTADO DE CORREOS 1032,  26140 LOGROÑO, ES   \n",
       "2  [\\n, A 45 AMG ,\\n]  PORT. TARRACO, MOLL DE LLEVANT, Nº 5, LOC. 6-8...   \n",
       "\n",
       "        price          body_type                      type        doors  \\\n",
       "0  € 16,950.-  [\\n, Compact, \\n]            [\\n, Used, \\n]  [\\n, 5, \\n]   \n",
       "1  € 80,900.-  [\\n, Compact, \\n]  [\\n, Pre-registered, \\n]  [\\n, 4, \\n]   \n",
       "2  € 69,900.-  [\\n, Compact, \\n]            [\\n, Used, \\n]  [\\n, 5, \\n]   \n",
       "\n",
       "   country_version  ... co_efficiency fuel_consumption_wltp co_emissions_wltp  \\\n",
       "0  [\\n, Spain, \\n]  ...           NaN                   NaN               NaN   \n",
       "1  [\\n, Spain, \\n]  ...           NaN                   NaN               NaN   \n",
       "2  [\\n, Spain, \\n]  ...           NaN                   NaN               NaN   \n",
       "\n",
       "  available_from taxi_or_rental_car availability last_timing_belt_change  \\\n",
       "0            NaN                NaN          NaN                     NaN   \n",
       "1            NaN                NaN          NaN                     NaN   \n",
       "2            NaN                NaN          NaN                     NaN   \n",
       "\n",
       "  electric_range_wltp power_consumption_wltp battery_ownership  \n",
       "0                 NaN                    NaN               NaN  \n",
       "1                 NaN                    NaN               NaN  \n",
       "2                 NaN                    NaN               NaN  \n",
       "\n",
       "[3 rows x 58 columns]"
      ]
     },
     "execution_count": 15,
     "metadata": {},
     "output_type": "execute_result"
    }
   ],
   "source": [
    "# First Method\n",
    "\n",
    "from skimpy import clean_columns\n",
    "\n",
    "df = clean_columns(df)\n",
    "df.head(3)"
   ]
  },
  {
   "cell_type": "code",
   "execution_count": 16,
   "metadata": {},
   "outputs": [
    {
     "data": {
      "text/plain": [
       "Index(['make_model', 'short_description', 'make', 'model', 'location', 'price',\n",
       "       'body_type', 'type', 'doors', 'country_version', 'offer_number',\n",
       "       'warranty', 'mileage', 'first_registration', 'gearbox', 'fuel_type',\n",
       "       'colour', 'paint', 'desc', 'seller', 'seats', 'power', 'engine_size',\n",
       "       'gears', 'co_emissions', 'manufacturer_colour', 'drivetrain',\n",
       "       'cylinders', 'fuel_consumption', 'comfort_&_convenience',\n",
       "       'entertainment_&_media', 'safety_&_security', 'extras', 'empty_weight',\n",
       "       'model_code', 'general_inspection', 'last_service',\n",
       "       'full_service_history', 'non_smoker_vehicle', 'emission_class',\n",
       "       'emissions_sticker', 'upholstery_colour', 'upholstery',\n",
       "       'production_date', 'previous_owner', 'other_fuel_types',\n",
       "       'power_consumption', 'energy_efficiency_class', 'co_efficiency',\n",
       "       'fuel_consumption_wltp', 'co_emissions_wltp', 'available_from',\n",
       "       'taxi_or_rental_car', 'availability', 'last_timing_belt_change',\n",
       "       'electric_range_wltp', 'power_consumption_wltp', 'battery_ownership'],\n",
       "      dtype='object')"
      ]
     },
     "execution_count": 16,
     "metadata": {},
     "output_type": "execute_result"
    }
   ],
   "source": [
    "df.columns"
   ]
  },
  {
   "cell_type": "code",
   "execution_count": 17,
   "metadata": {},
   "outputs": [],
   "source": [
    "# from skimpy import skim\n",
    "\n",
    "# skim(df)"
   ]
  },
  {
   "cell_type": "code",
   "execution_count": 18,
   "metadata": {},
   "outputs": [],
   "source": [
    "# # Second Method\n",
    "\n",
    "# df[\"Comfort_Convenience\"] = df[\"\\nComfort & Convenience\\n\"]\n",
    "# df[\"Entertainment_Media\"] = df[\"\\nEntertainment & Media\\n\"]\n",
    "# df[\"Extras\"] = df[\"\\nExtras\\n\"]\n",
    "# df[\"Safety_Security\"] = df[\"\\nSafety & Security\\n\"]\n",
    "\n",
    "# drop_columns = [\"\\nComfort & Convenience\\n\", \"\\nEntertainment & Media\\n\", \"\\nExtras\\n\", \"\\nSafety & Security\\n\"]\n",
    "\n",
    "# df.drop(drop_columns, axis=1, inplace=True)"
   ]
  },
  {
   "cell_type": "code",
   "execution_count": 19,
   "metadata": {},
   "outputs": [],
   "source": [
    "# # Third Method\n",
    "\n",
    "# df.rename(columns={\"\\nComfort & Convenience\\n\": \"Comfort_Convenience\",\n",
    "#                    \"\\nEntertainment & Media\\n\":\"Entertainment_Media\",\n",
    "#                    \"\\nExtras\\n\":\"Extras\",\n",
    "#                    \"\\nSafety & Security\\n\":\"Safety_Security\"}, \n",
    "#                     .,\n",
    "#                     .,\n",
    "#                     .,\n",
    "#                     inplace=True)\n",
    "\n",
    "# df.head(3)"
   ]
  },
  {
   "cell_type": "code",
   "execution_count": 20,
   "metadata": {},
   "outputs": [
    {
     "name": "stdout",
     "output_type": "stream",
     "text": [
      "<class 'pandas.core.frame.DataFrame'>\n",
      "RangeIndex: 29480 entries, 0 to 29479\n",
      "Data columns (total 58 columns):\n",
      " #   Column                   Non-Null Count  Dtype  \n",
      "---  ------                   --------------  -----  \n",
      " 0   make_model               28630 non-null  object \n",
      " 1   short_description        28630 non-null  object \n",
      " 2   make                     28630 non-null  object \n",
      " 3   model                    28630 non-null  object \n",
      " 4   location                 28630 non-null  object \n",
      " 5   price                    28630 non-null  object \n",
      " 6   body_type                28630 non-null  object \n",
      " 7   type                     28630 non-null  object \n",
      " 8   doors                    28271 non-null  object \n",
      " 9   country_version          16889 non-null  object \n",
      " 10  offer_number             23100 non-null  object \n",
      " 11  warranty                 15784 non-null  object \n",
      " 12  mileage                  28629 non-null  object \n",
      " 13  first_registration       28628 non-null  object \n",
      " 14  gearbox                  28382 non-null  object \n",
      " 15  fuel_type                26843 non-null  object \n",
      " 16  colour                   26906 non-null  object \n",
      " 17  paint                    14495 non-null  object \n",
      " 18  desc                     28047 non-null  object \n",
      " 19  seller                   28630 non-null  object \n",
      " 20  seats                    25505 non-null  object \n",
      " 21  power                    28058 non-null  object \n",
      " 22  engine_size              27227 non-null  object \n",
      " 23  gears                    18954 non-null  object \n",
      " 24  co_emissions             18594 non-null  object \n",
      " 25  manufacturer_colour      21787 non-null  object \n",
      " 26  drivetrain               16893 non-null  object \n",
      " 27  cylinders                18852 non-null  object \n",
      " 28  fuel_consumption         23385 non-null  object \n",
      " 29  comfort_&_convenience    25433 non-null  object \n",
      " 30  entertainment_&_media    23644 non-null  object \n",
      " 31  safety_&_security        25415 non-null  object \n",
      " 32  extras                   23480 non-null  object \n",
      " 33  empty_weight             17758 non-null  object \n",
      " 34  model_code               8367 non-null   object \n",
      " 35  general_inspection       12254 non-null  object \n",
      " 36  last_service             2003 non-null   object \n",
      " 37  full_service_history     12565 non-null  object \n",
      " 38  non_smoker_vehicle       11594 non-null  object \n",
      " 39  emission_class           17859 non-null  object \n",
      " 40  emissions_sticker        9414 non-null   object \n",
      " 41  upholstery_colour        14569 non-null  object \n",
      " 42  upholstery               18610 non-null  object \n",
      " 43  production_date          5908 non-null   float64\n",
      " 44  previous_owner           14015 non-null  object \n",
      " 45  other_fuel_types         2313 non-null   object \n",
      " 46  power_consumption        515 non-null    object \n",
      " 47  energy_efficiency_class  7804 non-null   object \n",
      " 48  co_efficiency            7804 non-null   object \n",
      " 49  fuel_consumption_wltp    100 non-null    object \n",
      " 50  co_emissions_wltp        116 non-null    object \n",
      " 51  available_from           393 non-null    object \n",
      " 52  taxi_or_rental_car       422 non-null    object \n",
      " 53  availability             301 non-null    object \n",
      " 54  last_timing_belt_change  572 non-null    object \n",
      " 55  electric_range_wltp      16 non-null     object \n",
      " 56  power_consumption_wltp   16 non-null     object \n",
      " 57  battery_ownership        7 non-null      object \n",
      "dtypes: float64(1), object(57)\n",
      "memory usage: 13.0+ MB\n"
     ]
    }
   ],
   "source": [
    "df.info()"
   ]
  },
  {
   "cell_type": "code",
   "execution_count": 21,
   "metadata": {},
   "outputs": [
    {
     "data": {
      "text/plain": [
       "(29480, 58)"
      ]
     },
     "execution_count": 21,
     "metadata": {},
     "output_type": "execute_result"
    }
   ],
   "source": [
    "df.shape"
   ]
  },
  {
   "cell_type": "markdown",
   "metadata": {},
   "source": [
    "### The Examination of Missing Values:"
   ]
  },
  {
   "cell_type": "code",
   "execution_count": 22,
   "metadata": {},
   "outputs": [
    {
     "data": {
      "text/plain": [
       "make_model                   850\n",
       "short_description            850\n",
       "make                         850\n",
       "model                        850\n",
       "location                     850\n",
       "price                        850\n",
       "body_type                    850\n",
       "type                         850\n",
       "doors                       1209\n",
       "country_version            12591\n",
       "offer_number                6380\n",
       "warranty                   13696\n",
       "mileage                      851\n",
       "first_registration           852\n",
       "gearbox                     1098\n",
       "fuel_type                   2637\n",
       "colour                      2574\n",
       "paint                      14985\n",
       "desc                        1433\n",
       "seller                       850\n",
       "seats                       3975\n",
       "power                       1422\n",
       "engine_size                 2253\n",
       "gears                      10526\n",
       "co_emissions               10886\n",
       "manufacturer_colour         7693\n",
       "drivetrain                 12587\n",
       "cylinders                  10628\n",
       "fuel_consumption            6095\n",
       "comfort_&_convenience       4047\n",
       "entertainment_&_media       5836\n",
       "safety_&_security           4065\n",
       "extras                      6000\n",
       "empty_weight               11722\n",
       "model_code                 21113\n",
       "general_inspection         17226\n",
       "last_service               27477\n",
       "full_service_history       16915\n",
       "non_smoker_vehicle         17886\n",
       "emission_class             11621\n",
       "emissions_sticker          20066\n",
       "upholstery_colour          14911\n",
       "upholstery                 10870\n",
       "production_date            23572\n",
       "previous_owner             15465\n",
       "other_fuel_types           27167\n",
       "power_consumption          28965\n",
       "energy_efficiency_class    21676\n",
       "co_efficiency              21676\n",
       "fuel_consumption_wltp      29380\n",
       "co_emissions_wltp          29364\n",
       "available_from             29087\n",
       "taxi_or_rental_car         29058\n",
       "availability               29179\n",
       "last_timing_belt_change    28908\n",
       "electric_range_wltp        29464\n",
       "power_consumption_wltp     29464\n",
       "battery_ownership          29473\n",
       "dtype: int64"
      ]
     },
     "execution_count": 22,
     "metadata": {},
     "output_type": "execute_result"
    }
   ],
   "source": [
    "df.isnull().sum()"
   ]
  },
  {
   "cell_type": "code",
   "execution_count": 23,
   "metadata": {},
   "outputs": [
    {
     "data": {
      "text/plain": [
       "make_model                  2.88\n",
       "short_description           2.88\n",
       "make                        2.88\n",
       "model                       2.88\n",
       "location                    2.88\n",
       "price                       2.88\n",
       "body_type                   2.88\n",
       "type                        2.88\n",
       "doors                       4.10\n",
       "country_version            42.71\n",
       "offer_number               21.64\n",
       "warranty                   46.46\n",
       "mileage                     2.89\n",
       "first_registration          2.89\n",
       "gearbox                     3.72\n",
       "fuel_type                   8.95\n",
       "colour                      8.73\n",
       "paint                      50.83\n",
       "desc                        4.86\n",
       "seller                      2.88\n",
       "seats                      13.48\n",
       "power                       4.82\n",
       "engine_size                 7.64\n",
       "gears                      35.71\n",
       "co_emissions               36.93\n",
       "manufacturer_colour        26.10\n",
       "drivetrain                 42.70\n",
       "cylinders                  36.05\n",
       "fuel_consumption           20.68\n",
       "comfort_&_convenience      13.73\n",
       "entertainment_&_media      19.80\n",
       "safety_&_security          13.79\n",
       "extras                     20.35\n",
       "empty_weight               39.76\n",
       "model_code                 71.62\n",
       "general_inspection         58.43\n",
       "last_service               93.21\n",
       "full_service_history       57.38\n",
       "non_smoker_vehicle         60.67\n",
       "emission_class             39.42\n",
       "emissions_sticker          68.07\n",
       "upholstery_colour          50.58\n",
       "upholstery                 36.87\n",
       "production_date            79.96\n",
       "previous_owner             52.46\n",
       "other_fuel_types           92.15\n",
       "power_consumption          98.25\n",
       "energy_efficiency_class    73.53\n",
       "co_efficiency              73.53\n",
       "fuel_consumption_wltp      99.66\n",
       "co_emissions_wltp          99.61\n",
       "available_from             98.67\n",
       "taxi_or_rental_car         98.57\n",
       "availability               98.98\n",
       "last_timing_belt_change    98.06\n",
       "electric_range_wltp        99.95\n",
       "power_consumption_wltp     99.95\n",
       "battery_ownership          99.98\n",
       "dtype: float64"
      ]
     },
     "execution_count": 23,
     "metadata": {},
     "output_type": "execute_result"
    }
   ],
   "source": [
    "round(df.isnull().sum()*100 / df.shape[0],2)"
   ]
  },
  {
   "cell_type": "markdown",
   "metadata": {},
   "source": [
    "**Droping columns that have missing values more than %80.**"
   ]
  },
  {
   "cell_type": "code",
   "execution_count": 24,
   "metadata": {},
   "outputs": [],
   "source": [
    "def df_nans(df, limit):\n",
    "    missing = df.isnull().sum()*100 / df.shape[0]\n",
    "    missing = missing.loc[lambda x : x >= limit]\n",
    "    if missing.empty:\n",
    "        return \"No columns have missing values that exceed the given limit.\"\n",
    "    else:\n",
    "        return missing\n",
    "\n",
    "def show_missing_values(limit):\n",
    "    return df_nans(df, limit)\n",
    "\n",
    "def column_nans(serial):\n",
    "    # display percentage of nans in a Series\n",
    "    return serial.isnull().sum()*100 / serial.shape[0]"
   ]
  },
  {
   "cell_type": "markdown",
   "metadata": {},
   "source": [
    "**What does the code above do?**\n",
    "\n",
    "This code defines three functions that are useful for analyzing missing data in a Pandas DataFrame:\n",
    "\n",
    "df_nans(df, limit): This function takes a Pandas DataFrame df and a percentage limit as inputs and returns a Series that lists the percentage of missing values for each column in the DataFrame that exceeds the given limit. It first calculates the percentage of missing values for each column using the isnull() method, which returns a boolean DataFrame indicating the presence of missing values. The sum() method then sums up the number of missing values for each column, and the resulting Series is divided by the total number of rows in the DataFrame to get the percentage of missing values. Finally, the function filters the resulting Series to include only columns where the percentage of missing values exceeds the given limit.\n",
    "\n",
    "show_missing_values(limit): This function is a wrapper around df_nans() that takes a percentage limit as input and returns the same Series as df_nans(). It simply calls df_nans() with the global DataFrame df as input.\n",
    "\n",
    "column_nans(serial): This function takes a Pandas Series serial as input and returns the percentage of missing values in the Series. It first applies the isnull() method to the Series to get a boolean Series indicating the presence of missing values. The sum() method then sums up the number of missing values in the Series, and the resulting value is divided by the total number of values in the Series to get the percentage of missing values.\n",
    "\n",
    "Overall, these functions provide a convenient way to quickly identify columns or individual Series in a DataFrame that have a high percentage of missing values. They can be useful for data cleaning and preprocessing tasks, as well as for exploratory data analysis."
   ]
  },
  {
   "cell_type": "code",
   "execution_count": 25,
   "metadata": {},
   "outputs": [
    {
     "data": {
      "text/plain": [
       "last_service               93.205563\n",
       "other_fuel_types           92.154003\n",
       "power_consumption          98.253053\n",
       "fuel_consumption_wltp      99.660787\n",
       "co_emissions_wltp          99.606513\n",
       "available_from             98.666893\n",
       "taxi_or_rental_car         98.568521\n",
       "availability               98.978969\n",
       "last_timing_belt_change    98.059701\n",
       "electric_range_wltp        99.945726\n",
       "power_consumption_wltp     99.945726\n",
       "battery_ownership          99.976255\n",
       "dtype: float64"
      ]
     },
     "execution_count": 25,
     "metadata": {},
     "output_type": "execute_result"
    }
   ],
   "source": [
    "df_nans(df, 80)"
   ]
  },
  {
   "cell_type": "code",
   "execution_count": 26,
   "metadata": {},
   "outputs": [
    {
     "data": {
      "text/plain": [
       "last_service               93.205563\n",
       "other_fuel_types           92.154003\n",
       "power_consumption          98.253053\n",
       "fuel_consumption_wltp      99.660787\n",
       "co_emissions_wltp          99.606513\n",
       "available_from             98.666893\n",
       "taxi_or_rental_car         98.568521\n",
       "availability               98.978969\n",
       "last_timing_belt_change    98.059701\n",
       "electric_range_wltp        99.945726\n",
       "power_consumption_wltp     99.945726\n",
       "battery_ownership          99.976255\n",
       "dtype: float64"
      ]
     },
     "execution_count": 26,
     "metadata": {},
     "output_type": "execute_result"
    }
   ],
   "source": [
    "show_missing_values(80)"
   ]
  },
  {
   "cell_type": "markdown",
   "metadata": {},
   "source": [
    "**Let us cross-check one of the columns involving missing values:**"
   ]
  },
  {
   "cell_type": "code",
   "execution_count": 27,
   "metadata": {},
   "outputs": [
    {
     "data": {
      "text/plain": [
       "99.94572591587517"
      ]
     },
     "execution_count": 27,
     "metadata": {},
     "output_type": "execute_result"
    }
   ],
   "source": [
    "column_nans(df[\"power_consumption_wltp\"])"
   ]
  },
  {
   "cell_type": "markdown",
   "metadata": {},
   "source": [
    "**Let us assign the features having missing values more than 80% to an object named ``drop_columns`` and drop them from the DataFrame:** "
   ]
  },
  {
   "cell_type": "code",
   "execution_count": 28,
   "metadata": {},
   "outputs": [
    {
     "data": {
      "text/plain": [
       "Index(['last_service', 'other_fuel_types', 'power_consumption',\n",
       "       'fuel_consumption_wltp', 'co_emissions_wltp', 'available_from',\n",
       "       'taxi_or_rental_car', 'availability', 'last_timing_belt_change',\n",
       "       'electric_range_wltp', 'power_consumption_wltp', 'battery_ownership'],\n",
       "      dtype='object')"
      ]
     },
     "execution_count": 28,
     "metadata": {},
     "output_type": "execute_result"
    }
   ],
   "source": [
    "drop_columns = df_nans(df, 80).index\n",
    "drop_columns"
   ]
  },
  {
   "cell_type": "code",
   "execution_count": 29,
   "metadata": {},
   "outputs": [
    {
     "data": {
      "text/plain": [
       "(29480, 58)"
      ]
     },
     "metadata": {},
     "output_type": "display_data"
    },
    {
     "data": {
      "text/plain": [
       "(29480, 46)"
      ]
     },
     "metadata": {},
     "output_type": "display_data"
    }
   ],
   "source": [
    "display(df.shape)\n",
    "df.drop(drop_columns, axis=1, inplace=True)\n",
    "display(df.shape)"
   ]
  },
  {
   "cell_type": "code",
   "execution_count": 30,
   "metadata": {
    "scrolled": false
   },
   "outputs": [
    {
     "name": "stdout",
     "output_type": "stream",
     "text": [
      "<class 'pandas.core.frame.DataFrame'>\n",
      "RangeIndex: 29480 entries, 0 to 29479\n",
      "Data columns (total 46 columns):\n",
      " #   Column                   Non-Null Count  Dtype  \n",
      "---  ------                   --------------  -----  \n",
      " 0   make_model               28630 non-null  object \n",
      " 1   short_description        28630 non-null  object \n",
      " 2   make                     28630 non-null  object \n",
      " 3   model                    28630 non-null  object \n",
      " 4   location                 28630 non-null  object \n",
      " 5   price                    28630 non-null  object \n",
      " 6   body_type                28630 non-null  object \n",
      " 7   type                     28630 non-null  object \n",
      " 8   doors                    28271 non-null  object \n",
      " 9   country_version          16889 non-null  object \n",
      " 10  offer_number             23100 non-null  object \n",
      " 11  warranty                 15784 non-null  object \n",
      " 12  mileage                  28629 non-null  object \n",
      " 13  first_registration       28628 non-null  object \n",
      " 14  gearbox                  28382 non-null  object \n",
      " 15  fuel_type                26843 non-null  object \n",
      " 16  colour                   26906 non-null  object \n",
      " 17  paint                    14495 non-null  object \n",
      " 18  desc                     28047 non-null  object \n",
      " 19  seller                   28630 non-null  object \n",
      " 20  seats                    25505 non-null  object \n",
      " 21  power                    28058 non-null  object \n",
      " 22  engine_size              27227 non-null  object \n",
      " 23  gears                    18954 non-null  object \n",
      " 24  co_emissions             18594 non-null  object \n",
      " 25  manufacturer_colour      21787 non-null  object \n",
      " 26  drivetrain               16893 non-null  object \n",
      " 27  cylinders                18852 non-null  object \n",
      " 28  fuel_consumption         23385 non-null  object \n",
      " 29  comfort_&_convenience    25433 non-null  object \n",
      " 30  entertainment_&_media    23644 non-null  object \n",
      " 31  safety_&_security        25415 non-null  object \n",
      " 32  extras                   23480 non-null  object \n",
      " 33  empty_weight             17758 non-null  object \n",
      " 34  model_code               8367 non-null   object \n",
      " 35  general_inspection       12254 non-null  object \n",
      " 36  full_service_history     12565 non-null  object \n",
      " 37  non_smoker_vehicle       11594 non-null  object \n",
      " 38  emission_class           17859 non-null  object \n",
      " 39  emissions_sticker        9414 non-null   object \n",
      " 40  upholstery_colour        14569 non-null  object \n",
      " 41  upholstery               18610 non-null  object \n",
      " 42  production_date          5908 non-null   float64\n",
      " 43  previous_owner           14015 non-null  object \n",
      " 44  energy_efficiency_class  7804 non-null   object \n",
      " 45  co_efficiency            7804 non-null   object \n",
      "dtypes: float64(1), object(45)\n",
      "memory usage: 10.3+ MB\n"
     ]
    }
   ],
   "source": [
    "df.info()"
   ]
  },
  {
   "cell_type": "markdown",
   "metadata": {},
   "source": [
    "### The Examination of Duplicated Values:"
   ]
  },
  {
   "cell_type": "code",
   "execution_count": 31,
   "metadata": {},
   "outputs": [
    {
     "data": {
      "text/plain": [
       "4384"
      ]
     },
     "execution_count": 31,
     "metadata": {},
     "output_type": "execute_result"
    }
   ],
   "source": [
    "# df.duplicated()\n",
    "# Gives TypeError: unhashable type: 'list'\n",
    "\n",
    "df.astype(str).duplicated(keep=False).sum()"
   ]
  },
  {
   "cell_type": "markdown",
   "metadata": {},
   "source": [
    "**Why does df.duplicated() gives ``TypeError: unhashable type``:**\n",
    "\n",
    "The ``TypeError: unhashable type``: 'list' error occurs when you try to use a list as a key in a dictionary or as an element in a set. In the case of df.duplicated(), this error can occur if the DataFrame df contains columns with lists as elements.\n"
   ]
  },
  {
   "cell_type": "code",
   "execution_count": 32,
   "metadata": {
    "scrolled": false
   },
   "outputs": [
    {
     "data": {
      "text/html": [
       "<div>\n",
       "<style scoped>\n",
       "    .dataframe tbody tr th:only-of-type {\n",
       "        vertical-align: middle;\n",
       "    }\n",
       "\n",
       "    .dataframe tbody tr th {\n",
       "        vertical-align: top;\n",
       "    }\n",
       "\n",
       "    .dataframe thead th {\n",
       "        text-align: right;\n",
       "    }\n",
       "</style>\n",
       "<table border=\"1\" class=\"dataframe\">\n",
       "  <thead>\n",
       "    <tr style=\"text-align: right;\">\n",
       "      <th></th>\n",
       "      <th>make_model</th>\n",
       "      <th>short_description</th>\n",
       "      <th>make</th>\n",
       "      <th>model</th>\n",
       "      <th>location</th>\n",
       "      <th>price</th>\n",
       "      <th>body_type</th>\n",
       "      <th>type</th>\n",
       "      <th>doors</th>\n",
       "      <th>country_version</th>\n",
       "      <th>...</th>\n",
       "      <th>full_service_history</th>\n",
       "      <th>non_smoker_vehicle</th>\n",
       "      <th>emission_class</th>\n",
       "      <th>emissions_sticker</th>\n",
       "      <th>upholstery_colour</th>\n",
       "      <th>upholstery</th>\n",
       "      <th>production_date</th>\n",
       "      <th>previous_owner</th>\n",
       "      <th>energy_efficiency_class</th>\n",
       "      <th>co_efficiency</th>\n",
       "    </tr>\n",
       "  </thead>\n",
       "  <tbody>\n",
       "    <tr>\n",
       "      <th>579</th>\n",
       "      <td>Mercedes-Benz SLK 200</td>\n",
       "      <td>Kompressor Aut. Cabrio Final Edition</td>\n",
       "      <td>\\nMercedes-Benz\\n</td>\n",
       "      <td>[\\n, SLK 200 ,\\n]</td>\n",
       "      <td>Marienborner Str.  49,  55128 Mainz, DE</td>\n",
       "      <td>€ 15,990.-</td>\n",
       "      <td>[\\n, Convertible, \\n]</td>\n",
       "      <td>[\\n, Used, \\n]</td>\n",
       "      <td>[\\n, 2, \\n]</td>\n",
       "      <td>[\\n, Germany, \\n]</td>\n",
       "      <td>...</td>\n",
       "      <td>NaN</td>\n",
       "      <td>Yes</td>\n",
       "      <td>Euro 4</td>\n",
       "      <td>4 (Green)</td>\n",
       "      <td>Black</td>\n",
       "      <td>Full leather</td>\n",
       "      <td>NaN</td>\n",
       "      <td>[[39,000 km, 05/2003], 1]</td>\n",
       "      <td>NaN</td>\n",
       "      <td>NaN</td>\n",
       "    </tr>\n",
       "    <tr>\n",
       "      <th>580</th>\n",
       "      <td>Mercedes-Benz SLK 200</td>\n",
       "      <td>Kompressor Aut. Cabrio Final Edition</td>\n",
       "      <td>\\nMercedes-Benz\\n</td>\n",
       "      <td>[\\n, SLK 200 ,\\n]</td>\n",
       "      <td>Marienborner Str.  49,  55128 Mainz, DE</td>\n",
       "      <td>€ 15,990.-</td>\n",
       "      <td>[\\n, Convertible, \\n]</td>\n",
       "      <td>[\\n, Used, \\n]</td>\n",
       "      <td>[\\n, 2, \\n]</td>\n",
       "      <td>[\\n, Germany, \\n]</td>\n",
       "      <td>...</td>\n",
       "      <td>NaN</td>\n",
       "      <td>Yes</td>\n",
       "      <td>Euro 4</td>\n",
       "      <td>4 (Green)</td>\n",
       "      <td>Black</td>\n",
       "      <td>Full leather</td>\n",
       "      <td>NaN</td>\n",
       "      <td>[[39,000 km, 05/2003], 1]</td>\n",
       "      <td>NaN</td>\n",
       "      <td>NaN</td>\n",
       "    </tr>\n",
       "    <tr>\n",
       "      <th>610</th>\n",
       "      <td>Mercedes-Benz G 500</td>\n",
       "      <td>Cabrio LORINSER UMBAU/AHK/ELEKTR. SITZE</td>\n",
       "      <td>\\nMercedes-Benz\\n</td>\n",
       "      <td>[\\n, G 500 ,\\n]</td>\n",
       "      <td>Alte Bundesstr. 45,  71332 Waiblingen, DE</td>\n",
       "      <td>€ 209,000.-</td>\n",
       "      <td>[\\n, Convertible, \\n]</td>\n",
       "      <td>[\\n, Used, \\n]</td>\n",
       "      <td>[\\n, 3, \\n]</td>\n",
       "      <td>NaN</td>\n",
       "      <td>...</td>\n",
       "      <td>Yes</td>\n",
       "      <td>Yes</td>\n",
       "      <td>Euro 4</td>\n",
       "      <td>4 (Green)</td>\n",
       "      <td>Black</td>\n",
       "      <td>Full leather</td>\n",
       "      <td>1999.0</td>\n",
       "      <td>[[172,000 km, 02/1999], 2]</td>\n",
       "      <td>G</td>\n",
       "      <td>Calculated on basis of measured CO₂-emissions ...</td>\n",
       "    </tr>\n",
       "    <tr>\n",
       "      <th>613</th>\n",
       "      <td>Mercedes-Benz G 500</td>\n",
       "      <td>Cabrio LORINSER UMBAU/AHK/ELEKTR. SITZE</td>\n",
       "      <td>\\nMercedes-Benz\\n</td>\n",
       "      <td>[\\n, G 500 ,\\n]</td>\n",
       "      <td>Alte Bundesstr. 45,  71332 Waiblingen, DE</td>\n",
       "      <td>€ 209,000.-</td>\n",
       "      <td>[\\n, Convertible, \\n]</td>\n",
       "      <td>[\\n, Used, \\n]</td>\n",
       "      <td>[\\n, 3, \\n]</td>\n",
       "      <td>NaN</td>\n",
       "      <td>...</td>\n",
       "      <td>Yes</td>\n",
       "      <td>Yes</td>\n",
       "      <td>Euro 4</td>\n",
       "      <td>4 (Green)</td>\n",
       "      <td>Black</td>\n",
       "      <td>Full leather</td>\n",
       "      <td>1999.0</td>\n",
       "      <td>[[172,000 km, 02/1999], 2]</td>\n",
       "      <td>G</td>\n",
       "      <td>Calculated on basis of measured CO₂-emissions ...</td>\n",
       "    </tr>\n",
       "    <tr>\n",
       "      <th>839</th>\n",
       "      <td>Mercedes-Benz CLA 45 AMG</td>\n",
       "      <td>4Matic*KAMERA*NAVI*LED*DESIGNO*SHZ*</td>\n",
       "      <td>\\nMercedes-Benz\\n</td>\n",
       "      <td>[\\n, CLA 45 AMG ,\\n]</td>\n",
       "      <td>Aidlinger Straße 16 - 18,  71069 Sindelfingen-...</td>\n",
       "      <td>€ 33,890.-</td>\n",
       "      <td>[\\n, Coupe, \\n]</td>\n",
       "      <td>[\\n, Used, \\n]</td>\n",
       "      <td>[\\n, 4, \\n]</td>\n",
       "      <td>[\\n, Germany, \\n]</td>\n",
       "      <td>...</td>\n",
       "      <td>Yes</td>\n",
       "      <td>Yes</td>\n",
       "      <td>Euro 6</td>\n",
       "      <td>4 (Green)</td>\n",
       "      <td>Black</td>\n",
       "      <td>alcantara</td>\n",
       "      <td>NaN</td>\n",
       "      <td>[[76,900 km, 08/2016], 2]</td>\n",
       "      <td>NaN</td>\n",
       "      <td>NaN</td>\n",
       "    </tr>\n",
       "    <tr>\n",
       "      <th>...</th>\n",
       "      <td>...</td>\n",
       "      <td>...</td>\n",
       "      <td>...</td>\n",
       "      <td>...</td>\n",
       "      <td>...</td>\n",
       "      <td>...</td>\n",
       "      <td>...</td>\n",
       "      <td>...</td>\n",
       "      <td>...</td>\n",
       "      <td>...</td>\n",
       "      <td>...</td>\n",
       "      <td>...</td>\n",
       "      <td>...</td>\n",
       "      <td>...</td>\n",
       "      <td>...</td>\n",
       "      <td>...</td>\n",
       "      <td>...</td>\n",
       "      <td>...</td>\n",
       "      <td>...</td>\n",
       "      <td>...</td>\n",
       "      <td>...</td>\n",
       "    </tr>\n",
       "    <tr>\n",
       "      <th>29441</th>\n",
       "      <td>Volvo V40</td>\n",
       "      <td>D3 150ch R-Design Geartronic</td>\n",
       "      <td>\\nVolvo\\n</td>\n",
       "      <td>[\\n, V40 ,\\n]</td>\n",
       "      <td>19 rue des Alliés,  57050 Metz, FR</td>\n",
       "      <td>€ 18,999.-</td>\n",
       "      <td>[\\n, Sedan, \\n]</td>\n",
       "      <td>[\\n, Used, \\n]</td>\n",
       "      <td>[\\n, 5, \\n]</td>\n",
       "      <td>NaN</td>\n",
       "      <td>...</td>\n",
       "      <td>NaN</td>\n",
       "      <td>NaN</td>\n",
       "      <td>NaN</td>\n",
       "      <td>NaN</td>\n",
       "      <td>NaN</td>\n",
       "      <td>NaN</td>\n",
       "      <td>NaN</td>\n",
       "      <td>NaN</td>\n",
       "      <td>NaN</td>\n",
       "      <td>NaN</td>\n",
       "    </tr>\n",
       "    <tr>\n",
       "      <th>29445</th>\n",
       "      <td>NaN</td>\n",
       "      <td>NaN</td>\n",
       "      <td>NaN</td>\n",
       "      <td>NaN</td>\n",
       "      <td>NaN</td>\n",
       "      <td>NaN</td>\n",
       "      <td>NaN</td>\n",
       "      <td>NaN</td>\n",
       "      <td>NaN</td>\n",
       "      <td>NaN</td>\n",
       "      <td>...</td>\n",
       "      <td>NaN</td>\n",
       "      <td>NaN</td>\n",
       "      <td>NaN</td>\n",
       "      <td>NaN</td>\n",
       "      <td>NaN</td>\n",
       "      <td>NaN</td>\n",
       "      <td>NaN</td>\n",
       "      <td>NaN</td>\n",
       "      <td>NaN</td>\n",
       "      <td>NaN</td>\n",
       "    </tr>\n",
       "    <tr>\n",
       "      <th>29451</th>\n",
       "      <td>NaN</td>\n",
       "      <td>NaN</td>\n",
       "      <td>NaN</td>\n",
       "      <td>NaN</td>\n",
       "      <td>NaN</td>\n",
       "      <td>NaN</td>\n",
       "      <td>NaN</td>\n",
       "      <td>NaN</td>\n",
       "      <td>NaN</td>\n",
       "      <td>NaN</td>\n",
       "      <td>...</td>\n",
       "      <td>NaN</td>\n",
       "      <td>NaN</td>\n",
       "      <td>NaN</td>\n",
       "      <td>NaN</td>\n",
       "      <td>NaN</td>\n",
       "      <td>NaN</td>\n",
       "      <td>NaN</td>\n",
       "      <td>NaN</td>\n",
       "      <td>NaN</td>\n",
       "      <td>NaN</td>\n",
       "    </tr>\n",
       "    <tr>\n",
       "      <th>29473</th>\n",
       "      <td>NaN</td>\n",
       "      <td>NaN</td>\n",
       "      <td>NaN</td>\n",
       "      <td>NaN</td>\n",
       "      <td>NaN</td>\n",
       "      <td>NaN</td>\n",
       "      <td>NaN</td>\n",
       "      <td>NaN</td>\n",
       "      <td>NaN</td>\n",
       "      <td>NaN</td>\n",
       "      <td>...</td>\n",
       "      <td>NaN</td>\n",
       "      <td>NaN</td>\n",
       "      <td>NaN</td>\n",
       "      <td>NaN</td>\n",
       "      <td>NaN</td>\n",
       "      <td>NaN</td>\n",
       "      <td>NaN</td>\n",
       "      <td>NaN</td>\n",
       "      <td>NaN</td>\n",
       "      <td>NaN</td>\n",
       "    </tr>\n",
       "    <tr>\n",
       "      <th>29479</th>\n",
       "      <td>NaN</td>\n",
       "      <td>NaN</td>\n",
       "      <td>NaN</td>\n",
       "      <td>NaN</td>\n",
       "      <td>NaN</td>\n",
       "      <td>NaN</td>\n",
       "      <td>NaN</td>\n",
       "      <td>NaN</td>\n",
       "      <td>NaN</td>\n",
       "      <td>NaN</td>\n",
       "      <td>...</td>\n",
       "      <td>NaN</td>\n",
       "      <td>NaN</td>\n",
       "      <td>NaN</td>\n",
       "      <td>NaN</td>\n",
       "      <td>NaN</td>\n",
       "      <td>NaN</td>\n",
       "      <td>NaN</td>\n",
       "      <td>NaN</td>\n",
       "      <td>NaN</td>\n",
       "      <td>NaN</td>\n",
       "    </tr>\n",
       "  </tbody>\n",
       "</table>\n",
       "<p>4384 rows × 46 columns</p>\n",
       "</div>"
      ],
      "text/plain": [
       "                     make_model                        short_description  \\\n",
       "579       Mercedes-Benz SLK 200     Kompressor Aut. Cabrio Final Edition   \n",
       "580       Mercedes-Benz SLK 200     Kompressor Aut. Cabrio Final Edition   \n",
       "610         Mercedes-Benz G 500  Cabrio LORINSER UMBAU/AHK/ELEKTR. SITZE   \n",
       "613         Mercedes-Benz G 500  Cabrio LORINSER UMBAU/AHK/ELEKTR. SITZE   \n",
       "839    Mercedes-Benz CLA 45 AMG      4Matic*KAMERA*NAVI*LED*DESIGNO*SHZ*   \n",
       "...                         ...                                      ...   \n",
       "29441                 Volvo V40             D3 150ch R-Design Geartronic   \n",
       "29445                       NaN                                      NaN   \n",
       "29451                       NaN                                      NaN   \n",
       "29473                       NaN                                      NaN   \n",
       "29479                       NaN                                      NaN   \n",
       "\n",
       "                    make                 model  \\\n",
       "579    \\nMercedes-Benz\\n     [\\n, SLK 200 ,\\n]   \n",
       "580    \\nMercedes-Benz\\n     [\\n, SLK 200 ,\\n]   \n",
       "610    \\nMercedes-Benz\\n       [\\n, G 500 ,\\n]   \n",
       "613    \\nMercedes-Benz\\n       [\\n, G 500 ,\\n]   \n",
       "839    \\nMercedes-Benz\\n  [\\n, CLA 45 AMG ,\\n]   \n",
       "...                  ...                   ...   \n",
       "29441          \\nVolvo\\n         [\\n, V40 ,\\n]   \n",
       "29445                NaN                   NaN   \n",
       "29451                NaN                   NaN   \n",
       "29473                NaN                   NaN   \n",
       "29479                NaN                   NaN   \n",
       "\n",
       "                                                location        price  \\\n",
       "579              Marienborner Str.  49,  55128 Mainz, DE   € 15,990.-   \n",
       "580              Marienborner Str.  49,  55128 Mainz, DE   € 15,990.-   \n",
       "610            Alte Bundesstr. 45,  71332 Waiblingen, DE  € 209,000.-   \n",
       "613            Alte Bundesstr. 45,  71332 Waiblingen, DE  € 209,000.-   \n",
       "839    Aidlinger Straße 16 - 18,  71069 Sindelfingen-...   € 33,890.-   \n",
       "...                                                  ...          ...   \n",
       "29441                 19 rue des Alliés,  57050 Metz, FR   € 18,999.-   \n",
       "29445                                                NaN          NaN   \n",
       "29451                                                NaN          NaN   \n",
       "29473                                                NaN          NaN   \n",
       "29479                                                NaN          NaN   \n",
       "\n",
       "                   body_type            type        doors    country_version  \\\n",
       "579    [\\n, Convertible, \\n]  [\\n, Used, \\n]  [\\n, 2, \\n]  [\\n, Germany, \\n]   \n",
       "580    [\\n, Convertible, \\n]  [\\n, Used, \\n]  [\\n, 2, \\n]  [\\n, Germany, \\n]   \n",
       "610    [\\n, Convertible, \\n]  [\\n, Used, \\n]  [\\n, 3, \\n]                NaN   \n",
       "613    [\\n, Convertible, \\n]  [\\n, Used, \\n]  [\\n, 3, \\n]                NaN   \n",
       "839          [\\n, Coupe, \\n]  [\\n, Used, \\n]  [\\n, 4, \\n]  [\\n, Germany, \\n]   \n",
       "...                      ...             ...          ...                ...   \n",
       "29441        [\\n, Sedan, \\n]  [\\n, Used, \\n]  [\\n, 5, \\n]                NaN   \n",
       "29445                    NaN             NaN          NaN                NaN   \n",
       "29451                    NaN             NaN          NaN                NaN   \n",
       "29473                    NaN             NaN          NaN                NaN   \n",
       "29479                    NaN             NaN          NaN                NaN   \n",
       "\n",
       "       ... full_service_history non_smoker_vehicle emission_class  \\\n",
       "579    ...                  NaN                Yes         Euro 4   \n",
       "580    ...                  NaN                Yes         Euro 4   \n",
       "610    ...                  Yes                Yes         Euro 4   \n",
       "613    ...                  Yes                Yes         Euro 4   \n",
       "839    ...                  Yes                Yes         Euro 6   \n",
       "...    ...                  ...                ...            ...   \n",
       "29441  ...                  NaN                NaN            NaN   \n",
       "29445  ...                  NaN                NaN            NaN   \n",
       "29451  ...                  NaN                NaN            NaN   \n",
       "29473  ...                  NaN                NaN            NaN   \n",
       "29479  ...                  NaN                NaN            NaN   \n",
       "\n",
       "      emissions_sticker upholstery_colour    upholstery production_date  \\\n",
       "579           4 (Green)             Black  Full leather             NaN   \n",
       "580           4 (Green)             Black  Full leather             NaN   \n",
       "610           4 (Green)             Black  Full leather          1999.0   \n",
       "613           4 (Green)             Black  Full leather          1999.0   \n",
       "839           4 (Green)             Black     alcantara             NaN   \n",
       "...                 ...               ...           ...             ...   \n",
       "29441               NaN               NaN           NaN             NaN   \n",
       "29445               NaN               NaN           NaN             NaN   \n",
       "29451               NaN               NaN           NaN             NaN   \n",
       "29473               NaN               NaN           NaN             NaN   \n",
       "29479               NaN               NaN           NaN             NaN   \n",
       "\n",
       "                   previous_owner energy_efficiency_class  \\\n",
       "579     [[39,000 km, 05/2003], 1]                     NaN   \n",
       "580     [[39,000 km, 05/2003], 1]                     NaN   \n",
       "610    [[172,000 km, 02/1999], 2]                       G   \n",
       "613    [[172,000 km, 02/1999], 2]                       G   \n",
       "839     [[76,900 km, 08/2016], 2]                     NaN   \n",
       "...                           ...                     ...   \n",
       "29441                         NaN                     NaN   \n",
       "29445                         NaN                     NaN   \n",
       "29451                         NaN                     NaN   \n",
       "29473                         NaN                     NaN   \n",
       "29479                         NaN                     NaN   \n",
       "\n",
       "                                           co_efficiency  \n",
       "579                                                  NaN  \n",
       "580                                                  NaN  \n",
       "610    Calculated on basis of measured CO₂-emissions ...  \n",
       "613    Calculated on basis of measured CO₂-emissions ...  \n",
       "839                                                  NaN  \n",
       "...                                                  ...  \n",
       "29441                                                NaN  \n",
       "29445                                                NaN  \n",
       "29451                                                NaN  \n",
       "29473                                                NaN  \n",
       "29479                                                NaN  \n",
       "\n",
       "[4384 rows x 46 columns]"
      ]
     },
     "execution_count": 32,
     "metadata": {},
     "output_type": "execute_result"
    }
   ],
   "source": [
    "df[df.astype(str).duplicated(keep=False)]"
   ]
  },
  {
   "cell_type": "code",
   "execution_count": 33,
   "metadata": {},
   "outputs": [
    {
     "data": {
      "text/plain": [
       "Volvo C70              690\n",
       "Volvo V40              678\n",
       "Volvo XC60             350\n",
       "Volvo V60              308\n",
       "Volvo C30              228\n",
       "                      ... \n",
       "Mercedes-Benz V 250      2\n",
       "Toyota Camry             2\n",
       "Toyota Avensis           2\n",
       "Mercedes-Benz S 500      2\n",
       "Volvo 945                2\n",
       "Name: make_model, Length: 198, dtype: int64"
      ]
     },
     "execution_count": 33,
     "metadata": {},
     "output_type": "execute_result"
    }
   ],
   "source": [
    "df[df.astype(str).duplicated(['make_model', 'short_description', 'location'], keep=False)]['make_model'].value_counts(dropna=True)"
   ]
  },
  {
   "cell_type": "code",
   "execution_count": 34,
   "metadata": {
    "scrolled": false
   },
   "outputs": [
    {
     "data": {
      "text/html": [
       "<div>\n",
       "<style scoped>\n",
       "    .dataframe tbody tr th:only-of-type {\n",
       "        vertical-align: middle;\n",
       "    }\n",
       "\n",
       "    .dataframe tbody tr th {\n",
       "        vertical-align: top;\n",
       "    }\n",
       "\n",
       "    .dataframe thead th {\n",
       "        text-align: right;\n",
       "    }\n",
       "</style>\n",
       "<table border=\"1\" class=\"dataframe\">\n",
       "  <thead>\n",
       "    <tr style=\"text-align: right;\">\n",
       "      <th></th>\n",
       "      <th>make_model</th>\n",
       "      <th>short_description</th>\n",
       "      <th>make</th>\n",
       "      <th>model</th>\n",
       "      <th>location</th>\n",
       "      <th>price</th>\n",
       "      <th>body_type</th>\n",
       "      <th>type</th>\n",
       "      <th>doors</th>\n",
       "      <th>country_version</th>\n",
       "      <th>...</th>\n",
       "      <th>full_service_history</th>\n",
       "      <th>non_smoker_vehicle</th>\n",
       "      <th>emission_class</th>\n",
       "      <th>emissions_sticker</th>\n",
       "      <th>upholstery_colour</th>\n",
       "      <th>upholstery</th>\n",
       "      <th>production_date</th>\n",
       "      <th>previous_owner</th>\n",
       "      <th>energy_efficiency_class</th>\n",
       "      <th>co_efficiency</th>\n",
       "    </tr>\n",
       "  </thead>\n",
       "  <tbody>\n",
       "    <tr>\n",
       "      <th>26470</th>\n",
       "      <td>Volvo C70</td>\n",
       "      <td>T5 Summum</td>\n",
       "      <td>\\nVolvo\\n</td>\n",
       "      <td>[\\n, C70 ,\\n]</td>\n",
       "      <td>RIO ULLA 15,  28017 MADRID, ES</td>\n",
       "      <td>€ 11,999.-</td>\n",
       "      <td>[\\n, Convertible, \\n]</td>\n",
       "      <td>[\\n, Used, \\n]</td>\n",
       "      <td>[\\n, 2, \\n]</td>\n",
       "      <td>[\\n, Spain, \\n]</td>\n",
       "      <td>...</td>\n",
       "      <td>NaN</td>\n",
       "      <td>NaN</td>\n",
       "      <td>NaN</td>\n",
       "      <td>NaN</td>\n",
       "      <td>NaN</td>\n",
       "      <td>NaN</td>\n",
       "      <td>NaN</td>\n",
       "      <td>NaN</td>\n",
       "      <td>NaN</td>\n",
       "      <td>NaN</td>\n",
       "    </tr>\n",
       "    <tr>\n",
       "      <th>26471</th>\n",
       "      <td>Volvo C70</td>\n",
       "      <td>2.4i Momentum</td>\n",
       "      <td>\\nVolvo\\n</td>\n",
       "      <td>[\\n, C70 ,\\n]</td>\n",
       "      <td>Auf dem Sand 28,  40721 Hilden, DE</td>\n",
       "      <td>€ 11,880.-</td>\n",
       "      <td>[\\n, Convertible, \\n]</td>\n",
       "      <td>[\\n, Used, \\n]</td>\n",
       "      <td>[\\n, 2, \\n]</td>\n",
       "      <td>[\\n, Germany, \\n]</td>\n",
       "      <td>...</td>\n",
       "      <td>Yes</td>\n",
       "      <td>NaN</td>\n",
       "      <td>Euro 4</td>\n",
       "      <td>4 (Green)</td>\n",
       "      <td>Beige</td>\n",
       "      <td>Part leather</td>\n",
       "      <td>NaN</td>\n",
       "      <td>[[155,923 km, 08/2006], 2]</td>\n",
       "      <td>F</td>\n",
       "      <td>Calculated on basis of measured CO₂-emissions ...</td>\n",
       "    </tr>\n",
       "    <tr>\n",
       "      <th>26472</th>\n",
       "      <td>Volvo C70</td>\n",
       "      <td>2.5T 220PS Cabriolet T5 Summum 1.Hand Xenon</td>\n",
       "      <td>\\nVolvo\\n</td>\n",
       "      <td>[\\n, C70 ,\\n]</td>\n",
       "      <td>Lichterfelder Allee 14,  14513 Teltow, DE</td>\n",
       "      <td>€ 20,999.-</td>\n",
       "      <td>[\\n, Convertible, \\n]</td>\n",
       "      <td>[\\n, Used, \\n]</td>\n",
       "      <td>[\\n, 2, \\n]</td>\n",
       "      <td>[\\n, Germany, \\n]</td>\n",
       "      <td>...</td>\n",
       "      <td>Yes</td>\n",
       "      <td>Yes</td>\n",
       "      <td>Euro 4</td>\n",
       "      <td>4 (Green)</td>\n",
       "      <td>Grey</td>\n",
       "      <td>Full leather</td>\n",
       "      <td>NaN</td>\n",
       "      <td>[[69,747 km, 05/2007], 1]</td>\n",
       "      <td>NaN</td>\n",
       "      <td>NaN</td>\n",
       "    </tr>\n",
       "    <tr>\n",
       "      <th>26473</th>\n",
       "      <td>Volvo C70</td>\n",
       "      <td>2.0 D3 150PS Cabriolet Momentum Automatik</td>\n",
       "      <td>\\nVolvo\\n</td>\n",
       "      <td>[\\n, C70 ,\\n]</td>\n",
       "      <td>Lichterfelder Allee 14,  14513 Teltow, DE</td>\n",
       "      <td>€ 14,999.-</td>\n",
       "      <td>[\\n, Convertible, \\n]</td>\n",
       "      <td>[\\n, Used, \\n]</td>\n",
       "      <td>[\\n, 2, \\n]</td>\n",
       "      <td>[\\n, Germany, \\n]</td>\n",
       "      <td>...</td>\n",
       "      <td>Yes</td>\n",
       "      <td>Yes</td>\n",
       "      <td>Euro 5</td>\n",
       "      <td>4 (Green)</td>\n",
       "      <td>Black</td>\n",
       "      <td>Part leather</td>\n",
       "      <td>NaN</td>\n",
       "      <td>[[146,348 km, 10/2011], 1]</td>\n",
       "      <td>NaN</td>\n",
       "      <td>NaN</td>\n",
       "    </tr>\n",
       "    <tr>\n",
       "      <th>26474</th>\n",
       "      <td>Volvo C70</td>\n",
       "      <td>2.0D SUMMUM</td>\n",
       "      <td>\\nVolvo\\n</td>\n",
       "      <td>[\\n, C70 ,\\n]</td>\n",
       "      <td>POL. IND. DE CROSS 39600 SANTANDER CANTABRIA E...</td>\n",
       "      <td>€ 9,900.-</td>\n",
       "      <td>[\\n, Convertible, \\n]</td>\n",
       "      <td>[\\n, Used, \\n]</td>\n",
       "      <td>[\\n, 2, \\n]</td>\n",
       "      <td>[\\n, Spain, \\n]</td>\n",
       "      <td>...</td>\n",
       "      <td>NaN</td>\n",
       "      <td>NaN</td>\n",
       "      <td>NaN</td>\n",
       "      <td>NaN</td>\n",
       "      <td>NaN</td>\n",
       "      <td>NaN</td>\n",
       "      <td>NaN</td>\n",
       "      <td>NaN</td>\n",
       "      <td>NaN</td>\n",
       "      <td>NaN</td>\n",
       "    </tr>\n",
       "    <tr>\n",
       "      <th>...</th>\n",
       "      <td>...</td>\n",
       "      <td>...</td>\n",
       "      <td>...</td>\n",
       "      <td>...</td>\n",
       "      <td>...</td>\n",
       "      <td>...</td>\n",
       "      <td>...</td>\n",
       "      <td>...</td>\n",
       "      <td>...</td>\n",
       "      <td>...</td>\n",
       "      <td>...</td>\n",
       "      <td>...</td>\n",
       "      <td>...</td>\n",
       "      <td>...</td>\n",
       "      <td>...</td>\n",
       "      <td>...</td>\n",
       "      <td>...</td>\n",
       "      <td>...</td>\n",
       "      <td>...</td>\n",
       "      <td>...</td>\n",
       "      <td>...</td>\n",
       "    </tr>\n",
       "    <tr>\n",
       "      <th>27449</th>\n",
       "      <td>Volvo C70</td>\n",
       "      <td>C70 Coupe 2.5 193cv</td>\n",
       "      <td>\\nVolvo\\n</td>\n",
       "      <td>[\\n, C70 ,\\n]</td>\n",
       "      <td>47923 Rimini, IT</td>\n",
       "      <td>€ 7,400.-</td>\n",
       "      <td>[\\n, Coupe, \\n]</td>\n",
       "      <td>[\\n, Used, \\n]</td>\n",
       "      <td>[\\n, 2, \\n]</td>\n",
       "      <td>NaN</td>\n",
       "      <td>...</td>\n",
       "      <td>NaN</td>\n",
       "      <td>Yes</td>\n",
       "      <td>Euro 6</td>\n",
       "      <td>NaN</td>\n",
       "      <td>Grey</td>\n",
       "      <td>Full leather</td>\n",
       "      <td>NaN</td>\n",
       "      <td>NaN</td>\n",
       "      <td>NaN</td>\n",
       "      <td>NaN</td>\n",
       "    </tr>\n",
       "    <tr>\n",
       "      <th>27450</th>\n",
       "      <td>Volvo C70</td>\n",
       "      <td>Coupé 2.0 T Prestige UNIEK!</td>\n",
       "      <td>\\nVolvo\\n</td>\n",
       "      <td>[\\n, C70 ,\\n]</td>\n",
       "      <td>Edisonweg 16a,  2952 AD ALBLASSERDAM, NL</td>\n",
       "      <td>€ 8,950.-</td>\n",
       "      <td>[\\n, Coupe, \\n]</td>\n",
       "      <td>[\\n, Used, \\n]</td>\n",
       "      <td>[\\n, 2, \\n]</td>\n",
       "      <td>NaN</td>\n",
       "      <td>...</td>\n",
       "      <td>Yes</td>\n",
       "      <td>NaN</td>\n",
       "      <td>NaN</td>\n",
       "      <td>NaN</td>\n",
       "      <td>Other</td>\n",
       "      <td>Full leather</td>\n",
       "      <td>NaN</td>\n",
       "      <td>[[118,232 km, 12/2000], 2]</td>\n",
       "      <td>NaN</td>\n",
       "      <td>NaN</td>\n",
       "    </tr>\n",
       "    <tr>\n",
       "      <th>27451</th>\n",
       "      <td>Volvo C70</td>\n",
       "      <td>COUPE' 2000 TURBO T5 226CV</td>\n",
       "      <td>\\nVolvo\\n</td>\n",
       "      <td>[\\n, C70 ,\\n]</td>\n",
       "      <td>41126 Modena, IT</td>\n",
       "      <td>€ 7,500.-</td>\n",
       "      <td>[\\n, Coupe, \\n]</td>\n",
       "      <td>[\\n, Used, \\n]</td>\n",
       "      <td>[\\n, 2, \\n]</td>\n",
       "      <td>NaN</td>\n",
       "      <td>...</td>\n",
       "      <td>Yes</td>\n",
       "      <td>Yes</td>\n",
       "      <td>Euro 3</td>\n",
       "      <td>NaN</td>\n",
       "      <td>Black</td>\n",
       "      <td>Full leather</td>\n",
       "      <td>NaN</td>\n",
       "      <td>[[227,000 km, 02/2000], 1]</td>\n",
       "      <td>NaN</td>\n",
       "      <td>NaN</td>\n",
       "    </tr>\n",
       "    <tr>\n",
       "      <th>27456</th>\n",
       "      <td>Volvo C70</td>\n",
       "      <td>2.5T</td>\n",
       "      <td>\\nVolvo\\n</td>\n",
       "      <td>[\\n, C70 ,\\n]</td>\n",
       "      <td>94051 Hauzenberg, DE</td>\n",
       "      <td>€ 12,500.-</td>\n",
       "      <td>[\\n, Coupe, \\n]</td>\n",
       "      <td>[\\n, Used, \\n]</td>\n",
       "      <td>[\\n, 2, \\n]</td>\n",
       "      <td>NaN</td>\n",
       "      <td>...</td>\n",
       "      <td>Yes</td>\n",
       "      <td>Yes</td>\n",
       "      <td>Euro 3</td>\n",
       "      <td>1 (No sticker)</td>\n",
       "      <td>Beige</td>\n",
       "      <td>Full leather</td>\n",
       "      <td>NaN</td>\n",
       "      <td>[[182,000 km, 11/1998], 1]</td>\n",
       "      <td>NaN</td>\n",
       "      <td>NaN</td>\n",
       "    </tr>\n",
       "    <tr>\n",
       "      <th>27486</th>\n",
       "      <td>Volvo C70</td>\n",
       "      <td>2.0 D Summum</td>\n",
       "      <td>\\nVolvo\\n</td>\n",
       "      <td>[\\n, C70 ,\\n]</td>\n",
       "      <td>Viale della Marina, 59,  00122 Ostia lido - Ro...</td>\n",
       "      <td>€ 9,900.-</td>\n",
       "      <td>[\\n, Coupe, \\n]</td>\n",
       "      <td>[\\n, Used, \\n]</td>\n",
       "      <td>[\\n, 2, \\n]</td>\n",
       "      <td>[\\n, Italy, \\n]</td>\n",
       "      <td>...</td>\n",
       "      <td>NaN</td>\n",
       "      <td>NaN</td>\n",
       "      <td>Euro 4</td>\n",
       "      <td>NaN</td>\n",
       "      <td>Black</td>\n",
       "      <td>Full leather</td>\n",
       "      <td>NaN</td>\n",
       "      <td>[[195,000 km, 07/2008], 2]</td>\n",
       "      <td>NaN</td>\n",
       "      <td>NaN</td>\n",
       "    </tr>\n",
       "  </tbody>\n",
       "</table>\n",
       "<p>692 rows × 46 columns</p>\n",
       "</div>"
      ],
      "text/plain": [
       "      make_model                            short_description       make  \\\n",
       "26470  Volvo C70                                    T5 Summum  \\nVolvo\\n   \n",
       "26471  Volvo C70                                2.4i Momentum  \\nVolvo\\n   \n",
       "26472  Volvo C70  2.5T 220PS Cabriolet T5 Summum 1.Hand Xenon  \\nVolvo\\n   \n",
       "26473  Volvo C70    2.0 D3 150PS Cabriolet Momentum Automatik  \\nVolvo\\n   \n",
       "26474  Volvo C70                                  2.0D SUMMUM  \\nVolvo\\n   \n",
       "...          ...                                          ...        ...   \n",
       "27449  Volvo C70                          C70 Coupe 2.5 193cv  \\nVolvo\\n   \n",
       "27450  Volvo C70                  Coupé 2.0 T Prestige UNIEK!  \\nVolvo\\n   \n",
       "27451  Volvo C70                   COUPE' 2000 TURBO T5 226CV  \\nVolvo\\n   \n",
       "27456  Volvo C70                                         2.5T  \\nVolvo\\n   \n",
       "27486  Volvo C70                                 2.0 D Summum  \\nVolvo\\n   \n",
       "\n",
       "               model                                           location  \\\n",
       "26470  [\\n, C70 ,\\n]                     RIO ULLA 15,  28017 MADRID, ES   \n",
       "26471  [\\n, C70 ,\\n]                 Auf dem Sand 28,  40721 Hilden, DE   \n",
       "26472  [\\n, C70 ,\\n]          Lichterfelder Allee 14,  14513 Teltow, DE   \n",
       "26473  [\\n, C70 ,\\n]          Lichterfelder Allee 14,  14513 Teltow, DE   \n",
       "26474  [\\n, C70 ,\\n]  POL. IND. DE CROSS 39600 SANTANDER CANTABRIA E...   \n",
       "...              ...                                                ...   \n",
       "27449  [\\n, C70 ,\\n]                                   47923 Rimini, IT   \n",
       "27450  [\\n, C70 ,\\n]           Edisonweg 16a,  2952 AD ALBLASSERDAM, NL   \n",
       "27451  [\\n, C70 ,\\n]                                   41126 Modena, IT   \n",
       "27456  [\\n, C70 ,\\n]                               94051 Hauzenberg, DE   \n",
       "27486  [\\n, C70 ,\\n]  Viale della Marina, 59,  00122 Ostia lido - Ro...   \n",
       "\n",
       "            price              body_type            type        doors  \\\n",
       "26470  € 11,999.-  [\\n, Convertible, \\n]  [\\n, Used, \\n]  [\\n, 2, \\n]   \n",
       "26471  € 11,880.-  [\\n, Convertible, \\n]  [\\n, Used, \\n]  [\\n, 2, \\n]   \n",
       "26472  € 20,999.-  [\\n, Convertible, \\n]  [\\n, Used, \\n]  [\\n, 2, \\n]   \n",
       "26473  € 14,999.-  [\\n, Convertible, \\n]  [\\n, Used, \\n]  [\\n, 2, \\n]   \n",
       "26474   € 9,900.-  [\\n, Convertible, \\n]  [\\n, Used, \\n]  [\\n, 2, \\n]   \n",
       "...           ...                    ...             ...          ...   \n",
       "27449   € 7,400.-        [\\n, Coupe, \\n]  [\\n, Used, \\n]  [\\n, 2, \\n]   \n",
       "27450   € 8,950.-        [\\n, Coupe, \\n]  [\\n, Used, \\n]  [\\n, 2, \\n]   \n",
       "27451   € 7,500.-        [\\n, Coupe, \\n]  [\\n, Used, \\n]  [\\n, 2, \\n]   \n",
       "27456  € 12,500.-        [\\n, Coupe, \\n]  [\\n, Used, \\n]  [\\n, 2, \\n]   \n",
       "27486   € 9,900.-        [\\n, Coupe, \\n]  [\\n, Used, \\n]  [\\n, 2, \\n]   \n",
       "\n",
       "         country_version  ... full_service_history non_smoker_vehicle  \\\n",
       "26470    [\\n, Spain, \\n]  ...                  NaN                NaN   \n",
       "26471  [\\n, Germany, \\n]  ...                  Yes                NaN   \n",
       "26472  [\\n, Germany, \\n]  ...                  Yes                Yes   \n",
       "26473  [\\n, Germany, \\n]  ...                  Yes                Yes   \n",
       "26474    [\\n, Spain, \\n]  ...                  NaN                NaN   \n",
       "...                  ...  ...                  ...                ...   \n",
       "27449                NaN  ...                  NaN                Yes   \n",
       "27450                NaN  ...                  Yes                NaN   \n",
       "27451                NaN  ...                  Yes                Yes   \n",
       "27456                NaN  ...                  Yes                Yes   \n",
       "27486    [\\n, Italy, \\n]  ...                  NaN                NaN   \n",
       "\n",
       "      emission_class emissions_sticker upholstery_colour    upholstery  \\\n",
       "26470            NaN               NaN               NaN           NaN   \n",
       "26471         Euro 4         4 (Green)             Beige  Part leather   \n",
       "26472         Euro 4         4 (Green)              Grey  Full leather   \n",
       "26473         Euro 5         4 (Green)             Black  Part leather   \n",
       "26474            NaN               NaN               NaN           NaN   \n",
       "...              ...               ...               ...           ...   \n",
       "27449         Euro 6               NaN              Grey  Full leather   \n",
       "27450            NaN               NaN             Other  Full leather   \n",
       "27451         Euro 3               NaN             Black  Full leather   \n",
       "27456         Euro 3    1 (No sticker)             Beige  Full leather   \n",
       "27486         Euro 4               NaN             Black  Full leather   \n",
       "\n",
       "      production_date              previous_owner energy_efficiency_class  \\\n",
       "26470             NaN                         NaN                     NaN   \n",
       "26471             NaN  [[155,923 km, 08/2006], 2]                       F   \n",
       "26472             NaN   [[69,747 km, 05/2007], 1]                     NaN   \n",
       "26473             NaN  [[146,348 km, 10/2011], 1]                     NaN   \n",
       "26474             NaN                         NaN                     NaN   \n",
       "...               ...                         ...                     ...   \n",
       "27449             NaN                         NaN                     NaN   \n",
       "27450             NaN  [[118,232 km, 12/2000], 2]                     NaN   \n",
       "27451             NaN  [[227,000 km, 02/2000], 1]                     NaN   \n",
       "27456             NaN  [[182,000 km, 11/1998], 1]                     NaN   \n",
       "27486             NaN  [[195,000 km, 07/2008], 2]                     NaN   \n",
       "\n",
       "                                           co_efficiency  \n",
       "26470                                                NaN  \n",
       "26471  Calculated on basis of measured CO₂-emissions ...  \n",
       "26472                                                NaN  \n",
       "26473                                                NaN  \n",
       "26474                                                NaN  \n",
       "...                                                  ...  \n",
       "27449                                                NaN  \n",
       "27450                                                NaN  \n",
       "27451                                                NaN  \n",
       "27456                                                NaN  \n",
       "27486                                                NaN  \n",
       "\n",
       "[692 rows x 46 columns]"
      ]
     },
     "execution_count": 34,
     "metadata": {},
     "output_type": "execute_result"
    }
   ],
   "source": [
    "df[df.astype(str)['make_model'] == 'Volvo C70']"
   ]
  },
  {
   "cell_type": "code",
   "execution_count": 35,
   "metadata": {},
   "outputs": [
    {
     "data": {
      "text/plain": [
       "True     690\n",
       "False      2\n",
       "dtype: int64"
      ]
     },
     "execution_count": 35,
     "metadata": {},
     "output_type": "execute_result"
    }
   ],
   "source": [
    "df[df['make_model'] == 'Volvo C70'].astype(str).duplicated(keep=False).value_counts(dropna=False)"
   ]
  },
  {
   "cell_type": "code",
   "execution_count": 36,
   "metadata": {},
   "outputs": [],
   "source": [
    "# df.drop_duplicates(keep=\"first\", inplace=True)"
   ]
  },
  {
   "cell_type": "code",
   "execution_count": 37,
   "metadata": {},
   "outputs": [
    {
     "data": {
      "text/plain": [
       "(29480, 46)"
      ]
     },
     "execution_count": 37,
     "metadata": {},
     "output_type": "execute_result"
    }
   ],
   "source": [
    "df.shape"
   ]
  },
  {
   "cell_type": "markdown",
   "metadata": {},
   "source": [
    "! Note: The reason why we do not drop duplicated values at this moment is that other duplicate values may occur as a result of data cleaning. At the end of our analysis and cleaning, we will drop the duplicated values. !"
   ]
  },
  {
   "cell_type": "markdown",
   "metadata": {},
   "source": [
    "## <p style=\"background-color:#9d4f8c; font-family:newtimeroman; color:#FFF9ED; font-size:175%; text-align:center; border-radius:10px 10px;\">The Examination of Columns</p>\n",
    "\n",
    "⚠️ It's highly crucial for any analysis to get domain knowledge about the subject at hand before starting the examination of features/columns one by one. Therefore, always make search on that and keep scrutinizing/reading throughout your analysis\n",
    "\n",
    "**🧐 [12 Factors That Affect Your Car’s Resale Value](https://www.moneycrashers.com/factors-affect-used-cars-resale-value/)**<br>\n",
    "**🧐 [9 Factors That Impact The Value of Your Car](https://carchase.com.au/resources/car-valuation-guide/9-factors-that-impact-the-value-of-your-car/)**<br>\n",
    "**🧐 [Factors That Can Affect Used Car Trade-In Value](https://www.capitalone.com/cars/learn/managing-your-money-wisely/factors-that-can-affect-used-car-tradein-value/1224)**<br>\n",
    "**🧐 [7 Factors That Influence the Price of a Used Car](https://www.truebil.com/blog/7-factors-that-influence-the-price-of-a-used-car)**<br>\n",
    "**🧐 [A Study on the Factors Affecting the Value of Used Cars](https://www.google.com/url?sa=t&rct=j&q=&esrc=s&source=web&cd=&cad=rja&uact=8&ved=2ahUKEwjns7id59L7AhWfhv0HHUflBkwQFnoECCkQAQ&url=https%3A%2F%2Fwww.atlantis-press.com%2Farticle%2F25891081.pdf&usg=AOvVaw3JqJ5XKF1Wk0PC_56OSfal)**<br>\n",
    "**🧐 [What are the factors that influence a used car price?](https://carsellzone.com/blog/detail/factors-affect-car-price)**<br>\n",
    "\n",
    "<a id=\"3\"></a>\n",
    "<a href=\"#toc\" class=\"btn btn-primary btn-sm\" role=\"button\" aria-pressed=\"true\" \n",
    "style=\"color:blue; background-color:#dfa8e4\" data-toggle=\"popover\">Content</a>\n",
    "\n",
    "## Let's examine and clean all the columns/features one by one:"
   ]
  },
  {
   "cell_type": "code",
   "execution_count": 38,
   "metadata": {},
   "outputs": [],
   "source": [
    "# Let's remember our User Defined Function for first looking to the columns\n",
    "\n",
    "def first_looking(df, col):\n",
    "    print(\"column name    : \", col)  # Prints out related column name\n",
    "    print(\"--------------------------------\")\n",
    "    print(\"per_of_nulls   : \", \"%\", round(df[col].isnull().sum() * 100 / df.shape[0], 2))  # Calculates the percentage of Null values for related column\n",
    "    print(\"num_of_nulls   : \", df[col].isnull().sum())  # Prints out the total number of Null values for related column\n",
    "    print(\"num_of_uniques : \", df[col].astype(str).nunique())  # Prints out the number of unique values for related column\n",
    "    print(\"shape_of_df    : \", df.shape)  # Prints out the shape of DataFrame\n",
    "    print(\"--------------------------------\")\n",
    "    print(df[col].value_counts(dropna=False))  # Prints out the number of occurance for unique values in the related column"
   ]
  },
  {
   "cell_type": "markdown",
   "metadata": {},
   "source": [
    "## price (target/label column)"
   ]
  },
  {
   "cell_type": "code",
   "execution_count": 39,
   "metadata": {},
   "outputs": [
    {
     "name": "stdout",
     "output_type": "stream",
     "text": [
      "column name    :  price\n",
      "--------------------------------\n",
      "per_of_nulls   :  % 2.88\n",
      "num_of_nulls   :  850\n",
      "num_of_uniques :  5022\n",
      "shape_of_df    :  (29480, 46)\n",
      "--------------------------------\n",
      "NaN           850\n",
      "€ 14,990.-    222\n",
      "€ 12,990.-    219\n",
      "€ 16,990.-    186\n",
      "€ 19,990.-    166\n",
      "             ... \n",
      "€ 19,112.-      1\n",
      "€ 30,465.-      1\n",
      "€ 18,461.-      1\n",
      "€ 22,649.-      1\n",
      "€ 4,440.-       1\n",
      "Name: price, Length: 5022, dtype: int64\n"
     ]
    }
   ],
   "source": [
    "first_looking(df, \"price\")"
   ]
  },
  {
   "cell_type": "markdown",
   "metadata": {},
   "source": [
    "**Let's check if there has been any Null values in our Target/Label variable, Price? If so, isn't it strange? 🤔**"
   ]
  },
  {
   "cell_type": "code",
   "execution_count": 40,
   "metadata": {},
   "outputs": [
    {
     "data": {
      "text/plain": [
       "True"
      ]
     },
     "execution_count": 40,
     "metadata": {},
     "output_type": "execute_result"
    }
   ],
   "source": [
    "df[\"price\"].isnull().any()"
   ]
  },
  {
   "cell_type": "code",
   "execution_count": 41,
   "metadata": {},
   "outputs": [
    {
     "data": {
      "text/html": [
       "<div>\n",
       "<style scoped>\n",
       "    .dataframe tbody tr th:only-of-type {\n",
       "        vertical-align: middle;\n",
       "    }\n",
       "\n",
       "    .dataframe tbody tr th {\n",
       "        vertical-align: top;\n",
       "    }\n",
       "\n",
       "    .dataframe thead th {\n",
       "        text-align: right;\n",
       "    }\n",
       "</style>\n",
       "<table border=\"1\" class=\"dataframe\">\n",
       "  <thead>\n",
       "    <tr style=\"text-align: right;\">\n",
       "      <th></th>\n",
       "      <th>make_model</th>\n",
       "      <th>short_description</th>\n",
       "      <th>make</th>\n",
       "      <th>model</th>\n",
       "      <th>location</th>\n",
       "      <th>price</th>\n",
       "      <th>body_type</th>\n",
       "      <th>type</th>\n",
       "      <th>doors</th>\n",
       "      <th>country_version</th>\n",
       "      <th>...</th>\n",
       "      <th>full_service_history</th>\n",
       "      <th>non_smoker_vehicle</th>\n",
       "      <th>emission_class</th>\n",
       "      <th>emissions_sticker</th>\n",
       "      <th>upholstery_colour</th>\n",
       "      <th>upholstery</th>\n",
       "      <th>production_date</th>\n",
       "      <th>previous_owner</th>\n",
       "      <th>energy_efficiency_class</th>\n",
       "      <th>co_efficiency</th>\n",
       "    </tr>\n",
       "  </thead>\n",
       "  <tbody>\n",
       "    <tr>\n",
       "      <th>17915</th>\n",
       "      <td>NaN</td>\n",
       "      <td>NaN</td>\n",
       "      <td>NaN</td>\n",
       "      <td>NaN</td>\n",
       "      <td>NaN</td>\n",
       "      <td>NaN</td>\n",
       "      <td>NaN</td>\n",
       "      <td>NaN</td>\n",
       "      <td>NaN</td>\n",
       "      <td>NaN</td>\n",
       "      <td>...</td>\n",
       "      <td>NaN</td>\n",
       "      <td>NaN</td>\n",
       "      <td>NaN</td>\n",
       "      <td>NaN</td>\n",
       "      <td>NaN</td>\n",
       "      <td>NaN</td>\n",
       "      <td>NaN</td>\n",
       "      <td>NaN</td>\n",
       "      <td>NaN</td>\n",
       "      <td>NaN</td>\n",
       "    </tr>\n",
       "    <tr>\n",
       "      <th>11663</th>\n",
       "      <td>NaN</td>\n",
       "      <td>NaN</td>\n",
       "      <td>NaN</td>\n",
       "      <td>NaN</td>\n",
       "      <td>NaN</td>\n",
       "      <td>NaN</td>\n",
       "      <td>NaN</td>\n",
       "      <td>NaN</td>\n",
       "      <td>NaN</td>\n",
       "      <td>NaN</td>\n",
       "      <td>...</td>\n",
       "      <td>NaN</td>\n",
       "      <td>NaN</td>\n",
       "      <td>NaN</td>\n",
       "      <td>NaN</td>\n",
       "      <td>NaN</td>\n",
       "      <td>NaN</td>\n",
       "      <td>NaN</td>\n",
       "      <td>NaN</td>\n",
       "      <td>NaN</td>\n",
       "      <td>NaN</td>\n",
       "    </tr>\n",
       "    <tr>\n",
       "      <th>13251</th>\n",
       "      <td>NaN</td>\n",
       "      <td>NaN</td>\n",
       "      <td>NaN</td>\n",
       "      <td>NaN</td>\n",
       "      <td>NaN</td>\n",
       "      <td>NaN</td>\n",
       "      <td>NaN</td>\n",
       "      <td>NaN</td>\n",
       "      <td>NaN</td>\n",
       "      <td>NaN</td>\n",
       "      <td>...</td>\n",
       "      <td>NaN</td>\n",
       "      <td>NaN</td>\n",
       "      <td>NaN</td>\n",
       "      <td>NaN</td>\n",
       "      <td>NaN</td>\n",
       "      <td>NaN</td>\n",
       "      <td>NaN</td>\n",
       "      <td>NaN</td>\n",
       "      <td>NaN</td>\n",
       "      <td>NaN</td>\n",
       "    </tr>\n",
       "    <tr>\n",
       "      <th>20874</th>\n",
       "      <td>NaN</td>\n",
       "      <td>NaN</td>\n",
       "      <td>NaN</td>\n",
       "      <td>NaN</td>\n",
       "      <td>NaN</td>\n",
       "      <td>NaN</td>\n",
       "      <td>NaN</td>\n",
       "      <td>NaN</td>\n",
       "      <td>NaN</td>\n",
       "      <td>NaN</td>\n",
       "      <td>...</td>\n",
       "      <td>NaN</td>\n",
       "      <td>NaN</td>\n",
       "      <td>NaN</td>\n",
       "      <td>NaN</td>\n",
       "      <td>NaN</td>\n",
       "      <td>NaN</td>\n",
       "      <td>NaN</td>\n",
       "      <td>NaN</td>\n",
       "      <td>NaN</td>\n",
       "      <td>NaN</td>\n",
       "    </tr>\n",
       "    <tr>\n",
       "      <th>6244</th>\n",
       "      <td>NaN</td>\n",
       "      <td>NaN</td>\n",
       "      <td>NaN</td>\n",
       "      <td>NaN</td>\n",
       "      <td>NaN</td>\n",
       "      <td>NaN</td>\n",
       "      <td>NaN</td>\n",
       "      <td>NaN</td>\n",
       "      <td>NaN</td>\n",
       "      <td>NaN</td>\n",
       "      <td>...</td>\n",
       "      <td>NaN</td>\n",
       "      <td>NaN</td>\n",
       "      <td>NaN</td>\n",
       "      <td>NaN</td>\n",
       "      <td>NaN</td>\n",
       "      <td>NaN</td>\n",
       "      <td>NaN</td>\n",
       "      <td>NaN</td>\n",
       "      <td>NaN</td>\n",
       "      <td>NaN</td>\n",
       "    </tr>\n",
       "    <tr>\n",
       "      <th>15944</th>\n",
       "      <td>NaN</td>\n",
       "      <td>NaN</td>\n",
       "      <td>NaN</td>\n",
       "      <td>NaN</td>\n",
       "      <td>NaN</td>\n",
       "      <td>NaN</td>\n",
       "      <td>NaN</td>\n",
       "      <td>NaN</td>\n",
       "      <td>NaN</td>\n",
       "      <td>NaN</td>\n",
       "      <td>...</td>\n",
       "      <td>NaN</td>\n",
       "      <td>NaN</td>\n",
       "      <td>NaN</td>\n",
       "      <td>NaN</td>\n",
       "      <td>NaN</td>\n",
       "      <td>NaN</td>\n",
       "      <td>NaN</td>\n",
       "      <td>NaN</td>\n",
       "      <td>NaN</td>\n",
       "      <td>NaN</td>\n",
       "    </tr>\n",
       "    <tr>\n",
       "      <th>20214</th>\n",
       "      <td>NaN</td>\n",
       "      <td>NaN</td>\n",
       "      <td>NaN</td>\n",
       "      <td>NaN</td>\n",
       "      <td>NaN</td>\n",
       "      <td>NaN</td>\n",
       "      <td>NaN</td>\n",
       "      <td>NaN</td>\n",
       "      <td>NaN</td>\n",
       "      <td>NaN</td>\n",
       "      <td>...</td>\n",
       "      <td>NaN</td>\n",
       "      <td>NaN</td>\n",
       "      <td>NaN</td>\n",
       "      <td>NaN</td>\n",
       "      <td>NaN</td>\n",
       "      <td>NaN</td>\n",
       "      <td>NaN</td>\n",
       "      <td>NaN</td>\n",
       "      <td>NaN</td>\n",
       "      <td>NaN</td>\n",
       "    </tr>\n",
       "    <tr>\n",
       "      <th>20203</th>\n",
       "      <td>NaN</td>\n",
       "      <td>NaN</td>\n",
       "      <td>NaN</td>\n",
       "      <td>NaN</td>\n",
       "      <td>NaN</td>\n",
       "      <td>NaN</td>\n",
       "      <td>NaN</td>\n",
       "      <td>NaN</td>\n",
       "      <td>NaN</td>\n",
       "      <td>NaN</td>\n",
       "      <td>...</td>\n",
       "      <td>NaN</td>\n",
       "      <td>NaN</td>\n",
       "      <td>NaN</td>\n",
       "      <td>NaN</td>\n",
       "      <td>NaN</td>\n",
       "      <td>NaN</td>\n",
       "      <td>NaN</td>\n",
       "      <td>NaN</td>\n",
       "      <td>NaN</td>\n",
       "      <td>NaN</td>\n",
       "    </tr>\n",
       "    <tr>\n",
       "      <th>16964</th>\n",
       "      <td>NaN</td>\n",
       "      <td>NaN</td>\n",
       "      <td>NaN</td>\n",
       "      <td>NaN</td>\n",
       "      <td>NaN</td>\n",
       "      <td>NaN</td>\n",
       "      <td>NaN</td>\n",
       "      <td>NaN</td>\n",
       "      <td>NaN</td>\n",
       "      <td>NaN</td>\n",
       "      <td>...</td>\n",
       "      <td>NaN</td>\n",
       "      <td>NaN</td>\n",
       "      <td>NaN</td>\n",
       "      <td>NaN</td>\n",
       "      <td>NaN</td>\n",
       "      <td>NaN</td>\n",
       "      <td>NaN</td>\n",
       "      <td>NaN</td>\n",
       "      <td>NaN</td>\n",
       "      <td>NaN</td>\n",
       "    </tr>\n",
       "    <tr>\n",
       "      <th>15546</th>\n",
       "      <td>NaN</td>\n",
       "      <td>NaN</td>\n",
       "      <td>NaN</td>\n",
       "      <td>NaN</td>\n",
       "      <td>NaN</td>\n",
       "      <td>NaN</td>\n",
       "      <td>NaN</td>\n",
       "      <td>NaN</td>\n",
       "      <td>NaN</td>\n",
       "      <td>NaN</td>\n",
       "      <td>...</td>\n",
       "      <td>NaN</td>\n",
       "      <td>NaN</td>\n",
       "      <td>NaN</td>\n",
       "      <td>NaN</td>\n",
       "      <td>NaN</td>\n",
       "      <td>NaN</td>\n",
       "      <td>NaN</td>\n",
       "      <td>NaN</td>\n",
       "      <td>NaN</td>\n",
       "      <td>NaN</td>\n",
       "    </tr>\n",
       "    <tr>\n",
       "      <th>7985</th>\n",
       "      <td>NaN</td>\n",
       "      <td>NaN</td>\n",
       "      <td>NaN</td>\n",
       "      <td>NaN</td>\n",
       "      <td>NaN</td>\n",
       "      <td>NaN</td>\n",
       "      <td>NaN</td>\n",
       "      <td>NaN</td>\n",
       "      <td>NaN</td>\n",
       "      <td>NaN</td>\n",
       "      <td>...</td>\n",
       "      <td>NaN</td>\n",
       "      <td>NaN</td>\n",
       "      <td>NaN</td>\n",
       "      <td>NaN</td>\n",
       "      <td>NaN</td>\n",
       "      <td>NaN</td>\n",
       "      <td>NaN</td>\n",
       "      <td>NaN</td>\n",
       "      <td>NaN</td>\n",
       "      <td>NaN</td>\n",
       "    </tr>\n",
       "    <tr>\n",
       "      <th>9437</th>\n",
       "      <td>NaN</td>\n",
       "      <td>NaN</td>\n",
       "      <td>NaN</td>\n",
       "      <td>NaN</td>\n",
       "      <td>NaN</td>\n",
       "      <td>NaN</td>\n",
       "      <td>NaN</td>\n",
       "      <td>NaN</td>\n",
       "      <td>NaN</td>\n",
       "      <td>NaN</td>\n",
       "      <td>...</td>\n",
       "      <td>NaN</td>\n",
       "      <td>NaN</td>\n",
       "      <td>NaN</td>\n",
       "      <td>NaN</td>\n",
       "      <td>NaN</td>\n",
       "      <td>NaN</td>\n",
       "      <td>NaN</td>\n",
       "      <td>NaN</td>\n",
       "      <td>NaN</td>\n",
       "      <td>NaN</td>\n",
       "    </tr>\n",
       "    <tr>\n",
       "      <th>25211</th>\n",
       "      <td>NaN</td>\n",
       "      <td>NaN</td>\n",
       "      <td>NaN</td>\n",
       "      <td>NaN</td>\n",
       "      <td>NaN</td>\n",
       "      <td>NaN</td>\n",
       "      <td>NaN</td>\n",
       "      <td>NaN</td>\n",
       "      <td>NaN</td>\n",
       "      <td>NaN</td>\n",
       "      <td>...</td>\n",
       "      <td>NaN</td>\n",
       "      <td>NaN</td>\n",
       "      <td>NaN</td>\n",
       "      <td>NaN</td>\n",
       "      <td>NaN</td>\n",
       "      <td>NaN</td>\n",
       "      <td>NaN</td>\n",
       "      <td>NaN</td>\n",
       "      <td>NaN</td>\n",
       "      <td>NaN</td>\n",
       "    </tr>\n",
       "    <tr>\n",
       "      <th>13700</th>\n",
       "      <td>NaN</td>\n",
       "      <td>NaN</td>\n",
       "      <td>NaN</td>\n",
       "      <td>NaN</td>\n",
       "      <td>NaN</td>\n",
       "      <td>NaN</td>\n",
       "      <td>NaN</td>\n",
       "      <td>NaN</td>\n",
       "      <td>NaN</td>\n",
       "      <td>NaN</td>\n",
       "      <td>...</td>\n",
       "      <td>NaN</td>\n",
       "      <td>NaN</td>\n",
       "      <td>NaN</td>\n",
       "      <td>NaN</td>\n",
       "      <td>NaN</td>\n",
       "      <td>NaN</td>\n",
       "      <td>NaN</td>\n",
       "      <td>NaN</td>\n",
       "      <td>NaN</td>\n",
       "      <td>NaN</td>\n",
       "    </tr>\n",
       "    <tr>\n",
       "      <th>17043</th>\n",
       "      <td>NaN</td>\n",
       "      <td>NaN</td>\n",
       "      <td>NaN</td>\n",
       "      <td>NaN</td>\n",
       "      <td>NaN</td>\n",
       "      <td>NaN</td>\n",
       "      <td>NaN</td>\n",
       "      <td>NaN</td>\n",
       "      <td>NaN</td>\n",
       "      <td>NaN</td>\n",
       "      <td>...</td>\n",
       "      <td>NaN</td>\n",
       "      <td>NaN</td>\n",
       "      <td>NaN</td>\n",
       "      <td>NaN</td>\n",
       "      <td>NaN</td>\n",
       "      <td>NaN</td>\n",
       "      <td>NaN</td>\n",
       "      <td>NaN</td>\n",
       "      <td>NaN</td>\n",
       "      <td>NaN</td>\n",
       "    </tr>\n",
       "    <tr>\n",
       "      <th>3947</th>\n",
       "      <td>NaN</td>\n",
       "      <td>NaN</td>\n",
       "      <td>NaN</td>\n",
       "      <td>NaN</td>\n",
       "      <td>NaN</td>\n",
       "      <td>NaN</td>\n",
       "      <td>NaN</td>\n",
       "      <td>NaN</td>\n",
       "      <td>NaN</td>\n",
       "      <td>NaN</td>\n",
       "      <td>...</td>\n",
       "      <td>NaN</td>\n",
       "      <td>NaN</td>\n",
       "      <td>NaN</td>\n",
       "      <td>NaN</td>\n",
       "      <td>NaN</td>\n",
       "      <td>NaN</td>\n",
       "      <td>NaN</td>\n",
       "      <td>NaN</td>\n",
       "      <td>NaN</td>\n",
       "      <td>NaN</td>\n",
       "    </tr>\n",
       "    <tr>\n",
       "      <th>16961</th>\n",
       "      <td>NaN</td>\n",
       "      <td>NaN</td>\n",
       "      <td>NaN</td>\n",
       "      <td>NaN</td>\n",
       "      <td>NaN</td>\n",
       "      <td>NaN</td>\n",
       "      <td>NaN</td>\n",
       "      <td>NaN</td>\n",
       "      <td>NaN</td>\n",
       "      <td>NaN</td>\n",
       "      <td>...</td>\n",
       "      <td>NaN</td>\n",
       "      <td>NaN</td>\n",
       "      <td>NaN</td>\n",
       "      <td>NaN</td>\n",
       "      <td>NaN</td>\n",
       "      <td>NaN</td>\n",
       "      <td>NaN</td>\n",
       "      <td>NaN</td>\n",
       "      <td>NaN</td>\n",
       "      <td>NaN</td>\n",
       "    </tr>\n",
       "    <tr>\n",
       "      <th>10113</th>\n",
       "      <td>NaN</td>\n",
       "      <td>NaN</td>\n",
       "      <td>NaN</td>\n",
       "      <td>NaN</td>\n",
       "      <td>NaN</td>\n",
       "      <td>NaN</td>\n",
       "      <td>NaN</td>\n",
       "      <td>NaN</td>\n",
       "      <td>NaN</td>\n",
       "      <td>NaN</td>\n",
       "      <td>...</td>\n",
       "      <td>NaN</td>\n",
       "      <td>NaN</td>\n",
       "      <td>NaN</td>\n",
       "      <td>NaN</td>\n",
       "      <td>NaN</td>\n",
       "      <td>NaN</td>\n",
       "      <td>NaN</td>\n",
       "      <td>NaN</td>\n",
       "      <td>NaN</td>\n",
       "      <td>NaN</td>\n",
       "    </tr>\n",
       "    <tr>\n",
       "      <th>21049</th>\n",
       "      <td>NaN</td>\n",
       "      <td>NaN</td>\n",
       "      <td>NaN</td>\n",
       "      <td>NaN</td>\n",
       "      <td>NaN</td>\n",
       "      <td>NaN</td>\n",
       "      <td>NaN</td>\n",
       "      <td>NaN</td>\n",
       "      <td>NaN</td>\n",
       "      <td>NaN</td>\n",
       "      <td>...</td>\n",
       "      <td>NaN</td>\n",
       "      <td>NaN</td>\n",
       "      <td>NaN</td>\n",
       "      <td>NaN</td>\n",
       "      <td>NaN</td>\n",
       "      <td>NaN</td>\n",
       "      <td>NaN</td>\n",
       "      <td>NaN</td>\n",
       "      <td>NaN</td>\n",
       "      <td>NaN</td>\n",
       "    </tr>\n",
       "    <tr>\n",
       "      <th>23861</th>\n",
       "      <td>NaN</td>\n",
       "      <td>NaN</td>\n",
       "      <td>NaN</td>\n",
       "      <td>NaN</td>\n",
       "      <td>NaN</td>\n",
       "      <td>NaN</td>\n",
       "      <td>NaN</td>\n",
       "      <td>NaN</td>\n",
       "      <td>NaN</td>\n",
       "      <td>NaN</td>\n",
       "      <td>...</td>\n",
       "      <td>NaN</td>\n",
       "      <td>NaN</td>\n",
       "      <td>NaN</td>\n",
       "      <td>NaN</td>\n",
       "      <td>NaN</td>\n",
       "      <td>NaN</td>\n",
       "      <td>NaN</td>\n",
       "      <td>NaN</td>\n",
       "      <td>NaN</td>\n",
       "      <td>NaN</td>\n",
       "    </tr>\n",
       "  </tbody>\n",
       "</table>\n",
       "<p>20 rows × 46 columns</p>\n",
       "</div>"
      ],
      "text/plain": [
       "      make_model short_description make model location price body_type type  \\\n",
       "17915        NaN               NaN  NaN   NaN      NaN   NaN       NaN  NaN   \n",
       "11663        NaN               NaN  NaN   NaN      NaN   NaN       NaN  NaN   \n",
       "13251        NaN               NaN  NaN   NaN      NaN   NaN       NaN  NaN   \n",
       "20874        NaN               NaN  NaN   NaN      NaN   NaN       NaN  NaN   \n",
       "6244         NaN               NaN  NaN   NaN      NaN   NaN       NaN  NaN   \n",
       "15944        NaN               NaN  NaN   NaN      NaN   NaN       NaN  NaN   \n",
       "20214        NaN               NaN  NaN   NaN      NaN   NaN       NaN  NaN   \n",
       "20203        NaN               NaN  NaN   NaN      NaN   NaN       NaN  NaN   \n",
       "16964        NaN               NaN  NaN   NaN      NaN   NaN       NaN  NaN   \n",
       "15546        NaN               NaN  NaN   NaN      NaN   NaN       NaN  NaN   \n",
       "7985         NaN               NaN  NaN   NaN      NaN   NaN       NaN  NaN   \n",
       "9437         NaN               NaN  NaN   NaN      NaN   NaN       NaN  NaN   \n",
       "25211        NaN               NaN  NaN   NaN      NaN   NaN       NaN  NaN   \n",
       "13700        NaN               NaN  NaN   NaN      NaN   NaN       NaN  NaN   \n",
       "17043        NaN               NaN  NaN   NaN      NaN   NaN       NaN  NaN   \n",
       "3947         NaN               NaN  NaN   NaN      NaN   NaN       NaN  NaN   \n",
       "16961        NaN               NaN  NaN   NaN      NaN   NaN       NaN  NaN   \n",
       "10113        NaN               NaN  NaN   NaN      NaN   NaN       NaN  NaN   \n",
       "21049        NaN               NaN  NaN   NaN      NaN   NaN       NaN  NaN   \n",
       "23861        NaN               NaN  NaN   NaN      NaN   NaN       NaN  NaN   \n",
       "\n",
       "      doors country_version  ... full_service_history non_smoker_vehicle  \\\n",
       "17915   NaN             NaN  ...                  NaN                NaN   \n",
       "11663   NaN             NaN  ...                  NaN                NaN   \n",
       "13251   NaN             NaN  ...                  NaN                NaN   \n",
       "20874   NaN             NaN  ...                  NaN                NaN   \n",
       "6244    NaN             NaN  ...                  NaN                NaN   \n",
       "15944   NaN             NaN  ...                  NaN                NaN   \n",
       "20214   NaN             NaN  ...                  NaN                NaN   \n",
       "20203   NaN             NaN  ...                  NaN                NaN   \n",
       "16964   NaN             NaN  ...                  NaN                NaN   \n",
       "15546   NaN             NaN  ...                  NaN                NaN   \n",
       "7985    NaN             NaN  ...                  NaN                NaN   \n",
       "9437    NaN             NaN  ...                  NaN                NaN   \n",
       "25211   NaN             NaN  ...                  NaN                NaN   \n",
       "13700   NaN             NaN  ...                  NaN                NaN   \n",
       "17043   NaN             NaN  ...                  NaN                NaN   \n",
       "3947    NaN             NaN  ...                  NaN                NaN   \n",
       "16961   NaN             NaN  ...                  NaN                NaN   \n",
       "10113   NaN             NaN  ...                  NaN                NaN   \n",
       "21049   NaN             NaN  ...                  NaN                NaN   \n",
       "23861   NaN             NaN  ...                  NaN                NaN   \n",
       "\n",
       "      emission_class emissions_sticker upholstery_colour upholstery  \\\n",
       "17915            NaN               NaN               NaN        NaN   \n",
       "11663            NaN               NaN               NaN        NaN   \n",
       "13251            NaN               NaN               NaN        NaN   \n",
       "20874            NaN               NaN               NaN        NaN   \n",
       "6244             NaN               NaN               NaN        NaN   \n",
       "15944            NaN               NaN               NaN        NaN   \n",
       "20214            NaN               NaN               NaN        NaN   \n",
       "20203            NaN               NaN               NaN        NaN   \n",
       "16964            NaN               NaN               NaN        NaN   \n",
       "15546            NaN               NaN               NaN        NaN   \n",
       "7985             NaN               NaN               NaN        NaN   \n",
       "9437             NaN               NaN               NaN        NaN   \n",
       "25211            NaN               NaN               NaN        NaN   \n",
       "13700            NaN               NaN               NaN        NaN   \n",
       "17043            NaN               NaN               NaN        NaN   \n",
       "3947             NaN               NaN               NaN        NaN   \n",
       "16961            NaN               NaN               NaN        NaN   \n",
       "10113            NaN               NaN               NaN        NaN   \n",
       "21049            NaN               NaN               NaN        NaN   \n",
       "23861            NaN               NaN               NaN        NaN   \n",
       "\n",
       "      production_date previous_owner energy_efficiency_class co_efficiency  \n",
       "17915             NaN            NaN                     NaN           NaN  \n",
       "11663             NaN            NaN                     NaN           NaN  \n",
       "13251             NaN            NaN                     NaN           NaN  \n",
       "20874             NaN            NaN                     NaN           NaN  \n",
       "6244              NaN            NaN                     NaN           NaN  \n",
       "15944             NaN            NaN                     NaN           NaN  \n",
       "20214             NaN            NaN                     NaN           NaN  \n",
       "20203             NaN            NaN                     NaN           NaN  \n",
       "16964             NaN            NaN                     NaN           NaN  \n",
       "15546             NaN            NaN                     NaN           NaN  \n",
       "7985              NaN            NaN                     NaN           NaN  \n",
       "9437              NaN            NaN                     NaN           NaN  \n",
       "25211             NaN            NaN                     NaN           NaN  \n",
       "13700             NaN            NaN                     NaN           NaN  \n",
       "17043             NaN            NaN                     NaN           NaN  \n",
       "3947              NaN            NaN                     NaN           NaN  \n",
       "16961             NaN            NaN                     NaN           NaN  \n",
       "10113             NaN            NaN                     NaN           NaN  \n",
       "21049             NaN            NaN                     NaN           NaN  \n",
       "23861             NaN            NaN                     NaN           NaN  \n",
       "\n",
       "[20 rows x 46 columns]"
      ]
     },
     "metadata": {},
     "output_type": "display_data"
    },
    {
     "name": "stdout",
     "output_type": "stream",
     "text": [
      "Price feature/column has 850 NaN values.\n"
     ]
    }
   ],
   "source": [
    "display(df[df[\"price\"].isnull()].sample(20))\n",
    "price_nans = df[\"price\"].isnull().sum()\n",
    "print(f\"Price feature/column has {price_nans} NaN values.\")"
   ]
  },
  {
   "cell_type": "markdown",
   "metadata": {},
   "source": [
    "Insight: We see that entire row of price column with missings values are alse missing values ."
   ]
  },
  {
   "cell_type": "markdown",
   "metadata": {},
   "source": [
    "**Let's first extract the values needed in our analysis:**"
   ]
  },
  {
   "cell_type": "code",
   "execution_count": 42,
   "metadata": {
    "scrolled": false
   },
   "outputs": [
    {
     "data": {
      "text/html": [
       "<div>\n",
       "<style scoped>\n",
       "    .dataframe tbody tr th:only-of-type {\n",
       "        vertical-align: middle;\n",
       "    }\n",
       "\n",
       "    .dataframe tbody tr th {\n",
       "        vertical-align: top;\n",
       "    }\n",
       "\n",
       "    .dataframe thead th {\n",
       "        text-align: right;\n",
       "    }\n",
       "</style>\n",
       "<table border=\"1\" class=\"dataframe\">\n",
       "  <thead>\n",
       "    <tr style=\"text-align: right;\">\n",
       "      <th></th>\n",
       "      <th>0</th>\n",
       "    </tr>\n",
       "  </thead>\n",
       "  <tbody>\n",
       "    <tr>\n",
       "      <th>0</th>\n",
       "      <td>16,950</td>\n",
       "    </tr>\n",
       "    <tr>\n",
       "      <th>1</th>\n",
       "      <td>80,900</td>\n",
       "    </tr>\n",
       "    <tr>\n",
       "      <th>2</th>\n",
       "      <td>69,900</td>\n",
       "    </tr>\n",
       "    <tr>\n",
       "      <th>3</th>\n",
       "      <td>46,990</td>\n",
       "    </tr>\n",
       "    <tr>\n",
       "      <th>4</th>\n",
       "      <td>16,800</td>\n",
       "    </tr>\n",
       "    <tr>\n",
       "      <th>...</th>\n",
       "      <td>...</td>\n",
       "    </tr>\n",
       "    <tr>\n",
       "      <th>29475</th>\n",
       "      <td>5,499</td>\n",
       "    </tr>\n",
       "    <tr>\n",
       "      <th>29476</th>\n",
       "      <td>7,300</td>\n",
       "    </tr>\n",
       "    <tr>\n",
       "      <th>29477</th>\n",
       "      <td>29,900</td>\n",
       "    </tr>\n",
       "    <tr>\n",
       "      <th>29478</th>\n",
       "      <td>4,440</td>\n",
       "    </tr>\n",
       "    <tr>\n",
       "      <th>29479</th>\n",
       "      <td>NaN</td>\n",
       "    </tr>\n",
       "  </tbody>\n",
       "</table>\n",
       "<p>29480 rows × 1 columns</p>\n",
       "</div>"
      ],
      "text/plain": [
       "            0\n",
       "0      16,950\n",
       "1      80,900\n",
       "2      69,900\n",
       "3      46,990\n",
       "4      16,800\n",
       "...       ...\n",
       "29475   5,499\n",
       "29476   7,300\n",
       "29477  29,900\n",
       "29478   4,440\n",
       "29479     NaN\n",
       "\n",
       "[29480 rows x 1 columns]"
      ]
     },
     "execution_count": 42,
     "metadata": {},
     "output_type": "execute_result"
    }
   ],
   "source": [
    "df['price'].astype(str).str.extract('(\\d+.\\d+)')"
   ]
  },
  {
   "cell_type": "code",
   "execution_count": 43,
   "metadata": {},
   "outputs": [
    {
     "data": {
      "text/plain": [
       "0        16950.0\n",
       "1        80900.0\n",
       "2        69900.0\n",
       "3        46990.0\n",
       "4        16800.0\n",
       "          ...   \n",
       "29475     5499.0\n",
       "29476     7300.0\n",
       "29477    29900.0\n",
       "29478     4440.0\n",
       "29479        NaN\n",
       "Name: price, Length: 29480, dtype: float64"
      ]
     },
     "execution_count": 43,
     "metadata": {},
     "output_type": "execute_result"
    }
   ],
   "source": [
    "# df['price'].explode().str.strip(\"€, .-\").str.replace(\",\", \"\")\n",
    "\n",
    "df['price'] = df['price'].astype(str).str.extract('(\\d+.\\d+)')\n",
    "df['price'] = df['price'].str.replace(\",\", \"\").astype(float)\n",
    "df['price'] "
   ]
  },
  {
   "cell_type": "code",
   "execution_count": 44,
   "metadata": {},
   "outputs": [
    {
     "data": {
      "text/plain": [
       "850"
      ]
     },
     "metadata": {},
     "output_type": "display_data"
    },
    {
     "data": {
      "text/plain": [
       "(29480, 46)"
      ]
     },
     "metadata": {},
     "output_type": "display_data"
    }
   ],
   "source": [
    "display(df.price.isnull().sum())\n",
    "display(df.shape)"
   ]
  },
  {
   "cell_type": "code",
   "execution_count": 45,
   "metadata": {},
   "outputs": [],
   "source": [
    "df.dropna(how='all', inplace=True)"
   ]
  },
  {
   "cell_type": "code",
   "execution_count": 46,
   "metadata": {},
   "outputs": [
    {
     "data": {
      "text/plain": [
       "0"
      ]
     },
     "metadata": {},
     "output_type": "display_data"
    },
    {
     "data": {
      "text/plain": [
       "(28630, 46)"
      ]
     },
     "metadata": {},
     "output_type": "display_data"
    }
   ],
   "source": [
    "display(df.price.isnull().sum())\n",
    "display(df.shape)\n",
    "\n",
    "# 29480 - 28630 = 850"
   ]
  },
  {
   "cell_type": "code",
   "execution_count": 47,
   "metadata": {},
   "outputs": [
    {
     "data": {
      "text/plain": [
       "count     28630.000000\n",
       "mean      23470.662173\n",
       "std       23953.503570\n",
       "min         490.000000\n",
       "25%       11990.000000\n",
       "50%       17979.000000\n",
       "75%       27990.000000\n",
       "max      999999.000000\n",
       "Name: price, dtype: float64"
      ]
     },
     "execution_count": 47,
     "metadata": {},
     "output_type": "execute_result"
    }
   ],
   "source": [
    "df['price'].describe()"
   ]
  },
  {
   "cell_type": "code",
   "execution_count": 48,
   "metadata": {},
   "outputs": [
    {
     "data": {
      "image/png": "[encoded data removed]",
      "text/plain": [
       "<Figure size 640x480 with 1 Axes>"
      ]
     },
     "metadata": {},
     "output_type": "display_data"
    }
   ],
   "source": [
    "# create box plot\n",
    "sns.boxplot(df.price)\n",
    "\n",
    "# format tick labels\n",
    "plt.ticklabel_format(style='plain', axis='y')  # style='plain' suppress the scientific notation\n",
    "\n",
    "# display plot\n",
    "plt.show()"
   ]
  },
  {
   "cell_type": "code",
   "execution_count": 49,
   "metadata": {
    "scrolled": false
   },
   "outputs": [
    {
     "data": {
      "image/png": "[encoded data removed]",
      "text/plain": [
       "<Figure size 640x480 with 1 Axes>"
      ]
     },
     "metadata": {},
     "output_type": "display_data"
    }
   ],
   "source": [
    "sns.distplot(df.price)\n",
    "plt.ticklabel_format(style='plain');  # style='plain' suppress the scientific notation\n",
    "\n",
    "# fig, ax = plt.subplots(figsize=(15, 6))\n",
    "# ax.hist(df.price, bins=50);\n",
    "# df.price.hist(bins=100)"
   ]
  },
  {
   "cell_type": "code",
   "execution_count": 50,
   "metadata": {},
   "outputs": [
    {
     "name": "stdout",
     "output_type": "stream",
     "text": [
      "\u001b[1m\u001b[31mStatistical Calculations :\u001b[0m\n",
      "\u001b[1m\u001b[31m--------------------------\u001b[0m\n",
      "\u001b[1m\u001b[34mMinimum: 490.00\n",
      "Mean:  23470.66\n",
      "Median:17979.00\n",
      "Mode:  14990.00\n",
      "Maximum:999999.00\n",
      "\u001b[0m\n"
     ]
    },
    {
     "data": {
      "image/png": "[encoded data removed]",
      "text/plain": [
       "<Figure size 1500x1500 with 2 Axes>"
      ]
     },
     "metadata": {},
     "output_type": "display_data"
    }
   ],
   "source": [
    "show_distribution(df[\"price\"])"
   ]
  },
  {
   "cell_type": "markdown",
   "metadata": {},
   "source": [
    "## make_model\n",
    "\n",
    "### 📝 Some Remarks on car make & model:\n",
    "\n",
    "Of the basic factors influencing your car value are the make and model since ``some vehicles are more likely to sell than others``, there are some automobile models that also have a better reputation for durability and other aspects, making them ideal options for those wanting to buy a used car, for example, Japanese models tend to have a better reputation for resale than German models, but of course, it is not in all cases.\n",
    "\n",
    "The supply and demand of some models is another factor to consider, and, for example, if there are a lot of cars of the same brand and model as yours entering the used car market, this will also affect the price due to the offer and demand."
   ]
  },
  {
   "cell_type": "code",
   "execution_count": 51,
   "metadata": {},
   "outputs": [
    {
     "name": "stdout",
     "output_type": "stream",
     "text": [
      "column name    :  make_model\n",
      "--------------------------------\n",
      "per_of_nulls   :  % 0.0\n",
      "num_of_nulls   :  0\n",
      "num_of_uniques :  611\n",
      "shape_of_df    :  (28630, 46)\n",
      "--------------------------------\n",
      "Renault Megane     863\n",
      "SEAT Leon          787\n",
      "Volvo V40          740\n",
      "Dacia Sandero      730\n",
      "Hyundai i30        706\n",
      "                  ... \n",
      "Toyota GR86          1\n",
      "Toyota Tacoma        1\n",
      "Toyota Tundra        1\n",
      "Toyota 4-Runner      1\n",
      "Volvo 244            1\n",
      "Name: make_model, Length: 611, dtype: int64\n"
     ]
    }
   ],
   "source": [
    "first_looking(df, \"make_model\")"
   ]
  },
  {
   "cell_type": "markdown",
   "metadata": {},
   "source": [
    "**As seen, the \"make_model\" column gives us a more detailed information for our analysis; however, there been some other features, \"Make\" & \"Model\", exactly giving the same information/insights, so after the examination of these columns we will decide which one/s we will continue.**"
   ]
  },
  {
   "cell_type": "code",
   "execution_count": 52,
   "metadata": {},
   "outputs": [],
   "source": [
    "# df.make_model.str.contains('Volvo', regex=False)\n",
    "\n",
    "# df[df.make_model.str.contains('Volvo', regex=False, na=False)]"
   ]
  },
  {
   "cell_type": "markdown",
   "metadata": {},
   "source": [
    "## make\n",
    "\n",
    "### 📝 Some Remarks on car make:\n",
    "\n",
    "**The importance of make in cars while selling and buying?**\n",
    "\n",
    "The term \"make\" in cars refers to the brand or manufacturer of the vehicle. When selling or buying a car, the make is an important consideration for several reasons:\n",
    "\n",
    "  - **``Reputation``**: Different car manufacturers have different reputations for quality, reliability, and performance. A car's make can affect its resale value, as well as the perceived value by prospective buyers.\n",
    "\n",
    "  - **``Availability of parts and service``**: The availability and cost of replacement parts and service can depend on the make of the car. Some makes may have a larger market for aftermarket parts, whereas others may require more specialized or expensive parts.\n",
    "\n",
    "  - **``Features and options``**: Different car makes can have different standard and optional features, such as safety features, entertainment systems, and performance enhancements. These features can affect the car's value and desirability.\n",
    "\n",
    "  - **``Personal preference``**: Buyers may have personal preferences for certain car makes based on factors such as brand loyalty, styling, or perceived status.\n",
    "\n",
    "When selling a car, emphasizing the make can help to attract buyers who are specifically interested in that brand or manufacturer. Similarly, when buying a car, considering the make can help to narrow down the options and find a vehicle that meets the buyer's needs and preferences.\n",
    "\n",
    "**🧐 [What Is The Difference Between The Make And Model Of A Car?](https://www.jdpower.com/cars/shopping-guides/what-is-the-difference-between-the-make-and-model-of-a-car)**"
   ]
  },
  {
   "cell_type": "code",
   "execution_count": 53,
   "metadata": {},
   "outputs": [
    {
     "name": "stdout",
     "output_type": "stream",
     "text": [
      "column name    :  make\n",
      "--------------------------------\n",
      "per_of_nulls   :  % 0.0\n",
      "num_of_nulls   :  0\n",
      "num_of_uniques :  13\n",
      "shape_of_df    :  (28630, 46)\n",
      "--------------------------------\n",
      "\\nVolvo\\n            3659\n",
      "\\nMercedes-Benz\\n    2398\n",
      "\\nOpel\\n             2385\n",
      "\\nPeugeot\\n          2360\n",
      "\\nRenault\\n          2351\n",
      "\\nFiat\\n             2338\n",
      "\\nFord\\n             2324\n",
      "\\nNissan\\n           2064\n",
      "\\nToyota\\n           2038\n",
      "\\nHyundai\\n          1867\n",
      "\\nSEAT\\n             1743\n",
      "\\nSkoda\\n            1566\n",
      "\\nDacia\\n            1537\n",
      "Name: make, dtype: int64\n"
     ]
    }
   ],
   "source": [
    "first_looking(df, \"make\")"
   ]
  },
  {
   "cell_type": "code",
   "execution_count": 54,
   "metadata": {},
   "outputs": [],
   "source": [
    "df[\"make\"] = df.make.str.strip('\\n')"
   ]
  },
  {
   "cell_type": "code",
   "execution_count": 55,
   "metadata": {},
   "outputs": [
    {
     "data": {
      "text/plain": [
       "Volvo            3659\n",
       "Mercedes-Benz    2398\n",
       "Opel             2385\n",
       "Peugeot          2360\n",
       "Renault          2351\n",
       "Fiat             2338\n",
       "Ford             2324\n",
       "Nissan           2064\n",
       "Toyota           2038\n",
       "Hyundai          1867\n",
       "SEAT             1743\n",
       "Skoda            1566\n",
       "Dacia            1537\n",
       "Name: make, dtype: int64"
      ]
     },
     "execution_count": 55,
     "metadata": {},
     "output_type": "execute_result"
    }
   ],
   "source": [
    "df.make.value_counts(dropna=False)"
   ]
  },
  {
   "cell_type": "markdown",
   "metadata": {},
   "source": [
    "## model\n",
    "\n",
    "### 📝 Some Remarks on car model:\n",
    "\n",
    "**The importance of model in cars while selling and buying?**\n",
    "\n",
    "The model of a car is the specific version or variant of a particular make. When selling or buying a car, the model is an important consideration for several reasons:\n",
    "\n",
    "  - **``Features and options``**: Different models within a make can have different standard and optional features, such as engine size, transmission type, safety features, and entertainment systems. These features can affect the car's value and desirability.\n",
    "\n",
    "  - **``Condition``**: The condition of a particular model can vary depending on factors such as age, mileage, and maintenance history. Some models may have a reputation for being more reliable or durable than others, which can affect their resale value.\n",
    "\n",
    "  - **``Rarity``**: Some models may be more rare or collectible, which can affect their value and desirability among certain buyers.\n",
    "\n",
    "  - **``Personal preference``**: Buyers may have personal preferences for certain models based on factors such as styling, performance, or reputation.\n",
    "\n",
    "When selling a car, emphasizing the specific model can help to attract buyers who are specifically interested in that particular version or variant of the make. Similarly, when buying a car, considering the model can help to narrow down the options and find a vehicle that meets the buyer's needs and preferences."
   ]
  },
  {
   "cell_type": "code",
   "execution_count": 56,
   "metadata": {},
   "outputs": [
    {
     "name": "stdout",
     "output_type": "stream",
     "text": [
      "column name    :  model\n",
      "--------------------------------\n",
      "per_of_nulls   :  % 0.0\n",
      "num_of_nulls   :  0\n",
      "num_of_uniques :  594\n",
      "shape_of_df    :  (28630, 46)\n",
      "--------------------------------\n",
      "[\\n, Megane ,\\n]        863\n",
      "[\\n, Leon ,\\n]          787\n",
      "[\\n, V40 ,\\n]           740\n",
      "[\\n, Sandero ,\\n]       730\n",
      "[\\n, i30 ,\\n]           706\n",
      "                       ... \n",
      "[\\n, GLA 35 AMG ,\\n]      1\n",
      "[\\n, G 55 AMG ,\\n]        1\n",
      "[\\n, Ariya ,\\n]           1\n",
      "[\\n, 105 ,\\n]             1\n",
      "[\\n, 244 ,\\n]             1\n",
      "Name: model, Length: 594, dtype: int64\n"
     ]
    }
   ],
   "source": [
    "first_looking(df, \"model\")"
   ]
  },
  {
   "cell_type": "code",
   "execution_count": 57,
   "metadata": {},
   "outputs": [
    {
     "data": {
      "text/plain": [
       "['\\n, A 160 ,\\n']"
      ]
     },
     "execution_count": 57,
     "metadata": {},
     "output_type": "execute_result"
    }
   ],
   "source": [
    "df[\"model\"][0]"
   ]
  },
  {
   "cell_type": "code",
   "execution_count": 58,
   "metadata": {},
   "outputs": [
    {
     "data": {
      "text/plain": [
       "0           \\n, A 160 ,\\n\n",
       "1         \\n, EQE 350 ,\\n\n",
       "2        \\n, A 45 AMG ,\\n\n",
       "3        \\n, A 35 AMG ,\\n\n",
       "4        \\n, A 45 AMG ,\\n\n",
       "               ...       \n",
       "29474         \\n, S90 ,\\n\n",
       "29475         \\n, S40 ,\\n\n",
       "29476         \\n, C30 ,\\n\n",
       "29477         \\n, S90 ,\\n\n",
       "29478         \\n, S80 ,\\n\n",
       "Name: model, Length: 28630, dtype: object"
      ]
     },
     "execution_count": 58,
     "metadata": {},
     "output_type": "execute_result"
    }
   ],
   "source": [
    "df[\"model\"].explode()"
   ]
  },
  {
   "cell_type": "code",
   "execution_count": 59,
   "metadata": {},
   "outputs": [
    {
     "data": {
      "text/plain": [
       "0           A 160\n",
       "1         EQE 350\n",
       "2        A 45 AMG\n",
       "3        A 35 AMG\n",
       "4        A 45 AMG\n",
       "           ...   \n",
       "29474         S90\n",
       "29475         S40\n",
       "29476         C30\n",
       "29477         S90\n",
       "29478         S80\n",
       "Name: model, Length: 28630, dtype: object"
      ]
     },
     "execution_count": 59,
     "metadata": {},
     "output_type": "execute_result"
    }
   ],
   "source": [
    "# df[\"model\"].str[0]\n",
    "# df['model'].astype(str).str.extract('([A-Z]+.\\d+)')\n",
    "# df['model'].astype(str).str.extract('( \\D+.\\d+)')\n",
    "\n",
    "df['model'] = df['model'].explode().str.strip(\"\\n, \")\n",
    "df['model']"
   ]
  },
  {
   "cell_type": "markdown",
   "metadata": {},
   "source": [
    "**🧐 What does [explode()](https://pandas.pydata.org/docs/reference/api/pandas.DataFrame.explode.html) do in Pandas?**\n",
    "\n",
    "In pandas, the explode() function is used to transform a column containing a list-like object (e.g. a list, tuple, or Series) into multiple rows, with one row for each item in the list.\n",
    "\n",
    "By default, explode() drops any rows with missing or null values in the column being exploded. You can use the ignore_index parameter to reset the index of the resulting DataFrame, and the level parameter to specify the level at which to explode if the column being exploded is a multi-level index."
   ]
  },
  {
   "cell_type": "code",
   "execution_count": 60,
   "metadata": {},
   "outputs": [
    {
     "data": {
      "text/plain": [
       "Megane        863\n",
       "Leon          787\n",
       "V40           740\n",
       "Sandero       730\n",
       "i30           706\n",
       "             ... \n",
       "GLA 35 AMG      1\n",
       "G 55 AMG        1\n",
       "Ariya           1\n",
       "105             1\n",
       "244             1\n",
       "Name: model, Length: 594, dtype: int64"
      ]
     },
     "execution_count": 60,
     "metadata": {},
     "output_type": "execute_result"
    }
   ],
   "source": [
    "df.model.value_counts(dropna=False)"
   ]
  },
  {
   "cell_type": "markdown",
   "metadata": {},
   "source": [
    "**Let's check the compatibility of the values in the ``make`` and ``model`` columns of the vehicles with the values in the ``make_model`` column:**"
   ]
  },
  {
   "cell_type": "code",
   "execution_count": 61,
   "metadata": {},
   "outputs": [
    {
     "data": {
      "text/html": [
       "<div>\n",
       "<style scoped>\n",
       "    .dataframe tbody tr th:only-of-type {\n",
       "        vertical-align: middle;\n",
       "    }\n",
       "\n",
       "    .dataframe tbody tr th {\n",
       "        vertical-align: top;\n",
       "    }\n",
       "\n",
       "    .dataframe thead th {\n",
       "        text-align: right;\n",
       "    }\n",
       "</style>\n",
       "<table border=\"1\" class=\"dataframe\">\n",
       "  <thead>\n",
       "    <tr style=\"text-align: right;\">\n",
       "      <th></th>\n",
       "      <th>make_model</th>\n",
       "      <th>make</th>\n",
       "      <th>model</th>\n",
       "    </tr>\n",
       "  </thead>\n",
       "  <tbody>\n",
       "    <tr>\n",
       "      <th>20507</th>\n",
       "      <td>Nissan Qashqai</td>\n",
       "      <td>Nissan</td>\n",
       "      <td>Qashqai</td>\n",
       "    </tr>\n",
       "    <tr>\n",
       "      <th>29474</th>\n",
       "      <td>Volvo S90</td>\n",
       "      <td>Volvo</td>\n",
       "      <td>S90</td>\n",
       "    </tr>\n",
       "    <tr>\n",
       "      <th>18216</th>\n",
       "      <td>Toyota RAV 4</td>\n",
       "      <td>Toyota</td>\n",
       "      <td>RAV 4</td>\n",
       "    </tr>\n",
       "    <tr>\n",
       "      <th>15852</th>\n",
       "      <td>Dacia Duster</td>\n",
       "      <td>Dacia</td>\n",
       "      <td>Duster</td>\n",
       "    </tr>\n",
       "    <tr>\n",
       "      <th>3951</th>\n",
       "      <td>Opel Mokka</td>\n",
       "      <td>Opel</td>\n",
       "      <td>Mokka</td>\n",
       "    </tr>\n",
       "    <tr>\n",
       "      <th>13338</th>\n",
       "      <td>SEAT Cordoba</td>\n",
       "      <td>SEAT</td>\n",
       "      <td>Cordoba</td>\n",
       "    </tr>\n",
       "    <tr>\n",
       "      <th>10449</th>\n",
       "      <td>Fiat 124 Spider</td>\n",
       "      <td>Fiat</td>\n",
       "      <td>124 Spider</td>\n",
       "    </tr>\n",
       "    <tr>\n",
       "      <th>19411</th>\n",
       "      <td>Nissan Pulsar</td>\n",
       "      <td>Nissan</td>\n",
       "      <td>Pulsar</td>\n",
       "    </tr>\n",
       "    <tr>\n",
       "      <th>25519</th>\n",
       "      <td>Hyundai i30</td>\n",
       "      <td>Hyundai</td>\n",
       "      <td>i30</td>\n",
       "    </tr>\n",
       "    <tr>\n",
       "      <th>22474</th>\n",
       "      <td>Ford Mustang</td>\n",
       "      <td>Ford</td>\n",
       "      <td>Mustang</td>\n",
       "    </tr>\n",
       "    <tr>\n",
       "      <th>29176</th>\n",
       "      <td>Volvo S40</td>\n",
       "      <td>Volvo</td>\n",
       "      <td>S40</td>\n",
       "    </tr>\n",
       "    <tr>\n",
       "      <th>8502</th>\n",
       "      <td>Peugeot 3008</td>\n",
       "      <td>Peugeot</td>\n",
       "      <td>3008</td>\n",
       "    </tr>\n",
       "    <tr>\n",
       "      <th>5437</th>\n",
       "      <td>Renault Megane</td>\n",
       "      <td>Renault</td>\n",
       "      <td>Megane</td>\n",
       "    </tr>\n",
       "    <tr>\n",
       "      <th>10222</th>\n",
       "      <td>Fiat 500C</td>\n",
       "      <td>Fiat</td>\n",
       "      <td>500C</td>\n",
       "    </tr>\n",
       "    <tr>\n",
       "      <th>20118</th>\n",
       "      <td>Nissan GT-R</td>\n",
       "      <td>Nissan</td>\n",
       "      <td>GT-R</td>\n",
       "    </tr>\n",
       "    <tr>\n",
       "      <th>11890</th>\n",
       "      <td>Fiat Tipo</td>\n",
       "      <td>Fiat</td>\n",
       "      <td>Tipo</td>\n",
       "    </tr>\n",
       "    <tr>\n",
       "      <th>26659</th>\n",
       "      <td>Volvo C70</td>\n",
       "      <td>Volvo</td>\n",
       "      <td>C70</td>\n",
       "    </tr>\n",
       "    <tr>\n",
       "      <th>24115</th>\n",
       "      <td>Hyundai IONIQ</td>\n",
       "      <td>Hyundai</td>\n",
       "      <td>IONIQ</td>\n",
       "    </tr>\n",
       "    <tr>\n",
       "      <th>29008</th>\n",
       "      <td>Volvo 240</td>\n",
       "      <td>Volvo</td>\n",
       "      <td>240</td>\n",
       "    </tr>\n",
       "    <tr>\n",
       "      <th>9123</th>\n",
       "      <td>Peugeot 308</td>\n",
       "      <td>Peugeot</td>\n",
       "      <td>308</td>\n",
       "    </tr>\n",
       "  </tbody>\n",
       "</table>\n",
       "</div>"
      ],
      "text/plain": [
       "            make_model     make       model\n",
       "20507   Nissan Qashqai   Nissan     Qashqai\n",
       "29474        Volvo S90    Volvo         S90\n",
       "18216     Toyota RAV 4   Toyota       RAV 4\n",
       "15852     Dacia Duster    Dacia      Duster\n",
       "3951        Opel Mokka     Opel       Mokka\n",
       "13338     SEAT Cordoba     SEAT     Cordoba\n",
       "10449  Fiat 124 Spider     Fiat  124 Spider\n",
       "19411    Nissan Pulsar   Nissan      Pulsar\n",
       "25519      Hyundai i30  Hyundai         i30\n",
       "22474     Ford Mustang     Ford     Mustang\n",
       "29176        Volvo S40    Volvo         S40\n",
       "8502      Peugeot 3008  Peugeot        3008\n",
       "5437    Renault Megane  Renault      Megane\n",
       "10222        Fiat 500C     Fiat        500C\n",
       "20118      Nissan GT-R   Nissan        GT-R\n",
       "11890        Fiat Tipo     Fiat        Tipo\n",
       "26659        Volvo C70    Volvo         C70\n",
       "24115    Hyundai IONIQ  Hyundai       IONIQ\n",
       "29008        Volvo 240    Volvo         240\n",
       "9123       Peugeot 308  Peugeot         308"
      ]
     },
     "execution_count": 61,
     "metadata": {},
     "output_type": "execute_result"
    }
   ],
   "source": [
    "df[['make_model', 'make', 'model']].sample(20)"
   ]
  },
  {
   "cell_type": "markdown",
   "metadata": {},
   "source": [
    "**When the percentage or number of Null/Missing values are checked before it seems there has been nothing; however there has been some anomilies for ``model`` feature including some empty cells. Let's check them:**"
   ]
  },
  {
   "cell_type": "code",
   "execution_count": 62,
   "metadata": {},
   "outputs": [
    {
     "data": {
      "text/plain": [
       "''"
      ]
     },
     "metadata": {},
     "output_type": "display_data"
    },
    {
     "data": {
      "text/plain": [
       "''"
      ]
     },
     "metadata": {},
     "output_type": "display_data"
    }
   ],
   "source": [
    "display(df.loc[2967, \"model\"])\n",
    "display(df.loc[22043, \"model\"])"
   ]
  },
  {
   "cell_type": "code",
   "execution_count": 63,
   "metadata": {},
   "outputs": [
    {
     "data": {
      "text/plain": [
       "False    28354\n",
       "True       276\n",
       "Name: model, dtype: int64"
      ]
     },
     "execution_count": 63,
     "metadata": {},
     "output_type": "execute_result"
    }
   ],
   "source": [
    "df['model'].str.contains(r'^\\s*$').value_counts()"
   ]
  },
  {
   "cell_type": "code",
   "execution_count": 64,
   "metadata": {},
   "outputs": [
    {
     "data": {
      "text/plain": [
       "276"
      ]
     },
     "metadata": {},
     "output_type": "display_data"
    },
    {
     "data": {
      "text/html": [
       "<div>\n",
       "<style scoped>\n",
       "    .dataframe tbody tr th:only-of-type {\n",
       "        vertical-align: middle;\n",
       "    }\n",
       "\n",
       "    .dataframe tbody tr th {\n",
       "        vertical-align: top;\n",
       "    }\n",
       "\n",
       "    .dataframe thead th {\n",
       "        text-align: right;\n",
       "    }\n",
       "</style>\n",
       "<table border=\"1\" class=\"dataframe\">\n",
       "  <thead>\n",
       "    <tr style=\"text-align: right;\">\n",
       "      <th></th>\n",
       "      <th>make_model</th>\n",
       "      <th>make</th>\n",
       "      <th>model</th>\n",
       "    </tr>\n",
       "  </thead>\n",
       "  <tbody>\n",
       "    <tr>\n",
       "      <th>162</th>\n",
       "      <td>Mercedes-Benz</td>\n",
       "      <td>Mercedes-Benz</td>\n",
       "      <td></td>\n",
       "    </tr>\n",
       "    <tr>\n",
       "      <th>184</th>\n",
       "      <td>Mercedes-Benz</td>\n",
       "      <td>Mercedes-Benz</td>\n",
       "      <td></td>\n",
       "    </tr>\n",
       "    <tr>\n",
       "      <th>186</th>\n",
       "      <td>Mercedes-Benz</td>\n",
       "      <td>Mercedes-Benz</td>\n",
       "      <td></td>\n",
       "    </tr>\n",
       "    <tr>\n",
       "      <th>211</th>\n",
       "      <td>Mercedes-Benz</td>\n",
       "      <td>Mercedes-Benz</td>\n",
       "      <td></td>\n",
       "    </tr>\n",
       "    <tr>\n",
       "      <th>213</th>\n",
       "      <td>Mercedes-Benz</td>\n",
       "      <td>Mercedes-Benz</td>\n",
       "      <td></td>\n",
       "    </tr>\n",
       "    <tr>\n",
       "      <th>...</th>\n",
       "      <td>...</td>\n",
       "      <td>...</td>\n",
       "      <td>...</td>\n",
       "    </tr>\n",
       "    <tr>\n",
       "      <th>27638</th>\n",
       "      <td>Volvo</td>\n",
       "      <td>Volvo</td>\n",
       "      <td></td>\n",
       "    </tr>\n",
       "    <tr>\n",
       "      <th>27681</th>\n",
       "      <td>Volvo</td>\n",
       "      <td>Volvo</td>\n",
       "      <td></td>\n",
       "    </tr>\n",
       "    <tr>\n",
       "      <th>28020</th>\n",
       "      <td>Volvo</td>\n",
       "      <td>Volvo</td>\n",
       "      <td></td>\n",
       "    </tr>\n",
       "    <tr>\n",
       "      <th>28036</th>\n",
       "      <td>Volvo</td>\n",
       "      <td>Volvo</td>\n",
       "      <td></td>\n",
       "    </tr>\n",
       "    <tr>\n",
       "      <th>28079</th>\n",
       "      <td>Volvo</td>\n",
       "      <td>Volvo</td>\n",
       "      <td></td>\n",
       "    </tr>\n",
       "  </tbody>\n",
       "</table>\n",
       "<p>276 rows × 3 columns</p>\n",
       "</div>"
      ],
      "text/plain": [
       "           make_model           make model\n",
       "162    Mercedes-Benz   Mercedes-Benz      \n",
       "184    Mercedes-Benz   Mercedes-Benz      \n",
       "186    Mercedes-Benz   Mercedes-Benz      \n",
       "211    Mercedes-Benz   Mercedes-Benz      \n",
       "213    Mercedes-Benz   Mercedes-Benz      \n",
       "...               ...            ...   ...\n",
       "27638          Volvo           Volvo      \n",
       "27681          Volvo           Volvo      \n",
       "28020          Volvo           Volvo      \n",
       "28036          Volvo           Volvo      \n",
       "28079          Volvo           Volvo      \n",
       "\n",
       "[276 rows x 3 columns]"
      ]
     },
     "execution_count": 64,
     "metadata": {},
     "output_type": "execute_result"
    }
   ],
   "source": [
    "display((df[df['model'].str.contains(r'^\\s*$')][ \"model\"]).count())\n",
    "df[df['model'].str.contains(r'^\\s*$')][[\"make_model\", \"make\", \"model\"]]"
   ]
  },
  {
   "cell_type": "markdown",
   "metadata": {},
   "source": [
    "**Let's check how many unique values there have been for ``make_model``, ``make``, and ``model``:**"
   ]
  },
  {
   "cell_type": "code",
   "execution_count": 65,
   "metadata": {},
   "outputs": [
    {
     "data": {
      "text/plain": [
       "611"
      ]
     },
     "metadata": {},
     "output_type": "display_data"
    },
    {
     "data": {
      "text/plain": [
       "13"
      ]
     },
     "metadata": {},
     "output_type": "display_data"
    },
    {
     "data": {
      "text/plain": [
       "594"
      ]
     },
     "metadata": {},
     "output_type": "display_data"
    },
    {
     "data": {
      "text/html": [
       "<div>\n",
       "<style scoped>\n",
       "    .dataframe tbody tr th:only-of-type {\n",
       "        vertical-align: middle;\n",
       "    }\n",
       "\n",
       "    .dataframe tbody tr th {\n",
       "        vertical-align: top;\n",
       "    }\n",
       "\n",
       "    .dataframe thead th {\n",
       "        text-align: right;\n",
       "    }\n",
       "</style>\n",
       "<table border=\"1\" class=\"dataframe\">\n",
       "  <thead>\n",
       "    <tr style=\"text-align: right;\">\n",
       "      <th></th>\n",
       "      <th>model</th>\n",
       "    </tr>\n",
       "    <tr>\n",
       "      <th>make</th>\n",
       "      <th></th>\n",
       "    </tr>\n",
       "  </thead>\n",
       "  <tbody>\n",
       "    <tr>\n",
       "      <th>Dacia</th>\n",
       "      <td>9</td>\n",
       "    </tr>\n",
       "    <tr>\n",
       "      <th>Fiat</th>\n",
       "      <td>45</td>\n",
       "    </tr>\n",
       "    <tr>\n",
       "      <th>Ford</th>\n",
       "      <td>44</td>\n",
       "    </tr>\n",
       "    <tr>\n",
       "      <th>Hyundai</th>\n",
       "      <td>35</td>\n",
       "    </tr>\n",
       "    <tr>\n",
       "      <th>Mercedes-Benz</th>\n",
       "      <td>205</td>\n",
       "    </tr>\n",
       "    <tr>\n",
       "      <th>Nissan</th>\n",
       "      <td>46</td>\n",
       "    </tr>\n",
       "    <tr>\n",
       "      <th>Opel</th>\n",
       "      <td>40</td>\n",
       "    </tr>\n",
       "    <tr>\n",
       "      <th>Peugeot</th>\n",
       "      <td>39</td>\n",
       "    </tr>\n",
       "    <tr>\n",
       "      <th>Renault</th>\n",
       "      <td>45</td>\n",
       "    </tr>\n",
       "    <tr>\n",
       "      <th>SEAT</th>\n",
       "      <td>16</td>\n",
       "    </tr>\n",
       "    <tr>\n",
       "      <th>Skoda</th>\n",
       "      <td>14</td>\n",
       "    </tr>\n",
       "    <tr>\n",
       "      <th>Toyota</th>\n",
       "      <td>39</td>\n",
       "    </tr>\n",
       "    <tr>\n",
       "      <th>Volvo</th>\n",
       "      <td>34</td>\n",
       "    </tr>\n",
       "  </tbody>\n",
       "</table>\n",
       "</div>"
      ],
      "text/plain": [
       "               model\n",
       "make                \n",
       "Dacia              9\n",
       "Fiat              45\n",
       "Ford              44\n",
       "Hyundai           35\n",
       "Mercedes-Benz    205\n",
       "Nissan            46\n",
       "Opel              40\n",
       "Peugeot           39\n",
       "Renault           45\n",
       "SEAT              16\n",
       "Skoda             14\n",
       "Toyota            39\n",
       "Volvo             34"
      ]
     },
     "metadata": {},
     "output_type": "display_data"
    }
   ],
   "source": [
    "display(df[\"make_model\"].nunique())  # The number of unique values in \"make_model\"\n",
    "display(df[\"make\"].nunique())  # The number of unique values in \"make\"\n",
    "display(df[\"model\"].nunique())  # The number of unique values in \"model\"\n",
    "\n",
    "display(df.groupby(\"make\")[\"model\"].nunique().to_frame())\n",
    "# display(df[df['make_model'].str.contains(r'Dacia')][\"model\"].nunique())\n",
    "# display(df[df['make_model'].str.contains(r'Fiat')][\"model\"].nunique())\n",
    "# display(df[df['make_model'].str.contains(r'SEAT')][\"model\"].nunique())"
   ]
  },
  {
   "cell_type": "code",
   "execution_count": 66,
   "metadata": {},
   "outputs": [],
   "source": [
    "# df.drop([\"make\"], axis=1, inplace=True)\n",
    "# df.drop([\"model\"], axis=1, inplace=True)"
   ]
  },
  {
   "cell_type": "code",
   "execution_count": 67,
   "metadata": {},
   "outputs": [
    {
     "data": {
      "text/plain": [
       "(28630, 46)"
      ]
     },
     "execution_count": 67,
     "metadata": {},
     "output_type": "execute_result"
    }
   ],
   "source": [
    "df.shape"
   ]
  },
  {
   "cell_type": "markdown",
   "metadata": {},
   "source": [
    "**After the examination, we will keep the columns of \"make_model\", \"make\", and \"model\" and decide later which one/s will be dropped.**"
   ]
  },
  {
   "cell_type": "markdown",
   "metadata": {},
   "source": [
    "## short_description\n",
    "\n",
    "### 📝 Some Remarks on short description:\n",
    "\n",
    "In any car trade web page, the short description for a car is a brief summary or overview of the vehicle's key features and characteristics. This description typically includes information such as the make, model, year, mileage, condition, and any notable features such as trim level, engine type, transmission, and interior/exterior color.\n",
    "\n",
    "The short_description serves as a quick summary of the car's most important details, allowing potential buyers to quickly assess whether the car meets their needs and preferences. It is often displayed prominently on the webpage alongside a photo of the car, and may also include other key information such as the asking price, location of the vehicle, and the seller's contact information.\n",
    "\n",
    "The short_description is an important component of a car listing on a trade web page, as it can help to attract potential buyers and generate interest in the vehicle. A well-crafted short_description that accurately and effectively highlights the car's key features and benefits can help to increase the likelihood of a successful sale."
   ]
  },
  {
   "cell_type": "code",
   "execution_count": 68,
   "metadata": {},
   "outputs": [
    {
     "name": "stdout",
     "output_type": "stream",
     "text": [
      "column name    :  short_description\n",
      "--------------------------------\n",
      "per_of_nulls   :  % 0.0\n",
      "num_of_nulls   :  0\n",
      "num_of_uniques :  20947\n",
      "shape_of_df    :  (28630, 46)\n",
      "--------------------------------\n",
      "                                                      213\n",
      "D2 Momentum 120                                        88\n",
      "D2 Kinetic 120                                         87\n",
      "Cabrio 1.4T S&S Excellence                             85\n",
      "Extreme+ 7-Sitzer TCe 110                              57\n",
      "                                                     ... \n",
      "PureTech  EAT8 Allure Pack...DISP. PER NOLEGGIO         1\n",
      "BlueHDi 130 S&S EAT8 Business                           1\n",
      "2.0 BlueHDi 180ch S\\u0026S GT Line EAT8                 1\n",
      "1.2 PureTech Première AUT. NAVI PANO                    1\n",
      "2.9 Executive G. NETTE AUTO! LEER! NAVI! CRUISE! L      1\n",
      "Name: short_description, Length: 20947, dtype: int64\n"
     ]
    }
   ],
   "source": [
    "first_looking(df, \"short_description\")"
   ]
  },
  {
   "cell_type": "code",
   "execution_count": 69,
   "metadata": {},
   "outputs": [],
   "source": [
    "# df.drop(\"short_description\", axis=1, inplace=True)"
   ]
  },
  {
   "cell_type": "markdown",
   "metadata": {},
   "source": [
    "I may benefit from this short_description feature in the future. That's why I don't drop right away now. I leave dropping for later"
   ]
  },
  {
   "cell_type": "code",
   "execution_count": 70,
   "metadata": {},
   "outputs": [
    {
     "data": {
      "text/plain": [
       "(28630, 46)"
      ]
     },
     "execution_count": 70,
     "metadata": {},
     "output_type": "execute_result"
    }
   ],
   "source": [
    "df.shape"
   ]
  },
  {
   "cell_type": "markdown",
   "metadata": {},
   "source": [
    "## desc"
   ]
  },
  {
   "cell_type": "code",
   "execution_count": 71,
   "metadata": {},
   "outputs": [],
   "source": [
    "#first_looking(df, \"desc\")"
   ]
  },
  {
   "cell_type": "markdown",
   "metadata": {},
   "source": [
    "Long unnecessary descriptions"
   ]
  },
  {
   "cell_type": "code",
   "execution_count": 72,
   "metadata": {},
   "outputs": [
    {
     "data": {
      "text/plain": [
       "(28630, 46)"
      ]
     },
     "execution_count": 72,
     "metadata": {},
     "output_type": "execute_result"
    }
   ],
   "source": [
    "df.shape"
   ]
  },
  {
   "cell_type": "code",
   "execution_count": 73,
   "metadata": {},
   "outputs": [],
   "source": [
    "df.drop(\"desc\", axis=1, inplace=True)"
   ]
  },
  {
   "cell_type": "code",
   "execution_count": 74,
   "metadata": {},
   "outputs": [
    {
     "data": {
      "text/plain": [
       "(28630, 45)"
      ]
     },
     "execution_count": 74,
     "metadata": {},
     "output_type": "execute_result"
    }
   ],
   "source": [
    "df.shape"
   ]
  },
  {
   "cell_type": "markdown",
   "metadata": {},
   "source": [
    "## location\n",
    "\n",
    "### 📝 Some Remarks on location:\n",
    "\n",
    "In a car trade web page, the location for a car refers to the physical location where the vehicle is currently located. This information is typically provided in the car's listing along with other key details such as the make, model, year, mileage, and asking price.\n",
    "\n",
    "The location of the car is an important consideration for potential buyers, as it can affect the logistics and costs associated with purchasing and transporting the vehicle. For example, a buyer who lives far away from the location of the car may need to factor in additional costs for shipping or travel expenses in order to inspect or purchase the vehicle.\n",
    "\n",
    "In addition to the location of the car itself, some car trade web pages may also provide information about the location of the seller or dealership selling the vehicle. This information can be useful for buyers who want to assess the reputation and credibility of the seller, as well as for those who may want to visit the seller in person to inspect the vehicle or negotiate the terms of the sale.\n",
    "\n",
    "Overall, the location of a car is an important piece of information that can help potential buyers to make informed decisions about whether a particular vehicle is a good fit for their needs and circumstances."
   ]
  },
  {
   "cell_type": "code",
   "execution_count": 75,
   "metadata": {},
   "outputs": [
    {
     "name": "stdout",
     "output_type": "stream",
     "text": [
      "column name    :  location\n",
      "--------------------------------\n",
      "per_of_nulls   :  % 0.0\n",
      "num_of_nulls   :  0\n",
      "num_of_uniques :  8181\n",
      "shape_of_df    :  (28630, 45)\n",
      "--------------------------------\n",
      "Av. Laboral, 10,  28021 MADRID, ES                          306\n",
      "Luckenwalder Berg 5,  14913 Jüterbog, DE                    170\n",
      "Ctra. del Mig, 96,,  08097 L'Hospitalet de Llobregat, ES    146\n",
      "9 boulevard Jules Ferry,  75011 Paris, FR                   142\n",
      "Neuenhofstr. 77,  52078 Aachen, DE                          135\n",
      "                                                           ... \n",
      "2727CT ZOETERMEER, NL                                         1\n",
      "Rosendaalsestraat 437-439,  6824 CK ARNHEM, NL                1\n",
      "5751VH DEURNE, NL                                             1\n",
      "00148 roma, IT                                                1\n",
      "Sur rendez-vous,  5060 Sambreville, BE                        1\n",
      "Name: location, Length: 8181, dtype: int64\n"
     ]
    }
   ],
   "source": [
    "first_looking(df, \"location\")"
   ]
  },
  {
   "cell_type": "code",
   "execution_count": 76,
   "metadata": {},
   "outputs": [
    {
     "data": {
      "text/plain": [
       "0        P.I. EL PALMAR C/FORJA 6,  11500 PUERTO DE SAN...\n",
       "1             APARTADO DE CORREOS 1032,  26140 LOGROÑO, ES\n",
       "2        PORT. TARRACO, MOLL DE LLEVANT, Nº 5, LOC. 6-8...\n",
       "3        Carrer de Provença, 31 Local,  8029 BARCELONA, ES\n",
       "4                   CARRIL ARAGONES 4,  30007 CASILLAS, ES\n",
       "                               ...                        \n",
       "29474             HERMANOS LUMIERE Nº16,  29004 MALAGA, ES\n",
       "29475                    Stobbeweg 6,  2461 EX TER AAR, NL\n",
       "29476               Sur rendez-vous,  5060 Sambreville, BE\n",
       "29477      Bergambachterstraat 5,  2871 JB SCHOONHOVEN, NL\n",
       "29478                    Lage Ham 106,  5102 AE DONGEN, NL\n",
       "Name: location, Length: 28630, dtype: object"
      ]
     },
     "execution_count": 76,
     "metadata": {},
     "output_type": "execute_result"
    }
   ],
   "source": [
    "df.location"
   ]
  },
  {
   "cell_type": "markdown",
   "metadata": {},
   "source": [
    "### Location feature will be kept for finding the answers of some analytical questions in this analysis for now, but in machine learning modelling."
   ]
  },
  {
   "cell_type": "markdown",
   "metadata": {},
   "source": [
    "## body_type\n",
    "\n",
    "### 📝 Some Remarks on body type (Class):\n",
    "\n",
    "In any car trade web page, the vehicle class (body type) for a car describe the car's size, shape, and style. Vehicle class and body type affect resale value for multiple reasons. One critical factor is geography. Sports cars and convertibles sell better in warm climates, where they’re practical throughout the year. Rugged SUVs and four-wheel-drive vehicles are more popular in colder climates and areas with rougher terrain.\n",
    "\n",
    "The vehicle class typically refers to a broader category of vehicles based on their intended use and size. Common vehicle classes include subcompact cars, compact cars, midsize cars, full-size cars, SUVs, trucks, and vans. The vehicle class can provide a general indication of the car's size, features, and capabilities, and can be useful for buyers who are looking for a specific type of vehicle for a particular purpose.\n",
    "\n",
    "Overall, both the vehicle class (body type) is important pieces of information that can help potential buyers to narrow down their options and find a vehicle that meets their needs and preferences. Car trade web pages typically provide information about the class of each vehicle in the listing, along with other key details such as the make, model, year, mileage, and asking price."
   ]
  },
  {
   "cell_type": "code",
   "execution_count": 77,
   "metadata": {},
   "outputs": [
    {
     "name": "stdout",
     "output_type": "stream",
     "text": [
      "column name    :  body_type\n",
      "--------------------------------\n",
      "per_of_nulls   :  % 0.0\n",
      "num_of_nulls   :  0\n",
      "num_of_uniques :  6\n",
      "shape_of_df    :  (28630, 45)\n",
      "--------------------------------\n",
      "[\\n, Station wagon, \\n]       5448\n",
      "[\\n, Off-Road/Pick-up, \\n]    5415\n",
      "[\\n, Compact, \\n]             5387\n",
      "[\\n, Sedan, \\n]               5043\n",
      "[\\n, Coupe, \\n]               4009\n",
      "[\\n, Convertible, \\n]         3328\n",
      "Name: body_type, dtype: int64\n"
     ]
    }
   ],
   "source": [
    "first_looking(df, \"body_type\")"
   ]
  },
  {
   "cell_type": "code",
   "execution_count": 78,
   "metadata": {},
   "outputs": [
    {
     "data": {
      "text/plain": [
       "0        Compact\n",
       "1        Compact\n",
       "2        Compact\n",
       "3        Compact\n",
       "4        Compact\n",
       "          ...   \n",
       "29474      Sedan\n",
       "29475      Sedan\n",
       "29476      Sedan\n",
       "29477      Sedan\n",
       "29478      Sedan\n",
       "Name: body_type, Length: 28630, dtype: object"
      ]
     },
     "execution_count": 78,
     "metadata": {},
     "output_type": "execute_result"
    }
   ],
   "source": [
    "# df[\"body_type\"].str[0]\n",
    "# df['body_type'].astype(str).str.extract('([A-Z]+.\\d+)')\n",
    "# df['body_type'].astype(str).str.extract('( \\D+.\\d+)')\n",
    "\n",
    "df['body_type'] = df['body_type'].explode().str.strip(\"\\n, \")\n",
    "df['body_type']"
   ]
  },
  {
   "cell_type": "code",
   "execution_count": 79,
   "metadata": {
    "scrolled": true
   },
   "outputs": [
    {
     "data": {
      "text/plain": [
       "Station wagon       5448\n",
       "Off-Road/Pick-up    5415\n",
       "Compact             5387\n",
       "Sedan               5043\n",
       "Coupe               4009\n",
       "Convertible         3328\n",
       "Name: body_type, dtype: int64"
      ]
     },
     "execution_count": 79,
     "metadata": {},
     "output_type": "execute_result"
    }
   ],
   "source": [
    "df[\"body_type\"].value_counts(dropna=False)"
   ]
  },
  {
   "cell_type": "markdown",
   "metadata": {},
   "source": [
    "## type\n",
    "\n",
    "### 📝 Some Remarks on vehicle type:\n",
    "\n",
    "An ex-demo car is a ex-demonstration unit that are typically test driven by potential customers at the showroom. In the process, the car would have clocked up some mileage. An ex-demo car, depending on how you look at it, can be quite a bargain when shopping for a car. After all, on paper at least, it offers quite a lot of savings compared to a brand-new car. More than often, ex-demo cars are top-spec models as dealers want to persuade customers to get the highest variant possible. Compared to a typical used car, getting an ex-demo car is way more straightforward and transparent, but no where as hassle-free as buying new.\n",
    "\n",
    "A company/employee car is a vehicle provided by the business for both business and private use of an employee who usually is required to travel extensively for their role, for example, a regional sales manager. Due to its nature, this kind of cars will be driven by their owners and have more mileage than others. This is probably the most important factor in a resale. Greater the mileage, more the car has been used; hence higher wear and tear and impact on the engine. A lower reading on the odometer will always command a higher price."
   ]
  },
  {
   "cell_type": "code",
   "execution_count": 80,
   "metadata": {},
   "outputs": [
    {
     "name": "stdout",
     "output_type": "stream",
     "text": [
      "column name    :  type\n",
      "--------------------------------\n",
      "per_of_nulls   :  % 0.0\n",
      "num_of_nulls   :  0\n",
      "num_of_uniques :  4\n",
      "shape_of_df    :  (28630, 45)\n",
      "--------------------------------\n",
      "[\\n, Used, \\n]              25251\n",
      "[\\n, Demonstration, \\n]      1433\n",
      "[\\n, Pre-registered, \\n]     1377\n",
      "[\\n, Employee's car, \\n]      569\n",
      "Name: type, dtype: int64\n"
     ]
    }
   ],
   "source": [
    "first_looking(df, \"type\")"
   ]
  },
  {
   "cell_type": "code",
   "execution_count": 81,
   "metadata": {},
   "outputs": [
    {
     "data": {
      "text/plain": [
       "0                  Used\n",
       "1        Pre-registered\n",
       "2                  Used\n",
       "3                  Used\n",
       "4                  Used\n",
       "              ...      \n",
       "29474              Used\n",
       "29475              Used\n",
       "29476              Used\n",
       "29477              Used\n",
       "29478              Used\n",
       "Name: type, Length: 28630, dtype: object"
      ]
     },
     "execution_count": 81,
     "metadata": {},
     "output_type": "execute_result"
    }
   ],
   "source": [
    "df['type'] = df['type'].explode().str.strip(\"\\n, \")\n",
    "df['type']"
   ]
  },
  {
   "cell_type": "code",
   "execution_count": 82,
   "metadata": {},
   "outputs": [
    {
     "data": {
      "text/plain": [
       "Used              25251\n",
       "Demonstration      1433\n",
       "Pre-registered     1377\n",
       "Employee's car      569\n",
       "Name: type, dtype: int64"
      ]
     },
     "execution_count": 82,
     "metadata": {},
     "output_type": "execute_result"
    }
   ],
   "source": [
    "df.type.value_counts(dropna=False)"
   ]
  },
  {
   "cell_type": "markdown",
   "metadata": {},
   "source": [
    "## doors\n",
    "\n",
    "### 📝 Some Remarks on doors:\n",
    "\n",
    "The number of doors a car has can be an important consideration when buying or selling a vehicle, depending on the preferences and needs of the buyer or seller.\n",
    "\n",
    "For example, a buyer who frequently travels with passengers or children may prefer a car with four or more doors for easier access and exit. On the other hand, a buyer who prioritizes sporty or sleek design may prefer a two-door coupe or convertible.\n",
    "\n",
    "Similarly, when selling a car, the number of doors can affect the car's desirability and resale value. Some buyers may specifically be looking for a car with a certain number of doors, depending on their needs and preferences.\n",
    "\n",
    "However, the number of doors is just one of many factors that buyers and sellers consider when evaluating a car. Other factors such as the make, model, year, mileage, condition, features, and price can also play a significant role in the buying and selling process.\n",
    "\n",
    "Ultimately, whether the number of doors is an important factor in buying or selling a car depends on the specific needs and preferences of the buyer or seller, and should be considered in the context of other relevant factors and considerations."
   ]
  },
  {
   "cell_type": "code",
   "execution_count": 83,
   "metadata": {},
   "outputs": [
    {
     "name": "stdout",
     "output_type": "stream",
     "text": [
      "column name    :  doors\n",
      "--------------------------------\n",
      "per_of_nulls   :  % 1.25\n",
      "num_of_nulls   :  359\n",
      "num_of_uniques :  7\n",
      "shape_of_df    :  (28630, 45)\n",
      "--------------------------------\n",
      "[\\n, 5, \\n]    17481\n",
      "[\\n, 2, \\n]     5523\n",
      "[\\n, 4, \\n]     3001\n",
      "[\\n, 3, \\n]     2259\n",
      "NaN              359\n",
      "[\\n, 6, \\n]        5\n",
      "[\\n, 1, \\n]        2\n",
      "Name: doors, dtype: int64\n"
     ]
    }
   ],
   "source": [
    "first_looking(df, \"doors\")"
   ]
  },
  {
   "cell_type": "code",
   "execution_count": 84,
   "metadata": {},
   "outputs": [
    {
     "data": {
      "text/plain": [
       "0        5.0\n",
       "1        4.0\n",
       "2        5.0\n",
       "3        5.0\n",
       "4        5.0\n",
       "        ... \n",
       "29474    4.0\n",
       "29475    4.0\n",
       "29476    3.0\n",
       "29477    4.0\n",
       "29478    4.0\n",
       "Name: doors, Length: 28630, dtype: float64"
      ]
     },
     "execution_count": 84,
     "metadata": {},
     "output_type": "execute_result"
    }
   ],
   "source": [
    "df['doors'] = df['doors'].explode().str.strip(\"\\n, \")\n",
    "df['doors'] = pd.to_numeric(df['doors'])\n",
    "df['doors']"
   ]
  },
  {
   "cell_type": "code",
   "execution_count": 85,
   "metadata": {
    "scrolled": true
   },
   "outputs": [
    {
     "data": {
      "text/plain": [
       "5.0    17481\n",
       "2.0     5523\n",
       "4.0     3001\n",
       "3.0     2259\n",
       "NaN      359\n",
       "6.0        5\n",
       "1.0        2\n",
       "Name: doors, dtype: int64"
      ]
     },
     "execution_count": 85,
     "metadata": {},
     "output_type": "execute_result"
    }
   ],
   "source": [
    "df.doors.value_counts(dropna=False)"
   ]
  },
  {
   "cell_type": "markdown",
   "metadata": {},
   "source": [
    "## country_version\n",
    "\n",
    "### 📝 Some Remarks on country_version:\n",
    "\n",
    "The country version of a car can sometimes be important in buying and selling in Europe.\n",
    "\n",
    "Different countries may have different regulations, standards, and preferences when it comes to car design, features, and performance. For example, some countries may have stricter emissions standards or safety requirements, or may prefer cars with certain types of engines or features.\n",
    "\n",
    "As a result, the country version of a car can affect its availability, desirability, and resale value in different European countries. A car that is popular and in high demand in one country may not be as popular or in demand in another, depending on factors such as local regulations, cultural preferences, and market conditions.\n",
    "\n",
    "In addition, the country version of a car can also affect its maintenance and repair costs, as well as the availability of replacement parts and service. Some car parts may be specific to a particular country version of a car, and may be more difficult or expensive to source in other countries.\n",
    "\n",
    "Overall, when buying or selling a car in Europe, it is important to consider the country version of the car and how it may affect its availability, desirability, and value in different markets. Car trade web pages may provide information about the country version of a car in the listing, along with other key details such as the make, model, year, mileage, and asking price."
   ]
  },
  {
   "cell_type": "code",
   "execution_count": 86,
   "metadata": {},
   "outputs": [
    {
     "name": "stdout",
     "output_type": "stream",
     "text": [
      "column name    :  country_version\n",
      "--------------------------------\n",
      "per_of_nulls   :  % 41.01\n",
      "num_of_nulls   :  11741\n",
      "num_of_uniques :  26\n",
      "shape_of_df    :  (28630, 45)\n",
      "--------------------------------\n",
      "NaN                         11741\n",
      "[\\n, Germany, \\n]            7939\n",
      "[\\n, Spain, \\n]              6376\n",
      "[\\n, Italy, \\n]               679\n",
      "[\\n, Belgium, \\n]             641\n",
      "[\\n, European Union, \\n]      340\n",
      "[\\n, Netherlands, \\n]         306\n",
      "[\\n, Austria, \\n]             266\n",
      "[\\n, France, \\n]              101\n",
      "[\\n, United States, \\n]        57\n",
      "[\\n, Czechia, \\n]              47\n",
      "[\\n, Poland, \\n]               31\n",
      "[\\n, Hungary, \\n]              21\n",
      "[\\n, Denmark, \\n]              21\n",
      "[\\n, Romania, \\n]              12\n",
      "[\\n, Japan, \\n]                12\n",
      "[\\n, Switzerland, \\n]           9\n",
      "[\\n, Luxembourg, \\n]            9\n",
      "[\\n, Sweden, \\n]                6\n",
      "[\\n, Slovenia, \\n]              5\n",
      "[\\n, Slovakia, \\n]              4\n",
      "[\\n, Croatia, \\n]               3\n",
      "[\\n, Bulgaria, \\n]              1\n",
      "[\\n, Malta, \\n]                 1\n",
      "[\\n, Canada, \\n]                1\n",
      "[\\n, Mexico, \\n]                1\n",
      "Name: country_version, dtype: int64\n"
     ]
    }
   ],
   "source": [
    "first_looking(df, \"country_version\")"
   ]
  },
  {
   "cell_type": "code",
   "execution_count": 87,
   "metadata": {},
   "outputs": [
    {
     "data": {
      "text/plain": [
       "0          Spain\n",
       "1          Spain\n",
       "2          Spain\n",
       "3          Spain\n",
       "4          Spain\n",
       "          ...   \n",
       "29474      Spain\n",
       "29475        NaN\n",
       "29476    Belgium\n",
       "29477        NaN\n",
       "29478        NaN\n",
       "Name: country_version, Length: 28630, dtype: object"
      ]
     },
     "execution_count": 87,
     "metadata": {},
     "output_type": "execute_result"
    }
   ],
   "source": [
    "df[\"country_version\"] = df[\"country_version\"].apply(lambda item: item[0] if type(item) == list else item)\\\n",
    "                                             .str.strip(\"\\n, \")\n",
    "df[\"country_version\"]"
   ]
  },
  {
   "cell_type": "code",
   "execution_count": 88,
   "metadata": {
    "scrolled": false
   },
   "outputs": [
    {
     "data": {
      "text/plain": [
       "NaN               11741\n",
       "Germany            7939\n",
       "Spain              6376\n",
       "Italy               679\n",
       "Belgium             641\n",
       "European Union      340\n",
       "Netherlands         306\n",
       "Austria             266\n",
       "France              101\n",
       "United States        57\n",
       "Czechia              47\n",
       "Poland               31\n",
       "Hungary              21\n",
       "Denmark              21\n",
       "Romania              12\n",
       "Japan                12\n",
       "Switzerland           9\n",
       "Luxembourg            9\n",
       "Sweden                6\n",
       "Slovenia              5\n",
       "Slovakia              4\n",
       "Croatia               3\n",
       "Bulgaria              1\n",
       "Malta                 1\n",
       "Canada                1\n",
       "Mexico                1\n",
       "Name: country_version, dtype: int64"
      ]
     },
     "execution_count": 88,
     "metadata": {},
     "output_type": "execute_result"
    }
   ],
   "source": [
    "df[\"country_version\"].value_counts(dropna=False)"
   ]
  },
  {
   "cell_type": "code",
   "execution_count": 89,
   "metadata": {},
   "outputs": [
    {
     "data": {
      "text/plain": [
       "(28630, 45)"
      ]
     },
     "execution_count": 89,
     "metadata": {},
     "output_type": "execute_result"
    }
   ],
   "source": [
    "df.shape"
   ]
  },
  {
   "cell_type": "code",
   "execution_count": 90,
   "metadata": {},
   "outputs": [],
   "source": [
    "df.drop(\"country_version\", axis=1, inplace=True)"
   ]
  },
  {
   "cell_type": "code",
   "execution_count": 91,
   "metadata": {},
   "outputs": [
    {
     "data": {
      "text/plain": [
       "(28630, 44)"
      ]
     },
     "execution_count": 91,
     "metadata": {},
     "output_type": "execute_result"
    }
   ],
   "source": [
    "df.shape"
   ]
  },
  {
   "cell_type": "markdown",
   "metadata": {},
   "source": [
    "## offer_number\n",
    "\n",
    "### 📝 Some Remarks on offer_number:\n",
    "\n",
    "In a car trade web page, an offer number for a car is a unique identifier assigned to a specific offer or listing for a vehicle. This number can be used by the seller or the website to track the offer and manage the details of the sale."
   ]
  },
  {
   "cell_type": "code",
   "execution_count": 92,
   "metadata": {},
   "outputs": [],
   "source": [
    "#first_looking(df, \"offer_number\")\n",
    "\n",
    "#It takes long time to return output"
   ]
  },
  {
   "cell_type": "code",
   "execution_count": 93,
   "metadata": {},
   "outputs": [
    {
     "data": {
      "text/plain": [
       "(28630, 44)"
      ]
     },
     "execution_count": 93,
     "metadata": {},
     "output_type": "execute_result"
    }
   ],
   "source": [
    "df.shape"
   ]
  },
  {
   "cell_type": "markdown",
   "metadata": {},
   "source": [
    "We are dropping the offer number feature because it has no effect on our price analysis."
   ]
  },
  {
   "cell_type": "code",
   "execution_count": 94,
   "metadata": {},
   "outputs": [],
   "source": [
    "df.drop(\"offer_number\", axis=1, inplace=True)"
   ]
  },
  {
   "cell_type": "code",
   "execution_count": 95,
   "metadata": {},
   "outputs": [
    {
     "data": {
      "text/plain": [
       "(28630, 43)"
      ]
     },
     "execution_count": 95,
     "metadata": {},
     "output_type": "execute_result"
    }
   ],
   "source": [
    "df.shape"
   ]
  },
  {
   "cell_type": "markdown",
   "metadata": {},
   "source": [
    "## warranty\n",
    "\n",
    "### 📝 Some Remarks on mileage:\n",
    "\n",
    "In a car trade web page, the warranty for a car refers to a guarantee or promise provided by the seller or manufacturer that the car will function properly for a specified period of time or under certain conditions. A warranty may cover the cost of repairs or replacement parts if the car experiences certain types of mechanical or electrical problems during the warranty period.\n",
    "\n",
    "Warranties can provide peace of mind for buyers, as they offer a degree of protection against unexpected repair costs and defects. However, the specific terms and conditions of a warranty can vary widely depending on the seller or manufacturer, and may be subject to limitations or exclusions.\n",
    "\n",
    "Warranties may also affect the value and desirability of a car in the used car market. A car with a strong or comprehensive warranty may be more attractive to buyers and may command a higher price, while a car with no warranty or a limited warranty may be less desirable and may sell for a lower price.\n",
    "\n",
    "When buying or selling a car on a car trade web page, it is important to carefully review the terms and conditions of any warranty offered by the seller or manufacturer, and to factor the warranty into the pricing and negotiation process if applicable. "
   ]
  },
  {
   "cell_type": "code",
   "execution_count": 96,
   "metadata": {},
   "outputs": [
    {
     "name": "stdout",
     "output_type": "stream",
     "text": [
      "column name    :  warranty\n",
      "--------------------------------\n",
      "per_of_nulls   :  % 44.87\n",
      "num_of_nulls   :  12846\n",
      "num_of_uniques :  66\n",
      "shape_of_df    :  (28630, 43)\n",
      "--------------------------------\n",
      "NaN                     12846\n",
      "[\\n, 12 months, \\n]      9545\n",
      "[\\n, Yes, \\n]            2319\n",
      "[\\n, 24 months, \\n]      1515\n",
      "[\\n, 60 months, \\n]       968\n",
      "                        ...  \n",
      "[\\n, 55 months, \\n]         1\n",
      "[\\n, 99 months, \\n]         1\n",
      "[\\n, 122 months, \\n]        1\n",
      "[\\n, 44 months, \\n]         1\n",
      "[\\n, 4 months, \\n]          1\n",
      "Name: warranty, Length: 66, dtype: int64\n"
     ]
    }
   ],
   "source": [
    "first_looking(df, \"warranty\")"
   ]
  },
  {
   "cell_type": "code",
   "execution_count": 97,
   "metadata": {},
   "outputs": [
    {
     "data": {
      "text/plain": [
       "0        24.0\n",
       "1        24.0\n",
       "2        12.0\n",
       "3        12.0\n",
       "4        12.0\n",
       "         ... \n",
       "29474    12.0\n",
       "29475     NaN\n",
       "29476    13.0\n",
       "29477    12.0\n",
       "29478     NaN\n",
       "Name: warranty, Length: 28630, dtype: float64"
      ]
     },
     "execution_count": 97,
     "metadata": {},
     "output_type": "execute_result"
    }
   ],
   "source": [
    "df[\"warranty\"] = df.warranty.apply(lambda x : x[0] if type(x)==list else x)\n",
    "\n",
    "df[\"warranty\"] = df.warranty.str.extract('(\\d{1,4})').astype(\"float\") # str.extract('(\\d+)')\n",
    "df[\"warranty\"]"
   ]
  },
  {
   "cell_type": "code",
   "execution_count": 98,
   "metadata": {
    "scrolled": true
   },
   "outputs": [
    {
     "data": {
      "text/plain": [
       "NaN      15165\n",
       "12.0      9545\n",
       "24.0      1515\n",
       "60.0       968\n",
       "6.0        398\n",
       "         ...  \n",
       "55.0         1\n",
       "99.0         1\n",
       "122.0        1\n",
       "44.0         1\n",
       "4.0          1\n",
       "Name: warranty, Length: 65, dtype: int64"
      ]
     },
     "execution_count": 98,
     "metadata": {},
     "output_type": "execute_result"
    }
   ],
   "source": [
    "df.warranty.value_counts(dropna=False)"
   ]
  },
  {
   "cell_type": "markdown",
   "metadata": {},
   "source": [
    "## mileage\n",
    "\n",
    "### 📝 Some Remarks on mileage:\n",
    "\n",
    "In a car trade web page, the mileage for a car refers to the total distance the vehicle has traveled since it was first manufactured. The mileage is usually measured in kilometers or miles, depending on the country and region. Actual kilometer on the cars is one of the most important factors which one may think that there is negative linear correlation between the price and the kilometers of the car. \n",
    "\n",
    "Cars stack, on average, 10,000-15,000 kms in mileage, each year. The more miles your car has been driven, the lower its market value will get generally. Cars with higher mileage on the odometer tend to be exposed to greater wear and tear, and are more likely to require a greater focus on maintenance and repairs. Mileage is also a key ranking factor for prospective used car buyers – the general rule of thumb being that a car with lower miles is viewed more favourably by buyers. "
   ]
  },
  {
   "cell_type": "code",
   "execution_count": 99,
   "metadata": {},
   "outputs": [
    {
     "name": "stdout",
     "output_type": "stream",
     "text": [
      "column name    :  mileage\n",
      "--------------------------------\n",
      "per_of_nulls   :  % 0.0\n",
      "num_of_nulls   :  1\n",
      "num_of_uniques :  14184\n",
      "shape_of_df    :  (28630, 43)\n",
      "--------------------------------\n",
      "10 km         586\n",
      "1 km          172\n",
      "50 km         133\n",
      "100 km        119\n",
      "5,000 km      118\n",
      "             ... \n",
      "141,589 km      1\n",
      "59,821 km       1\n",
      "123,500 km      1\n",
      "29,781 km       1\n",
      "230,047 km      1\n",
      "Name: mileage, Length: 14184, dtype: int64\n"
     ]
    }
   ],
   "source": [
    "first_looking(df, \"mileage\")"
   ]
  },
  {
   "cell_type": "code",
   "execution_count": 100,
   "metadata": {},
   "outputs": [
    {
     "data": {
      "text/plain": [
       "0        120200.0\n",
       "1          5000.0\n",
       "2         18900.0\n",
       "3         18995.0\n",
       "4        197000.0\n",
       "           ...   \n",
       "29474     40345.0\n",
       "29475    145000.0\n",
       "29476     96000.0\n",
       "29477     94343.0\n",
       "29478    230047.0\n",
       "Name: mileage, Length: 28630, dtype: float64"
      ]
     },
     "execution_count": 100,
     "metadata": {},
     "output_type": "execute_result"
    }
   ],
   "source": [
    "# df.mileage.str.replace(',', '').str.rstrip(\" km\").replace('-', np.nan).astype('float')\n",
    "\n",
    "\n",
    "df[\"mileage\"] = df.mileage.str.replace(',', '').str.extract('(\\d{1,8})').astype('float')\n",
    "df[\"mileage\"]"
   ]
  },
  {
   "cell_type": "code",
   "execution_count": 101,
   "metadata": {},
   "outputs": [
    {
     "data": {
      "text/plain": [
       "10.0        586\n",
       "1.0         172\n",
       "50.0        133\n",
       "100.0       119\n",
       "5000.0      118\n",
       "           ... \n",
       "141589.0      1\n",
       "59821.0       1\n",
       "123500.0      1\n",
       "29781.0       1\n",
       "230047.0      1\n",
       "Name: mileage, Length: 14184, dtype: int64"
      ]
     },
     "execution_count": 101,
     "metadata": {},
     "output_type": "execute_result"
    }
   ],
   "source": [
    "df.mileage.value_counts(dropna=False)"
   ]
  },
  {
   "cell_type": "markdown",
   "metadata": {},
   "source": [
    "## first_registration\n",
    "\n",
    "### 📝 Some Remarks on mileage:\n",
    "\n",
    "In a car trade web page, the first registration date for a car refers to the date when the vehicle was first registered with the local or national authorities, and legally allowed to be driven on public roads. This date is also known as the \"first registration year\" or \"registration date.\"\n",
    "\n",
    "The first registration date is an important piece of information that can provide insight into the age and history of the vehicle. For example, a car that was first registered several years ago may have had multiple owners and may have higher mileage, while a car that was recently registered may be in better condition and may have lower mileage.\n",
    "\n",
    "The first registration date can also affect the value and desirability of a car in the used car market. A car that is relatively new and has a recent first registration date may be more attractive to buyers and may command a higher price, while an older car with an earlier first registration date may be less desirable and may sell for a lower price.\n",
    "\n",
    "When buying or selling a car on a car trade web page, it is important to carefully review the first registration date and to consider it in the context of other factors such as the make, model, year, mileage, and condition of the vehicle. "
   ]
  },
  {
   "cell_type": "code",
   "execution_count": 102,
   "metadata": {},
   "outputs": [
    {
     "name": "stdout",
     "output_type": "stream",
     "text": [
      "column name    :  first_registration\n",
      "--------------------------------\n",
      "per_of_nulls   :  % 0.01\n",
      "num_of_nulls   :  2\n",
      "num_of_uniques :  656\n",
      "shape_of_df    :  (28630, 43)\n",
      "--------------------------------\n",
      "08/2022    454\n",
      "06/2022    428\n",
      "05/2019    420\n",
      "06/2019    418\n",
      "07/2019    416\n",
      "          ... \n",
      "06/1967      1\n",
      "06/1980      1\n",
      "09/1970      1\n",
      "06/1963      1\n",
      "10/1979      1\n",
      "Name: first_registration, Length: 656, dtype: int64\n"
     ]
    }
   ],
   "source": [
    "first_looking(df, \"first_registration\")"
   ]
  },
  {
   "cell_type": "code",
   "execution_count": 103,
   "metadata": {
    "scrolled": true
   },
   "outputs": [
    {
     "data": {
      "text/plain": [
       "0        2016\n",
       "1        2022\n",
       "2        2020\n",
       "3        2020\n",
       "4        2015\n",
       "         ... \n",
       "29474    2019\n",
       "29475    2004\n",
       "29476    2011\n",
       "29477    2017\n",
       "29478    2002\n",
       "Name: first_registration, Length: 28630, dtype: object"
      ]
     },
     "execution_count": 103,
     "metadata": {},
     "output_type": "execute_result"
    }
   ],
   "source": [
    "df['first_registration'].str.extract('.*(\\d{4})', expand=False)"
   ]
  },
  {
   "cell_type": "code",
   "execution_count": 104,
   "metadata": {},
   "outputs": [
    {
     "data": {
      "text/plain": [
       "0        2016\n",
       "1        2022\n",
       "2        2020\n",
       "3        2020\n",
       "4        2015\n",
       "         ... \n",
       "29474    2019\n",
       "29475    2004\n",
       "29476    2011\n",
       "29477    2017\n",
       "29478    2002\n",
       "Name: first_registration, Length: 28630, dtype: object"
      ]
     },
     "execution_count": 104,
     "metadata": {},
     "output_type": "execute_result"
    }
   ],
   "source": [
    "# df['first_registration'].map(lambda x: str(x)[-4:])\n",
    "# df.apply(lambda x: str(x['first_registration'])[-4:], axis=1)\n",
    "# [x.strip()[-4:] for x in df['first_registration'].astype(str)]\n",
    "# df['first_registration'].astype(str).str.findall(\"(\\w{4})\").str.join(\"\")\n",
    "# df['first_registration'].astype(str).str.extract(\"(\\w{4})\")\n",
    "# df['first_registration'].str.extract('.*(\\d{4})', expand=False)\n",
    "# df['first_registration'].get(1).extract(\"(\\w{4})\")\n",
    "\n",
    "df['first_registration'].str[-4:]"
   ]
  },
  {
   "cell_type": "code",
   "execution_count": 105,
   "metadata": {},
   "outputs": [
    {
     "data": {
      "text/plain": [
       "0        2016.0\n",
       "1        2022.0\n",
       "2        2020.0\n",
       "3        2020.0\n",
       "4        2015.0\n",
       "          ...  \n",
       "29474    2019.0\n",
       "29475    2004.0\n",
       "29476    2011.0\n",
       "29477    2017.0\n",
       "29478    2002.0\n",
       "Name: first_registration, Length: 28630, dtype: float64"
      ]
     },
     "execution_count": 105,
     "metadata": {},
     "output_type": "execute_result"
    }
   ],
   "source": [
    "df['first_registration'] = df['first_registration'].str[-4:].astype('float')\n",
    "df['first_registration']"
   ]
  },
  {
   "cell_type": "code",
   "execution_count": 106,
   "metadata": {
    "scrolled": true
   },
   "outputs": [
    {
     "data": {
      "text/plain": [
       "2019.0    3667\n",
       "2018.0    3492\n",
       "2022.0    3086\n",
       "2021.0    2870\n",
       "2020.0    2473\n",
       "          ... \n",
       "2023.0       1\n",
       "1929.0       1\n",
       "1950.0       1\n",
       "1928.0       1\n",
       "2202.0       1\n",
       "Name: first_registration, Length: 84, dtype: int64"
      ]
     },
     "execution_count": 106,
     "metadata": {},
     "output_type": "execute_result"
    }
   ],
   "source": [
    "df[\"first_registration\"].value_counts(dropna=False)"
   ]
  },
  {
   "cell_type": "markdown",
   "metadata": {},
   "source": [
    "## production_date\n",
    "\n",
    "### 📝 Some Remarks on production date:\n",
    "\n",
    "In a car trade web page, the production date for a car refers to the date when the vehicle was manufactured by the automaker. This date is also known as the \"manufacture date\" or \"build date.\"\n",
    "\n",
    "The production date is an important piece of information that can provide insight into the age and history of the vehicle. For example, a car that was produced several years ago may have older technology and features compared to a more recent model, while a car that was recently produced may have the latest technology and features.\n",
    "\n",
    "The production date can also affect the value and desirability of a car in the used car market. A car that is relatively new and has a recent production date may be more attractive to buyers and may command a higher price, while an older car with an earlier production date may be less desirable and may sell for a lower price.\n",
    "\n",
    "When buying or selling a car on a car trade web page, it is important to carefully review the production date and to consider it in the context of other factors such as the make, model, year, mileage, and condition of the vehicle. "
   ]
  },
  {
   "cell_type": "code",
   "execution_count": 107,
   "metadata": {},
   "outputs": [
    {
     "name": "stdout",
     "output_type": "stream",
     "text": [
      "column name    :  production_date\n",
      "--------------------------------\n",
      "per_of_nulls   :  % 79.36\n",
      "num_of_nulls   :  22722\n",
      "num_of_uniques :  50\n",
      "shape_of_df    :  (28630, 43)\n",
      "--------------------------------\n",
      "NaN       22722\n",
      "2019.0     1179\n",
      "2021.0      980\n",
      "2022.0      894\n",
      "2020.0      763\n",
      "2018.0      762\n",
      "2017.0      391\n",
      "2016.0      239\n",
      "2015.0      118\n",
      "2014.0       90\n",
      "2013.0       76\n",
      "2010.0       53\n",
      "2012.0       43\n",
      "2011.0       43\n",
      "2008.0       34\n",
      "2009.0       26\n",
      "2007.0       20\n",
      "2006.0       17\n",
      "2002.0       15\n",
      "2004.0       13\n",
      "2003.0       13\n",
      "1967.0       12\n",
      "2001.0       12\n",
      "1966.0       11\n",
      "1999.0        9\n",
      "2005.0        9\n",
      "1965.0        9\n",
      "1970.0        9\n",
      "1997.0        8\n",
      "1994.0        8\n",
      "1968.0        7\n",
      "2000.0        7\n",
      "1998.0        5\n",
      "1990.0        3\n",
      "1973.0        3\n",
      "1987.0        3\n",
      "1993.0        3\n",
      "1991.0        3\n",
      "1996.0        3\n",
      "1995.0        2\n",
      "1969.0        2\n",
      "1978.0        2\n",
      "1982.0        2\n",
      "1961.0        1\n",
      "1954.0        1\n",
      "1988.0        1\n",
      "1962.0        1\n",
      "1981.0        1\n",
      "1985.0        1\n",
      "1976.0        1\n",
      "Name: production_date, dtype: int64\n"
     ]
    }
   ],
   "source": [
    "first_looking(df, \"production_date\")"
   ]
  },
  {
   "cell_type": "markdown",
   "metadata": {},
   "source": [
    "**Let's check the compatibility of the values in the ``first_registration`` with the ones in the ``production_date`` column:**"
   ]
  },
  {
   "cell_type": "code",
   "execution_count": 108,
   "metadata": {},
   "outputs": [
    {
     "data": {
      "text/html": [
       "<div>\n",
       "<style scoped>\n",
       "    .dataframe tbody tr th:only-of-type {\n",
       "        vertical-align: middle;\n",
       "    }\n",
       "\n",
       "    .dataframe tbody tr th {\n",
       "        vertical-align: top;\n",
       "    }\n",
       "\n",
       "    .dataframe thead th {\n",
       "        text-align: right;\n",
       "    }\n",
       "</style>\n",
       "<table border=\"1\" class=\"dataframe\">\n",
       "  <thead>\n",
       "    <tr style=\"text-align: right;\">\n",
       "      <th></th>\n",
       "      <th>first_registration</th>\n",
       "      <th>production_date</th>\n",
       "    </tr>\n",
       "  </thead>\n",
       "  <tbody>\n",
       "    <tr>\n",
       "      <th>23</th>\n",
       "      <td>2019.0</td>\n",
       "      <td>2018.0</td>\n",
       "    </tr>\n",
       "    <tr>\n",
       "      <th>30</th>\n",
       "      <td>2020.0</td>\n",
       "      <td>2018.0</td>\n",
       "    </tr>\n",
       "    <tr>\n",
       "      <th>31</th>\n",
       "      <td>2020.0</td>\n",
       "      <td>2019.0</td>\n",
       "    </tr>\n",
       "    <tr>\n",
       "      <th>470</th>\n",
       "      <td>2022.0</td>\n",
       "      <td>2021.0</td>\n",
       "    </tr>\n",
       "    <tr>\n",
       "      <th>472</th>\n",
       "      <td>2019.0</td>\n",
       "      <td>2016.0</td>\n",
       "    </tr>\n",
       "    <tr>\n",
       "      <th>...</th>\n",
       "      <td>...</td>\n",
       "      <td>...</td>\n",
       "    </tr>\n",
       "    <tr>\n",
       "      <th>29350</th>\n",
       "      <td>2019.0</td>\n",
       "      <td>2017.0</td>\n",
       "    </tr>\n",
       "    <tr>\n",
       "      <th>29380</th>\n",
       "      <td>2022.0</td>\n",
       "      <td>2021.0</td>\n",
       "    </tr>\n",
       "    <tr>\n",
       "      <th>29414</th>\n",
       "      <td>2022.0</td>\n",
       "      <td>2021.0</td>\n",
       "    </tr>\n",
       "    <tr>\n",
       "      <th>29426</th>\n",
       "      <td>2020.0</td>\n",
       "      <td>2019.0</td>\n",
       "    </tr>\n",
       "    <tr>\n",
       "      <th>29436</th>\n",
       "      <td>2022.0</td>\n",
       "      <td>2021.0</td>\n",
       "    </tr>\n",
       "  </tbody>\n",
       "</table>\n",
       "<p>841 rows × 2 columns</p>\n",
       "</div>"
      ],
      "text/plain": [
       "       first_registration  production_date\n",
       "23                 2019.0           2018.0\n",
       "30                 2020.0           2018.0\n",
       "31                 2020.0           2019.0\n",
       "470                2022.0           2021.0\n",
       "472                2019.0           2016.0\n",
       "...                   ...              ...\n",
       "29350              2019.0           2017.0\n",
       "29380              2022.0           2021.0\n",
       "29414              2022.0           2021.0\n",
       "29426              2020.0           2019.0\n",
       "29436              2022.0           2021.0\n",
       "\n",
       "[841 rows x 2 columns]"
      ]
     },
     "execution_count": 108,
     "metadata": {},
     "output_type": "execute_result"
    }
   ],
   "source": [
    "df[(df[\"first_registration\"].notnull()) &\\\n",
    "   (df[\"production_date\"].notnull()) &\\\n",
    "   (df[\"first_registration\"]!=df[\"production_date\"])]\\\n",
    "    [[\"first_registration\", \"production_date\"]]"
   ]
  },
  {
   "cell_type": "markdown",
   "metadata": {},
   "source": [
    "The first registration and production date for a car can sometimes be different, depending on the specific circumstances of the vehicle.\n",
    "\n",
    "In general, the production date refers to the date when the car was manufactured by the automaker, while the first registration date refers to the date when the car was first registered with the local or national authorities and legally allowed to be driven on public roads.\n",
    "\n",
    "In some cases, there may be a delay between the production date and the first registration date, especially if the car was produced in one country and then exported to another country for sale. For example, a car that was manufactured in Germany in 2021 may not be registered and sold in the United States until 2022, resulting in a difference between the production date and the first registration date.\n",
    "\n",
    "Similarly, a car that has been in storage or on a dealer lot for an extended period of time may have a production date that is earlier than the first registration date. For example, a 2021 model year car that was produced in late 2020 but not registered and sold until 2021 may have different production and registration dates."
   ]
  },
  {
   "cell_type": "markdown",
   "metadata": {},
   "source": [
    "## Feature Engineering for \"Age\" Column\n",
    "\n",
    "### ⚠️ Why do we need a new feature named \"age\"❓\n",
    "\n",
    "Car age is perhaps the biggest factor in deciding the price of a second-hand car. Most probably new cars in the world lose their value fairly quickly in the initial years of usage. Unless your car is a prized vintage, you will realize that the relation between the car price and its age are inversely proportional.\n",
    "\n",
    "Unless it is a vintage, the older the car, the lower the resale price. The reason is fairly simple – every car has a lifetime. And the closer it is to the end of its life, the lower the price.\n",
    "\n",
    "<img src=https://i.ibb.co/Lh8Y4wv/assumption-autoscout.png width=\"900\" height=\"100\"><br>"
   ]
  },
  {
   "cell_type": "code",
   "execution_count": 109,
   "metadata": {},
   "outputs": [
    {
     "data": {
      "text/plain": [
       "0         6.0\n",
       "1         0.0\n",
       "2         2.0\n",
       "3         2.0\n",
       "4         7.0\n",
       "         ... \n",
       "29474     3.0\n",
       "29475    18.0\n",
       "29476    11.0\n",
       "29477     5.0\n",
       "29478    20.0\n",
       "Name: age, Length: 28630, dtype: float64"
      ]
     },
     "execution_count": 109,
     "metadata": {},
     "output_type": "execute_result"
    }
   ],
   "source": [
    "# The data used for this project were scraped in 2022.\n",
    "\n",
    "df['age'] = 2022 - df['first_registration']\n",
    "df['age']"
   ]
  },
  {
   "cell_type": "code",
   "execution_count": 110,
   "metadata": {},
   "outputs": [
    {
     "data": {
      "text/plain": [
       " 3.0      3667\n",
       " 4.0      3492\n",
       " 0.0      3086\n",
       " 1.0      2870\n",
       " 2.0      2473\n",
       "          ... \n",
       "-1.0         1\n",
       " 93.0        1\n",
       " 72.0        1\n",
       " 94.0        1\n",
       "-180.0       1\n",
       "Name: age, Length: 84, dtype: int64"
      ]
     },
     "execution_count": 110,
     "metadata": {},
     "output_type": "execute_result"
    }
   ],
   "source": [
    "df.age.value_counts(dropna=False)"
   ]
  },
  {
   "cell_type": "code",
   "execution_count": 111,
   "metadata": {},
   "outputs": [],
   "source": [
    "df.drop([\"first_registration\", \"production_date\"], axis=1, inplace=True)"
   ]
  },
  {
   "cell_type": "code",
   "execution_count": 112,
   "metadata": {},
   "outputs": [
    {
     "data": {
      "text/plain": [
       "(28630, 42)"
      ]
     },
     "execution_count": 112,
     "metadata": {},
     "output_type": "execute_result"
    }
   ],
   "source": [
    "df.shape"
   ]
  },
  {
   "cell_type": "markdown",
   "metadata": {},
   "source": [
    "## gearbox\n",
    "\n",
    "### 📝 Some Remarks on transmission type: \n",
    "\n",
    "In a car trade web page, the gearbox for a car refers to the component of the vehicle's drivetrain that is responsible for transmitting power from the engine to the wheels. The gearbox, also known as the transmission, allows the driver to shift between different gears to optimize the car's speed and efficiency.\n",
    "\n",
    "There are several types of gearboxes commonly used in cars, including manual, automatic, and continuously variable transmissions (CVT). Manual gearboxes require the driver to manually shift gears using a clutch pedal and gearshift lever, while automatic gearboxes use a hydraulic system to automatically shift gears without driver intervention. CVT gearboxes use a belt or chain to continuously vary the gear ratio to optimize performance and fuel efficiency.\n",
    "\n",
    "The type of gearbox can affect the driving experience and performance of a car, as well as its desirability and resale value in the used car market. For example, some buyers may prefer the control and engagement of a manual gearbox, while others may prefer the convenience and ease of an automatic gearbox.\n",
    "\n",
    "Though manual transmissions (stick shifts) have historically been slightly more fuel-efficient than automatic transmissions, they’re usually detrimental to resale value in some cultures. That’s because most drivers don’t know how to drive stick, have mobility issues that make shifting painful or difficult, or simply don’t like keeping their right hands and left feet in constant motion in stop-and-go traffic."
   ]
  },
  {
   "cell_type": "code",
   "execution_count": 113,
   "metadata": {},
   "outputs": [
    {
     "name": "stdout",
     "output_type": "stream",
     "text": [
      "column name    :  gearbox\n",
      "--------------------------------\n",
      "per_of_nulls   :  % 0.87\n",
      "num_of_nulls   :  248\n",
      "num_of_uniques :  4\n",
      "shape_of_df    :  (28630, 42)\n",
      "--------------------------------\n",
      "[\\nManual\\n]            17023\n",
      "[\\nAutomatic\\n]         11287\n",
      "NaN                       248\n",
      "[\\nSemi-automatic\\n]       72\n",
      "Name: gearbox, dtype: int64\n"
     ]
    }
   ],
   "source": [
    "first_looking(df, \"gearbox\")"
   ]
  },
  {
   "cell_type": "code",
   "execution_count": 114,
   "metadata": {},
   "outputs": [
    {
     "data": {
      "text/plain": [
       "0           Manual\n",
       "1        Automatic\n",
       "2        Automatic\n",
       "3        Automatic\n",
       "4        Automatic\n",
       "           ...    \n",
       "29474    Automatic\n",
       "29475    Automatic\n",
       "29476       Manual\n",
       "29477    Automatic\n",
       "29478    Automatic\n",
       "Name: gearbox, Length: 28630, dtype: object"
      ]
     },
     "execution_count": 114,
     "metadata": {},
     "output_type": "execute_result"
    }
   ],
   "source": [
    "# df[\"gearbox\"].apply(lambda item: item[0] if type(item) == list else item).str.split('\\n').str[1].str.strip()\n",
    "# df['gearbox'].astype(str).str.strip(\"['\\\\n\\\\n']\")\n",
    "# df['gearbox'].explode().str.strip(\"\\n \")\n",
    "\n",
    "df['gearbox'] = df['gearbox'].astype(str).str.strip(\"['\\\\n, \\\\n']\").str.extract(\"(\\D+)\")\n",
    "df['gearbox']"
   ]
  },
  {
   "cell_type": "markdown",
   "metadata": {},
   "source": [
    "**There have been some anomalies taken into consideration:**"
   ]
  },
  {
   "cell_type": "code",
   "execution_count": 115,
   "metadata": {},
   "outputs": [
    {
     "data": {
      "text/plain": [
       "Manual            17023\n",
       "Automatic         11287\n",
       "a                   248\n",
       "Semi-automatic       72\n",
       "Name: gearbox, dtype: int64"
      ]
     },
     "execution_count": 115,
     "metadata": {},
     "output_type": "execute_result"
    }
   ],
   "source": [
    "df.gearbox.value_counts(dropna=False)"
   ]
  },
  {
   "cell_type": "code",
   "execution_count": 116,
   "metadata": {},
   "outputs": [],
   "source": [
    "df['gearbox'].replace('a', np.nan, inplace=True)"
   ]
  },
  {
   "cell_type": "code",
   "execution_count": 117,
   "metadata": {},
   "outputs": [
    {
     "data": {
      "text/plain": [
       "Manual            17023\n",
       "Automatic         11287\n",
       "NaN                 248\n",
       "Semi-automatic       72\n",
       "Name: gearbox, dtype: int64"
      ]
     },
     "execution_count": 117,
     "metadata": {},
     "output_type": "execute_result"
    }
   ],
   "source": [
    "df.gearbox.value_counts(dropna=False)"
   ]
  },
  {
   "cell_type": "markdown",
   "metadata": {},
   "source": [
    "## power\n",
    "\n",
    "### 📝 Some Remarks on power:\n",
    "\n",
    "In a car trade web page, the power for a car refers to the amount of power that the car's engine is capable of producing. The power is typically measured in units of horsepower (hp) or kilowatts (kW).\n",
    "\n",
    "The power of a car can affect its performance, acceleration, and top speed, as well as its desirability and resale value in the used car market. Higher-powered cars typically offer better performance and may be more attractive to buyers who value speed and performance.\n",
    "\n",
    "It is important to note that the power of a car is not the only factor that determines its performance and driving experience. Other factors such as the car's weight, aerodynamics, and drivetrain also play a significant role in determining how the car handles and performs on the road."
   ]
  },
  {
   "cell_type": "code",
   "execution_count": 118,
   "metadata": {},
   "outputs": [
    {
     "name": "stdout",
     "output_type": "stream",
     "text": [
      "column name    :  power\n",
      "--------------------------------\n",
      "per_of_nulls   :  % 2.0\n",
      "num_of_nulls   :  572\n",
      "num_of_uniques :  352\n",
      "shape_of_df    :  (28630, 42)\n",
      "--------------------------------\n",
      "[\\n110 kW (150 hp)\\n]      1992\n",
      "[\\n96 kW (131 hp)\\n]       1356\n",
      "[\\n88 kW (120 hp)\\n]       1182\n",
      "[\\n81 kW (110 hp)\\n]       1166\n",
      "[\\n66 kW (90 hp)\\n]        1110\n",
      "                           ... \n",
      "[\\n746 kW (1,014 hp)\\n]       1\n",
      "[\\n570 kW (775 hp)\\n]         1\n",
      "[\\n471 kW (640 hp)\\n]         1\n",
      "[\\n179 kW (243 hp)\\n]         1\n",
      "[\\n26 kW (35 hp)\\n]           1\n",
      "Name: power, Length: 352, dtype: int64\n"
     ]
    }
   ],
   "source": [
    "first_looking(df, \"power\")"
   ]
  },
  {
   "cell_type": "code",
   "execution_count": 119,
   "metadata": {},
   "outputs": [
    {
     "data": {
      "text/html": [
       "<div>\n",
       "<style scoped>\n",
       "    .dataframe tbody tr th:only-of-type {\n",
       "        vertical-align: middle;\n",
       "    }\n",
       "\n",
       "    .dataframe tbody tr th {\n",
       "        vertical-align: top;\n",
       "    }\n",
       "\n",
       "    .dataframe thead th {\n",
       "        text-align: right;\n",
       "    }\n",
       "</style>\n",
       "<table border=\"1\" class=\"dataframe\">\n",
       "  <thead>\n",
       "    <tr style=\"text-align: right;\">\n",
       "      <th></th>\n",
       "      <th>make_model</th>\n",
       "      <th>short_description</th>\n",
       "      <th>make</th>\n",
       "      <th>model</th>\n",
       "      <th>location</th>\n",
       "      <th>price</th>\n",
       "      <th>body_type</th>\n",
       "      <th>type</th>\n",
       "      <th>doors</th>\n",
       "      <th>warranty</th>\n",
       "      <th>...</th>\n",
       "      <th>emission_class</th>\n",
       "      <th>emissions_sticker</th>\n",
       "      <th>upholstery_colour</th>\n",
       "      <th>upholstery</th>\n",
       "      <th>previous_owner</th>\n",
       "      <th>energy_efficiency_class</th>\n",
       "      <th>co_efficiency</th>\n",
       "      <th>age</th>\n",
       "      <th>power_kW</th>\n",
       "      <th>power_hp</th>\n",
       "    </tr>\n",
       "  </thead>\n",
       "  <tbody>\n",
       "    <tr>\n",
       "      <th>0</th>\n",
       "      <td>Mercedes-Benz A 160</td>\n",
       "      <td>CDi</td>\n",
       "      <td>Mercedes-Benz</td>\n",
       "      <td>A 160</td>\n",
       "      <td>P.I. EL PALMAR C/FORJA 6,  11500 PUERTO DE SAN...</td>\n",
       "      <td>16950.0</td>\n",
       "      <td>Compact</td>\n",
       "      <td>Used</td>\n",
       "      <td>5.0</td>\n",
       "      <td>24.0</td>\n",
       "      <td>...</td>\n",
       "      <td>NaN</td>\n",
       "      <td>NaN</td>\n",
       "      <td>NaN</td>\n",
       "      <td>NaN</td>\n",
       "      <td>NaN</td>\n",
       "      <td>NaN</td>\n",
       "      <td>NaN</td>\n",
       "      <td>6.0</td>\n",
       "      <td>NaN</td>\n",
       "      <td>NaN</td>\n",
       "    </tr>\n",
       "    <tr>\n",
       "      <th>1</th>\n",
       "      <td>Mercedes-Benz EQE 350</td>\n",
       "      <td>350+</td>\n",
       "      <td>Mercedes-Benz</td>\n",
       "      <td>EQE 350</td>\n",
       "      <td>APARTADO DE CORREOS 1032,  26140 LOGROÑO, ES</td>\n",
       "      <td>80900.0</td>\n",
       "      <td>Compact</td>\n",
       "      <td>Pre-registered</td>\n",
       "      <td>4.0</td>\n",
       "      <td>24.0</td>\n",
       "      <td>...</td>\n",
       "      <td>NaN</td>\n",
       "      <td>NaN</td>\n",
       "      <td>NaN</td>\n",
       "      <td>NaN</td>\n",
       "      <td>NaN</td>\n",
       "      <td>NaN</td>\n",
       "      <td>NaN</td>\n",
       "      <td>0.0</td>\n",
       "      <td>215.0</td>\n",
       "      <td>292.0</td>\n",
       "    </tr>\n",
       "    <tr>\n",
       "      <th>2</th>\n",
       "      <td>Mercedes-Benz A 45 AMG</td>\n",
       "      <td>S 4Matic+ 8G-DCT</td>\n",
       "      <td>Mercedes-Benz</td>\n",
       "      <td>A 45 AMG</td>\n",
       "      <td>PORT. TARRACO, MOLL DE LLEVANT, Nº 5, LOC. 6-8...</td>\n",
       "      <td>69900.0</td>\n",
       "      <td>Compact</td>\n",
       "      <td>Used</td>\n",
       "      <td>5.0</td>\n",
       "      <td>12.0</td>\n",
       "      <td>...</td>\n",
       "      <td>NaN</td>\n",
       "      <td>NaN</td>\n",
       "      <td>NaN</td>\n",
       "      <td>NaN</td>\n",
       "      <td>NaN</td>\n",
       "      <td>NaN</td>\n",
       "      <td>NaN</td>\n",
       "      <td>2.0</td>\n",
       "      <td>310.0</td>\n",
       "      <td>421.0</td>\n",
       "    </tr>\n",
       "  </tbody>\n",
       "</table>\n",
       "<p>3 rows × 44 columns</p>\n",
       "</div>"
      ],
      "text/plain": [
       "               make_model short_description           make     model  \\\n",
       "0     Mercedes-Benz A 160               CDi  Mercedes-Benz     A 160   \n",
       "1   Mercedes-Benz EQE 350              350+  Mercedes-Benz   EQE 350   \n",
       "2  Mercedes-Benz A 45 AMG  S 4Matic+ 8G-DCT  Mercedes-Benz  A 45 AMG   \n",
       "\n",
       "                                            location    price body_type  \\\n",
       "0  P.I. EL PALMAR C/FORJA 6,  11500 PUERTO DE SAN...  16950.0   Compact   \n",
       "1       APARTADO DE CORREOS 1032,  26140 LOGROÑO, ES  80900.0   Compact   \n",
       "2  PORT. TARRACO, MOLL DE LLEVANT, Nº 5, LOC. 6-8...  69900.0   Compact   \n",
       "\n",
       "             type  doors  warranty  ...  emission_class emissions_sticker  \\\n",
       "0            Used    5.0      24.0  ...             NaN               NaN   \n",
       "1  Pre-registered    4.0      24.0  ...             NaN               NaN   \n",
       "2            Used    5.0      12.0  ...             NaN               NaN   \n",
       "\n",
       "  upholstery_colour upholstery previous_owner energy_efficiency_class  \\\n",
       "0               NaN        NaN            NaN                     NaN   \n",
       "1               NaN        NaN            NaN                     NaN   \n",
       "2               NaN        NaN            NaN                     NaN   \n",
       "\n",
       "  co_efficiency  age power_kW power_hp  \n",
       "0           NaN  6.0      NaN      NaN  \n",
       "1           NaN  0.0    215.0    292.0  \n",
       "2           NaN  2.0    310.0    421.0  \n",
       "\n",
       "[3 rows x 44 columns]"
      ]
     },
     "execution_count": 119,
     "metadata": {},
     "output_type": "execute_result"
    }
   ],
   "source": [
    "df[['power_kW', 'power_hp']] = df[\"power\"].apply(lambda item: item[0] if type(item) == list else item)\\\n",
    "                              .str.extract(r'\\D*(?P<kW>\\d+)\\D+(?P<hp>\\d+)').astype(float)\n",
    "\n",
    "df.head(3)"
   ]
  },
  {
   "cell_type": "code",
   "execution_count": 120,
   "metadata": {},
   "outputs": [
    {
     "data": {
      "text/plain": [
       "110.0    1992\n",
       "96.0     1356\n",
       "88.0     1182\n",
       "81.0     1166\n",
       "66.0     1110\n",
       "         ... \n",
       "746.0       1\n",
       "570.0       1\n",
       "471.0       1\n",
       "179.0       1\n",
       "26.0        1\n",
       "Name: power_kW, Length: 352, dtype: int64"
      ]
     },
     "execution_count": 120,
     "metadata": {},
     "output_type": "execute_result"
    }
   ],
   "source": [
    "df.power_kW.value_counts(dropna=False)"
   ]
  },
  {
   "cell_type": "code",
   "execution_count": 121,
   "metadata": {},
   "outputs": [
    {
     "data": {
      "text/plain": [
       "150.0    1992\n",
       "131.0    1356\n",
       "120.0    1182\n",
       "110.0    1166\n",
       "90.0     1110\n",
       "         ... \n",
       "465.0       1\n",
       "412.0       1\n",
       "670.0       1\n",
       "506.0       1\n",
       "33.0        1\n",
       "Name: power_hp, Length: 348, dtype: int64"
      ]
     },
     "execution_count": 121,
     "metadata": {},
     "output_type": "execute_result"
    }
   ],
   "source": [
    "df.power_hp.value_counts(dropna=False)"
   ]
  },
  {
   "cell_type": "code",
   "execution_count": 122,
   "metadata": {},
   "outputs": [
    {
     "data": {
      "text/plain": [
       "(28630, 44)"
      ]
     },
     "execution_count": 122,
     "metadata": {},
     "output_type": "execute_result"
    }
   ],
   "source": [
    "df.shape"
   ]
  },
  {
   "cell_type": "code",
   "execution_count": 123,
   "metadata": {},
   "outputs": [],
   "source": [
    "df.drop('power', axis=1, inplace=True)"
   ]
  },
  {
   "cell_type": "code",
   "execution_count": 124,
   "metadata": {},
   "outputs": [
    {
     "data": {
      "text/plain": [
       "(28630, 43)"
      ]
     },
     "execution_count": 124,
     "metadata": {},
     "output_type": "execute_result"
    }
   ],
   "source": [
    "df.shape"
   ]
  },
  {
   "cell_type": "markdown",
   "metadata": {},
   "source": [
    "## fuel_type\n",
    "\n",
    "### 📝 Some Remarks on fuel type:\n",
    "\n",
    "Another key factor affecting used car prices is fuel economy. Efficient vehicles tend to hold their value better when gas prices are high, while less efficient vehicles (which typically have more cargo space and higher safety ratings) do better when gas is cheap.\n",
    "\n",
    "In a car trade web page, the fuel type for a car refers to the type of fuel that the car's engine is designed to use. The most common fuel types used in cars are gasoline (petrol), diesel, and electric.\n",
    "\n",
    "Gasoline-powered cars use a spark-ignition engine that runs on gasoline, while diesel-powered cars use a compression-ignition engine that runs on diesel fuel. Electric cars use an electric motor powered by a battery that is charged by plugging the car into an electrical outlet or a charging station.\n",
    "\n",
    "The fuel type can affect the performance, efficiency, and environmental impact of a car, as well as its desirability and resale value in the used car market. For example, some buyers may prefer the efficiency and lower emissions of a diesel or electric car, while others may prefer the power and performance of a gasoline-powered car."
   ]
  },
  {
   "cell_type": "code",
   "execution_count": 125,
   "metadata": {},
   "outputs": [
    {
     "name": "stdout",
     "output_type": "stream",
     "text": [
      "column name    :  fuel_type\n",
      "--------------------------------\n",
      "per_of_nulls   :  % 6.24\n",
      "num_of_nulls   :  1787\n",
      "num_of_uniques :  47\n",
      "shape_of_df    :  (28630, 43)\n",
      "--------------------------------\n",
      "Gasoline                                                                                              8532\n",
      "Diesel                                                                                                5911\n",
      "Super 95                                                                                              3557\n",
      "Diesel (Particle filter)                                                                              2816\n",
      "Regular/Benzine 91                                                                                    2065\n",
      "NaN                                                                                                   1787\n",
      "Super E10 95                                                                                          1016\n",
      "Regular/Benzine 91 (Particle filter)                                                                   555\n",
      "Super 95 (Particle filter)                                                                             537\n",
      "Super E10 95 (Particle filter)                                                                         324\n",
      "Regular/Benzine E10 91                                                                                 278\n",
      "Others                                                                                                 197\n",
      "Gasoline (Particle filter)                                                                             196\n",
      "Electric                                                                                               185\n",
      "Super Plus 98                                                                                          170\n",
      "Liquid petroleum gas (LPG)                                                                             148\n",
      "CNG                                                                                                     87\n",
      "LPG                                                                                                     73\n",
      "Super Plus E10 98                                                                                       42\n",
      "Super Plus E10 98 (Particle filter)                                                                     35\n",
      "Domestic gas H                                                                                          24\n",
      "Others (Particle filter)                                                                                16\n",
      "Super Plus 98 (Particle filter)                                                                         15\n",
      "Domestic gas L                                                                                          10\n",
      "CNG (Particle filter)                                                                                    8\n",
      "Regular/Benzine E10 91 (Particle filter)                                                                 8\n",
      "LPG (Particle filter)                                                                                    4\n",
      "Hydrogen                                                                                                 3\n",
      "Ethanol                                                                                                  3\n",
      "Electric (Particle filter)                                                                               3\n",
      "Liquid petroleum gas (LPG) (Particle filter) / Super 95 / Super E10 95                                   3\n",
      "Liquid petroleum gas (LPG) / Super 95 / Super Plus 98 / Super Plus E10 98 / Super E10 95                 2\n",
      "Liquid petroleum gas (LPG) / Super 95 / Super E10 95                                                     2\n",
      "Domestic gas L (Particle filter)                                                                         2\n",
      "Liquid petroleum gas (LPG) (Particle filter)                                                             2\n",
      "Liquid petroleum gas (LPG) / Super 95                                                                    2\n",
      "Liquid petroleum gas (LPG) / Super 95 / Super E10 95 / Super Plus 98                                     2\n",
      "Liquid petroleum gas (LPG) / Super 95 / Super Plus 98                                                    1\n",
      "Super 95 (Particle filter) / Super E10 95 / Ethanol                                                      1\n",
      "Liquid petroleum gas (LPG) / Super E10 95 / Super Plus E10 98 / Super Plus 98 / Super 95                 1\n",
      "Liquid petroleum gas (LPG) / Super E10 95                                                                1\n",
      "Biogas                                                                                                   1\n",
      "Super 95 / Super Plus 98 / Liquid petroleum gas (LPG)                                                    1\n",
      "Domestic gas L / Super 95 / Domestic gas H                                                               1\n",
      "Domestic gas H / Super E10 95 / Super Plus E10 98 / Super 95 / Super Plus 98 / Domestic gas L            1\n",
      "Liquid petroleum gas (LPG) / Super E10 95 / Regular/Benzine 91 / Super 95 / Super Plus 98 / Biogas       1\n",
      "Super 95 / Liquid petroleum gas (LPG)                                                                    1\n",
      "Name: fuel_type, dtype: int64\n"
     ]
    }
   ],
   "source": [
    "first_looking(df, \"fuel_type\")"
   ]
  },
  {
   "cell_type": "code",
   "execution_count": 126,
   "metadata": {},
   "outputs": [
    {
     "data": {
      "text/plain": [
       "[Gasoline]                                                                                                    8532\n",
       "[Diesel]                                                                                                      5911\n",
       "[Super 95]                                                                                                    3557\n",
       "[Diesel (Particle filter)]                                                                                    2816\n",
       "[Regular, Benzine 91]                                                                                         2065\n",
       "NaN                                                                                                           1787\n",
       "[Super E10 95]                                                                                                1016\n",
       "[Regular, Benzine 91 (Particle filter)]                                                                        555\n",
       "[Super 95 (Particle filter)]                                                                                   537\n",
       "[Super E10 95 (Particle filter)]                                                                               324\n",
       "[Regular, Benzine E10 91]                                                                                      278\n",
       "[Others]                                                                                                       197\n",
       "[Gasoline (Particle filter)]                                                                                   196\n",
       "[Electric]                                                                                                     185\n",
       "[Super Plus 98]                                                                                                170\n",
       "[Liquid petroleum gas (LPG)]                                                                                   148\n",
       "[CNG]                                                                                                           87\n",
       "[LPG]                                                                                                           73\n",
       "[Super Plus E10 98]                                                                                             42\n",
       "[Super Plus E10 98 (Particle filter)]                                                                           35\n",
       "[Domestic gas H]                                                                                                24\n",
       "[Others (Particle filter)]                                                                                      16\n",
       "[Super Plus 98 (Particle filter)]                                                                               15\n",
       "[Domestic gas L]                                                                                                10\n",
       "[CNG (Particle filter)]                                                                                          8\n",
       "[Regular, Benzine E10 91 (Particle filter)]                                                                      8\n",
       "[LPG (Particle filter)]                                                                                          4\n",
       "[Hydrogen]                                                                                                       3\n",
       "[Ethanol]                                                                                                        3\n",
       "[Electric (Particle filter)]                                                                                     3\n",
       "[Liquid petroleum gas (LPG) (Particle filter) ,  Super 95 ,  Super E10 95]                                       3\n",
       "[Liquid petroleum gas (LPG) ,  Super 95 ,  Super Plus 98 ,  Super Plus E10 98 ,  Super E10 95]                   2\n",
       "[Liquid petroleum gas (LPG) ,  Super 95 ,  Super E10 95]                                                         2\n",
       "[Domestic gas L (Particle filter)]                                                                               2\n",
       "[Liquid petroleum gas (LPG) (Particle filter)]                                                                   2\n",
       "[Liquid petroleum gas (LPG) ,  Super 95]                                                                         2\n",
       "[Liquid petroleum gas (LPG) ,  Super 95 ,  Super E10 95 ,  Super Plus 98]                                        2\n",
       "[Liquid petroleum gas (LPG) ,  Super 95 ,  Super Plus 98]                                                        1\n",
       "[Super 95 (Particle filter) ,  Super E10 95 ,  Ethanol]                                                          1\n",
       "[Liquid petroleum gas (LPG) ,  Super E10 95 ,  Super Plus E10 98 ,  Super Plus 98 ,  Super 95]                   1\n",
       "[Liquid petroleum gas (LPG) ,  Super E10 95]                                                                     1\n",
       "[Biogas]                                                                                                         1\n",
       "[Super 95 ,  Super Plus 98 ,  Liquid petroleum gas (LPG)]                                                        1\n",
       "[Domestic gas L ,  Super 95 ,  Domestic gas H]                                                                   1\n",
       "[Domestic gas H ,  Super E10 95 ,  Super Plus E10 98 ,  Super 95 ,  Super Plus 98 ,  Domestic gas L]             1\n",
       "[Liquid petroleum gas (LPG) ,  Super E10 95 ,  Regular, Benzine 91 ,  Super 95 ,  Super Plus 98 ,  Biogas]       1\n",
       "[Super 95 ,  Liquid petroleum gas (LPG)]                                                                         1\n",
       "Name: fuel_type, dtype: int64"
      ]
     },
     "execution_count": 126,
     "metadata": {},
     "output_type": "execute_result"
    }
   ],
   "source": [
    "df[\"fuel_type\"].str.split(\"/\").value_counts(dropna=False)"
   ]
  },
  {
   "cell_type": "code",
   "execution_count": 127,
   "metadata": {},
   "outputs": [
    {
     "data": {
      "text/plain": [
       "0                          Diesel\n",
       "1                        Electric\n",
       "2                        Gasoline\n",
       "3                        Gasoline\n",
       "4                          Diesel\n",
       "                   ...           \n",
       "29474                         NaN\n",
       "29475                    Gasoline\n",
       "29476    Diesel (Particle filter)\n",
       "29477                    Gasoline\n",
       "29478                    Super 95\n",
       "Name: fuel_type, Length: 28630, dtype: object"
      ]
     },
     "execution_count": 127,
     "metadata": {},
     "output_type": "execute_result"
    }
   ],
   "source": [
    "df[\"fuel_type\"] = df[\"fuel_type\"].str.split(\"/\").str[0].str.strip()\n",
    "df[\"fuel_type\"]"
   ]
  },
  {
   "cell_type": "code",
   "execution_count": 128,
   "metadata": {},
   "outputs": [
    {
     "data": {
      "text/plain": [
       "0          Diesel\n",
       "1        Electric\n",
       "2        Gasoline\n",
       "3        Gasoline\n",
       "4          Diesel\n",
       "           ...   \n",
       "29474         NaN\n",
       "29475    Gasoline\n",
       "29476      Diesel\n",
       "29477    Gasoline\n",
       "29478    Super 95\n",
       "Name: fuel_type, Length: 28630, dtype: object"
      ]
     },
     "execution_count": 128,
     "metadata": {},
     "output_type": "execute_result"
    }
   ],
   "source": [
    "df[\"fuel_type\"] = df[\"fuel_type\"].str.split(\"(\").str[0].str.strip()\n",
    "df[\"fuel_type\"]"
   ]
  },
  {
   "cell_type": "code",
   "execution_count": 129,
   "metadata": {},
   "outputs": [
    {
     "data": {
      "text/plain": [
       "Gasoline                8728\n",
       "Diesel                  8727\n",
       "Super 95                4097\n",
       "Regular                 2906\n",
       "NaN                     1787\n",
       "Super E10 95            1340\n",
       "Others                   213\n",
       "Electric                 188\n",
       "Super Plus 98            185\n",
       "Liquid petroleum gas     165\n",
       "CNG                       95\n",
       "Super Plus E10 98         77\n",
       "LPG                       77\n",
       "Domestic gas H            25\n",
       "Domestic gas L            13\n",
       "Ethanol                    3\n",
       "Hydrogen                   3\n",
       "Biogas                     1\n",
       "Name: fuel_type, dtype: int64"
      ]
     },
     "execution_count": 129,
     "metadata": {},
     "output_type": "execute_result"
    }
   ],
   "source": [
    "df['fuel_type'].value_counts(dropna=False)"
   ]
  },
  {
   "cell_type": "code",
   "execution_count": 130,
   "metadata": {},
   "outputs": [],
   "source": [
    "benzine = [\"Gasoline\", \"Super 95\", \"Regular\", \"Super E10 95\", \"Super Plus 98\", \"Super Plus E10 98\", \"Others\", \"Ethanol\"]\n",
    "petroleum_gas = [\"Liquid petroleum gas\", \"CNG\", \"LPG\", \"Domestic gas H\", \"Domestic gas L\", \"Biogas\", \"Hydrogen\"]\n",
    "\n",
    "def fueltype(x):\n",
    "    if x in benzine:\n",
    "        return \"Benzine\"\n",
    "    elif x in petroleum_gas:\n",
    "        return \"Liquid/Natural Gas\"\n",
    "    else:\n",
    "        return x\n",
    "\n",
    "df[\"fuel_type\"] = df[\"fuel_type\"].apply(fueltype)"
   ]
  },
  {
   "cell_type": "code",
   "execution_count": 131,
   "metadata": {},
   "outputs": [
    {
     "data": {
      "text/plain": [
       "Benzine               17549\n",
       "Diesel                 8727\n",
       "NaN                    1787\n",
       "Liquid/Natural Gas      379\n",
       "Electric                188\n",
       "Name: fuel_type, dtype: int64"
      ]
     },
     "execution_count": 131,
     "metadata": {},
     "output_type": "execute_result"
    }
   ],
   "source": [
    "df['fuel_type'].value_counts(dropna=False)"
   ]
  },
  {
   "cell_type": "markdown",
   "metadata": {},
   "source": [
    "## colour\n",
    "\n",
    "### 📝 Some Remarks on car colour:\n",
    "\n",
    "Car colour (some cars may have limited edition colours): Popular colours usually garner more attention from potential buyers and therefore are easier to sell. Some cars may come in limited edition colours, which can be difficult to sell; however, these cars usually find a higher than usual price when successfully sold.\n",
    "\n",
    "In a car trade web page, the car colour for a car refers to the exterior colour of the vehicle. The colour of a car can vary widely, from traditional colours such as black, white, and silver to more unique and custom colours such as blue, red, green, or even multi-colored or metallic finishes.\n",
    "\n",
    "The car colour can affect the appearance and style of a car, as well as its desirability and resale value in the used car market. For example, some buyers may prefer classic colours such as black or white, while others may prefer more unique or bold colours that stand out on the road."
   ]
  },
  {
   "cell_type": "code",
   "execution_count": 132,
   "metadata": {},
   "outputs": [
    {
     "name": "stdout",
     "output_type": "stream",
     "text": [
      "column name    :  colour\n",
      "--------------------------------\n",
      "per_of_nulls   :  % 6.02\n",
      "num_of_nulls   :  1724\n",
      "num_of_uniques :  15\n",
      "shape_of_df    :  (28630, 43)\n",
      "--------------------------------\n",
      "Black     6473\n",
      "Grey      5998\n",
      "White     5185\n",
      "Blue      3478\n",
      "Red       2242\n",
      "NaN       1724\n",
      "Silver    1622\n",
      "Green      450\n",
      "Brown      437\n",
      "Orange     288\n",
      "Beige      278\n",
      "Yellow     230\n",
      "Violet      98\n",
      "Bronze      65\n",
      "Gold        62\n",
      "Name: colour, dtype: int64\n"
     ]
    }
   ],
   "source": [
    "first_looking(df, \"colour\")"
   ]
  },
  {
   "cell_type": "markdown",
   "metadata": {},
   "source": [
    "## manufacturer_colour\n",
    "\n",
    "### 📝 Some Remarks on manufacturer colour:\n",
    "\n",
    "When a car is produced by a manufacturer, the exterior is painted in a specific color or colors that are part of the manufacturer's standard color palette. These colors are often referred to as the \"factory\" or \"manufacturer\" colors. The exact color options available for a particular make and model of car can vary depending on the year of production and the specific trim level or package."
   ]
  },
  {
   "cell_type": "code",
   "execution_count": 133,
   "metadata": {},
   "outputs": [
    {
     "name": "stdout",
     "output_type": "stream",
     "text": [
      "column name    :  manufacturer_colour\n",
      "--------------------------------\n",
      "per_of_nulls   :  % 23.9\n",
      "num_of_nulls   :  6843\n",
      "num_of_uniques :  4964\n",
      "shape_of_df    :  (28630, 43)\n",
      "--------------------------------\n",
      "NaN                               6843\n",
      "Blanco                            1235\n",
      "Gris                               671\n",
      "Azul                               552\n",
      "Negro                              546\n",
      "                                  ... \n",
      "Colore esterno (snowflake whit       1\n",
      "Pompeigraumetallic                   1\n",
      "Cararragrau                          1\n",
      "ICE WHITE (wit metallic)             1\n",
      "Denim Blue metallic (blauw met       1\n",
      "Name: manufacturer_colour, Length: 4964, dtype: int64\n"
     ]
    }
   ],
   "source": [
    "first_looking(df, \"manufacturer_colour\")"
   ]
  },
  {
   "cell_type": "markdown",
   "metadata": {},
   "source": [
    "**Let's check the compatibility of the values in the ``colour``with the ones in the ``manufacturer_colour`` column:**"
   ]
  },
  {
   "cell_type": "code",
   "execution_count": 134,
   "metadata": {},
   "outputs": [
    {
     "data": {
      "text/html": [
       "<div>\n",
       "<style scoped>\n",
       "    .dataframe tbody tr th:only-of-type {\n",
       "        vertical-align: middle;\n",
       "    }\n",
       "\n",
       "    .dataframe tbody tr th {\n",
       "        vertical-align: top;\n",
       "    }\n",
       "\n",
       "    .dataframe thead th {\n",
       "        text-align: right;\n",
       "    }\n",
       "</style>\n",
       "<table border=\"1\" class=\"dataframe\">\n",
       "  <thead>\n",
       "    <tr style=\"text-align: right;\">\n",
       "      <th></th>\n",
       "      <th>colour</th>\n",
       "      <th>manufacturer_colour</th>\n",
       "    </tr>\n",
       "  </thead>\n",
       "  <tbody>\n",
       "    <tr>\n",
       "      <th>10658</th>\n",
       "      <td>Green</td>\n",
       "      <td>NaN</td>\n",
       "    </tr>\n",
       "    <tr>\n",
       "      <th>1166</th>\n",
       "      <td>Black</td>\n",
       "      <td>Schwarz obsidianschwarz metall</td>\n",
       "    </tr>\n",
       "    <tr>\n",
       "      <th>1156</th>\n",
       "      <td>Black</td>\n",
       "      <td>Negro</td>\n",
       "    </tr>\n",
       "    <tr>\n",
       "      <th>3001</th>\n",
       "      <td>Red</td>\n",
       "      <td>Rojo</td>\n",
       "    </tr>\n",
       "    <tr>\n",
       "      <th>13382</th>\n",
       "      <td>Red</td>\n",
       "      <td>Rojo</td>\n",
       "    </tr>\n",
       "    <tr>\n",
       "      <th>4006</th>\n",
       "      <td>Grey</td>\n",
       "      <td>Quarz Grau</td>\n",
       "    </tr>\n",
       "    <tr>\n",
       "      <th>2705</th>\n",
       "      <td>Black</td>\n",
       "      <td>Diamant Schwarz/Karbon Schwarz</td>\n",
       "    </tr>\n",
       "    <tr>\n",
       "      <th>23060</th>\n",
       "      <td>Blue</td>\n",
       "      <td>Dynamic-blau metallic</td>\n",
       "    </tr>\n",
       "    <tr>\n",
       "      <th>5982</th>\n",
       "      <td>White</td>\n",
       "      <td>Wit</td>\n",
       "    </tr>\n",
       "    <tr>\n",
       "      <th>21156</th>\n",
       "      <td>White</td>\n",
       "      <td>BIANCO</td>\n",
       "    </tr>\n",
       "    <tr>\n",
       "      <th>1245</th>\n",
       "      <td>Black</td>\n",
       "      <td>Negro</td>\n",
       "    </tr>\n",
       "    <tr>\n",
       "      <th>3944</th>\n",
       "      <td>Blue</td>\n",
       "      <td>Topas blau</td>\n",
       "    </tr>\n",
       "    <tr>\n",
       "      <th>22473</th>\n",
       "      <td>Black</td>\n",
       "      <td>NaN</td>\n",
       "    </tr>\n",
       "    <tr>\n",
       "      <th>12455</th>\n",
       "      <td>Grey</td>\n",
       "      <td>Grigio</td>\n",
       "    </tr>\n",
       "    <tr>\n",
       "      <th>10219</th>\n",
       "      <td>Grey</td>\n",
       "      <td>Pompei Grau</td>\n",
       "    </tr>\n",
       "    <tr>\n",
       "      <th>16902</th>\n",
       "      <td>Grey</td>\n",
       "      <td>GRIS</td>\n",
       "    </tr>\n",
       "    <tr>\n",
       "      <th>3470</th>\n",
       "      <td>Black</td>\n",
       "      <td>Karbonschwarz  U2</td>\n",
       "    </tr>\n",
       "    <tr>\n",
       "      <th>15890</th>\n",
       "      <td>Beige</td>\n",
       "      <td>NaN</td>\n",
       "    </tr>\n",
       "    <tr>\n",
       "      <th>3146</th>\n",
       "      <td>Blue</td>\n",
       "      <td>Blau</td>\n",
       "    </tr>\n",
       "    <tr>\n",
       "      <th>7239</th>\n",
       "      <td>Black</td>\n",
       "      <td>Obsidian-Schwarz</td>\n",
       "    </tr>\n",
       "  </tbody>\n",
       "</table>\n",
       "</div>"
      ],
      "text/plain": [
       "      colour             manufacturer_colour\n",
       "10658  Green                             NaN\n",
       "1166   Black  Schwarz obsidianschwarz metall\n",
       "1156   Black                           Negro\n",
       "3001     Red                            Rojo\n",
       "13382    Red                            Rojo\n",
       "4006    Grey                      Quarz Grau\n",
       "2705   Black  Diamant Schwarz/Karbon Schwarz\n",
       "23060   Blue           Dynamic-blau metallic\n",
       "5982   White                             Wit\n",
       "21156  White                          BIANCO\n",
       "1245   Black                           Negro\n",
       "3944    Blue                      Topas blau\n",
       "22473  Black                             NaN\n",
       "12455   Grey                          Grigio\n",
       "10219   Grey                     Pompei Grau\n",
       "16902   Grey                            GRIS\n",
       "3470   Black               Karbonschwarz  U2\n",
       "15890  Beige                             NaN\n",
       "3146    Blue                            Blau\n",
       "7239   Black                Obsidian-Schwarz"
      ]
     },
     "execution_count": 134,
     "metadata": {},
     "output_type": "execute_result"
    }
   ],
   "source": [
    "df[['colour', 'manufacturer_colour']].sample(20)"
   ]
  },
  {
   "cell_type": "code",
   "execution_count": 135,
   "metadata": {},
   "outputs": [
    {
     "data": {
      "text/html": [
       "<div>\n",
       "<style scoped>\n",
       "    .dataframe tbody tr th:only-of-type {\n",
       "        vertical-align: middle;\n",
       "    }\n",
       "\n",
       "    .dataframe tbody tr th {\n",
       "        vertical-align: top;\n",
       "    }\n",
       "\n",
       "    .dataframe thead th {\n",
       "        text-align: right;\n",
       "    }\n",
       "</style>\n",
       "<table border=\"1\" class=\"dataframe\">\n",
       "  <thead>\n",
       "    <tr style=\"text-align: right;\">\n",
       "      <th></th>\n",
       "      <th>colour</th>\n",
       "      <th>manufacturer_colour</th>\n",
       "    </tr>\n",
       "  </thead>\n",
       "  <tbody>\n",
       "    <tr>\n",
       "      <th>1</th>\n",
       "      <td>NaN</td>\n",
       "      <td>Negro Obsidiana</td>\n",
       "    </tr>\n",
       "    <tr>\n",
       "      <th>24</th>\n",
       "      <td>NaN</td>\n",
       "      <td>GRIS GRAFITO</td>\n",
       "    </tr>\n",
       "    <tr>\n",
       "      <th>37</th>\n",
       "      <td>NaN</td>\n",
       "      <td>Plata Iridio</td>\n",
       "    </tr>\n",
       "    <tr>\n",
       "      <th>145</th>\n",
       "      <td>NaN</td>\n",
       "      <td>Gris Montagne</td>\n",
       "    </tr>\n",
       "    <tr>\n",
       "      <th>169</th>\n",
       "      <td>NaN</td>\n",
       "      <td>Bleu denim métallisé</td>\n",
       "    </tr>\n",
       "    <tr>\n",
       "      <th>...</th>\n",
       "      <td>...</td>\n",
       "      <td>...</td>\n",
       "    </tr>\n",
       "    <tr>\n",
       "      <th>29434</th>\n",
       "      <td>NaN</td>\n",
       "      <td>Blanc Cristal</td>\n",
       "    </tr>\n",
       "    <tr>\n",
       "      <th>29439</th>\n",
       "      <td>NaN</td>\n",
       "      <td>Gris Osmium</td>\n",
       "    </tr>\n",
       "    <tr>\n",
       "      <th>29440</th>\n",
       "      <td>NaN</td>\n",
       "      <td>Noir Onyx Métallisé</td>\n",
       "    </tr>\n",
       "    <tr>\n",
       "      <th>29441</th>\n",
       "      <td>NaN</td>\n",
       "      <td>Gris Osmium</td>\n",
       "    </tr>\n",
       "    <tr>\n",
       "      <th>29446</th>\n",
       "      <td>NaN</td>\n",
       "      <td>DENIM BLUE</td>\n",
       "    </tr>\n",
       "  </tbody>\n",
       "</table>\n",
       "<p>1481 rows × 2 columns</p>\n",
       "</div>"
      ],
      "text/plain": [
       "      colour   manufacturer_colour\n",
       "1        NaN       Negro Obsidiana\n",
       "24       NaN          GRIS GRAFITO\n",
       "37       NaN          Plata Iridio\n",
       "145      NaN         Gris Montagne\n",
       "169      NaN  Bleu denim métallisé\n",
       "...      ...                   ...\n",
       "29434    NaN         Blanc Cristal\n",
       "29439    NaN           Gris Osmium\n",
       "29440    NaN   Noir Onyx Métallisé\n",
       "29441    NaN           Gris Osmium\n",
       "29446    NaN            DENIM BLUE\n",
       "\n",
       "[1481 rows x 2 columns]"
      ]
     },
     "execution_count": 135,
     "metadata": {},
     "output_type": "execute_result"
    }
   ],
   "source": [
    "df[(df[\"colour\"].isnull()) & (df[\"manufacturer_colour\"].notnull())][[\"colour\", \"manufacturer_colour\"]]"
   ]
  },
  {
   "cell_type": "code",
   "execution_count": 136,
   "metadata": {},
   "outputs": [
    {
     "data": {
      "text/plain": [
       "(28630, 43)"
      ]
     },
     "execution_count": 136,
     "metadata": {},
     "output_type": "execute_result"
    }
   ],
   "source": [
    "df.shape"
   ]
  },
  {
   "cell_type": "code",
   "execution_count": 137,
   "metadata": {},
   "outputs": [],
   "source": [
    "df.drop([\"colour\", \"manufacturer_colour\"], axis=1, inplace=True)"
   ]
  },
  {
   "cell_type": "code",
   "execution_count": 138,
   "metadata": {},
   "outputs": [
    {
     "data": {
      "text/plain": [
       "(28630, 41)"
      ]
     },
     "execution_count": 138,
     "metadata": {},
     "output_type": "execute_result"
    }
   ],
   "source": [
    "df.shape"
   ]
  },
  {
   "cell_type": "markdown",
   "metadata": {},
   "source": [
    "## paint\n",
    "\n",
    "### 📝 Some Remarks on paint:\n",
    "\n",
    "In a car trade web page, the car paint type refers to the type of paint finish used on the exterior of the vehicle. The most common types of paint finishes used on cars are solid, metallic, and pearl.\n",
    "\n",
    "Solid paint finishes are typically a single, uniform color and have no added metallic or pearlescent flakes. Metallic paint finishes contain small metallic flakes that reflect light and can create a shimmering effect in sunlight. Pearl paint finishes contain a combination of pigments and reflective flakes that create a unique, multi-dimensional effect.\n",
    "\n",
    "Other types of paint finishes that may be listed on a car trade web page include matte, satin, and gloss. Matte finishes have a flat, non-reflective appearance, while satin finishes have a slight sheen but are not as reflective as gloss finishes.\n",
    "\n",
    "The type of paint finish can affect the appearance and durability of the paint, as well as the desirability and resale value of the car. For example, some buyers may prefer the unique and eye-catching appearance of a metallic or pearl paint finish, while others may prefer the classic and understated look of a solid color."
   ]
  },
  {
   "cell_type": "code",
   "execution_count": 139,
   "metadata": {},
   "outputs": [
    {
     "name": "stdout",
     "output_type": "stream",
     "text": [
      "column name    :  paint\n",
      "--------------------------------\n",
      "per_of_nulls   :  % 49.37\n",
      "num_of_nulls   :  14135\n",
      "num_of_uniques :  3\n",
      "shape_of_df    :  (28630, 41)\n",
      "--------------------------------\n",
      "Metallic     14494\n",
      "NaN          14135\n",
      "Uni/basic        1\n",
      "Name: paint, dtype: int64\n"
     ]
    }
   ],
   "source": [
    "first_looking(df, \"paint\")"
   ]
  },
  {
   "cell_type": "code",
   "execution_count": 140,
   "metadata": {},
   "outputs": [
    {
     "data": {
      "text/plain": [
       "0         Metallic\n",
       "1        Uni/basic\n",
       "2        Uni/basic\n",
       "3        Uni/basic\n",
       "4         Metallic\n",
       "           ...    \n",
       "29474    Uni/basic\n",
       "29475    Uni/basic\n",
       "29476     Metallic\n",
       "29477     Metallic\n",
       "29478    Uni/basic\n",
       "Name: paint, Length: 28630, dtype: object"
      ]
     },
     "execution_count": 140,
     "metadata": {},
     "output_type": "execute_result"
    }
   ],
   "source": [
    "# df['Paint'].fillna(\"Uni/basic\")\n",
    "\n",
    "df['paint'] = df['paint'].replace(np.nan, \"Uni/basic\", regex=True)\n",
    "df['paint']"
   ]
  },
  {
   "cell_type": "code",
   "execution_count": 141,
   "metadata": {},
   "outputs": [
    {
     "data": {
      "text/plain": [
       "Metallic     14494\n",
       "Uni/basic    14136\n",
       "Name: paint, dtype: int64"
      ]
     },
     "execution_count": 141,
     "metadata": {},
     "output_type": "execute_result"
    }
   ],
   "source": [
    "df['paint'].value_counts(dropna=False)"
   ]
  },
  {
   "cell_type": "code",
   "execution_count": 142,
   "metadata": {},
   "outputs": [
    {
     "data": {
      "text/plain": [
       "(28630, 41)"
      ]
     },
     "execution_count": 142,
     "metadata": {},
     "output_type": "execute_result"
    }
   ],
   "source": [
    "df.shape"
   ]
  },
  {
   "cell_type": "code",
   "execution_count": 143,
   "metadata": {},
   "outputs": [],
   "source": [
    "df.drop(\"paint\", axis=1, inplace=True)"
   ]
  },
  {
   "cell_type": "code",
   "execution_count": 144,
   "metadata": {},
   "outputs": [
    {
     "data": {
      "text/plain": [
       "(28630, 40)"
      ]
     },
     "execution_count": 144,
     "metadata": {},
     "output_type": "execute_result"
    }
   ],
   "source": [
    "df.shape"
   ]
  },
  {
   "cell_type": "markdown",
   "metadata": {},
   "source": [
    "## seller\n",
    "\n",
    "### 📝 Some Remarks on seller:\n",
    "\n",
    "In a car trade web page, the seller for a car refers to the person or entity that is offering the car for sale. The seller could be an individual, a dealership, or a private seller.\n",
    "\n",
    "When buying or selling a car on a car trade web page, it is important to carefully review the seller and to consider it in the context of other factors such as the make, model, year, mileage, and condition of the vehicle. Different types of sellers may have different motivations, pricing strategies, and levels of transparency when it comes to selling a car.\n",
    "\n",
    "For example, a dealership may have a larger selection of cars to choose from and may offer financing options or warranties, but the prices may be higher to account for overhead costs and profits. A private seller may be more flexible on price and may provide more detailed information about the vehicle's history and condition, but there may be less recourse if something goes wrong with the transaction."
   ]
  },
  {
   "cell_type": "code",
   "execution_count": 145,
   "metadata": {},
   "outputs": [
    {
     "name": "stdout",
     "output_type": "stream",
     "text": [
      "column name    :  seller\n",
      "--------------------------------\n",
      "per_of_nulls   :  % 0.0\n",
      "num_of_nulls   :  0\n",
      "num_of_uniques :  2\n",
      "shape_of_df    :  (28630, 40)\n",
      "--------------------------------\n",
      "Dealer            26318\n",
      "Private seller     2312\n",
      "Name: seller, dtype: int64\n"
     ]
    }
   ],
   "source": [
    "first_looking(df, \"seller\")"
   ]
  },
  {
   "cell_type": "markdown",
   "metadata": {},
   "source": [
    "## seats\n",
    "\n",
    "### 📝 Some Remarks on seats:\n",
    "\n",
    "In a car trade web page, the seat number for a car refers to the number of seats that the vehicle has. This includes both the driver's seat and passenger seats.\n",
    "\n",
    "The seat number can vary depending on the make and model of the car, as well as the specific trim level or package. For example, some cars may have two seats, such as a sports car or a convertible, while others may have five or more seats, such as a minivan or SUV.\n",
    "\n",
    "The seat number can be an important factor to consider when buying or selling a car, as it can impact the car's functionality and comfort depending on the needs of the driver and passengers. For example, a car with a larger number of seats may be more suitable for families or groups, while a car with fewer seats may be more suitable for individuals or couples."
   ]
  },
  {
   "cell_type": "code",
   "execution_count": 146,
   "metadata": {},
   "outputs": [
    {
     "name": "stdout",
     "output_type": "stream",
     "text": [
      "column name    :  seats\n",
      "--------------------------------\n",
      "per_of_nulls   :  % 10.92\n",
      "num_of_nulls   :  3125\n",
      "num_of_uniques :  12\n",
      "shape_of_df    :  (28630, 40)\n",
      "--------------------------------\n",
      "[\\n, 5, \\n]     18308\n",
      "[\\n, 4, \\n]      5390\n",
      "NaN              3125\n",
      "[\\n, 2, \\n]      1186\n",
      "[\\n, 7, \\n]       488\n",
      "[\\n, 8, \\n]        43\n",
      "[\\n, 9, \\n]        35\n",
      "[\\n, 3, \\n]        25\n",
      "[\\n, 6, \\n]        12\n",
      "[\\n, 0, \\n]         9\n",
      "[\\n, 1, \\n]         7\n",
      "[\\n, 17, \\n]        2\n",
      "Name: seats, dtype: int64\n"
     ]
    }
   ],
   "source": [
    "first_looking(df, \"seats\")"
   ]
  },
  {
   "cell_type": "code",
   "execution_count": 147,
   "metadata": {},
   "outputs": [
    {
     "data": {
      "text/plain": [
       "0        NaN\n",
       "1        5.0\n",
       "2        5.0\n",
       "3        5.0\n",
       "4        5.0\n",
       "        ... \n",
       "29474    4.0\n",
       "29475    5.0\n",
       "29476    4.0\n",
       "29477    5.0\n",
       "29478    5.0\n",
       "Name: seats, Length: 28630, dtype: float64"
      ]
     },
     "execution_count": 147,
     "metadata": {},
     "output_type": "execute_result"
    }
   ],
   "source": [
    "df[\"seats\"] = df.seats.apply(lambda x : x[0] if type(x)==list else x)\n",
    "\n",
    "df[\"seats\"] = df.seats.str.extract('(\\d{1,4})').astype(\"float\") # str.extract('(\\d+)')\n",
    "df[\"seats\"]"
   ]
  },
  {
   "cell_type": "code",
   "execution_count": 148,
   "metadata": {},
   "outputs": [
    {
     "data": {
      "text/plain": [
       "5.0     18308\n",
       "4.0      5390\n",
       "NaN      3125\n",
       "2.0      1186\n",
       "7.0       488\n",
       "8.0        43\n",
       "9.0        35\n",
       "3.0        25\n",
       "6.0        12\n",
       "0.0         9\n",
       "1.0         7\n",
       "17.0        2\n",
       "Name: seats, dtype: int64"
      ]
     },
     "execution_count": 148,
     "metadata": {},
     "output_type": "execute_result"
    }
   ],
   "source": [
    "df['seats'].value_counts(dropna=False)"
   ]
  },
  {
   "cell_type": "markdown",
   "metadata": {},
   "source": [
    "## engine_size\n",
    "\n",
    "### 📝 Some Remarks on engine_size:\n",
    "\n",
    "In a car trade web page, the engine size for a car refers to the volume of the engine's combustion chambers, which is typically measured in liters (L) or cubic centimeters (cc). The engine size is also known as the engine displacement.\n",
    "\n",
    "The engine size can vary widely depending on the make and model of the car, as well as the specific trim level or package. A larger engine size generally indicates a more powerful engine that can generate more horsepower and torque, but it may also result in lower fuel efficiency and higher emissions.\n",
    "\n",
    "When buying or selling a car on a car trade web page, it is important to carefully review the engine size and to consider it in the context of other factors such as the make, model, year, mileage, and condition of the vehicle. Car trade web pages typically provide information about the engine size for each vehicle in the listing, along with other key details such as the make, model, year, mileage, and asking price.\n",
    "\n",
    "🔔 Does the engine capacity affect the price of a vehicle❓\n",
    "\n",
    " - A larger engine tends to be more expensive for the manufacturer to build. This cost is usually recovered (plus a nice profit) by increasing the price toward the customer.\n",
    " - Many cars will have more equipment standard with the larger engine, equipment that would be chargeable extras when the car is ordered with a smaller engine. The cost of this equipment is added to the base price of the car.\n",
    "Direct taxation on engine displacement in some places. Some countries or states will calculate taxes directly on the displacement. Even with power, emissions and such identical between a large and a small engine, obsolete and nonsensical rules dictate more tax to be paid on the big one.\n",
    " - Indirect taxation on typical side effects of larger engines. Back in the day, a large engine would be more powerful than a small engine, so a tax on horsepower would hit a large engine harder than a small one. Of course, with turbocharging becoming common, a small engine with a turbocharger often has more horsepower than a large engine without a turbocharger, and thus the stronger, smaller engine would be taxed more. These days, emissions-based taxes are more popular, and larger engines tend to have more emissions than smaller engines, triggering higher taxes on the larger engines."
   ]
  },
  {
   "cell_type": "code",
   "execution_count": 149,
   "metadata": {},
   "outputs": [
    {
     "name": "stdout",
     "output_type": "stream",
     "text": [
      "column name    :  engine_size\n",
      "--------------------------------\n",
      "per_of_nulls   :  % 4.9\n",
      "num_of_nulls   :  1403\n",
      "num_of_uniques :  468\n",
      "shape_of_df    :  (28630, 40)\n",
      "--------------------------------\n",
      "[\\n1,598 cc\\n]    2099\n",
      "[\\n999 cc\\n]      2068\n",
      "[\\n1,969 cc\\n]    1929\n",
      "NaN               1403\n",
      "[\\n1,461 cc\\n]    1110\n",
      "                  ... \n",
      "[\\n2,753 cc\\n]       1\n",
      "[\\n2,495 cc\\n]       1\n",
      "[\\n200 cc\\n]         1\n",
      "[\\n3,224 cc\\n]       1\n",
      "[\\n2,473 cc\\n]       1\n",
      "Name: engine_size, Length: 468, dtype: int64\n"
     ]
    }
   ],
   "source": [
    "first_looking(df, \"engine_size\")"
   ]
  },
  {
   "cell_type": "code",
   "execution_count": 150,
   "metadata": {},
   "outputs": [
    {
     "data": {
      "text/plain": [
       "0           NaN\n",
       "1           1.0\n",
       "2        1991.0\n",
       "3        1991.0\n",
       "4        2143.0\n",
       "          ...  \n",
       "29474    1969.0\n",
       "29475    2435.0\n",
       "29476    1560.0\n",
       "29477    1969.0\n",
       "29478    2922.0\n",
       "Name: engine_size, Length: 28630, dtype: float64"
      ]
     },
     "execution_count": 150,
     "metadata": {},
     "output_type": "execute_result"
    }
   ],
   "source": [
    "df['engine_size'] = df['engine_size'].astype(str).str.strip(\"['\\\\n, cc\\\\n']\").replace({\"a\", np.nan})\n",
    "df['engine_size'] = df['engine_size'].str.replace(',', '').str.extract('(\\d+)').astype(\"float\")\n",
    "df['engine_size']"
   ]
  },
  {
   "cell_type": "code",
   "execution_count": 151,
   "metadata": {},
   "outputs": [
    {
     "data": {
      "text/plain": [
       "1598.0    2099\n",
       "999.0     2068\n",
       "1969.0    1929\n",
       "NaN       1403\n",
       "1461.0    1110\n",
       "          ... \n",
       "2753.0       1\n",
       "2495.0       1\n",
       "200.0        1\n",
       "3224.0       1\n",
       "2473.0       1\n",
       "Name: engine_size, Length: 468, dtype: int64"
      ]
     },
     "execution_count": 151,
     "metadata": {},
     "output_type": "execute_result"
    }
   ],
   "source": [
    "df['engine_size'].value_counts(dropna=False)"
   ]
  },
  {
   "cell_type": "markdown",
   "metadata": {},
   "source": [
    "## gears\n",
    "\n",
    "### 📝 Some Remarks on gears:\n",
    "\n",
    "In a car trade web page, the gears for a car refer to the number of forward gears in the car's transmission. The transmission is responsible for transmitting power from the engine to the wheels, and the number of gears can have a significant impact on the car's performance, fuel efficiency, and driving experience.\n",
    "\n",
    "Cars can have different types of transmissions, including manual and automatic transmissions. Manual transmissions require the driver to manually shift gears using a clutch and a gearstick, while automatic transmissions shift gears automatically without the need for manual intervention.\n",
    "\n",
    "The number of gears in a car can vary depending on the make and model of the car, as well as the specific trim level or package. Cars with more gears typically offer better fuel efficiency and smoother acceleration, as the engine can operate more efficiently at different speeds."
   ]
  },
  {
   "cell_type": "code",
   "execution_count": 152,
   "metadata": {},
   "outputs": [
    {
     "name": "stdout",
     "output_type": "stream",
     "text": [
      "column name    :  gears\n",
      "--------------------------------\n",
      "per_of_nulls   :  % 33.8\n",
      "num_of_nulls   :  9676\n",
      "num_of_uniques :  12\n",
      "shape_of_df    :  (28630, 40)\n",
      "--------------------------------\n",
      "NaN         9676\n",
      "[\\n6\\n]     8412\n",
      "[\\n5\\n]     5335\n",
      "[\\n7\\n]     1738\n",
      "[\\n8\\n]     1690\n",
      "[\\n1\\n]      712\n",
      "[\\n9\\n]      642\n",
      "[\\n4\\n]      256\n",
      "[\\n10\\n]     112\n",
      "[\\n0\\n]       31\n",
      "[\\n3\\n]       24\n",
      "[\\n2\\n]        2\n",
      "Name: gears, dtype: int64\n"
     ]
    }
   ],
   "source": [
    "first_looking(df, \"gears\")"
   ]
  },
  {
   "cell_type": "code",
   "execution_count": 153,
   "metadata": {},
   "outputs": [
    {
     "data": {
      "text/plain": [
       "0        NaN\n",
       "1        9.0\n",
       "2        8.0\n",
       "3        7.0\n",
       "4        7.0\n",
       "        ... \n",
       "29474    8.0\n",
       "29475    5.0\n",
       "29476    6.0\n",
       "29477    8.0\n",
       "29478    NaN\n",
       "Name: gears, Length: 28630, dtype: float64"
      ]
     },
     "execution_count": 153,
     "metadata": {},
     "output_type": "execute_result"
    }
   ],
   "source": [
    "df['gears'] = df['gears'].astype(str).str.extract('(\\d+)').astype(\"float\")\n",
    "df['gears']"
   ]
  },
  {
   "cell_type": "code",
   "execution_count": 154,
   "metadata": {},
   "outputs": [
    {
     "data": {
      "text/plain": [
       "NaN     9676\n",
       "6.0     8412\n",
       "5.0     5335\n",
       "7.0     1738\n",
       "8.0     1690\n",
       "1.0      712\n",
       "9.0      642\n",
       "4.0      256\n",
       "10.0     112\n",
       "0.0       31\n",
       "3.0       24\n",
       "2.0        2\n",
       "Name: gears, dtype: int64"
      ]
     },
     "execution_count": 154,
     "metadata": {},
     "output_type": "execute_result"
    }
   ],
   "source": [
    "df[\"gears\"].value_counts(dropna=False)"
   ]
  },
  {
   "cell_type": "markdown",
   "metadata": {},
   "source": [
    "## co_emissions\n",
    "\n",
    "### 📝 Some Remarks on CO emissions:\n",
    "\n",
    "CO emissions, or carbon monoxide emissions, refer to the amount of carbon monoxide that a car's engine emits during operation. Carbon monoxide is a colorless and odorless gas that is produced by the incomplete combustion of fossil fuels, such as gasoline or diesel.\n",
    "\n",
    "Carbon monoxide emissions can be harmful to human health, as they can reduce the amount of oxygen that the body can absorb, leading to symptoms such as headaches, dizziness, and nausea. Carbon monoxide emissions also contribute to air pollution and can have a negative impact on the environment.\n",
    "\n",
    "In a car trade web page, information about CO emissions may be provided to help buyers and sellers understand the environmental impact of the vehicle. The CO emissions for a car can vary depending on the make and model of the car, as well as the age and condition of the vehicle."
   ]
  },
  {
   "cell_type": "code",
   "execution_count": 155,
   "metadata": {},
   "outputs": [
    {
     "name": "stdout",
     "output_type": "stream",
     "text": [
      "column name    :  co_emissions\n",
      "--------------------------------\n",
      "per_of_nulls   :  % 35.05\n",
      "num_of_nulls   :  10036\n",
      "num_of_uniques :  348\n",
      "shape_of_df    :  (28630, 40)\n",
      "--------------------------------\n",
      "NaN                  10036\n",
      "0 g/km (comb.)        1038\n",
      "119 g/km (comb.)       393\n",
      "124 g/km (comb.)       340\n",
      "129 g/km (comb.)       319\n",
      "                     ...  \n",
      "7 g/km (comb.)           1\n",
      "80 g/km (comb.)          1\n",
      "196  g/km (comb.)        1\n",
      "100  g/km (comb.)        1\n",
      "53 g/km (comb.)          1\n",
      "Name: co_emissions, Length: 348, dtype: int64\n"
     ]
    }
   ],
   "source": [
    "first_looking(df, \"co_emissions\")"
   ]
  },
  {
   "cell_type": "code",
   "execution_count": 156,
   "metadata": {},
   "outputs": [
    {
     "data": {
      "text/plain": [
       "0          NaN\n",
       "1          0.0\n",
       "2          NaN\n",
       "3          NaN\n",
       "4          NaN\n",
       "         ...  \n",
       "29474      NaN\n",
       "29475    217.0\n",
       "29476     99.0\n",
       "29477    149.0\n",
       "29478    251.0\n",
       "Name: co_emissions, Length: 28630, dtype: float64"
      ]
     },
     "execution_count": 156,
     "metadata": {},
     "output_type": "execute_result"
    }
   ],
   "source": [
    "df[\"co_emissions\"] = df[\"co_emissions\"].astype(str).str.extract('(\\d+)').astype(\"float\")\n",
    "df[\"co_emissions\"]"
   ]
  },
  {
   "cell_type": "code",
   "execution_count": 157,
   "metadata": {},
   "outputs": [
    {
     "data": {
      "text/plain": [
       "NaN      10036\n",
       "0.0       1040\n",
       "119.0      393\n",
       "124.0      340\n",
       "129.0      319\n",
       "         ...  \n",
       "332.0        1\n",
       "70.0         1\n",
       "338.0        1\n",
       "342.0        1\n",
       "53.0         1\n",
       "Name: co_emissions, Length: 327, dtype: int64"
      ]
     },
     "execution_count": 157,
     "metadata": {},
     "output_type": "execute_result"
    }
   ],
   "source": [
    "df[\"co_emissions\"].value_counts(dropna=False)"
   ]
  },
  {
   "cell_type": "markdown",
   "metadata": {},
   "source": [
    "## drivetrain\n",
    "\n",
    "### 📝 Some Remarks on drivetrain:\n",
    "\n",
    "A car’s drivetrain includes all of the components necessary to transfer the engine’s energy to its wheels in order to make your vehicle move. A car’s drivetrain connects the engine to the wheels enabling the vehicle to move. As the engine runs, the drivetrain helps send power through the transmission to the drive wheels. The drive wheels can be either the front wheels, rear wheels, or all the wheels — also known as front-wheel, rear-wheel, and all-wheel drive.\n",
    "\n",
    "An Automotive Drivetrain is a combination of various components that provide power to the vehicle's wheel. It is made up of a driveshaft, transmission or gearbox, universal joints, constant velocity joints, wheels, and axles. It allows the driver to control the power flow and multiplies the engine torque for controlling the engine speed.\n",
    "\n",
    "Nowadays, the introduction of stringent emission regulations in European and North American countries has boosted demand for improved Automotive drivetrains that are lightweight and hence assist in increasing fuel efficiency, reducing emissions, and improving vehicle performance."
   ]
  },
  {
   "cell_type": "code",
   "execution_count": 158,
   "metadata": {},
   "outputs": [
    {
     "name": "stdout",
     "output_type": "stream",
     "text": [
      "column name    :  drivetrain\n",
      "--------------------------------\n",
      "per_of_nulls   :  % 41.0\n",
      "num_of_nulls   :  11737\n",
      "num_of_uniques :  4\n",
      "shape_of_df    :  (28630, 40)\n",
      "--------------------------------\n",
      "[\\n, Front, \\n]    12066\n",
      "NaN                11737\n",
      "[\\n, 4WD, \\n]       3252\n",
      "[\\n, Rear, \\n]      1575\n",
      "Name: drivetrain, dtype: int64\n"
     ]
    }
   ],
   "source": [
    "first_looking(df, \"drivetrain\")"
   ]
  },
  {
   "cell_type": "code",
   "execution_count": 159,
   "metadata": {},
   "outputs": [
    {
     "data": {
      "text/plain": [
       "0          NaN\n",
       "1          NaN\n",
       "2          4WD\n",
       "3          4WD\n",
       "4          4WD\n",
       "         ...  \n",
       "29474      4WD\n",
       "29475    Front\n",
       "29476    Front\n",
       "29477      NaN\n",
       "29478    Front\n",
       "Name: drivetrain, Length: 28630, dtype: object"
      ]
     },
     "execution_count": 159,
     "metadata": {},
     "output_type": "execute_result"
    }
   ],
   "source": [
    "df[\"drivetrain\"] = df[\"drivetrain\"].explode().str.strip(\"\\n, \")\n",
    "df[\"drivetrain\"]"
   ]
  },
  {
   "cell_type": "code",
   "execution_count": 160,
   "metadata": {},
   "outputs": [
    {
     "data": {
      "text/plain": [
       "Front    12066\n",
       "NaN      11737\n",
       "4WD       3252\n",
       "Rear      1575\n",
       "Name: drivetrain, dtype: int64"
      ]
     },
     "execution_count": 160,
     "metadata": {},
     "output_type": "execute_result"
    }
   ],
   "source": [
    "df[\"drivetrain\"].value_counts(dropna=False)"
   ]
  },
  {
   "cell_type": "markdown",
   "metadata": {},
   "source": [
    "## cylinders\n",
    "\n",
    "### 📝 Some Remarks on cylinders:\n",
    "\n",
    "In a car trade web page, the cylinders for a car refer to the number of cylinders in the car's engine. The cylinders are the part of the engine where combustion occurs, and the number of cylinders can have a significant impact on the car's performance, power, and fuel efficiency.\n",
    "\n",
    "Cars can have different numbers of cylinders, including four-cylinder, six-cylinder, and eight-cylinder engines. Cars with more cylinders typically offer more power and performance, but may also be less fuel-efficient than cars with fewer cylinders.\n",
    "\n",
    "When buying or selling a car on a car trade web page, it is important to carefully review the number of cylinders and to consider it in the context of other factors such as the make, model, year, mileage, and condition of the vehicle. Car trade web pages typically provide information about the number of cylinders for each vehicle in the listing, along with other key details such as the make, model, year, mileage, and asking price.\n",
    "\n",
    "It is important to note that the number of cylinders is not the only factor that determines a car's performance and fuel efficiency. Other factors such as the engine size, transmission, and drivetrain can also play a significant role in how the car performs on the road."
   ]
  },
  {
   "cell_type": "code",
   "execution_count": 161,
   "metadata": {},
   "outputs": [
    {
     "name": "stdout",
     "output_type": "stream",
     "text": [
      "column name    :  cylinders\n",
      "--------------------------------\n",
      "per_of_nulls   :  % 34.15\n",
      "num_of_nulls   :  9778\n",
      "num_of_uniques :  13\n",
      "shape_of_df    :  (28630, 40)\n",
      "--------------------------------\n",
      "[\\n4\\n]     13068\n",
      "NaN          9778\n",
      "[\\n3\\n]      3258\n",
      "[\\n6\\n]      1013\n",
      "[\\n5\\n]       799\n",
      "[\\n8\\n]       539\n",
      "[\\n2\\n]       103\n",
      "[\\n0\\n]        35\n",
      "[\\n1\\n]        21\n",
      "[\\n12\\n]        8\n",
      "[\\n7\\n]         6\n",
      "[\\n26\\n]        1\n",
      "[\\n16\\n]        1\n",
      "Name: cylinders, dtype: int64\n"
     ]
    }
   ],
   "source": [
    "first_looking(df, \"cylinders\")"
   ]
  },
  {
   "cell_type": "code",
   "execution_count": 162,
   "metadata": {},
   "outputs": [
    {
     "data": {
      "text/plain": [
       "0        NaN\n",
       "1        NaN\n",
       "2        4.0\n",
       "3        4.0\n",
       "4        4.0\n",
       "        ... \n",
       "29474    4.0\n",
       "29475    5.0\n",
       "29476    4.0\n",
       "29477    4.0\n",
       "29478    6.0\n",
       "Name: cylinders, Length: 28630, dtype: float64"
      ]
     },
     "execution_count": 162,
     "metadata": {},
     "output_type": "execute_result"
    }
   ],
   "source": [
    "df[\"cylinders\"] = df[\"cylinders\"].astype(str).str.extract('(\\d+)').astype(\"float\")\n",
    "df[\"cylinders\"]"
   ]
  },
  {
   "cell_type": "code",
   "execution_count": 163,
   "metadata": {},
   "outputs": [
    {
     "data": {
      "text/plain": [
       "4.0     13068\n",
       "NaN      9778\n",
       "3.0      3258\n",
       "6.0      1013\n",
       "5.0       799\n",
       "8.0       539\n",
       "2.0       103\n",
       "0.0        35\n",
       "1.0        21\n",
       "12.0        8\n",
       "7.0         6\n",
       "26.0        1\n",
       "16.0        1\n",
       "Name: cylinders, dtype: int64"
      ]
     },
     "execution_count": 163,
     "metadata": {},
     "output_type": "execute_result"
    }
   ],
   "source": [
    "df[\"cylinders\"].value_counts(dropna=False)"
   ]
  },
  {
   "cell_type": "markdown",
   "metadata": {},
   "source": [
    "## fuel_consumption\n",
    "\n",
    "### 📝 Some Remarks on fuel consumption:\n",
    "\n",
    "Another key factor is fuel economy. Efficient vehicles tend to hold their value better when gas prices are high, while less efficient vehicles (which typically have more cargo space and higher safety ratings) do better when gas is cheap.\n",
    "\n",
    "The fuel consumption for a car in a car trade web page typically refers to the amount of fuel that the car consumes per unit of distance traveled, usually expressed in miles per gallon (mpg) or liters per 100 kilometers (L/100 km). Fuel consumption is a key factor to consider when buying or selling a car, as it can have a significant impact on the car's operating costs and environmental impact.\n",
    "\n",
    "The fuel consumption of a car can vary depending on a number of factors, including the make and model of the car, the engine size, the number of cylinders, the transmission type, and the driving conditions. Cars with smaller engines and fewer cylinders typically offer better fuel efficiency than cars with larger engines and more cylinders.\n",
    "\n",
    "In a car trade web page, information about fuel consumption may be provided to help buyers and sellers understand the expected fuel costs associated with the vehicle. Car trade web pages typically provide information about the fuel consumption for each vehicle in the listing, along with other key details such as the make, model, year, mileage, and asking price.\n",
    "\n",
    "It is important to keep in mind that actual fuel consumption may vary depending on a number of factors, including driving habits, road conditions, and maintenance practices. Therefore, the fuel consumption listed on a car trade web page should be used as a general guide rather than an exact estimate of the vehicle's fuel efficiency."
   ]
  },
  {
   "cell_type": "code",
   "execution_count": 164,
   "metadata": {},
   "outputs": [
    {
     "name": "stdout",
     "output_type": "stream",
     "text": [
      "column name    :  fuel_consumption\n",
      "--------------------------------\n",
      "per_of_nulls   :  % 18.32\n",
      "num_of_nulls   :  5245\n",
      "num_of_uniques :  3453\n",
      "shape_of_df    :  (28630, 40)\n",
      "--------------------------------\n",
      "NaN                                                                            5245\n",
      "[[0 l/100 km (comb.)]]                                                          330\n",
      "[[0 l/100 km (comb.)], [0 l/100 km (city)], [0 l/100 km (country)]]             306\n",
      "[[3.4 l/100 km (comb.)], [3.7 l/100 km (city)], [3.2 l/100 km (country)]]       170\n",
      "[[4 l/100 km (comb.)]]                                                          149\n",
      "                                                                               ... \n",
      "[[14.2 l/100 km (comb.)], [21.3 l/100 km (city)], [10 l/100 km (country)]]        1\n",
      "[[3.5 l/100 km (comb.)], [4.4 l/100 km (city)], [2.9 l/100 km (country)]]         1\n",
      "[[4.5 l/100 km (comb.)], [6.2 l/100 km (city)], [3.5 l/100 km (country)]]         1\n",
      "[[4.9 l/100 km (comb.)], [99.9 l/100 km (city)], [98 l/100 km (country)]]         1\n",
      "[[10.4 l/100 km (comb.)], [15.3 l/100 km (city)], [7.6 l/100 km (country)]]       1\n",
      "Name: fuel_consumption, Length: 3453, dtype: int64\n"
     ]
    }
   ],
   "source": [
    "first_looking(df, \"fuel_consumption\")"
   ]
  },
  {
   "cell_type": "code",
   "execution_count": 165,
   "metadata": {},
   "outputs": [
    {
     "data": {
      "text/plain": [
       "[['8.4 l/100 km (comb.)'],\n",
       " ['10.9 l/100 km (city)'],\n",
       " ['5.8 l/100 km (country)']]"
      ]
     },
     "execution_count": 165,
     "metadata": {},
     "output_type": "execute_result"
    }
   ],
   "source": [
    "df[\"fuel_consumption\"].iloc[2]"
   ]
  },
  {
   "cell_type": "code",
   "execution_count": 166,
   "metadata": {},
   "outputs": [
    {
     "data": {
      "text/plain": [
       "['8.4 l/100 km (comb.)']"
      ]
     },
     "execution_count": 166,
     "metadata": {},
     "output_type": "execute_result"
    }
   ],
   "source": [
    "df[\"fuel_consumption\"][2][0]"
   ]
  },
  {
   "cell_type": "code",
   "execution_count": 167,
   "metadata": {},
   "outputs": [
    {
     "data": {
      "text/plain": [
       "['10.9 l/100 km (city)']"
      ]
     },
     "execution_count": 167,
     "metadata": {},
     "output_type": "execute_result"
    }
   ],
   "source": [
    "df[\"fuel_consumption\"][2][1]"
   ]
  },
  {
   "cell_type": "code",
   "execution_count": 168,
   "metadata": {},
   "outputs": [
    {
     "data": {
      "text/plain": [
       "['5.8 l/100 km (country)']"
      ]
     },
     "execution_count": 168,
     "metadata": {},
     "output_type": "execute_result"
    }
   ],
   "source": [
    "df[\"fuel_consumption\"][2][2]"
   ]
  },
  {
   "cell_type": "code",
   "execution_count": 169,
   "metadata": {},
   "outputs": [],
   "source": [
    "def cons_avg(x):\n",
    "    \n",
    "    if type(x)==list:\n",
    "        if x[0] != []: return x[0][0]\n",
    "        else: return None\n",
    "  \n",
    "    else:\n",
    "        return None"
   ]
  },
  {
   "cell_type": "code",
   "execution_count": 170,
   "metadata": {},
   "outputs": [],
   "source": [
    "def cons_city(x):\n",
    "    \n",
    "    if type(x)==list and len(x)==3:\n",
    "        if x[1] != []: return x[1][0]\n",
    "        else: return None\n",
    "        \n",
    "    else:\n",
    "        return None"
   ]
  },
  {
   "cell_type": "code",
   "execution_count": 171,
   "metadata": {},
   "outputs": [],
   "source": [
    "def cons_country(x):\n",
    "    \n",
    "    if type(x)==list and len(x)==3:\n",
    "        if x[2] != []: return x[2][0]\n",
    "        else: return None\n",
    "        \n",
    "    else:\n",
    "        return None"
   ]
  },
  {
   "cell_type": "code",
   "execution_count": 172,
   "metadata": {},
   "outputs": [
    {
     "data": {
      "text/plain": [
       "0         NaN\n",
       "1         NaN\n",
       "2         8.4\n",
       "3         7.3\n",
       "4         4.9\n",
       "         ... \n",
       "29474     2.0\n",
       "29475     9.1\n",
       "29476     3.8\n",
       "29477     6.5\n",
       "29478    10.4\n",
       "Name: cons_avg, Length: 28630, dtype: float64"
      ]
     },
     "execution_count": 172,
     "metadata": {},
     "output_type": "execute_result"
    }
   ],
   "source": [
    "df['cons_avg'] = df[\"fuel_consumption\"].apply(cons_avg).str.extract('(\\d{1,2}.\\d|\\d{1,3})').astype(\"float\")\n",
    "df['cons_avg']                                        # str.extract('(\\S+)')"
   ]
  },
  {
   "cell_type": "code",
   "execution_count": 173,
   "metadata": {},
   "outputs": [
    {
     "data": {
      "text/plain": [
       "0         NaN\n",
       "1         NaN\n",
       "2        10.9\n",
       "3         9.3\n",
       "4         5.7\n",
       "         ... \n",
       "29474     NaN\n",
       "29475    13.2\n",
       "29476     4.3\n",
       "29477     8.6\n",
       "29478    15.3\n",
       "Name: cons_city, Length: 28630, dtype: float64"
      ]
     },
     "execution_count": 173,
     "metadata": {},
     "output_type": "execute_result"
    }
   ],
   "source": [
    "df['cons_city'] =  df[\"fuel_consumption\"].apply(cons_city).str.extract('(\\d{1,2}.\\d|\\d{1,3})').astype(\"float\") \n",
    "df['cons_city']                                          # str.extract('(\\S+)')"
   ]
  },
  {
   "cell_type": "code",
   "execution_count": 174,
   "metadata": {},
   "outputs": [
    {
     "data": {
      "text/plain": [
       "0        NaN\n",
       "1        NaN\n",
       "2        5.8\n",
       "3        6.1\n",
       "4        4.4\n",
       "        ... \n",
       "29474    NaN\n",
       "29475    6.7\n",
       "29476    3.5\n",
       "29477    5.3\n",
       "29478    7.6\n",
       "Name: cons_country, Length: 28630, dtype: float64"
      ]
     },
     "execution_count": 174,
     "metadata": {},
     "output_type": "execute_result"
    }
   ],
   "source": [
    "df['cons_country'] = df[\"fuel_consumption\"].apply(cons_country).str.extract('(\\d{1,2}.\\d|\\d{1,3})').astype(\"float\") \n",
    "df['cons_country']                                            # str.extract('(\\S+)')"
   ]
  },
  {
   "cell_type": "code",
   "execution_count": 175,
   "metadata": {},
   "outputs": [
    {
     "data": {
      "text/plain": [
       "NaN     5245\n",
       "5.0      831\n",
       "4.9      812\n",
       "4.5      690\n",
       "0.0      652\n",
       "        ... \n",
       "16.0       1\n",
       "57.0       1\n",
       "61.0       1\n",
       "14.5       1\n",
       "44.0       1\n",
       "Name: cons_avg, Length: 162, dtype: int64"
      ]
     },
     "execution_count": 175,
     "metadata": {},
     "output_type": "execute_result"
    }
   ],
   "source": [
    "df['cons_avg'].value_counts(dropna=False)"
   ]
  },
  {
   "cell_type": "code",
   "execution_count": 176,
   "metadata": {},
   "outputs": [
    {
     "data": {
      "text/plain": [
       "NaN     8530\n",
       "5.8      494\n",
       "6.4      485\n",
       "5.3      479\n",
       "5.7      464\n",
       "        ... \n",
       "21.5       1\n",
       "50.0       1\n",
       "3.1        1\n",
       "79.0       1\n",
       "76.1       1\n",
       "Name: cons_city, Length: 196, dtype: int64"
      ]
     },
     "execution_count": 176,
     "metadata": {},
     "output_type": "execute_result"
    }
   ],
   "source": [
    "df['cons_city'].value_counts(dropna=False)"
   ]
  },
  {
   "cell_type": "code",
   "execution_count": 177,
   "metadata": {},
   "outputs": [
    {
     "data": {
      "text/plain": [
       "NaN     8530\n",
       "4.3      884\n",
       "4.0      804\n",
       "4.2      750\n",
       "4.7      730\n",
       "        ... \n",
       "18.0       1\n",
       "11.7       1\n",
       "14.4       1\n",
       "11.5       1\n",
       "12.7       1\n",
       "Name: cons_country, Length: 115, dtype: int64"
      ]
     },
     "execution_count": 177,
     "metadata": {},
     "output_type": "execute_result"
    }
   ],
   "source": [
    "df['cons_country'].value_counts(dropna=False)"
   ]
  },
  {
   "cell_type": "code",
   "execution_count": 178,
   "metadata": {},
   "outputs": [
    {
     "data": {
      "text/plain": [
       "(28630, 43)"
      ]
     },
     "execution_count": 178,
     "metadata": {},
     "output_type": "execute_result"
    }
   ],
   "source": [
    "df.shape"
   ]
  },
  {
   "cell_type": "code",
   "execution_count": 179,
   "metadata": {},
   "outputs": [],
   "source": [
    "df.drop(\"fuel_consumption\", axis=1, inplace=True)"
   ]
  },
  {
   "cell_type": "code",
   "execution_count": 180,
   "metadata": {},
   "outputs": [
    {
     "data": {
      "text/plain": [
       "(28630, 42)"
      ]
     },
     "execution_count": 180,
     "metadata": {},
     "output_type": "execute_result"
    }
   ],
   "source": [
    "df.shape"
   ]
  },
  {
   "cell_type": "markdown",
   "metadata": {},
   "source": [
    "## empty_weight\n",
    "\n",
    "### 📝 Some Remarks on empty weight:\n",
    "\n",
    "The empty weight for a car in a car trade web page refers to the weight of the vehicle without any passengers or cargo. It is also known as the curb weight or unladen weight of the vehicle.\n",
    "\n",
    "The empty weight of a car can vary depending on the make and model of the car, as well as the specific trim level or package. The empty weight can have a significant impact on the car's performance, fuel efficiency, and handling, as a heavier car may require more power to accelerate and may be less fuel-efficient.\n",
    "\n",
    "In a car trade web page, information about the empty weight may be provided to help buyers and sellers understand the overall size and weight of the vehicle. Car trade web pages typically provide information about the empty weight for each vehicle in the listing, along with other key details such as the make, model, year, mileage, and asking price.\n",
    "\n",
    "It is important to keep in mind that the empty weight listed on a car trade web page may not include optional equipment or accessories that can add weight to the vehicle. Therefore, the empty weight should be used as a general guide rather than an exact measurement of the vehicle's weight."
   ]
  },
  {
   "cell_type": "code",
   "execution_count": 181,
   "metadata": {},
   "outputs": [
    {
     "name": "stdout",
     "output_type": "stream",
     "text": [
      "column name    :  empty_weight\n",
      "--------------------------------\n",
      "per_of_nulls   :  % 37.97\n",
      "num_of_nulls   :  10872\n",
      "num_of_uniques :  1219\n",
      "shape_of_df    :  (28630, 42)\n",
      "--------------------------------\n",
      "NaN               10872\n",
      "[\\n1,395 kg\\n]      233\n",
      "[\\n1,055 kg\\n]      224\n",
      "[\\n1,423 kg\\n]      216\n",
      "[\\n1,165 kg\\n]      200\n",
      "                  ...  \n",
      "[\\n1,877 kg\\n]        1\n",
      "[\\n1,011 kg\\n]        1\n",
      "[\\n1,069 kg\\n]        1\n",
      "[\\n983 kg\\n]          1\n",
      "[\\n1,391 kg\\n]        1\n",
      "Name: empty_weight, Length: 1219, dtype: int64\n"
     ]
    }
   ],
   "source": [
    "first_looking(df, \"empty_weight\")"
   ]
  },
  {
   "cell_type": "code",
   "execution_count": 182,
   "metadata": {},
   "outputs": [
    {
     "data": {
      "text/html": [
       "<div>\n",
       "<style scoped>\n",
       "    .dataframe tbody tr th:only-of-type {\n",
       "        vertical-align: middle;\n",
       "    }\n",
       "\n",
       "    .dataframe tbody tr th {\n",
       "        vertical-align: top;\n",
       "    }\n",
       "\n",
       "    .dataframe thead th {\n",
       "        text-align: right;\n",
       "    }\n",
       "</style>\n",
       "<table border=\"1\" class=\"dataframe\">\n",
       "  <thead>\n",
       "    <tr style=\"text-align: right;\">\n",
       "      <th></th>\n",
       "      <th>0</th>\n",
       "    </tr>\n",
       "  </thead>\n",
       "  <tbody>\n",
       "    <tr>\n",
       "      <th>0</th>\n",
       "      <td>NaN</td>\n",
       "    </tr>\n",
       "    <tr>\n",
       "      <th>1</th>\n",
       "      <td>NaN</td>\n",
       "    </tr>\n",
       "    <tr>\n",
       "      <th>2</th>\n",
       "      <td>NaN</td>\n",
       "    </tr>\n",
       "    <tr>\n",
       "      <th>3</th>\n",
       "      <td>NaN</td>\n",
       "    </tr>\n",
       "    <tr>\n",
       "      <th>4</th>\n",
       "      <td>1545.0</td>\n",
       "    </tr>\n",
       "    <tr>\n",
       "      <th>...</th>\n",
       "      <td>...</td>\n",
       "    </tr>\n",
       "    <tr>\n",
       "      <th>29474</th>\n",
       "      <td>2077.0</td>\n",
       "    </tr>\n",
       "    <tr>\n",
       "      <th>29475</th>\n",
       "      <td>1357.0</td>\n",
       "    </tr>\n",
       "    <tr>\n",
       "      <th>29476</th>\n",
       "      <td>1356.0</td>\n",
       "    </tr>\n",
       "    <tr>\n",
       "      <th>29477</th>\n",
       "      <td>1617.0</td>\n",
       "    </tr>\n",
       "    <tr>\n",
       "      <th>29478</th>\n",
       "      <td>1573.0</td>\n",
       "    </tr>\n",
       "  </tbody>\n",
       "</table>\n",
       "<p>28630 rows × 1 columns</p>\n",
       "</div>"
      ],
      "text/plain": [
       "            0\n",
       "0         NaN\n",
       "1         NaN\n",
       "2         NaN\n",
       "3         NaN\n",
       "4      1545.0\n",
       "...       ...\n",
       "29474  2077.0\n",
       "29475  1357.0\n",
       "29476  1356.0\n",
       "29477  1617.0\n",
       "29478  1573.0\n",
       "\n",
       "[28630 rows x 1 columns]"
      ]
     },
     "execution_count": 182,
     "metadata": {},
     "output_type": "execute_result"
    }
   ],
   "source": [
    "df['empty_weight'].astype(str).str.replace(',', '').str.extract('(\\d+)').astype(\"float\")"
   ]
  },
  {
   "cell_type": "code",
   "execution_count": 183,
   "metadata": {},
   "outputs": [
    {
     "data": {
      "text/plain": [
       "0           NaN\n",
       "1           NaN\n",
       "2           NaN\n",
       "3           NaN\n",
       "4        1545.0\n",
       "          ...  \n",
       "29474    2077.0\n",
       "29475    1357.0\n",
       "29476    1356.0\n",
       "29477    1617.0\n",
       "29478    1573.0\n",
       "Name: empty_weight, Length: 28630, dtype: float64"
      ]
     },
     "execution_count": 183,
     "metadata": {},
     "output_type": "execute_result"
    }
   ],
   "source": [
    "df['empty_weight'] = df['empty_weight'].astype(str).str.replace(',', '').str.extract('(\\d+)').astype(\"float\")\n",
    "df['empty_weight']"
   ]
  },
  {
   "cell_type": "code",
   "execution_count": 184,
   "metadata": {},
   "outputs": [
    {
     "data": {
      "text/plain": [
       "NaN       10872\n",
       "1395.0      233\n",
       "1055.0      224\n",
       "1423.0      216\n",
       "1165.0      200\n",
       "          ...  \n",
       "1877.0        1\n",
       "1011.0        1\n",
       "1069.0        1\n",
       "983.0         1\n",
       "1391.0        1\n",
       "Name: empty_weight, Length: 1219, dtype: int64"
      ]
     },
     "execution_count": 184,
     "metadata": {},
     "output_type": "execute_result"
    }
   ],
   "source": [
    "df['empty_weight'].value_counts(dropna=False)"
   ]
  },
  {
   "cell_type": "markdown",
   "metadata": {},
   "source": [
    "## model_code\n",
    "\n",
    "### 📝 Some Remarks on model code:\n",
    "\n",
    "The model code for a car in a car trade web page is a unique alphanumeric code that is assigned to a specific make and model of a car by the manufacturer. The model code is used to identify the specific configuration of the car, including its trim level, engine type, transmission, and other features.\n",
    "\n",
    "The model code can be useful for buyers and sellers to identify the exact specifications of a particular car, especially if there are multiple variations of the same make and model. By using the model code, buyers and sellers can ensure that they are comparing apples to apples when evaluating different cars.\n",
    "\n",
    "#### ⚠️ What is Model Code and Chassis Number (VIN Code)?\n",
    "\n",
    "The model code is to identify the manufacturer, car name, body shape, engine type, and displacement, etc.! At first glance, the model code looks like a series of letters and numbers.\n",
    "\n",
    "Car parts are different from one car to another, even for the ones with the same model and manufacture/registration year. To identify the right parts for your car, we need the \"Model Code\" and the \"Chassis Number\" that are written on the ID plate of the vehicle. Model Code (or Number) for each models.\n",
    "And it is same for each models. Chassis Number (or VIN Code) is provided for each vehicles but it is different from each other even with the same model."
   ]
  },
  {
   "cell_type": "code",
   "execution_count": 185,
   "metadata": {},
   "outputs": [
    {
     "name": "stdout",
     "output_type": "stream",
     "text": [
      "column name    :  model_code\n",
      "--------------------------------\n",
      "per_of_nulls   :  % 70.78\n",
      "num_of_nulls   :  20263\n",
      "num_of_uniques :  2187\n",
      "shape_of_df    :  (28630, 42)\n",
      "--------------------------------\n",
      "NaN                   20263\n",
      "[\\n, 8212/AFJ, \\n]       75\n",
      "[\\n, 1727/AAM, \\n]       64\n",
      "[\\n, 1349/AGI, \\n]       61\n",
      "[\\n, 1889/ABU, \\n]       55\n",
      "                      ...  \n",
      "[\\n, 7593/ANL, \\n]        1\n",
      "[\\n, 1727/ABC, \\n]        1\n",
      "[\\n, 4136/AEC, \\n]        1\n",
      "[\\n, 4136/668, \\n]        1\n",
      "[\\n, 9101/449, \\n]        1\n",
      "Name: model_code, Length: 2187, dtype: int64\n"
     ]
    }
   ],
   "source": [
    "first_looking(df, \"model_code\")"
   ]
  },
  {
   "cell_type": "code",
   "execution_count": 186,
   "metadata": {},
   "outputs": [
    {
     "data": {
      "text/plain": [
       "(28630, 42)"
      ]
     },
     "execution_count": 186,
     "metadata": {},
     "output_type": "execute_result"
    }
   ],
   "source": [
    "df.shape"
   ]
  },
  {
   "cell_type": "code",
   "execution_count": 187,
   "metadata": {},
   "outputs": [],
   "source": [
    "df.drop(\"model_code\", axis=1, inplace=True)"
   ]
  },
  {
   "cell_type": "code",
   "execution_count": 188,
   "metadata": {},
   "outputs": [
    {
     "data": {
      "text/plain": [
       "(28630, 41)"
      ]
     },
     "execution_count": 188,
     "metadata": {},
     "output_type": "execute_result"
    }
   ],
   "source": [
    "df.shape"
   ]
  },
  {
   "cell_type": "markdown",
   "metadata": {},
   "source": [
    "## general_inspection\n",
    "\n",
    "### 📝 Some Remarks on general inspection:\n",
    "\n",
    "A general inspection due date for a car in a car trade web page refers to the estimated date when the vehicle will be due for its next general inspection. The due date for a general inspection can vary depending on the make and model of the car, as well as the specific requirements of the local jurisdiction or regulatory body.\n",
    "\n",
    "The general inspection due date can be useful for buyers and sellers to understand the ongoing maintenance needs of the vehicle, as well as to estimate the potential costs associated with maintaining the vehicle over time. Car trade web pages may provide information about the general inspection due date for each vehicle in the listing, along with other key details such as the make, model, year, mileage, and asking price.\n",
    "\n",
    "It is important to note that the general inspection due date may not necessarily reflect the current condition of the vehicle, especially if the car has been driven extensively or has undergone significant wear and tear since the last inspection. Therefore, it is recommended that buyers have a more detailed inspection performed by a qualified technician or mechanic before making a purchase, especially for used cars. Additionally, it is important to check the specific requirements and regulations for general inspections in the local jurisdiction where the vehicle will be registered and driven."
   ]
  },
  {
   "cell_type": "code",
   "execution_count": 189,
   "metadata": {},
   "outputs": [
    {
     "name": "stdout",
     "output_type": "stream",
     "text": [
      "column name    :  general_inspection\n",
      "--------------------------------\n",
      "per_of_nulls   :  % 57.2\n",
      "num_of_nulls   :  16376\n",
      "num_of_uniques :  92\n",
      "shape_of_df    :  (28630, 41)\n",
      "--------------------------------\n",
      "NaN        16376\n",
      "New         5883\n",
      "05/2023      286\n",
      "08/2023      280\n",
      "03/2023      268\n",
      "           ...  \n",
      "09/2017        1\n",
      "08/2013        1\n",
      "08/2020        1\n",
      "08/2018        1\n",
      "03/2021        1\n",
      "Name: general_inspection, Length: 92, dtype: int64\n"
     ]
    }
   ],
   "source": [
    "first_looking(df, \"general_inspection\")"
   ]
  },
  {
   "cell_type": "code",
   "execution_count": 190,
   "metadata": {},
   "outputs": [
    {
     "data": {
      "text/plain": [
       "(28630, 41)"
      ]
     },
     "execution_count": 190,
     "metadata": {},
     "output_type": "execute_result"
    }
   ],
   "source": [
    "df.shape"
   ]
  },
  {
   "cell_type": "code",
   "execution_count": 191,
   "metadata": {},
   "outputs": [],
   "source": [
    "df.drop(\"general_inspection\", axis=1, inplace=True)"
   ]
  },
  {
   "cell_type": "code",
   "execution_count": 192,
   "metadata": {},
   "outputs": [
    {
     "data": {
      "text/plain": [
       "(28630, 40)"
      ]
     },
     "execution_count": 192,
     "metadata": {},
     "output_type": "execute_result"
    }
   ],
   "source": [
    "df.shape"
   ]
  },
  {
   "cell_type": "markdown",
   "metadata": {},
   "source": [
    "## full_service_history\n",
    "\n",
    "### 📝 Some Remarks on car service history: \n",
    "\n",
    "A full service history for a car in a car trade web page refers to a detailed record of all the maintenance and repair work that has been performed on the vehicle throughout its history. The service history may include information about routine maintenance tasks, such as oil changes, tune-ups, and tire rotations, as well as more significant repairs, such as engine rebuilds or transmission replacements.\n",
    "\n",
    "Having a full service history can be useful for buyers and sellers to understand the ongoing maintenance needs of the vehicle, as well as to identify any potential issues or problems that may need to be addressed. Car trade web pages may provide information about the full service history for each vehicle in the listing, along with other key details such as the make, model, year, mileage, and asking price.\n",
    "\n",
    "A full service history can also be an important factor in determining the value of a used car, as it can provide evidence of how well the vehicle has been maintained over time. Cars with a full service history may be more desirable to buyers, as they may be viewed as more reliable and less likely to have hidden issues or problems.\n",
    "\n",
    "By keeping and maintaining your car service logbook, your car’s value will gain a boost. The logbook shows all the fixes and updates your car has gone through, which allows the buyer to have confidence in what he or she is getting."
   ]
  },
  {
   "cell_type": "code",
   "execution_count": 193,
   "metadata": {},
   "outputs": [
    {
     "name": "stdout",
     "output_type": "stream",
     "text": [
      "column name    :  full_service_history\n",
      "--------------------------------\n",
      "per_of_nulls   :  % 56.11\n",
      "num_of_nulls   :  16065\n",
      "num_of_uniques :  2\n",
      "shape_of_df    :  (28630, 40)\n",
      "--------------------------------\n",
      "NaN    16065\n",
      "Yes    12565\n",
      "Name: full_service_history, dtype: int64\n"
     ]
    }
   ],
   "source": [
    "first_looking(df, \"full_service_history\")"
   ]
  },
  {
   "cell_type": "code",
   "execution_count": 194,
   "metadata": {},
   "outputs": [],
   "source": [
    "df[\"full_service_history\"].replace(np.nan, \"No\", inplace=True)"
   ]
  },
  {
   "cell_type": "code",
   "execution_count": 195,
   "metadata": {},
   "outputs": [
    {
     "data": {
      "text/plain": [
       "No     16065\n",
       "Yes    12565\n",
       "Name: full_service_history, dtype: int64"
      ]
     },
     "execution_count": 195,
     "metadata": {},
     "output_type": "execute_result"
    }
   ],
   "source": [
    "df[\"full_service_history\"].value_counts(dropna=False)"
   ]
  },
  {
   "cell_type": "markdown",
   "metadata": {},
   "source": [
    "## non_smoker_vehicle\n",
    "\n",
    "### 📝 Some Remarks on non-smoker vehicle: \n",
    "\n",
    "A non-smoker vehicle for a car in a car trade web page refers to a vehicle that has not been regularly used by a smoker or exposed to cigarette smoke. This means that the interior of the car has not been affected by tobacco smoke or the residue left behind by smoking.\n",
    "\n",
    "A non-smoker vehicle may be important to some buyers who are sensitive to cigarette smoke or who prefer a vehicle that has not been exposed to smoking. Car trade web pages may provide information about whether a vehicle is a non-smoker vehicle in the listing, along with other key details such as the make, model, year, mileage, and asking price."
   ]
  },
  {
   "cell_type": "code",
   "execution_count": 196,
   "metadata": {},
   "outputs": [
    {
     "name": "stdout",
     "output_type": "stream",
     "text": [
      "column name    :  non_smoker_vehicle\n",
      "--------------------------------\n",
      "per_of_nulls   :  % 59.5\n",
      "num_of_nulls   :  17036\n",
      "num_of_uniques :  2\n",
      "shape_of_df    :  (28630, 40)\n",
      "--------------------------------\n",
      "NaN    17036\n",
      "Yes    11594\n",
      "Name: non_smoker_vehicle, dtype: int64\n"
     ]
    }
   ],
   "source": [
    "first_looking(df, \"non_smoker_vehicle\")"
   ]
  },
  {
   "cell_type": "code",
   "execution_count": 197,
   "metadata": {},
   "outputs": [],
   "source": [
    "df[\"non_smoker_vehicle\"].replace(np.nan, \"No\", inplace=True)"
   ]
  },
  {
   "cell_type": "code",
   "execution_count": 198,
   "metadata": {},
   "outputs": [
    {
     "data": {
      "text/plain": [
       "No     17036\n",
       "Yes    11594\n",
       "Name: non_smoker_vehicle, dtype: int64"
      ]
     },
     "execution_count": 198,
     "metadata": {},
     "output_type": "execute_result"
    }
   ],
   "source": [
    "df[\"non_smoker_vehicle\"].value_counts(dropna=False)"
   ]
  },
  {
   "cell_type": "code",
   "execution_count": 199,
   "metadata": {},
   "outputs": [
    {
     "data": {
      "text/plain": [
       "(28630, 40)"
      ]
     },
     "execution_count": 199,
     "metadata": {},
     "output_type": "execute_result"
    }
   ],
   "source": [
    "df.shape"
   ]
  },
  {
   "cell_type": "code",
   "execution_count": 200,
   "metadata": {},
   "outputs": [],
   "source": [
    "df.drop(\"non_smoker_vehicle\", axis=1, inplace=True)"
   ]
  },
  {
   "cell_type": "code",
   "execution_count": 201,
   "metadata": {},
   "outputs": [
    {
     "data": {
      "text/plain": [
       "(28630, 39)"
      ]
     },
     "execution_count": 201,
     "metadata": {},
     "output_type": "execute_result"
    }
   ],
   "source": [
    "df.shape"
   ]
  },
  {
   "cell_type": "markdown",
   "metadata": {},
   "source": [
    "## emission_class\n",
    "\n",
    "### 📝 Some Remarks on emission class: \n",
    "\n",
    "The emission class in Europe for a car in a car trade web page refers to the level of exhaust emissions that the vehicle is certified to meet according to European Union (EU) regulations. The EU has established a series of emission standards known as the Euro emissions standards, which set limits on the amount of pollutants that can be emitted from a vehicle's exhaust system.\n",
    "\n",
    "The Euro emissions standards are organized into different classes, with each class representing a different level of emissions control. The higher the emission class, the more stringent the emissions requirements and the lower the allowable emissions levels.\n",
    "\n",
    "Although emissions regulations date back to 1970, the first EU-wide standard – known as Euro 1 – wasn’t introduced until 1992, which saw catalytic converters became compulsory on new cars, effectively standardising fuel injection. \n",
    "\n",
    "Since then, there have been a series of Euro emissions standards, leading to the current Euro 6, introduced in September 2014 for new type approvals and rolled out for the majority of vehicle sales and registrations in September 2015. Euro 6 applies to all new cars registered from 1 September 2015.\n",
    "\n",
    "**🧐 [Euro 1 to Euro 6 guide](https://www.rac.co.uk/drive/advice/emissions/euro-emissions-standards/)**\n",
    "\n",
    "**🧐 [Euro 1 to Euro 6: how clean is my car?](https://www.whatcar.com/advice/owning/euro-1-to-euro-6-how-clean-is-my-car/n1190)**"
   ]
  },
  {
   "cell_type": "code",
   "execution_count": 202,
   "metadata": {},
   "outputs": [
    {
     "name": "stdout",
     "output_type": "stream",
     "text": [
      "column name    :  emission_class\n",
      "--------------------------------\n",
      "per_of_nulls   :  % 37.62\n",
      "num_of_nulls   :  10771\n",
      "num_of_uniques :  10\n",
      "shape_of_df    :  (28630, 39)\n",
      "--------------------------------\n",
      "NaN             10771\n",
      "Euro 6           6418\n",
      "Euro 6d-TEMP     3399\n",
      "Euro 6d          2858\n",
      "Euro 5           2389\n",
      "Euro 4           1743\n",
      "Euro 3            523\n",
      "Euro 2            217\n",
      "Euro 1            172\n",
      "Euro 6c           140\n",
      "Name: emission_class, dtype: int64\n"
     ]
    }
   ],
   "source": [
    "first_looking(df, \"emission_class\")"
   ]
  },
  {
   "cell_type": "markdown",
   "metadata": {},
   "source": [
    "Whether your car is Euro 6, Euro 6c, Euro 6d-TEMP, or Euro 6d, the emission amounts are the same. The differences are purely about testing and how much discrepancy is allowed between the lab figures and those from testing on real roads."
   ]
  },
  {
   "cell_type": "code",
   "execution_count": 203,
   "metadata": {},
   "outputs": [],
   "source": [
    "Euro_6 = [\"Euro 6\", \"Euro 6d-TEMP\", \"Euro 6d\", \"Euro 6c\"]\n",
    "\n",
    "def emissionclass(x):\n",
    "    if x in Euro_6:\n",
    "        return \"Euro 6\"\n",
    "    else:\n",
    "        return x\n",
    "\n",
    "df[\"emission_class\"] = df[\"emission_class\"].apply(emissionclass)"
   ]
  },
  {
   "cell_type": "code",
   "execution_count": 204,
   "metadata": {},
   "outputs": [
    {
     "data": {
      "text/plain": [
       "Euro 6    12815\n",
       "NaN       10771\n",
       "Euro 5     2389\n",
       "Euro 4     1743\n",
       "Euro 3      523\n",
       "Euro 2      217\n",
       "Euro 1      172\n",
       "Name: emission_class, dtype: int64"
      ]
     },
     "execution_count": 204,
     "metadata": {},
     "output_type": "execute_result"
    }
   ],
   "source": [
    "df[\"emission_class\"].value_counts(dropna=False)"
   ]
  },
  {
   "cell_type": "code",
   "execution_count": 205,
   "metadata": {},
   "outputs": [
    {
     "data": {
      "text/plain": [
       "(28630, 39)"
      ]
     },
     "execution_count": 205,
     "metadata": {},
     "output_type": "execute_result"
    }
   ],
   "source": [
    "df.shape"
   ]
  },
  {
   "cell_type": "code",
   "execution_count": 206,
   "metadata": {},
   "outputs": [],
   "source": [
    "df.drop(\"emission_class\", axis=1, inplace=True)"
   ]
  },
  {
   "cell_type": "code",
   "execution_count": 207,
   "metadata": {},
   "outputs": [
    {
     "data": {
      "text/plain": [
       "(28630, 38)"
      ]
     },
     "execution_count": 207,
     "metadata": {},
     "output_type": "execute_result"
    }
   ],
   "source": [
    "df.shape"
   ]
  },
  {
   "cell_type": "markdown",
   "metadata": {},
   "source": [
    "## emissions_sticker\n",
    "\n",
    "### 📝 Some Remarks on emission sticker: \n",
    "\n",
    "An emission sticker in Germany for a car in a car trade web page refers to a colored sticker that is affixed to the windshield of a vehicle to indicate its level of emissions. The sticker system was introduced in Germany to help regulate access to certain environmental zones in urban areas, which are designed to restrict access to high-polluting vehicles in order to improve air quality.\n",
    "\n",
    "The emission sticker system is based on the Euro emissions standards, with vehicles meeting higher standards being eligible for a higher level of sticker. The highest level of sticker, known as a green sticker, is reserved for vehicles with the lowest emissions, while vehicles with higher emissions may receive a yellow or red sticker.\n",
    "\n",
    "Since 2008, German cities can legally designate low-emission zones that only motorized vehicles with an emissions sticker are allowed to enter. This sticker is called Umweltplakette or Feinstaubplakette in German. Older and polluting vehicles are not eligible for emissions stickers and are as a result barred from entering low-emission zones.\n",
    "\n",
    "The German emissions sticker comes in three colors: red, yellow and green. The red sticker is for the most polluting vehicles, the yellow sticker for slightly less polluting vehicles and and the green sticker for the least polluting vehicles.\n",
    "\n",
    "<img src=https://i.ibb.co/6JdPwc7/Colors-German-Emissions-Sticker.png width=\"400\" height=\"100\">\n",
    "\n",
    "## <p style=\"background-color:#FDFEFE; font-family:newtimeroman; color:#060108; font-size:100%; text-align:center; border-radius:10px 10px;\">Colors German Emissions Sticker</p>\n",
    "\n",
    "As of 2021, vehicles with a red emissions sticker are no longer allowed to enter any low-emission zones in Germany. Red stickers are therefore no longer for sale. Vehicles with a yellow sticker are only allowed to enter the low-emission zone of Neu-Ulm in Bavaria. Unless you plan to visit Neu-Ulm, obtaining a yellow sticker is not very useful.\n",
    "\n",
    "Vehicles with a green sticker on the other hand, can enter all low-emission zones in Germany. This green emissions sticker is the one you should obtain if you intend to visit German cities with a low-emission zone."
   ]
  },
  {
   "cell_type": "code",
   "execution_count": 208,
   "metadata": {},
   "outputs": [
    {
     "name": "stdout",
     "output_type": "stream",
     "text": [
      "column name    :  emissions_sticker\n",
      "--------------------------------\n",
      "per_of_nulls   :  % 67.12\n",
      "num_of_nulls   :  19216\n",
      "num_of_uniques :  5\n",
      "shape_of_df    :  (28630, 38)\n",
      "--------------------------------\n",
      "NaN               19216\n",
      "4 (Green)          9230\n",
      "1 (No sticker)      176\n",
      "3 (Yellow)            6\n",
      "2 (Red)               2\n",
      "Name: emissions_sticker, dtype: int64\n"
     ]
    }
   ],
   "source": [
    "first_looking(df, \"emissions_sticker\")"
   ]
  },
  {
   "cell_type": "code",
   "execution_count": 209,
   "metadata": {},
   "outputs": [],
   "source": [
    "df[\"emissions_sticker\"] = df[\"emissions_sticker\"].astype(str).str.extract(r\"([a-zA-Z]+)\")"
   ]
  },
  {
   "cell_type": "code",
   "execution_count": 210,
   "metadata": {},
   "outputs": [
    {
     "data": {
      "text/plain": [
       "nan       19216\n",
       "Green      9230\n",
       "No          176\n",
       "Yellow        6\n",
       "Red           2\n",
       "Name: emissions_sticker, dtype: int64"
      ]
     },
     "execution_count": 210,
     "metadata": {},
     "output_type": "execute_result"
    }
   ],
   "source": [
    "df[\"emissions_sticker\"].value_counts(dropna=False)"
   ]
  },
  {
   "cell_type": "code",
   "execution_count": 211,
   "metadata": {},
   "outputs": [
    {
     "data": {
      "text/plain": [
       "(28630, 38)"
      ]
     },
     "execution_count": 211,
     "metadata": {},
     "output_type": "execute_result"
    }
   ],
   "source": [
    "df.shape"
   ]
  },
  {
   "cell_type": "code",
   "execution_count": 212,
   "metadata": {},
   "outputs": [],
   "source": [
    "df.drop(\"emissions_sticker\", axis=1, inplace=True)"
   ]
  },
  {
   "cell_type": "code",
   "execution_count": 213,
   "metadata": {},
   "outputs": [
    {
     "data": {
      "text/plain": [
       "(28630, 37)"
      ]
     },
     "execution_count": 213,
     "metadata": {},
     "output_type": "execute_result"
    }
   ],
   "source": [
    "df.shape"
   ]
  },
  {
   "cell_type": "markdown",
   "metadata": {},
   "source": [
    "## upholstery_colour\n",
    "\n",
    "### 📝 Some Remarks on upholstery colour: \n",
    "\n",
    "The upholstery color for a car in a car trade web page refers to the color of the seats and interior trim of the vehicle. Upholstery color can be an important factor for buyers who are looking to personalize the look and feel of their vehicle, or who may prefer certain colors for aesthetic or practical reasons.\n",
    "\n",
    "### 📝 Some Remarks on color conceptualization: \n",
    "\n",
    "**Primary Colors:** Red, yellow and blue<br>\n",
    "In traditional color theory (used in paint and pigments), primary colors are the 3 pigment colors that cannot be mixed or formed by any combination of other colors. All other colors are derived from these 3 hues. \n",
    "\n",
    "**Secondary Colors:** Green, orange and purple<br>\n",
    "These are the colors formed by mixing the primary colors.\n",
    "\n",
    "**Tertiary Colors:** Yellow-orange, red-orange, red-purple, blue-purple, blue-green & yellow-green<br>\n",
    "These are the colors formed by mixing a primary and a secondary color. That's why the hue is a two word name, such as blue-green, red-violet, and yellow-orange.\n",
    "\n",
    "<img src=https://i.ibb.co/N38yg7r/Basic-Color-Theory.png width=\"400\" height=\"100\">\n",
    "\n",
    "## <p style=\"background-color:#FDFEFE; font-family:newtimeroman; color:#060108; font-size:100%; text-align:center; border-radius:10px 10px;\">Color Wheel</p>\n",
    "\n",
    "**🧐 [Basic Color Theory](https://www.colormatters.com/color-and-design/basic-color-theory)**"
   ]
  },
  {
   "cell_type": "code",
   "execution_count": 214,
   "metadata": {},
   "outputs": [
    {
     "name": "stdout",
     "output_type": "stream",
     "text": [
      "column name    :  upholstery_colour\n",
      "--------------------------------\n",
      "per_of_nulls   :  % 49.11\n",
      "num_of_nulls   :  14061\n",
      "num_of_uniques :  12\n",
      "shape_of_df    :  (28630, 37)\n",
      "--------------------------------\n",
      "NaN       14061\n",
      "Black     10416\n",
      "Grey       2038\n",
      "Other      1003\n",
      "Beige       466\n",
      "Brown       275\n",
      "Red         159\n",
      "White        93\n",
      "Blue         82\n",
      "Orange       23\n",
      "Green         8\n",
      "Yellow        6\n",
      "Name: upholstery_colour, dtype: int64\n"
     ]
    }
   ],
   "source": [
    "first_looking(df, \"upholstery_colour\")"
   ]
  },
  {
   "cell_type": "code",
   "execution_count": 215,
   "metadata": {},
   "outputs": [],
   "source": [
    "Ordinary = [\"Black\", \"White\"]\n",
    "Primary = [\"Red\", \"Yellow\", \"Blue\"]\n",
    "Secondary = [\"Green\", \"Orange\"]\n",
    "Tertiary_Intermediate = [\"Brown\", \"Grey\", \"Beige\"]\n",
    "\n",
    "def coloridentifier(x):\n",
    "    if x in Ordinary:\n",
    "        return \"Ordinary\"\n",
    "    if x in Primary:\n",
    "        return \"Primary\"\n",
    "    if x in Secondary:\n",
    "        return \"Secondary\"\n",
    "    if x in Tertiary_Intermediate:\n",
    "        return \"Tertiary\"    \n",
    "    else:\n",
    "        return x\n",
    "\n",
    "df[\"upholstery_colour\"] = df[\"upholstery_colour\"].apply(coloridentifier)"
   ]
  },
  {
   "cell_type": "code",
   "execution_count": 216,
   "metadata": {},
   "outputs": [
    {
     "data": {
      "text/plain": [
       "NaN          14061\n",
       "Ordinary     10509\n",
       "Tertiary      2779\n",
       "Other         1003\n",
       "Primary        247\n",
       "Secondary       31\n",
       "Name: upholstery_colour, dtype: int64"
      ]
     },
     "execution_count": 216,
     "metadata": {},
     "output_type": "execute_result"
    }
   ],
   "source": [
    "df[\"upholstery_colour\"].value_counts(dropna=False)"
   ]
  },
  {
   "cell_type": "code",
   "execution_count": 217,
   "metadata": {},
   "outputs": [
    {
     "data": {
      "text/plain": [
       "(28630, 37)"
      ]
     },
     "execution_count": 217,
     "metadata": {},
     "output_type": "execute_result"
    }
   ],
   "source": [
    "df.shape"
   ]
  },
  {
   "cell_type": "code",
   "execution_count": 218,
   "metadata": {},
   "outputs": [],
   "source": [
    "df.drop(\"upholstery_colour\", axis=1, inplace=True)"
   ]
  },
  {
   "cell_type": "code",
   "execution_count": 219,
   "metadata": {},
   "outputs": [
    {
     "data": {
      "text/plain": [
       "(28630, 36)"
      ]
     },
     "execution_count": 219,
     "metadata": {},
     "output_type": "execute_result"
    }
   ],
   "source": [
    "df.shape"
   ]
  },
  {
   "cell_type": "markdown",
   "metadata": {},
   "source": [
    "## upholstery\n",
    "\n",
    "### 📝 Some Remarks on upholstery: \n",
    "\n",
    "The upholstery for a car in a car trade web page refers to the materials used to cover the seats and other interior surfaces of the vehicle. The upholstery can be made from a variety of materials, including cloth, leather, vinyl, or synthetic materials, and it can be available in a range of colors and patterns.\n",
    "\n",
    "The upholstery of a car can be an important factor for buyers who are looking for a specific level of comfort, durability, or style. In a car trade web page, information about the upholstery may be provided to help buyers and sellers understand the overall quality and condition of the vehicle's interior.\n",
    "\n",
    "Car trade web pages may provide information about the upholstery for each vehicle in the listing, including the type of material used, the color, and any special features or options. It is important to note that the upholstery may vary depending on the specific trim level or package of the vehicle, as well as the region or market where the car is sold."
   ]
  },
  {
   "cell_type": "code",
   "execution_count": 220,
   "metadata": {},
   "outputs": [
    {
     "name": "stdout",
     "output_type": "stream",
     "text": [
      "column name    :  upholstery\n",
      "--------------------------------\n",
      "per_of_nulls   :  % 35.0\n",
      "num_of_nulls   :  10020\n",
      "num_of_uniques :  7\n",
      "shape_of_df    :  (28630, 36)\n",
      "--------------------------------\n",
      "NaN             10020\n",
      "Cloth            8736\n",
      "Full leather     5439\n",
      "Part leather     2835\n",
      "alcantara         764\n",
      "Other             628\n",
      "Velour            208\n",
      "Name: upholstery, dtype: int64\n"
     ]
    }
   ],
   "source": [
    "first_looking(df, \"upholstery\")"
   ]
  },
  {
   "cell_type": "markdown",
   "metadata": {},
   "source": [
    "## previous_owner\n",
    "\n",
    "### 📝 Some Remarks on previous owner: \n",
    "\n",
    "The previous_owner for a car in a car trade web page refers to the number of individuals or entities who have owned the vehicle before the current seller. The number of previous owners can be an important factor for buyers who are looking for a vehicle with a known history and may provide insight into how well the vehicle has been maintained and cared for over time.\n",
    "\n",
    "In a car trade web page, information about the previous owners may be provided to help buyers and sellers understand the ownership history of the vehicle. Car trade web pages may provide information about the number of previous owners for each vehicle in the listing, along with other key details such as the make, model, year, mileage, and asking price.\n",
    "\n",
    "It is important to note that the number of previous owners may not necessarily reflect the current condition of the vehicle, and it is still important to inspect the vehicle carefully and perform a thorough test drive before making a purchase, especially for used cars.\n",
    "\n",
    "Additionally, it is important to verify the ownership history of the vehicle through official documents, such as the vehicle title or registration, and to be wary of any vehicles with a suspicious or unclear ownership history.\n",
    "\n",
    "A first resale will get a better price compared to a second or third resale.  Company owned cars often fetch a lower price as multiple employees and chauffeurs may have handled the car, leading to an undesirable level of maintenance."
   ]
  },
  {
   "cell_type": "code",
   "execution_count": 221,
   "metadata": {},
   "outputs": [
    {
     "name": "stdout",
     "output_type": "stream",
     "text": [
      "column name    :  previous_owner\n",
      "--------------------------------\n",
      "per_of_nulls   :  % 51.05\n",
      "num_of_nulls   :  14615\n",
      "num_of_uniques :  11734\n",
      "shape_of_df    :  (28630, 36)\n",
      "--------------------------------\n",
      "NaN                           14615\n",
      "[[50 km, 06/2022], 1]            64\n",
      "[[10 km, 08/2022], 1]            59\n",
      "[[10 km, 07/2022], 1]            45\n",
      "[[10 km, 09/2022], 1]            38\n",
      "                              ...  \n",
      "[[358,000 km, 10/2010], 2]        1\n",
      "[[165,400 km, 09/2010], 1]        1\n",
      "[[65,000 km, 10/2006], 1]         1\n",
      "[[71,000 km, 04/2013], 1]         1\n",
      "[[230,047 km, 07/2002], 5]        1\n",
      "Name: previous_owner, Length: 11734, dtype: int64\n"
     ]
    }
   ],
   "source": [
    "first_looking(df, \"previous_owner\")"
   ]
  },
  {
   "cell_type": "code",
   "execution_count": 222,
   "metadata": {},
   "outputs": [
    {
     "data": {
      "text/plain": [
       "0        NaN\n",
       "1        NaN\n",
       "2        NaN\n",
       "3        NaN\n",
       "4        NaN\n",
       "        ... \n",
       "29474    NaN\n",
       "29475    NaN\n",
       "29476      1\n",
       "29477    NaN\n",
       "29478      5\n",
       "Name: previous_owner, Length: 28630, dtype: object"
      ]
     },
     "execution_count": 222,
     "metadata": {},
     "output_type": "execute_result"
    }
   ],
   "source": [
    "df[\"previous_owner\"] = df[\"previous_owner\"].str[1]\n",
    "df[\"previous_owner\"]"
   ]
  },
  {
   "cell_type": "code",
   "execution_count": 223,
   "metadata": {},
   "outputs": [
    {
     "data": {
      "text/plain": [
       "NaN    14615\n",
       "1       9746\n",
       "2       3221\n",
       "3        699\n",
       "4        184\n",
       "5         69\n",
       "6         37\n",
       "7         22\n",
       "8         16\n",
       "9         14\n",
       "12         3\n",
       "10         2\n",
       "14         1\n",
       "13         1\n",
       "Name: previous_owner, dtype: int64"
      ]
     },
     "execution_count": 223,
     "metadata": {},
     "output_type": "execute_result"
    }
   ],
   "source": [
    "df[\"previous_owner\"].value_counts(dropna=False)"
   ]
  },
  {
   "cell_type": "markdown",
   "metadata": {},
   "source": [
    "## energy_efficiency_class\n",
    "\n",
    "### 📝 Some Remarks on energy efficiency class about vehicles in Europe: \n",
    "\n",
    "The energy efficiency class in Europe for a car in a car trade web page refers to the level of energy efficiency that the vehicle is certified to meet according to European Union (EU) regulations. The EU has established a series of energy efficiency classes known as CO2 emissions classes, which set limits on the amount of carbon dioxide that can be emitted from a vehicle's exhaust system.\n",
    "\n",
    "The CO2 emissions classes are organized into different levels, with each class representing a different level of energy efficiency. The higher the energy efficiency class, the lower the CO2 emissions and the more environmentally friendly the vehicle is considered to be.\n",
    "\n",
    "In a car trade web page, the energy efficiency class may be provided to help buyers and sellers understand the environmental impact of the vehicle, as well as to identify whether the vehicle is compliant with local energy efficiency regulations. Car trade web pages may provide information about the energy efficiency class for each vehicle in the listing, along with other key details such as the make, model, year, mileage, and asking price.\n",
    "\n",
    "It is important to note that energy efficiency standards and classes may vary depending on the region or country where the car is sold, and different regions may have different regulations or requirements for energy efficiency. Therefore, it is recommended that buyers research the specific energy efficiency standards and regulations in their local jurisdiction before making a purchase.\n",
    "\n",
    "The Ordinance on Energy Consumption Labelling for Passenger Cars (in German), which entered into force on 1 December 2011 (Federal Law Gazette I p.1756), requires cars to be equipped with a label (in German) informing consumers about a vehicle’s CO2 efficiency. The label not only indicates the vehicle’s energy consumption in absolute terms, but also provides information about its CO2 efficiency compared with other vehicles by ranking it on a colour-coded scale. CO2 efficiency is calculated using CO2 emissions and vehicle mass. The scale ranges from 'A+' (very efficient) to 'G' (rather inefficient).\n",
    "\n",
    "The label also allows for information about electricity consumption to be included so as to take account of developments in the area of electric mobility.\n",
    "\n",
    "<img src=https://i.ibb.co/vkSz5nj/Automotive-Energy-Efficiency.png width=\"400\" height=\"100\">\n",
    "\n",
    "## <p style=\"background-color:#FDFEFE; font-family:newtimeroman; color:#060108; font-size:100%; text-align:center; border-radius:10px 10px;\">Efficiency Labels in German Automotives</p>\n",
    "\n",
    "**🧐 [Energy consumption labelling for passenger cars](https://www.bmwk.de/Redaktion/EN/Artikel/Energy/fuel-efficiency-labelling-for-passenger-cars.html)**"
   ]
  },
  {
   "cell_type": "code",
   "execution_count": 224,
   "metadata": {},
   "outputs": [
    {
     "name": "stdout",
     "output_type": "stream",
     "text": [
      "column name    :  energy_efficiency_class\n",
      "--------------------------------\n",
      "per_of_nulls   :  % 72.74\n",
      "num_of_nulls   :  20826\n",
      "num_of_uniques :  11\n",
      "shape_of_df    :  (28630, 36)\n",
      "--------------------------------\n",
      "NaN     20826\n",
      "B        2090\n",
      "A        1687\n",
      "C        1133\n",
      "A+       1089\n",
      "D         636\n",
      "A+++      375\n",
      "G         309\n",
      "E         271\n",
      "F         147\n",
      "A++        67\n",
      "Name: energy_efficiency_class, dtype: int64\n"
     ]
    }
   ],
   "source": [
    "first_looking(df, \"energy_efficiency_class\")"
   ]
  },
  {
   "cell_type": "code",
   "execution_count": 225,
   "metadata": {},
   "outputs": [],
   "source": [
    "efficient = [\"A\", \"A+\", \"A++\", \"A+++\", \"B\"]\n",
    "unefficient = [\"C\", \"D\", \"E\", \"F\", \"G\"]\n",
    "\n",
    "def energyefficiency(x):\n",
    "    if x in efficient:\n",
    "        return \"efficient\"\n",
    "    elif x in unefficient:\n",
    "        return \"unefficient\"    \n",
    "    else:\n",
    "        return x\n",
    "\n",
    "df[\"energy_efficiency_class\"] = df[\"energy_efficiency_class\"].apply(energyefficiency)"
   ]
  },
  {
   "cell_type": "code",
   "execution_count": 226,
   "metadata": {},
   "outputs": [
    {
     "data": {
      "text/plain": [
       "NaN            20826\n",
       "efficient       5308\n",
       "unefficient     2496\n",
       "Name: energy_efficiency_class, dtype: int64"
      ]
     },
     "execution_count": 226,
     "metadata": {},
     "output_type": "execute_result"
    }
   ],
   "source": [
    "df[\"energy_efficiency_class\"].value_counts(dropna=False)"
   ]
  },
  {
   "cell_type": "markdown",
   "metadata": {},
   "source": [
    "## co_efficiency\n",
    "\n",
    "### 📝 Some Remarks on CO efficiency: \n",
    "\n",
    "CO2 emissions is a measure of the amount of carbon dioxide that is emitted by a vehicle's exhaust system. CO2 emissions are an important factor in understanding the environmental impact of a vehicle, as high levels of CO2 emissions are associated with increased greenhouse gas emissions and climate change.\n",
    "\n",
    "In Europe, CO2 emissions from cars are regulated by the European Union (EU), which has established a series of CO2 emissions standards known as the Euro emissions standards. These standards set limits on the amount of CO2 that can be emitted from a vehicle's exhaust system, based on the vehicle's weight and other factors.\n",
    "\n",
    "In a car trade web page, information about the CO2 emissions may be provided to help buyers and sellers understand the environmental impact of the vehicle, as well as to identify whether the vehicle is compliant with local emissions regulations. Car trade web pages may provide information about the CO2 emissions for each vehicle in the listing, along with other key details such as the make, model, year, mileage, and asking price.\n",
    "\n",
    "It is important to note that CO2 emissions may vary depending on the specific model and engine of the vehicle, as well as the driving conditions and other factors. Therefore, it is recommended that buyers research the specific CO2 emissions of the vehicle they are interested in and consider the environmental impact of their purchase before making a decision."
   ]
  },
  {
   "cell_type": "code",
   "execution_count": 227,
   "metadata": {},
   "outputs": [
    {
     "name": "stdout",
     "output_type": "stream",
     "text": [
      "column name    :  co_efficiency\n",
      "--------------------------------\n",
      "per_of_nulls   :  % 72.74\n",
      "num_of_nulls   :  20826\n",
      "num_of_uniques :  2\n",
      "shape_of_df    :  (28630, 36)\n",
      "--------------------------------\n",
      "NaN                                                                                           20826\n",
      "Calculated on basis of measured CO₂-emissions taking into account the mass of the vehicle.     7804\n",
      "Name: co_efficiency, dtype: int64\n"
     ]
    }
   ],
   "source": [
    "first_looking(df, \"co_efficiency\")"
   ]
  },
  {
   "cell_type": "code",
   "execution_count": 228,
   "metadata": {},
   "outputs": [
    {
     "data": {
      "text/plain": [
       "(28630, 36)"
      ]
     },
     "execution_count": 228,
     "metadata": {},
     "output_type": "execute_result"
    }
   ],
   "source": [
    "df.shape"
   ]
  },
  {
   "cell_type": "code",
   "execution_count": 229,
   "metadata": {},
   "outputs": [],
   "source": [
    "df.drop(\"co_efficiency\", axis=1, inplace=True)"
   ]
  },
  {
   "cell_type": "code",
   "execution_count": 230,
   "metadata": {},
   "outputs": [
    {
     "data": {
      "text/plain": [
       "(28630, 35)"
      ]
     },
     "execution_count": 230,
     "metadata": {},
     "output_type": "execute_result"
    }
   ],
   "source": [
    "df.shape"
   ]
  },
  {
   "cell_type": "markdown",
   "metadata": {},
   "source": [
    "## comfort_&_convenience\n",
    "\n",
    "### 📝 Some Remarks on car exterior/interior features:\n",
    "\n",
    "Comfort and convenience for a car in a car trade web page refers to the features and amenities of the vehicle that are designed to enhance the comfort, convenience, and overall driving experience for the driver and passengers.\n",
    "\n",
    "Comfort and convenience features can vary widely depending on the make, model, and trim level of the vehicle, but may include things like:\n",
    "\n",
    "  - Power windows and door locks\n",
    "  - Heated and/or ventilated seats\n",
    "  - Automatic climate control\n",
    "  - Keyless entry and ignition\n",
    "  - Adaptive cruise control\n",
    "  - Blind spot monitoring\n",
    "  - Rearview camera\n",
    "  - Navigation system\n",
    "  - Infotainment system\n",
    "  - Bluetooth connectivity\n",
    "  - USB ports and other charging options\n",
    "  - Power-adjustable seats and steering wheel\n",
    "  - Sunroof or moonroof\n",
    "  - Automatic headlights and wipers\n",
    "\n",
    "The external modifications made to your car will affect the valuation of your vehicle. Examples of such modifications include new paint, body kit upgrade, tail wings, etc. Similarly, any dent, rust or scratches on the body of the car will lower the car’s market price. Similarly, interior condition and features of your car can lead to an increase or decrease in your car’s value. Things like a dirty dashboard, scratched seats, blown out speakers, etc. will decrease the price your car can fetch. On the other hand, installing unique features like GPS, parking camera, upgraded sound system, etc. will give a boost to your car’s value."
   ]
  },
  {
   "cell_type": "code",
   "execution_count": 231,
   "metadata": {},
   "outputs": [
    {
     "name": "stdout",
     "output_type": "stream",
     "text": [
      "column name    :  comfort_&_convenience\n",
      "--------------------------------\n",
      "per_of_nulls   :  % 11.17\n",
      "num_of_nulls   :  3197\n",
      "num_of_uniques :  14439\n",
      "shape_of_df    :  (28630, 35)\n",
      "--------------------------------\n",
      "NaN                                                                                                                                                                                                                                                                                                                                                                                                              3197\n",
      "[Air conditioning, Automatic climate control, Electrical side mirrors, Multi-function steering wheel, Power windows]                                                                                                                                                                                                                                                                                              244\n",
      "[Air conditioning, Automatic climate control, Cruise control]                                                                                                                                                                                                                                                                                                                                                     171\n",
      "[Air conditioning, Automatic climate control, Cruise control, Electrical side mirrors, Multi-function steering wheel, Power windows]                                                                                                                                                                                                                                                                              168\n",
      "[Air conditioning]                                                                                                                                                                                                                                                                                                                                                                                                157\n",
      "                                                                                                                                                                                                                                                                                                                                                                                                                 ... \n",
      "[Armrest, Automatic climate control, 2 zones, Cruise control, Fold flat passenger seat, Hill Holder, Leather steering wheel, Light sensor, Lumbar support, Multi-function steering wheel, Navigation system, Parking assist system sensors rear, Power windows, Rain sensor, Seat heating, Split rear seats, Start-stop system]                                                                                     1\n",
      "[Air conditioning, Armrest, Automatic climate control, Cruise control, Electric tailgate, Electrical side mirrors, Hill Holder, Keyless central door lock, Leather steering wheel, Light sensor, Multi-function steering wheel, Navigation system, Parking assist system sensors front, Parking assist system sensors rear, Power windows, Rain sensor, Seat heating]                                               1\n",
      "[Armrest, Automatic climate control, 2 zones, Cruise control, Electrical side mirrors, Fold flat passenger seat, Hill Holder, Leather steering wheel, Light sensor, Lumbar support, Multi-function steering wheel, Navigation system, Parking assist system sensors front, Parking assist system sensors rear, Power windows, Rain sensor, Seat heating, Split rear seats, Start-stop system, Tinted windows]       1\n",
      "[Armrest, Automatic climate control, 2 zones, Cruise control, Electrical side mirrors, Hill Holder, Keyless central door lock, Leather steering wheel, Light sensor, Multi-function steering wheel, Parking assist system camera, Parking assist system sensors front, Parking assist system sensors rear, Power windows, Rain sensor, Seat heating, Split rear seats, Start-stop system, Tinted windows]           1\n",
      "[Air conditioning, Armrest, Cruise control, Electrical side mirrors, Leather steering wheel, Lumbar support, Multi-function steering wheel, Navigation system, Power windows, Seat heating, Tinted windows]                                                                                                                                                                                                         1\n",
      "Name: comfort_&_convenience, Length: 14439, dtype: int64\n"
     ]
    }
   ],
   "source": [
    "first_looking(df, \"comfort_&_convenience\")"
   ]
  },
  {
   "cell_type": "code",
   "execution_count": 232,
   "metadata": {},
   "outputs": [],
   "source": [
    "# [item[0] if type(item) == list else item for item in df[\"comfort_&_convenience\"]]\n",
    "\n",
    "df[\"comfort_&_convenience\"] = [\", \".join(item) if type(item) == list else item for item in df[\"comfort_&_convenience\"]]"
   ]
  },
  {
   "cell_type": "code",
   "execution_count": 233,
   "metadata": {},
   "outputs": [
    {
     "data": {
      "text/plain": [
       "NaN                                                                                                                                   3197\n",
       "Air conditioning, Automatic climate control, Electrical side mirrors, Multi-function steering wheel, Power windows                     244\n",
       "Air conditioning, Automatic climate control, Cruise control                                                                            171\n",
       "Air conditioning, Automatic climate control, Cruise control, Electrical side mirrors, Multi-function steering wheel, Power windows     168\n",
       "Air conditioning                                                                                                                       157\n",
       "Name: comfort_&_convenience, dtype: int64"
      ]
     },
     "execution_count": 233,
     "metadata": {},
     "output_type": "execute_result"
    }
   ],
   "source": [
    "df[\"comfort_&_convenience\"].value_counts(dropna=False).head()"
   ]
  },
  {
   "cell_type": "markdown",
   "metadata": {},
   "source": [
    "## entertainment_&_media\n",
    "\n",
    "### 📝 Some Remarks on car Entertainment & Media features:\n",
    "\n",
    "Entertainment and media features for a car in a car trade web page refer to the technology and amenities of the vehicle that are designed to provide entertainment, information, and connectivity to the driver and passengers. These features can enhance the driving experience by providing access to music, news, navigation, and other media.\n",
    "\n",
    "Some examples of entertainment and media features that may be listed on a car trade web page include:\n",
    "\n",
    "  - Infotainment system with touchscreen display\n",
    "  - Bluetooth connectivity for streaming music and making phone calls\n",
    "  - USB ports and other charging options for devices\n",
    "  - Satellite radio\n",
    "  - HD radio\n",
    "  - CD player or MP3 player\n",
    "  - Navigation system\n",
    "  - Voice command system\n",
    "  - Rear-seat entertainment system with DVD player and screens\n",
    "  - WiFi hotspot capability\n",
    "  - Apple CarPlay and Android Auto compatibility\n",
    "  - Premium sound system with high-quality speakers\n",
    "\n",
    "In a car trade web page, information about the entertainment and media features may be provided to help buyers and sellers understand the overall value and desirability of the vehicle. Car trade web pages may provide information about the specific entertainment and media features for each vehicle in the listing, along with other key details such as the make, model, year, mileage, and asking price.\n",
    "\n",
    "It is important to note that the availability and quality of entertainment and media features can vary widely depending on the specific model and trim level of the vehicle, as well as the region or market where the car is sold. Therefore, it is recommended that buyers carefully review the specific features and options of the vehicle they are interested in to ensure that they meet their needs and preferences."
   ]
  },
  {
   "cell_type": "code",
   "execution_count": 234,
   "metadata": {},
   "outputs": [
    {
     "name": "stdout",
     "output_type": "stream",
     "text": [
      "column name    :  entertainment_&_media\n",
      "--------------------------------\n",
      "per_of_nulls   :  % 17.42\n",
      "num_of_nulls   :  4986\n",
      "num_of_uniques :  1945\n",
      "shape_of_df    :  (28630, 35)\n",
      "--------------------------------\n",
      "NaN                                                                                                                                                                          4986\n",
      "[Bluetooth, USB]                                                                                                                                                              753\n",
      "[Bluetooth]                                                                                                                                                                   665\n",
      "[On-board computer]                                                                                                                                                           662\n",
      "[CD player, On-board computer, Radio]                                                                                                                                         644\n",
      "                                                                                                                                                                             ... \n",
      "[Android Auto, Apple CarPlay, Bluetooth, Digital cockpit, Digital radio, Induction charging for smartphones, On-board computer, Radio, Sound system, WLAN / WiFi hotspot]       1\n",
      "[Bluetooth, CD player, Digital cockpit, Digital radio, Hands-free equipment, Integrated music streaming, On-board computer, Sound system, USB, WLAN / WiFi hotspot]             1\n",
      "[Digital cockpit, Digital radio, On-board computer, Radio]                                                                                                                      1\n",
      "[Android Auto, Apple CarPlay, Digital radio, On-board computer, Radio, Sound system, USB, WLAN / WiFi hotspot]                                                                  1\n",
      "[Hands-free equipment, Integrated music streaming, On-board computer, Radio, USB]                                                                                               1\n",
      "Name: entertainment_&_media, Length: 1945, dtype: int64\n"
     ]
    }
   ],
   "source": [
    "first_looking(df, \"entertainment_&_media\")"
   ]
  },
  {
   "cell_type": "code",
   "execution_count": 235,
   "metadata": {},
   "outputs": [],
   "source": [
    "# [item[0] if type(item) == list else item for item in df[\"entertainment_&_media\"]]\n",
    "\n",
    "df[\"entertainment_&_media\"] = [\", \".join(item) if type(item) == list else item for item in df[\"entertainment_&_media\"]]"
   ]
  },
  {
   "cell_type": "code",
   "execution_count": 236,
   "metadata": {},
   "outputs": [
    {
     "data": {
      "text/plain": [
       "NaN                                                                                                                4986\n",
       "Bluetooth, USB                                                                                                      753\n",
       "Bluetooth                                                                                                           665\n",
       "On-board computer                                                                                                   662\n",
       "CD player, On-board computer, Radio                                                                                 644\n",
       "Radio                                                                                                               425\n",
       "Android Auto, Apple CarPlay, Bluetooth, Digital radio, Hands-free equipment, On-board computer, Radio, USB          414\n",
       "Bluetooth, CD player, Hands-free equipment, MP3, On-board computer, Radio, USB                                      408\n",
       "CD player, Radio                                                                                                    367\n",
       "Android Auto, Apple CarPlay, Bluetooth, Digital radio, Hands-free equipment, MP3, On-board computer, Radio, USB     356\n",
       "Name: entertainment_&_media, dtype: int64"
      ]
     },
     "execution_count": 236,
     "metadata": {},
     "output_type": "execute_result"
    }
   ],
   "source": [
    "df[\"entertainment_&_media\"].value_counts(dropna=False).head(10)"
   ]
  },
  {
   "cell_type": "markdown",
   "metadata": {},
   "source": [
    "## extras\n",
    "\n",
    "### 📝 Some Remarks on car extra features:\n",
    "\n",
    "Automotive technology is improving rapidly. Cars with backup cameras, hands-free parking assist, highway autopilot modes, in-cabin entertainment, and computer navigation systems tend to be more expensive than their old-fashioned peers, usually thousands or even tens of thousands of dollars more expensive. But they’re also in high demand and therefore hold value better.\n",
    "\n",
    "Extra features for a car in a car trade web page refer to the additional features and options that may be included in the vehicle beyond the standard set of features. These extra features can enhance the value, comfort, and convenience of the vehicle, and may include things like upgraded trim levels, special packages, or individual options.\n",
    "\n",
    "Some examples of extra features that may be listed on a car trade web page include:\n",
    "\n",
    "  - Leather or premium upholstery\n",
    "  - Upgraded wheels and tires\n",
    "  - Sport-tuned suspension or performance brakes\n",
    "  - Power-adjustable seats with memory function\n",
    "  - Heated and/or ventilated seats\n",
    "  - Panoramic sunroof or moonroof\n",
    "  - Xenon or LED headlights\n",
    "  - Adaptive headlights that turn with the steering wheel\n",
    "  - Advanced safety features such as lane departure warning, forward collision warning, or automatic emergency braking\n",
    "  - Premium sound system with high-quality speakers\n",
    "  - Rearview camera with 360-degree view\n",
    "  - Parking sensors or automatic parking assist\n",
    "  - Remote start or keyless entry\n",
    "  - Power liftgate or hands-free liftgate\n",
    "  - Towing package or trailer hitch\n",
    "\n",
    "In a car trade web page, information about the extra features may be provided to help buyers and sellers understand the overall value and desirability of the vehicle. Car trade web pages may provide information about the specific extra features for each vehicle in the listing, along with other key details such as the make, model, year, mileage, and asking price.\n",
    "\n",
    "It is important to note that the availability and quality of extra features can vary widely depending on the specific model and trim level of the vehicle, as well as the region or market where the car is sold. Therefore, it is recommended that buyers carefully review the specific features and options of the vehicle they are interested in to ensure that they meet their needs and preferences."
   ]
  },
  {
   "cell_type": "code",
   "execution_count": 237,
   "metadata": {},
   "outputs": [
    {
     "name": "stdout",
     "output_type": "stream",
     "text": [
      "column name    :  extras\n",
      "--------------------------------\n",
      "per_of_nulls   :  % 17.99\n",
      "num_of_nulls   :  5150\n",
      "num_of_uniques :  9361\n",
      "shape_of_df    :  (28630, 35)\n",
      "--------------------------------\n",
      "NaN                                                                                                                                                                                                                                                                   5150\n",
      "[Alloy wheels]                                                                                                                                                                                                                                                        3408\n",
      "[Alloy wheels, Roof rack]                                                                                                                                                                                                                                              380\n",
      "[Alloy wheels, Sport seats]                                                                                                                                                                                                                                            372\n",
      "[Alloy wheels, Touch screen]                                                                                                                                                                                                                                           231\n",
      "                                                                                                                                                                                                                                                                      ... \n",
      "[Alloy wheels (18\"), Spoiler, Summer tyres, Trailer hitch]                                                                                                                                                                                                               1\n",
      "[All season tyres, Alloy wheels, Automatically dimming interior mirror, Catalytic Converter, Headlight washer system, Ski bag, Sport seats, Trailer hitch, Winter tyres]                                                                                                 1\n",
      "[Alloy wheels, Automatically dimming interior mirror, Headlight washer system, Sport package, Sport seats, Summer tyres]                                                                                                                                                 1\n",
      "[Alloy wheels (19\"), Ambient lighting, Automatically dimming interior mirror, Catalytic Converter, E10-enabled, Emergency tyre repair kit, Headlight washer system, Spoiler, Sport package, Sport seats, Sport suspension, Summer tyres, Tuned car, Voice Control]       1\n",
      "[Alloy wheels, Automatically dimming interior mirror, Ski bag, Trailer hitch]                                                                                                                                                                                            1\n",
      "Name: extras, Length: 9361, dtype: int64\n"
     ]
    }
   ],
   "source": [
    "first_looking(df, \"extras\")"
   ]
  },
  {
   "cell_type": "code",
   "execution_count": 238,
   "metadata": {},
   "outputs": [],
   "source": [
    "df[\"extras\"] = [\", \".join(item) if type(item) == list else item for item in df[\"extras\"]]"
   ]
  },
  {
   "cell_type": "code",
   "execution_count": 239,
   "metadata": {},
   "outputs": [
    {
     "data": {
      "text/plain": [
       "NaN                                                               5150\n",
       "Alloy wheels                                                      3408\n",
       "Alloy wheels, Roof rack                                            380\n",
       "Alloy wheels, Sport seats                                          372\n",
       "Alloy wheels, Touch screen                                         231\n",
       "Alloy wheels, Catalytic Converter, Touch screen                    178\n",
       "Roof rack                                                          160\n",
       "Alloy wheels, Sport seats, Sport suspension                        157\n",
       "Alloy wheels, Catalytic Converter, Touch screen, Voice Control     153\n",
       "Alloy wheels, Touch screen, Voice Control                          142\n",
       "Name: extras, dtype: int64"
      ]
     },
     "execution_count": 239,
     "metadata": {},
     "output_type": "execute_result"
    }
   ],
   "source": [
    "df[\"extras\"].value_counts(dropna=False).head(10)"
   ]
  },
  {
   "cell_type": "markdown",
   "metadata": {},
   "source": [
    "## safety_&_security\n",
    "\n",
    "### 📝 Some Remarks on car Safety & Security features:\n",
    "\n",
    "\n",
    "Safety and security features for a car in a car trade web page refer to the technologies and systems that are designed to protect the vehicle and its occupants from harm. These features can help prevent accidents, reduce the risk of injury, and protect the vehicle from theft or damage.\n",
    "\n",
    "Some examples of safety and security features that may be listed on a car trade web page include:\n",
    "\n",
    "  - Anti-lock brakes (ABS)\n",
    "  - Traction control\n",
    "  - Stability control\n",
    "  - Electronic stability program (ESP)\n",
    "  - Airbags (front, side, and curtain)\n",
    "  - Seatbelt pretensioners and force limiters\n",
    "  - Lane departure warning\n",
    "  - Blind spot monitoring\n",
    "  - Forward collision warning\n",
    "  - Automatic emergency braking\n",
    "  - Adaptive cruise control\n",
    "  - Rearview camera\n",
    "  - Parking sensors\n",
    "  - Anti-theft system with alarm and immobilizer\n",
    "  - Child safety locks and anchors\n",
    "  - Tire pressure monitoring system (TPMS)\n",
    "\n",
    "In a car trade web page, information about the safety and security features may be provided to help buyers and sellers understand the overall safety and security of the vehicle. Car trade web pages may provide information about the specific safety and security features for each vehicle in the listing, along with other key details such as the make, model, year, mileage, and asking price.\n",
    "\n",
    "It is important to note that the availability and quality of safety and security features can vary widely depending on the specific model and trim level of the vehicle, as well as the region or market where the car is sold. Therefore, it is recommended that buyers carefully review the specific features and options of the vehicle they are interested in to ensure that they meet their needs and preferences for safety and security."
   ]
  },
  {
   "cell_type": "code",
   "execution_count": 240,
   "metadata": {},
   "outputs": [
    {
     "name": "stdout",
     "output_type": "stream",
     "text": [
      "column name    :  safety_&_security\n",
      "--------------------------------\n",
      "per_of_nulls   :  % 11.23\n",
      "num_of_nulls   :  3215\n",
      "num_of_uniques :  12550\n",
      "shape_of_df    :  (28630, 35)\n",
      "--------------------------------\n",
      "NaN                                                                                                                                                                                                                                                                                                                                                                                                                                                                                                                            3215\n",
      "[Isofix]                                                                                                                                                                                                                                                                                                                                                                                                                                                                                                                        380\n",
      "[ABS, Central door lock, Driver-side airbag, Electronic stability control, Immobilizer, Isofix, Passenger-side airbag, Power steering, Side airbag]                                                                                                                                                                                                                                                                                                                                                                             328\n",
      "[ABS, Central door lock, Driver-side airbag, Immobilizer, Isofix, Passenger-side airbag, Power steering, Side airbag, Traction control]                                                                                                                                                                                                                                                                                                                                                                                         125\n",
      "[ABS, Central door lock, Driver-side airbag, Electronic stability control, Fog lights, Isofix, Power steering, Side airbag]                                                                                                                                                                                                                                                                                                                                                                                                     121\n",
      "                                                                                                                                                                                                                                                                                                                                                                                                                                                                                                                               ... \n",
      "[Daytime running lights, Emergency brake assistant, Fog lights, Isofix, LED Daytime Running Lights, Lane departure warning system, Power steering, Tire pressure monitoring system]                                                                                                                                                                                                                                                                                                                                               1\n",
      "[ABS, Adaptive Cruise Control, Central door lock, Daytime running lights, Driver drowsiness detection, Driver-side airbag, Electronic stability control, Emergency brake assistant, Emergency system, Fog lights, Full-LED headlights, Glare-free high beam headlights, Immobilizer, Isofix, LED Headlights, Lane departure warning system, Passenger-side airbag, Power steering, Side airbag, Tire pressure monitoring system, Traction control]                                                                                1\n",
      "[ABS, Driver-side airbag, Electronic stability control, Emergency brake assistant, Immobilizer, LED Daytime Running Lights, Passenger-side airbag, Side airbag, Tire pressure monitoring system, Traction control]                                                                                                                                                                                                                                                                                                                1\n",
      "[ABS, Blind spot monitor, Central door lock, Daytime running lights, Distance warning system, Driver drowsiness detection, Driver-side airbag, Electronic stability control, Emergency system, Fog lights, Full-LED headlights, Head airbag, High beam assist, Immobilizer, Isofix, LED Daytime Running Lights, LED Headlights, Lane departure warning system, Passenger-side airbag, Power steering, Side airbag, Speed limit control system, Tire pressure monitoring system, Traction control, Traffic sign recognition]       1\n",
      "[ABS, Alarm system, Central door lock, Central door lock with remote control, Driver-side airbag, Electronic stability control, Fog lights, Head airbag, Immobilizer, Power steering, Side airbag, Traction control]                                                                                                                                                                                                                                                                                                              1\n",
      "Name: safety_&_security, Length: 12550, dtype: int64\n"
     ]
    }
   ],
   "source": [
    "first_looking(df, \"safety_&_security\")"
   ]
  },
  {
   "cell_type": "code",
   "execution_count": 241,
   "metadata": {},
   "outputs": [],
   "source": [
    "df[\"safety_&_security\"] = [\", \".join(item) if type(item) == list else item for item in df[\"safety_&_security\"]]"
   ]
  },
  {
   "cell_type": "code",
   "execution_count": 242,
   "metadata": {},
   "outputs": [
    {
     "data": {
      "text/plain": [
       "NaN                                                                                                                                                  3215\n",
       "Isofix                                                                                                                                                380\n",
       "ABS, Central door lock, Driver-side airbag, Electronic stability control, Immobilizer, Isofix, Passenger-side airbag, Power steering, Side airbag     328\n",
       "ABS, Central door lock, Driver-side airbag, Immobilizer, Isofix, Passenger-side airbag, Power steering, Side airbag, Traction control                 125\n",
       "ABS, Central door lock, Driver-side airbag, Electronic stability control, Fog lights, Isofix, Power steering, Side airbag                             121\n",
       "Name: safety_&_security, dtype: int64"
      ]
     },
     "execution_count": 242,
     "metadata": {},
     "output_type": "execute_result"
    }
   ],
   "source": [
    "df[\"safety_&_security\"].value_counts(dropna=False).head()"
   ]
  },
  {
   "cell_type": "markdown",
   "metadata": {},
   "source": [
    "**Now we can save our cleaned file as in csv format.**"
   ]
  },
  {
   "cell_type": "code",
   "execution_count": 243,
   "metadata": {},
   "outputs": [
    {
     "data": {
      "text/plain": [
       "(28630, 35)"
      ]
     },
     "metadata": {},
     "output_type": "display_data"
    },
    {
     "name": "stdout",
     "output_type": "stream",
     "text": [
      "0 29478\n"
     ]
    },
    {
     "data": {
      "text/plain": [
       "(28630, 35)"
      ]
     },
     "metadata": {},
     "output_type": "display_data"
    },
    {
     "name": "stdout",
     "output_type": "stream",
     "text": [
      "0 28629\n"
     ]
    }
   ],
   "source": [
    "display(df.shape)\n",
    "print(df.index[0], df.index[-1])\n",
    "\n",
    "df = df.reset_index(drop=True)\n",
    "\n",
    "display(df.shape)\n",
    "print(df.index[0], df.index[-1])"
   ]
  },
  {
   "cell_type": "markdown",
   "metadata": {},
   "source": [
    "**We started with 58 columns at the beginning of the analysis, now we have 35 columns.**"
   ]
  },
  {
   "cell_type": "code",
   "execution_count": 244,
   "metadata": {
    "scrolled": false
   },
   "outputs": [
    {
     "data": {
      "text/html": [
       "<div>\n",
       "<style scoped>\n",
       "    .dataframe tbody tr th:only-of-type {\n",
       "        vertical-align: middle;\n",
       "    }\n",
       "\n",
       "    .dataframe tbody tr th {\n",
       "        vertical-align: top;\n",
       "    }\n",
       "\n",
       "    .dataframe thead th {\n",
       "        text-align: right;\n",
       "    }\n",
       "</style>\n",
       "<table border=\"1\" class=\"dataframe\">\n",
       "  <thead>\n",
       "    <tr style=\"text-align: right;\">\n",
       "      <th></th>\n",
       "      <th>0</th>\n",
       "      <th>1</th>\n",
       "      <th>2</th>\n",
       "      <th>3</th>\n",
       "      <th>4</th>\n",
       "    </tr>\n",
       "  </thead>\n",
       "  <tbody>\n",
       "    <tr>\n",
       "      <th>make_model</th>\n",
       "      <td>Mercedes-Benz A 160</td>\n",
       "      <td>Mercedes-Benz EQE 350</td>\n",
       "      <td>Mercedes-Benz A 45 AMG</td>\n",
       "      <td>Mercedes-Benz A 35 AMG</td>\n",
       "      <td>Mercedes-Benz A 45 AMG</td>\n",
       "    </tr>\n",
       "    <tr>\n",
       "      <th>short_description</th>\n",
       "      <td>CDi</td>\n",
       "      <td>350+</td>\n",
       "      <td>S 4Matic+ 8G-DCT</td>\n",
       "      <td>4Matic+ 7G-DCT</td>\n",
       "      <td>200CDI BE Line 4M 7G-DCT</td>\n",
       "    </tr>\n",
       "    <tr>\n",
       "      <th>make</th>\n",
       "      <td>Mercedes-Benz</td>\n",
       "      <td>Mercedes-Benz</td>\n",
       "      <td>Mercedes-Benz</td>\n",
       "      <td>Mercedes-Benz</td>\n",
       "      <td>Mercedes-Benz</td>\n",
       "    </tr>\n",
       "    <tr>\n",
       "      <th>model</th>\n",
       "      <td>A 160</td>\n",
       "      <td>EQE 350</td>\n",
       "      <td>A 45 AMG</td>\n",
       "      <td>A 35 AMG</td>\n",
       "      <td>A 45 AMG</td>\n",
       "    </tr>\n",
       "    <tr>\n",
       "      <th>location</th>\n",
       "      <td>P.I. EL PALMAR C/FORJA 6,  11500 PUERTO DE SAN...</td>\n",
       "      <td>APARTADO DE CORREOS 1032,  26140 LOGROÑO, ES</td>\n",
       "      <td>PORT. TARRACO, MOLL DE LLEVANT, Nº 5, LOC. 6-8...</td>\n",
       "      <td>Carrer de Provença, 31 Local,  8029 BARCELONA, ES</td>\n",
       "      <td>CARRIL ARAGONES 4,  30007 CASILLAS, ES</td>\n",
       "    </tr>\n",
       "    <tr>\n",
       "      <th>price</th>\n",
       "      <td>16950.0</td>\n",
       "      <td>80900.0</td>\n",
       "      <td>69900.0</td>\n",
       "      <td>46990.0</td>\n",
       "      <td>16800.0</td>\n",
       "    </tr>\n",
       "    <tr>\n",
       "      <th>body_type</th>\n",
       "      <td>Compact</td>\n",
       "      <td>Compact</td>\n",
       "      <td>Compact</td>\n",
       "      <td>Compact</td>\n",
       "      <td>Compact</td>\n",
       "    </tr>\n",
       "    <tr>\n",
       "      <th>type</th>\n",
       "      <td>Used</td>\n",
       "      <td>Pre-registered</td>\n",
       "      <td>Used</td>\n",
       "      <td>Used</td>\n",
       "      <td>Used</td>\n",
       "    </tr>\n",
       "    <tr>\n",
       "      <th>doors</th>\n",
       "      <td>5.0</td>\n",
       "      <td>4.0</td>\n",
       "      <td>5.0</td>\n",
       "      <td>5.0</td>\n",
       "      <td>5.0</td>\n",
       "    </tr>\n",
       "    <tr>\n",
       "      <th>warranty</th>\n",
       "      <td>24.0</td>\n",
       "      <td>24.0</td>\n",
       "      <td>12.0</td>\n",
       "      <td>12.0</td>\n",
       "      <td>12.0</td>\n",
       "    </tr>\n",
       "    <tr>\n",
       "      <th>mileage</th>\n",
       "      <td>120200.0</td>\n",
       "      <td>5000.0</td>\n",
       "      <td>18900.0</td>\n",
       "      <td>18995.0</td>\n",
       "      <td>197000.0</td>\n",
       "    </tr>\n",
       "    <tr>\n",
       "      <th>gearbox</th>\n",
       "      <td>Manual</td>\n",
       "      <td>Automatic</td>\n",
       "      <td>Automatic</td>\n",
       "      <td>Automatic</td>\n",
       "      <td>Automatic</td>\n",
       "    </tr>\n",
       "    <tr>\n",
       "      <th>fuel_type</th>\n",
       "      <td>Diesel</td>\n",
       "      <td>Electric</td>\n",
       "      <td>Benzine</td>\n",
       "      <td>Benzine</td>\n",
       "      <td>Diesel</td>\n",
       "    </tr>\n",
       "    <tr>\n",
       "      <th>seller</th>\n",
       "      <td>Dealer</td>\n",
       "      <td>Dealer</td>\n",
       "      <td>Dealer</td>\n",
       "      <td>Dealer</td>\n",
       "      <td>Dealer</td>\n",
       "    </tr>\n",
       "    <tr>\n",
       "      <th>seats</th>\n",
       "      <td>NaN</td>\n",
       "      <td>5.0</td>\n",
       "      <td>5.0</td>\n",
       "      <td>5.0</td>\n",
       "      <td>5.0</td>\n",
       "    </tr>\n",
       "    <tr>\n",
       "      <th>engine_size</th>\n",
       "      <td>NaN</td>\n",
       "      <td>1.0</td>\n",
       "      <td>1991.0</td>\n",
       "      <td>1991.0</td>\n",
       "      <td>2143.0</td>\n",
       "    </tr>\n",
       "    <tr>\n",
       "      <th>gears</th>\n",
       "      <td>NaN</td>\n",
       "      <td>9.0</td>\n",
       "      <td>8.0</td>\n",
       "      <td>7.0</td>\n",
       "      <td>7.0</td>\n",
       "    </tr>\n",
       "    <tr>\n",
       "      <th>co_emissions</th>\n",
       "      <td>NaN</td>\n",
       "      <td>0.0</td>\n",
       "      <td>NaN</td>\n",
       "      <td>NaN</td>\n",
       "      <td>NaN</td>\n",
       "    </tr>\n",
       "    <tr>\n",
       "      <th>drivetrain</th>\n",
       "      <td>NaN</td>\n",
       "      <td>NaN</td>\n",
       "      <td>4WD</td>\n",
       "      <td>4WD</td>\n",
       "      <td>4WD</td>\n",
       "    </tr>\n",
       "    <tr>\n",
       "      <th>cylinders</th>\n",
       "      <td>NaN</td>\n",
       "      <td>NaN</td>\n",
       "      <td>4.0</td>\n",
       "      <td>4.0</td>\n",
       "      <td>4.0</td>\n",
       "    </tr>\n",
       "    <tr>\n",
       "      <th>comfort_&amp;_convenience</th>\n",
       "      <td>NaN</td>\n",
       "      <td>NaN</td>\n",
       "      <td>NaN</td>\n",
       "      <td>Air conditioning, Automatic climate control, P...</td>\n",
       "      <td>Air conditioning, Electrical side mirrors, Mul...</td>\n",
       "    </tr>\n",
       "    <tr>\n",
       "      <th>entertainment_&amp;_media</th>\n",
       "      <td>NaN</td>\n",
       "      <td>NaN</td>\n",
       "      <td>NaN</td>\n",
       "      <td>USB</td>\n",
       "      <td>Bluetooth, CD player, MP3, USB</td>\n",
       "    </tr>\n",
       "    <tr>\n",
       "      <th>safety_&amp;_security</th>\n",
       "      <td>NaN</td>\n",
       "      <td>NaN</td>\n",
       "      <td>NaN</td>\n",
       "      <td>ABS, Central door lock, Driver-side airbag, El...</td>\n",
       "      <td>ABS, Central door lock, Driver-side airbag, El...</td>\n",
       "    </tr>\n",
       "    <tr>\n",
       "      <th>extras</th>\n",
       "      <td>NaN</td>\n",
       "      <td>NaN</td>\n",
       "      <td>NaN</td>\n",
       "      <td>Sport seats</td>\n",
       "      <td>NaN</td>\n",
       "    </tr>\n",
       "    <tr>\n",
       "      <th>empty_weight</th>\n",
       "      <td>NaN</td>\n",
       "      <td>NaN</td>\n",
       "      <td>NaN</td>\n",
       "      <td>NaN</td>\n",
       "      <td>1545.0</td>\n",
       "    </tr>\n",
       "    <tr>\n",
       "      <th>full_service_history</th>\n",
       "      <td>No</td>\n",
       "      <td>No</td>\n",
       "      <td>No</td>\n",
       "      <td>No</td>\n",
       "      <td>No</td>\n",
       "    </tr>\n",
       "    <tr>\n",
       "      <th>upholstery</th>\n",
       "      <td>NaN</td>\n",
       "      <td>NaN</td>\n",
       "      <td>NaN</td>\n",
       "      <td>NaN</td>\n",
       "      <td>NaN</td>\n",
       "    </tr>\n",
       "    <tr>\n",
       "      <th>previous_owner</th>\n",
       "      <td>NaN</td>\n",
       "      <td>NaN</td>\n",
       "      <td>NaN</td>\n",
       "      <td>NaN</td>\n",
       "      <td>NaN</td>\n",
       "    </tr>\n",
       "    <tr>\n",
       "      <th>energy_efficiency_class</th>\n",
       "      <td>NaN</td>\n",
       "      <td>NaN</td>\n",
       "      <td>NaN</td>\n",
       "      <td>NaN</td>\n",
       "      <td>NaN</td>\n",
       "    </tr>\n",
       "    <tr>\n",
       "      <th>age</th>\n",
       "      <td>6.0</td>\n",
       "      <td>0.0</td>\n",
       "      <td>2.0</td>\n",
       "      <td>2.0</td>\n",
       "      <td>7.0</td>\n",
       "    </tr>\n",
       "    <tr>\n",
       "      <th>power_kW</th>\n",
       "      <td>NaN</td>\n",
       "      <td>215.0</td>\n",
       "      <td>310.0</td>\n",
       "      <td>225.0</td>\n",
       "      <td>100.0</td>\n",
       "    </tr>\n",
       "    <tr>\n",
       "      <th>power_hp</th>\n",
       "      <td>NaN</td>\n",
       "      <td>292.0</td>\n",
       "      <td>421.0</td>\n",
       "      <td>306.0</td>\n",
       "      <td>136.0</td>\n",
       "    </tr>\n",
       "    <tr>\n",
       "      <th>cons_avg</th>\n",
       "      <td>NaN</td>\n",
       "      <td>NaN</td>\n",
       "      <td>8.4</td>\n",
       "      <td>7.3</td>\n",
       "      <td>4.9</td>\n",
       "    </tr>\n",
       "    <tr>\n",
       "      <th>cons_city</th>\n",
       "      <td>NaN</td>\n",
       "      <td>NaN</td>\n",
       "      <td>10.9</td>\n",
       "      <td>9.3</td>\n",
       "      <td>5.7</td>\n",
       "    </tr>\n",
       "    <tr>\n",
       "      <th>cons_country</th>\n",
       "      <td>NaN</td>\n",
       "      <td>NaN</td>\n",
       "      <td>5.8</td>\n",
       "      <td>6.1</td>\n",
       "      <td>4.4</td>\n",
       "    </tr>\n",
       "  </tbody>\n",
       "</table>\n",
       "</div>"
      ],
      "text/plain": [
       "                                                                         0  \\\n",
       "make_model                                             Mercedes-Benz A 160   \n",
       "short_description                                                      CDi   \n",
       "make                                                         Mercedes-Benz   \n",
       "model                                                                A 160   \n",
       "location                 P.I. EL PALMAR C/FORJA 6,  11500 PUERTO DE SAN...   \n",
       "price                                                              16950.0   \n",
       "body_type                                                          Compact   \n",
       "type                                                                  Used   \n",
       "doors                                                                  5.0   \n",
       "warranty                                                              24.0   \n",
       "mileage                                                           120200.0   \n",
       "gearbox                                                             Manual   \n",
       "fuel_type                                                           Diesel   \n",
       "seller                                                              Dealer   \n",
       "seats                                                                  NaN   \n",
       "engine_size                                                            NaN   \n",
       "gears                                                                  NaN   \n",
       "co_emissions                                                           NaN   \n",
       "drivetrain                                                             NaN   \n",
       "cylinders                                                              NaN   \n",
       "comfort_&_convenience                                                  NaN   \n",
       "entertainment_&_media                                                  NaN   \n",
       "safety_&_security                                                      NaN   \n",
       "extras                                                                 NaN   \n",
       "empty_weight                                                           NaN   \n",
       "full_service_history                                                    No   \n",
       "upholstery                                                             NaN   \n",
       "previous_owner                                                         NaN   \n",
       "energy_efficiency_class                                                NaN   \n",
       "age                                                                    6.0   \n",
       "power_kW                                                               NaN   \n",
       "power_hp                                                               NaN   \n",
       "cons_avg                                                               NaN   \n",
       "cons_city                                                              NaN   \n",
       "cons_country                                                           NaN   \n",
       "\n",
       "                                                                    1  \\\n",
       "make_model                                      Mercedes-Benz EQE 350   \n",
       "short_description                                                350+   \n",
       "make                                                    Mercedes-Benz   \n",
       "model                                                         EQE 350   \n",
       "location                 APARTADO DE CORREOS 1032,  26140 LOGROÑO, ES   \n",
       "price                                                         80900.0   \n",
       "body_type                                                     Compact   \n",
       "type                                                   Pre-registered   \n",
       "doors                                                             4.0   \n",
       "warranty                                                         24.0   \n",
       "mileage                                                        5000.0   \n",
       "gearbox                                                     Automatic   \n",
       "fuel_type                                                    Electric   \n",
       "seller                                                         Dealer   \n",
       "seats                                                             5.0   \n",
       "engine_size                                                       1.0   \n",
       "gears                                                             9.0   \n",
       "co_emissions                                                      0.0   \n",
       "drivetrain                                                        NaN   \n",
       "cylinders                                                         NaN   \n",
       "comfort_&_convenience                                             NaN   \n",
       "entertainment_&_media                                             NaN   \n",
       "safety_&_security                                                 NaN   \n",
       "extras                                                            NaN   \n",
       "empty_weight                                                      NaN   \n",
       "full_service_history                                               No   \n",
       "upholstery                                                        NaN   \n",
       "previous_owner                                                    NaN   \n",
       "energy_efficiency_class                                           NaN   \n",
       "age                                                               0.0   \n",
       "power_kW                                                        215.0   \n",
       "power_hp                                                        292.0   \n",
       "cons_avg                                                          NaN   \n",
       "cons_city                                                         NaN   \n",
       "cons_country                                                      NaN   \n",
       "\n",
       "                                                                         2  \\\n",
       "make_model                                          Mercedes-Benz A 45 AMG   \n",
       "short_description                                         S 4Matic+ 8G-DCT   \n",
       "make                                                         Mercedes-Benz   \n",
       "model                                                             A 45 AMG   \n",
       "location                 PORT. TARRACO, MOLL DE LLEVANT, Nº 5, LOC. 6-8...   \n",
       "price                                                              69900.0   \n",
       "body_type                                                          Compact   \n",
       "type                                                                  Used   \n",
       "doors                                                                  5.0   \n",
       "warranty                                                              12.0   \n",
       "mileage                                                            18900.0   \n",
       "gearbox                                                          Automatic   \n",
       "fuel_type                                                          Benzine   \n",
       "seller                                                              Dealer   \n",
       "seats                                                                  5.0   \n",
       "engine_size                                                         1991.0   \n",
       "gears                                                                  8.0   \n",
       "co_emissions                                                           NaN   \n",
       "drivetrain                                                             4WD   \n",
       "cylinders                                                              4.0   \n",
       "comfort_&_convenience                                                  NaN   \n",
       "entertainment_&_media                                                  NaN   \n",
       "safety_&_security                                                      NaN   \n",
       "extras                                                                 NaN   \n",
       "empty_weight                                                           NaN   \n",
       "full_service_history                                                    No   \n",
       "upholstery                                                             NaN   \n",
       "previous_owner                                                         NaN   \n",
       "energy_efficiency_class                                                NaN   \n",
       "age                                                                    2.0   \n",
       "power_kW                                                             310.0   \n",
       "power_hp                                                             421.0   \n",
       "cons_avg                                                               8.4   \n",
       "cons_city                                                             10.9   \n",
       "cons_country                                                           5.8   \n",
       "\n",
       "                                                                         3  \\\n",
       "make_model                                          Mercedes-Benz A 35 AMG   \n",
       "short_description                                           4Matic+ 7G-DCT   \n",
       "make                                                         Mercedes-Benz   \n",
       "model                                                             A 35 AMG   \n",
       "location                 Carrer de Provença, 31 Local,  8029 BARCELONA, ES   \n",
       "price                                                              46990.0   \n",
       "body_type                                                          Compact   \n",
       "type                                                                  Used   \n",
       "doors                                                                  5.0   \n",
       "warranty                                                              12.0   \n",
       "mileage                                                            18995.0   \n",
       "gearbox                                                          Automatic   \n",
       "fuel_type                                                          Benzine   \n",
       "seller                                                              Dealer   \n",
       "seats                                                                  5.0   \n",
       "engine_size                                                         1991.0   \n",
       "gears                                                                  7.0   \n",
       "co_emissions                                                           NaN   \n",
       "drivetrain                                                             4WD   \n",
       "cylinders                                                              4.0   \n",
       "comfort_&_convenience    Air conditioning, Automatic climate control, P...   \n",
       "entertainment_&_media                                                  USB   \n",
       "safety_&_security        ABS, Central door lock, Driver-side airbag, El...   \n",
       "extras                                                         Sport seats   \n",
       "empty_weight                                                           NaN   \n",
       "full_service_history                                                    No   \n",
       "upholstery                                                             NaN   \n",
       "previous_owner                                                         NaN   \n",
       "energy_efficiency_class                                                NaN   \n",
       "age                                                                    2.0   \n",
       "power_kW                                                             225.0   \n",
       "power_hp                                                             306.0   \n",
       "cons_avg                                                               7.3   \n",
       "cons_city                                                              9.3   \n",
       "cons_country                                                           6.1   \n",
       "\n",
       "                                                                         4  \n",
       "make_model                                          Mercedes-Benz A 45 AMG  \n",
       "short_description                                 200CDI BE Line 4M 7G-DCT  \n",
       "make                                                         Mercedes-Benz  \n",
       "model                                                             A 45 AMG  \n",
       "location                            CARRIL ARAGONES 4,  30007 CASILLAS, ES  \n",
       "price                                                              16800.0  \n",
       "body_type                                                          Compact  \n",
       "type                                                                  Used  \n",
       "doors                                                                  5.0  \n",
       "warranty                                                              12.0  \n",
       "mileage                                                           197000.0  \n",
       "gearbox                                                          Automatic  \n",
       "fuel_type                                                           Diesel  \n",
       "seller                                                              Dealer  \n",
       "seats                                                                  5.0  \n",
       "engine_size                                                         2143.0  \n",
       "gears                                                                  7.0  \n",
       "co_emissions                                                           NaN  \n",
       "drivetrain                                                             4WD  \n",
       "cylinders                                                              4.0  \n",
       "comfort_&_convenience    Air conditioning, Electrical side mirrors, Mul...  \n",
       "entertainment_&_media                       Bluetooth, CD player, MP3, USB  \n",
       "safety_&_security        ABS, Central door lock, Driver-side airbag, El...  \n",
       "extras                                                                 NaN  \n",
       "empty_weight                                                        1545.0  \n",
       "full_service_history                                                    No  \n",
       "upholstery                                                             NaN  \n",
       "previous_owner                                                         NaN  \n",
       "energy_efficiency_class                                                NaN  \n",
       "age                                                                    7.0  \n",
       "power_kW                                                             100.0  \n",
       "power_hp                                                             136.0  \n",
       "cons_avg                                                               4.9  \n",
       "cons_city                                                              5.7  \n",
       "cons_country                                                           4.4  "
      ]
     },
     "execution_count": 244,
     "metadata": {},
     "output_type": "execute_result"
    }
   ],
   "source": [
    "df.head().T"
   ]
  },
  {
   "cell_type": "code",
   "execution_count": 245,
   "metadata": {},
   "outputs": [
    {
     "name": "stdout",
     "output_type": "stream",
     "text": [
      "<class 'pandas.core.frame.DataFrame'>\n",
      "RangeIndex: 28630 entries, 0 to 28629\n",
      "Data columns (total 35 columns):\n",
      " #   Column                   Non-Null Count  Dtype  \n",
      "---  ------                   --------------  -----  \n",
      " 0   make_model               28630 non-null  object \n",
      " 1   short_description        28630 non-null  object \n",
      " 2   make                     28630 non-null  object \n",
      " 3   model                    28630 non-null  object \n",
      " 4   location                 28630 non-null  object \n",
      " 5   price                    28630 non-null  float64\n",
      " 6   body_type                28630 non-null  object \n",
      " 7   type                     28630 non-null  object \n",
      " 8   doors                    28271 non-null  float64\n",
      " 9   warranty                 13465 non-null  float64\n",
      " 10  mileage                  28629 non-null  float64\n",
      " 11  gearbox                  28382 non-null  object \n",
      " 12  fuel_type                26843 non-null  object \n",
      " 13  seller                   28630 non-null  object \n",
      " 14  seats                    25505 non-null  float64\n",
      " 15  engine_size              27227 non-null  float64\n",
      " 16  gears                    18954 non-null  float64\n",
      " 17  co_emissions             18594 non-null  float64\n",
      " 18  drivetrain               16893 non-null  object \n",
      " 19  cylinders                18852 non-null  float64\n",
      " 20  comfort_&_convenience    25433 non-null  object \n",
      " 21  entertainment_&_media    23644 non-null  object \n",
      " 22  safety_&_security        25415 non-null  object \n",
      " 23  extras                   23480 non-null  object \n",
      " 24  empty_weight             17758 non-null  float64\n",
      " 25  full_service_history     28630 non-null  object \n",
      " 26  upholstery               18610 non-null  object \n",
      " 27  previous_owner           14015 non-null  object \n",
      " 28  energy_efficiency_class  7804 non-null   object \n",
      " 29  age                      28628 non-null  float64\n",
      " 30  power_kW                 28058 non-null  float64\n",
      " 31  power_hp                 28058 non-null  float64\n",
      " 32  cons_avg                 23385 non-null  float64\n",
      " 33  cons_city                20100 non-null  float64\n",
      " 34  cons_country             20100 non-null  float64\n",
      "dtypes: float64(16), object(19)\n",
      "memory usage: 7.6+ MB\n"
     ]
    }
   ],
   "source": [
    "df.info()"
   ]
  },
  {
   "cell_type": "code",
   "execution_count": 246,
   "metadata": {},
   "outputs": [
    {
     "name": "stdout",
     "output_type": "stream",
     "text": [
      "Column \u001b[1m\u001b[91mgearbox\u001b[0m has mixed object types.\n",
      "Column \u001b[1m\u001b[91mfuel_type\u001b[0m has mixed object types.\n",
      "Column \u001b[1m\u001b[91mdrivetrain\u001b[0m has mixed object types.\n",
      "Column \u001b[1m\u001b[91mcomfort_&_convenience\u001b[0m has mixed object types.\n",
      "Column \u001b[1m\u001b[91mentertainment_&_media\u001b[0m has mixed object types.\n",
      "Column \u001b[1m\u001b[91msafety_&_security\u001b[0m has mixed object types.\n",
      "Column \u001b[1m\u001b[91mextras\u001b[0m has mixed object types.\n",
      "Column \u001b[1m\u001b[91mupholstery\u001b[0m has mixed object types.\n",
      "Column \u001b[1m\u001b[91mprevious_owner\u001b[0m has mixed object types.\n",
      "Column \u001b[1m\u001b[91menergy_efficiency_class\u001b[0m has mixed object types.\n"
     ]
    }
   ],
   "source": [
    "class color:\n",
    "    PURPLE = '\\033[95m'\n",
    "    CYAN = '\\033[96m'\n",
    "    DARKCYAN = '\\033[36m'\n",
    "    BLUE = '\\033[94m'\n",
    "    GREEN = '\\033[92m'\n",
    "    YELLOW = '\\033[93m'\n",
    "    RED = '\\033[91m'\n",
    "    BOLD = '\\033[1m'\n",
    "    UNDERLINE = '\\033[4m'\n",
    "    END = '\\033[0m'\n",
    "\n",
    "def check_obj_columns(df):\n",
    "    '''\n",
    "    Returns NO PROBLEM or column/s which has/have mixed object types.\n",
    "    '''    \n",
    "    \n",
    "    tdf = df.select_dtypes(include=['object']).applymap(type)\n",
    "    for col in tdf:\n",
    "        if len(set(tdf[col].values)) > 1:\n",
    "            print(\"Column\" + \" \" + color.BOLD + color.RED + col + color.END + \" \" + \"has mixed object types.\" )\n",
    "    else:\n",
    "        if len(set(tdf[col].values)) == 1:\n",
    "            print(color.BOLD + color.GREEN + \"NO PROBLEM\" + \" \" + color.END + \" \" + \"with the data types of Columns in the DataFrame.\")\n",
    "\n",
    "check_obj_columns(df)"
   ]
  },
  {
   "cell_type": "markdown",
   "metadata": {},
   "source": [
    "**Let us save our dataset with a csv extension for further analysis (Handling Missing Values) in the following notebook:**"
   ]
  },
  {
   "cell_type": "code",
   "execution_count": 247,
   "metadata": {},
   "outputs": [],
   "source": [
    "#df.to_csv(\"as24cars_clean_data.csv\", index=False)"
   ]
  },
  {
   "cell_type": "markdown",
   "metadata": {},
   "source": [
    "<a id=\"10\"></a>\n",
    "<a href=\"#toc\" class=\"btn btn-primary btn-sm\" role=\"button\" aria-pressed=\"true\" \n",
    "style=\"color:blue; background-color:#dfa8e4\" data-toggle=\"popover\">Content</a>\n",
    "\n",
    "## <p style=\"background-color:#FDFEFE; font-family:newtimeroman; color:#9d4f8c; font-size:150%; text-align:center; border-radius:10px 10px;\">The End of Data Cleaning (Part - 01)</p>\n",
    "\n",
    "___"
   ]
  },
  {
   "cell_type": "markdown",
   "metadata": {
    "deletable": false,
    "editable": false
   },
   "source": [
    "<a href=\"https://clarusway.com/contact-us/\"><img align=\"center\" src=\"https://i.ibb.co/B43qn24/officially-licensed-logo.png\" alt=\"Open in Clarusway LMS\" width=\"110\" height=\"200\" title=\"This notebook is licensed by Clarusway IT training school. Please contact the authorized persons about the conditions under which you can use or share.\"></a>"
   ]
  }
 ],
 "metadata": {
  "kernelspec": {
   "display_name": "Python 3 (ipykernel)",
   "language": "python",
   "name": "python3"
  },
  "language_info": {
   "codemirror_mode": {
    "name": "ipython",
    "version": 3
   },
   "file_extension": ".py",
   "mimetype": "text/x-python",
   "name": "python",
   "nbconvert_exporter": "python",
   "pygments_lexer": "ipython3",
   "version": "3.10.9"
  },
  "toc": {
   "base_numbering": 1,
   "nav_menu": {},
   "number_sections": false,
   "sideBar": true,
   "skip_h1_title": false,
   "title_cell": "Table of Contents",
   "title_sidebar": "Contents",
   "toc_cell": false,
   "toc_position": {
    "height": "calc(100% - 180px)",
    "left": "10px",
    "top": "150px",
    "width": "165px"
   },
   "toc_section_display": true,
   "toc_window_display": true
  }
 },
 "nbformat": 4,
 "nbformat_minor": 4
}
