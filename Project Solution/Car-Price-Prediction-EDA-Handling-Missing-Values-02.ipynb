{
 "cells": [
  {
   "cell_type": "code",
   "execution_count": 2,
   "metadata": {
    "deletable": false,
    "editable": false
   },
   "outputs": [
    {
     "data": {
      "application/javascript": [
       "/** Below because this notebook is pretty large */\n",
       "var rto = 180;\n",
       "console.log('NB: Increase require timeout to ' + rto + ' seconds');\n",
       "window.requirejs.config({waitSeconds: rto}); \n"
      ],
      "text/plain": [
       "<IPython.core.display.Javascript object>"
      ]
     },
     "metadata": {},
     "output_type": "display_data"
    }
   ],
   "source": [
    "%%javascript\n",
    "/** Below because this notebook is pretty large */\n",
    "var rto = 180;\n",
    "console.log('NB: Increase require timeout to ' + rto + ' seconds');\n",
    "window.requirejs.config({waitSeconds: rto}); "
   ]
  },
  {
   "cell_type": "markdown",
   "metadata": {
    "deletable": false,
    "editable": false
   },
   "source": [
    "<a href=\"https://clarusway.com/contact-us/\"><img align=\"center\" src=\"https://i.ibb.co/B43qn24/officially-licensed-logo.png\" alt=\"Open in Clarusway LMS\" width=\"110\" height=\"200\" title=\"This notebook is licensed by Clarusway IT training school. Please contact the authorized persons about the conditions under which you can use or share.\"></a>"
   ]
  },
  {
   "cell_type": "markdown",
   "metadata": {},
   "source": [
    "___\n",
    "\n",
    "<a href=\"https://lms.clarusway.com/mod/lesson/view.php?id=8511&pageid=8142&startlastseen=no\"><img align=\"left\" src=\"https://i.ibb.co/6Z5pQxD/lmss.png\" alt=\"Open in Clarusway LMS\" width=\"70\" height=\"200\" title=\"Open Clarusway Learning Management Sytem\"></a>\n",
    "\n",
    "<a href=\"\"><img align=\"right\" src=\"https://i.ibb.co/n3HWyQX/github-logo.png\" alt=\"Open in Clarusway GitHub\" width=\"100\" height=\"150\" title=\"Open and Execute in Clarusway GitHub Repository\"></a>\n",
    "\n",
    "<p style=\"text-align: center;\"><img src=\"https://docs.google.com/uc?id=1lY0Uj5R04yMY3-ZppPWxqCr5pvBLYPnV\" class=\"img-fluid\" \n",
    "alt=\"CLRSWY\"></p>\n",
    "\n",
    "## <p style=\"background-color:#FDFEFE; font-family:newtimeroman; color:#9d4f8c; font-size:100%; text-align:center; border-radius:10px 10px;\">WAY TO REINVENT YOURSELF</p>\n",
    "\n",
    "<img src=https://i.ibb.co/b5xXg11/used-cars1.jpg width=\"1100\" height=\"100\">\n",
    "\n",
    "[Image Credit](https://myscriptneedshelp.com/2022/auto/buying-used-cars-in-tempe-is-easier-now/)\n",
    "\n",
    "## <p style=\"background-color:#FDFEFE; font-family:newtimeroman; color:#060108; font-size:200%; text-align:center; border-radius:10px 10px;\">The Capstone Project of Data Analytics Module</p>\n",
    "\n",
    "## <p style=\"background-color:#FDFEFE; font-family:newtimeroman; color:#060108; font-size:150%; text-align:center; border-radius:10px 10px;\">Car Price Prediction EDA</p>"
   ]
  },
  {
   "cell_type": "markdown",
   "metadata": {},
   "source": [
    "<a id=\"toc\"></a>\n",
    "\n",
    "## <p style=\"background-color:#9d4f8c; font-family:newtimeroman; color:#FFF9ED; font-size:175%; text-align:center; border-radius:10px 10px;\">Content</p>\n",
    "\n",
    "* [IMPORTING LIBRARIES NEEDED IN THIS NOTEBOOK](#0)\n",
    "* [PART-02 (HANDLING WITH MISSING VALUES)](#1)\n",
    "* [THE EXAMINATION OF MISSING VALUES IN THE COLUMNS](#2)    \n",
    "* [THE END OF MISSING VALUES (PART - 02)](#3)"
   ]
  },
  {
   "cell_type": "markdown",
   "metadata": {},
   "source": [
    "## <p style=\"background-color:#9d4f8c; font-family:newtimeroman; color:#FFF9ED; font-size:175%; text-align:center; border-radius:10px 10px;\">Importing Libraries Needed in This Notebook</p>\n",
    "\n",
    "<a id=\"0\"></a>\n",
    "<a href=\"#toc\" class=\"btn btn-primary btn-sm\" role=\"button\" aria-pressed=\"true\" \n",
    "style=\"color:blue; background-color:#dfa8e4\" data-toggle=\"popover\">Content</a>\n",
    "\n",
    "If you have NOT installed NumPy & Pandas so far, once you've installed them you can import them as a library and other libraries need in this analysis:"
   ]
  },
  {
   "cell_type": "code",
   "execution_count": 34,
   "metadata": {},
   "outputs": [],
   "source": [
    "import numpy as np\n",
    "import pandas as pd\n",
    "import seaborn as sns \n",
    "# import matplotlib.pyplot as plt\n",
    "# from scipy import stats\n",
    "# from scipy.stats.mstats import winsorize\n",
    "import re\n",
    "\n",
    "from ipywidgets import interact, Dropdown, IntSlider, Output, widgets\n",
    "from IPython.display import display\n",
    "\n",
    "import warnings\n",
    "warnings.filterwarnings(\"ignore\")\n",
    "warnings.warn(\"this will not show\")\n",
    "\n",
    "# %matplotlib inline\n",
    "# # %matplotlib notebook\n",
    "\n",
    "# plt.rcParams[\"figure.figsize\"] = (10, 6)\n",
    "# # plt.rcParams['figure.dpi'] = 100\n",
    "\n",
    "# sns.set_style(\"whitegrid\")\n",
    "# pd.set_option('display.float_format', lambda x: '%.2f' % x)\n",
    "\n",
    "# pd.options.display.max_rows = 500\n",
    "# # pd.set_option('display.max_rows', None)\n",
    "# pd.options.display.max_columns = 150"
   ]
  },
  {
   "cell_type": "markdown",
   "metadata": {},
   "source": [
    "## <p style=\"background-color:#9d4f8c; font-family:newtimeroman; color:#FFF9ED; font-size:175%; text-align:center; border-radius:10px 10px;\">PART- 02 (Handling with Missing Values)</p>\n",
    "\n",
    "<a id=\"1\"></a>\n",
    "<a href=\"#toc\" class=\"btn btn-primary btn-sm\" role=\"button\" aria-pressed=\"true\" \n",
    "style=\"color:blue; background-color:#dfa8e4\" data-toggle=\"popover\">Content</a>"
   ]
  },
  {
   "cell_type": "code",
   "execution_count": 4,
   "metadata": {},
   "outputs": [],
   "source": [
    "df0 = pd.read_csv(\"as24cars_clean_data.csv\")\n",
    "df = df0.copy()"
   ]
  },
  {
   "cell_type": "code",
   "execution_count": 5,
   "metadata": {},
   "outputs": [
    {
     "data": {
      "text/html": [
       "<div>\n",
       "<style scoped>\n",
       "    .dataframe tbody tr th:only-of-type {\n",
       "        vertical-align: middle;\n",
       "    }\n",
       "\n",
       "    .dataframe tbody tr th {\n",
       "        vertical-align: top;\n",
       "    }\n",
       "\n",
       "    .dataframe thead th {\n",
       "        text-align: right;\n",
       "    }\n",
       "</style>\n",
       "<table border=\"1\" class=\"dataframe\">\n",
       "  <thead>\n",
       "    <tr style=\"text-align: right;\">\n",
       "      <th></th>\n",
       "      <th>0</th>\n",
       "      <th>1</th>\n",
       "      <th>2</th>\n",
       "    </tr>\n",
       "  </thead>\n",
       "  <tbody>\n",
       "    <tr>\n",
       "      <th>make_model</th>\n",
       "      <td>Mercedes-Benz A 160</td>\n",
       "      <td>Mercedes-Benz EQE 350</td>\n",
       "      <td>Mercedes-Benz A 45 AMG</td>\n",
       "    </tr>\n",
       "    <tr>\n",
       "      <th>short_description</th>\n",
       "      <td>CDi</td>\n",
       "      <td>350+</td>\n",
       "      <td>S 4Matic+ 8G-DCT</td>\n",
       "    </tr>\n",
       "    <tr>\n",
       "      <th>make</th>\n",
       "      <td>Mercedes-Benz</td>\n",
       "      <td>Mercedes-Benz</td>\n",
       "      <td>Mercedes-Benz</td>\n",
       "    </tr>\n",
       "    <tr>\n",
       "      <th>model</th>\n",
       "      <td>A 160</td>\n",
       "      <td>EQE 350</td>\n",
       "      <td>A 45 AMG</td>\n",
       "    </tr>\n",
       "    <tr>\n",
       "      <th>location</th>\n",
       "      <td>P.I. EL PALMAR C/FORJA 6,  11500 PUERTO DE SAN...</td>\n",
       "      <td>APARTADO DE CORREOS 1032,  26140 LOGROÑO, ES</td>\n",
       "      <td>PORT. TARRACO, MOLL DE LLEVANT, Nº 5, LOC. 6-8...</td>\n",
       "    </tr>\n",
       "    <tr>\n",
       "      <th>price</th>\n",
       "      <td>16950.0</td>\n",
       "      <td>80900.0</td>\n",
       "      <td>69900.0</td>\n",
       "    </tr>\n",
       "    <tr>\n",
       "      <th>body_type</th>\n",
       "      <td>Compact</td>\n",
       "      <td>Compact</td>\n",
       "      <td>Compact</td>\n",
       "    </tr>\n",
       "    <tr>\n",
       "      <th>type</th>\n",
       "      <td>Used</td>\n",
       "      <td>Pre-registered</td>\n",
       "      <td>Used</td>\n",
       "    </tr>\n",
       "    <tr>\n",
       "      <th>doors</th>\n",
       "      <td>5.0</td>\n",
       "      <td>4.0</td>\n",
       "      <td>5.0</td>\n",
       "    </tr>\n",
       "    <tr>\n",
       "      <th>warranty</th>\n",
       "      <td>24.0</td>\n",
       "      <td>24.0</td>\n",
       "      <td>12.0</td>\n",
       "    </tr>\n",
       "    <tr>\n",
       "      <th>mileage</th>\n",
       "      <td>120200.0</td>\n",
       "      <td>5000.0</td>\n",
       "      <td>18900.0</td>\n",
       "    </tr>\n",
       "    <tr>\n",
       "      <th>gearbox</th>\n",
       "      <td>Manual</td>\n",
       "      <td>Automatic</td>\n",
       "      <td>Automatic</td>\n",
       "    </tr>\n",
       "    <tr>\n",
       "      <th>fuel_type</th>\n",
       "      <td>Diesel</td>\n",
       "      <td>Electric</td>\n",
       "      <td>Benzine</td>\n",
       "    </tr>\n",
       "    <tr>\n",
       "      <th>seller</th>\n",
       "      <td>Dealer</td>\n",
       "      <td>Dealer</td>\n",
       "      <td>Dealer</td>\n",
       "    </tr>\n",
       "    <tr>\n",
       "      <th>seats</th>\n",
       "      <td>NaN</td>\n",
       "      <td>5.0</td>\n",
       "      <td>5.0</td>\n",
       "    </tr>\n",
       "    <tr>\n",
       "      <th>engine_size</th>\n",
       "      <td>NaN</td>\n",
       "      <td>1.0</td>\n",
       "      <td>1991.0</td>\n",
       "    </tr>\n",
       "    <tr>\n",
       "      <th>gears</th>\n",
       "      <td>NaN</td>\n",
       "      <td>9.0</td>\n",
       "      <td>8.0</td>\n",
       "    </tr>\n",
       "    <tr>\n",
       "      <th>co_emissions</th>\n",
       "      <td>NaN</td>\n",
       "      <td>0.0</td>\n",
       "      <td>NaN</td>\n",
       "    </tr>\n",
       "    <tr>\n",
       "      <th>drivetrain</th>\n",
       "      <td>NaN</td>\n",
       "      <td>NaN</td>\n",
       "      <td>4WD</td>\n",
       "    </tr>\n",
       "    <tr>\n",
       "      <th>cylinders</th>\n",
       "      <td>NaN</td>\n",
       "      <td>NaN</td>\n",
       "      <td>4.0</td>\n",
       "    </tr>\n",
       "    <tr>\n",
       "      <th>comfort_&amp;_convenience</th>\n",
       "      <td>NaN</td>\n",
       "      <td>NaN</td>\n",
       "      <td>NaN</td>\n",
       "    </tr>\n",
       "    <tr>\n",
       "      <th>entertainment_&amp;_media</th>\n",
       "      <td>NaN</td>\n",
       "      <td>NaN</td>\n",
       "      <td>NaN</td>\n",
       "    </tr>\n",
       "    <tr>\n",
       "      <th>safety_&amp;_security</th>\n",
       "      <td>NaN</td>\n",
       "      <td>NaN</td>\n",
       "      <td>NaN</td>\n",
       "    </tr>\n",
       "    <tr>\n",
       "      <th>extras</th>\n",
       "      <td>NaN</td>\n",
       "      <td>NaN</td>\n",
       "      <td>NaN</td>\n",
       "    </tr>\n",
       "    <tr>\n",
       "      <th>empty_weight</th>\n",
       "      <td>NaN</td>\n",
       "      <td>NaN</td>\n",
       "      <td>NaN</td>\n",
       "    </tr>\n",
       "    <tr>\n",
       "      <th>full_service_history</th>\n",
       "      <td>No</td>\n",
       "      <td>No</td>\n",
       "      <td>No</td>\n",
       "    </tr>\n",
       "    <tr>\n",
       "      <th>upholstery</th>\n",
       "      <td>NaN</td>\n",
       "      <td>NaN</td>\n",
       "      <td>NaN</td>\n",
       "    </tr>\n",
       "    <tr>\n",
       "      <th>previous_owner</th>\n",
       "      <td>NaN</td>\n",
       "      <td>NaN</td>\n",
       "      <td>NaN</td>\n",
       "    </tr>\n",
       "    <tr>\n",
       "      <th>energy_efficiency_class</th>\n",
       "      <td>NaN</td>\n",
       "      <td>NaN</td>\n",
       "      <td>NaN</td>\n",
       "    </tr>\n",
       "    <tr>\n",
       "      <th>age</th>\n",
       "      <td>6.0</td>\n",
       "      <td>0.0</td>\n",
       "      <td>2.0</td>\n",
       "    </tr>\n",
       "    <tr>\n",
       "      <th>power_kW</th>\n",
       "      <td>NaN</td>\n",
       "      <td>215.0</td>\n",
       "      <td>310.0</td>\n",
       "    </tr>\n",
       "    <tr>\n",
       "      <th>power_hp</th>\n",
       "      <td>NaN</td>\n",
       "      <td>292.0</td>\n",
       "      <td>421.0</td>\n",
       "    </tr>\n",
       "    <tr>\n",
       "      <th>cons_avg</th>\n",
       "      <td>NaN</td>\n",
       "      <td>NaN</td>\n",
       "      <td>8.4</td>\n",
       "    </tr>\n",
       "    <tr>\n",
       "      <th>cons_city</th>\n",
       "      <td>NaN</td>\n",
       "      <td>NaN</td>\n",
       "      <td>10.9</td>\n",
       "    </tr>\n",
       "    <tr>\n",
       "      <th>cons_country</th>\n",
       "      <td>NaN</td>\n",
       "      <td>NaN</td>\n",
       "      <td>5.8</td>\n",
       "    </tr>\n",
       "  </tbody>\n",
       "</table>\n",
       "</div>"
      ],
      "text/plain": [
       "                                                                         0  \\\n",
       "make_model                                             Mercedes-Benz A 160   \n",
       "short_description                                                      CDi   \n",
       "make                                                         Mercedes-Benz   \n",
       "model                                                                A 160   \n",
       "location                 P.I. EL PALMAR C/FORJA 6,  11500 PUERTO DE SAN...   \n",
       "price                                                              16950.0   \n",
       "body_type                                                          Compact   \n",
       "type                                                                  Used   \n",
       "doors                                                                  5.0   \n",
       "warranty                                                              24.0   \n",
       "mileage                                                           120200.0   \n",
       "gearbox                                                             Manual   \n",
       "fuel_type                                                           Diesel   \n",
       "seller                                                              Dealer   \n",
       "seats                                                                  NaN   \n",
       "engine_size                                                            NaN   \n",
       "gears                                                                  NaN   \n",
       "co_emissions                                                           NaN   \n",
       "drivetrain                                                             NaN   \n",
       "cylinders                                                              NaN   \n",
       "comfort_&_convenience                                                  NaN   \n",
       "entertainment_&_media                                                  NaN   \n",
       "safety_&_security                                                      NaN   \n",
       "extras                                                                 NaN   \n",
       "empty_weight                                                           NaN   \n",
       "full_service_history                                                    No   \n",
       "upholstery                                                             NaN   \n",
       "previous_owner                                                         NaN   \n",
       "energy_efficiency_class                                                NaN   \n",
       "age                                                                    6.0   \n",
       "power_kW                                                               NaN   \n",
       "power_hp                                                               NaN   \n",
       "cons_avg                                                               NaN   \n",
       "cons_city                                                              NaN   \n",
       "cons_country                                                           NaN   \n",
       "\n",
       "                                                                    1  \\\n",
       "make_model                                      Mercedes-Benz EQE 350   \n",
       "short_description                                                350+   \n",
       "make                                                    Mercedes-Benz   \n",
       "model                                                         EQE 350   \n",
       "location                 APARTADO DE CORREOS 1032,  26140 LOGROÑO, ES   \n",
       "price                                                         80900.0   \n",
       "body_type                                                     Compact   \n",
       "type                                                   Pre-registered   \n",
       "doors                                                             4.0   \n",
       "warranty                                                         24.0   \n",
       "mileage                                                        5000.0   \n",
       "gearbox                                                     Automatic   \n",
       "fuel_type                                                    Electric   \n",
       "seller                                                         Dealer   \n",
       "seats                                                             5.0   \n",
       "engine_size                                                       1.0   \n",
       "gears                                                             9.0   \n",
       "co_emissions                                                      0.0   \n",
       "drivetrain                                                        NaN   \n",
       "cylinders                                                         NaN   \n",
       "comfort_&_convenience                                             NaN   \n",
       "entertainment_&_media                                             NaN   \n",
       "safety_&_security                                                 NaN   \n",
       "extras                                                            NaN   \n",
       "empty_weight                                                      NaN   \n",
       "full_service_history                                               No   \n",
       "upholstery                                                        NaN   \n",
       "previous_owner                                                    NaN   \n",
       "energy_efficiency_class                                           NaN   \n",
       "age                                                               0.0   \n",
       "power_kW                                                        215.0   \n",
       "power_hp                                                        292.0   \n",
       "cons_avg                                                          NaN   \n",
       "cons_city                                                         NaN   \n",
       "cons_country                                                      NaN   \n",
       "\n",
       "                                                                         2  \n",
       "make_model                                          Mercedes-Benz A 45 AMG  \n",
       "short_description                                         S 4Matic+ 8G-DCT  \n",
       "make                                                         Mercedes-Benz  \n",
       "model                                                             A 45 AMG  \n",
       "location                 PORT. TARRACO, MOLL DE LLEVANT, Nº 5, LOC. 6-8...  \n",
       "price                                                              69900.0  \n",
       "body_type                                                          Compact  \n",
       "type                                                                  Used  \n",
       "doors                                                                  5.0  \n",
       "warranty                                                              12.0  \n",
       "mileage                                                            18900.0  \n",
       "gearbox                                                          Automatic  \n",
       "fuel_type                                                          Benzine  \n",
       "seller                                                              Dealer  \n",
       "seats                                                                  5.0  \n",
       "engine_size                                                         1991.0  \n",
       "gears                                                                  8.0  \n",
       "co_emissions                                                           NaN  \n",
       "drivetrain                                                             4WD  \n",
       "cylinders                                                              4.0  \n",
       "comfort_&_convenience                                                  NaN  \n",
       "entertainment_&_media                                                  NaN  \n",
       "safety_&_security                                                      NaN  \n",
       "extras                                                                 NaN  \n",
       "empty_weight                                                           NaN  \n",
       "full_service_history                                                    No  \n",
       "upholstery                                                             NaN  \n",
       "previous_owner                                                         NaN  \n",
       "energy_efficiency_class                                                NaN  \n",
       "age                                                                    2.0  \n",
       "power_kW                                                             310.0  \n",
       "power_hp                                                             421.0  \n",
       "cons_avg                                                               8.4  \n",
       "cons_city                                                             10.9  \n",
       "cons_country                                                           5.8  "
      ]
     },
     "execution_count": 5,
     "metadata": {},
     "output_type": "execute_result"
    }
   ],
   "source": [
    "df.head(3).T"
   ]
  },
  {
   "cell_type": "code",
   "execution_count": 6,
   "metadata": {},
   "outputs": [
    {
     "data": {
      "text/plain": [
       "(28630, 35)"
      ]
     },
     "execution_count": 6,
     "metadata": {},
     "output_type": "execute_result"
    }
   ],
   "source": [
    "df.shape"
   ]
  },
  {
   "cell_type": "code",
   "execution_count": 7,
   "metadata": {},
   "outputs": [
    {
     "name": "stdout",
     "output_type": "stream",
     "text": [
      "<class 'pandas.core.frame.DataFrame'>\n",
      "RangeIndex: 28630 entries, 0 to 28629\n",
      "Data columns (total 35 columns):\n",
      " #   Column                   Non-Null Count  Dtype  \n",
      "---  ------                   --------------  -----  \n",
      " 0   make_model               28630 non-null  object \n",
      " 1   short_description        28417 non-null  object \n",
      " 2   make                     28630 non-null  object \n",
      " 3   model                    28354 non-null  object \n",
      " 4   location                 28630 non-null  object \n",
      " 5   price                    28630 non-null  float64\n",
      " 6   body_type                28630 non-null  object \n",
      " 7   type                     28630 non-null  object \n",
      " 8   doors                    28271 non-null  float64\n",
      " 9   warranty                 13465 non-null  float64\n",
      " 10  mileage                  28629 non-null  float64\n",
      " 11  gearbox                  28382 non-null  object \n",
      " 12  fuel_type                26843 non-null  object \n",
      " 13  seller                   28630 non-null  object \n",
      " 14  seats                    25505 non-null  float64\n",
      " 15  engine_size              27227 non-null  float64\n",
      " 16  gears                    18954 non-null  float64\n",
      " 17  co_emissions             18594 non-null  float64\n",
      " 18  drivetrain               16893 non-null  object \n",
      " 19  cylinders                18852 non-null  float64\n",
      " 20  comfort_&_convenience    25433 non-null  object \n",
      " 21  entertainment_&_media    23644 non-null  object \n",
      " 22  safety_&_security        25415 non-null  object \n",
      " 23  extras                   23480 non-null  object \n",
      " 24  empty_weight             17758 non-null  float64\n",
      " 25  full_service_history     28630 non-null  object \n",
      " 26  upholstery               18610 non-null  object \n",
      " 27  previous_owner           14015 non-null  float64\n",
      " 28  energy_efficiency_class  7804 non-null   object \n",
      " 29  age                      28628 non-null  float64\n",
      " 30  power_kW                 28058 non-null  float64\n",
      " 31  power_hp                 28058 non-null  float64\n",
      " 32  cons_avg                 23385 non-null  float64\n",
      " 33  cons_city                20100 non-null  float64\n",
      " 34  cons_country             20100 non-null  float64\n",
      "dtypes: float64(17), object(18)\n",
      "memory usage: 7.6+ MB\n"
     ]
    }
   ],
   "source": [
    "df.info()"
   ]
  },
  {
   "cell_type": "code",
   "execution_count": 8,
   "metadata": {},
   "outputs": [
    {
     "name": "stdout",
     "output_type": "stream",
     "text": [
      "Column \u001b[1m\u001b[91mshort_description\u001b[0m has mixed object types.\n",
      "Column \u001b[1m\u001b[91mmodel\u001b[0m has mixed object types.\n",
      "Column \u001b[1m\u001b[91mgearbox\u001b[0m has mixed object types.\n",
      "Column \u001b[1m\u001b[91mfuel_type\u001b[0m has mixed object types.\n",
      "Column \u001b[1m\u001b[91mdrivetrain\u001b[0m has mixed object types.\n",
      "Column \u001b[1m\u001b[91mcomfort_&_convenience\u001b[0m has mixed object types.\n",
      "Column \u001b[1m\u001b[91mentertainment_&_media\u001b[0m has mixed object types.\n",
      "Column \u001b[1m\u001b[91msafety_&_security\u001b[0m has mixed object types.\n",
      "Column \u001b[1m\u001b[91mextras\u001b[0m has mixed object types.\n",
      "Column \u001b[1m\u001b[91mupholstery\u001b[0m has mixed object types.\n",
      "Column \u001b[1m\u001b[91menergy_efficiency_class\u001b[0m has mixed object types.\n"
     ]
    }
   ],
   "source": [
    "class color:\n",
    "    PURPLE = '\\033[95m'\n",
    "    CYAN = '\\033[96m'\n",
    "    DARKCYAN = '\\033[36m'\n",
    "    BLUE = '\\033[94m'\n",
    "    GREEN = '\\033[92m'\n",
    "    YELLOW = '\\033[93m'\n",
    "    RED = '\\033[91m'\n",
    "    BOLD = '\\033[1m'\n",
    "    UNDERLINE = '\\033[4m'\n",
    "    END = '\\033[0m'\n",
    "\n",
    "def check_obj_columns(df):\n",
    "    '''\n",
    "    Returns NO PROBLEM or column/s which has/have mixed object types.\n",
    "    '''    \n",
    "    \n",
    "    tdf = df.select_dtypes(include=['object']).applymap(type)\n",
    "    for col in tdf:\n",
    "        if len(set(tdf[col].values)) > 1:\n",
    "            print(\"Column\" + \" \" + color.BOLD + color.RED + col + color.END + \" \" + \"has mixed object types.\" )\n",
    "    else:\n",
    "        if len(set(tdf[col].values)) == 1:\n",
    "            print(color.BOLD + color.GREEN + \" \" + \"NO PROBLEM\" + \" \" + color.END + \" \" + \"with the data types of Columns in the DataFrame.\")\n",
    "\n",
    "check_obj_columns(df)"
   ]
  },
  {
   "cell_type": "markdown",
   "metadata": {},
   "source": [
    "### The Examination of Missing Values:"
   ]
  },
  {
   "cell_type": "code",
   "execution_count": 9,
   "metadata": {},
   "outputs": [
    {
     "name": "stdout",
     "output_type": "stream",
     "text": [
      "Columns that have missing values :\n",
      "---------------------------------\n",
      "['short_description', 'model', 'doors', 'warranty', 'mileage', 'gearbox', 'fuel_type', 'seats', 'engine_size', 'gears', 'co_emissions', 'drivetrain', 'cylinders', 'comfort_&_convenience', 'entertainment_&_media', 'safety_&_security', 'extras', 'empty_weight', 'upholstery', 'previous_owner', 'energy_efficiency_class', 'age', 'power_kW', 'power_hp', 'cons_avg', 'cons_city', 'cons_country']\n",
      "\n",
      "energy_efficiency_class    72.741879\n",
      "warranty                   52.968914\n",
      "previous_owner             51.047852\n",
      "drivetrain                 40.995459\n",
      "empty_weight               37.974153\n",
      "co_emissions               35.054139\n",
      "upholstery                 34.998254\n",
      "cylinders                  34.152986\n",
      "gears                      33.796717\n",
      "cons_country               29.793922\n",
      "cons_city                  29.793922\n",
      "cons_avg                   18.319944\n",
      "extras                     17.988124\n",
      "entertainment_&_media      17.415299\n",
      "safety_&_security          11.229480\n",
      "comfort_&_convenience      11.166608\n",
      "seats                      10.915124\n",
      "fuel_type                   6.241705\n",
      "engine_size                 4.900454\n",
      "power_kW                    1.997904\n",
      "power_hp                    1.997904\n",
      "doors                       1.253929\n",
      "model                       0.964024\n",
      "gearbox                     0.866224\n",
      "short_description           0.743975\n",
      "age                         0.006986\n",
      "mileage                     0.003493\n",
      "dtype: float64\n"
     ]
    }
   ],
   "source": [
    "# Here, the columns with even one missing value are collected in a list by means of the concept of List Comprehension. \n",
    "# And then, the percentage of each feature/column is represented in the output.  \n",
    "\n",
    "miss_val = []\n",
    "[miss_val.append(column) for column in df.columns if any(df[column].isnull())]\n",
    "\n",
    "missing_percentage = df[miss_val].isnull().sum()*100 / df[miss_val].shape[0]\n",
    "missing_percentage = missing_percentage.sort_values(ascending=False)\n",
    "print(\"Columns that have missing values :\")\n",
    "print(\"---\"*11)\n",
    "print(f\"{miss_val}\\n\\n{missing_percentage}\")"
   ]
  },
  {
   "cell_type": "code",
   "execution_count": 10,
   "metadata": {},
   "outputs": [],
   "source": [
    "def df_nans(df, limit):\n",
    "    \"\"\"\n",
    "    Returns a Pandas Series containing the percentage of missing values in each column of the input DataFrame 'df' that\n",
    "    exceeds the given 'limit'.\n",
    "\n",
    "    Parameters:\n",
    "    -----------\n",
    "    df : pandas.DataFrame\n",
    "        The DataFrame to analyze for missing values.\n",
    "    limit : float\n",
    "        The threshold (in percentage) above which to consider a column as having too many missing values.\n",
    "\n",
    "    Returns:\n",
    "    --------\n",
    "    pandas.Series\n",
    "        A Series containing the percentage of missing values in each column of the input DataFrame 'df' that exceeds\n",
    "        the given 'limit'.\n",
    "        If no column has missing values that exceed the given limit, returns a string message indicating this.\n",
    "    \"\"\"\n",
    "    missing = df.isnull().sum()*100 / df.shape[0]\n",
    "    missing = missing.loc[lambda x : x >= limit]\n",
    "    if missing.empty:\n",
    "        return \"No columns have missing values that exceed the given limit.\"\n",
    "    else:\n",
    "        return missing\n",
    "\n",
    "def show_missing_values(limit):\n",
    "    return df_nans(df, limit)\n",
    "\n",
    "def column_nans(serial):\n",
    "    # display percentage of NaNs in a Series\n",
    "    return serial.isnull().sum()*100 / serial.shape[0]"
   ]
  },
  {
   "cell_type": "code",
   "execution_count": 11,
   "metadata": {},
   "outputs": [
    {
     "data": {
      "application/vnd.jupyter.widget-view+json": {
       "model_id": "32dd58da8f144c2e92862417a80c5e20",
       "version_major": 2,
       "version_minor": 0
      },
      "text/plain": [
       "interactive(children=(IntSlider(value=50, description='limit', step=5), Output()), _dom_classes=('widget-inter…"
      ]
     },
     "metadata": {},
     "output_type": "display_data"
    }
   ],
   "source": [
    "# Let's explore the percentage of missing values in each column that exceeds the given 'limit'.\n",
    "\n",
    "interact(show_missing_values, limit=(0, 100, 5));"
   ]
  },
  {
   "cell_type": "markdown",
   "metadata": {},
   "source": [
    "### The Examination of Duplicated Values:"
   ]
  },
  {
   "cell_type": "code",
   "execution_count": 12,
   "metadata": {},
   "outputs": [
    {
     "data": {
      "text/plain": [
       "3861"
      ]
     },
     "execution_count": 12,
     "metadata": {},
     "output_type": "execute_result"
    }
   ],
   "source": [
    "df.duplicated(keep=False).sum()"
   ]
  },
  {
   "cell_type": "code",
   "execution_count": 13,
   "metadata": {},
   "outputs": [
    {
     "data": {
      "text/html": [
       "<div>\n",
       "<style scoped>\n",
       "    .dataframe tbody tr th:only-of-type {\n",
       "        vertical-align: middle;\n",
       "    }\n",
       "\n",
       "    .dataframe tbody tr th {\n",
       "        vertical-align: top;\n",
       "    }\n",
       "\n",
       "    .dataframe thead th {\n",
       "        text-align: right;\n",
       "    }\n",
       "</style>\n",
       "<table border=\"1\" class=\"dataframe\">\n",
       "  <thead>\n",
       "    <tr style=\"text-align: right;\">\n",
       "      <th></th>\n",
       "      <th>make_model</th>\n",
       "      <th>short_description</th>\n",
       "      <th>make</th>\n",
       "      <th>model</th>\n",
       "      <th>location</th>\n",
       "      <th>price</th>\n",
       "      <th>body_type</th>\n",
       "      <th>type</th>\n",
       "      <th>doors</th>\n",
       "      <th>warranty</th>\n",
       "      <th>...</th>\n",
       "      <th>full_service_history</th>\n",
       "      <th>upholstery</th>\n",
       "      <th>previous_owner</th>\n",
       "      <th>energy_efficiency_class</th>\n",
       "      <th>age</th>\n",
       "      <th>power_kW</th>\n",
       "      <th>power_hp</th>\n",
       "      <th>cons_avg</th>\n",
       "      <th>cons_city</th>\n",
       "      <th>cons_country</th>\n",
       "    </tr>\n",
       "  </thead>\n",
       "  <tbody>\n",
       "    <tr>\n",
       "      <th>142</th>\n",
       "      <td>Mercedes-Benz A 45 AMG</td>\n",
       "      <td>S 4Matic+ 8G-DCT</td>\n",
       "      <td>Mercedes-Benz</td>\n",
       "      <td>A 45 AMG</td>\n",
       "      <td>RONDA PONENT 62,  8201 SABADELL, ES</td>\n",
       "      <td>72890.0</td>\n",
       "      <td>Compact</td>\n",
       "      <td>Used</td>\n",
       "      <td>5.0</td>\n",
       "      <td>12.0</td>\n",
       "      <td>...</td>\n",
       "      <td>No</td>\n",
       "      <td>NaN</td>\n",
       "      <td>NaN</td>\n",
       "      <td>NaN</td>\n",
       "      <td>1.0</td>\n",
       "      <td>310.0</td>\n",
       "      <td>421.0</td>\n",
       "      <td>8.4</td>\n",
       "      <td>10.9</td>\n",
       "      <td>5.8</td>\n",
       "    </tr>\n",
       "    <tr>\n",
       "      <th>237</th>\n",
       "      <td>Mercedes-Benz CL</td>\n",
       "      <td>200 163ch AMG Line 7G-DCT 9cv</td>\n",
       "      <td>Mercedes-Benz</td>\n",
       "      <td>CL</td>\n",
       "      <td>--,  77240 Vert St Denis, FR</td>\n",
       "      <td>39990.0</td>\n",
       "      <td>Compact</td>\n",
       "      <td>Used</td>\n",
       "      <td>5.0</td>\n",
       "      <td>NaN</td>\n",
       "      <td>...</td>\n",
       "      <td>No</td>\n",
       "      <td>NaN</td>\n",
       "      <td>NaN</td>\n",
       "      <td>NaN</td>\n",
       "      <td>0.0</td>\n",
       "      <td>NaN</td>\n",
       "      <td>NaN</td>\n",
       "      <td>NaN</td>\n",
       "      <td>NaN</td>\n",
       "      <td>NaN</td>\n",
       "    </tr>\n",
       "    <tr>\n",
       "      <th>253</th>\n",
       "      <td>Mercedes-Benz CL</td>\n",
       "      <td>200 163ch AMG Line 7G-DCT 9cv</td>\n",
       "      <td>Mercedes-Benz</td>\n",
       "      <td>CL</td>\n",
       "      <td>--,  77240 Vert St Denis, FR</td>\n",
       "      <td>39990.0</td>\n",
       "      <td>Compact</td>\n",
       "      <td>Used</td>\n",
       "      <td>5.0</td>\n",
       "      <td>NaN</td>\n",
       "      <td>...</td>\n",
       "      <td>No</td>\n",
       "      <td>NaN</td>\n",
       "      <td>NaN</td>\n",
       "      <td>NaN</td>\n",
       "      <td>0.0</td>\n",
       "      <td>NaN</td>\n",
       "      <td>NaN</td>\n",
       "      <td>NaN</td>\n",
       "      <td>NaN</td>\n",
       "      <td>NaN</td>\n",
       "    </tr>\n",
       "    <tr>\n",
       "      <th>263</th>\n",
       "      <td>Mercedes-Benz CL</td>\n",
       "      <td>200 163ch AMG Line 7G-DCT 9cv</td>\n",
       "      <td>Mercedes-Benz</td>\n",
       "      <td>CL</td>\n",
       "      <td>--,  77240 Vert St Denis, FR</td>\n",
       "      <td>39990.0</td>\n",
       "      <td>Compact</td>\n",
       "      <td>Used</td>\n",
       "      <td>5.0</td>\n",
       "      <td>NaN</td>\n",
       "      <td>...</td>\n",
       "      <td>No</td>\n",
       "      <td>NaN</td>\n",
       "      <td>NaN</td>\n",
       "      <td>NaN</td>\n",
       "      <td>0.0</td>\n",
       "      <td>NaN</td>\n",
       "      <td>NaN</td>\n",
       "      <td>NaN</td>\n",
       "      <td>NaN</td>\n",
       "      <td>NaN</td>\n",
       "    </tr>\n",
       "    <tr>\n",
       "      <th>276</th>\n",
       "      <td>Mercedes-Benz A 45 AMG</td>\n",
       "      <td>S 4Matic+ 8G-DCT</td>\n",
       "      <td>Mercedes-Benz</td>\n",
       "      <td>A 45 AMG</td>\n",
       "      <td>RONDA PONENT 62,  8201 SABADELL, ES</td>\n",
       "      <td>72890.0</td>\n",
       "      <td>Compact</td>\n",
       "      <td>Used</td>\n",
       "      <td>5.0</td>\n",
       "      <td>12.0</td>\n",
       "      <td>...</td>\n",
       "      <td>No</td>\n",
       "      <td>NaN</td>\n",
       "      <td>NaN</td>\n",
       "      <td>NaN</td>\n",
       "      <td>1.0</td>\n",
       "      <td>310.0</td>\n",
       "      <td>421.0</td>\n",
       "      <td>8.4</td>\n",
       "      <td>10.9</td>\n",
       "      <td>5.8</td>\n",
       "    </tr>\n",
       "    <tr>\n",
       "      <th>...</th>\n",
       "      <td>...</td>\n",
       "      <td>...</td>\n",
       "      <td>...</td>\n",
       "      <td>...</td>\n",
       "      <td>...</td>\n",
       "      <td>...</td>\n",
       "      <td>...</td>\n",
       "      <td>...</td>\n",
       "      <td>...</td>\n",
       "      <td>...</td>\n",
       "      <td>...</td>\n",
       "      <td>...</td>\n",
       "      <td>...</td>\n",
       "      <td>...</td>\n",
       "      <td>...</td>\n",
       "      <td>...</td>\n",
       "      <td>...</td>\n",
       "      <td>...</td>\n",
       "      <td>...</td>\n",
       "      <td>...</td>\n",
       "      <td>...</td>\n",
       "    </tr>\n",
       "    <tr>\n",
       "      <th>28253</th>\n",
       "      <td>Volvo V60 Cross Country</td>\n",
       "      <td>D4 AWD Geartronic Pro</td>\n",
       "      <td>Volvo</td>\n",
       "      <td>V60 Cross Country</td>\n",
       "      <td>Via Ca' Baroncello, 32/B,  36061 Bassano Del G...</td>\n",
       "      <td>32500.0</td>\n",
       "      <td>Station wagon</td>\n",
       "      <td>Used</td>\n",
       "      <td>5.0</td>\n",
       "      <td>NaN</td>\n",
       "      <td>...</td>\n",
       "      <td>No</td>\n",
       "      <td>Full leather</td>\n",
       "      <td>NaN</td>\n",
       "      <td>NaN</td>\n",
       "      <td>3.0</td>\n",
       "      <td>140.0</td>\n",
       "      <td>190.0</td>\n",
       "      <td>5.4</td>\n",
       "      <td>6.3</td>\n",
       "      <td>4.9</td>\n",
       "    </tr>\n",
       "    <tr>\n",
       "      <th>28556</th>\n",
       "      <td>Volvo S90</td>\n",
       "      <td>D5 AWD R Design SchiebeD LED Nav WinterP 19Z</td>\n",
       "      <td>Volvo</td>\n",
       "      <td>S90</td>\n",
       "      <td>Von-Drais-Str. 2,  77855 Achern, DE</td>\n",
       "      <td>31488.0</td>\n",
       "      <td>Sedan</td>\n",
       "      <td>Used</td>\n",
       "      <td>4.0</td>\n",
       "      <td>NaN</td>\n",
       "      <td>...</td>\n",
       "      <td>No</td>\n",
       "      <td>Full leather</td>\n",
       "      <td>NaN</td>\n",
       "      <td>efficient</td>\n",
       "      <td>5.0</td>\n",
       "      <td>173.0</td>\n",
       "      <td>235.0</td>\n",
       "      <td>4.8</td>\n",
       "      <td>5.7</td>\n",
       "      <td>4.3</td>\n",
       "    </tr>\n",
       "    <tr>\n",
       "      <th>28557</th>\n",
       "      <td>Volvo S90</td>\n",
       "      <td>D5 AWD R Design SchiebeD LED Nav WinterP 19Z</td>\n",
       "      <td>Volvo</td>\n",
       "      <td>S90</td>\n",
       "      <td>Von-Drais-Str. 2,  77855 Achern, DE</td>\n",
       "      <td>31488.0</td>\n",
       "      <td>Sedan</td>\n",
       "      <td>Used</td>\n",
       "      <td>4.0</td>\n",
       "      <td>NaN</td>\n",
       "      <td>...</td>\n",
       "      <td>No</td>\n",
       "      <td>Full leather</td>\n",
       "      <td>NaN</td>\n",
       "      <td>efficient</td>\n",
       "      <td>5.0</td>\n",
       "      <td>173.0</td>\n",
       "      <td>235.0</td>\n",
       "      <td>4.8</td>\n",
       "      <td>5.7</td>\n",
       "      <td>4.3</td>\n",
       "    </tr>\n",
       "    <tr>\n",
       "      <th>28593</th>\n",
       "      <td>Volvo V40</td>\n",
       "      <td>D3 150ch R-Design Geartronic</td>\n",
       "      <td>Volvo</td>\n",
       "      <td>V40</td>\n",
       "      <td>19 rue des Alliés,  57050 Metz, FR</td>\n",
       "      <td>18999.0</td>\n",
       "      <td>Sedan</td>\n",
       "      <td>Used</td>\n",
       "      <td>5.0</td>\n",
       "      <td>12.0</td>\n",
       "      <td>...</td>\n",
       "      <td>No</td>\n",
       "      <td>NaN</td>\n",
       "      <td>NaN</td>\n",
       "      <td>NaN</td>\n",
       "      <td>4.0</td>\n",
       "      <td>112.0</td>\n",
       "      <td>152.0</td>\n",
       "      <td>NaN</td>\n",
       "      <td>NaN</td>\n",
       "      <td>NaN</td>\n",
       "    </tr>\n",
       "    <tr>\n",
       "      <th>28595</th>\n",
       "      <td>Volvo V40</td>\n",
       "      <td>D3 150ch R-Design Geartronic</td>\n",
       "      <td>Volvo</td>\n",
       "      <td>V40</td>\n",
       "      <td>19 rue des Alliés,  57050 Metz, FR</td>\n",
       "      <td>18999.0</td>\n",
       "      <td>Sedan</td>\n",
       "      <td>Used</td>\n",
       "      <td>5.0</td>\n",
       "      <td>12.0</td>\n",
       "      <td>...</td>\n",
       "      <td>No</td>\n",
       "      <td>NaN</td>\n",
       "      <td>NaN</td>\n",
       "      <td>NaN</td>\n",
       "      <td>4.0</td>\n",
       "      <td>112.0</td>\n",
       "      <td>152.0</td>\n",
       "      <td>NaN</td>\n",
       "      <td>NaN</td>\n",
       "      <td>NaN</td>\n",
       "    </tr>\n",
       "  </tbody>\n",
       "</table>\n",
       "<p>3861 rows × 35 columns</p>\n",
       "</div>"
      ],
      "text/plain": [
       "                    make_model                             short_description  \\\n",
       "142     Mercedes-Benz A 45 AMG                              S 4Matic+ 8G-DCT   \n",
       "237           Mercedes-Benz CL                 200 163ch AMG Line 7G-DCT 9cv   \n",
       "253           Mercedes-Benz CL                 200 163ch AMG Line 7G-DCT 9cv   \n",
       "263           Mercedes-Benz CL                 200 163ch AMG Line 7G-DCT 9cv   \n",
       "276     Mercedes-Benz A 45 AMG                              S 4Matic+ 8G-DCT   \n",
       "...                        ...                                           ...   \n",
       "28253  Volvo V60 Cross Country                         D4 AWD Geartronic Pro   \n",
       "28556                Volvo S90  D5 AWD R Design SchiebeD LED Nav WinterP 19Z   \n",
       "28557                Volvo S90  D5 AWD R Design SchiebeD LED Nav WinterP 19Z   \n",
       "28593                Volvo V40                  D3 150ch R-Design Geartronic   \n",
       "28595                Volvo V40                  D3 150ch R-Design Geartronic   \n",
       "\n",
       "                make              model  \\\n",
       "142    Mercedes-Benz           A 45 AMG   \n",
       "237    Mercedes-Benz                 CL   \n",
       "253    Mercedes-Benz                 CL   \n",
       "263    Mercedes-Benz                 CL   \n",
       "276    Mercedes-Benz           A 45 AMG   \n",
       "...              ...                ...   \n",
       "28253          Volvo  V60 Cross Country   \n",
       "28556          Volvo                S90   \n",
       "28557          Volvo                S90   \n",
       "28593          Volvo                V40   \n",
       "28595          Volvo                V40   \n",
       "\n",
       "                                                location    price  \\\n",
       "142                  RONDA PONENT 62,  8201 SABADELL, ES  72890.0   \n",
       "237                         --,  77240 Vert St Denis, FR  39990.0   \n",
       "253                         --,  77240 Vert St Denis, FR  39990.0   \n",
       "263                         --,  77240 Vert St Denis, FR  39990.0   \n",
       "276                  RONDA PONENT 62,  8201 SABADELL, ES  72890.0   \n",
       "...                                                  ...      ...   \n",
       "28253  Via Ca' Baroncello, 32/B,  36061 Bassano Del G...  32500.0   \n",
       "28556                Von-Drais-Str. 2,  77855 Achern, DE  31488.0   \n",
       "28557                Von-Drais-Str. 2,  77855 Achern, DE  31488.0   \n",
       "28593                 19 rue des Alliés,  57050 Metz, FR  18999.0   \n",
       "28595                 19 rue des Alliés,  57050 Metz, FR  18999.0   \n",
       "\n",
       "           body_type  type  doors  warranty  ...  full_service_history  \\\n",
       "142          Compact  Used    5.0      12.0  ...                    No   \n",
       "237          Compact  Used    5.0       NaN  ...                    No   \n",
       "253          Compact  Used    5.0       NaN  ...                    No   \n",
       "263          Compact  Used    5.0       NaN  ...                    No   \n",
       "276          Compact  Used    5.0      12.0  ...                    No   \n",
       "...              ...   ...    ...       ...  ...                   ...   \n",
       "28253  Station wagon  Used    5.0       NaN  ...                    No   \n",
       "28556          Sedan  Used    4.0       NaN  ...                    No   \n",
       "28557          Sedan  Used    4.0       NaN  ...                    No   \n",
       "28593          Sedan  Used    5.0      12.0  ...                    No   \n",
       "28595          Sedan  Used    5.0      12.0  ...                    No   \n",
       "\n",
       "         upholstery previous_owner energy_efficiency_class  age  power_kW  \\\n",
       "142             NaN            NaN                     NaN  1.0     310.0   \n",
       "237             NaN            NaN                     NaN  0.0       NaN   \n",
       "253             NaN            NaN                     NaN  0.0       NaN   \n",
       "263             NaN            NaN                     NaN  0.0       NaN   \n",
       "276             NaN            NaN                     NaN  1.0     310.0   \n",
       "...             ...            ...                     ...  ...       ...   \n",
       "28253  Full leather            NaN                     NaN  3.0     140.0   \n",
       "28556  Full leather            NaN               efficient  5.0     173.0   \n",
       "28557  Full leather            NaN               efficient  5.0     173.0   \n",
       "28593           NaN            NaN                     NaN  4.0     112.0   \n",
       "28595           NaN            NaN                     NaN  4.0     112.0   \n",
       "\n",
       "       power_hp  cons_avg cons_city  cons_country  \n",
       "142       421.0       8.4      10.9           5.8  \n",
       "237         NaN       NaN       NaN           NaN  \n",
       "253         NaN       NaN       NaN           NaN  \n",
       "263         NaN       NaN       NaN           NaN  \n",
       "276       421.0       8.4      10.9           5.8  \n",
       "...         ...       ...       ...           ...  \n",
       "28253     190.0       5.4       6.3           4.9  \n",
       "28556     235.0       4.8       5.7           4.3  \n",
       "28557     235.0       4.8       5.7           4.3  \n",
       "28593     152.0       NaN       NaN           NaN  \n",
       "28595     152.0       NaN       NaN           NaN  \n",
       "\n",
       "[3861 rows x 35 columns]"
      ]
     },
     "execution_count": 13,
     "metadata": {},
     "output_type": "execute_result"
    }
   ],
   "source": [
    "df[df.duplicated(keep=False)]"
   ]
  },
  {
   "cell_type": "markdown",
   "metadata": {},
   "source": [
    "### ⚠️ 🔥 SPECIAL NOTE:\n",
    "\n",
    "\n",
    "<div style=\"background-color: cyan; padding: 10px; font-size: 14px; font-weight: bold;\">\n",
    "    The duplicated values in the DataFrame will be taken care of after some Exploratory Data Analysis processes.\n",
    "</div>"
   ]
  },
  {
   "cell_type": "markdown",
   "metadata": {},
   "source": [
    "## User Defined Functions (DEFs) to fill the missing values:\n",
    "\n",
    "### 1) first_looking(col)"
   ]
  },
  {
   "cell_type": "code",
   "execution_count": 14,
   "metadata": {},
   "outputs": [],
   "source": [
    "def first_looking(*cols):\n",
    "    \"\"\"\n",
    "    Prints basic information about given columns in a Pandas DataFrame.\n",
    "\n",
    "    Parameters:\n",
    "    *cols (str): The names of the columns to analyze.\n",
    "\n",
    "    Returns:\n",
    "    None.\n",
    "\n",
    "    Prints:\n",
    "    - The name of each column.\n",
    "    - The percentage of null values in each column.\n",
    "    - The number of null values in each column.\n",
    "    - The number of unique values in each column.\n",
    "    - The value counts for each unique value in each column, including null values.\n",
    "    \"\"\"\n",
    "    for col in cols:\n",
    "        print(\"COLUMN NAME    : \", col)\n",
    "        print(\"--------------------------------\")\n",
    "        print(\"per_of_nulls   : \", \"%\", round(df[col].isnull().sum()*100 / df.shape[0], 2))\n",
    "        print(\"num_of_nulls   : \", df[col].isnull().sum())\n",
    "        print(\"num_of_uniques : \", df[col].nunique())\n",
    "        print(\"--------------------------------\")\n",
    "        print(df[col].value_counts(dropna=False))\n",
    "        print(\"\\n\")"
   ]
  },
  {
   "cell_type": "markdown",
   "metadata": {},
   "source": [
    "This is a Python User Defined Function (DEF) called ``first_looking`` that takes a column name as input (col). The function is designed to provide an initial analysis of a given column in a Pandas DataFrame (df).\n",
    "\n",
    "The function first prints the column name, followed by a line of dashes for formatting. It then calculates and prints the percentage of null values in the column (per_of_nulls), the number of null values in the column (num_of_nulls), and the number of unique values in the column (num_of_uniques), each on a separate line.\n",
    "\n",
    "After printing these summary statistics, the function prints another line of dashes for formatting, followed by a Pandas value_counts() method call that prints the frequency of each unique value in the column, including NaN values (if any). This can help identify common values and outliers in the data, as well as any potential issues, such as missing or incorrect data.\n",
    "\n",
    "Overall, the first_looking function provides a quick and easy way to get a first look at a given column in a Pandas DataFrame, including basic summary statistics and value frequencies."
   ]
  },
  {
   "cell_type": "markdown",
   "metadata": {},
   "source": [
    "### 2) fill_most_freq(df, group_col, col_name)"
   ]
  },
  {
   "cell_type": "code",
   "execution_count": 15,
   "metadata": {},
   "outputs": [],
   "source": [
    "def fill_most_freq(df, group_col, col_name):\n",
    "    \"\"\"\n",
    "    Fills missing values in a column of a Pandas DataFrame `df` with the most frequent value \n",
    "    in each group defined by a grouping column.\n",
    "\n",
    "    Parameters:\n",
    "    df (pandas.DataFrame): The DataFrame to operate on.\n",
    "    group_col (str): The name of the grouping column.\n",
    "    col_name (str): The name of the column to fill missing values in.\n",
    "\n",
    "    Returns:\n",
    "    None.\n",
    "\n",
    "    Prints:\n",
    "    - The name of the column that was filled.\n",
    "    - The percentage of null values in the column after filling.\n",
    "    - The number of null values in the column after filling.\n",
    "    - The number of unique values in the column after filling.\n",
    "    - The value counts for each unique value in the column after filling, including null values, sorted by index.\n",
    "    \"\"\"    \n",
    "    for group in list(df[group_col].unique()):\n",
    "        cond = df[group_col]==group\n",
    "        mode = list(df[cond][col_name].mode())\n",
    "        if mode != []:\n",
    "            df.loc[cond, col_name] = df.loc[cond, col_name].fillna(df[cond][col_name].mode()[0])\n",
    "        else:\n",
    "            df.loc[cond, col_name] = df.loc[cond, col_name].fillna(df[col_name].mode()[0])\n",
    "    \n",
    "    print(\"COLUMN NAME    : \", col_name)\n",
    "    print(\"--------------------------------\")\n",
    "    print(\"per_of_nulls   : \", \"%\", round(df[col_name].isnull().sum()*100 / df.shape[0], 2))\n",
    "    print(\"num_of_nulls   : \", df[col_name].isnull().sum())\n",
    "    print(\"num_of_uniques : \", df[col_name].nunique())\n",
    "    print(\"--------------------------------\")\n",
    "    print(df[col_name].value_counts(dropna = False).sort_index())"
   ]
  },
  {
   "cell_type": "markdown",
   "metadata": {},
   "source": [
    "This is a Python User Defined Function (DEF) called ``fill_most_freq`` that takes three (3) input parameters: a Pandas DataFrame (df), the name of a column to group by (group_col), and the name of a column to fill missing values in (col_name).\n",
    "\n",
    "This for loop in the DEF is used to fill missing values in a specific column of a pandas DataFrame df based on the values in another column. Here's what's happening in each line of the loop:\n",
    "\n",
    "  - ``for group in list(df[group_col].unique())``: - This line iterates over all the unique values in the column specified by group_col. Each unique value is stored in the variable group.\n",
    "\n",
    "  - ``cond = df[group_col]==group`` - This line creates a boolean Series cond with True values for all rows in df where the value in the column group_col is equal to group.\n",
    "\n",
    "  - ``mode = list(df[cond][col_name].mode())`` - This line calculates the mode of the column specified by col_name for all rows where the cond Series is True. The mode is stored as a list in the variable mode.\n",
    "\n",
    "  - ``if mode != []``: - This line checks if mode is not an empty list.\n",
    "\n",
    "  - ``df.loc[cond, col_name] = df.loc[cond, col_name].fillna(df[cond][col_name].mode()[0])`` - This line fills missing values in the column specified by col_name for all rows where the cond Series is True. The missing values are filled using the mode of the column for rows where the value in the column group_col is equal to group.\n",
    "\n",
    "  - ``else``: - This line executes if mode is an empty list.\n",
    "\n",
    "  - ``df.loc[cond, col_name] = df.loc[cond, col_name].fillna(df[col_name].mode()[0])`` - This line fills missing values in the column specified by col_name for all rows where the cond Series is True, but the mode of the column for rows where the value in the column group_col is equal to group is not available. The missing values are filled using the mode of the column for all rows in the DataFrame.\n",
    "\n",
    "Overall, this User Defined Function (DEF) called ``fill_most_freq`` fills missing values in a specific column of a DataFrame based on the values in another column, with the goal of preserving group-specific information and filling missing values intelligently."
   ]
  },
  {
   "cell_type": "markdown",
   "metadata": {},
   "source": [
    "### 3) fill_mode(df, group_col1, group_col2, col_name)"
   ]
  },
  {
   "cell_type": "code",
   "execution_count": 16,
   "metadata": {},
   "outputs": [],
   "source": [
    "def fill_mode(df, group_col1, group_col2, col_name):\n",
    "    \"\"\"\n",
    "    Fills missing values in a column of a Pandas DataFrame `df` based on the values in two other columns.\n",
    "\n",
    "    Parameters:\n",
    "    df (pandas.DataFrame): The DataFrame to operate on.\n",
    "    group_col1 (str): The name of the first grouping column.\n",
    "    group_col2 (str): The name of the second grouping column.\n",
    "    col_name (str): The name of the column to fill missing values in.\n",
    "\n",
    "    Returns:\n",
    "    None.\n",
    "\n",
    "    Prints:\n",
    "    - The name of the column that was filled.\n",
    "    - The percentage of null values in the column after filling.\n",
    "    - The number of null values in the column after filling.\n",
    "    - The number of unique values in the column after filling.\n",
    "    - The value counts for each unique value in the column after filling, including null values.\n",
    "    \"\"\"    \n",
    "    for group1 in list(df[group_col1].unique()):\n",
    "        for group2 in list(df[group_col2].unique()):\n",
    "            cond1 = df[group_col1]==group1\n",
    "            cond2 = (df[group_col1]==group1) & (df[group_col2]==group2)\n",
    "            mode1 = list(df[cond1][col_name].mode())\n",
    "            mode2 = list(df[cond2][col_name].mode())\n",
    "            if mode2 != []:\n",
    "                df.loc[cond2, col_name] = df.loc[cond2, col_name].fillna(df[cond2][col_name].mode()[0])\n",
    "            elif mode1 != []:\n",
    "                df.loc[cond2, col_name] = df.loc[cond2, col_name].fillna(df[cond1][col_name].mode()[0])\n",
    "            else:\n",
    "                df.loc[cond2, col_name] = df.loc[cond2, col_name].fillna(df[col_name].mode()[0])\n",
    "    \n",
    "    print(\"column name    : \", col_name)\n",
    "    print(\"--------------------------------\")\n",
    "    print(\"per_of_nulls   : \", \"%\", round(df[col_name].isnull().sum()*100 / df.shape[0], 2))\n",
    "    print(\"num_of_nulls   : \", df[col_name].isnull().sum())\n",
    "    print(\"num_of_uniques : \", df[col_name].nunique())\n",
    "    print(\"--------------------------------\")\n",
    "    print(df[col_name].value_counts(dropna = False))"
   ]
  },
  {
   "cell_type": "markdown",
   "metadata": {},
   "source": [
    "This is a Python User Defined Function (DEF) called ``fill_mode`` that takes four (4) input parameters: a Pandas DataFrame (df), the name of a column to group by (group_col1), another name of a column to group by (group_col2), and the name of a column to fill missing values in (col_name).\n",
    "\n",
    "This nested for loop in the DEF is used to fill missing values in a specific column of a pandas DataFrame df based on the values in two other columns. Here's what's happening in each line of the loop:\n",
    "\n",
    "  - ``for group1 in list(df[group_col1].unique())``: - This line iterates over all the unique values in the column specified by group_col1. Each unique value is stored in the variable group1.\n",
    "\n",
    "  - ``for group2 in list(df[group_col2].unique())``: - This line iterates over all the unique values in the column specified by group_col2. Each unique value is stored in the variable group2.\n",
    "\n",
    "  - ``cond1 = df[group_col1]==group1`` - This line creates a boolean Series cond1 with True values for all rows in df where the value in the column group_col1 is equal to group1.\n",
    "\n",
    "  - ``cond2 = (df[group_col1]==group1) & (df[group_col2]==group2)`` - This line creates a boolean Series cond2 with True values for all rows in df where the value in the column group_col1 is equal to group1 AND the value in the column group_col2 is equal to group2. This ensures that we are only filling missing values for rows that have both group1 and group2.\n",
    "\n",
    "  - ``mode1 = list(df[cond1][col_name].mode())`` - This line calculates the mode of the column specified by col_name for all rows where the cond1 Series is True. The mode is stored as a list in the variable mode1.\n",
    "\n",
    "  - ``mode2 = list(df[cond2][col_name].mode())`` - This line calculates the mode of the column specified by col_name for all rows where the cond2 Series is True. The mode is stored as a list in the variable mode2.\n",
    "\n",
    "  - ``if mode2 != []``: - This line checks if mode2 is not an empty list.\n",
    "\n",
    "  - ``df.loc[cond2, col_name] = df.loc[cond2, col_name].fillna(df[cond2][col_name].mode()[0])`` - This line fills missing values in the column specified by col_name for all rows where the cond2 Series is True. The missing values are filled using the mode of the column for rows where both group1 and group2 are present.\n",
    "\n",
    "  - ``elif mode1 != []``: - This line checks if mode1 is not an empty list, and if mode2 is empty.\n",
    "\n",
    "  - ``df.loc[cond2, col_name] = df.loc[cond2, col_name].fillna(df[cond1][col_name].mode()[0])`` - This line fills missing values in the column specified by col_name for all rows where the cond2 Series is True, but the mode of the column for rows where both group1 and group2 are present is not available. The missing values are filled using the mode of the column for rows where only group1 is present.\n",
    "\n",
    "  - ``else``: - This line executes if both mode1 and mode2 are empty.\n",
    "\n",
    "  - ``df.loc[cond2, col_name] = df.loc[cond2, col_name].fillna(df[col_name].mode()[0])`` - This line fills missing values in the column specified by col_name for all rows where the cond2 Series is True, but the mode of the column for rows where both group1 and group2 are present, and the mode of the column for rows where only group1 is present are both not available. The missing values are filled using the mode of the column for all rows in the DataFrame.\n",
    "\n",
    "Overall, this User Defined Function (DEF) called ``fill_mode`` fills missing values in a specific column of a DataFrame based on the values in two other columns, with the goal of preserving group-specific information and filling missing values intelligently."
   ]
  },
  {
   "cell_type": "markdown",
   "metadata": {},
   "source": [
    "### 4) fill_prop(df, group_col, col_name)"
   ]
  },
  {
   "cell_type": "code",
   "execution_count": 17,
   "metadata": {},
   "outputs": [],
   "source": [
    "def fill_prop(df, group_col, col_name):\n",
    "    \"\"\"\n",
    "    Fills missing values in a column of a Pandas DataFrame `df` using forward and backward fill based on a grouping column.\n",
    "\n",
    "    Parameters:\n",
    "    df (pandas.DataFrame): The DataFrame to operate on.\n",
    "    group_col (str): The name of the grouping column.\n",
    "    col_name (str): The name of the column to fill missing values in.\n",
    "\n",
    "    Returns:\n",
    "    None.\n",
    "\n",
    "    Prints:\n",
    "    - The name of the column that was filled.\n",
    "    - The percentage of null values in the column after filling.\n",
    "    - The number of null values in the column after filling.\n",
    "    - The number of unique values in the column after filling.\n",
    "    - The value counts for each unique value in the column after filling, including null values, sorted by index.\n",
    "    \"\"\"    \n",
    "    for group in list(df[group_col].unique()):\n",
    "        cond = df[group_col]==group\n",
    "        df.loc[cond, col_name] = df.loc[cond, col_name].fillna(method=\"ffill\").fillna(method=\"bfill\")\n",
    "    df[col_name] = df[col_name].fillna(method=\"ffill\").fillna(method=\"bfill\")\n",
    "    \n",
    "    print(\"COLUMN NAME    : \", col_name)\n",
    "    print(\"--------------------------------\")\n",
    "    print(\"per_of_nulls   : \", \"%\", round(df[col_name].isnull().sum()*100 / df.shape[0], 2))\n",
    "    print(\"num_of_nulls   : \", df[col_name].isnull().sum())\n",
    "    print(\"num_of_uniques : \", df[col_name].nunique())\n",
    "    print(\"--------------------------------\")\n",
    "    print(df[col_name].value_counts(dropna = False).sort_index())"
   ]
  },
  {
   "cell_type": "markdown",
   "metadata": {},
   "source": [
    "This is a Python User Defined Function (DEF) called ``fill_prop`` that takes three (3) input parameters: a Pandas DataFrame (df), the name of a column to group by (group_col), and the name of a column to fill missing values in (col_name).\n",
    "\n",
    "This for loop in the DEF is used to fill missing values in a specific column of a pandas DataFrame df based on the values in another column. Here's what's happening in each line of the loop:\n",
    "\n",
    "  - ``for group in list(df[group_col].unique())``: - This line iterates over all the unique values in the column specified by group_col. Each unique value is stored in the variable group.\n",
    "\n",
    "  - ``cond = df[group_col]==group`` - This line creates a boolean Series cond with True values for all rows in df where the value in the column group_col is equal to group.\n",
    "\n",
    "  - ``df.loc[cond, col_name] = df.loc[cond, col_name].fillna(method=\"ffill\").fillna(method=\"bfill\")`` - This line fills missing values in the column specified by col_name for all rows where the cond Series is True. The missing values are first filled using the forward fill method (method=\"ffill\") and then with the backward fill method (method=\"bfill\"). This ensures that any missing values are filled with the nearest non-missing value in the same group.\n",
    "\n",
    "  - ``df[col_name] = df[col_name].fillna(method=\"ffill\").fillna(method=\"bfill\")`` - This line fills any remaining missing values in the column specified by col_name using the same forward fill and backward fill method. This ensures that any missing values not associated with a specific group are also filled with the nearest non-missing value.\n",
    "\n",
    "Overall, this User Defined Function (DEF) called ``fill_prop`` fills missing values in a specific column of a DataFrame based on the values in another column, with the goal of preserving group-specific information and filling any remaining missing values."
   ]
  },
  {
   "cell_type": "markdown",
   "metadata": {},
   "source": [
    "### 5) fill(df, group_col1, group_col2, col_name, method)"
   ]
  },
  {
   "cell_type": "code",
   "execution_count": 82,
   "metadata": {},
   "outputs": [],
   "source": [
    "def fill(df, group_col1, group_col2, col_name, method):\n",
    "    \"\"\"\n",
    "    Fills missing values in a column of a Pandas DataFrame `df` based on double-stage grouping and a specified filling method.\n",
    "\n",
    "    Parameters:\n",
    "    df (pandas.DataFrame): The DataFrame to operate on.\n",
    "    group_col1 (str): The name of the first grouping column.\n",
    "    group_col2 (str): The name of the second grouping column.\n",
    "    col_name (str): The name of the column to fill missing values in.\n",
    "    method (str): The filling method to use. Can be \"mode\", \"mean\", \"median\", \"ffill\", or \"bfill\".\n",
    "\n",
    "    Returns:\n",
    "    None.\n",
    "\n",
    "    Prints:\n",
    "    None.\n",
    "    \"\"\"\n",
    "    \n",
    "    if method == \"mode\":\n",
    "        for group1 in list(df[group_col1].unique()):\n",
    "            for group2 in list(df[group_col2].unique()):\n",
    "                cond1 = df[group_col1]==group1\n",
    "                cond2 = (df[group_col1]==group1) & (df[group_col2]==group2)\n",
    "                mode1 = list(df[cond1][col_name].mode())\n",
    "                mode2 = list(df[cond2][col_name].mode())\n",
    "                if mode2 != []:\n",
    "                    df.loc[cond2, col_name] = df.loc[cond2, col_name].fillna(df[cond2][col_name].mode()[0])\n",
    "                elif mode1 != []:\n",
    "                    df.loc[cond2, col_name] = df.loc[cond2, col_name].fillna(df[cond1][col_name].mode()[0])\n",
    "                else:\n",
    "                    df.loc[cond2, col_name] = df.loc[cond2, col_name].fillna(df[col_name].mode()[0])\n",
    "\n",
    "    elif method == \"mean\":\n",
    "        df[col_name].fillna(df.groupby([group_col1, group_col2])[col_name].transform(\"mean\"), inplace = True)\n",
    "        df[col_name].fillna(df.groupby(group_col1)[col_name].transform(\"mean\"), inplace = True)\n",
    "        df[col_name].fillna(df[col_name].mean(), inplace = True)\n",
    "        \n",
    "    elif method == \"median\":\n",
    "        df[col_name].fillna(df.groupby([group_col1, group_col2])[col_name].transform(\"median\"), inplace = True)\n",
    "        df[col_name].fillna(df.groupby(group_col1)[col_name].transform(\"median\"), inplace = True)\n",
    "        df[col_name].fillna(df[col_name].median(), inplace = True)\n",
    "        \n",
    "    elif method == \"ffill\":           \n",
    "        for group1 in list(df[group_col1].unique()):\n",
    "            for group2 in list(df[group_col2].unique()):\n",
    "                cond2 = (df[group_col1]==group1) & (df[group_col2]==group2)\n",
    "                df.loc[cond2, col_name] = df.loc[cond2, col_name].fillna(method=\"ffill\").fillna(method=\"bfill\")\n",
    "                \n",
    "        for group1 in list(df[group_col1].unique()):\n",
    "            cond1 = df[group_col1]==group1\n",
    "            df.loc[cond1, col_name] = df.loc[cond1, col_name].fillna(method=\"ffill\").fillna(method=\"bfill\")            \n",
    "           \n",
    "        df[col_name] = df[col_name].fillna(method=\"ffill\").fillna(method=\"bfill\")\n",
    "    \n",
    "    print(\"COLUMN NAME    : \", col_name)\n",
    "    print(\"--------------------------------\")\n",
    "    print(\"per_of_nulls   : \", \"%\", round(df[col_name].isnull().sum()*100 / df.shape[0], 2))\n",
    "    print(\"num_of_nulls   : \", df[col_name].isnull().sum())\n",
    "    print(\"num_of_uniques : \", df[col_name].nunique())\n",
    "    print(\"--------------------------------\")\n",
    "    print(df[col_name].value_counts(dropna = False).sort_index())"
   ]
  },
  {
   "cell_type": "markdown",
   "metadata": {},
   "source": [
    "This is a Python User Defined Function (DEF) called ``fill`` that takes five (5) input parameters: a Pandas DataFrame (df), the name of a first column to group by (group_col1), the name of a second column to group by (group_col2), the name of a column to fill missing values in (col_name), and a method to use for filling missing values (method). The method parameter can take one of four values: \"mode\", \"mean\", \"median\", or \"ffill\".\n",
    "\n",
    "The function first defines a docstring that describes its purpose: to fill missing values in the col_name column using one of several methods, based on double-stage grouping by the group_col1 and group_col2 columns.\n",
    "\n",
    "The function then checks the value of the method parameter and executes the appropriate code block to fill missing values using the specified method.\n",
    "\n",
    "If method is \"mode\", the function defines a nested loop that iterates over the unique values in both the group_col1 and group_col2 columns. For each combination of unique values, the function fills missing values in the col_name column with the mode of that column for the corresponding group.\n",
    "\n",
    "If method is \"mean\" or \"median\", the function uses the fillna method to fill missing values in the col_name column based on the mean or median of the column for each combination of unique values in the group_col1 and group_col2 columns, then for each unique value in the group_col1 column, and finally for the entire column.\n",
    "\n",
    "If method is \"ffill\", the function defines two nested loops that iterate over the unique values in both the group_col1 and group_col2 columns, and for each combination of unique values, the function fills missing values in the col_name column with the \"forward fill\" (ffill) and \"backward fill\" (bfill) methods. The function then applies the same fill methods to fill any remaining missing values at the beginning or end of the column.\n",
    "\n",
    "After filling missing values using the specified method, the function prints some summary statistics for the col_name column, including the percentage and number of null values, the number of unique values, and the value counts for each unique value in the column, including NaN values (if any). The sort_index method is used to sort the value counts by index (i.e., in ascending order).\n",
    "\n",
    "Overall, the fill function provides a flexible and powerful way to fill missing values in a Pandas DataFrame column using several different methods, with the option to group by one or two columns for greater flexibility."
   ]
  },
  {
   "cell_type": "markdown",
   "metadata": {},
   "source": [
    "## <p style=\"background-color:#9d4f8c; font-family:newtimeroman; color:#FFF9ED; font-size:175%; text-align:center; border-radius:10px 10px;\">The Examination of Missing Values in the Columns</p>\n",
    "\n",
    "<a id=\"2\"></a>\n",
    "<a href=\"#toc\" class=\"btn btn-primary btn-sm\" role=\"button\" aria-pressed=\"true\" \n",
    "style=\"color:blue; background-color:#dfa8e4\" data-toggle=\"popover\">Content</a>\n",
    "\n",
    "### ⚠️ 🔥 SPECIAL NOTE:\n",
    "\n",
    "<div style=\"background-color: cyan; padding: 10px; font-size: 14px; font-weight: bold;\">\n",
    "    Before we start our analysis and move forward, it is useful to underline one point.<br>\n",
    "In this analysis, according to the <code>Domain Knowledge</code> obtained from internet, field, research on the subject at hand, and data itself, the <code>make_model</code> & <code>body_type</code> features will be referenced when filling in missing values, since these features are thought to have more or less influence on the formation of other features, either directly or indirectly.\n",
    "</div>\n",
    "\n",
    "So, at the begining we need to a close look at these features if they have missing values; if so, let us decide how to handle them:"
   ]
  },
  {
   "cell_type": "code",
   "execution_count": 19,
   "metadata": {},
   "outputs": [],
   "source": [
    "# pd.set_option('display.max_columns', None)\n",
    "# pd.set_option('display.max_rows', None)"
   ]
  },
  {
   "cell_type": "code",
   "execution_count": 20,
   "metadata": {},
   "outputs": [
    {
     "data": {
      "text/plain": [
       "Index(['make_model', 'make', 'location', 'price', 'body_type', 'type',\n",
       "       'seller', 'full_service_history'],\n",
       "      dtype='object')"
      ]
     },
     "execution_count": 20,
     "metadata": {},
     "output_type": "execute_result"
    }
   ],
   "source": [
    "df_notnull = df[df.columns[~df.isnull().any()]]\n",
    "df_notnull.columns"
   ]
  },
  {
   "cell_type": "code",
   "execution_count": 21,
   "metadata": {
    "scrolled": true
   },
   "outputs": [
    {
     "name": "stdout",
     "output_type": "stream",
     "text": [
      "COLUMN NAME    :  make_model\n",
      "--------------------------------\n",
      "per_of_nulls   :  % 0.0\n",
      "num_of_nulls   :  0\n",
      "num_of_uniques :  611\n",
      "--------------------------------\n",
      "Renault Megane     863\n",
      "SEAT Leon          787\n",
      "Volvo V40          740\n",
      "Dacia Sandero      730\n",
      "Hyundai i30        706\n",
      "                  ... \n",
      "Toyota GR86          1\n",
      "Toyota Tacoma        1\n",
      "Toyota Tundra        1\n",
      "Toyota 4-Runner      1\n",
      "Volvo 244            1\n",
      "Name: make_model, Length: 611, dtype: int64\n",
      "\n",
      "\n",
      "None\n",
      "\n",
      "COLUMN NAME    :  make\n",
      "--------------------------------\n",
      "per_of_nulls   :  % 0.0\n",
      "num_of_nulls   :  0\n",
      "num_of_uniques :  13\n",
      "--------------------------------\n",
      "Volvo            3659\n",
      "Mercedes-Benz    2398\n",
      "Opel             2385\n",
      "Peugeot          2360\n",
      "Renault          2351\n",
      "Fiat             2338\n",
      "Ford             2324\n",
      "Nissan           2064\n",
      "Toyota           2038\n",
      "Hyundai          1867\n",
      "SEAT             1743\n",
      "Skoda            1566\n",
      "Dacia            1537\n",
      "Name: make, dtype: int64\n",
      "\n",
      "\n",
      "None\n",
      "\n",
      "COLUMN NAME    :  location\n",
      "--------------------------------\n",
      "per_of_nulls   :  % 0.0\n",
      "num_of_nulls   :  0\n",
      "num_of_uniques :  8181\n",
      "--------------------------------\n",
      "Av. Laboral, 10,  28021 MADRID, ES                          306\n",
      "Luckenwalder Berg 5,  14913 Jüterbog, DE                    170\n",
      "Ctra. del Mig, 96,,  08097 L'Hospitalet de Llobregat, ES    146\n",
      "9 boulevard Jules Ferry,  75011 Paris, FR                   142\n",
      "Neuenhofstr. 77,  52078 Aachen, DE                          135\n",
      "                                                           ... \n",
      "2727CT ZOETERMEER, NL                                         1\n",
      "Rosendaalsestraat 437-439,  6824 CK ARNHEM, NL                1\n",
      "5751VH DEURNE, NL                                             1\n",
      "00148 roma, IT                                                1\n",
      "Sur rendez-vous,  5060 Sambreville, BE                        1\n",
      "Name: location, Length: 8181, dtype: int64\n",
      "\n",
      "\n",
      "None\n",
      "\n",
      "COLUMN NAME    :  price\n",
      "--------------------------------\n",
      "per_of_nulls   :  % 0.0\n",
      "num_of_nulls   :  0\n",
      "num_of_uniques :  5021\n",
      "--------------------------------\n",
      "14990.0    222\n",
      "12990.0    219\n",
      "16990.0    186\n",
      "19990.0    166\n",
      "9990.0     160\n",
      "          ... \n",
      "19112.0      1\n",
      "30465.0      1\n",
      "18461.0      1\n",
      "22649.0      1\n",
      "4440.0       1\n",
      "Name: price, Length: 5021, dtype: int64\n",
      "\n",
      "\n",
      "None\n",
      "\n",
      "COLUMN NAME    :  body_type\n",
      "--------------------------------\n",
      "per_of_nulls   :  % 0.0\n",
      "num_of_nulls   :  0\n",
      "num_of_uniques :  6\n",
      "--------------------------------\n",
      "Station wagon       5448\n",
      "Off-Road/Pick-up    5415\n",
      "Compact             5387\n",
      "Sedan               5043\n",
      "Coupe               4009\n",
      "Convertible         3328\n",
      "Name: body_type, dtype: int64\n",
      "\n",
      "\n",
      "None\n",
      "\n",
      "COLUMN NAME    :  type\n",
      "--------------------------------\n",
      "per_of_nulls   :  % 0.0\n",
      "num_of_nulls   :  0\n",
      "num_of_uniques :  4\n",
      "--------------------------------\n",
      "Used              25251\n",
      "Demonstration      1433\n",
      "Pre-registered     1377\n",
      "Employee's car      569\n",
      "Name: type, dtype: int64\n",
      "\n",
      "\n",
      "None\n",
      "\n",
      "COLUMN NAME    :  seller\n",
      "--------------------------------\n",
      "per_of_nulls   :  % 0.0\n",
      "num_of_nulls   :  0\n",
      "num_of_uniques :  2\n",
      "--------------------------------\n",
      "Dealer            26318\n",
      "Private seller     2312\n",
      "Name: seller, dtype: int64\n",
      "\n",
      "\n",
      "None\n",
      "\n",
      "COLUMN NAME    :  full_service_history\n",
      "--------------------------------\n",
      "per_of_nulls   :  % 0.0\n",
      "num_of_nulls   :  0\n",
      "num_of_uniques :  2\n",
      "--------------------------------\n",
      "No     16065\n",
      "Yes    12565\n",
      "Name: full_service_history, dtype: int64\n",
      "\n",
      "\n",
      "None\n",
      "\n"
     ]
    }
   ],
   "source": [
    "for col in df_notnull.columns:\n",
    "    print(first_looking(col))\n",
    "    print()"
   ]
  },
  {
   "cell_type": "markdown",
   "metadata": {},
   "source": [
    "<div style=\"background-color: #ffeeba; padding: 10px; font-size: 14px; font-weight: bold;\">\n",
    "    Among the features above, <code>make_model</code>,  <code>make</code>, <code>model</code> & sometimes <code>body_type</code> are the critical/crucial ones to impute the missing values. Therefore let's take a close look at them one by one:\n",
    "</div>"
   ]
  },
  {
   "cell_type": "markdown",
   "metadata": {},
   "source": [
    "## make_model, make, & model"
   ]
  },
  {
   "cell_type": "code",
   "execution_count": 22,
   "metadata": {},
   "outputs": [
    {
     "name": "stdout",
     "output_type": "stream",
     "text": [
      "COLUMN NAME    :  make_model\n",
      "--------------------------------\n",
      "per_of_nulls   :  % 0.0\n",
      "num_of_nulls   :  0\n",
      "num_of_uniques :  611\n",
      "--------------------------------\n",
      "Renault Megane     863\n",
      "SEAT Leon          787\n",
      "Volvo V40          740\n",
      "Dacia Sandero      730\n",
      "Hyundai i30        706\n",
      "                  ... \n",
      "Toyota GR86          1\n",
      "Toyota Tacoma        1\n",
      "Toyota Tundra        1\n",
      "Toyota 4-Runner      1\n",
      "Volvo 244            1\n",
      "Name: make_model, Length: 611, dtype: int64\n",
      "\n",
      "\n",
      "COLUMN NAME    :  make\n",
      "--------------------------------\n",
      "per_of_nulls   :  % 0.0\n",
      "num_of_nulls   :  0\n",
      "num_of_uniques :  13\n",
      "--------------------------------\n",
      "Volvo            3659\n",
      "Mercedes-Benz    2398\n",
      "Opel             2385\n",
      "Peugeot          2360\n",
      "Renault          2351\n",
      "Fiat             2338\n",
      "Ford             2324\n",
      "Nissan           2064\n",
      "Toyota           2038\n",
      "Hyundai          1867\n",
      "SEAT             1743\n",
      "Skoda            1566\n",
      "Dacia            1537\n",
      "Name: make, dtype: int64\n",
      "\n",
      "\n",
      "COLUMN NAME    :  model\n",
      "--------------------------------\n",
      "per_of_nulls   :  % 0.96\n",
      "num_of_nulls   :  276\n",
      "num_of_uniques :  593\n",
      "--------------------------------\n",
      "Megane        863\n",
      "Leon          787\n",
      "V40           740\n",
      "Sandero       730\n",
      "i30           706\n",
      "             ... \n",
      "GLA 35 AMG      1\n",
      "G 55 AMG        1\n",
      "Ariya           1\n",
      "105             1\n",
      "244             1\n",
      "Name: model, Length: 594, dtype: int64\n",
      "\n",
      "\n"
     ]
    }
   ],
   "source": [
    "# Let's explore basic information about \"make_model\", \"make\", \"model\"\n",
    "\n",
    "first_looking(\"make_model\", \"make\", \"model\")"
   ]
  },
  {
   "cell_type": "code",
   "execution_count": 23,
   "metadata": {},
   "outputs": [
    {
     "data": {
      "text/html": [
       "<div>\n",
       "<style scoped>\n",
       "    .dataframe tbody tr th:only-of-type {\n",
       "        vertical-align: middle;\n",
       "    }\n",
       "\n",
       "    .dataframe tbody tr th {\n",
       "        vertical-align: top;\n",
       "    }\n",
       "\n",
       "    .dataframe thead th {\n",
       "        text-align: right;\n",
       "    }\n",
       "</style>\n",
       "<table border=\"1\" class=\"dataframe\">\n",
       "  <thead>\n",
       "    <tr style=\"text-align: right;\">\n",
       "      <th></th>\n",
       "      <th>make_model</th>\n",
       "      <th>make</th>\n",
       "      <th>model</th>\n",
       "      <th>short_description</th>\n",
       "    </tr>\n",
       "  </thead>\n",
       "  <tbody>\n",
       "    <tr>\n",
       "      <th>23102</th>\n",
       "      <td>Ford Fiesta</td>\n",
       "      <td>Ford</td>\n",
       "      <td>Fiesta</td>\n",
       "      <td>ST-Line X MHEV</td>\n",
       "    </tr>\n",
       "    <tr>\n",
       "      <th>20134</th>\n",
       "      <td>Nissan Qashqai</td>\n",
       "      <td>Nissan</td>\n",
       "      <td>Qashqai</td>\n",
       "      <td>2.0 Connect Edition</td>\n",
       "    </tr>\n",
       "    <tr>\n",
       "      <th>3653</th>\n",
       "      <td>Opel Mokka</td>\n",
       "      <td>Opel</td>\n",
       "      <td>Mokka</td>\n",
       "      <td>1,4 Edition Klima, Fernlichtass., LM, PDC</td>\n",
       "    </tr>\n",
       "    <tr>\n",
       "      <th>10416</th>\n",
       "      <td>Fiat Dino</td>\n",
       "      <td>Fiat</td>\n",
       "      <td>Dino</td>\n",
       "      <td>Lightweight Hans Brösch</td>\n",
       "    </tr>\n",
       "    <tr>\n",
       "      <th>14443</th>\n",
       "      <td>Skoda Octavia</td>\n",
       "      <td>Skoda</td>\n",
       "      <td>Octavia</td>\n",
       "      <td>Combi 2.0 TDI 4x4 DSG Scout*LED*Navi*PDC*AHK*C...</td>\n",
       "    </tr>\n",
       "    <tr>\n",
       "      <th>27552</th>\n",
       "      <td>Volvo V60</td>\n",
       "      <td>Volvo</td>\n",
       "      <td>V60</td>\n",
       "      <td>Polestar   T8 Twin Engine AWD</td>\n",
       "    </tr>\n",
       "    <tr>\n",
       "      <th>3919</th>\n",
       "      <td>Opel Mokka X</td>\n",
       "      <td>Opel</td>\n",
       "      <td>Mokka X</td>\n",
       "      <td>Start Stop EU6d-T 1.4 Turbo 120 Jahre Sport-Ut...</td>\n",
       "    </tr>\n",
       "    <tr>\n",
       "      <th>26899</th>\n",
       "      <td>Volvo XC90</td>\n",
       "      <td>Volvo</td>\n",
       "      <td>XC90</td>\n",
       "      <td>D5 AWD*R-Design*VOLL*360°*LUFT*Mietkauf</td>\n",
       "    </tr>\n",
       "    <tr>\n",
       "      <th>10507</th>\n",
       "      <td>Fiat Coupe</td>\n",
       "      <td>Fiat</td>\n",
       "      <td>Coupe</td>\n",
       "      <td>1.8-16V</td>\n",
       "    </tr>\n",
       "    <tr>\n",
       "      <th>21646</th>\n",
       "      <td>Ford Mustang</td>\n",
       "      <td>Ford</td>\n",
       "      <td>Mustang</td>\n",
       "      <td>50 Jahre / Kompressor 720PS/500GT/ 3J.Garantie</td>\n",
       "    </tr>\n",
       "    <tr>\n",
       "      <th>19398</th>\n",
       "      <td>Nissan 370Z</td>\n",
       "      <td>Nissan</td>\n",
       "      <td>370Z</td>\n",
       "      <td>370 Z Pack</td>\n",
       "    </tr>\n",
       "    <tr>\n",
       "      <th>1966</th>\n",
       "      <td>Mercedes-Benz CLA 250</td>\n",
       "      <td>Mercedes-Benz</td>\n",
       "      <td>CLA 250</td>\n",
       "      <td>SB e AMG</td>\n",
       "    </tr>\n",
       "    <tr>\n",
       "      <th>22758</th>\n",
       "      <td>Ford Focus</td>\n",
       "      <td>Ford</td>\n",
       "      <td>Focus</td>\n",
       "      <td>RS 2.5 224 kW (305 PS), Schaltgetriebe, Fronta...</td>\n",
       "    </tr>\n",
       "    <tr>\n",
       "      <th>24762</th>\n",
       "      <td>Hyundai i20</td>\n",
       "      <td>Hyundai</td>\n",
       "      <td>i20</td>\n",
       "      <td>blue 1.2 YES! Pus-MAYEN</td>\n",
       "    </tr>\n",
       "    <tr>\n",
       "      <th>22372</th>\n",
       "      <td>Ford Focus</td>\n",
       "      <td>Ford</td>\n",
       "      <td>Focus</td>\n",
       "      <td>Turnier 2.0 TDCi SYNC Ed. (PPS+SHZ)</td>\n",
       "    </tr>\n",
       "    <tr>\n",
       "      <th>20071</th>\n",
       "      <td>Nissan Qashqai</td>\n",
       "      <td>Nissan</td>\n",
       "      <td>Qashqai</td>\n",
       "      <td>+2 2.0 VISIA 4X2</td>\n",
       "    </tr>\n",
       "    <tr>\n",
       "      <th>6823</th>\n",
       "      <td>Renault Clio</td>\n",
       "      <td>Renault</td>\n",
       "      <td>Clio</td>\n",
       "      <td>Zen TCe GPF 74 kW (100CV)</td>\n",
       "    </tr>\n",
       "    <tr>\n",
       "      <th>10662</th>\n",
       "      <td>Fiat 500L</td>\n",
       "      <td>Fiat</td>\n",
       "      <td>500L</td>\n",
       "      <td>NaN</td>\n",
       "    </tr>\n",
       "    <tr>\n",
       "      <th>10258</th>\n",
       "      <td>Fiat 500</td>\n",
       "      <td>Fiat</td>\n",
       "      <td>500</td>\n",
       "      <td>BEV 24KWH RED 95 2P</td>\n",
       "    </tr>\n",
       "    <tr>\n",
       "      <th>4028</th>\n",
       "      <td>Opel Insignia</td>\n",
       "      <td>Opel</td>\n",
       "      <td>Insignia</td>\n",
       "      <td>SpT BiTurbo Ultimate 4x4 OPC NAV+LED+SH</td>\n",
       "    </tr>\n",
       "  </tbody>\n",
       "</table>\n",
       "</div>"
      ],
      "text/plain": [
       "                  make_model           make     model  \\\n",
       "23102            Ford Fiesta           Ford    Fiesta   \n",
       "20134         Nissan Qashqai         Nissan   Qashqai   \n",
       "3653              Opel Mokka           Opel     Mokka   \n",
       "10416              Fiat Dino           Fiat      Dino   \n",
       "14443          Skoda Octavia          Skoda   Octavia   \n",
       "27552              Volvo V60          Volvo       V60   \n",
       "3919            Opel Mokka X           Opel   Mokka X   \n",
       "26899             Volvo XC90          Volvo      XC90   \n",
       "10507             Fiat Coupe           Fiat     Coupe   \n",
       "21646           Ford Mustang           Ford   Mustang   \n",
       "19398            Nissan 370Z         Nissan      370Z   \n",
       "1966   Mercedes-Benz CLA 250  Mercedes-Benz   CLA 250   \n",
       "22758             Ford Focus           Ford     Focus   \n",
       "24762            Hyundai i20        Hyundai       i20   \n",
       "22372             Ford Focus           Ford     Focus   \n",
       "20071         Nissan Qashqai         Nissan   Qashqai   \n",
       "6823            Renault Clio        Renault      Clio   \n",
       "10662              Fiat 500L           Fiat      500L   \n",
       "10258               Fiat 500           Fiat       500   \n",
       "4028           Opel Insignia           Opel  Insignia   \n",
       "\n",
       "                                       short_description  \n",
       "23102                                     ST-Line X MHEV  \n",
       "20134                                2.0 Connect Edition  \n",
       "3653           1,4 Edition Klima, Fernlichtass., LM, PDC  \n",
       "10416                            Lightweight Hans Brösch  \n",
       "14443  Combi 2.0 TDI 4x4 DSG Scout*LED*Navi*PDC*AHK*C...  \n",
       "27552                      Polestar   T8 Twin Engine AWD  \n",
       "3919   Start Stop EU6d-T 1.4 Turbo 120 Jahre Sport-Ut...  \n",
       "26899            D5 AWD*R-Design*VOLL*360°*LUFT*Mietkauf  \n",
       "10507                                            1.8-16V  \n",
       "21646     50 Jahre / Kompressor 720PS/500GT/ 3J.Garantie  \n",
       "19398                                         370 Z Pack  \n",
       "1966                                            SB e AMG  \n",
       "22758  RS 2.5 224 kW (305 PS), Schaltgetriebe, Fronta...  \n",
       "24762                            blue 1.2 YES! Pus-MAYEN  \n",
       "22372                Turnier 2.0 TDCi SYNC Ed. (PPS+SHZ)  \n",
       "20071                                   +2 2.0 VISIA 4X2  \n",
       "6823                           Zen TCe GPF 74 kW (100CV)  \n",
       "10662                                                NaN  \n",
       "10258                                BEV 24KWH RED 95 2P  \n",
       "4028             SpT BiTurbo Ultimate 4x4 OPC NAV+LED+SH  "
      ]
     },
     "execution_count": 23,
     "metadata": {},
     "output_type": "execute_result"
    }
   ],
   "source": [
    "df[['make_model', 'make', 'model', \"short_description\"]].sample(20)"
   ]
  },
  {
   "cell_type": "markdown",
   "metadata": {},
   "source": [
    "<img src=https://i.ibb.co/VHd4whm/empty-cells.png width=\"350\" height=\"100\">"
   ]
  },
  {
   "cell_type": "code",
   "execution_count": 24,
   "metadata": {},
   "outputs": [
    {
     "data": {
      "text/plain": [
       "False    28630\n",
       "Name: model, dtype: int64"
      ]
     },
     "execution_count": 24,
     "metadata": {},
     "output_type": "execute_result"
    }
   ],
   "source": [
    "df['model'].str.contains(r'^\\s*$', na=False).value_counts()\n",
    "\n",
    "# (df['model'] == '').value_counts()"
   ]
  },
  {
   "cell_type": "markdown",
   "metadata": {},
   "source": [
    "The regular expression pattern <b><code>r'^\\s*$'</code></b> matches a string that consists of zero or more whitespace characters.\n",
    "\n",
    "  - ``^`` asserts the start of the string.\n",
    "  - ``\\s`` matches any whitespace character, such as space, tab, or newline.\n",
    "  - ``*`` matches zero or more occurrences of the preceding pattern, in this case, zero or more whitespace characters.\n",
    "  - ``$`` asserts the end of the string.\n",
    "\n",
    "So, the pattern <b><code>r'^\\s*$'</code></b> will match a string if it contains only whitespace characters or is completely empty, such as \"\", \" \", \" \", \"\\t\\t\", and/or \"\\n\""
   ]
  },
  {
   "cell_type": "code",
   "execution_count": 22,
   "metadata": {},
   "outputs": [
    {
     "data": {
      "text/plain": [
       "276"
      ]
     },
     "execution_count": 22,
     "metadata": {},
     "output_type": "execute_result"
    }
   ],
   "source": [
    "df.model.isnull().sum()"
   ]
  },
  {
   "cell_type": "code",
   "execution_count": null,
   "metadata": {},
   "outputs": [],
   "source": [
    "# df[(df[\"make\"] == \"Mercedes-Benz\")&(~df['model'].isna())][['make_model', 'make', 'model']]\n",
    "\n",
    "# df[df['model'].str.contains(r'^\\s*$', na=False)][['make_model', 'make', 'model']]"
   ]
  },
  {
   "cell_type": "code",
   "execution_count": 25,
   "metadata": {},
   "outputs": [
    {
     "data": {
      "text/html": [
       "<div>\n",
       "<style scoped>\n",
       "    .dataframe tbody tr th:only-of-type {\n",
       "        vertical-align: middle;\n",
       "    }\n",
       "\n",
       "    .dataframe tbody tr th {\n",
       "        vertical-align: top;\n",
       "    }\n",
       "\n",
       "    .dataframe thead th {\n",
       "        text-align: right;\n",
       "    }\n",
       "</style>\n",
       "<table border=\"1\" class=\"dataframe\">\n",
       "  <thead>\n",
       "    <tr style=\"text-align: right;\">\n",
       "      <th></th>\n",
       "      <th>make_model</th>\n",
       "      <th>make</th>\n",
       "      <th>model</th>\n",
       "    </tr>\n",
       "  </thead>\n",
       "  <tbody>\n",
       "    <tr>\n",
       "      <th>162</th>\n",
       "      <td>Mercedes-Benz</td>\n",
       "      <td>Mercedes-Benz</td>\n",
       "      <td>NaN</td>\n",
       "    </tr>\n",
       "    <tr>\n",
       "      <th>184</th>\n",
       "      <td>Mercedes-Benz</td>\n",
       "      <td>Mercedes-Benz</td>\n",
       "      <td>NaN</td>\n",
       "    </tr>\n",
       "    <tr>\n",
       "      <th>186</th>\n",
       "      <td>Mercedes-Benz</td>\n",
       "      <td>Mercedes-Benz</td>\n",
       "      <td>NaN</td>\n",
       "    </tr>\n",
       "    <tr>\n",
       "      <th>211</th>\n",
       "      <td>Mercedes-Benz</td>\n",
       "      <td>Mercedes-Benz</td>\n",
       "      <td>NaN</td>\n",
       "    </tr>\n",
       "    <tr>\n",
       "      <th>213</th>\n",
       "      <td>Mercedes-Benz</td>\n",
       "      <td>Mercedes-Benz</td>\n",
       "      <td>NaN</td>\n",
       "    </tr>\n",
       "    <tr>\n",
       "      <th>...</th>\n",
       "      <td>...</td>\n",
       "      <td>...</td>\n",
       "      <td>...</td>\n",
       "    </tr>\n",
       "    <tr>\n",
       "      <th>26851</th>\n",
       "      <td>Volvo</td>\n",
       "      <td>Volvo</td>\n",
       "      <td>NaN</td>\n",
       "    </tr>\n",
       "    <tr>\n",
       "      <th>26893</th>\n",
       "      <td>Volvo</td>\n",
       "      <td>Volvo</td>\n",
       "      <td>NaN</td>\n",
       "    </tr>\n",
       "    <tr>\n",
       "      <th>27224</th>\n",
       "      <td>Volvo</td>\n",
       "      <td>Volvo</td>\n",
       "      <td>NaN</td>\n",
       "    </tr>\n",
       "    <tr>\n",
       "      <th>27240</th>\n",
       "      <td>Volvo</td>\n",
       "      <td>Volvo</td>\n",
       "      <td>NaN</td>\n",
       "    </tr>\n",
       "    <tr>\n",
       "      <th>27281</th>\n",
       "      <td>Volvo</td>\n",
       "      <td>Volvo</td>\n",
       "      <td>NaN</td>\n",
       "    </tr>\n",
       "  </tbody>\n",
       "</table>\n",
       "<p>276 rows × 3 columns</p>\n",
       "</div>"
      ],
      "text/plain": [
       "           make_model           make model\n",
       "162    Mercedes-Benz   Mercedes-Benz   NaN\n",
       "184    Mercedes-Benz   Mercedes-Benz   NaN\n",
       "186    Mercedes-Benz   Mercedes-Benz   NaN\n",
       "211    Mercedes-Benz   Mercedes-Benz   NaN\n",
       "213    Mercedes-Benz   Mercedes-Benz   NaN\n",
       "...               ...            ...   ...\n",
       "26851          Volvo           Volvo   NaN\n",
       "26893          Volvo           Volvo   NaN\n",
       "27224          Volvo           Volvo   NaN\n",
       "27240          Volvo           Volvo   NaN\n",
       "27281          Volvo           Volvo   NaN\n",
       "\n",
       "[276 rows x 3 columns]"
      ]
     },
     "execution_count": 25,
     "metadata": {},
     "output_type": "execute_result"
    }
   ],
   "source": [
    "df[\"model\"] = df[\"model\"].replace(r'^\\s*$', np.nan, regex=True)\n",
    "\n",
    "df[df[\"model\"].isna()][['make_model', 'make', 'model']]"
   ]
  },
  {
   "cell_type": "code",
   "execution_count": 26,
   "metadata": {},
   "outputs": [
    {
     "data": {
      "text/plain": [
       "make_model                       Mercedes-Benz \n",
       "short_description    Classe A 1.9 116ch A 180 d\n",
       "make                              Mercedes-Benz\n",
       "model                                       NaN\n",
       "Name: 162, dtype: object"
      ]
     },
     "execution_count": 26,
     "metadata": {},
     "output_type": "execute_result"
    }
   ],
   "source": [
    "# pd.set_option('display.max_colwidth', None)\n",
    "# pd.reset_option('display.max_colwidth')\n",
    "df.iloc[162][:4]"
   ]
  },
  {
   "cell_type": "markdown",
   "metadata": {},
   "source": [
    "### Defining car model names for extraction from ``short_description``:"
   ]
  },
  {
   "cell_type": "code",
   "execution_count": 38,
   "metadata": {},
   "outputs": [
    {
     "data": {
      "text/html": [
       "<div>\n",
       "<style scoped>\n",
       "    .dataframe tbody tr th:only-of-type {\n",
       "        vertical-align: middle;\n",
       "    }\n",
       "\n",
       "    .dataframe tbody tr th {\n",
       "        vertical-align: top;\n",
       "    }\n",
       "\n",
       "    .dataframe thead th {\n",
       "        text-align: right;\n",
       "    }\n",
       "</style>\n",
       "<table border=\"1\" class=\"dataframe\">\n",
       "  <thead>\n",
       "    <tr style=\"text-align: right;\">\n",
       "      <th></th>\n",
       "      <th>make_model</th>\n",
       "      <th>make</th>\n",
       "      <th>model</th>\n",
       "      <th>extracted_models</th>\n",
       "      <th>short_description</th>\n",
       "    </tr>\n",
       "  </thead>\n",
       "  <tbody>\n",
       "    <tr>\n",
       "      <th>162</th>\n",
       "      <td>Mercedes-Benz</td>\n",
       "      <td>Mercedes-Benz</td>\n",
       "      <td>NaN</td>\n",
       "      <td>A 180</td>\n",
       "      <td>Classe A 1.9 116ch A 180 d</td>\n",
       "    </tr>\n",
       "    <tr>\n",
       "      <th>184</th>\n",
       "      <td>Mercedes-Benz</td>\n",
       "      <td>Mercedes-Benz</td>\n",
       "      <td>NaN</td>\n",
       "      <td>A 180</td>\n",
       "      <td>Classe A 1.5 109ch A 180 CDI BlueEfficiency</td>\n",
       "    </tr>\n",
       "    <tr>\n",
       "      <th>186</th>\n",
       "      <td>Mercedes-Benz</td>\n",
       "      <td>Mercedes-Benz</td>\n",
       "      <td>NaN</td>\n",
       "      <td>A 180</td>\n",
       "      <td>Classe A 1.5 116ch A 180 d</td>\n",
       "    </tr>\n",
       "    <tr>\n",
       "      <th>211</th>\n",
       "      <td>Mercedes-Benz</td>\n",
       "      <td>Mercedes-Benz</td>\n",
       "      <td>NaN</td>\n",
       "      <td>A 160</td>\n",
       "      <td>Classe A 1.5 90ch A 160 CDI / d</td>\n",
       "    </tr>\n",
       "    <tr>\n",
       "      <th>213</th>\n",
       "      <td>Mercedes-Benz</td>\n",
       "      <td>Mercedes-Benz</td>\n",
       "      <td>NaN</td>\n",
       "      <td>A 180</td>\n",
       "      <td>Classe A 1.5 116ch A 180 d</td>\n",
       "    </tr>\n",
       "    <tr>\n",
       "      <th>...</th>\n",
       "      <td>...</td>\n",
       "      <td>...</td>\n",
       "      <td>...</td>\n",
       "      <td>...</td>\n",
       "      <td>...</td>\n",
       "    </tr>\n",
       "    <tr>\n",
       "      <th>26851</th>\n",
       "      <td>Volvo</td>\n",
       "      <td>Volvo</td>\n",
       "      <td>NaN</td>\n",
       "      <td>1st Edition AWD</td>\n",
       "      <td>1st Edition AWD Recharge Pure Electric Twin</td>\n",
       "    </tr>\n",
       "    <tr>\n",
       "      <th>26893</th>\n",
       "      <td>Volvo</td>\n",
       "      <td>Volvo</td>\n",
       "      <td>NaN</td>\n",
       "      <td>1st Edition AWD</td>\n",
       "      <td>1st Edition AWD Recharge Pure Electric Twin</td>\n",
       "    </tr>\n",
       "    <tr>\n",
       "      <th>27224</th>\n",
       "      <td>Volvo</td>\n",
       "      <td>Volvo</td>\n",
       "      <td>NaN</td>\n",
       "      <td>Ultimate AWD</td>\n",
       "      <td>Ultimate AWD Recharge Pure Electric Twin getön...</td>\n",
       "    </tr>\n",
       "    <tr>\n",
       "      <th>27240</th>\n",
       "      <td>Volvo</td>\n",
       "      <td>Volvo</td>\n",
       "      <td>NaN</td>\n",
       "      <td>1st Edition AWD</td>\n",
       "      <td>1st Edition AWD Recharge Pure Electric Twin</td>\n",
       "    </tr>\n",
       "    <tr>\n",
       "      <th>27281</th>\n",
       "      <td>Volvo</td>\n",
       "      <td>Volvo</td>\n",
       "      <td>NaN</td>\n",
       "      <td>1st Edition AWD</td>\n",
       "      <td>1st Edition AWD Recharge Pure Electric Twin</td>\n",
       "    </tr>\n",
       "  </tbody>\n",
       "</table>\n",
       "<p>276 rows × 5 columns</p>\n",
       "</div>"
      ],
      "text/plain": [
       "           make_model           make model extracted_models  \\\n",
       "162    Mercedes-Benz   Mercedes-Benz   NaN            A 180   \n",
       "184    Mercedes-Benz   Mercedes-Benz   NaN            A 180   \n",
       "186    Mercedes-Benz   Mercedes-Benz   NaN            A 180   \n",
       "211    Mercedes-Benz   Mercedes-Benz   NaN            A 160   \n",
       "213    Mercedes-Benz   Mercedes-Benz   NaN            A 180   \n",
       "...               ...            ...   ...              ...   \n",
       "26851          Volvo           Volvo   NaN  1st Edition AWD   \n",
       "26893          Volvo           Volvo   NaN  1st Edition AWD   \n",
       "27224          Volvo           Volvo   NaN     Ultimate AWD   \n",
       "27240          Volvo           Volvo   NaN  1st Edition AWD   \n",
       "27281          Volvo           Volvo   NaN  1st Edition AWD   \n",
       "\n",
       "                                       short_description  \n",
       "162                           Classe A 1.9 116ch A 180 d  \n",
       "184          Classe A 1.5 109ch A 180 CDI BlueEfficiency  \n",
       "186                           Classe A 1.5 116ch A 180 d  \n",
       "211                      Classe A 1.5 90ch A 160 CDI / d  \n",
       "213                           Classe A 1.5 116ch A 180 d  \n",
       "...                                                  ...  \n",
       "26851        1st Edition AWD Recharge Pure Electric Twin  \n",
       "26893        1st Edition AWD Recharge Pure Electric Twin  \n",
       "27224  Ultimate AWD Recharge Pure Electric Twin getön...  \n",
       "27240        1st Edition AWD Recharge Pure Electric Twin  \n",
       "27281        1st Edition AWD Recharge Pure Electric Twin  \n",
       "\n",
       "[276 rows x 5 columns]"
      ]
     },
     "execution_count": 38,
     "metadata": {},
     "output_type": "execute_result"
    }
   ],
   "source": [
    "# Let's define models and extract them from \"short_description\" feature\n",
    "model_pattern = '(Mitecki)|(BJ40)|(Business)|(1300)|(TURBO)|(bj 42)|(4cv)|(B 220)|(E 63)|(S 580e)|(SL 43)|(EDITION 1)|(A 160)|(GLE 63)|(C 63)|(C 300)|(C 180)|(A 200)|(C 200)|(A 180)|(A 180)|(Clase GLK)|(Clase SL)|(ANDERE)|(220)|(E 500)|(GLA 250)|(4Matic)|(C 43)|(200CDI)|(AMG GT)|(AMG Autom)|(AMG-Night)|(4M)|(2.0 CDTi)|(1.4 Turbo)|(1.4 S/S)|(1.4 T)|(Cabrio 1.4)|(Cabrio 1.6)|(Cabrio 2.0)|(Olympia)|(Astra)|(Adam)|(i30)|(Twizy)|(Alpine)|(Zen)|(Spider)|(Intens)|(COUPE)|(Cabriolet)|(124 Spider)|(Qubo)|(Ultimate AWD)|(1st Edition AWD)|(240 Z)|(Buckel)|(CRDI)|(RS200)|(SPYDER)|(GR Supra)|(2,0 T-Bar)|(1.8)|(Mach E)|(370 Z)|(Zagato)|(Tornado)|(Essential)|(1100D)|(Topolino Lotus)|(850)|(Neuer 500)|(124 Spyder)|(R.S. Line)|(Blue dCi)|(1500)|(Coupè)|(201)|(Berline|(Berlina)|(403)|(600)|(850)|(124)|(128 sport)|(Cupra)|(COMFORT TCe)|(Abarth)|(Coupé)|(X-MODE)|(Family Active)|(LJ70)|(Auris Touring Sports)|(RAV)|(Cabrio)|(T-Bird)|(MUSTANG)|(RAPTOR)|(GALAXIE SUNLINER)|(HOT ROD)|(Spaceback)|(Datsun)|(Skyline)|(Roadster)|(1.0 T-GDI)|(Mild-Hybrid)|(BAYON)|(I30N)|(P 1800 E)|(P1800E)|(P1800)|(2.4 Momentum)|(PV544 Sport)|(444))'\n",
    "\n",
    "# Let's create a new feature named \"extracted_models\" using model_pattern\n",
    "df[\"extracted_models\"] = (df[\"short_description\"].str.extract(model_pattern,flags=re.IGNORECASE)).bfill(axis=1)[0]\n",
    "\n",
    "# Flags from the re module, e.g. re.IGNORECASE, that modify regular expression matching for things like case, spaces, etc.\n",
    "\n",
    "# let's explore which \"make_model\", \"make\", and \"model\" have NaN values\n",
    "df[df[\"model\"].isna()][['make_model', 'make', 'model', \"extracted_models\", \"short_description\"]]"
   ]
  },
  {
   "cell_type": "code",
   "execution_count": 39,
   "metadata": {},
   "outputs": [
    {
     "data": {
      "text/plain": [
       "276"
      ]
     },
     "execution_count": 39,
     "metadata": {},
     "output_type": "execute_result"
    }
   ],
   "source": [
    "# The number of NaN values BEFORE\n",
    "df[\"model\"].isna().sum()\n",
    "\n",
    "# Before filling missing values in \"model\" feature, we have 276."
   ]
  },
  {
   "cell_type": "code",
   "execution_count": 40,
   "metadata": {},
   "outputs": [
    {
     "data": {
      "text/plain": [
       "6"
      ]
     },
     "execution_count": 40,
     "metadata": {},
     "output_type": "execute_result"
    }
   ],
   "source": [
    "# The number of NaN values AFTER\n",
    "df['model'].fillna(df['extracted_models']).isnull().sum()\n",
    "\n",
    "# When filling missing values in \"model\" feature with defined models we will have still 6 NaN values. We had 276 before.\n",
    "# We have NOT filled ALL NaN values in \"model\" feature yet"
   ]
  },
  {
   "cell_type": "code",
   "execution_count": 41,
   "metadata": {},
   "outputs": [
    {
     "data": {
      "text/html": [
       "<div>\n",
       "<style scoped>\n",
       "    .dataframe tbody tr th:only-of-type {\n",
       "        vertical-align: middle;\n",
       "    }\n",
       "\n",
       "    .dataframe tbody tr th {\n",
       "        vertical-align: top;\n",
       "    }\n",
       "\n",
       "    .dataframe thead th {\n",
       "        text-align: right;\n",
       "    }\n",
       "</style>\n",
       "<table border=\"1\" class=\"dataframe\">\n",
       "  <thead>\n",
       "    <tr style=\"text-align: right;\">\n",
       "      <th></th>\n",
       "      <th>make_model</th>\n",
       "      <th>make</th>\n",
       "      <th>model</th>\n",
       "      <th>extracted_models</th>\n",
       "      <th>short_description</th>\n",
       "    </tr>\n",
       "  </thead>\n",
       "  <tbody>\n",
       "    <tr>\n",
       "      <th>0</th>\n",
       "      <td>Mercedes-Benz A 160</td>\n",
       "      <td>Mercedes-Benz</td>\n",
       "      <td>A 160</td>\n",
       "      <td>NaN</td>\n",
       "      <td>CDi</td>\n",
       "    </tr>\n",
       "    <tr>\n",
       "      <th>1</th>\n",
       "      <td>Mercedes-Benz EQE 350</td>\n",
       "      <td>Mercedes-Benz</td>\n",
       "      <td>EQE 350</td>\n",
       "      <td>NaN</td>\n",
       "      <td>350+</td>\n",
       "    </tr>\n",
       "    <tr>\n",
       "      <th>2</th>\n",
       "      <td>Mercedes-Benz A 45 AMG</td>\n",
       "      <td>Mercedes-Benz</td>\n",
       "      <td>A 45 AMG</td>\n",
       "      <td>4Matic</td>\n",
       "      <td>S 4Matic+ 8G-DCT</td>\n",
       "    </tr>\n",
       "    <tr>\n",
       "      <th>3</th>\n",
       "      <td>Mercedes-Benz A 35 AMG</td>\n",
       "      <td>Mercedes-Benz</td>\n",
       "      <td>A 35 AMG</td>\n",
       "      <td>4Matic</td>\n",
       "      <td>4Matic+ 7G-DCT</td>\n",
       "    </tr>\n",
       "    <tr>\n",
       "      <th>4</th>\n",
       "      <td>Mercedes-Benz A 45 AMG</td>\n",
       "      <td>Mercedes-Benz</td>\n",
       "      <td>A 45 AMG</td>\n",
       "      <td>200CDI</td>\n",
       "      <td>200CDI BE Line 4M 7G-DCT</td>\n",
       "    </tr>\n",
       "    <tr>\n",
       "      <th>...</th>\n",
       "      <td>...</td>\n",
       "      <td>...</td>\n",
       "      <td>...</td>\n",
       "      <td>...</td>\n",
       "      <td>...</td>\n",
       "    </tr>\n",
       "    <tr>\n",
       "      <th>28625</th>\n",
       "      <td>Volvo S90</td>\n",
       "      <td>Volvo</td>\n",
       "      <td>S90</td>\n",
       "      <td>Business</td>\n",
       "      <td>T8 Twin Business Plus AWD Aut.</td>\n",
       "    </tr>\n",
       "    <tr>\n",
       "      <th>28626</th>\n",
       "      <td>Volvo S40</td>\n",
       "      <td>Volvo</td>\n",
       "      <td>S40</td>\n",
       "      <td>NaN</td>\n",
       "      <td>2.4i Momentum/ Airco/ NAP/ APK/ Elek. Ramen</td>\n",
       "    </tr>\n",
       "    <tr>\n",
       "      <th>28627</th>\n",
       "      <td>Volvo C30</td>\n",
       "      <td>Volvo</td>\n",
       "      <td>C30</td>\n",
       "      <td>NaN</td>\n",
       "      <td>1.6 D DRIVe Start/Stop R-design</td>\n",
       "    </tr>\n",
       "    <tr>\n",
       "      <th>28628</th>\n",
       "      <td>Volvo S90</td>\n",
       "      <td>Volvo</td>\n",
       "      <td>S90</td>\n",
       "      <td>BUSINESS</td>\n",
       "      <td>T5 AUT(8) MOMENTUM BUSINESS SCHUIFDAK 360GR CA...</td>\n",
       "    </tr>\n",
       "    <tr>\n",
       "      <th>28629</th>\n",
       "      <td>Volvo S80</td>\n",
       "      <td>Volvo</td>\n",
       "      <td>S80</td>\n",
       "      <td>NaN</td>\n",
       "      <td>2.9 Executive G. NETTE AUTO! LEER! NAVI! CRUIS...</td>\n",
       "    </tr>\n",
       "  </tbody>\n",
       "</table>\n",
       "<p>28630 rows × 5 columns</p>\n",
       "</div>"
      ],
      "text/plain": [
       "                   make_model           make     model extracted_models  \\\n",
       "0         Mercedes-Benz A 160  Mercedes-Benz     A 160              NaN   \n",
       "1       Mercedes-Benz EQE 350  Mercedes-Benz   EQE 350              NaN   \n",
       "2      Mercedes-Benz A 45 AMG  Mercedes-Benz  A 45 AMG           4Matic   \n",
       "3      Mercedes-Benz A 35 AMG  Mercedes-Benz  A 35 AMG           4Matic   \n",
       "4      Mercedes-Benz A 45 AMG  Mercedes-Benz  A 45 AMG           200CDI   \n",
       "...                       ...            ...       ...              ...   \n",
       "28625               Volvo S90          Volvo       S90         Business   \n",
       "28626               Volvo S40          Volvo       S40              NaN   \n",
       "28627               Volvo C30          Volvo       C30              NaN   \n",
       "28628               Volvo S90          Volvo       S90         BUSINESS   \n",
       "28629               Volvo S80          Volvo       S80              NaN   \n",
       "\n",
       "                                       short_description  \n",
       "0                                                    CDi  \n",
       "1                                                   350+  \n",
       "2                                       S 4Matic+ 8G-DCT  \n",
       "3                                         4Matic+ 7G-DCT  \n",
       "4                               200CDI BE Line 4M 7G-DCT  \n",
       "...                                                  ...  \n",
       "28625                     T8 Twin Business Plus AWD Aut.  \n",
       "28626        2.4i Momentum/ Airco/ NAP/ APK/ Elek. Ramen  \n",
       "28627                    1.6 D DRIVe Start/Stop R-design  \n",
       "28628  T5 AUT(8) MOMENTUM BUSINESS SCHUIFDAK 360GR CA...  \n",
       "28629  2.9 Executive G. NETTE AUTO! LEER! NAVI! CRUIS...  \n",
       "\n",
       "[28630 rows x 5 columns]"
      ]
     },
     "execution_count": 41,
     "metadata": {},
     "output_type": "execute_result"
    }
   ],
   "source": [
    "df[['make_model', 'make', 'model', \"extracted_models\", \"short_description\"]]"
   ]
  },
  {
   "cell_type": "code",
   "execution_count": 42,
   "metadata": {},
   "outputs": [
    {
     "data": {
      "text/html": [
       "<div>\n",
       "<style scoped>\n",
       "    .dataframe tbody tr th:only-of-type {\n",
       "        vertical-align: middle;\n",
       "    }\n",
       "\n",
       "    .dataframe tbody tr th {\n",
       "        vertical-align: top;\n",
       "    }\n",
       "\n",
       "    .dataframe thead th {\n",
       "        text-align: right;\n",
       "    }\n",
       "</style>\n",
       "<table border=\"1\" class=\"dataframe\">\n",
       "  <thead>\n",
       "    <tr style=\"text-align: right;\">\n",
       "      <th></th>\n",
       "      <th>make_model</th>\n",
       "      <th>make</th>\n",
       "      <th>model</th>\n",
       "      <th>extracted_models</th>\n",
       "      <th>short_description</th>\n",
       "    </tr>\n",
       "  </thead>\n",
       "  <tbody>\n",
       "    <tr>\n",
       "      <th>5599</th>\n",
       "      <td>Renault</td>\n",
       "      <td>Renault</td>\n",
       "      <td>NaN</td>\n",
       "      <td>NaN</td>\n",
       "      <td>III 2.0 16V 265 S&amp;S RS</td>\n",
       "    </tr>\n",
       "    <tr>\n",
       "      <th>7778</th>\n",
       "      <td>Peugeot</td>\n",
       "      <td>Peugeot</td>\n",
       "      <td>NaN</td>\n",
       "      <td>NaN</td>\n",
       "      <td>&lt;NULL</td>\n",
       "    </tr>\n",
       "    <tr>\n",
       "      <th>17160</th>\n",
       "      <td>Toyota</td>\n",
       "      <td>Toyota</td>\n",
       "      <td>NaN</td>\n",
       "      <td>NaN</td>\n",
       "      <td>140 VVT-i SMT bva</td>\n",
       "    </tr>\n",
       "    <tr>\n",
       "      <th>19285</th>\n",
       "      <td>Nissan</td>\n",
       "      <td>Nissan</td>\n",
       "      <td>NaN</td>\n",
       "      <td>NaN</td>\n",
       "      <td>NaN</td>\n",
       "    </tr>\n",
       "    <tr>\n",
       "      <th>21365</th>\n",
       "      <td>Ford</td>\n",
       "      <td>Ford</td>\n",
       "      <td>NaN</td>\n",
       "      <td>NaN</td>\n",
       "      <td>NaN</td>\n",
       "    </tr>\n",
       "    <tr>\n",
       "      <th>21385</th>\n",
       "      <td>Ford</td>\n",
       "      <td>Ford</td>\n",
       "      <td>NaN</td>\n",
       "      <td>NaN</td>\n",
       "      <td>-</td>\n",
       "    </tr>\n",
       "  </tbody>\n",
       "</table>\n",
       "</div>"
      ],
      "text/plain": [
       "      make_model     make model extracted_models       short_description\n",
       "5599    Renault   Renault   NaN              NaN  III 2.0 16V 265 S&S RS\n",
       "7778    Peugeot   Peugeot   NaN              NaN                   <NULL\n",
       "17160    Toyota    Toyota   NaN              NaN       140 VVT-i SMT bva\n",
       "19285    Nissan    Nissan   NaN              NaN                     NaN\n",
       "21365      Ford      Ford   NaN              NaN                     NaN\n",
       "21385      Ford      Ford   NaN              NaN                       -"
      ]
     },
     "execution_count": 42,
     "metadata": {},
     "output_type": "execute_result"
    }
   ],
   "source": [
    "# Let's explore the NaN values in both \"model\" and \"extracted_models\"\n",
    "\n",
    "df[(df[\"model\"].isna()) & (df[\"extracted_models\"].isna())][['make_model', 'make', 'model', \"extracted_models\", \"short_description\"]]"
   ]
  },
  {
   "cell_type": "code",
   "execution_count": 43,
   "metadata": {
    "scrolled": true
   },
   "outputs": [
    {
     "data": {
      "text/plain": [
       "Int64Index([  162,   184,   186,   211,   213,   226,   319,   427,   442,\n",
       "              471,\n",
       "            ...\n",
       "            26614, 26652, 26698, 26713, 26835, 26851, 26893, 27224, 27240,\n",
       "            27281],\n",
       "           dtype='int64', length=276)"
      ]
     },
     "metadata": {},
     "output_type": "display_data"
    },
    {
     "data": {
      "text/html": [
       "<div>\n",
       "<style scoped>\n",
       "    .dataframe tbody tr th:only-of-type {\n",
       "        vertical-align: middle;\n",
       "    }\n",
       "\n",
       "    .dataframe tbody tr th {\n",
       "        vertical-align: top;\n",
       "    }\n",
       "\n",
       "    .dataframe thead th {\n",
       "        text-align: right;\n",
       "    }\n",
       "</style>\n",
       "<table border=\"1\" class=\"dataframe\">\n",
       "  <thead>\n",
       "    <tr style=\"text-align: right;\">\n",
       "      <th></th>\n",
       "      <th>make_model</th>\n",
       "      <th>make</th>\n",
       "      <th>model</th>\n",
       "      <th>extracted_models</th>\n",
       "      <th>short_description</th>\n",
       "    </tr>\n",
       "  </thead>\n",
       "  <tbody>\n",
       "    <tr>\n",
       "      <th>162</th>\n",
       "      <td>Mercedes-Benz</td>\n",
       "      <td>Mercedes-Benz</td>\n",
       "      <td>NaN</td>\n",
       "      <td>A 180</td>\n",
       "      <td>Classe A 1.9 116ch A 180 d</td>\n",
       "    </tr>\n",
       "    <tr>\n",
       "      <th>184</th>\n",
       "      <td>Mercedes-Benz</td>\n",
       "      <td>Mercedes-Benz</td>\n",
       "      <td>NaN</td>\n",
       "      <td>A 180</td>\n",
       "      <td>Classe A 1.5 109ch A 180 CDI BlueEfficiency</td>\n",
       "    </tr>\n",
       "    <tr>\n",
       "      <th>186</th>\n",
       "      <td>Mercedes-Benz</td>\n",
       "      <td>Mercedes-Benz</td>\n",
       "      <td>NaN</td>\n",
       "      <td>A 180</td>\n",
       "      <td>Classe A 1.5 116ch A 180 d</td>\n",
       "    </tr>\n",
       "    <tr>\n",
       "      <th>211</th>\n",
       "      <td>Mercedes-Benz</td>\n",
       "      <td>Mercedes-Benz</td>\n",
       "      <td>NaN</td>\n",
       "      <td>A 160</td>\n",
       "      <td>Classe A 1.5 90ch A 160 CDI / d</td>\n",
       "    </tr>\n",
       "    <tr>\n",
       "      <th>213</th>\n",
       "      <td>Mercedes-Benz</td>\n",
       "      <td>Mercedes-Benz</td>\n",
       "      <td>NaN</td>\n",
       "      <td>A 180</td>\n",
       "      <td>Classe A 1.5 116ch A 180 d</td>\n",
       "    </tr>\n",
       "  </tbody>\n",
       "</table>\n",
       "</div>"
      ],
      "text/plain": [
       "         make_model           make model extracted_models  \\\n",
       "162  Mercedes-Benz   Mercedes-Benz   NaN            A 180   \n",
       "184  Mercedes-Benz   Mercedes-Benz   NaN            A 180   \n",
       "186  Mercedes-Benz   Mercedes-Benz   NaN            A 180   \n",
       "211  Mercedes-Benz   Mercedes-Benz   NaN            A 160   \n",
       "213  Mercedes-Benz   Mercedes-Benz   NaN            A 180   \n",
       "\n",
       "                               short_description  \n",
       "162                   Classe A 1.9 116ch A 180 d  \n",
       "184  Classe A 1.5 109ch A 180 CDI BlueEfficiency  \n",
       "186                   Classe A 1.5 116ch A 180 d  \n",
       "211              Classe A 1.5 90ch A 160 CDI / d  \n",
       "213                   Classe A 1.5 116ch A 180 d  "
      ]
     },
     "execution_count": 43,
     "metadata": {},
     "output_type": "execute_result"
    }
   ],
   "source": [
    "# Let's find the row index number of observations including NaN values in \"model\" feature\n",
    "\n",
    "model_index_nan = df[df[\"model\"].isna()][['make_model', 'make', 'model', \"extracted_models\", \"short_description\"]].index\n",
    "\n",
    "display(model_index_nan)\n",
    "df.iloc[model_index_nan][['make_model', 'make', 'model', \"extracted_models\", \"short_description\"]].head()"
   ]
  },
  {
   "cell_type": "code",
   "execution_count": 46,
   "metadata": {},
   "outputs": [
    {
     "data": {
      "text/plain": [
       "6"
      ]
     },
     "metadata": {},
     "output_type": "display_data"
    },
    {
     "data": {
      "text/plain": [
       "0"
      ]
     },
     "metadata": {},
     "output_type": "display_data"
    }
   ],
   "source": [
    "# Let's fill the missing values in \"model\" feature by its counterparts in 'extracted_models' feature \n",
    "# and make the changes permanent\n",
    "\n",
    "df['model'].fillna(df['extracted_models'], inplace=True)\n",
    "\n",
    "display(df['model'].isnull().sum())\n",
    "\n",
    "display(df['make_model'].isnull().sum())"
   ]
  },
  {
   "cell_type": "code",
   "execution_count": 47,
   "metadata": {},
   "outputs": [
    {
     "data": {
      "text/html": [
       "<div>\n",
       "<style scoped>\n",
       "    .dataframe tbody tr th:only-of-type {\n",
       "        vertical-align: middle;\n",
       "    }\n",
       "\n",
       "    .dataframe tbody tr th {\n",
       "        vertical-align: top;\n",
       "    }\n",
       "\n",
       "    .dataframe thead th {\n",
       "        text-align: right;\n",
       "    }\n",
       "</style>\n",
       "<table border=\"1\" class=\"dataframe\">\n",
       "  <thead>\n",
       "    <tr style=\"text-align: right;\">\n",
       "      <th></th>\n",
       "      <th>make_model</th>\n",
       "      <th>make</th>\n",
       "      <th>model</th>\n",
       "      <th>extracted_models</th>\n",
       "      <th>short_description</th>\n",
       "    </tr>\n",
       "  </thead>\n",
       "  <tbody>\n",
       "    <tr>\n",
       "      <th>5599</th>\n",
       "      <td>Renault</td>\n",
       "      <td>Renault</td>\n",
       "      <td>NaN</td>\n",
       "      <td>NaN</td>\n",
       "      <td>III 2.0 16V 265 S&amp;S RS</td>\n",
       "    </tr>\n",
       "    <tr>\n",
       "      <th>7778</th>\n",
       "      <td>Peugeot</td>\n",
       "      <td>Peugeot</td>\n",
       "      <td>NaN</td>\n",
       "      <td>NaN</td>\n",
       "      <td>&lt;NULL</td>\n",
       "    </tr>\n",
       "    <tr>\n",
       "      <th>17160</th>\n",
       "      <td>Toyota</td>\n",
       "      <td>Toyota</td>\n",
       "      <td>NaN</td>\n",
       "      <td>NaN</td>\n",
       "      <td>140 VVT-i SMT bva</td>\n",
       "    </tr>\n",
       "    <tr>\n",
       "      <th>19285</th>\n",
       "      <td>Nissan</td>\n",
       "      <td>Nissan</td>\n",
       "      <td>NaN</td>\n",
       "      <td>NaN</td>\n",
       "      <td>NaN</td>\n",
       "    </tr>\n",
       "    <tr>\n",
       "      <th>21365</th>\n",
       "      <td>Ford</td>\n",
       "      <td>Ford</td>\n",
       "      <td>NaN</td>\n",
       "      <td>NaN</td>\n",
       "      <td>NaN</td>\n",
       "    </tr>\n",
       "    <tr>\n",
       "      <th>21385</th>\n",
       "      <td>Ford</td>\n",
       "      <td>Ford</td>\n",
       "      <td>NaN</td>\n",
       "      <td>NaN</td>\n",
       "      <td>-</td>\n",
       "    </tr>\n",
       "  </tbody>\n",
       "</table>\n",
       "</div>"
      ],
      "text/plain": [
       "      make_model     make model extracted_models       short_description\n",
       "5599    Renault   Renault   NaN              NaN  III 2.0 16V 265 S&S RS\n",
       "7778    Peugeot   Peugeot   NaN              NaN                   <NULL\n",
       "17160    Toyota    Toyota   NaN              NaN       140 VVT-i SMT bva\n",
       "19285    Nissan    Nissan   NaN              NaN                     NaN\n",
       "21365      Ford      Ford   NaN              NaN                     NaN\n",
       "21385      Ford      Ford   NaN              NaN                       -"
      ]
     },
     "execution_count": 47,
     "metadata": {},
     "output_type": "execute_result"
    }
   ],
   "source": [
    "# Why are some NaN values NOT imputed?\n",
    "\n",
    "df[df[\"model\"].isna()][['make_model', 'make', 'model', \"extracted_models\", \"short_description\"]]"
   ]
  },
  {
   "cell_type": "code",
   "execution_count": 48,
   "metadata": {},
   "outputs": [
    {
     "data": {
      "text/plain": [
       "(28630, 36)"
      ]
     },
     "metadata": {},
     "output_type": "display_data"
    },
    {
     "data": {
      "text/plain": [
       "0"
      ]
     },
     "metadata": {},
     "output_type": "display_data"
    },
    {
     "data": {
      "text/plain": [
       "(28624, 36)"
      ]
     },
     "metadata": {},
     "output_type": "display_data"
    }
   ],
   "source": [
    "# Dropping these unhandled observations from dataset:\n",
    "\n",
    "display(df.shape)  # Gives the shape of df BEFORE dropping NaN values in 'model'\n",
    "\n",
    "df.dropna(subset=['model'], inplace=True)\n",
    "\n",
    "display(df['model'].isnull().sum())  # Gives the total number of NaN values in 'model' AFTER dropping them \n",
    "\n",
    "display(df.shape)  # Gives the shape of df AFTER dropping NaN values in 'model'"
   ]
  },
  {
   "cell_type": "code",
   "execution_count": 49,
   "metadata": {},
   "outputs": [
    {
     "data": {
      "text/plain": [
       "0           Mercedes-Benz A 160\n",
       "1         Mercedes-Benz EQE 350\n",
       "2        Mercedes-Benz A 45 AMG\n",
       "3        Mercedes-Benz A 35 AMG\n",
       "4        Mercedes-Benz A 45 AMG\n",
       "                  ...          \n",
       "28625                 Volvo S90\n",
       "28626                 Volvo S40\n",
       "28627                 Volvo C30\n",
       "28628                 Volvo S90\n",
       "28629                 Volvo S80\n",
       "Name: modified_make_model, Length: 28624, dtype: object"
      ]
     },
     "execution_count": 49,
     "metadata": {},
     "output_type": "execute_result"
    }
   ],
   "source": [
    "# Let's combine \"make\" and \"model\" to create a new feature named \"modified_make_model\"\n",
    "\n",
    "df[\"modified_make_model\"] = df[\"make\"] + \" \" + df[\"model\"]\n",
    "modified_make_model = df.pop(\"modified_make_model\")\n",
    "df.insert(1, 'modified_make_model', modified_make_model)\n",
    "df[\"modified_make_model\"]"
   ]
  },
  {
   "cell_type": "code",
   "execution_count": 51,
   "metadata": {},
   "outputs": [
    {
     "data": {
      "text/html": [
       "<div>\n",
       "<style scoped>\n",
       "    .dataframe tbody tr th:only-of-type {\n",
       "        vertical-align: middle;\n",
       "    }\n",
       "\n",
       "    .dataframe tbody tr th {\n",
       "        vertical-align: top;\n",
       "    }\n",
       "\n",
       "    .dataframe thead th {\n",
       "        text-align: right;\n",
       "    }\n",
       "</style>\n",
       "<table border=\"1\" class=\"dataframe\">\n",
       "  <thead>\n",
       "    <tr style=\"text-align: right;\">\n",
       "      <th></th>\n",
       "      <th>make_model</th>\n",
       "      <th>modified_make_model</th>\n",
       "      <th>short_description</th>\n",
       "      <th>make</th>\n",
       "      <th>model</th>\n",
       "      <th>location</th>\n",
       "      <th>price</th>\n",
       "      <th>body_type</th>\n",
       "      <th>type</th>\n",
       "      <th>doors</th>\n",
       "      <th>...</th>\n",
       "      <th>upholstery</th>\n",
       "      <th>previous_owner</th>\n",
       "      <th>energy_efficiency_class</th>\n",
       "      <th>age</th>\n",
       "      <th>power_kW</th>\n",
       "      <th>power_hp</th>\n",
       "      <th>cons_avg</th>\n",
       "      <th>cons_city</th>\n",
       "      <th>cons_country</th>\n",
       "      <th>extracted_models</th>\n",
       "    </tr>\n",
       "  </thead>\n",
       "  <tbody>\n",
       "    <tr>\n",
       "      <th>0</th>\n",
       "      <td>Mercedes-Benz A 160</td>\n",
       "      <td>Mercedes-Benz A 160</td>\n",
       "      <td>CDi</td>\n",
       "      <td>Mercedes-Benz</td>\n",
       "      <td>A 160</td>\n",
       "      <td>P.I. EL PALMAR C/FORJA 6,  11500 PUERTO DE SAN...</td>\n",
       "      <td>16950.0</td>\n",
       "      <td>Compact</td>\n",
       "      <td>Used</td>\n",
       "      <td>5.0</td>\n",
       "      <td>...</td>\n",
       "      <td>NaN</td>\n",
       "      <td>NaN</td>\n",
       "      <td>NaN</td>\n",
       "      <td>6.0</td>\n",
       "      <td>NaN</td>\n",
       "      <td>NaN</td>\n",
       "      <td>NaN</td>\n",
       "      <td>NaN</td>\n",
       "      <td>NaN</td>\n",
       "      <td>NaN</td>\n",
       "    </tr>\n",
       "  </tbody>\n",
       "</table>\n",
       "<p>1 rows × 37 columns</p>\n",
       "</div>"
      ],
      "text/plain": [
       "            make_model  modified_make_model short_description           make  \\\n",
       "0  Mercedes-Benz A 160  Mercedes-Benz A 160               CDi  Mercedes-Benz   \n",
       "\n",
       "   model                                           location    price  \\\n",
       "0  A 160  P.I. EL PALMAR C/FORJA 6,  11500 PUERTO DE SAN...  16950.0   \n",
       "\n",
       "  body_type  type  doors  ...  upholstery  previous_owner  \\\n",
       "0   Compact  Used    5.0  ...         NaN             NaN   \n",
       "\n",
       "  energy_efficiency_class  age power_kW  power_hp  cons_avg  cons_city  \\\n",
       "0                     NaN  6.0      NaN       NaN       NaN        NaN   \n",
       "\n",
       "   cons_country extracted_models  \n",
       "0           NaN              NaN  \n",
       "\n",
       "[1 rows x 37 columns]"
      ]
     },
     "execution_count": 51,
     "metadata": {},
     "output_type": "execute_result"
    }
   ],
   "source": [
    "df.head(1)"
   ]
  },
  {
   "cell_type": "code",
   "execution_count": 50,
   "metadata": {},
   "outputs": [
    {
     "data": {
      "text/html": [
       "<div>\n",
       "<style scoped>\n",
       "    .dataframe tbody tr th:only-of-type {\n",
       "        vertical-align: middle;\n",
       "    }\n",
       "\n",
       "    .dataframe tbody tr th {\n",
       "        vertical-align: top;\n",
       "    }\n",
       "\n",
       "    .dataframe thead th {\n",
       "        text-align: right;\n",
       "    }\n",
       "</style>\n",
       "<table border=\"1\" class=\"dataframe\">\n",
       "  <thead>\n",
       "    <tr style=\"text-align: right;\">\n",
       "      <th></th>\n",
       "      <th>make_model</th>\n",
       "      <th>modified_make_model</th>\n",
       "    </tr>\n",
       "  </thead>\n",
       "  <tbody>\n",
       "    <tr>\n",
       "      <th>0</th>\n",
       "      <td>Mercedes-Benz A 160</td>\n",
       "      <td>Mercedes-Benz A 160</td>\n",
       "    </tr>\n",
       "    <tr>\n",
       "      <th>1</th>\n",
       "      <td>Mercedes-Benz EQE 350</td>\n",
       "      <td>Mercedes-Benz EQE 350</td>\n",
       "    </tr>\n",
       "    <tr>\n",
       "      <th>2</th>\n",
       "      <td>Mercedes-Benz A 45 AMG</td>\n",
       "      <td>Mercedes-Benz A 45 AMG</td>\n",
       "    </tr>\n",
       "    <tr>\n",
       "      <th>3</th>\n",
       "      <td>Mercedes-Benz A 35 AMG</td>\n",
       "      <td>Mercedes-Benz A 35 AMG</td>\n",
       "    </tr>\n",
       "    <tr>\n",
       "      <th>4</th>\n",
       "      <td>Mercedes-Benz A 45 AMG</td>\n",
       "      <td>Mercedes-Benz A 45 AMG</td>\n",
       "    </tr>\n",
       "    <tr>\n",
       "      <th>...</th>\n",
       "      <td>...</td>\n",
       "      <td>...</td>\n",
       "    </tr>\n",
       "    <tr>\n",
       "      <th>28625</th>\n",
       "      <td>Volvo S90</td>\n",
       "      <td>Volvo S90</td>\n",
       "    </tr>\n",
       "    <tr>\n",
       "      <th>28626</th>\n",
       "      <td>Volvo S40</td>\n",
       "      <td>Volvo S40</td>\n",
       "    </tr>\n",
       "    <tr>\n",
       "      <th>28627</th>\n",
       "      <td>Volvo C30</td>\n",
       "      <td>Volvo C30</td>\n",
       "    </tr>\n",
       "    <tr>\n",
       "      <th>28628</th>\n",
       "      <td>Volvo S90</td>\n",
       "      <td>Volvo S90</td>\n",
       "    </tr>\n",
       "    <tr>\n",
       "      <th>28629</th>\n",
       "      <td>Volvo S80</td>\n",
       "      <td>Volvo S80</td>\n",
       "    </tr>\n",
       "  </tbody>\n",
       "</table>\n",
       "<p>28624 rows × 2 columns</p>\n",
       "</div>"
      ],
      "text/plain": [
       "                   make_model     modified_make_model\n",
       "0         Mercedes-Benz A 160     Mercedes-Benz A 160\n",
       "1       Mercedes-Benz EQE 350   Mercedes-Benz EQE 350\n",
       "2      Mercedes-Benz A 45 AMG  Mercedes-Benz A 45 AMG\n",
       "3      Mercedes-Benz A 35 AMG  Mercedes-Benz A 35 AMG\n",
       "4      Mercedes-Benz A 45 AMG  Mercedes-Benz A 45 AMG\n",
       "...                       ...                     ...\n",
       "28625               Volvo S90               Volvo S90\n",
       "28626               Volvo S40               Volvo S40\n",
       "28627               Volvo C30               Volvo C30\n",
       "28628               Volvo S90               Volvo S90\n",
       "28629               Volvo S80               Volvo S80\n",
       "\n",
       "[28624 rows x 2 columns]"
      ]
     },
     "execution_count": 50,
     "metadata": {},
     "output_type": "execute_result"
    }
   ],
   "source": [
    "# Let's compare the values in the columns of \"make_model\" and \"modified_make_model\"\n",
    "\n",
    "df[[\"make_model\", \"modified_make_model\"]]"
   ]
  },
  {
   "cell_type": "code",
   "execution_count": 53,
   "metadata": {},
   "outputs": [
    {
     "data": {
      "text/plain": [
       "0"
      ]
     },
     "metadata": {},
     "output_type": "display_data"
    },
    {
     "data": {
      "text/plain": [
       "0"
      ]
     },
     "metadata": {},
     "output_type": "display_data"
    },
    {
     "data": {
      "text/plain": [
       "0"
      ]
     },
     "metadata": {},
     "output_type": "display_data"
    }
   ],
   "source": [
    "# Let's fill the missing values in \"modified_make_model\" feature by its counterparts in 'make_model' feature \n",
    "# and make the changes permanent\n",
    "\n",
    "df['modified_make_model'].fillna(df['make_model'], inplace=True)\n",
    "\n",
    "display(df['model'].isnull().sum())\n",
    "display(df['make_model'].isnull().sum())\n",
    "display(df['modified_make_model'].isnull().sum())"
   ]
  },
  {
   "cell_type": "code",
   "execution_count": 54,
   "metadata": {},
   "outputs": [
    {
     "data": {
      "text/html": [
       "<div>\n",
       "<style scoped>\n",
       "    .dataframe tbody tr th:only-of-type {\n",
       "        vertical-align: middle;\n",
       "    }\n",
       "\n",
       "    .dataframe tbody tr th {\n",
       "        vertical-align: top;\n",
       "    }\n",
       "\n",
       "    .dataframe thead th {\n",
       "        text-align: right;\n",
       "    }\n",
       "</style>\n",
       "<table border=\"1\" class=\"dataframe\">\n",
       "  <thead>\n",
       "    <tr style=\"text-align: right;\">\n",
       "      <th></th>\n",
       "      <th>make_model</th>\n",
       "      <th>make</th>\n",
       "      <th>model</th>\n",
       "      <th>extracted_models</th>\n",
       "      <th>short_description</th>\n",
       "    </tr>\n",
       "  </thead>\n",
       "  <tbody>\n",
       "    <tr>\n",
       "      <th>162</th>\n",
       "      <td>Mercedes-Benz</td>\n",
       "      <td>Mercedes-Benz</td>\n",
       "      <td>A 180</td>\n",
       "      <td>A 180</td>\n",
       "      <td>Classe A 1.9 116ch A 180 d</td>\n",
       "    </tr>\n",
       "    <tr>\n",
       "      <th>184</th>\n",
       "      <td>Mercedes-Benz</td>\n",
       "      <td>Mercedes-Benz</td>\n",
       "      <td>A 180</td>\n",
       "      <td>A 180</td>\n",
       "      <td>Classe A 1.5 109ch A 180 CDI BlueEfficiency</td>\n",
       "    </tr>\n",
       "    <tr>\n",
       "      <th>186</th>\n",
       "      <td>Mercedes-Benz</td>\n",
       "      <td>Mercedes-Benz</td>\n",
       "      <td>A 180</td>\n",
       "      <td>A 180</td>\n",
       "      <td>Classe A 1.5 116ch A 180 d</td>\n",
       "    </tr>\n",
       "    <tr>\n",
       "      <th>211</th>\n",
       "      <td>Mercedes-Benz</td>\n",
       "      <td>Mercedes-Benz</td>\n",
       "      <td>A 160</td>\n",
       "      <td>A 160</td>\n",
       "      <td>Classe A 1.5 90ch A 160 CDI / d</td>\n",
       "    </tr>\n",
       "    <tr>\n",
       "      <th>213</th>\n",
       "      <td>Mercedes-Benz</td>\n",
       "      <td>Mercedes-Benz</td>\n",
       "      <td>A 180</td>\n",
       "      <td>A 180</td>\n",
       "      <td>Classe A 1.5 116ch A 180 d</td>\n",
       "    </tr>\n",
       "  </tbody>\n",
       "</table>\n",
       "</div>"
      ],
      "text/plain": [
       "         make_model           make  model extracted_models  \\\n",
       "162  Mercedes-Benz   Mercedes-Benz  A 180            A 180   \n",
       "184  Mercedes-Benz   Mercedes-Benz  A 180            A 180   \n",
       "186  Mercedes-Benz   Mercedes-Benz  A 180            A 180   \n",
       "211  Mercedes-Benz   Mercedes-Benz  A 160            A 160   \n",
       "213  Mercedes-Benz   Mercedes-Benz  A 180            A 180   \n",
       "\n",
       "                               short_description  \n",
       "162                   Classe A 1.9 116ch A 180 d  \n",
       "184  Classe A 1.5 109ch A 180 CDI BlueEfficiency  \n",
       "186                   Classe A 1.5 116ch A 180 d  \n",
       "211              Classe A 1.5 90ch A 160 CDI / d  \n",
       "213                   Classe A 1.5 116ch A 180 d  "
      ]
     },
     "execution_count": 54,
     "metadata": {},
     "output_type": "execute_result"
    }
   ],
   "source": [
    "df.iloc[model_index_nan][['make_model', 'make', 'model', \"extracted_models\", \"short_description\"]].head()"
   ]
  },
  {
   "cell_type": "code",
   "execution_count": 55,
   "metadata": {},
   "outputs": [
    {
     "data": {
      "text/plain": [
       "make_model                    Mercedes-Benz A 180\n",
       "modified_make_model           Mercedes-Benz A 180\n",
       "short_description      Classe A 1.9 116ch A 180 d\n",
       "make                                Mercedes-Benz\n",
       "model                                       A 180\n",
       "Name: 162, dtype: object"
      ]
     },
     "execution_count": 55,
     "metadata": {},
     "output_type": "execute_result"
    }
   ],
   "source": [
    "df['make_model'] = df['modified_make_model']\n",
    "df.iloc[162][:5]"
   ]
  },
  {
   "cell_type": "markdown",
   "metadata": {},
   "source": [
    "### Some Anomalies in the Name of Car Makes & Models:\n",
    "\n",
    "**Let's define some key/reference concepts/models from ``make_model`` feature to understand what they represent; if they are same cars or not because some of the names for car makes and models in that feature are unstandardized by starting with or involving capital/s, small letter/s, etc.**"
   ]
  },
  {
   "cell_type": "code",
   "execution_count": null,
   "metadata": {
    "scrolled": true
   },
   "outputs": [],
   "source": [
    "# # Master, SPYDER, Torino, MUSTANG, Safrane, Modus, Master, Bipper, Espace, iOn, Tacoma, Zafira, Supra, C-Max, Capri, Mach, Night, Clase, COUPÈ, Coupè\n",
    "\n",
    "# df[df[\"make_model\"].str.contains(\"Toyota\", flags=re.IGNORECASE, regex=True)][[\"make_model\", \"age\", \"mileage\", \"price\", \"body_type\", \"gearbox\", \"fuel_type\", \"seller\", \"seats\", \"engine_size\", \"gears\", \"drivetrain\", \"short_description\"]]"
   ]
  },
  {
   "cell_type": "code",
   "execution_count": 56,
   "metadata": {},
   "outputs": [],
   "source": [
    "# Let's fix some anomalies in the names of \"make_model\" \n",
    "\n",
    "df[\"make_model\"].replace([\"Ford SPYDER\", \"Ford MUSTANG\", \"Renault Grand Espace\", \"Fiat Spider\", \"Fiat Spider Europa\", \"Fiat 1300\", \"Opel Zafira Tourer\", \"Opel Zafira Life\", \"Toyota GR Supra\", \"Ford Grand C-Max\", \"Volvo P 1800 E\", \"Volvo P1800E\", \"Volvo coupe\", \"Toyota Auris Touring Sports\", \"Ford Mustang Mach-E\\t\", \"Toyota Prius+\", \"Toyota 1.8\", \"Mercedes-Benz AMG-Night\", \"Mercedes-Benz Clase GLK\", \"Mercedes-Benz Clase SL\", \"Ford Hot Rod\", \"Ford HOT ROD\", \"Ford Hot rod\", \"Fiat 124 Coupè\", \"Fiat COUPÈ\", \"Fiat Coupè\", \"Toyota Corolla Verso\", \"Toyota Verso-S\", \"Renault Alpine\", \"Hyundai KONA Elektro\", \"Hyundai 1.0 T-GDi\", \"Hyundai H 350\", \"Hyundai H-1\", \"Hyundai ACCENT\", \"Hyundai CRDI\", \"Renault\"],\n",
    "                         [\"Ford Mustang\", \"Ford Mustang\", \"Renault Espace\", \"Fiat 124 Spider\", \"Fiat 124 Spider\", \"Fiat 130\", \"Opel Zafira\", \"Opel Zafira\", \"Toyota Supra\", \"Ford C-Max\", \"Volvo P1800\", \"Volvo P1800\", \"Volvo Coupe\", \"Toyota Auris\", \"Ford Mustang Mach-E\", \"Toyota Prius\", \"Toyota MR 2\", \"Mercedes-Benz AMG GT\", \"Mercedes-Benz Clase\", \"Mercedes-Benz Clase\", \"Ford Hot Rod\", \"Ford Hot Rod\", \"Ford Hot Rod\", \"Fiat 124 Coupe\", \"Fiat 124 Coupe\", \"Fiat 124 Coupe\", \"Toyota Verso\", \"Toyota Verso\", \"Renault Alpine A110\", \"Hyundai KONA\", \"Hyundai 1.0 T-GDI\", \"Hyundai H\", \"Hyundai H\", \"Hyundai Accent\", \"Hyundai Accent\", \"Renault Megane\"], inplace=True)"
   ]
  },
  {
   "cell_type": "code",
   "execution_count": 57,
   "metadata": {},
   "outputs": [],
   "source": [
    "# Let's standardize all names in the \"make_model\", \"make\", and \"model\" columns by converting them to title case\n",
    "\n",
    "df[[\"make_model\", \"make\", \"model\"]] = df[[\"make_model\", \"make\", \"model\"]].apply(lambda x: x.str.title())"
   ]
  },
  {
   "cell_type": "code",
   "execution_count": 58,
   "metadata": {
    "scrolled": true
   },
   "outputs": [
    {
     "data": {
      "text/html": [
       "<div>\n",
       "<style scoped>\n",
       "    .dataframe tbody tr th:only-of-type {\n",
       "        vertical-align: middle;\n",
       "    }\n",
       "\n",
       "    .dataframe tbody tr th {\n",
       "        vertical-align: top;\n",
       "    }\n",
       "\n",
       "    .dataframe thead th {\n",
       "        text-align: right;\n",
       "    }\n",
       "</style>\n",
       "<table border=\"1\" class=\"dataframe\">\n",
       "  <thead>\n",
       "    <tr style=\"text-align: right;\">\n",
       "      <th></th>\n",
       "      <th>make_model</th>\n",
       "      <th>make</th>\n",
       "      <th>model</th>\n",
       "      <th>location</th>\n",
       "      <th>price</th>\n",
       "      <th>body_type</th>\n",
       "      <th>type</th>\n",
       "      <th>doors</th>\n",
       "      <th>warranty</th>\n",
       "      <th>mileage</th>\n",
       "      <th>...</th>\n",
       "      <th>full_service_history</th>\n",
       "      <th>upholstery</th>\n",
       "      <th>previous_owner</th>\n",
       "      <th>energy_efficiency_class</th>\n",
       "      <th>age</th>\n",
       "      <th>power_kW</th>\n",
       "      <th>power_hp</th>\n",
       "      <th>cons_avg</th>\n",
       "      <th>cons_city</th>\n",
       "      <th>cons_country</th>\n",
       "    </tr>\n",
       "  </thead>\n",
       "  <tbody>\n",
       "    <tr>\n",
       "      <th>0</th>\n",
       "      <td>Mercedes-Benz A 160</td>\n",
       "      <td>Mercedes-Benz</td>\n",
       "      <td>A 160</td>\n",
       "      <td>P.I. EL PALMAR C/FORJA 6,  11500 PUERTO DE SAN...</td>\n",
       "      <td>16950.0</td>\n",
       "      <td>Compact</td>\n",
       "      <td>Used</td>\n",
       "      <td>5.0</td>\n",
       "      <td>24.0</td>\n",
       "      <td>120200.0</td>\n",
       "      <td>...</td>\n",
       "      <td>No</td>\n",
       "      <td>NaN</td>\n",
       "      <td>NaN</td>\n",
       "      <td>NaN</td>\n",
       "      <td>6.0</td>\n",
       "      <td>NaN</td>\n",
       "      <td>NaN</td>\n",
       "      <td>NaN</td>\n",
       "      <td>NaN</td>\n",
       "      <td>NaN</td>\n",
       "    </tr>\n",
       "    <tr>\n",
       "      <th>1</th>\n",
       "      <td>Mercedes-Benz Eqe 350</td>\n",
       "      <td>Mercedes-Benz</td>\n",
       "      <td>Eqe 350</td>\n",
       "      <td>APARTADO DE CORREOS 1032,  26140 LOGROÑO, ES</td>\n",
       "      <td>80900.0</td>\n",
       "      <td>Compact</td>\n",
       "      <td>Pre-registered</td>\n",
       "      <td>4.0</td>\n",
       "      <td>24.0</td>\n",
       "      <td>5000.0</td>\n",
       "      <td>...</td>\n",
       "      <td>No</td>\n",
       "      <td>NaN</td>\n",
       "      <td>NaN</td>\n",
       "      <td>NaN</td>\n",
       "      <td>0.0</td>\n",
       "      <td>215.0</td>\n",
       "      <td>292.0</td>\n",
       "      <td>NaN</td>\n",
       "      <td>NaN</td>\n",
       "      <td>NaN</td>\n",
       "    </tr>\n",
       "    <tr>\n",
       "      <th>2</th>\n",
       "      <td>Mercedes-Benz A 45 Amg</td>\n",
       "      <td>Mercedes-Benz</td>\n",
       "      <td>A 45 Amg</td>\n",
       "      <td>PORT. TARRACO, MOLL DE LLEVANT, Nº 5, LOC. 6-8...</td>\n",
       "      <td>69900.0</td>\n",
       "      <td>Compact</td>\n",
       "      <td>Used</td>\n",
       "      <td>5.0</td>\n",
       "      <td>12.0</td>\n",
       "      <td>18900.0</td>\n",
       "      <td>...</td>\n",
       "      <td>No</td>\n",
       "      <td>NaN</td>\n",
       "      <td>NaN</td>\n",
       "      <td>NaN</td>\n",
       "      <td>2.0</td>\n",
       "      <td>310.0</td>\n",
       "      <td>421.0</td>\n",
       "      <td>8.4</td>\n",
       "      <td>10.9</td>\n",
       "      <td>5.8</td>\n",
       "    </tr>\n",
       "    <tr>\n",
       "      <th>3</th>\n",
       "      <td>Mercedes-Benz A 35 Amg</td>\n",
       "      <td>Mercedes-Benz</td>\n",
       "      <td>A 35 Amg</td>\n",
       "      <td>Carrer de Provença, 31 Local,  8029 BARCELONA, ES</td>\n",
       "      <td>46990.0</td>\n",
       "      <td>Compact</td>\n",
       "      <td>Used</td>\n",
       "      <td>5.0</td>\n",
       "      <td>12.0</td>\n",
       "      <td>18995.0</td>\n",
       "      <td>...</td>\n",
       "      <td>No</td>\n",
       "      <td>NaN</td>\n",
       "      <td>NaN</td>\n",
       "      <td>NaN</td>\n",
       "      <td>2.0</td>\n",
       "      <td>225.0</td>\n",
       "      <td>306.0</td>\n",
       "      <td>7.3</td>\n",
       "      <td>9.3</td>\n",
       "      <td>6.1</td>\n",
       "    </tr>\n",
       "    <tr>\n",
       "      <th>4</th>\n",
       "      <td>Mercedes-Benz A 45 Amg</td>\n",
       "      <td>Mercedes-Benz</td>\n",
       "      <td>A 45 Amg</td>\n",
       "      <td>CARRIL ARAGONES 4,  30007 CASILLAS, ES</td>\n",
       "      <td>16800.0</td>\n",
       "      <td>Compact</td>\n",
       "      <td>Used</td>\n",
       "      <td>5.0</td>\n",
       "      <td>12.0</td>\n",
       "      <td>197000.0</td>\n",
       "      <td>...</td>\n",
       "      <td>No</td>\n",
       "      <td>NaN</td>\n",
       "      <td>NaN</td>\n",
       "      <td>NaN</td>\n",
       "      <td>7.0</td>\n",
       "      <td>100.0</td>\n",
       "      <td>136.0</td>\n",
       "      <td>4.9</td>\n",
       "      <td>5.7</td>\n",
       "      <td>4.4</td>\n",
       "    </tr>\n",
       "  </tbody>\n",
       "</table>\n",
       "<p>5 rows × 34 columns</p>\n",
       "</div>"
      ],
      "text/plain": [
       "               make_model           make     model  \\\n",
       "0     Mercedes-Benz A 160  Mercedes-Benz     A 160   \n",
       "1   Mercedes-Benz Eqe 350  Mercedes-Benz   Eqe 350   \n",
       "2  Mercedes-Benz A 45 Amg  Mercedes-Benz  A 45 Amg   \n",
       "3  Mercedes-Benz A 35 Amg  Mercedes-Benz  A 35 Amg   \n",
       "4  Mercedes-Benz A 45 Amg  Mercedes-Benz  A 45 Amg   \n",
       "\n",
       "                                            location    price body_type  \\\n",
       "0  P.I. EL PALMAR C/FORJA 6,  11500 PUERTO DE SAN...  16950.0   Compact   \n",
       "1       APARTADO DE CORREOS 1032,  26140 LOGROÑO, ES  80900.0   Compact   \n",
       "2  PORT. TARRACO, MOLL DE LLEVANT, Nº 5, LOC. 6-8...  69900.0   Compact   \n",
       "3  Carrer de Provença, 31 Local,  8029 BARCELONA, ES  46990.0   Compact   \n",
       "4             CARRIL ARAGONES 4,  30007 CASILLAS, ES  16800.0   Compact   \n",
       "\n",
       "             type  doors  warranty   mileage  ... full_service_history  \\\n",
       "0            Used    5.0      24.0  120200.0  ...                   No   \n",
       "1  Pre-registered    4.0      24.0    5000.0  ...                   No   \n",
       "2            Used    5.0      12.0   18900.0  ...                   No   \n",
       "3            Used    5.0      12.0   18995.0  ...                   No   \n",
       "4            Used    5.0      12.0  197000.0  ...                   No   \n",
       "\n",
       "  upholstery previous_owner  energy_efficiency_class  age  power_kW  power_hp  \\\n",
       "0        NaN            NaN                      NaN  6.0       NaN       NaN   \n",
       "1        NaN            NaN                      NaN  0.0     215.0     292.0   \n",
       "2        NaN            NaN                      NaN  2.0     310.0     421.0   \n",
       "3        NaN            NaN                      NaN  2.0     225.0     306.0   \n",
       "4        NaN            NaN                      NaN  7.0     100.0     136.0   \n",
       "\n",
       "  cons_avg  cons_city cons_country  \n",
       "0      NaN        NaN          NaN  \n",
       "1      NaN        NaN          NaN  \n",
       "2      8.4       10.9          5.8  \n",
       "3      7.3        9.3          6.1  \n",
       "4      4.9        5.7          4.4  \n",
       "\n",
       "[5 rows x 34 columns]"
      ]
     },
     "execution_count": 58,
     "metadata": {},
     "output_type": "execute_result"
    }
   ],
   "source": [
    "# Let's drop unnecassary columns in the DataFrame\n",
    "\n",
    "df.drop([\"modified_make_model\", \"short_description\", \"extracted_models\"], axis=1, inplace=True)\n",
    "df.head()"
   ]
  },
  {
   "cell_type": "code",
   "execution_count": 59,
   "metadata": {},
   "outputs": [
    {
     "name": "stdout",
     "output_type": "stream",
     "text": [
      "COLUMN NAME    :  make_model\n",
      "--------------------------------\n",
      "per_of_nulls   :  % 0.0\n",
      "num_of_nulls   :  0\n",
      "num_of_uniques :  664\n",
      "--------------------------------\n",
      "Renault Megane      863\n",
      "Seat Leon           787\n",
      "Volvo V40           740\n",
      "Dacia Sandero       730\n",
      "Hyundai I30         709\n",
      "                   ... \n",
      "Fiat Cinquecento      1\n",
      "Fiat Doblo            1\n",
      "Fiat Multipla         1\n",
      "Fiat 1100D            1\n",
      "Volvo 244             1\n",
      "Name: make_model, Length: 664, dtype: int64\n",
      "\n",
      "\n",
      "COLUMN NAME    :  make\n",
      "--------------------------------\n",
      "per_of_nulls   :  % 0.0\n",
      "num_of_nulls   :  0\n",
      "num_of_uniques :  13\n",
      "--------------------------------\n",
      "Volvo            3659\n",
      "Mercedes-Benz    2398\n",
      "Opel             2385\n",
      "Peugeot          2359\n",
      "Renault          2350\n",
      "Fiat             2338\n",
      "Ford             2322\n",
      "Nissan           2063\n",
      "Toyota           2037\n",
      "Hyundai          1867\n",
      "Seat             1743\n",
      "Skoda            1566\n",
      "Dacia            1537\n",
      "Name: make, dtype: int64\n",
      "\n",
      "\n",
      "COLUMN NAME    :  model\n",
      "--------------------------------\n",
      "per_of_nulls   :  % 0.0\n",
      "num_of_nulls   :  0\n",
      "num_of_uniques :  674\n",
      "--------------------------------\n",
      "Megane       863\n",
      "Leon         787\n",
      "V40          740\n",
      "Sandero      730\n",
      "I30          709\n",
      "            ... \n",
      "C 320          1\n",
      "Edition 1      1\n",
      "S 580E         1\n",
      "240 Z          1\n",
      "244            1\n",
      "Name: model, Length: 674, dtype: int64\n",
      "\n",
      "\n"
     ]
    }
   ],
   "source": [
    "first_looking(\"make_model\", \"make\", \"model\")"
   ]
  },
  {
   "cell_type": "markdown",
   "metadata": {},
   "source": [
    "## body_type"
   ]
  },
  {
   "cell_type": "code",
   "execution_count": 60,
   "metadata": {},
   "outputs": [
    {
     "name": "stdout",
     "output_type": "stream",
     "text": [
      "COLUMN NAME    :  body_type\n",
      "--------------------------------\n",
      "per_of_nulls   :  % 0.0\n",
      "num_of_nulls   :  0\n",
      "num_of_uniques :  6\n",
      "--------------------------------\n",
      "Station wagon       5448\n",
      "Off-Road/Pick-up    5415\n",
      "Compact             5387\n",
      "Sedan               5043\n",
      "Coupe               4007\n",
      "Convertible         3324\n",
      "Name: body_type, dtype: int64\n",
      "\n",
      "\n"
     ]
    }
   ],
   "source": [
    "# Let's explore basic information about \"body_type\"\n",
    "\n",
    "first_looking(\"body_type\")"
   ]
  },
  {
   "cell_type": "code",
   "execution_count": 61,
   "metadata": {},
   "outputs": [],
   "source": [
    "# Let's standardize all names in the \"body_type\" column by converting them to title case\n",
    "\n",
    "df['body_type'] = df['body_type'].str.title()"
   ]
  },
  {
   "cell_type": "code",
   "execution_count": 62,
   "metadata": {},
   "outputs": [
    {
     "name": "stdout",
     "output_type": "stream",
     "text": [
      "COLUMN NAME    :  body_type\n",
      "--------------------------------\n",
      "per_of_nulls   :  % 0.0\n",
      "num_of_nulls   :  0\n",
      "num_of_uniques :  6\n",
      "--------------------------------\n",
      "Station Wagon       5448\n",
      "Off-Road/Pick-Up    5415\n",
      "Compact             5387\n",
      "Sedan               5043\n",
      "Coupe               4007\n",
      "Convertible         3324\n",
      "Name: body_type, dtype: int64\n",
      "\n",
      "\n"
     ]
    }
   ],
   "source": [
    "first_looking(\"body_type\")"
   ]
  },
  {
   "cell_type": "markdown",
   "metadata": {},
   "source": [
    "<!-- <div style=\"background-color: #EBA6EC; padding: 10px; font-size: 23px; font-weight: bold;\">\n",
    "    Now it's time to examine and fill the missing values of each column/feature one by one:\n",
    "</div> -->\n",
    "\n",
    "## <p style=\"background-color:#E278E3; font-family:newtimeroman; color:#000000; font-size:121%; text-align:left; border-radius:10px 10px;\">Now it's time to examine and fill the missing values of each column/feature one by one:</p>"
   ]
  },
  {
   "cell_type": "code",
   "execution_count": 64,
   "metadata": {},
   "outputs": [
    {
     "data": {
      "text/plain": [
       "['age',\n",
       " 'co_emissions',\n",
       " 'comfort_&_convenience',\n",
       " 'cons_avg',\n",
       " 'cons_city',\n",
       " 'cons_country',\n",
       " 'cylinders',\n",
       " 'doors',\n",
       " 'drivetrain',\n",
       " 'empty_weight',\n",
       " 'energy_efficiency_class',\n",
       " 'engine_size',\n",
       " 'entertainment_&_media',\n",
       " 'extras',\n",
       " 'fuel_type',\n",
       " 'gearbox',\n",
       " 'gears',\n",
       " 'mileage',\n",
       " 'power_hp',\n",
       " 'power_kW',\n",
       " 'previous_owner',\n",
       " 'safety_&_security',\n",
       " 'seats',\n",
       " 'upholstery',\n",
       " 'warranty']"
      ]
     },
     "execution_count": 64,
     "metadata": {},
     "output_type": "execute_result"
    }
   ],
   "source": [
    "df_isnull = df[df.columns[df.isnull().any()]]\n",
    "sorted(df_isnull.columns)"
   ]
  },
  {
   "cell_type": "code",
   "execution_count": 66,
   "metadata": {},
   "outputs": [
    {
     "data": {
      "application/vnd.jupyter.widget-view+json": {
       "model_id": "c274706458394dbb99bed2ba3d1b3ab2",
       "version_major": 2,
       "version_minor": 0
      },
      "text/plain": [
       "interactive(children=(IntSlider(value=50, description='limit', step=5), Output()), _dom_classes=('widget-inter…"
      ]
     },
     "metadata": {},
     "output_type": "display_data"
    }
   ],
   "source": [
    "# Let's explore the percentage of missing values in each column that exceeds the given 'limit'.\n",
    "\n",
    "interact(show_missing_values, limit=(0, 100, 5));"
   ]
  },
  {
   "cell_type": "markdown",
   "metadata": {},
   "source": [
    "## engine_size"
   ]
  },
  {
   "cell_type": "code",
   "execution_count": 67,
   "metadata": {
    "scrolled": false
   },
   "outputs": [
    {
     "name": "stdout",
     "output_type": "stream",
     "text": [
      "COLUMN NAME    :  engine_size\n",
      "--------------------------------\n",
      "per_of_nulls   :  % 4.9\n",
      "num_of_nulls   :  1403\n",
      "num_of_uniques :  467\n",
      "--------------------------------\n",
      "1598.0    2099\n",
      "999.0     2068\n",
      "1969.0    1929\n",
      "NaN       1403\n",
      "1461.0    1110\n",
      "          ... \n",
      "2753.0       1\n",
      "2495.0       1\n",
      "200.0        1\n",
      "3224.0       1\n",
      "2473.0       1\n",
      "Name: engine_size, Length: 468, dtype: int64\n",
      "\n",
      "\n"
     ]
    }
   ],
   "source": [
    "# Let's explore basic information about \"engine_size\"\n",
    "\n",
    "first_looking(\"engine_size\")"
   ]
  },
  {
   "cell_type": "code",
   "execution_count": 68,
   "metadata": {},
   "outputs": [],
   "source": [
    "# All NaN values are converted to dash/hyphen sign \"-\" to see them in the output of describe() and explore the hidden pattern\n",
    "\n",
    "df[\"engine_size\"].fillna(\"-\", inplace=True)"
   ]
  },
  {
   "cell_type": "markdown",
   "metadata": {},
   "source": [
    "**⚠️ Why do we need to convert ``Nan`` values into something else, \"-\" in our case❓**\n",
    "\n",
    "**``describe()``** does **NOT** return anything for ``NaN`` values. If you have **``\"Nan\"``** at the column/feature you are interested in, you should replace these ``nan`` values with something else. In our case, we have replaced the **``\"NaN\"``** values with **``\"-\"``** so that we could implement the ``describe()`` method."
   ]
  },
  {
   "cell_type": "code",
   "execution_count": 69,
   "metadata": {},
   "outputs": [
    {
     "data": {
      "text/html": [
       "<div>\n",
       "<style scoped>\n",
       "    .dataframe tbody tr th:only-of-type {\n",
       "        vertical-align: middle;\n",
       "    }\n",
       "\n",
       "    .dataframe tbody tr th {\n",
       "        vertical-align: top;\n",
       "    }\n",
       "\n",
       "    .dataframe thead th {\n",
       "        text-align: right;\n",
       "    }\n",
       "</style>\n",
       "<table border=\"1\" class=\"dataframe\">\n",
       "  <thead>\n",
       "    <tr style=\"text-align: right;\">\n",
       "      <th></th>\n",
       "      <th></th>\n",
       "      <th></th>\n",
       "      <th>count</th>\n",
       "      <th>mean</th>\n",
       "      <th>std</th>\n",
       "      <th>min</th>\n",
       "      <th>25%</th>\n",
       "      <th>50%</th>\n",
       "      <th>75%</th>\n",
       "      <th>max</th>\n",
       "    </tr>\n",
       "    <tr>\n",
       "      <th>make_model</th>\n",
       "      <th>body_type</th>\n",
       "      <th>engine_size</th>\n",
       "      <th></th>\n",
       "      <th></th>\n",
       "      <th></th>\n",
       "      <th></th>\n",
       "      <th></th>\n",
       "      <th></th>\n",
       "      <th></th>\n",
       "      <th></th>\n",
       "    </tr>\n",
       "  </thead>\n",
       "  <tbody>\n",
       "    <tr>\n",
       "      <th>Dacia 1300</th>\n",
       "      <th>Sedan</th>\n",
       "      <th>1289.0</th>\n",
       "      <td>1.0</td>\n",
       "      <td>9999.0</td>\n",
       "      <td>NaN</td>\n",
       "      <td>9999.0</td>\n",
       "      <td>9999.0</td>\n",
       "      <td>9999.0</td>\n",
       "      <td>9999.0</td>\n",
       "      <td>9999.0</td>\n",
       "    </tr>\n",
       "    <tr>\n",
       "      <th>Dacia Break</th>\n",
       "      <th>Station Wagon</th>\n",
       "      <th>-</th>\n",
       "      <td>1.0</td>\n",
       "      <td>20500.0</td>\n",
       "      <td>NaN</td>\n",
       "      <td>20500.0</td>\n",
       "      <td>20500.0</td>\n",
       "      <td>20500.0</td>\n",
       "      <td>20500.0</td>\n",
       "      <td>20500.0</td>\n",
       "    </tr>\n",
       "    <tr>\n",
       "      <th>Dacia Business</th>\n",
       "      <th>Compact</th>\n",
       "      <th>0.0</th>\n",
       "      <td>1.0</td>\n",
       "      <td>19515.0</td>\n",
       "      <td>NaN</td>\n",
       "      <td>19515.0</td>\n",
       "      <td>19515.0</td>\n",
       "      <td>19515.0</td>\n",
       "      <td>19515.0</td>\n",
       "      <td>19515.0</td>\n",
       "    </tr>\n",
       "    <tr>\n",
       "      <th>Dacia Comfort Tce</th>\n",
       "      <th>Station Wagon</th>\n",
       "      <th>999.0</th>\n",
       "      <td>1.0</td>\n",
       "      <td>21799.0</td>\n",
       "      <td>NaN</td>\n",
       "      <td>21799.0</td>\n",
       "      <td>21799.0</td>\n",
       "      <td>21799.0</td>\n",
       "      <td>21799.0</td>\n",
       "      <td>21799.0</td>\n",
       "    </tr>\n",
       "    <tr>\n",
       "      <th>Dacia Dokker</th>\n",
       "      <th>Compact</th>\n",
       "      <th>1461.0</th>\n",
       "      <td>1.0</td>\n",
       "      <td>11930.0</td>\n",
       "      <td>NaN</td>\n",
       "      <td>11930.0</td>\n",
       "      <td>11930.0</td>\n",
       "      <td>11930.0</td>\n",
       "      <td>11930.0</td>\n",
       "      <td>11930.0</td>\n",
       "    </tr>\n",
       "    <tr>\n",
       "      <th>...</th>\n",
       "      <th>...</th>\n",
       "      <th>...</th>\n",
       "      <td>...</td>\n",
       "      <td>...</td>\n",
       "      <td>...</td>\n",
       "      <td>...</td>\n",
       "      <td>...</td>\n",
       "      <td>...</td>\n",
       "      <td>...</td>\n",
       "      <td>...</td>\n",
       "    </tr>\n",
       "    <tr>\n",
       "      <th rowspan=\"5\" valign=\"top\">Volvo Xc90</th>\n",
       "      <th rowspan=\"2\" valign=\"top\">Off-Road/Pick-Up</th>\n",
       "      <th>2922.0</th>\n",
       "      <td>2.0</td>\n",
       "      <td>16990.0</td>\n",
       "      <td>0.000000</td>\n",
       "      <td>16990.0</td>\n",
       "      <td>16990.0</td>\n",
       "      <td>16990.0</td>\n",
       "      <td>16990.0</td>\n",
       "      <td>16990.0</td>\n",
       "    </tr>\n",
       "    <tr>\n",
       "      <th>-</th>\n",
       "      <td>2.0</td>\n",
       "      <td>55900.0</td>\n",
       "      <td>0.000000</td>\n",
       "      <td>55900.0</td>\n",
       "      <td>55900.0</td>\n",
       "      <td>55900.0</td>\n",
       "      <td>55900.0</td>\n",
       "      <td>55900.0</td>\n",
       "    </tr>\n",
       "    <tr>\n",
       "      <th rowspan=\"2\" valign=\"top\">Sedan</th>\n",
       "      <th>1969.0</th>\n",
       "      <td>2.0</td>\n",
       "      <td>48100.0</td>\n",
       "      <td>565.685425</td>\n",
       "      <td>47700.0</td>\n",
       "      <td>47900.0</td>\n",
       "      <td>48100.0</td>\n",
       "      <td>48300.0</td>\n",
       "      <td>48500.0</td>\n",
       "    </tr>\n",
       "    <tr>\n",
       "      <th>-</th>\n",
       "      <td>1.0</td>\n",
       "      <td>84900.0</td>\n",
       "      <td>NaN</td>\n",
       "      <td>84900.0</td>\n",
       "      <td>84900.0</td>\n",
       "      <td>84900.0</td>\n",
       "      <td>84900.0</td>\n",
       "      <td>84900.0</td>\n",
       "    </tr>\n",
       "    <tr>\n",
       "      <th>Station Wagon</th>\n",
       "      <th>1969.0</th>\n",
       "      <td>4.0</td>\n",
       "      <td>32750.0</td>\n",
       "      <td>3752.776750</td>\n",
       "      <td>29500.0</td>\n",
       "      <td>29500.0</td>\n",
       "      <td>32750.0</td>\n",
       "      <td>36000.0</td>\n",
       "      <td>36000.0</td>\n",
       "    </tr>\n",
       "  </tbody>\n",
       "</table>\n",
       "<p>3879 rows × 8 columns</p>\n",
       "</div>"
      ],
      "text/plain": [
       "                                                count     mean          std  \\\n",
       "make_model        body_type        engine_size                                \n",
       "Dacia 1300        Sedan            1289.0         1.0   9999.0          NaN   \n",
       "Dacia Break       Station Wagon    -              1.0  20500.0          NaN   \n",
       "Dacia Business    Compact          0.0            1.0  19515.0          NaN   \n",
       "Dacia Comfort Tce Station Wagon    999.0          1.0  21799.0          NaN   \n",
       "Dacia Dokker      Compact          1461.0         1.0  11930.0          NaN   \n",
       "...                                               ...      ...          ...   \n",
       "Volvo Xc90        Off-Road/Pick-Up 2922.0         2.0  16990.0     0.000000   \n",
       "                                   -              2.0  55900.0     0.000000   \n",
       "                  Sedan            1969.0         2.0  48100.0   565.685425   \n",
       "                                   -              1.0  84900.0          NaN   \n",
       "                  Station Wagon    1969.0         4.0  32750.0  3752.776750   \n",
       "\n",
       "                                                    min      25%      50%  \\\n",
       "make_model        body_type        engine_size                              \n",
       "Dacia 1300        Sedan            1289.0        9999.0   9999.0   9999.0   \n",
       "Dacia Break       Station Wagon    -            20500.0  20500.0  20500.0   \n",
       "Dacia Business    Compact          0.0          19515.0  19515.0  19515.0   \n",
       "Dacia Comfort Tce Station Wagon    999.0        21799.0  21799.0  21799.0   \n",
       "Dacia Dokker      Compact          1461.0       11930.0  11930.0  11930.0   \n",
       "...                                                 ...      ...      ...   \n",
       "Volvo Xc90        Off-Road/Pick-Up 2922.0       16990.0  16990.0  16990.0   \n",
       "                                   -            55900.0  55900.0  55900.0   \n",
       "                  Sedan            1969.0       47700.0  47900.0  48100.0   \n",
       "                                   -            84900.0  84900.0  84900.0   \n",
       "                  Station Wagon    1969.0       29500.0  29500.0  32750.0   \n",
       "\n",
       "                                                    75%      max  \n",
       "make_model        body_type        engine_size                    \n",
       "Dacia 1300        Sedan            1289.0        9999.0   9999.0  \n",
       "Dacia Break       Station Wagon    -            20500.0  20500.0  \n",
       "Dacia Business    Compact          0.0          19515.0  19515.0  \n",
       "Dacia Comfort Tce Station Wagon    999.0        21799.0  21799.0  \n",
       "Dacia Dokker      Compact          1461.0       11930.0  11930.0  \n",
       "...                                                 ...      ...  \n",
       "Volvo Xc90        Off-Road/Pick-Up 2922.0       16990.0  16990.0  \n",
       "                                   -            55900.0  55900.0  \n",
       "                  Sedan            1969.0       48300.0  48500.0  \n",
       "                                   -            84900.0  84900.0  \n",
       "                  Station Wagon    1969.0       36000.0  36000.0  \n",
       "\n",
       "[3879 rows x 8 columns]"
      ]
     },
     "execution_count": 69,
     "metadata": {},
     "output_type": "execute_result"
    }
   ],
   "source": [
    "# let's explore if there is any pattern among \"\"make_model\", \"body_type\", and \"engine_size\" by \"price\"\n",
    "\n",
    "df.groupby([\"make_model\", \"body_type\",\"engine_size\"]).price.describe()"
   ]
  },
  {
   "cell_type": "markdown",
   "metadata": {},
   "source": [
    "<div style=\"background-color: #ffeeba; padding: 10px; font-size: 16px; font-weight: bold;\">\n",
    "    The <code>engine_size</code> of cars changes by their <code>make_models</code> & <code>body_type</code> most of the time. So it is more beneficial to decide to fill missing values with <code>mode value</code> of corresponding group.\n",
    "</div>"
   ]
  },
  {
   "cell_type": "code",
   "execution_count": 70,
   "metadata": {},
   "outputs": [],
   "source": [
    "# Let's replace dash/hyphen sign \"-\" with np.nan\n",
    "\n",
    "df[\"engine_size\"].replace(\"-\", np.nan, inplace=True)"
   ]
  },
  {
   "cell_type": "raw",
   "metadata": {},
   "source": [
    "def fill(df, group_col1, group_col2, col_name, method): # method can be either \"mode\" or \"mean\" or \"median\" or \"ffill\"\n",
    "    \n",
    "    '''Fills the missing values with \"mode/mean/median/ffill/bfill method\" according to double-stage grouping'''\n",
    "    \n",
    "    if method == \"mode\":\n",
    "        for group1 in list(df[group_col1].unique()):\n",
    "            for group2 in list(df[group_col2].unique()):\n",
    "                cond1 = df[group_col1]==group1\n",
    "                cond2 = (df[group_col1]==group1) & (df[group_col2]==group2)\n",
    "                mode1 = list(df[cond1][col_name].mode())\n",
    "                mode2 = list(df[cond2][col_name].mode())\n",
    "                if mode2 != []:\n",
    "                    df.loc[cond2, col_name] = df.loc[cond2, col_name].fillna(df[cond2][col_name].mode()[0])\n",
    "                elif mode1 != []:\n",
    "                    df.loc[cond2, col_name] = df.loc[cond2, col_name].fillna(df[cond1][col_name].mode()[0])\n",
    "                else:\n",
    "                    df.loc[cond2, col_name] = df.loc[cond2, col_name].fillna(df[col_name].mode()[0])\n",
    "\n",
    "    elif method == \"mean\":\n",
    "        df[col_name].fillna(df.groupby([group_col1, group_col2])[col_name].transform(\"mean\"), inplace = True)\n",
    "        df[col_name].fillna(df.groupby(group_col1)[col_name].transform(\"mean\"), inplace = True)\n",
    "        df[col_name].fillna(df[col_name].mean(), inplace = True)\n",
    "        \n",
    "    elif method == \"median\":\n",
    "        df[col_name].fillna(df.groupby([group_col1, group_col2])[col_name].transform(\"median\"), inplace = True)\n",
    "        df[col_name].fillna(df.groupby(group_col1)[col_name].transform(\"median\"), inplace = True)\n",
    "        df[col_name].fillna(df[col_name].median(), inplace = True)\n",
    "        \n",
    "    elif method == \"ffill\":           \n",
    "        for group1 in list(df[group_col1].unique()):\n",
    "            for group2 in list(df[group_col2].unique()):\n",
    "                cond2 = (df[group_col1]==group1) & (df[group_col2]==group2)\n",
    "                df.loc[cond2, col_name] = df.loc[cond2, col_name].fillna(method=\"ffill\").fillna(method=\"bfill\")\n",
    "                \n",
    "        for group1 in list(df[group_col1].unique()):\n",
    "            cond1 = df[group_col1]==group1\n",
    "            df.loc[cond1, col_name] = df.loc[cond1, col_name].fillna(method=\"ffill\").fillna(method=\"bfill\")            \n",
    "           \n",
    "        df[col_name] = df[col_name].fillna(method=\"ffill\").fillna(method=\"bfill\")\n",
    "    \n",
    "    print(\"COLUMN NAME    : \", col_name)\n",
    "    print(\"--------------------------------\")\n",
    "    print(\"per_of_nulls   : \", \"%\", round(df[col_name].isnull().sum()*100 / df.shape[0], 2))\n",
    "    print(\"num_of_nulls   : \", df[col_name].isnull().sum())\n",
    "    print(\"num_of_uniques : \", df[col_name].nunique())\n",
    "    print(\"--------------------------------\")\n",
    "    print(df[col_name].value_counts(dropna = False).sort_index())"
   ]
  },
  {
   "cell_type": "code",
   "execution_count": 71,
   "metadata": {},
   "outputs": [
    {
     "name": "stdout",
     "output_type": "stream",
     "text": [
      "COLUMN NAME    :  engine_size\n",
      "--------------------------------\n",
      "per_of_nulls   :  % 0.0\n",
      "num_of_nulls   :  0\n",
      "num_of_uniques :  467\n",
      "--------------------------------\n",
      "0.0        328\n",
      "1.0        111\n",
      "2.0         12\n",
      "4.0          2\n",
      "5.0          3\n",
      "          ... \n",
      "16597.0      1\n",
      "16998.0      1\n",
      "19194.0      1\n",
      "54009.0      1\n",
      "99900.0      1\n",
      "Name: engine_size, Length: 467, dtype: int64\n"
     ]
    }
   ],
   "source": [
    "# This DEF will fill the missing values in the \"engine_size\" with the mode value based on \"make_model\" and \"body_type\"\n",
    "\n",
    "fill(df, \"make_model\", \"body_type\", \"engine_size\", \"mode\")"
   ]
  },
  {
   "cell_type": "markdown",
   "metadata": {},
   "source": [
    "## age"
   ]
  },
  {
   "cell_type": "code",
   "execution_count": 72,
   "metadata": {
    "scrolled": true
   },
   "outputs": [
    {
     "name": "stdout",
     "output_type": "stream",
     "text": [
      "COLUMN NAME    :  age\n",
      "--------------------------------\n",
      "per_of_nulls   :  % 0.01\n",
      "num_of_nulls   :  2\n",
      "num_of_uniques :  83\n",
      "--------------------------------\n",
      " 3.0      3667\n",
      " 4.0      3492\n",
      " 0.0      3085\n",
      " 1.0      2870\n",
      " 2.0      2473\n",
      "          ... \n",
      "-1.0         1\n",
      " 93.0        1\n",
      " 72.0        1\n",
      " 94.0        1\n",
      "-180.0       1\n",
      "Name: age, Length: 84, dtype: int64\n",
      "\n",
      "\n"
     ]
    }
   ],
   "source": [
    "# Let's explore basic information about \"age\"\n",
    "\n",
    "first_looking(\"age\")"
   ]
  },
  {
   "cell_type": "code",
   "execution_count": 73,
   "metadata": {},
   "outputs": [],
   "source": [
    "# All NaN values are converted to dash/hyphen sign \"-\" to see them in the output of describe() and explore the hidden pattern\n",
    "\n",
    "df['age'].fillna('-', inplace=True)"
   ]
  },
  {
   "cell_type": "code",
   "execution_count": 74,
   "metadata": {
    "scrolled": true
   },
   "outputs": [
    {
     "data": {
      "text/html": [
       "<div>\n",
       "<style scoped>\n",
       "    .dataframe tbody tr th:only-of-type {\n",
       "        vertical-align: middle;\n",
       "    }\n",
       "\n",
       "    .dataframe tbody tr th {\n",
       "        vertical-align: top;\n",
       "    }\n",
       "\n",
       "    .dataframe thead th {\n",
       "        text-align: right;\n",
       "    }\n",
       "</style>\n",
       "<table border=\"1\" class=\"dataframe\">\n",
       "  <thead>\n",
       "    <tr style=\"text-align: right;\">\n",
       "      <th></th>\n",
       "      <th>count</th>\n",
       "      <th>mean</th>\n",
       "      <th>std</th>\n",
       "      <th>min</th>\n",
       "      <th>25%</th>\n",
       "      <th>50%</th>\n",
       "      <th>75%</th>\n",
       "      <th>max</th>\n",
       "    </tr>\n",
       "    <tr>\n",
       "      <th>age</th>\n",
       "      <th></th>\n",
       "      <th></th>\n",
       "      <th></th>\n",
       "      <th></th>\n",
       "      <th></th>\n",
       "      <th></th>\n",
       "      <th></th>\n",
       "      <th></th>\n",
       "    </tr>\n",
       "  </thead>\n",
       "  <tbody>\n",
       "    <tr>\n",
       "      <th>-180.0</th>\n",
       "      <td>1.0</td>\n",
       "      <td>20926.000000</td>\n",
       "      <td>NaN</td>\n",
       "      <td>20926.0</td>\n",
       "      <td>20926.00</td>\n",
       "      <td>20926.0</td>\n",
       "      <td>20926.00</td>\n",
       "      <td>20926.0</td>\n",
       "    </tr>\n",
       "    <tr>\n",
       "      <th>-3.0</th>\n",
       "      <td>1.0</td>\n",
       "      <td>59629.000000</td>\n",
       "      <td>NaN</td>\n",
       "      <td>59629.0</td>\n",
       "      <td>59629.00</td>\n",
       "      <td>59629.0</td>\n",
       "      <td>59629.00</td>\n",
       "      <td>59629.0</td>\n",
       "    </tr>\n",
       "    <tr>\n",
       "      <th>-1.0</th>\n",
       "      <td>1.0</td>\n",
       "      <td>147985.000000</td>\n",
       "      <td>NaN</td>\n",
       "      <td>147985.0</td>\n",
       "      <td>147985.00</td>\n",
       "      <td>147985.0</td>\n",
       "      <td>147985.00</td>\n",
       "      <td>147985.0</td>\n",
       "    </tr>\n",
       "    <tr>\n",
       "      <th>0.0</th>\n",
       "      <td>3084.0</td>\n",
       "      <td>3044.320039</td>\n",
       "      <td>4698.152830</td>\n",
       "      <td>0.0</td>\n",
       "      <td>10.00</td>\n",
       "      <td>406.0</td>\n",
       "      <td>5000.00</td>\n",
       "      <td>46500.0</td>\n",
       "    </tr>\n",
       "    <tr>\n",
       "      <th>1.0</th>\n",
       "      <td>2870.0</td>\n",
       "      <td>15009.230314</td>\n",
       "      <td>12832.031943</td>\n",
       "      <td>0.0</td>\n",
       "      <td>5806.00</td>\n",
       "      <td>12175.0</td>\n",
       "      <td>21493.50</td>\n",
       "      <td>94000.0</td>\n",
       "    </tr>\n",
       "    <tr>\n",
       "      <th>...</th>\n",
       "      <td>...</td>\n",
       "      <td>...</td>\n",
       "      <td>...</td>\n",
       "      <td>...</td>\n",
       "      <td>...</td>\n",
       "      <td>...</td>\n",
       "      <td>...</td>\n",
       "      <td>...</td>\n",
       "    </tr>\n",
       "    <tr>\n",
       "      <th>92.0</th>\n",
       "      <td>2.0</td>\n",
       "      <td>30616.500000</td>\n",
       "      <td>41554.544210</td>\n",
       "      <td>1233.0</td>\n",
       "      <td>15924.75</td>\n",
       "      <td>30616.5</td>\n",
       "      <td>45308.25</td>\n",
       "      <td>60000.0</td>\n",
       "    </tr>\n",
       "    <tr>\n",
       "      <th>93.0</th>\n",
       "      <td>1.0</td>\n",
       "      <td>65515.000000</td>\n",
       "      <td>NaN</td>\n",
       "      <td>65515.0</td>\n",
       "      <td>65515.00</td>\n",
       "      <td>65515.0</td>\n",
       "      <td>65515.00</td>\n",
       "      <td>65515.0</td>\n",
       "    </tr>\n",
       "    <tr>\n",
       "      <th>94.0</th>\n",
       "      <td>1.0</td>\n",
       "      <td>5000.000000</td>\n",
       "      <td>NaN</td>\n",
       "      <td>5000.0</td>\n",
       "      <td>5000.00</td>\n",
       "      <td>5000.0</td>\n",
       "      <td>5000.00</td>\n",
       "      <td>5000.0</td>\n",
       "    </tr>\n",
       "    <tr>\n",
       "      <th>122.0</th>\n",
       "      <td>2.0</td>\n",
       "      <td>14985.500000</td>\n",
       "      <td>21178.555203</td>\n",
       "      <td>10.0</td>\n",
       "      <td>7497.75</td>\n",
       "      <td>14985.5</td>\n",
       "      <td>22473.25</td>\n",
       "      <td>29961.0</td>\n",
       "    </tr>\n",
       "    <tr>\n",
       "      <th>-</th>\n",
       "      <td>2.0</td>\n",
       "      <td>3175.000000</td>\n",
       "      <td>963.079436</td>\n",
       "      <td>2494.0</td>\n",
       "      <td>2834.50</td>\n",
       "      <td>3175.0</td>\n",
       "      <td>3515.50</td>\n",
       "      <td>3856.0</td>\n",
       "    </tr>\n",
       "  </tbody>\n",
       "</table>\n",
       "<p>84 rows × 8 columns</p>\n",
       "</div>"
      ],
      "text/plain": [
       "         count           mean           std       min        25%       50%  \\\n",
       "age                                                                          \n",
       "-180.0     1.0   20926.000000           NaN   20926.0   20926.00   20926.0   \n",
       "-3.0       1.0   59629.000000           NaN   59629.0   59629.00   59629.0   \n",
       "-1.0       1.0  147985.000000           NaN  147985.0  147985.00  147985.0   \n",
       "0.0     3084.0    3044.320039   4698.152830       0.0      10.00     406.0   \n",
       "1.0     2870.0   15009.230314  12832.031943       0.0    5806.00   12175.0   \n",
       "...        ...            ...           ...       ...        ...       ...   \n",
       "92.0       2.0   30616.500000  41554.544210    1233.0   15924.75   30616.5   \n",
       "93.0       1.0   65515.000000           NaN   65515.0   65515.00   65515.0   \n",
       "94.0       1.0    5000.000000           NaN    5000.0    5000.00    5000.0   \n",
       "122.0      2.0   14985.500000  21178.555203      10.0    7497.75   14985.5   \n",
       "-          2.0    3175.000000    963.079436    2494.0    2834.50    3175.0   \n",
       "\n",
       "              75%       max  \n",
       "age                          \n",
       "-180.0   20926.00   20926.0  \n",
       "-3.0     59629.00   59629.0  \n",
       "-1.0    147985.00  147985.0  \n",
       "0.0       5000.00   46500.0  \n",
       "1.0      21493.50   94000.0  \n",
       "...           ...       ...  \n",
       "92.0     45308.25   60000.0  \n",
       "93.0     65515.00   65515.0  \n",
       "94.0      5000.00    5000.0  \n",
       "122.0    22473.25   29961.0  \n",
       "-         3515.50    3856.0  \n",
       "\n",
       "[84 rows x 8 columns]"
      ]
     },
     "execution_count": 74,
     "metadata": {},
     "output_type": "execute_result"
    }
   ],
   "source": [
    "# let's explore if there is any pattern among \"\"age\" by \"mileage\"\n",
    "\n",
    "df.groupby(\"age\").mileage.describe()"
   ]
  },
  {
   "cell_type": "code",
   "execution_count": 75,
   "metadata": {
    "scrolled": true
   },
   "outputs": [
    {
     "data": {
      "text/plain": [
       "3856.0    1\n",
       "2494.0    1\n",
       "Name: mileage, dtype: int64"
      ]
     },
     "execution_count": 75,
     "metadata": {},
     "output_type": "execute_result"
    }
   ],
   "source": [
    "# Let's explore what the age is for dash/hyphen signs \"-\"\n",
    "\n",
    "df[df[\"age\"] == \"-\"][\"mileage\"].value_counts(dropna=False)"
   ]
  },
  {
   "cell_type": "raw",
   "metadata": {},
   "source": [
    "When it's needed, the condition could be improved according to following logic:\n",
    "\n",
    "cond1 = (df['mileage'] < 10000)\n",
    "cond2 = ((df['mileage'] >= 10000) & (df['mileage'] < 25000))\n",
    "cond3 = ((df['mileage'] >= 25000) & (df['mileage'] < 40000))\n",
    "cond4 = (df['mileage'] >= 40000)\n",
    "...\n",
    "\n",
    "df.loc[cond1,'age'] = df.loc[cond1,'age'].replace('-', 0)\n",
    "df.loc[cond2,'age'] = df.loc[cond2,'age'].replace('-', 1)\n",
    "df.loc[cond3,'age'] = df.loc[cond3,'age'].replace('-', 2)\n",
    "df.loc[cond4,'age'] = df.loc[cond4,'age'].replace('-', 3)"
   ]
  },
  {
   "cell_type": "markdown",
   "metadata": {},
   "source": [
    "**Let us use replace() function to fill missing values at \"age\" column with proper values.**"
   ]
  },
  {
   "cell_type": "code",
   "execution_count": 76,
   "metadata": {},
   "outputs": [],
   "source": [
    "cond_age1 = (df['mileage'] < 10000)\n",
    "\n",
    "df.loc[cond_age1, 'age'] = df.loc[cond_age1, 'age'].replace('-', 0)"
   ]
  },
  {
   "cell_type": "code",
   "execution_count": 77,
   "metadata": {
    "scrolled": true
   },
   "outputs": [
    {
     "data": {
      "text/plain": [
       "age\n",
       "-180.0     20926.000000\n",
       "-3.0       59629.000000\n",
       "-1.0      147985.000000\n",
       " 0.0        3044.404731\n",
       " 1.0       15009.230314\n",
       "              ...      \n",
       " 90.0      14700.000000\n",
       " 92.0      30616.500000\n",
       " 93.0      65515.000000\n",
       " 94.0       5000.000000\n",
       " 122.0     14985.500000\n",
       "Name: mileage, Length: 83, dtype: float64"
      ]
     },
     "execution_count": 77,
     "metadata": {},
     "output_type": "execute_result"
    }
   ],
   "source": [
    "df.groupby('age').mileage.mean()"
   ]
  },
  {
   "cell_type": "code",
   "execution_count": 78,
   "metadata": {
    "scrolled": true
   },
   "outputs": [
    {
     "name": "stdout",
     "output_type": "stream",
     "text": [
      "COLUMN NAME    :  age\n",
      "--------------------------------\n",
      "per_of_nulls   :  % 0.0\n",
      "num_of_nulls   :  0\n",
      "num_of_uniques :  83\n",
      "--------------------------------\n",
      " 3.0      3667\n",
      " 4.0      3492\n",
      " 0.0      3087\n",
      " 1.0      2870\n",
      " 2.0      2473\n",
      "          ... \n",
      " 93.0        1\n",
      " 66.0        1\n",
      "-180.0       1\n",
      " 94.0        1\n",
      " 72.0        1\n",
      "Name: age, Length: 83, dtype: int64\n",
      "\n",
      "\n"
     ]
    }
   ],
   "source": [
    "first_looking(\"age\")"
   ]
  },
  {
   "cell_type": "markdown",
   "metadata": {},
   "source": [
    "## mileage"
   ]
  },
  {
   "cell_type": "code",
   "execution_count": 79,
   "metadata": {
    "scrolled": true
   },
   "outputs": [
    {
     "name": "stdout",
     "output_type": "stream",
     "text": [
      "COLUMN NAME    :  mileage\n",
      "--------------------------------\n",
      "per_of_nulls   :  % 0.0\n",
      "num_of_nulls   :  1\n",
      "num_of_uniques :  14182\n",
      "--------------------------------\n",
      "10.0        586\n",
      "1.0         172\n",
      "50.0        133\n",
      "100.0       119\n",
      "5000.0      118\n",
      "           ... \n",
      "141589.0      1\n",
      "59821.0       1\n",
      "123500.0      1\n",
      "29781.0       1\n",
      "230047.0      1\n",
      "Name: mileage, Length: 14183, dtype: int64\n",
      "\n",
      "\n"
     ]
    }
   ],
   "source": [
    "# Let's explore basic information about \"mileage\"\n",
    "\n",
    "first_looking(\"mileage\")"
   ]
  },
  {
   "cell_type": "code",
   "execution_count": 80,
   "metadata": {
    "scrolled": true
   },
   "outputs": [
    {
     "data": {
      "text/plain": [
       "age\n",
       "-180.0     20926.000000\n",
       "-3.0       59629.000000\n",
       "-1.0      147985.000000\n",
       " 0.0        3044.404731\n",
       " 1.0       15009.230314\n",
       "              ...      \n",
       " 90.0      14700.000000\n",
       " 92.0      30616.500000\n",
       " 93.0      65515.000000\n",
       " 94.0       5000.000000\n",
       " 122.0     14985.500000\n",
       "Name: mileage, Length: 83, dtype: float64"
      ]
     },
     "execution_count": 80,
     "metadata": {},
     "output_type": "execute_result"
    }
   ],
   "source": [
    "# Let's explore what the average mileage of the vehicles is by \"age\" \n",
    "\n",
    "df.groupby(\"age\").mileage.mean()"
   ]
  },
  {
   "cell_type": "code",
   "execution_count": 81,
   "metadata": {
    "scrolled": true
   },
   "outputs": [
    {
     "data": {
      "text/html": [
       "<div>\n",
       "<style scoped>\n",
       "    .dataframe tbody tr th:only-of-type {\n",
       "        vertical-align: middle;\n",
       "    }\n",
       "\n",
       "    .dataframe tbody tr th {\n",
       "        vertical-align: top;\n",
       "    }\n",
       "\n",
       "    .dataframe thead th {\n",
       "        text-align: right;\n",
       "    }\n",
       "</style>\n",
       "<table border=\"1\" class=\"dataframe\">\n",
       "  <thead>\n",
       "    <tr style=\"text-align: right;\">\n",
       "      <th></th>\n",
       "      <th>make_model</th>\n",
       "      <th>age</th>\n",
       "      <th>mileage</th>\n",
       "    </tr>\n",
       "  </thead>\n",
       "  <tbody>\n",
       "    <tr>\n",
       "      <th>10753</th>\n",
       "      <td>Fiat 500X</td>\n",
       "      <td>0.0</td>\n",
       "      <td>NaN</td>\n",
       "    </tr>\n",
       "  </tbody>\n",
       "</table>\n",
       "</div>"
      ],
      "text/plain": [
       "      make_model  age  mileage\n",
       "10753  Fiat 500X  0.0      NaN"
      ]
     },
     "execution_count": 81,
     "metadata": {},
     "output_type": "execute_result"
    }
   ],
   "source": [
    "df[df[\"mileage\"].isna()][[\"make_model\", \"age\", \"mileage\"]]"
   ]
  },
  {
   "cell_type": "code",
   "execution_count": 86,
   "metadata": {},
   "outputs": [
    {
     "name": "stdout",
     "output_type": "stream",
     "text": [
      "The average mileage of all vehicles:  72630.04873702966\n",
      "The average mileage of all \"Fiat 500X\": 49154.09333333333\n",
      "The average mileage of all \"Fiat 500X\" at age of 0:  1410.8163265306123\n"
     ]
    }
   ],
   "source": [
    "print('The average mileage of all vehicles: ',df[\"mileage\"].mean()) \n",
    "print('The average mileage of all \"Fiat 500X\":', df[df[\"make_model\"] == \"Fiat 500X\"][\"mileage\"].mean())  \n",
    "print('The average mileage of all \"Fiat 500X\" at age of 0: ',df[(df[\"make_model\"] == \"Fiat 500X\") & (df[\"age\"] == 0)][\"mileage\"].mean())   "
   ]
  },
  {
   "cell_type": "markdown",
   "metadata": {},
   "source": [
    "**Let us use transform() function to fill missing values at \"mileage\" column with \"mean\".**"
   ]
  },
  {
   "cell_type": "code",
   "execution_count": 87,
   "metadata": {
    "scrolled": true
   },
   "outputs": [
    {
     "data": {
      "text/plain": [
       "0        131346.000000\n",
       "1          7233.545455\n",
       "2         33156.823529\n",
       "3         36861.250000\n",
       "4        122055.500000\n",
       "             ...      \n",
       "28625     45138.562500\n",
       "28626    181000.000000\n",
       "28627    166912.962963\n",
       "28628     91159.739130\n",
       "28629    151462.333333\n",
       "Name: mileage, Length: 28624, dtype: float64"
      ]
     },
     "execution_count": 87,
     "metadata": {},
     "output_type": "execute_result"
    }
   ],
   "source": [
    "df.groupby([\"make_model\", \"age\"]).mileage.transform(\"mean\")"
   ]
  },
  {
   "cell_type": "code",
   "execution_count": 88,
   "metadata": {},
   "outputs": [],
   "source": [
    "df[\"mileage\"].fillna(df.groupby([\"make_model\", \"age\"]).mileage.transform(\"mean\"), inplace=True)"
   ]
  },
  {
   "cell_type": "code",
   "execution_count": 89,
   "metadata": {},
   "outputs": [
    {
     "data": {
      "text/html": [
       "<div>\n",
       "<style scoped>\n",
       "    .dataframe tbody tr th:only-of-type {\n",
       "        vertical-align: middle;\n",
       "    }\n",
       "\n",
       "    .dataframe tbody tr th {\n",
       "        vertical-align: top;\n",
       "    }\n",
       "\n",
       "    .dataframe thead th {\n",
       "        text-align: right;\n",
       "    }\n",
       "</style>\n",
       "<table border=\"1\" class=\"dataframe\">\n",
       "  <thead>\n",
       "    <tr style=\"text-align: right;\">\n",
       "      <th></th>\n",
       "      <th>age</th>\n",
       "      <th>mileage</th>\n",
       "    </tr>\n",
       "  </thead>\n",
       "  <tbody>\n",
       "  </tbody>\n",
       "</table>\n",
       "</div>"
      ],
      "text/plain": [
       "Empty DataFrame\n",
       "Columns: [age, mileage]\n",
       "Index: []"
      ]
     },
     "execution_count": 89,
     "metadata": {},
     "output_type": "execute_result"
    }
   ],
   "source": [
    "df[df[\"mileage\"].isna()][[\"age\", \"mileage\"]]"
   ]
  },
  {
   "cell_type": "code",
   "execution_count": 90,
   "metadata": {},
   "outputs": [
    {
     "data": {
      "text/plain": [
       "make_model      Fiat 500X\n",
       "age                   0.0\n",
       "mileage       1410.816327\n",
       "Name: 10753, dtype: object"
      ]
     },
     "execution_count": 90,
     "metadata": {},
     "output_type": "execute_result"
    }
   ],
   "source": [
    "df.loc[10753][[\"make_model\", \"age\", \"mileage\"]]"
   ]
  },
  {
   "cell_type": "markdown",
   "metadata": {},
   "source": [
    "**Using transform() function, we have filled missing values at \"mileage\" column with the \"mean\" of the each \"age\" group.**"
   ]
  },
  {
   "cell_type": "code",
   "execution_count": 91,
   "metadata": {
    "scrolled": true
   },
   "outputs": [
    {
     "name": "stdout",
     "output_type": "stream",
     "text": [
      "COLUMN NAME    :  mileage\n",
      "--------------------------------\n",
      "per_of_nulls   :  % 0.0\n",
      "num_of_nulls   :  0\n",
      "num_of_uniques :  14183\n",
      "--------------------------------\n",
      "10.0        586\n",
      "1.0         172\n",
      "50.0        133\n",
      "100.0       119\n",
      "5000.0      118\n",
      "           ... \n",
      "141589.0      1\n",
      "59821.0       1\n",
      "123500.0      1\n",
      "29781.0       1\n",
      "230047.0      1\n",
      "Name: mileage, Length: 14183, dtype: int64\n",
      "\n",
      "\n"
     ]
    }
   ],
   "source": [
    "first_looking(\"mileage\")"
   ]
  },
  {
   "cell_type": "markdown",
   "metadata": {},
   "source": [
    "## doors"
   ]
  },
  {
   "cell_type": "code",
   "execution_count": 92,
   "metadata": {},
   "outputs": [
    {
     "name": "stdout",
     "output_type": "stream",
     "text": [
      "COLUMN NAME    :  doors\n",
      "--------------------------------\n",
      "per_of_nulls   :  % 1.25\n",
      "num_of_nulls   :  358\n",
      "num_of_uniques :  6\n",
      "--------------------------------\n",
      "5.0    17481\n",
      "2.0     5520\n",
      "4.0     3001\n",
      "3.0     2257\n",
      "NaN      358\n",
      "6.0        5\n",
      "1.0        2\n",
      "Name: doors, dtype: int64\n",
      "\n",
      "\n"
     ]
    }
   ],
   "source": [
    "# Let's explore basic information about \"doors\"\n",
    "\n",
    "first_looking(\"doors\")"
   ]
  },
  {
   "cell_type": "markdown",
   "metadata": {},
   "source": [
    "<div style=\"background-color: #ffeeba; padding: 10px; font-size: 16px; font-weight: bold;\">\n",
    "    The <code>number of doors</code> of cars mostly changes by their <code>make_models</code> and <code>body_types</code>. So it's decided to fill missing values with <code>mode value</code> of corresponding group.\n",
    "</div>"
   ]
  },
  {
   "cell_type": "code",
   "execution_count": 96,
   "metadata": {},
   "outputs": [
    {
     "name": "stdout",
     "output_type": "stream",
     "text": [
      "column name    :  doors\n",
      "--------------------------------\n",
      "per_of_nulls   :  % 0.0\n",
      "num_of_nulls   :  0\n",
      "num_of_uniques :  6\n",
      "--------------------------------\n",
      "5.0    17638\n",
      "2.0     5664\n",
      "4.0     3012\n",
      "3.0     2303\n",
      "6.0        5\n",
      "1.0        2\n",
      "Name: doors, dtype: int64\n"
     ]
    }
   ],
   "source": [
    "# In fact there is no need to run this DEF since all NaNs manually were filled above by for nested loop\n",
    "\n",
    "fill_mode(df, \"make_model\", \"body_type\", \"doors\")"
   ]
  },
  {
   "cell_type": "markdown",
   "metadata": {},
   "source": [
    "## warranty"
   ]
  },
  {
   "cell_type": "code",
   "execution_count": 104,
   "metadata": {},
   "outputs": [
    {
     "name": "stdout",
     "output_type": "stream",
     "text": [
      "COLUMN NAME    :  warranty\n",
      "--------------------------------\n",
      "per_of_nulls   :  % 52.97\n",
      "num_of_nulls   :  15161\n",
      "num_of_uniques :  64\n",
      "--------------------------------\n",
      "NaN      15161\n",
      "12.0      9544\n",
      "24.0      1515\n",
      "60.0       968\n",
      "6.0        398\n",
      "         ...  \n",
      "55.0         1\n",
      "99.0         1\n",
      "122.0        1\n",
      "44.0         1\n",
      "4.0          1\n",
      "Name: warranty, Length: 65, dtype: int64\n",
      "\n",
      "\n"
     ]
    }
   ],
   "source": [
    "# Let's explore basic information about \"warranty\"\n",
    "\n",
    "first_looking(\"warranty\")"
   ]
  },
  {
   "cell_type": "code",
   "execution_count": 105,
   "metadata": {},
   "outputs": [],
   "source": [
    "# All NaN values are converted to dash/hyphen sign \"-\" to see them in the output of describe() and explore the hidden pattern\n",
    "\n",
    "df[\"warranty\"].fillna(\"-\", inplace=True)"
   ]
  },
  {
   "cell_type": "code",
   "execution_count": 106,
   "metadata": {},
   "outputs": [
    {
     "data": {
      "text/html": [
       "<div>\n",
       "<style scoped>\n",
       "    .dataframe tbody tr th:only-of-type {\n",
       "        vertical-align: middle;\n",
       "    }\n",
       "\n",
       "    .dataframe tbody tr th {\n",
       "        vertical-align: top;\n",
       "    }\n",
       "\n",
       "    .dataframe thead th {\n",
       "        text-align: right;\n",
       "    }\n",
       "</style>\n",
       "<table border=\"1\" class=\"dataframe\">\n",
       "  <thead>\n",
       "    <tr style=\"text-align: right;\">\n",
       "      <th></th>\n",
       "      <th></th>\n",
       "      <th>count</th>\n",
       "      <th>unique</th>\n",
       "      <th>top</th>\n",
       "      <th>freq</th>\n",
       "    </tr>\n",
       "    <tr>\n",
       "      <th>make_model</th>\n",
       "      <th>body_type</th>\n",
       "      <th></th>\n",
       "      <th></th>\n",
       "      <th></th>\n",
       "      <th></th>\n",
       "    </tr>\n",
       "  </thead>\n",
       "  <tbody>\n",
       "    <tr>\n",
       "      <th>Dacia 1300</th>\n",
       "      <th>Sedan</th>\n",
       "      <td>1.0</td>\n",
       "      <td>1.0</td>\n",
       "      <td>47.0</td>\n",
       "      <td>1.0</td>\n",
       "    </tr>\n",
       "    <tr>\n",
       "      <th>Dacia Break</th>\n",
       "      <th>Station Wagon</th>\n",
       "      <td>1.0</td>\n",
       "      <td>1.0</td>\n",
       "      <td>0.0</td>\n",
       "      <td>1.0</td>\n",
       "    </tr>\n",
       "    <tr>\n",
       "      <th>Dacia Business</th>\n",
       "      <th>Compact</th>\n",
       "      <td>1.0</td>\n",
       "      <td>1.0</td>\n",
       "      <td>1.0</td>\n",
       "      <td>1.0</td>\n",
       "    </tr>\n",
       "    <tr>\n",
       "      <th>Dacia Comfort Tce</th>\n",
       "      <th>Station Wagon</th>\n",
       "      <td>1.0</td>\n",
       "      <td>1.0</td>\n",
       "      <td>0.0</td>\n",
       "      <td>1.0</td>\n",
       "    </tr>\n",
       "    <tr>\n",
       "      <th>Dacia Dokker</th>\n",
       "      <th>Compact</th>\n",
       "      <td>1.0</td>\n",
       "      <td>1.0</td>\n",
       "      <td>4.0</td>\n",
       "      <td>1.0</td>\n",
       "    </tr>\n",
       "    <tr>\n",
       "      <th>...</th>\n",
       "      <th>...</th>\n",
       "      <td>...</td>\n",
       "      <td>...</td>\n",
       "      <td>...</td>\n",
       "      <td>...</td>\n",
       "    </tr>\n",
       "    <tr>\n",
       "      <th>Volvo Xc70</th>\n",
       "      <th>Station Wagon</th>\n",
       "      <td>26.0</td>\n",
       "      <td>7.0</td>\n",
       "      <td>6.0</td>\n",
       "      <td>6.0</td>\n",
       "    </tr>\n",
       "    <tr>\n",
       "      <th rowspan=\"4\" valign=\"top\">Volvo Xc90</th>\n",
       "      <th>Coupe</th>\n",
       "      <td>4.0</td>\n",
       "      <td>1.0</td>\n",
       "      <td>5.0</td>\n",
       "      <td>4.0</td>\n",
       "    </tr>\n",
       "    <tr>\n",
       "      <th>Off-Road/Pick-Up</th>\n",
       "      <td>199.0</td>\n",
       "      <td>15.0</td>\n",
       "      <td>5.0</td>\n",
       "      <td>40.0</td>\n",
       "    </tr>\n",
       "    <tr>\n",
       "      <th>Sedan</th>\n",
       "      <td>3.0</td>\n",
       "      <td>3.0</td>\n",
       "      <td>4.0</td>\n",
       "      <td>1.0</td>\n",
       "    </tr>\n",
       "    <tr>\n",
       "      <th>Station Wagon</th>\n",
       "      <td>4.0</td>\n",
       "      <td>1.0</td>\n",
       "      <td>6.0</td>\n",
       "      <td>4.0</td>\n",
       "    </tr>\n",
       "  </tbody>\n",
       "</table>\n",
       "<p>1287 rows × 4 columns</p>\n",
       "</div>"
      ],
      "text/plain": [
       "                                    count  unique   top  freq\n",
       "make_model        body_type                                  \n",
       "Dacia 1300        Sedan               1.0     1.0  47.0   1.0\n",
       "Dacia Break       Station Wagon       1.0     1.0   0.0   1.0\n",
       "Dacia Business    Compact             1.0     1.0   1.0   1.0\n",
       "Dacia Comfort Tce Station Wagon       1.0     1.0   0.0   1.0\n",
       "Dacia Dokker      Compact             1.0     1.0   4.0   1.0\n",
       "...                                   ...     ...   ...   ...\n",
       "Volvo Xc70        Station Wagon      26.0     7.0   6.0   6.0\n",
       "Volvo Xc90        Coupe               4.0     1.0   5.0   4.0\n",
       "                  Off-Road/Pick-Up  199.0    15.0   5.0  40.0\n",
       "                  Sedan               3.0     3.0   4.0   1.0\n",
       "                  Station Wagon       4.0     1.0   6.0   4.0\n",
       "\n",
       "[1287 rows x 4 columns]"
      ]
     },
     "execution_count": 106,
     "metadata": {},
     "output_type": "execute_result"
    }
   ],
   "source": [
    "# let's explore if there is any pattern among \"\"make_model\" and \"body_type\" by \"age\"\n",
    "\n",
    "df.groupby([\"make_model\", \"body_type\"])[\"age\"].describe()"
   ]
  },
  {
   "cell_type": "code",
   "execution_count": 107,
   "metadata": {},
   "outputs": [],
   "source": [
    "# Because the dtype of \"age\" is string it's converted to floating point to examine it in detail \n",
    "\n",
    "df[\"age\"] = df[\"age\"].astype(float)"
   ]
  },
  {
   "cell_type": "code",
   "execution_count": 108,
   "metadata": {
    "scrolled": false
   },
   "outputs": [
    {
     "data": {
      "text/html": [
       "<div>\n",
       "<style scoped>\n",
       "    .dataframe tbody tr th:only-of-type {\n",
       "        vertical-align: middle;\n",
       "    }\n",
       "\n",
       "    .dataframe tbody tr th {\n",
       "        vertical-align: top;\n",
       "    }\n",
       "\n",
       "    .dataframe thead th {\n",
       "        text-align: right;\n",
       "    }\n",
       "</style>\n",
       "<table border=\"1\" class=\"dataframe\">\n",
       "  <thead>\n",
       "    <tr style=\"text-align: right;\">\n",
       "      <th></th>\n",
       "      <th></th>\n",
       "      <th>count</th>\n",
       "      <th>mean</th>\n",
       "      <th>std</th>\n",
       "      <th>min</th>\n",
       "      <th>25%</th>\n",
       "      <th>50%</th>\n",
       "      <th>75%</th>\n",
       "      <th>max</th>\n",
       "    </tr>\n",
       "    <tr>\n",
       "      <th>make_model</th>\n",
       "      <th>body_type</th>\n",
       "      <th></th>\n",
       "      <th></th>\n",
       "      <th></th>\n",
       "      <th></th>\n",
       "      <th></th>\n",
       "      <th></th>\n",
       "      <th></th>\n",
       "      <th></th>\n",
       "    </tr>\n",
       "  </thead>\n",
       "  <tbody>\n",
       "    <tr>\n",
       "      <th>Dacia 1300</th>\n",
       "      <th>Sedan</th>\n",
       "      <td>1.0</td>\n",
       "      <td>47.000000</td>\n",
       "      <td>NaN</td>\n",
       "      <td>47.0</td>\n",
       "      <td>47.0</td>\n",
       "      <td>47.0</td>\n",
       "      <td>47.0</td>\n",
       "      <td>47.0</td>\n",
       "    </tr>\n",
       "    <tr>\n",
       "      <th>Dacia Break</th>\n",
       "      <th>Station Wagon</th>\n",
       "      <td>1.0</td>\n",
       "      <td>0.000000</td>\n",
       "      <td>NaN</td>\n",
       "      <td>0.0</td>\n",
       "      <td>0.0</td>\n",
       "      <td>0.0</td>\n",
       "      <td>0.0</td>\n",
       "      <td>0.0</td>\n",
       "    </tr>\n",
       "    <tr>\n",
       "      <th>Dacia Business</th>\n",
       "      <th>Compact</th>\n",
       "      <td>1.0</td>\n",
       "      <td>1.000000</td>\n",
       "      <td>NaN</td>\n",
       "      <td>1.0</td>\n",
       "      <td>1.0</td>\n",
       "      <td>1.0</td>\n",
       "      <td>1.0</td>\n",
       "      <td>1.0</td>\n",
       "    </tr>\n",
       "    <tr>\n",
       "      <th>Dacia Comfort Tce</th>\n",
       "      <th>Station Wagon</th>\n",
       "      <td>1.0</td>\n",
       "      <td>0.000000</td>\n",
       "      <td>NaN</td>\n",
       "      <td>0.0</td>\n",
       "      <td>0.0</td>\n",
       "      <td>0.0</td>\n",
       "      <td>0.0</td>\n",
       "      <td>0.0</td>\n",
       "    </tr>\n",
       "    <tr>\n",
       "      <th>Dacia Dokker</th>\n",
       "      <th>Compact</th>\n",
       "      <td>1.0</td>\n",
       "      <td>4.000000</td>\n",
       "      <td>NaN</td>\n",
       "      <td>4.0</td>\n",
       "      <td>4.0</td>\n",
       "      <td>4.0</td>\n",
       "      <td>4.0</td>\n",
       "      <td>4.0</td>\n",
       "    </tr>\n",
       "    <tr>\n",
       "      <th>...</th>\n",
       "      <th>...</th>\n",
       "      <td>...</td>\n",
       "      <td>...</td>\n",
       "      <td>...</td>\n",
       "      <td>...</td>\n",
       "      <td>...</td>\n",
       "      <td>...</td>\n",
       "      <td>...</td>\n",
       "      <td>...</td>\n",
       "    </tr>\n",
       "    <tr>\n",
       "      <th>Volvo Xc70</th>\n",
       "      <th>Station Wagon</th>\n",
       "      <td>26.0</td>\n",
       "      <td>8.384615</td>\n",
       "      <td>2.281700</td>\n",
       "      <td>6.0</td>\n",
       "      <td>7.0</td>\n",
       "      <td>8.0</td>\n",
       "      <td>9.0</td>\n",
       "      <td>14.0</td>\n",
       "    </tr>\n",
       "    <tr>\n",
       "      <th rowspan=\"4\" valign=\"top\">Volvo Xc90</th>\n",
       "      <th>Coupe</th>\n",
       "      <td>4.0</td>\n",
       "      <td>5.000000</td>\n",
       "      <td>0.000000</td>\n",
       "      <td>5.0</td>\n",
       "      <td>5.0</td>\n",
       "      <td>5.0</td>\n",
       "      <td>5.0</td>\n",
       "      <td>5.0</td>\n",
       "    </tr>\n",
       "    <tr>\n",
       "      <th>Off-Road/Pick-Up</th>\n",
       "      <td>199.0</td>\n",
       "      <td>4.231156</td>\n",
       "      <td>3.443165</td>\n",
       "      <td>0.0</td>\n",
       "      <td>2.0</td>\n",
       "      <td>4.0</td>\n",
       "      <td>5.0</td>\n",
       "      <td>18.0</td>\n",
       "    </tr>\n",
       "    <tr>\n",
       "      <th>Sedan</th>\n",
       "      <td>3.0</td>\n",
       "      <td>2.666667</td>\n",
       "      <td>1.527525</td>\n",
       "      <td>1.0</td>\n",
       "      <td>2.0</td>\n",
       "      <td>3.0</td>\n",
       "      <td>3.5</td>\n",
       "      <td>4.0</td>\n",
       "    </tr>\n",
       "    <tr>\n",
       "      <th>Station Wagon</th>\n",
       "      <td>4.0</td>\n",
       "      <td>6.000000</td>\n",
       "      <td>0.000000</td>\n",
       "      <td>6.0</td>\n",
       "      <td>6.0</td>\n",
       "      <td>6.0</td>\n",
       "      <td>6.0</td>\n",
       "      <td>6.0</td>\n",
       "    </tr>\n",
       "  </tbody>\n",
       "</table>\n",
       "<p>1287 rows × 8 columns</p>\n",
       "</div>"
      ],
      "text/plain": [
       "                                    count       mean       std   min   25%  \\\n",
       "make_model        body_type                                                  \n",
       "Dacia 1300        Sedan               1.0  47.000000       NaN  47.0  47.0   \n",
       "Dacia Break       Station Wagon       1.0   0.000000       NaN   0.0   0.0   \n",
       "Dacia Business    Compact             1.0   1.000000       NaN   1.0   1.0   \n",
       "Dacia Comfort Tce Station Wagon       1.0   0.000000       NaN   0.0   0.0   \n",
       "Dacia Dokker      Compact             1.0   4.000000       NaN   4.0   4.0   \n",
       "...                                   ...        ...       ...   ...   ...   \n",
       "Volvo Xc70        Station Wagon      26.0   8.384615  2.281700   6.0   7.0   \n",
       "Volvo Xc90        Coupe               4.0   5.000000  0.000000   5.0   5.0   \n",
       "                  Off-Road/Pick-Up  199.0   4.231156  3.443165   0.0   2.0   \n",
       "                  Sedan               3.0   2.666667  1.527525   1.0   2.0   \n",
       "                  Station Wagon       4.0   6.000000  0.000000   6.0   6.0   \n",
       "\n",
       "                                     50%   75%   max  \n",
       "make_model        body_type                           \n",
       "Dacia 1300        Sedan             47.0  47.0  47.0  \n",
       "Dacia Break       Station Wagon      0.0   0.0   0.0  \n",
       "Dacia Business    Compact            1.0   1.0   1.0  \n",
       "Dacia Comfort Tce Station Wagon      0.0   0.0   0.0  \n",
       "Dacia Dokker      Compact            4.0   4.0   4.0  \n",
       "...                                  ...   ...   ...  \n",
       "Volvo Xc70        Station Wagon      8.0   9.0  14.0  \n",
       "Volvo Xc90        Coupe              5.0   5.0   5.0  \n",
       "                  Off-Road/Pick-Up   4.0   5.0  18.0  \n",
       "                  Sedan              3.0   3.5   4.0  \n",
       "                  Station Wagon      6.0   6.0   6.0  \n",
       "\n",
       "[1287 rows x 8 columns]"
      ]
     },
     "execution_count": 108,
     "metadata": {},
     "output_type": "execute_result"
    }
   ],
   "source": [
    "# let's explore if there is any pattern among \"\"make_model\" and \"body_type\" by \"age\"\n",
    "\n",
    "df.groupby([\"make_model\", \"body_type\"])[\"age\"].describe()"
   ]
  },
  {
   "cell_type": "markdown",
   "metadata": {},
   "source": [
    "**Let us take a close look at the age of cars considering the warranty feature with missing values** "
   ]
  },
  {
   "cell_type": "code",
   "execution_count": 109,
   "metadata": {},
   "outputs": [
    {
     "data": {
      "text/html": [
       "<div>\n",
       "<style scoped>\n",
       "    .dataframe tbody tr th:only-of-type {\n",
       "        vertical-align: middle;\n",
       "    }\n",
       "\n",
       "    .dataframe tbody tr th {\n",
       "        vertical-align: top;\n",
       "    }\n",
       "\n",
       "    .dataframe thead th {\n",
       "        text-align: right;\n",
       "    }\n",
       "</style>\n",
       "<table border=\"1\" class=\"dataframe\">\n",
       "  <thead>\n",
       "    <tr style=\"text-align: right;\">\n",
       "      <th></th>\n",
       "      <th>make_model</th>\n",
       "      <th>body_type</th>\n",
       "      <th>warranty</th>\n",
       "      <th>age</th>\n",
       "    </tr>\n",
       "  </thead>\n",
       "  <tbody>\n",
       "    <tr>\n",
       "      <th>5</th>\n",
       "      <td>Mercedes-Benz C 160</td>\n",
       "      <td>Compact</td>\n",
       "      <td>-</td>\n",
       "      <td>17.0</td>\n",
       "    </tr>\n",
       "    <tr>\n",
       "      <th>8</th>\n",
       "      <td>Mercedes-Benz A 35 Amg</td>\n",
       "      <td>Compact</td>\n",
       "      <td>-</td>\n",
       "      <td>3.0</td>\n",
       "    </tr>\n",
       "    <tr>\n",
       "      <th>15</th>\n",
       "      <td>Mercedes-Benz A 180</td>\n",
       "      <td>Compact</td>\n",
       "      <td>-</td>\n",
       "      <td>12.0</td>\n",
       "    </tr>\n",
       "    <tr>\n",
       "      <th>16</th>\n",
       "      <td>Mercedes-Benz A 250</td>\n",
       "      <td>Compact</td>\n",
       "      <td>-</td>\n",
       "      <td>1.0</td>\n",
       "    </tr>\n",
       "    <tr>\n",
       "      <th>23</th>\n",
       "      <td>Mercedes-Benz A 200</td>\n",
       "      <td>Compact</td>\n",
       "      <td>-</td>\n",
       "      <td>3.0</td>\n",
       "    </tr>\n",
       "    <tr>\n",
       "      <th>...</th>\n",
       "      <td>...</td>\n",
       "      <td>...</td>\n",
       "      <td>...</td>\n",
       "      <td>...</td>\n",
       "    </tr>\n",
       "    <tr>\n",
       "      <th>28615</th>\n",
       "      <td>Volvo 960</td>\n",
       "      <td>Sedan</td>\n",
       "      <td>-</td>\n",
       "      <td>30.0</td>\n",
       "    </tr>\n",
       "    <tr>\n",
       "      <th>28620</th>\n",
       "      <td>Volvo S90</td>\n",
       "      <td>Sedan</td>\n",
       "      <td>-</td>\n",
       "      <td>4.0</td>\n",
       "    </tr>\n",
       "    <tr>\n",
       "      <th>28623</th>\n",
       "      <td>Volvo V40</td>\n",
       "      <td>Sedan</td>\n",
       "      <td>-</td>\n",
       "      <td>4.0</td>\n",
       "    </tr>\n",
       "    <tr>\n",
       "      <th>28626</th>\n",
       "      <td>Volvo S40</td>\n",
       "      <td>Sedan</td>\n",
       "      <td>-</td>\n",
       "      <td>18.0</td>\n",
       "    </tr>\n",
       "    <tr>\n",
       "      <th>28629</th>\n",
       "      <td>Volvo S80</td>\n",
       "      <td>Sedan</td>\n",
       "      <td>-</td>\n",
       "      <td>20.0</td>\n",
       "    </tr>\n",
       "  </tbody>\n",
       "</table>\n",
       "<p>15161 rows × 4 columns</p>\n",
       "</div>"
      ],
      "text/plain": [
       "                   make_model body_type warranty   age\n",
       "5         Mercedes-Benz C 160   Compact        -  17.0\n",
       "8      Mercedes-Benz A 35 Amg   Compact        -   3.0\n",
       "15        Mercedes-Benz A 180   Compact        -  12.0\n",
       "16        Mercedes-Benz A 250   Compact        -   1.0\n",
       "23        Mercedes-Benz A 200   Compact        -   3.0\n",
       "...                       ...       ...      ...   ...\n",
       "28615               Volvo 960     Sedan        -  30.0\n",
       "28620               Volvo S90     Sedan        -   4.0\n",
       "28623               Volvo V40     Sedan        -   4.0\n",
       "28626               Volvo S40     Sedan        -  18.0\n",
       "28629               Volvo S80     Sedan        -  20.0\n",
       "\n",
       "[15161 rows x 4 columns]"
      ]
     },
     "execution_count": 109,
     "metadata": {},
     "output_type": "execute_result"
    }
   ],
   "source": [
    "df.loc[df[\"warranty\"] == \"-\"][[\"make_model\", \"body_type\", \"warranty\", \"age\"]]"
   ]
  },
  {
   "cell_type": "code",
   "execution_count": 110,
   "metadata": {},
   "outputs": [
    {
     "data": {
      "text/plain": [
       "-180.0       1\n",
       "-3.0         1\n",
       "-1.0         1\n",
       " 0.0      1752\n",
       " 1.0      1385\n",
       "          ... \n",
       " 90.0        3\n",
       " 92.0        2\n",
       " 93.0        1\n",
       " 94.0        1\n",
       " 122.0       2\n",
       "Name: age, Length: 83, dtype: int64"
      ]
     },
     "execution_count": 110,
     "metadata": {},
     "output_type": "execute_result"
    }
   ],
   "source": [
    "df.loc[df[\"warranty\"] == \"-\"][\"age\"].value_counts(dropna=False).sort_index()"
   ]
  },
  {
   "cell_type": "code",
   "execution_count": 111,
   "metadata": {},
   "outputs": [
    {
     "data": {
      "text/plain": [
       "8.950333091484731"
      ]
     },
     "metadata": {},
     "output_type": "display_data"
    }
   ],
   "source": [
    "display(df.loc[df[\"warranty\"] == \"-\"][\"age\"].mean())"
   ]
  },
  {
   "cell_type": "markdown",
   "metadata": {},
   "source": [
    "**It's assumed that missing values in the warranty feature represent no-warranty.** "
   ]
  },
  {
   "cell_type": "code",
   "execution_count": 112,
   "metadata": {},
   "outputs": [],
   "source": [
    "def warrantyclassifier(x):\n",
    "    if \"-\" in x:\n",
    "        return \"No\"\n",
    "    else:\n",
    "        return \"Yes\"\n",
    "\n",
    "df[\"warranty\"] = df[\"warranty\"].astype(str).apply(warrantyclassifier)"
   ]
  },
  {
   "cell_type": "code",
   "execution_count": 113,
   "metadata": {},
   "outputs": [
    {
     "name": "stdout",
     "output_type": "stream",
     "text": [
      "COLUMN NAME    :  warranty\n",
      "--------------------------------\n",
      "per_of_nulls   :  % 0.0\n",
      "num_of_nulls   :  0\n",
      "num_of_uniques :  2\n",
      "--------------------------------\n",
      "No     15161\n",
      "Yes    13463\n",
      "Name: warranty, dtype: int64\n",
      "\n",
      "\n"
     ]
    }
   ],
   "source": [
    "first_looking(\"warranty\")"
   ]
  },
  {
   "cell_type": "markdown",
   "metadata": {},
   "source": [
    "## gears & gearbox\n",
    "\n",
    "Since the Domain Knowledge demonstrates that there has been a close association between \"gears\" and \"gearbox\", so they will be evaluted together for filling missing values:"
   ]
  },
  {
   "cell_type": "markdown",
   "metadata": {},
   "source": [
    "### gears"
   ]
  },
  {
   "cell_type": "code",
   "execution_count": null,
   "metadata": {},
   "outputs": [],
   "source": [
    "# Let's explore basic information about \"gears\"\n",
    "\n",
    "first_looking(\"gears\")"
   ]
  },
  {
   "cell_type": "code",
   "execution_count": null,
   "metadata": {},
   "outputs": [],
   "source": [
    "# df.groupby(\"fuel_type\").gears.value_counts(dropna=False)"
   ]
  },
  {
   "cell_type": "code",
   "execution_count": null,
   "metadata": {},
   "outputs": [],
   "source": [
    "# Looking at the gear of electric vehicles is of particular importance.\n",
    "\n",
    "df[df[\"fuel_type\"]==\"Electric\"].gears.value_counts(dropna=False)"
   ]
  },
  {
   "cell_type": "code",
   "execution_count": null,
   "metadata": {},
   "outputs": [],
   "source": [
    "df[\"gears\"].fillna(\"-\", inplace=True)"
   ]
  },
  {
   "cell_type": "code",
   "execution_count": null,
   "metadata": {},
   "outputs": [],
   "source": [
    "# let's explore if there is any pattern among \"\"make_model\", \"body_type\", \"gearbox\", and \"gears\" by \"price\"\n",
    "\n",
    "df.groupby([\"make_model\", \"body_type\", \"gearbox\", \"gears\"]).price.describe()"
   ]
  },
  {
   "cell_type": "markdown",
   "metadata": {},
   "source": [
    "<div style=\"background-color: #ffeeba; padding: 10px; font-size: 16px; font-weight: bold;\">\n",
    "    The <code>number of gears</code> of cars changes by their <code>make_models</code>, <code>body_types</code>, and <code>gearbox</code> most of the time. So it's decided to fill missing values with <code>mode value</code> of corresponding group.\n",
    "</div>"
   ]
  },
  {
   "cell_type": "code",
   "execution_count": null,
   "metadata": {},
   "outputs": [],
   "source": [
    "# Let's replace dash/hyphen sign \"-\" with np.nan\n",
    "\n",
    "df[\"gears\"].replace(\"-\", np.nan, inplace=True)"
   ]
  },
  {
   "cell_type": "code",
   "execution_count": null,
   "metadata": {},
   "outputs": [],
   "source": [
    "for group1 in df[\"make_model\"].unique():\n",
    "    for group2 in df[\"body_type\"].unique():\n",
    "        for group3 in df[\"gearbox\"].unique():\n",
    "            cond1 = df[\"make_model\"] == group1\n",
    "            cond2 = (df[\"make_model\"] == group1) & (df[\"body_type\"] == group2)\n",
    "            cond3 = (df[\"make_model\"] == group1) & (df[\"body_type\"] == group2) & (df[\"gearbox\"] == group3)\n",
    "            mode1 = list(df[cond1][\"gears\"].mode())\n",
    "            mode2 = list(df[cond2][\"gears\"].mode())\n",
    "            mode3 = list(df[cond3][\"gears\"].mode())\n",
    "            if mode3 != []:\n",
    "                df.loc[cond3, \"gears\"] = df.loc[cond3, \"gears\"].fillna(df[cond3][\"gears\"].mode()[0])\n",
    "            elif mode2 != []:\n",
    "                df.loc[cond3, \"gears\"] = df.loc[cond3, \"gears\"].fillna(df[cond2][\"gears\"].mode()[0])\n",
    "            elif mode1 != []:\n",
    "                df.loc[cond3, \"gears\"] = df.loc[cond3, \"gears\"].fillna(df[cond1][\"gears\"].mode()[0])\n",
    "            else:\n",
    "                df.loc[cond3, \"gears\"] = df.loc[cond3, \"gears\"].fillna(df[\"gears\"].mode()[0])"
   ]
  },
  {
   "cell_type": "code",
   "execution_count": null,
   "metadata": {},
   "outputs": [],
   "source": [
    "first_looking(\"gears\")"
   ]
  },
  {
   "cell_type": "markdown",
   "metadata": {},
   "source": [
    "**However, there have still been some (196) missing values for ``gears`` and WHY❓**"
   ]
  },
  {
   "cell_type": "code",
   "execution_count": null,
   "metadata": {},
   "outputs": [],
   "source": [
    "df[df[\"gears\"].isna()][[\"make_model\", \"body_type\", \"gearbox\"]]"
   ]
  },
  {
   "cell_type": "markdown",
   "metadata": {},
   "source": [
    "### gearbox"
   ]
  },
  {
   "cell_type": "code",
   "execution_count": null,
   "metadata": {},
   "outputs": [],
   "source": [
    "# Let's explore basic information about \"gearbox\"\n",
    "\n",
    "first_looking(\"gearbox\")"
   ]
  },
  {
   "cell_type": "code",
   "execution_count": null,
   "metadata": {},
   "outputs": [],
   "source": [
    "# df.groupby(\"fuel_type\").gearbox.value_counts(dropna=False)"
   ]
  },
  {
   "cell_type": "code",
   "execution_count": null,
   "metadata": {},
   "outputs": [],
   "source": [
    "# Looking at the gear types of electric vehicles is of particular importance.\n",
    "\n",
    "df[df[\"fuel_type\"]==\"Electric\"].gearbox.value_counts(dropna=False)"
   ]
  },
  {
   "cell_type": "code",
   "execution_count": null,
   "metadata": {},
   "outputs": [],
   "source": [
    "df[\"gearbox\"].fillna(\"-\", inplace=True)"
   ]
  },
  {
   "cell_type": "code",
   "execution_count": null,
   "metadata": {},
   "outputs": [],
   "source": [
    "# let's explore if there is any pattern among \"\"make_model\", \"body_type\", and \"gearbox\" by \"price\"\n",
    "\n",
    "df.groupby([\"make_model\", \"body_type\", \"gearbox\"]).price.describe()"
   ]
  },
  {
   "cell_type": "markdown",
   "metadata": {},
   "source": [
    "<div style=\"background-color: #ffeeba; padding: 10px; font-size: 16px; font-weight: bold;\">\n",
    "    The <code>type of gearbox</code> of cars changes by their <code>make_models</code> and <code>body_types</code> most of the time. So it's decided to fill missing values with <code>mode value</code> of corresponding group.\n",
    "</div>"
   ]
  },
  {
   "cell_type": "code",
   "execution_count": null,
   "metadata": {},
   "outputs": [],
   "source": [
    "# Let's replace dash/hyphen sign \"-\" with np.nan\n",
    "\n",
    "df[\"gearbox\"] = df[\"gearbox\"].replace('-', np.nan)"
   ]
  },
  {
   "cell_type": "code",
   "execution_count": null,
   "metadata": {},
   "outputs": [],
   "source": [
    "fill(df, \"make_model\", \"body_type\", \"gearbox\", \"mode\")"
   ]
  },
  {
   "cell_type": "markdown",
   "metadata": {},
   "source": [
    "**Let us take care of ``gears`` again:**"
   ]
  },
  {
   "cell_type": "code",
   "execution_count": null,
   "metadata": {},
   "outputs": [],
   "source": [
    "# This is the nested for loop where it's used in fill(df, group_col1, group_col2, col_name, method) DEF to be generalized for all data\n",
    "\n",
    "for group1 in df[\"make_model\"].unique():\n",
    "    for group2 in df[\"body_type\"].unique():\n",
    "        for group3 in df[\"gearbox\"].unique():\n",
    "            cond1 = df[\"make_model\"] == group1\n",
    "            cond2 = (df[\"make_model\"] == group1) & (df[\"body_type\"] == group2)\n",
    "            cond3 = (df[\"make_model\"] == group1) & (df[\"body_type\"] == group2) & (df[\"gearbox\"] == group3)\n",
    "            mode1 = list(df[cond1][\"gears\"].mode())\n",
    "            mode2 = list(df[cond2][\"gears\"].mode())\n",
    "            mode3 = list(df[cond3][\"gears\"].mode())\n",
    "            if mode3 != []:\n",
    "                df.loc[cond3, \"gears\"] = df.loc[cond3, \"gears\"].fillna(df[cond3][\"gears\"].mode()[0])\n",
    "            elif mode2 != []:\n",
    "                df.loc[cond3, \"gears\"] = df.loc[cond3, \"gears\"].fillna(df[cond2][\"gears\"].mode()[0])\n",
    "            elif mode1 != []:\n",
    "                df.loc[cond3, \"gears\"] = df.loc[cond3, \"gears\"].fillna(df[cond1][\"gears\"].mode()[0])\n",
    "            else:\n",
    "                df.loc[cond3, \"gears\"] = df.loc[cond3, \"gears\"].fillna(df[\"gears\"].mode()[0])"
   ]
  },
  {
   "cell_type": "code",
   "execution_count": null,
   "metadata": {},
   "outputs": [],
   "source": [
    "first_looking(\"gears\")"
   ]
  },
  {
   "cell_type": "markdown",
   "metadata": {},
   "source": [
    "## fuel_type\n",
    "\n",
    "With a greater push towards fuel efficiency, low running costs and less carbon emissions, you’ll find that hybrid, diesel and electric cars will hold their value for much longer than petrol counterparts. This isn’t a universal truth, as small petrol cars can do very well, but it is becoming a trend."
   ]
  },
  {
   "cell_type": "code",
   "execution_count": null,
   "metadata": {},
   "outputs": [],
   "source": [
    "# Let's explore basic information about \"fuel_type\"\n",
    "\n",
    "first_looking(\"fuel_type\")"
   ]
  },
  {
   "cell_type": "code",
   "execution_count": null,
   "metadata": {},
   "outputs": [],
   "source": [
    "# All NaN values are converted to dash/hyphen sign \"-\" to see them in the output of describe() and explore the hidden pattern\n",
    "\n",
    "df[\"fuel_type\"].fillna(\"-\", inplace=True)"
   ]
  },
  {
   "cell_type": "markdown",
   "metadata": {},
   "source": [
    "### 📝 Domain Knowledge:\n",
    "\n",
    "If we use the same transmission in both engines, the power to the wheels would be uneven and disproportionate as per the engine RPM and driving conditions. Hence we cannot couple the same manual transmission with both the engines.\n",
    "\n",
    "**🧐 [Is there any difference between transmission systems of petrol and diesel engines?](https://www.quora.com/Is-there-any-difference-between-transmission-systems-of-petrol-and-diesel-engines)**\n",
    "\n",
    "**🧐 [Can I use a diesel engine on a petrol gearbox?](https://www.quora.com/Can-I-use-a-diesel-engine-on-a-petrol-gearbox)**"
   ]
  },
  {
   "cell_type": "code",
   "execution_count": null,
   "metadata": {},
   "outputs": [],
   "source": [
    "# let's explore if there is any pattern among \"\"make_model\", \"body_type\", \"gearbox\", and \"fuel_type\" by \"price\"\n",
    "\n",
    "df.groupby([\"make_model\", \"body_type\", \"gearbox\", \"fuel_type\"]).price.describe()"
   ]
  },
  {
   "cell_type": "code",
   "execution_count": null,
   "metadata": {},
   "outputs": [],
   "source": [
    "df[\"fuel_type\"] = df[\"fuel_type\"].replace('-', np.nan)"
   ]
  },
  {
   "cell_type": "markdown",
   "metadata": {},
   "source": [
    "<div style=\"background-color: #ffeeba; padding: 10px; font-size: 16px; font-weight: bold;\">\n",
    "    Domain Knowledge demonstrates that the <code>fuel type</code> of cars might change by their <code>make_models</code> and <code>gear_box</code> most of the time. So it's decided to fill missing values with <code>mode value</code> of corresponding group.\n",
    "</div>"
   ]
  },
  {
   "cell_type": "code",
   "execution_count": null,
   "metadata": {},
   "outputs": [],
   "source": [
    "# This DEF will fill the missing values in the \"fuel_type\" with the mode value based on \"make_model\" and \"body_type\"\n",
    "\n",
    "fill(df, \"make_model\", \"gearbox\", \"fuel_type\", \"mode\")"
   ]
  },
  {
   "cell_type": "markdown",
   "metadata": {},
   "source": [
    "## seats"
   ]
  },
  {
   "cell_type": "code",
   "execution_count": null,
   "metadata": {},
   "outputs": [],
   "source": [
    "# Let's explore basic information about \"seats\"\n",
    "\n",
    "first_looking(\"seats\")"
   ]
  },
  {
   "cell_type": "markdown",
   "metadata": {},
   "source": [
    "<div style=\"background-color: #ffeeba; padding: 10px; font-size: 16px; font-weight: bold;\">\n",
    "    Domain Knowledge demonstrates that the <code>number of seats</code> of cars might change by their <code>make_models</code> and <code>body_types</code> most of the time. So it's decided to fill missing values with <code>mode value</code> of corresponding group.\n",
    "</div>"
   ]
  },
  {
   "cell_type": "code",
   "execution_count": null,
   "metadata": {},
   "outputs": [],
   "source": [
    "# This DEF will fill the missing values in the \"seats\" with the mode value based on \"make_model\" and \"body_type\"\n",
    "\n",
    "fill(df, \"make_model\", \"body_type\", \"seats\", \"mode\")"
   ]
  },
  {
   "cell_type": "markdown",
   "metadata": {},
   "source": [
    "## co_emissions"
   ]
  },
  {
   "cell_type": "code",
   "execution_count": null,
   "metadata": {},
   "outputs": [],
   "source": [
    "# Let's explore basic information about \"co_emissions\"\n",
    "\n",
    "first_looking(\"co_emissions\")"
   ]
  },
  {
   "cell_type": "code",
   "execution_count": null,
   "metadata": {},
   "outputs": [],
   "source": [
    "# All NaN values are converted to dash/hyphen sign \"-\" to see them in the output of describe() and explore the hidden pattern\n",
    "\n",
    "df[\"co_emissions\"].fillna(\"-\", inplace=True)"
   ]
  },
  {
   "cell_type": "code",
   "execution_count": null,
   "metadata": {},
   "outputs": [],
   "source": [
    "# let's explore if there is any pattern among \"\"make_model\", \"body_type\", \"fuel_type\", and \"co_emissions\" by \"price\"\n",
    "\n",
    "df.groupby([\"make_model\", \"body_type\", \"fuel_type\", \"co_emissions\"]).price.describe()"
   ]
  },
  {
   "cell_type": "markdown",
   "metadata": {},
   "source": [
    "**Let's first examine how co_emission values for Electric cars differ from others.**"
   ]
  },
  {
   "cell_type": "code",
   "execution_count": null,
   "metadata": {},
   "outputs": [],
   "source": [
    "df.groupby([\"fuel_type\", \"make_model\", \"body_type\", \"co_emissions\"]).price.describe().loc[\"Electric\"]"
   ]
  },
  {
   "cell_type": "markdown",
   "metadata": {},
   "source": [
    "**It seems more sensible/rational to impute missing values in two stages:**\n",
    "\n",
    "- With the ``Mode`` value of Electric feature for ``Electric cars``.\n",
    "\n",
    "- With the ``Median`` values of related make_model, body_type and fuel_type features for the ``others``."
   ]
  },
  {
   "cell_type": "code",
   "execution_count": null,
   "metadata": {},
   "outputs": [],
   "source": [
    "# Let's replace dash/hyphen sign \"-\" with np.nan\n",
    "\n",
    "df[\"co_emissions\"].replace(\"-\", np.nan, inplace=True)"
   ]
  },
  {
   "cell_type": "code",
   "execution_count": null,
   "metadata": {},
   "outputs": [],
   "source": [
    "# Let's explore CO Emission values of Electric Vehicles\n",
    "\n",
    "df.loc[df[\"fuel_type\"] == \"Electric\", \"co_emissions\"]"
   ]
  },
  {
   "cell_type": "code",
   "execution_count": null,
   "metadata": {},
   "outputs": [],
   "source": [
    "# Let's see the occurances of unique CO Emission values for Electric Vehicles\n",
    "\n",
    "df[df[\"fuel_type\"] == \"Electric\"][\"co_emissions\"].value_counts(dropna=False)"
   ]
  },
  {
   "cell_type": "code",
   "execution_count": null,
   "metadata": {},
   "outputs": [],
   "source": [
    "# Let's explore CO Emission values of Vehicles which run with Benzine\n",
    "\n",
    "df[df[\"fuel_type\"] == \"Benzine\"][\"co_emissions\"].value_counts(dropna=False)"
   ]
  },
  {
   "cell_type": "code",
   "execution_count": null,
   "metadata": {},
   "outputs": [],
   "source": [
    "# Let's fill the missing values for Electric Vehicles with mode\n",
    "\n",
    "df.loc[df[\"fuel_type\"] == \"Electric\", \"co_emissions\"] = df.loc[df[\"fuel_type\"] == \"Electric\", \"co_emissions\"].fillna(df.loc[df[\"fuel_type\"] == \"Electric\", \"co_emissions\"].mode()[0])\n",
    "df.loc[df[\"fuel_type\"] == \"Electric\", \"co_emissions\"]"
   ]
  },
  {
   "cell_type": "code",
   "execution_count": null,
   "metadata": {},
   "outputs": [],
   "source": [
    "# There have some anomalies in CO Emission values for some Electric Cars\n",
    "\n",
    "df.loc[(df[\"fuel_type\"] == \"Electric\") & (df[\"co_emissions\"] != 0)][[\"fuel_type\", \"co_emissions\"]]"
   ]
  },
  {
   "cell_type": "code",
   "execution_count": null,
   "metadata": {},
   "outputs": [],
   "source": [
    "df.iloc[5831]"
   ]
  },
  {
   "cell_type": "code",
   "execution_count": null,
   "metadata": {},
   "outputs": [],
   "source": [
    "# let's explore \"Renault Arkana\" by \"co_emissions\"\n",
    "\n",
    "df.loc[df[\"make_model\"] == \"Renault Arkana\"][[\"gearbox\", \"fuel_type\", \"gears\", \"co_emissions\"]]"
   ]
  },
  {
   "cell_type": "code",
   "execution_count": null,
   "metadata": {},
   "outputs": [],
   "source": [
    "# According to the examination above, it's assumed that fuel type of that observation might be \"Benzine\"\n",
    "\n",
    "df.loc[5831, \"fuel_type\"] = \"Benzine\" \n",
    "# df.at[5831, \"fuel_type\"] = \"Benzine\" \n",
    "# df.iloc[5831, df.columns.get_loc(\"fuel_type\")] = \"Benzine\" "
   ]
  },
  {
   "cell_type": "code",
   "execution_count": null,
   "metadata": {},
   "outputs": [],
   "source": [
    "df.loc[5831][\"fuel_type\"]"
   ]
  },
  {
   "cell_type": "raw",
   "metadata": {},
   "source": [
    "# Step-1\n",
    "\n",
    "df['co_emissions'].fillna(df[\"co_emissions\"].median(), inplace = True)\n",
    "\n",
    "# Step-2\n",
    "\n",
    "df['co_emissions'].fillna(df.groupby(\"make_model\")[\"co_emissions\"].transform(\"median\"), inplace=True)\n",
    "\n",
    "# Step-3\n",
    "\n",
    "df['co_emissions'].fillna(df.groupby([\"make_model\", \"body_type\"])[\"co_emissions\"].transform(\"median\"), inplace=True)\n",
    "\n",
    "# Step-3\n",
    "\n",
    "df['co_emissions'].fillna(df.groupby([\"make_model\", \"body_type\", \"fuel_type\"])[\"co_emissions\"].transform(\"median\"), inplace=True)"
   ]
  },
  {
   "cell_type": "code",
   "execution_count": null,
   "metadata": {},
   "outputs": [],
   "source": [
    "# Let's remember and apply one of our DEFs for imputing missing values in \"co_emissions\"\n",
    "\n",
    "def fill_median(df, group_col1, group_col2, group_col3, col_name):\n",
    "    \n",
    "    df[col_name].fillna(df.groupby([group_col1, group_col2, group_col3])[col_name].transform(\"median\"), inplace = True)\n",
    "    df[col_name].fillna(df.groupby([group_col1, group_col2])[col_name].transform(\"median\"), inplace = True)\n",
    "    df[col_name].fillna(df.groupby(group_col1)[col_name].transform(\"median\"), inplace = True)\n",
    "    df[col_name].fillna(df[col_name].median(), inplace = True)\n",
    "\n",
    "    print(\"column name    : \", col_name)\n",
    "    print(\"--------------------------------\")\n",
    "    print(\"per_of_nulls   : \", \"%\", round(df[col_name].isnull().sum()*100 / df.shape[0], 2))\n",
    "    print(\"num_of_nulls   : \", df[col_name].isnull().sum())\n",
    "    print(\"num_of_uniques : \", df[col_name].nunique())\n",
    "    print(\"--------------------------------\")\n",
    "    print(df[col_name].value_counts(dropna = False))"
   ]
  },
  {
   "cell_type": "code",
   "execution_count": null,
   "metadata": {},
   "outputs": [],
   "source": [
    "# This DEF will fill the missing values in the \"co_emissions\" with the median value based on \"make_model\", \"body_type\", and \"fuel_type\"\n",
    "\n",
    "fill_median(df, \"make_model\", \"body_type\", \"fuel_type\", \"co_emissions\")"
   ]
  },
  {
   "cell_type": "markdown",
   "metadata": {},
   "source": [
    "## cylinders"
   ]
  },
  {
   "cell_type": "code",
   "execution_count": null,
   "metadata": {
    "scrolled": true
   },
   "outputs": [],
   "source": [
    "# Let's explore basic information about \"cylinders\"\n",
    "\n",
    "first_looking(\"cylinders\")"
   ]
  },
  {
   "cell_type": "code",
   "execution_count": null,
   "metadata": {},
   "outputs": [],
   "source": [
    "# All NaN values are converted to dash/hyphen sign \"-\" to see them in the output of describe() and explore the hidden pattern\n",
    "\n",
    "df[\"cylinders\"].fillna(\"-\", inplace=True)"
   ]
  },
  {
   "cell_type": "code",
   "execution_count": null,
   "metadata": {
    "scrolled": true
   },
   "outputs": [],
   "source": [
    "# let's explore if there is any pattern among \"make_model\", \"body_type\", \"age\", and \"cylinders\" by \"price\"\n",
    "\n",
    "df.groupby([\"make_model\", \"body_type\", \"age\", \"cylinders\"]).price.describe()"
   ]
  },
  {
   "cell_type": "code",
   "execution_count": null,
   "metadata": {},
   "outputs": [],
   "source": [
    "# Let's replace dash/hyphen sign \"-\" with np.nan\n",
    "\n",
    "df[\"cylinders\"].replace(\"-\", np.nan, inplace=True)"
   ]
  },
  {
   "cell_type": "code",
   "execution_count": null,
   "metadata": {},
   "outputs": [],
   "source": [
    "# This DEF will fill the missing values in the \"cylinders\" with the mode value based on \"make_model\" and \"body_type\"\n",
    "\n",
    "fill(df, \"make_model\", \"body_type\", \"cylinders\", \"mode\")"
   ]
  },
  {
   "cell_type": "markdown",
   "metadata": {},
   "source": [
    "<div style=\"background-color: #FFB6C1; padding: 10px; font-size: 16px; font-weight: bold;\">\n",
    "    However, it is preferred to drop the <code>cylinders</code> feature in this analysis since there have been some other features, such as <code>power_hp</code>, <code>power_kW</code>, and <code>engine_size</code>, having fewer missing values and giving similar insight. So it's assumed to continue without the <code>cylinders</code> feature in this analysis.\n",
    "</div>"
   ]
  },
  {
   "cell_type": "code",
   "execution_count": null,
   "metadata": {},
   "outputs": [],
   "source": [
    "display(df.shape)  # the number of rows & columns BEFORE dropping process\n",
    "df.drop(\"cylinders\", axis=1, inplace=True)\n",
    "display(df.shape)  # the number of rows & columns AFTER dropping process"
   ]
  },
  {
   "cell_type": "markdown",
   "metadata": {},
   "source": [
    "## power_kW"
   ]
  },
  {
   "cell_type": "code",
   "execution_count": null,
   "metadata": {},
   "outputs": [],
   "source": [
    "# Let's explore basic information about \"power_kW\"\n",
    "\n",
    "first_looking(\"power_kW\")"
   ]
  },
  {
   "cell_type": "code",
   "execution_count": null,
   "metadata": {},
   "outputs": [],
   "source": [
    "# All NaN values are converted to dash/hyphen sign \"-\" to see them in the output of describe() and explore the hidden pattern\n",
    "\n",
    "df[\"power_kW\"].fillna(\"-\", inplace=True)"
   ]
  },
  {
   "cell_type": "code",
   "execution_count": null,
   "metadata": {},
   "outputs": [],
   "source": [
    "# let's explore if there is any pattern among \"make_model\", \"body_type\", and \"power_kW\" by \"price\"\n",
    "\n",
    "df.groupby([\"make_model\", \"body_type\", \"power_kW\"]).price.describe()"
   ]
  },
  {
   "cell_type": "code",
   "execution_count": null,
   "metadata": {},
   "outputs": [],
   "source": [
    "df.loc[df[\"power_kW\"] == \"-\"][[\"make_model\", \"body_type\", \"power_kW\", \"power_hp\", \"engine_size\", \"fuel_type\"]]"
   ]
  },
  {
   "cell_type": "markdown",
   "metadata": {},
   "source": [
    "<div style=\"background-color: #ffeeba; padding: 10px; font-size: 16px; font-weight: bold;\">\n",
    "    Domain Knowledge demonstrates that the <code>kW</code> of cars might change by their <code>make_models</code> and <code>body_types</code> most of the time. So it's decided to fill missing values with <code>mode value</code> of corresponding group.\n",
    "</div>"
   ]
  },
  {
   "cell_type": "code",
   "execution_count": null,
   "metadata": {},
   "outputs": [],
   "source": [
    "# Let's replace dash/hyphen sign \"-\" with np.nan\n",
    "\n",
    "df[\"power_kW\"].replace([\"-\"], np.nan, inplace=True)"
   ]
  },
  {
   "cell_type": "code",
   "execution_count": null,
   "metadata": {},
   "outputs": [],
   "source": [
    "# This DEF will fill the missing values in the \"power_kW\" with the mode value based on \"make_model\" and \"body_type\"\n",
    "\n",
    "fill(df, \"make_model\", \"body_type\", \"power_kW\", \"mode\")"
   ]
  },
  {
   "cell_type": "markdown",
   "metadata": {},
   "source": [
    "## power_hp"
   ]
  },
  {
   "cell_type": "code",
   "execution_count": null,
   "metadata": {
    "scrolled": true
   },
   "outputs": [],
   "source": [
    "# Let's explore basic information about \"power_hp\"\n",
    "\n",
    "first_looking(\"power_hp\")"
   ]
  },
  {
   "cell_type": "code",
   "execution_count": null,
   "metadata": {},
   "outputs": [],
   "source": [
    "# All NaN values are converted to dash/hyphen sign \"-\" to see them in the output of describe() and explore the hidden pattern\n",
    "\n",
    "df[\"power_hp\"].fillna(\"-\", inplace=True)"
   ]
  },
  {
   "cell_type": "code",
   "execution_count": null,
   "metadata": {},
   "outputs": [],
   "source": [
    "# let's explore if there is any pattern among \"make_model\", \"body_type\", and \"power_hp\" by \"price\"\n",
    "\n",
    "df.groupby([\"make_model\", \"body_type\", \"power_hp\"]).price.describe()"
   ]
  },
  {
   "cell_type": "markdown",
   "metadata": {},
   "source": [
    "<div style=\"background-color: #ffeeba; padding: 10px; font-size: 16px; font-weight: bold;\">\n",
    "    Domain Knowledge demonstrates that the <code>hp</code> of cars changes by their <code>make_models</code> and <code>body_types</code> most of the time. So it's decided to fill missing values with <code>mode value</code> of corresponding group.\n",
    "</div>"
   ]
  },
  {
   "cell_type": "code",
   "execution_count": null,
   "metadata": {},
   "outputs": [],
   "source": [
    "# Let's replace dash/hyphen sign \"-\" with np.nan\n",
    "\n",
    "df[\"power_hp\"].replace([\"-\"], np.nan, inplace=True)"
   ]
  },
  {
   "cell_type": "code",
   "execution_count": null,
   "metadata": {},
   "outputs": [],
   "source": [
    "# This DEF will fill the missing values in the \"power_kW\" with the mode value based on \"make_model\" and \"body_type\"\n",
    "\n",
    "fill(df, \"make_model\", \"body_type\", \"power_hp\", \"mode\")"
   ]
  },
  {
   "cell_type": "markdown",
   "metadata": {},
   "source": [
    "<div style=\"background-color: #FFB6C1; padding: 10px; font-size: 16px; font-weight: bold;\">\n",
    "    The <code>hp</code> feature is dropped from the analysis and <code>kW</code> will be used for further steps since <code>kW</code> is used as the indicator of comsumption for electric vehicles as well.\n",
    "</div>"
   ]
  },
  {
   "cell_type": "code",
   "execution_count": null,
   "metadata": {},
   "outputs": [],
   "source": [
    "display(df.shape)  # the number of rows & columns BEFORE dropping process\n",
    "df.drop(\"power_hp\", axis=1, inplace=True)\n",
    "display(df.shape)  # the number of rows & columns AFTER dropping process"
   ]
  },
  {
   "cell_type": "markdown",
   "metadata": {},
   "source": [
    "## cons_avg\n",
    "\n",
    "**📢 Problem!!!**\n",
    "\n",
    "We are all used to the fact that the fuel consumption of a petrol or diesel car is expressed in litres per hundred kilometres (l/100 km)...An electric car does NOT use fuel but gets its energy from a battery. The maximum amount of energy the battery can store (capacity) is expressed in kWh (kilowatt-hour). Instead of the amount of fuel needed to cover hundred kilometres, the energy consumption of an electric car is (usually) expressed in the number of kilowatt-hours needed to drive a hundred kilometres (kWh/100 km).\n",
    "\n",
    "**🤔 How do we deal with this issue?**\n",
    "\n",
    "**🧐 [What is the equivalent fuel consumption of an electric car?](https://news.mgmotor.eu/what-is-the-equivalent-fuel-consumption-of-an-electric-car/)**\n",
    "\n",
    "**🧐 [Energy consumption of full electric vehicles](https://ev-database.org/cheatsheet/energy-consumption-electric-car)**\n",
    "\n",
    "**🧐 [HOW DO YOU CALCULATE KWH VS. KW?](https://www.directenergyregulatedservices.com/blog/kw-vs-kwh-whats-difference#:~:text=Divide%20the%20wattage%20by%201%2C000,days%20%3D%2090%20kWh%20per%20month)**"
   ]
  },
  {
   "cell_type": "code",
   "execution_count": null,
   "metadata": {
    "scrolled": true
   },
   "outputs": [],
   "source": [
    "# Let's explore basic information about \"cons_avg\"\n",
    "\n",
    "first_looking(\"cons_avg\")"
   ]
  },
  {
   "cell_type": "markdown",
   "metadata": {},
   "source": [
    "**let us first examine how electric vehicles look like?**"
   ]
  },
  {
   "cell_type": "code",
   "execution_count": null,
   "metadata": {},
   "outputs": [],
   "source": [
    "df.loc[df[\"fuel_type\"] == \"Electric\"][[\"fuel_type\", \"cons_avg\"]]"
   ]
  },
  {
   "cell_type": "code",
   "execution_count": null,
   "metadata": {},
   "outputs": [],
   "source": [
    "df.groupby(\"fuel_type\")[[\"cons_avg\"]].describe()"
   ]
  },
  {
   "cell_type": "markdown",
   "metadata": {},
   "source": [
    "<div style=\"background-color: #ffeeba; padding: 10px; font-size: 16px; font-weight: bold;\">\n",
    "    No values seem to be entered for electric vehicles.\n",
    "</div>\n",
    "\n",
    "### 📝 Domain Knowledge About Energy Consumption of Electric Cars\n",
    "\n",
    "**According to the following cheatsheet as a quick reference which shows all-electric vehicles sorted by energy consumption, the average consumption of electric vehicles is ``201 Wh/km`` (20100 Wh/100km) - ``0.210 kWh/km`` (21 kWh/100km) (1 watt hour = 0.001 kilowatt hours). Data is based on real-world values. The average is corrected for multiple versions of the same model.**\n",
    "\n",
    "Let’s take the ``MG5 Electric Long Range`` as an example, the world’s first all-electric station wagon. The battery offers a capacity of ``61.1 kWh``. With a fully charged battery, you can drive a distance up to ``400 km`` according to the European protocol for the measurement of energy consumption (WLTP). This means the average energy consumption of the MG5 Electric Long Range is ``15.3 kWh/100 km``.\n",
    "\n",
    "Since electric driving is still unknown territory for many, the energy consumption of an electric car doesn’t mean much to most motorists. But to give you an idea, we can calculate the ‘equivalent fuel consumption’ of an electric car.\n",
    "\n",
    "How? Well, we know a ``litre of petrol`` contains about ``8.9 kWh`` of energy. If we convert this and compare it with the energy consumption of the MG5 Electric Long Range (15.3 kWh/100 km divided by 8.9 kWh/litre), you have an equivalent fuel consumption of just ``1.7 l/100 km``. In other words, the MG5 Electric is considerably more energy efficient than any car with an internal Combustion Engine (ICE).\n",
    "\n",
    "So, in our case, if the average consumption of electric vehicles, in general, is accepted as **``21 kWh/100km``**, then 21/8.9 is equal to **``2.359 l/100 km``**, which can be used to fill missing values for electric vehicles. \n",
    "\n",
    "**🧐 [Energy consumption of full electric vehicles](https://ev-database.org/cheatsheet/energy-consumption-electric-car)**\n",
    "\n",
    "<br><div style=\"background-color: #ffeeba; padding: 10px; font-size: 16px; font-weight: bold;\">\n",
    "    It seems more sensible/rational to fill missing values in two stages:\n",
    "</div>\n",
    "\n",
    "- With the accepted ``Average`` consumption value of ``electric vehicles``.\n",
    "- If it's posibble, with the a calculated ``Average`` value; otherwise, with the ``Median`` values of related make_model, body_type and fuel_type features for the ``others``."
   ]
  },
  {
   "cell_type": "markdown",
   "metadata": {},
   "source": [
    "### Stage 1:"
   ]
  },
  {
   "cell_type": "code",
   "execution_count": null,
   "metadata": {},
   "outputs": [],
   "source": [
    "df.loc[df[\"fuel_type\"] == \"Electric\", \"cons_avg\"] = 2.359  # According to Domain Knowledge above\n",
    "df.loc[df[\"fuel_type\"] == \"Electric\"][[\"fuel_type\", \"cons_avg\"]]"
   ]
  },
  {
   "cell_type": "code",
   "execution_count": null,
   "metadata": {},
   "outputs": [],
   "source": [
    "# Let's explore basic information about \"cons_avg\" again\n",
    "\n",
    "first_looking(\"cons_avg\")"
   ]
  },
  {
   "cell_type": "markdown",
   "metadata": {},
   "source": [
    "### Stage 2:\n",
    "\n",
    "**Let us calculate the average fuel consumption for vehicles according to values at hand:**"
   ]
  },
  {
   "cell_type": "code",
   "execution_count": null,
   "metadata": {},
   "outputs": [],
   "source": [
    "# Let's first explore id there has been some values in \"cons_city\" and \"cons_country\" columns to fill missing values in \"cons_avg\"\n",
    "\n",
    "df[(df[\"cons_avg\"].isnull()) & (df[\"cons_city\"].notnull()) & (df[\"cons_country\"].notnull())]"
   ]
  },
  {
   "cell_type": "code",
   "execution_count": null,
   "metadata": {},
   "outputs": [],
   "source": [
    "# Then, let's calculate an average fuel consumption value based on the values in \"cons_city\" and \"cons_country\" columns\n",
    "\n",
    "cons_avg2 = (df[\"cons_country\"] + df[\"cons_city\"])/2\n",
    "cons_avg2.value_counts(dropna=False)"
   ]
  },
  {
   "cell_type": "code",
   "execution_count": null,
   "metadata": {},
   "outputs": [],
   "source": [
    "# Let's fill fill missing values in \"cons_avg\" based on average fuel consumption calculation above\n",
    "\n",
    "df[\"cons_avg\"] = df[\"cons_avg\"].fillna(cons_avg2)"
   ]
  },
  {
   "cell_type": "code",
   "execution_count": null,
   "metadata": {},
   "outputs": [],
   "source": [
    "# Let's explore basic information about \"cons_avg\" again\n",
    "\n",
    "first_looking(\"cons_avg\")"
   ]
  },
  {
   "cell_type": "markdown",
   "metadata": {},
   "source": [
    "**However, this approach did NOT work and make any impact on decreasing the number of missing values in ``cons_avg``**"
   ]
  },
  {
   "cell_type": "code",
   "execution_count": null,
   "metadata": {},
   "outputs": [],
   "source": [
    "# All NaN values are converted to dash/hyphen sign \"-\" to see them in the output of describe() and explore the hidden pattern\n",
    "\n",
    "df[\"cons_avg\"].fillna(\"-\", inplace=True)"
   ]
  },
  {
   "cell_type": "code",
   "execution_count": null,
   "metadata": {},
   "outputs": [],
   "source": [
    "# let's explore if there is any pattern among \"make_model\", \"body_type\", \"fuel_type\", and \"cons_avg\" by \"price\"\n",
    "\n",
    "df.groupby([\"make_model\", \"body_type\", \"fuel_type\", \"cons_avg\"]).price.describe()"
   ]
  },
  {
   "cell_type": "code",
   "execution_count": null,
   "metadata": {},
   "outputs": [],
   "source": [
    "# Let's replace dash/hyphen sign \"-\" with np.nan\n",
    "\n",
    "df[\"cons_avg\"].replace(\"-\", np.nan, inplace=True)"
   ]
  },
  {
   "cell_type": "code",
   "execution_count": null,
   "metadata": {
    "scrolled": true
   },
   "outputs": [],
   "source": [
    "# This DEF will fill the missing values in the \"cons_avg\" with the meddian value based on \"make_model\", \"body_type\", and \"fuel_type\"\n",
    "\n",
    "fill_median(df, \"make_model\", \"body_type\", \"fuel_type\", \"cons_avg\")"
   ]
  },
  {
   "cell_type": "markdown",
   "metadata": {},
   "source": [
    "## cons_city"
   ]
  },
  {
   "cell_type": "code",
   "execution_count": null,
   "metadata": {},
   "outputs": [],
   "source": [
    "# Let's explore basic information about \"cons_city\"\n",
    "\n",
    "first_looking(\"cons_city\")"
   ]
  },
  {
   "cell_type": "code",
   "execution_count": null,
   "metadata": {},
   "outputs": [],
   "source": [
    "# Let's drop \"cons_city\" since we have a calculate \"cons_avg\" feature\n",
    "\n",
    "display(df.shape)  # the number of rows & columns BEFORE dropping process\n",
    "df.drop(\"cons_city\", axis=1, inplace=True)\n",
    "display(df.shape)  # the number of rows & columns AFTER dropping process"
   ]
  },
  {
   "cell_type": "markdown",
   "metadata": {},
   "source": [
    "## cons_country"
   ]
  },
  {
   "cell_type": "code",
   "execution_count": null,
   "metadata": {},
   "outputs": [],
   "source": [
    "# Let's explore basic information about \"cons_country\"\n",
    "\n",
    "first_looking(\"cons_country\")"
   ]
  },
  {
   "cell_type": "code",
   "execution_count": null,
   "metadata": {},
   "outputs": [],
   "source": [
    "# Let's drop \"cons_country\" since we have a calculate \"cons_avg\" feature\n",
    "\n",
    "display(df.shape)  # the number of rows & columns BEFORE dropping process\n",
    "df.drop(\"cons_country\", axis=1, inplace=True)\n",
    "display(df.shape)  # the number of rows & columns AFTER dropping process"
   ]
  },
  {
   "cell_type": "markdown",
   "metadata": {},
   "source": [
    "## drivetrain"
   ]
  },
  {
   "cell_type": "code",
   "execution_count": null,
   "metadata": {},
   "outputs": [],
   "source": [
    "# Let's explore basic information about \"drivetrain\"\n",
    "\n",
    "first_looking(\"drivetrain\")"
   ]
  },
  {
   "cell_type": "code",
   "execution_count": null,
   "metadata": {},
   "outputs": [],
   "source": [
    "# All NaN values are converted to dash/hyphen sign \"-\" to see them in the output of describe() and explore the hidden pattern\n",
    "\n",
    "df[\"drivetrain\"].fillna(\"-\", inplace=True)"
   ]
  },
  {
   "cell_type": "code",
   "execution_count": null,
   "metadata": {},
   "outputs": [],
   "source": [
    "# let's explore if there is any pattern among \"make_model\", \"body_type\", and \"drivetrain\" by \"price\"\n",
    "\n",
    "df.groupby([\"make_model\", \"body_type\", \"drivetrain\"]).price.describe()"
   ]
  },
  {
   "cell_type": "markdown",
   "metadata": {},
   "source": [
    "<div style=\"background-color: #ffeeba; padding: 10px; font-size: 16px; font-weight: bold;\">\n",
    "    Domain Knowledge demonstrates that the <code>drivetrain</code> of cars changes by their <code>make_models</code> and <code>body_types</code> most of the time. So it's decided to fill missing values with <code>mode value</code> of corresponding group.\n",
    "</div>"
   ]
  },
  {
   "cell_type": "code",
   "execution_count": null,
   "metadata": {
    "scrolled": true
   },
   "outputs": [],
   "source": [
    "df[df[\"body_type\"] == \"Off-Road/Pick-up\"][[\"make_model\", \"body_type\", \"fuel_type\", \"drivetrain\"]].value_counts()"
   ]
  },
  {
   "cell_type": "markdown",
   "metadata": {},
   "source": [
    "### 📝 Domain Knowledge About Drivetrain of Some Electric Cars\n",
    "\n",
    "The **``Škoda Enyaq iV``** is a battery electric compact crossover SUV manufactured by Škoda Auto. It was introduced in September 2020 in Prague, while mass production commenced in November 2020...The Enyaq iV will be available either as **``rear-wheel drive``** or **``all-wheel drive``**, with three different battery capacities and five performance versions...\n",
    "\n",
    "The **``Hyundai Kona``** is a subcompact crossover SUV (B-segment) produced by the South Korean manufacturer Hyundai. The Kona debuted in June 2017 and the production version was revealed later that year...While it is developed as an urban-oriented crossover SUV, the Kona is available in **``front-wheel-drive``** and **``all-wheel-drive``** variants...\n",
    "\n",
    "The **``Ford Mustang Mach-E``** is a battery electric compact crossover SUV produced by Ford. The vehicle was introduced on November 17, 2019, and went on sale in December 2020 as a 2021 model...Its Layout is either **``Rear-motor``** with **``rear-wheel drive``** or **``Dual-motor``** with **``all-wheel-drive``**...\n",
    "\n",
    "This Domain Knowledge demonstrates that the newest car technology breaks through some major trends impacting automotive manufacturing, particularly for electric vehicles. Eventually, this comes up with a new terminology. Therefore, there is a conceptual confusion in the automative sector, since the technology used in the production of electric batteries is different and there is **no standardization** in terms of concepts yet."
   ]
  },
  {
   "cell_type": "code",
   "execution_count": null,
   "metadata": {},
   "outputs": [],
   "source": [
    "# Let's replace dash/hyphen sign \"-\" with np.nan\n",
    "\n",
    "df[\"drivetrain\"] = df[\"drivetrain\"].replace('-', np.nan)"
   ]
  },
  {
   "cell_type": "code",
   "execution_count": null,
   "metadata": {},
   "outputs": [],
   "source": [
    "# This DEF will fill the missing values in the \"drivetrain\" with the median value based on \"make_model\" and \"body_type\"\n",
    "\n",
    "fill(df, \"make_model\", \"body_type\", \"drivetrain\", \"mode\")"
   ]
  },
  {
   "cell_type": "markdown",
   "metadata": {},
   "source": [
    "## empty_weight"
   ]
  },
  {
   "cell_type": "code",
   "execution_count": null,
   "metadata": {},
   "outputs": [],
   "source": [
    "# Let's explore basic information about \"empty_weight\"\n",
    "\n",
    "first_looking(\"empty_weight\")"
   ]
  },
  {
   "cell_type": "code",
   "execution_count": null,
   "metadata": {},
   "outputs": [],
   "source": [
    "# All NaN values are converted to dash/hyphen sign \"-\" to see them in the output of describe() and explore the hidden pattern\n",
    "\n",
    "df[\"empty_weight\"].fillna(\"-\", inplace=True)"
   ]
  },
  {
   "cell_type": "code",
   "execution_count": null,
   "metadata": {},
   "outputs": [],
   "source": [
    "# let's explore if there is any pattern among \"make_model\", \"body_type\", and \"empty_weight\" by \"price\"\n",
    "\n",
    "df.groupby([\"make_model\", \"body_type\", \"empty_weight\"]).price.describe()"
   ]
  },
  {
   "cell_type": "markdown",
   "metadata": {},
   "source": [
    "<div style=\"background-color: #ffeeba; padding: 10px; font-size: 16px; font-weight: bold;\">\n",
    "    Domain Knowledge demonstrates that the <code>empty weight</code> of cars changes by their <code>make_models</code> and <code>body_types</code> most of the time. So it's decided to fill missing values with <code>mode value</code> of corresponding group.\n",
    "</div>"
   ]
  },
  {
   "cell_type": "code",
   "execution_count": null,
   "metadata": {},
   "outputs": [],
   "source": [
    "# Let's replace dash/hyphen sign \"-\" with np.nan\n",
    "\n",
    "df[\"empty_weight\"].replace(\"-\", np.nan, inplace=True)"
   ]
  },
  {
   "cell_type": "code",
   "execution_count": null,
   "metadata": {},
   "outputs": [],
   "source": [
    "# This DEF will fill the missing values in the \"drivetrain\" with the mode value based on \"make_model\", \"body_type\", and \"empty_weight\"\n",
    "\n",
    "fill(df, \"make_model\", \"body_type\", \"empty_weight\", \"mode\")"
   ]
  },
  {
   "cell_type": "markdown",
   "metadata": {},
   "source": [
    "## previous_owner"
   ]
  },
  {
   "cell_type": "code",
   "execution_count": null,
   "metadata": {},
   "outputs": [],
   "source": [
    "# Let's explore basic information about \"previous_owner\"\n",
    "\n",
    "first_looking(\"previous_owner\")"
   ]
  },
  {
   "cell_type": "code",
   "execution_count": null,
   "metadata": {},
   "outputs": [],
   "source": [
    "# All NaN values are converted to dash/hyphen sign \"-\" to see them in the output of describe() and explore the hidden pattern\n",
    "\n",
    "df[\"previous_owner\"].fillna(\"-\", inplace = True)"
   ]
  },
  {
   "cell_type": "code",
   "execution_count": null,
   "metadata": {},
   "outputs": [],
   "source": [
    "# let's explore if there is any pattern among \"make_model\", \"body_type\", 'age', and \"previous_owner\" by \"price\"\n",
    "\n",
    "df.groupby(['make_model', 'body_type', 'age', 'previous_owner']).price.describe()"
   ]
  },
  {
   "cell_type": "code",
   "execution_count": null,
   "metadata": {},
   "outputs": [],
   "source": [
    "# let's explore if there is any pattern among \"make_model\", \"body_type\", 'age', and \"previous_owner\" by \"mileage\"\n",
    "\n",
    "df.groupby(['make_model', 'body_type', 'age', 'previous_owner']).mileage.describe()"
   ]
  },
  {
   "cell_type": "code",
   "execution_count": null,
   "metadata": {},
   "outputs": [],
   "source": [
    "# Let's replace dash/hyphen sign \"-\" with np.nan\n",
    "\n",
    "df[\"previous_owner\"].replace(\"-\", np.nan, inplace=True)"
   ]
  },
  {
   "cell_type": "code",
   "execution_count": null,
   "metadata": {},
   "outputs": [],
   "source": [
    "def fill_prop(df, group_col, col_name):\n",
    "    '''Fills the missing values with \"ffill and bfill method\" according to single-stage grouping'''\n",
    "    \n",
    "    for group in df[group_col].unique():\n",
    "        cond = df[group_col] == group\n",
    "        df.loc[cond, col_name] = df.loc[cond, col_name].fillna(method=\"ffill\").fillna(method=\"bfill\")\n",
    "    \n",
    "    df[col_name] = df[col_name].fillna(method=\"ffill\").fillna(method=\"bfill\")\n",
    "    \n",
    "    print(\"column name    : \", col_name)\n",
    "    print(\"--------------------------------\")\n",
    "    print(\"per_of_nulls   : \", \"%\", round(df[col_name].isnull().sum()*100 / df.shape[0], 2))\n",
    "    print(\"num_of_nulls   : \", df[col_name].isnull().sum())\n",
    "    print(\"num_of_uniques : \", df[col_name].nunique())\n",
    "    print(\"--------------------------------\")\n",
    "    print(df[col_name].value_counts(dropna = False))"
   ]
  },
  {
   "cell_type": "code",
   "execution_count": null,
   "metadata": {},
   "outputs": [],
   "source": [
    "# This DEF fills missing values in \"previous_owner\" using forward and backward fill based on \"age\"\n",
    "\n",
    "fill_prop(df, \"age\", \"previous_owner\")"
   ]
  },
  {
   "cell_type": "markdown",
   "metadata": {},
   "source": [
    "## energy_efficiency_class"
   ]
  },
  {
   "cell_type": "code",
   "execution_count": null,
   "metadata": {},
   "outputs": [],
   "source": [
    "# Let's explore basic information about \"energy_efficiency_class\"\n",
    "\n",
    "first_looking(\"energy_efficiency_class\")"
   ]
  },
  {
   "cell_type": "code",
   "execution_count": null,
   "metadata": {},
   "outputs": [],
   "source": [
    "# All NaN values are converted to dash/hyphen sign \"-\" to see them in the output of describe() and explore the hidden pattern\n",
    "\n",
    "df[\"energy_efficiency_class\"].fillna(\"-\", inplace = True)"
   ]
  },
  {
   "cell_type": "code",
   "execution_count": null,
   "metadata": {},
   "outputs": [],
   "source": [
    "# let's explore if there is any pattern among 'energy_efficiency_class', \"make_model\", \"body_type\", and \"age\" by \"mileage\"\n",
    "\n",
    "df.groupby(['energy_efficiency_class', 'make_model', 'body_type', 'age']).mileage.describe()"
   ]
  },
  {
   "cell_type": "code",
   "execution_count": null,
   "metadata": {
    "scrolled": true
   },
   "outputs": [],
   "source": [
    "# Let's focus on discovering what NaN values in \"energy_efficiency_class\" tell\n",
    "\n",
    "# df.loc[(df.energy_efficiency_class == \"-\") & (df.fuel_type == \"Electric\")][[\"make_model\", \"age\", \"body_type\", \"gearbox\", \"drivetrain\", \"gears\", \"engine_size\", \"fuel_type\", \"co_emissions\", \"cons_avg\"]]\n",
    "\n",
    "df.loc[(df.energy_efficiency_class == \"-\")][[\"make_model\", \"age\", \"body_type\", \"gearbox\", \"drivetrain\", \"gears\", \"engine_size\", \"fuel_type\", \"co_emissions\", \"cons_avg\"]]"
   ]
  },
  {
   "cell_type": "code",
   "execution_count": null,
   "metadata": {
    "scrolled": true
   },
   "outputs": [],
   "source": [
    "df.loc[(df.energy_efficiency_class == \"-\")][\"age\"].value_counts()"
   ]
  },
  {
   "cell_type": "code",
   "execution_count": null,
   "metadata": {},
   "outputs": [],
   "source": [
    "# Let's replace dash/hyphen sign \"-\" with np.nan\n",
    "\n",
    "df[\"energy_efficiency_class\"].replace(\"-\", np.nan, inplace=True)"
   ]
  },
  {
   "cell_type": "code",
   "execution_count": null,
   "metadata": {},
   "outputs": [],
   "source": [
    "fill(df, \"make_model\", \"age\", \"energy_efficiency_class\", \"mode\")"
   ]
  },
  {
   "cell_type": "markdown",
   "metadata": {},
   "source": [
    "## upholstery"
   ]
  },
  {
   "cell_type": "code",
   "execution_count": null,
   "metadata": {
    "scrolled": true
   },
   "outputs": [],
   "source": [
    "# Let's explore basic information about \"upholstery\"\n",
    "\n",
    "first_looking(\"upholstery\")"
   ]
  },
  {
   "cell_type": "markdown",
   "metadata": {},
   "source": [
    "### 📝 Domain Knowledge About Velour & Alcantara\n",
    "\n",
    "**``Velour``** is a traditional fabric cloth previously used on OE automotive seating. It features a durable construction and is finished with a 3.5mm foam and denier backing for ease of fabrication. Velour insert cloth is versatile and can be used on other general purpose upholstery applications.\n",
    "\n",
    "**``Alcantara``** is an Italian-made synthetic fabric that is durable and feels like suede. Alcantara has a soft, suede-like microfiber pile and is renowned for its unmatched durability. Alcantara is commonly used in car interiors such as Alcantara car seats or Alcantara steering wheel covers."
   ]
  },
  {
   "cell_type": "code",
   "execution_count": null,
   "metadata": {},
   "outputs": [],
   "source": [
    "# Let's redesign \"upholstery\" feature based on Domain Knowledge About Velour & Alcantara above\n",
    "\n",
    "df[\"upholstery\"].replace([\"Velour\", \"alcantara\", \"Part leather\", \"Full leather\"],\n",
    "                         [\"Cloth\", \"Part/Full Leather\", \"Part/Full Leather\", \"Part/Full Leather\"], inplace=True)\n",
    "\n",
    "df[\"upholstery\"].replace(\"Other\", np.nan, inplace=True)\n",
    "\n",
    "df[\"upholstery\"].value_counts(dropna=False)"
   ]
  },
  {
   "cell_type": "code",
   "execution_count": null,
   "metadata": {},
   "outputs": [],
   "source": [
    "# All NaN values are converted to dash/hyphen sign \"-\" to see them in the output of describe() and explore the hidden pattern\n",
    "\n",
    "df[\"upholstery\"].fillna(\"-\", inplace=True)"
   ]
  },
  {
   "cell_type": "code",
   "execution_count": null,
   "metadata": {},
   "outputs": [],
   "source": [
    "# let's explore if there is any pattern among \"make_model\", \"body_type\", \"age\", and \"upholstery\"by \"price\"\n",
    "\n",
    "df.groupby([\"make_model\", \"body_type\", \"age\", \"upholstery\"]).price.describe()"
   ]
  },
  {
   "cell_type": "markdown",
   "metadata": {},
   "source": [
    "<div style=\"background-color: #ffeeba; padding: 10px; font-size: 16px; font-weight: bold;\">\n",
    "    Since it was <u>NOT</u> detected a <u>clear relationship</u> among features ffill/bfill methods to fill missing values would be prefered to maintain the current proportionality.\n",
    "</div>"
   ]
  },
  {
   "cell_type": "code",
   "execution_count": null,
   "metadata": {},
   "outputs": [],
   "source": [
    "# Let's replace dash/hyphen sign \"-\" with np.nan\n",
    "\n",
    "df[\"upholstery\"].replace(\"-\", np.nan, inplace=True)"
   ]
  },
  {
   "cell_type": "code",
   "execution_count": null,
   "metadata": {},
   "outputs": [],
   "source": [
    "# This DEF fills missing values in \"upholstery\" using forward fill based on \"make_model\" and \"body_type\"\n",
    "\n",
    "fill(df, \"make_model\", \"body_type\", \"upholstery\", \"ffill\")"
   ]
  },
  {
   "cell_type": "markdown",
   "metadata": {},
   "source": [
    "## comfort_&_convenience"
   ]
  },
  {
   "cell_type": "code",
   "execution_count": null,
   "metadata": {},
   "outputs": [],
   "source": [
    "# Let's explore basic information about \"comfort_&_convenience\"\n",
    "\n",
    "first_looking(\"comfort_&_convenience\")"
   ]
  },
  {
   "cell_type": "code",
   "execution_count": null,
   "metadata": {},
   "outputs": [],
   "source": [
    "# This DEF will fill the missing values in the \"comfort_&_convenience\" with the mode value based on \"make_model\" and \"body_type\"\n",
    "\n",
    "fill(df, \"make_model\", \"body_type\", \"comfort_&_convenience\", \"mode\")"
   ]
  },
  {
   "cell_type": "code",
   "execution_count": null,
   "metadata": {},
   "outputs": [],
   "source": [
    "# df['comfort_&_convenience'].str.split(',', expand=True).stack().str.strip().explode().unique()"
   ]
  },
  {
   "cell_type": "code",
   "execution_count": null,
   "metadata": {},
   "outputs": [],
   "source": [
    "# If you want to see more, full string for each row/observation, use the following\n",
    "# pd.set_option('display.max_colwidth', -1)\n",
    "\n",
    "# df['comfort_&_convenience']"
   ]
  },
  {
   "cell_type": "markdown",
   "metadata": {},
   "source": [
    "### 📝 Some Remarks on Comfort & Conveniance Features of Cars:\n",
    "\n",
    "**Let us define ``\"Comfort & Conveniance Packages\"`` for vehicles based on Domain Knowledge:**\n",
    "\n",
    "Here are general definitions of standard, premium, and premium comfort & convenience packages for vehicles:\n",
    "\n",
    "  - **``Standard Package``**: The Standard Package is the base configuration for a vehicle model, and typically includes basic features and equipment. This may include things like air conditioning, power windows and locks, and a basic audio system.\n",
    "\n",
    "  - **``Premium Package``**: The Premium Package is an upgrade to the standard package and usually includes additional or enhanced features and equipment. This may include features like leather seats, a premium audio system, a sunroof/moonroof, and advanced driver assistance systems (ADAS) such as blind spot monitoring or lane departure warning.\n",
    "\n",
    "  - **``Premium Plus Package``**: The Premium Plus Package is another upgrade to the premium package and typically includes additional luxury features that enhance the driving experience. This may include features like heated and ventilated seats, a power-adjustable steering wheel, a larger infotainment display, and a premium sound system.\n",
    "\n",
    "Keep in mind that the specific features and equipment included in each package can vary depending on the vehicle make and model. Additionally, some features may be available as standalone options or bundled with other packages. It's always a good idea to review the specific details of each package to determine which one best fits your needs and budget."
   ]
  },
  {
   "cell_type": "code",
   "execution_count": null,
   "metadata": {},
   "outputs": [],
   "source": [
    "# display all unique values in \"comfort_&_convenience\"\n",
    "# pd.set_option('display.max_rows', None)\n",
    "\n",
    "df['comfort_&_convenience'].unique()"
   ]
  },
  {
   "cell_type": "code",
   "execution_count": null,
   "metadata": {},
   "outputs": [],
   "source": [
    "# reset the 'max_rows' option to its default value\n",
    "# pd.reset_option('display.max_rows')"
   ]
  },
  {
   "cell_type": "code",
   "execution_count": null,
   "metadata": {},
   "outputs": [],
   "source": [
    "premium = [\"Electrical side mirrors\", \"Parking assist\", \"Air conditioning\", \"Hill Holder\", \"Power windows\"]\n",
    "premium_plus = [\"Multi-function\", \"Navigation \", \"Keyless central door lock\", \"Heads-up\", \"Massage seats\", \"heating\", \"Automatic climate control\", \"Heated\"]\n",
    "\n",
    "comfort_package = df['comfort_&_convenience'].apply(lambda sentence: \"Premium Plus\" if all(word in sentence for word in premium_plus) else (\"Premium\" if all(word in sentence for word in premium) else \"Standard\"))\n",
    "comfort_package.value_counts(dropna=False)"
   ]
  },
  {
   "cell_type": "markdown",
   "metadata": {},
   "source": [
    "**Let us assign each car to related ``\"Comfort & Conveniance Packages\"`` defined above:**"
   ]
  },
  {
   "cell_type": "code",
   "execution_count": null,
   "metadata": {},
   "outputs": [],
   "source": [
    "# # To see maximum column width\n",
    "# pd.set_option('display.max_colwidth', None)\n",
    "\n",
    "# # To reset maximum column width OR all options\n",
    "# pd.reset_option('display.max_colwidth', silent=True)\n",
    "# pd.reset_option('^display.', silent=True)\n",
    "# reset_option('all')\n",
    "\n",
    "premium = [\"Electrical side mirrors\", \"Parking assist\", \"Air conditioning\", \"Hill Holder\", \"Power windows\"]\n",
    "premium_plus = [\"Multi-function\", \"Navigation \", \"Keyless central door lock\", \"Heads-up\", \"Massage seats\", \"heating\", \"Automatic climate control\", \"Heated\"]\n",
    "\n",
    "df['comfort_&_convenience_Package'] = df['comfort_&_convenience'].apply(lambda sentence: \"Premium Plus\" if all(word in sentence for word in premium_plus) else (\"Premium\" if all(word in sentence for word in premium) else \"Standard\"))\n",
    "df[[\"make_model\", \"body_type\", \"type\", \"mileage\", \"gearbox\", \"fuel_type\", \"age\", \"energy_efficiency_class\", \"power_kW\", \"cons_avg\", \"comfort_&_convenience\", \"comfort_&_convenience_Package\", \"price\"]].head()"
   ]
  },
  {
   "cell_type": "code",
   "execution_count": null,
   "metadata": {},
   "outputs": [],
   "source": [
    "# There is no need for old 'comfort_&_convenience' since a new feature of 'comfort_&_convenience_Package' is created\n",
    "\n",
    "display(df.shape)  # the number of rows & columns BEFORE dropping process\n",
    "df.drop(\"comfort_&_convenience\", axis=1, inplace=True)\n",
    "display(df.shape)  # the number of rows & columns AFTER dropping process"
   ]
  },
  {
   "cell_type": "markdown",
   "metadata": {},
   "source": [
    "## entertainment_&_media"
   ]
  },
  {
   "cell_type": "code",
   "execution_count": null,
   "metadata": {},
   "outputs": [],
   "source": [
    "# Let's explore basic information about \"entertainment_&_media\"\n",
    "\n",
    "first_looking(\"entertainment_&_media\")"
   ]
  },
  {
   "cell_type": "code",
   "execution_count": null,
   "metadata": {},
   "outputs": [],
   "source": [
    "# This DEF will fill the missing values in the \"entertainment_&_media\" with the mode value based on \"make_model\" and \"body_type\"\n",
    "\n",
    "fill(df, \"make_model\", \"body_type\", \"entertainment_&_media\", \"mode\")"
   ]
  },
  {
   "cell_type": "markdown",
   "metadata": {},
   "source": [
    "### 📝 Some Remarks on Comfort & Conveniance Features of Cars:\n",
    "\n",
    "**Let us define car ``\"Entertainment & Media Packages\"``:**\n",
    "\n",
    "Here are some general definitions of standard and plus Entertainment & Media Packages for vehicles:\n",
    "\n",
    "  - **``Standard Entertainment & Media Package``**: The standard Entertainment & Media Package is a basic configuration for a vehicle's infotainment system. This package typically includes features such as an AM/FM radio, Bluetooth connectivity, and a basic audio system. It may also include a small touchscreen display for accessing media and vehicle settings.\n",
    "\n",
    "  - **``Premium/Plus Entertainment & Media Package``**: The Premium/Plus Entertainment & Media Package is an upgrade to the standard package, and typically includes additional features and capabilities. This may include a larger touchscreen display with higher resolution, support for satellite radio, a premium audio system, and additional connectivity options such as Apple CarPlay and Android Auto. It may also include additional safety features such as a backup camera or parking sensors.\n",
    "\n",
    "It's worth noting that the specific features and equipment included in each package can vary depending on the vehicle make and model. Additionally, some features may be available as standalone options or bundled with other packages. It's always a good idea to review the specific details of each package to determine which one best fits your needs and budget."
   ]
  },
  {
   "cell_type": "code",
   "execution_count": null,
   "metadata": {
    "scrolled": true
   },
   "outputs": [],
   "source": [
    "# display all unique values in \"entertainment_&_media\"\n",
    "# pd.set_option('display.max_rows', None)\n",
    "\n",
    "df['entertainment_&_media'].unique()"
   ]
  },
  {
   "cell_type": "code",
   "execution_count": null,
   "metadata": {},
   "outputs": [],
   "source": [
    "# reset the 'max_rows' option to its default value\n",
    "# pd.reset_option('display.max_rows')"
   ]
  },
  {
   "cell_type": "code",
   "execution_count": null,
   "metadata": {},
   "outputs": [],
   "source": [
    "# df[df['entertainment_&_media'].str.contains(\"Apple\")]"
   ]
  },
  {
   "cell_type": "markdown",
   "metadata": {},
   "source": [
    "### Option 1:"
   ]
  },
  {
   "cell_type": "code",
   "execution_count": null,
   "metadata": {},
   "outputs": [],
   "source": [
    "media_plus = [\"Digital\", \"Television\"]\n",
    "\n",
    "# media_plus = [\"Digital radio\", \"Hands-free\", \"Television\"]\n",
    "\n",
    "entertainment_media_package = df['entertainment_&_media'].apply(lambda sentence: \"Premium Media\" if any(word in sentence for word in media_plus) else \"Standard Media\")\n",
    "entertainment_media_package.value_counts(dropna=False)"
   ]
  },
  {
   "cell_type": "markdown",
   "metadata": {},
   "source": [
    "### Option 2:"
   ]
  },
  {
   "cell_type": "code",
   "execution_count": null,
   "metadata": {},
   "outputs": [],
   "source": [
    "# media_plus = [\"Digital\", \"Television\"]\n",
    "\n",
    "media_plus = [\"Digital radio\", \"Hands-free\", \"Television\", \"Induction charging for smartphones\", \"Apple\"]\n",
    "\n",
    "entertainment_media_package = df['entertainment_&_media'].apply(lambda sentence: \"Premium Media\" if any(word in sentence for word in media_plus) else \"Standard Media\")\n",
    "entertainment_media_package.value_counts(dropna=False)"
   ]
  },
  {
   "cell_type": "markdown",
   "metadata": {},
   "source": [
    "**Let us assign each car to the corresponding ``\"Entertainment & Media Packages\"`` defined above:**"
   ]
  },
  {
   "cell_type": "code",
   "execution_count": null,
   "metadata": {},
   "outputs": [],
   "source": [
    "media_plus = [\"Digital radio\", \"Hands-free\", \"Television\", \"Induction charging for smartphones\", \"Apple\"]\n",
    "\n",
    "df['entertainment_&_media_Package'] = df['entertainment_&_media'].apply(lambda sentence: \"Premium Media\" if any(word in sentence for word in media_plus) else \"Standard Media\")\n",
    "df[[\"make_model\", \"body_type\", \"type\", \"mileage\", \"gearbox\", \"fuel_type\", \"age\", \"power_kW\", \"cons_avg\", \"energy_efficiency_class\", \"comfort_&_convenience_Package\", 'entertainment_&_media', 'entertainment_&_media_Package', \"price\"]].head()"
   ]
  },
  {
   "cell_type": "code",
   "execution_count": null,
   "metadata": {},
   "outputs": [],
   "source": [
    "# There is no need for old 'entertainment_&_media' since a new feature of 'entertainment_&_media_Package' is created\n",
    "\n",
    "display(df.shape)  # the number of rows & columns BEFORE dropping process\n",
    "df.drop(\"entertainment_&_media\", axis=1, inplace=True)\n",
    "display(df.shape)  # the number of rows & columns AFTER dropping process"
   ]
  },
  {
   "cell_type": "markdown",
   "metadata": {},
   "source": [
    "## extras"
   ]
  },
  {
   "cell_type": "code",
   "execution_count": null,
   "metadata": {},
   "outputs": [],
   "source": [
    "# Let's explore basic information about \"extras\"\n",
    "\n",
    "first_looking(\"extras\")"
   ]
  },
  {
   "cell_type": "code",
   "execution_count": null,
   "metadata": {},
   "outputs": [],
   "source": [
    "# This DEF will fill the missing values in the \"extras\" with the mode value based on \"make_model\" and \"body_type\"\n",
    "\n",
    "fill(df, \"make_model\", \"body_type\", \"extras\", \"mode\")"
   ]
  },
  {
   "cell_type": "markdown",
   "metadata": {},
   "source": [
    "## safety_&_security"
   ]
  },
  {
   "cell_type": "code",
   "execution_count": null,
   "metadata": {},
   "outputs": [],
   "source": [
    "# Let's explore basic information about \"safety_&_security\"\n",
    "\n",
    "first_looking(\"safety_&_security\")"
   ]
  },
  {
   "cell_type": "code",
   "execution_count": null,
   "metadata": {},
   "outputs": [],
   "source": [
    "# This DEF will fill the missing values in the \"safety_&_security\" with the mode value based on \"make_model\" and \"body_type\"\n",
    "\n",
    "fill(df, \"make_model\", \"body_type\", \"safety_&_security\", \"mode\")"
   ]
  },
  {
   "cell_type": "markdown",
   "metadata": {},
   "source": [
    "### 📝 Some Remarks on Safety & Security Features of Cars:\n",
    "\n",
    "**Let us define car ``\"Safety & Security Packages\"``:**\n",
    "\n",
    "Here are some general definitions of standard, premium, and premium plus Safety & Security Packages for vehicles:\n",
    "\n",
    "  - **``Standard Safety & Security Package``**: The standard Safety & Security Package is the base configuration for a vehicle's safety features and equipment. This package typically includes basic safety features such as anti-lock brakes, traction control, and stability control. It may also include some passive safety features such as airbags and a backup camera.\n",
    "\n",
    "  - **``Premium Safety & Security Package``**: The Premium Safety & Security Package is an upgrade to the standard package, and typically includes additional safety features and capabilities. This may include advanced driver assistance systems (ADAS) such as blind spot monitoring, lane departure warning, and forward collision warning with automatic emergency braking. It may also include additional passive safety features such as more airbags, automatic high beams, and adaptive headlights.\n",
    "\n",
    "  - **``Premium Plus Safety & Security Package``**: The Premium Plus Safety & Security Package is another upgrade to the Premium package, and typically includes the most advanced and comprehensive safety features and capabilities. This may include features such as a 360-degree camera system, adaptive cruise control, and lane keeping assist. It may also include additional passive safety features such as a reinforced body structure, improved crash protection, and advanced tire pressure monitoring.\n",
    "  \n",
    "It's important to note that the specific features and equipment included in each package can vary depending on the vehicle make and model. Additionally, some features may be available as standalone options or bundled with other packages. It's always a good idea to review the specific details of each package to determine which one best fits your needs and budget."
   ]
  },
  {
   "cell_type": "code",
   "execution_count": null,
   "metadata": {},
   "outputs": [],
   "source": [
    "# display all unique values in \"safety_&_security\"\n",
    "# pd.set_option('display.max_rows', None)\n",
    "\n",
    "df['safety_&_security'].unique()"
   ]
  },
  {
   "cell_type": "code",
   "execution_count": null,
   "metadata": {},
   "outputs": [],
   "source": [
    "# reset the 'max_rows' option to its default value\n",
    "# pd.reset_option('display.max_rows')"
   ]
  },
  {
   "cell_type": "code",
   "execution_count": null,
   "metadata": {},
   "outputs": [],
   "source": [
    "# df[df['safety_&_security'].str.contains(\"Adaptive\")]"
   ]
  },
  {
   "cell_type": "markdown",
   "metadata": {},
   "source": [
    "**Let us define some ``\"Safety & Security Packages\"`` based on the Domain Knowledge above and assign each car to the corresponding package:**"
   ]
  },
  {
   "cell_type": "code",
   "execution_count": null,
   "metadata": {},
   "outputs": [],
   "source": [
    "premium = [\"Tire pressure\", \"Daytime running lights\", \"LED Headlight\", \"Lane departure warning system\"]\n",
    "premium_plus = [\"Traction control\", \"Emergency brake assistant\", \"Electronic stability control\", \"Adaptive\"]\n",
    "\n",
    "safety_security_package = df['safety_&_security'].apply(lambda sentence: \"Safety Premium Package\" if all(word in sentence for word in premium) else (\"Safety Premium Plus Package\" if all(word in sentence for word in premium_plus) else \"Safety Standard Package\"))\n",
    "safety_security_package.value_counts(dropna=False)"
   ]
  },
  {
   "cell_type": "code",
   "execution_count": null,
   "metadata": {},
   "outputs": [],
   "source": [
    "premium = [\"Tire pressure\", \"Daytime running lights\", \"LED Headlight\", \"Lane departure warning system\"]\n",
    "premium_plus = [\"Traction control\", \"Emergency brake assistant\", \"Electronic stability control\", \"Adaptive\"]\n",
    "\n",
    "df['safety_&_security_Package'] = df['safety_&_security'].apply(lambda sentence: \"Safety Premium Package\" if all(word in sentence for word in premium) else (\"Safety Premium Plus Package\" if all(word in sentence for word in premium_plus) else \"Safety Standard Package\"))\n",
    "df[[\"make_model\", \"body_type\", \"type\", \"mileage\", \"gearbox\", \"fuel_type\", \"age\", \"power_kW\", \"cons_avg\", \"energy_efficiency_class\", \"comfort_&_convenience_Package\", 'entertainment_&_media_Package', 'safety_&_security', 'safety_&_security_Package', \"extras\", \"price\"]].head()"
   ]
  },
  {
   "cell_type": "code",
   "execution_count": null,
   "metadata": {},
   "outputs": [],
   "source": [
    "# There is no need for old 'safety_&_security' since a new feature of 'safety_&_security_Package' is created\n",
    "\n",
    "display(df.shape)  # the number of rows & columns BEFORE dropping process\n",
    "df.drop(\"safety_&_security\", axis=1, inplace=True)\n",
    "display(df.shape)  # the number of rows & columns AFTER dropping process"
   ]
  },
  {
   "cell_type": "markdown",
   "metadata": {},
   "source": [
    "## End of this phase"
   ]
  },
  {
   "cell_type": "code",
   "execution_count": null,
   "metadata": {},
   "outputs": [],
   "source": [
    "df.head()"
   ]
  },
  {
   "cell_type": "code",
   "execution_count": null,
   "metadata": {},
   "outputs": [],
   "source": [
    "df.shape"
   ]
  },
  {
   "cell_type": "code",
   "execution_count": null,
   "metadata": {},
   "outputs": [],
   "source": [
    "df.info()"
   ]
  },
  {
   "cell_type": "code",
   "execution_count": null,
   "metadata": {},
   "outputs": [],
   "source": [
    "class color:\n",
    "    PURPLE = '\\033[95m'\n",
    "    CYAN = '\\033[96m'\n",
    "    DARKCYAN = '\\033[36m'\n",
    "    BLUE = '\\033[94m'\n",
    "    GREEN = '\\033[92m'\n",
    "    YELLOW = '\\033[93m'\n",
    "    RED = '\\033[91m'\n",
    "    BOLD = '\\033[1m'\n",
    "    UNDERLINE = '\\033[4m'\n",
    "    END = '\\033[0m'\n",
    "\n",
    "def check_obj_columns(df):\n",
    "    '''\n",
    "    Returns NO PROBLEM or column/s which has/have mixed object types.\n",
    "    '''    \n",
    "    \n",
    "    tdf = df.select_dtypes(include=['object']).applymap(type)\n",
    "    for col in tdf:\n",
    "        if len(set(tdf[col].values)) > 1:\n",
    "            print(\"Column\" + \" \" + color.BOLD + color.RED + col + color.END + \" \" + \"has mixed object types.\" )\n",
    "    else:\n",
    "        if len(set(tdf[col].values)) == 1:\n",
    "            print(color.BOLD + color.GREEN + \" \" + \"NO PROBLEM\" + \" \" + color.END + \" \" + \"with the data types of Columns in the DataFrame.\")\n",
    "\n",
    "check_obj_columns(df)"
   ]
  },
  {
   "cell_type": "code",
   "execution_count": null,
   "metadata": {},
   "outputs": [],
   "source": [
    "df.isnull().sum()*100 / df.shape[0]"
   ]
  },
  {
   "cell_type": "code",
   "execution_count": null,
   "metadata": {},
   "outputs": [],
   "source": [
    "df.duplicated(keep=False).sum()\n",
    "\n",
    "# At the beginning of this notebook, it was 3861"
   ]
  },
  {
   "cell_type": "code",
   "execution_count": null,
   "metadata": {},
   "outputs": [],
   "source": [
    "df[df.duplicated(keep=False)]"
   ]
  },
  {
   "cell_type": "markdown",
   "metadata": {},
   "source": [
    "**Let us save our dataset with a csv extension for further analysis (Handling Outliers) in the following notebook:**"
   ]
  },
  {
   "cell_type": "code",
   "execution_count": null,
   "metadata": {},
   "outputs": [],
   "source": [
    "df.to_csv(\"filled_scout2022.csv\", index=False)"
   ]
  },
  {
   "cell_type": "markdown",
   "metadata": {},
   "source": [
    "<a id=\"10\"></a>\n",
    "<a href=\"#toc\" class=\"btn btn-primary btn-sm\" role=\"button\" aria-pressed=\"true\" \n",
    "style=\"color:blue; background-color:#dfa8e4\" data-toggle=\"popover\">Content</a>\n",
    "\n",
    "## <p style=\"background-color:#FDFEFE; font-family:newtimeroman; color:#9d4f8c; font-size:150%; text-align:center; border-radius:10px 10px;\">The End of Handling with Missing Values (Part - 02)</p>\n",
    "\n",
    "\n",
    "<p style=\"text-align: center;\"><img src=\"https://i.ibb.co/99DQ3TY/DS-Courses.png\" class=\"img-fluid\" \n",
    "alt=\"CLRSWY\"></p>\n",
    "\n",
    "<a href=\"https://clarusway.com/\"><img align=\"center\" src=\"https://docs.google.com/uc?id=1lY0Uj5R04yMY3-ZppPWxqCr5pvBLYPnV\" alt=\"CLRSWY\" title=\"Way to Reinvent Yourself\"></a><br/>\n",
    "\n",
    "\n",
    "## <p style=\"background-color:#FDFEFE; font-family:newtimeroman; color:#9d4f8c; font-size:120%; text-align:center; border-radius:10px 10px;\">Way to Reinvent Yourself</p>\n",
    "___"
   ]
  },
  {
   "cell_type": "markdown",
   "metadata": {
    "deletable": false,
    "editable": false
   },
   "source": [
    "<a href=\"https://clarusway.com/contact-us/\"><img align=\"center\" src=\"https://i.ibb.co/B43qn24/officially-licensed-logo.png\" alt=\"Open in Clarusway LMS\" width=\"110\" height=\"200\" title=\"This notebook is licensed by Clarusway IT training school. Please contact the authorized persons about the conditions under which you can use or share.\"></a>"
   ]
  }
 ],
 "metadata": {
  "kernelspec": {
   "display_name": "Python 3 (ipykernel)",
   "language": "python",
   "name": "python3"
  },
  "language_info": {
   "codemirror_mode": {
    "name": "ipython",
    "version": 3
   },
   "file_extension": ".py",
   "mimetype": "text/x-python",
   "name": "python",
   "nbconvert_exporter": "python",
   "pygments_lexer": "ipython3",
   "version": "3.10.9"
  },
  "toc": {
   "base_numbering": 1,
   "nav_menu": {},
   "number_sections": false,
   "sideBar": true,
   "skip_h1_title": false,
   "title_cell": "Table of Contents",
   "title_sidebar": "Contents",
   "toc_cell": false,
   "toc_position": {
    "height": "calc(100% - 180px)",
    "left": "10px",
    "top": "150px",
    "width": "200.135px"
   },
   "toc_section_display": true,
   "toc_window_display": true
  }
 },
 "nbformat": 4,
 "nbformat_minor": 4
}
